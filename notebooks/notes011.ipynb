{
 "cells": [
  {
   "cell_type": "code",
   "execution_count": 1,
   "metadata": {},
   "outputs": [
    {
     "name": "stdout",
     "output_type": "stream",
     "text": [
      "include group.jl for user defined matrix generators\n",
      "verify download of index files...\n",
      "reading database\n",
      "adding metadata...\n",
      "adding svd data...\n",
      "writing database\n",
      "used remote sites are sparse.tamu.edu with MAT index and math.nist.gov with HTML index\n"
     ]
    }
   ],
   "source": [
    "using DrWatson;\n",
    "@quickactivate \"NumericalAnalysis\"\n",
    "using LinearAlgebra, Latexify, MatrixDepot, DataFrames, StatsPlots;\n",
    "import NumericalAnalysis;"
   ]
  },
  {
   "cell_type": "markdown",
   "metadata": {},
   "source": [
    "# Conditioning and Error Estimation for Linear Systems\n",
    "\n",
    "This lecture covers error estimation and conditioning in the context of the problem of solving systems of linear equations. \n",
    "\n",
    "We recommend watching [this lecture video](https://www.youtube.com/watch?v=3Fv_hdfPJ6A&list=PLvUvOH0OYx3BcZivtXMIwP6hKoYv0YvGn&index=12&t=44s) as a suplement to this lecture.  "
   ]
  },
  {
   "cell_type": "markdown",
   "metadata": {},
   "source": [
    "Let's take a minute to reflect on the general concept of conditioning introduced in a previous lecture. \n",
    "\n",
    "> Intuitively, the *conditioning* of a problem measures how sensitive it is to small changes (perturbations) in the data; if the problem is very sensitive, it is inherently more difficult to solve using finite precision arithmetic. Quoted from [*Scientific Computing*](https://link.springer.com/book/10.1007/978-3-319-04325-8) by Gander, Gander, and Kwok.\n",
    "  \n",
    "\n",
    "The *condition number* measures the conditioning of a problem. "
   ]
  },
  {
   "cell_type": "markdown",
   "metadata": {},
   "source": [
    "The point here is that if a problem is ill-conditioned (this being determined by the value of the condition number) then we are unlikely to be able to find a suitable algorithm for solving the problem. Again we highlight that conditioning is a property of a problem and is independent of any particular method of solving the problem. "
   ]
  },
  {
   "cell_type": "markdown",
   "metadata": {},
   "source": [
    "For a linear system $Ax=b$, the **data** are the matrix $A$ and vector $b$ and the **solution** is the vector $x$. We use vector and matrix norms to measure small changes in the data for a linear system. Furthermore, the condition number for a linear system will be expressed in terms of matrix norms. That is, if $A$ is a matrix and $\\|\\cdot\\|_{p}$ is a matrix norm, the condition number of $A$ with respect to the norm $\\|\\cdot\\|_{p}$ is denoted by $\\kappa_{p}(A)$ and defined to be\n",
    "\n",
    "$$\\kappa_{p}(A) = \\|A\\|_{p}\\|A^{-1}\\|_{p}.$$\n",
    "\n",
    "Let's discuss how this expression arises and then look at some examples. "
   ]
  },
  {
   "cell_type": "markdown",
   "metadata": {},
   "source": [
    "There are two ways in which the problem data can be perturbed, either a perturbation to the matrix $A$ or a perturbation to the vector $b$. For now, we consider only a perturbation to the vector $b$. Suppose that \n",
    "\n",
    "1) $x$ is the exact solution to $Ax=b$, and\n",
    "\n",
    "2) $b + \\beta $ is a (small) perturbation to $b$. \n",
    "\n",
    "Now, $x+\\xi$ is the solution to $A(x+\\xi) = b + \\beta$. Finally, since $A(x+\\xi) = Ax + A\\xi = b + \\beta$ and $Ax=b$ we have that $A\\xi = \\beta$ and thus $\\xi = A^{-1}\\beta$, provided that $A$ is invertible. "
   ]
  },
  {
   "cell_type": "markdown",
   "metadata": {},
   "source": [
    "To determine the conditioning of the problem $Ax=b$ we need to examine the ratio of the relative change in output to the relative change in the input. That is\n",
    "\n",
    "$$\\frac{\\frac{\\|x+\\xi - x\\|}{\\|x\\|}}{\\frac{\\|b+\\beta - b\\|}{\\|b\\|}} = \\frac{\\frac{\\|\\xi\\|}{\\|x\\|}}{\\frac{\\|\\beta\\|}{\\|b\\|}}=\\frac{\\|\\xi\\|}{\\|\\beta\\|}\\frac{\\|b\\|}{\\|x\\|} = \\frac{\\|A^{-1}\\beta\\|}{\\|\\beta\\|}\\frac{\\|Ax\\|}{\\|x\\|}\\leq \\frac{\\|A^{-1}\\|_{p}\\|\\beta\\|}{\\|\\beta\\|}\\frac{\\|A\\|_{p}\\|x\\|}{\\|x\\|}=\\|A^{-1}\\|_{p}\\|A\\|_{p}$$"
   ]
  },
  {
   "cell_type": "markdown",
   "metadata": {},
   "source": [
    "The previous manipulation demonstrates that perturbations to the problem data $b$ result in a ratio of relative change in output to the relative change in the input that is bounded by the quantity $\\|A^{-1}\\|_{p}\\|A\\|_{p}$. One may also show that the same expression arises as a bound for perturbations to the problem data $A$. This is why we define the **condition number** for a linear system to be\n",
    "\n",
    "$$\\kappa_{p}(A) = \\|A\\|_{p}\\|A^{-1}\\|_{p}.$$\n",
    "\n",
    "Either when it is clear from context or irrelevant which matrix norm is being used, we will simply write $\\kappa(A)$ for the condition number of a matrix $A$. "
   ]
  },
  {
   "cell_type": "markdown",
   "metadata": {},
   "source": [
    "**An observation:** In the homework you will show that if $I$ is the indentity matrix and $\\|\\cdot\\|$ is a matrix norm induced by a vector norm, then $\\|I\\|=1$. Now\n",
    "\n",
    "$$1 = \\|I\\| = \\|AA^{-1}\\| \\leq \\|A\\|\\|A^{-1}\\| = \\kappa(A).$$\n",
    "\n",
    "Because of this, if a matrix $A$ **has a condition number that is greater than 1** we say that $A$ is **ill-conditioned.** A linear system $Ax=b$ with a matrix $A$ that is ill-conditioned is said to be an ill-conditioned linear system. \n",
    "\n",
    "**Note:** If $A$ is a singular matrix, then we define $\\kappa(A) = \\infty$. If $\\kappa(A) > \\frac{1}{\\epsilon_{\\text{mach}}}$, then we say that $A$ is *practically singular*."
   ]
  },
  {
   "cell_type": "markdown",
   "metadata": {},
   "source": [
    "Let's use Julia to explore the consequences of an ill-conditioned linear system. We will examine linear systems $Ax=b$ where $A$ is a [Hilbert matrix](https://en.wikipedia.org/wiki/Hilbert_matrix). That is, $A$ will be a matrix with entries satisfying $A_{ij} = \\frac{1}{i+j-1}$. Notice that a Hilbert matrix is a symmetric matrix. For example, the $5\\times 5$ Hilber matrix is    "
   ]
  },
  {
   "cell_type": "code",
   "execution_count": 2,
   "metadata": {},
   "outputs": [
    {
     "data": {
      "text/plain": [
       "5×5 Matrix{Float64}:\n",
       " 1.0       0.5       0.333333  0.25      0.2\n",
       " 0.5       0.333333  0.25      0.2       0.166667\n",
       " 0.333333  0.25      0.2       0.166667  0.142857\n",
       " 0.25      0.2       0.166667  0.142857  0.125\n",
       " 0.2       0.166667  0.142857  0.125     0.111111"
      ]
     },
     "execution_count": 2,
     "metadata": {},
     "output_type": "execute_result"
    }
   ],
   "source": [
    "A = matrixdepot(\"hilb\",5)"
   ]
  },
  {
   "cell_type": "markdown",
   "metadata": {},
   "source": [
    "Note that this matrix is a symmetric matrix with rational entries as follows: "
   ]
  },
  {
   "cell_type": "code",
   "execution_count": 3,
   "metadata": {},
   "outputs": [
    {
     "data": {
      "text/latex": [
       "\\begin{equation}\n",
       "\\left[\n",
       "\\begin{array}{ccccc}\n",
       "1 & \\frac{1}{2} & \\frac{1}{3} & \\frac{1}{4} & \\frac{1}{5} \\\\\n",
       "\\frac{1}{2} & \\frac{1}{3} & \\frac{1}{4} & \\frac{1}{5} & \\frac{1}{6} \\\\\n",
       "\\frac{1}{3} & \\frac{1}{4} & \\frac{1}{5} & \\frac{1}{6} & \\frac{1}{7} \\\\\n",
       "\\frac{1}{4} & \\frac{1}{5} & \\frac{1}{6} & \\frac{1}{7} & \\frac{1}{8} \\\\\n",
       "\\frac{1}{5} & \\frac{1}{6} & \\frac{1}{7} & \\frac{1}{8} & \\frac{1}{9} \\\\\n",
       "\\end{array}\n",
       "\\right]\n",
       "\\end{equation}\n"
      ],
      "text/plain": [
       "L\"\\begin{equation}\n",
       "\\left[\n",
       "\\begin{array}{ccccc}\n",
       "1 & \\frac{1}{2} & \\frac{1}{3} & \\frac{1}{4} & \\frac{1}{5} \\\\\n",
       "\\frac{1}{2} & \\frac{1}{3} & \\frac{1}{4} & \\frac{1}{5} & \\frac{1}{6} \\\\\n",
       "\\frac{1}{3} & \\frac{1}{4} & \\frac{1}{5} & \\frac{1}{6} & \\frac{1}{7} \\\\\n",
       "\\frac{1}{4} & \\frac{1}{5} & \\frac{1}{6} & \\frac{1}{7} & \\frac{1}{8} \\\\\n",
       "\\frac{1}{5} & \\frac{1}{6} & \\frac{1}{7} & \\frac{1}{8} & \\frac{1}{9} \\\\\n",
       "\\end{array}\n",
       "\\right]\n",
       "\\end{equation}\n",
       "\""
      ]
     },
     "metadata": {},
     "output_type": "display_data"
    }
   ],
   "source": [
    "latexify([1 1//2 1//3 1//4 1//5; 1//2 1//3 1//4 1//5 1//6; 1//3 1//4 1//5 1//6 1//7; 1//4 1//5 1//6 1//7 1//8; 1//5 1//6 1//7 1//8 1//9]) |> display"
   ]
  },
  {
   "cell_type": "markdown",
   "metadata": {},
   "source": [
    "We can use Julia to compute condition numbers of matrices. For example,"
   ]
  },
  {
   "cell_type": "code",
   "execution_count": 4,
   "metadata": {},
   "outputs": [
    {
     "data": {
      "text/plain": [
       "476607.25024259434"
      ]
     },
     "execution_count": 4,
     "metadata": {},
     "output_type": "execute_result"
    }
   ],
   "source": [
    "cond(A)"
   ]
  },
  {
   "cell_type": "markdown",
   "metadata": {},
   "source": [
    "Note that the default is the condition number with respect to the 2-norm."
   ]
  },
  {
   "cell_type": "code",
   "execution_count": 5,
   "metadata": {},
   "outputs": [
    {
     "data": {
      "text/plain": [
       "476607.25024259434"
      ]
     },
     "execution_count": 5,
     "metadata": {},
     "output_type": "execute_result"
    }
   ],
   "source": [
    "cond(A,2)"
   ]
  },
  {
   "cell_type": "markdown",
   "metadata": {},
   "source": [
    "To compute a condition number with respect to a different norm simpy change the value of the optional argument. "
   ]
  },
  {
   "cell_type": "code",
   "execution_count": 6,
   "metadata": {},
   "outputs": [
    {
     "data": {
      "text/plain": [
       "943656.0000063397"
      ]
     },
     "execution_count": 6,
     "metadata": {},
     "output_type": "execute_result"
    }
   ],
   "source": [
    "cond(A,1)"
   ]
  },
  {
   "cell_type": "code",
   "execution_count": 7,
   "metadata": {},
   "outputs": [
    {
     "data": {
      "text/plain": [
       "943656.0000063629"
      ]
     },
     "execution_count": 7,
     "metadata": {},
     "output_type": "execute_result"
    }
   ],
   "source": [
    "cond(A,Inf)"
   ]
  },
  {
   "cell_type": "markdown",
   "metadata": {},
   "source": [
    "**Question:** Why are the condition numbers with respect to the 1-norm and $\\infty$-norm for this particular matrix so close? "
   ]
  },
  {
   "cell_type": "markdown",
   "metadata": {},
   "source": [
    "Here are the condition numbers for many different sized Hilbert matrices:"
   ]
  },
  {
   "cell_type": "code",
   "execution_count": 8,
   "metadata": {},
   "outputs": [
    {
     "name": "stdout",
     "output_type": "stream",
     "text": [
      "The condition number for the 5 by 5 Hilbert matrix is 476607.25024259434\n",
      "The condition number for the 6 by 6 Hilbert matrix is 1.4951058642254665e7\n",
      "The condition number for the 7 by 7 Hilbert matrix is 4.75367356583129e8\n",
      "The condition number for the 8 by 8 Hilbert matrix is 1.5257575538060041e10\n",
      "The condition number for the 9 by 9 Hilbert matrix is 4.931537564468762e11\n",
      "The condition number for the 10 by 10 Hilbert matrix is 1.6024416992541715e13\n",
      "The condition number for the 11 by 11 Hilbert matrix is 5.222677939280335e14\n",
      "The condition number for the 12 by 12 Hilbert matrix is 1.7514731907091464e16\n",
      "The condition number for the 13 by 13 Hilbert matrix is 3.344143497338461e18\n",
      "The condition number for the 14 by 14 Hilbert matrix is 6.200786263161444e17\n",
      "The condition number for the 15 by 15 Hilbert matrix is 3.674392953467974e17\n"
     ]
    }
   ],
   "source": [
    "for i in 5:15\n",
    "    println(\"The condition number for the $i by $i Hilbert matrix is \", cond(matrixdepot(\"hilb\",i)))\n",
    "end"
   ]
  },
  {
   "cell_type": "markdown",
   "metadata": {},
   "source": [
    "It appears that Hilbert matrices are ill-conditioned. What happens if we try to solve a linear system involving a Hilbert matrix? Let's do some experiments to see. What we will do is compare the computed solution of $Ax=b$ after a small perturbation with a known exact solution. We will create perturbations by rounding.   "
   ]
  },
  {
   "cell_type": "markdown",
   "metadata": {},
   "source": [
    "We begin our experiments using the $5\\times 5$ Hilbert matrix and construct a vector corresponding to a known solution:"
   ]
  },
  {
   "cell_type": "code",
   "execution_count": 9,
   "metadata": {},
   "outputs": [],
   "source": [
    "x = 0.1*[i for i in 1:5]\n",
    "b = A*x;"
   ]
  },
  {
   "cell_type": "markdown",
   "metadata": {},
   "source": [
    "Let's look at $x$ and $b$: "
   ]
  },
  {
   "cell_type": "code",
   "execution_count": 10,
   "metadata": {},
   "outputs": [
    {
     "name": "stdout",
     "output_type": "stream",
     "text": [
      "x = [0.1, 0.2, 0.30000000000000004, 0.4, 0.5]\n",
      "b = [0.5, 0.355, 0.2814285714285715, 0.23464285714285715, 0.20174603174603176]\n"
     ]
    }
   ],
   "source": [
    "println(\"x = \", x)\n",
    "println(\"b = \", b)"
   ]
  },
  {
   "cell_type": "markdown",
   "metadata": {},
   "source": [
    "Now we perturb $b$ by rounding:"
   ]
  },
  {
   "cell_type": "code",
   "execution_count": 11,
   "metadata": {},
   "outputs": [
    {
     "data": {
      "text/plain": [
       "5-element Vector{Float64}:\n",
       " 0.5\n",
       " 0.35499998927116394\n",
       " 0.28142857551574707\n",
       " 0.2346428632736206\n",
       " 0.20174603164196014"
      ]
     },
     "execution_count": 11,
     "metadata": {},
     "output_type": "execute_result"
    }
   ],
   "source": [
    "b_hat = Float64.(Float32.(b))"
   ]
  },
  {
   "cell_type": "markdown",
   "metadata": {},
   "source": [
    "Finally, let's solve $A\\hat{x}=\\hat{b}$ where $\\hat{b}$ is our rounded version of $b$: "
   ]
  },
  {
   "cell_type": "code",
   "execution_count": 12,
   "metadata": {},
   "outputs": [
    {
     "data": {
      "text/plain": [
       "5-element Vector{Float64}:\n",
       " 0.09999886155128926\n",
       " 0.20003736019124324\n",
       " 0.2998003363614152\n",
       " 0.4003387689582712\n",
       " 0.4998216032985813"
      ]
     },
     "execution_count": 12,
     "metadata": {},
     "output_type": "execute_result"
    }
   ],
   "source": [
    "x_hat = A \\ b_hat"
   ]
  },
  {
   "cell_type": "markdown",
   "metadata": {},
   "source": [
    "We can compute the relative error between the solutions $x$ and $\\hat{x}$:"
   ]
  },
  {
   "cell_type": "code",
   "execution_count": 13,
   "metadata": {},
   "outputs": [
    {
     "data": {
      "text/plain": [
       "0.0005844226967986365"
      ]
     },
     "execution_count": 13,
     "metadata": {},
     "output_type": "execute_result"
    }
   ],
   "source": [
    "rel_error = norm(x_hat-x)/norm(x)"
   ]
  },
  {
   "cell_type": "markdown",
   "metadata": {},
   "source": [
    "Compare this with the relative change in $b$:"
   ]
  },
  {
   "cell_type": "code",
   "execution_count": 14,
   "metadata": {},
   "outputs": [
    {
     "data": {
      "text/plain": [
       "1.7534740889108245e-8"
      ]
     },
     "execution_count": 14,
     "metadata": {},
     "output_type": "execute_result"
    }
   ],
   "source": [
    "norm(b_hat - b)/norm(b)"
   ]
  },
  {
   "cell_type": "markdown",
   "metadata": {},
   "source": [
    "Notice that the relative error between $x$ and $\\hat{x}$ is much larger than the relative error between $b$ and $\\hat{b}$. Let's redo our experiment for many different sized Hilbert matrices. What we will see is that small perturbations in the input data $b$ can lead to large errors in the output. "
   ]
  },
  {
   "cell_type": "markdown",
   "metadata": {},
   "source": [
    "We proceed by writing a function that does this for any size Hilbert matrix:"
   ]
  },
  {
   "cell_type": "code",
   "execution_count": 15,
   "metadata": {},
   "outputs": [
    {
     "data": {
      "text/plain": [
       "hilbert_error (generic function with 1 method)"
      ]
     },
     "execution_count": 15,
     "metadata": {},
     "output_type": "execute_result"
    }
   ],
   "source": [
    "function hilbert_error(n)\n",
    "    A = matrixdepot(\"hilb\",n);\n",
    "    kappa_A = cond(A);\n",
    "    x = 0.1*[i for i in 1:n];\n",
    "    b = A*x;\n",
    "    b_hat = Float64.(Float32.(b));\n",
    "    x_hat = A \\ b_hat;\n",
    "    rel_output = norm(x_hat-x)/norm(x);\n",
    "    rel_input = norm(b_hat-b)/norm(b);\n",
    "    return (size=n,condition_num=kappa_A,relative_input=rel_input, relative_output=rel_output)\n",
    "end"
   ]
  },
  {
   "cell_type": "markdown",
   "metadata": {},
   "source": [
    "The input of our function ```hilbert_error``` is the size of the desired Hilbert matrix, and the output of this function is the size of the matrix, the condition number of the matrix, the relative error of the input data, and the realtive error of the output data.  "
   ]
  },
  {
   "cell_type": "markdown",
   "metadata": {},
   "source": [
    "We test our function:"
   ]
  },
  {
   "cell_type": "code",
   "execution_count": 16,
   "metadata": {},
   "outputs": [
    {
     "data": {
      "text/plain": [
       "(size = 5, condition_num = 476607.25024259434, relative_input = 1.7534740889108245e-8, relative_output = 0.0005844226967986365)"
      ]
     },
     "execution_count": 16,
     "metadata": {},
     "output_type": "execute_result"
    }
   ],
   "source": [
    "rel_in, rel_out = hilbert_error(5)"
   ]
  },
  {
   "cell_type": "markdown",
   "metadata": {},
   "source": [
    "Now we will call our function for many different size matrices and convert the result to a data table:"
   ]
  },
  {
   "cell_type": "code",
   "execution_count": 17,
   "metadata": {},
   "outputs": [],
   "source": [
    "rel_errors = [hilbert_error(i) for i in 5:30];\n",
    "error_data = DataFrame();\n",
    "for n in rel_errors\n",
    "    push!(error_data, n);\n",
    "end"
   ]
  },
  {
   "cell_type": "markdown",
   "metadata": {},
   "source": [
    "We can examine the first few rows of our data table:"
   ]
  },
  {
   "cell_type": "code",
   "execution_count": 18,
   "metadata": {},
   "outputs": [
    {
     "data": {
      "text/html": [
       "<table class=\"data-frame\"><thead><tr><th></th><th>size</th><th>condition_num</th><th>relative_input</th><th>relative_output</th></tr><tr><th></th><th>Int64</th><th>Float64</th><th>Float64</th><th>Float64</th></tr></thead><tbody><p>5 rows × 4 columns</p><tr><th>1</th><td>5</td><td>4.76607e5</td><td>1.75347e-8</td><td>0.000584423</td></tr><tr><th>2</th><td>6</td><td>1.49511e7</td><td>3.39979e-8</td><td>0.10251</td></tr><tr><th>3</th><td>7</td><td>4.75367e8</td><td>2.30039e-8</td><td>2.16147</td></tr><tr><th>4</th><td>8</td><td>1.52576e10</td><td>2.31082e-8</td><td>48.0902</td></tr><tr><th>5</th><td>9</td><td>4.93154e11</td><td>2.82462e-8</td><td>775.012</td></tr></tbody></table>"
      ],
      "text/latex": [
       "\\begin{tabular}{r|cccc}\n",
       "\t& size & condition\\_num & relative\\_input & relative\\_output\\\\\n",
       "\t\\hline\n",
       "\t& Int64 & Float64 & Float64 & Float64\\\\\n",
       "\t\\hline\n",
       "\t1 & 5 & 4.76607e5 & 1.75347e-8 & 0.000584423 \\\\\n",
       "\t2 & 6 & 1.49511e7 & 3.39979e-8 & 0.10251 \\\\\n",
       "\t3 & 7 & 4.75367e8 & 2.30039e-8 & 2.16147 \\\\\n",
       "\t4 & 8 & 1.52576e10 & 2.31082e-8 & 48.0902 \\\\\n",
       "\t5 & 9 & 4.93154e11 & 2.82462e-8 & 775.012 \\\\\n",
       "\\end{tabular}\n"
      ],
      "text/plain": [
       "\u001b[1m5×4 DataFrame\u001b[0m\n",
       "\u001b[1m Row \u001b[0m│\u001b[1m size  \u001b[0m\u001b[1m condition_num \u001b[0m\u001b[1m relative_input \u001b[0m\u001b[1m relative_output \u001b[0m\n",
       "\u001b[1m     \u001b[0m│\u001b[90m Int64 \u001b[0m\u001b[90m Float64       \u001b[0m\u001b[90m Float64        \u001b[0m\u001b[90m Float64         \u001b[0m\n",
       "─────┼───────────────────────────────────────────────────────\n",
       "   1 │     5     4.76607e5       1.75347e-8      0.000584423\n",
       "   2 │     6     1.49511e7       3.39979e-8      0.10251\n",
       "   3 │     7     4.75367e8       2.30039e-8      2.16147\n",
       "   4 │     8     1.52576e10      2.31082e-8     48.0902\n",
       "   5 │     9     4.93154e11      2.82462e-8    775.012"
      ]
     },
     "execution_count": 18,
     "metadata": {},
     "output_type": "execute_result"
    }
   ],
   "source": [
    "first(error_data,5)"
   ]
  },
  {
   "cell_type": "markdown",
   "metadata": {},
   "source": [
    "A plot allows us to see more of our data:"
   ]
  },
  {
   "cell_type": "code",
   "execution_count": 19,
   "metadata": {},
   "outputs": [
    {
     "data": {
      "image/svg+xml": [
       "<?xml version=\"1.0\" encoding=\"utf-8\"?>\n",
       "<svg xmlns=\"http://www.w3.org/2000/svg\" xmlns:xlink=\"http://www.w3.org/1999/xlink\" width=\"600\" height=\"400\" viewBox=\"0 0 2400 1600\">\n",
       "<defs>\n",
       "  <clipPath id=\"clip850\">\n",
       "    <rect x=\"0\" y=\"0\" width=\"2400\" height=\"1600\"/>\n",
       "  </clipPath>\n",
       "</defs>\n",
       "<path clip-path=\"url(#clip850)\" d=\"\n",
       "M0 1600 L2400 1600 L2400 0 L0 0  Z\n",
       "  \" fill=\"#ffffff\" fill-rule=\"evenodd\" fill-opacity=\"1\"/>\n",
       "<defs>\n",
       "  <clipPath id=\"clip851\">\n",
       "    <rect x=\"480\" y=\"0\" width=\"1681\" height=\"1600\"/>\n",
       "  </clipPath>\n",
       "</defs>\n",
       "<path clip-path=\"url(#clip850)\" d=\"\n",
       "M188.292 1423.18 L2352.76 1423.18 L2352.76 47.2441 L188.292 47.2441  Z\n",
       "  \" fill=\"#ffffff\" fill-rule=\"evenodd\" fill-opacity=\"1\"/>\n",
       "<defs>\n",
       "  <clipPath id=\"clip852\">\n",
       "    <rect x=\"188\" y=\"47\" width=\"2165\" height=\"1377\"/>\n",
       "  </clipPath>\n",
       "</defs>\n",
       "<polyline clip-path=\"url(#clip852)\" style=\"stroke:#000000; stroke-width:2; stroke-opacity:0.1; fill:none\" points=\"\n",
       "  249.551,1423.18 249.551,47.2441 \n",
       "  \"/>\n",
       "<polyline clip-path=\"url(#clip852)\" style=\"stroke:#000000; stroke-width:2; stroke-opacity:0.1; fill:none\" points=\"\n",
       "  657.94,1423.18 657.94,47.2441 \n",
       "  \"/>\n",
       "<polyline clip-path=\"url(#clip852)\" style=\"stroke:#000000; stroke-width:2; stroke-opacity:0.1; fill:none\" points=\"\n",
       "  1066.33,1423.18 1066.33,47.2441 \n",
       "  \"/>\n",
       "<polyline clip-path=\"url(#clip852)\" style=\"stroke:#000000; stroke-width:2; stroke-opacity:0.1; fill:none\" points=\"\n",
       "  1474.72,1423.18 1474.72,47.2441 \n",
       "  \"/>\n",
       "<polyline clip-path=\"url(#clip852)\" style=\"stroke:#000000; stroke-width:2; stroke-opacity:0.1; fill:none\" points=\"\n",
       "  1883.11,1423.18 1883.11,47.2441 \n",
       "  \"/>\n",
       "<polyline clip-path=\"url(#clip852)\" style=\"stroke:#000000; stroke-width:2; stroke-opacity:0.1; fill:none\" points=\"\n",
       "  2291.5,1423.18 2291.5,47.2441 \n",
       "  \"/>\n",
       "<polyline clip-path=\"url(#clip850)\" style=\"stroke:#000000; stroke-width:4; stroke-opacity:1; fill:none\" points=\"\n",
       "  188.292,1423.18 2352.76,1423.18 \n",
       "  \"/>\n",
       "<polyline clip-path=\"url(#clip850)\" style=\"stroke:#000000; stroke-width:4; stroke-opacity:1; fill:none\" points=\"\n",
       "  249.551,1423.18 249.551,1406.67 \n",
       "  \"/>\n",
       "<polyline clip-path=\"url(#clip850)\" style=\"stroke:#000000; stroke-width:4; stroke-opacity:1; fill:none\" points=\"\n",
       "  657.94,1423.18 657.94,1406.67 \n",
       "  \"/>\n",
       "<polyline clip-path=\"url(#clip850)\" style=\"stroke:#000000; stroke-width:4; stroke-opacity:1; fill:none\" points=\"\n",
       "  1066.33,1423.18 1066.33,1406.67 \n",
       "  \"/>\n",
       "<polyline clip-path=\"url(#clip850)\" style=\"stroke:#000000; stroke-width:4; stroke-opacity:1; fill:none\" points=\"\n",
       "  1474.72,1423.18 1474.72,1406.67 \n",
       "  \"/>\n",
       "<polyline clip-path=\"url(#clip850)\" style=\"stroke:#000000; stroke-width:4; stroke-opacity:1; fill:none\" points=\"\n",
       "  1883.11,1423.18 1883.11,1406.67 \n",
       "  \"/>\n",
       "<polyline clip-path=\"url(#clip850)\" style=\"stroke:#000000; stroke-width:4; stroke-opacity:1; fill:none\" points=\"\n",
       "  2291.5,1423.18 2291.5,1406.67 \n",
       "  \"/>\n",
       "<path clip-path=\"url(#clip850)\" d=\"M 0 0 M239.828 1449.29 L258.185 1449.29 L258.185 1453.23 L244.111 1453.23 L244.111 1461.7 Q245.129 1461.35 246.148 1461.19 Q247.166 1461 248.185 1461 Q253.972 1461 257.352 1464.18 Q260.731 1467.35 260.731 1472.76 Q260.731 1478.34 257.259 1481.44 Q253.787 1484.52 247.467 1484.52 Q245.291 1484.52 243.023 1484.15 Q240.778 1483.78 238.37 1483.04 L238.37 1478.34 Q240.453 1479.48 242.676 1480.03 Q244.898 1480.59 247.375 1480.59 Q251.379 1480.59 253.717 1478.48 Q256.055 1476.38 256.055 1472.76 Q256.055 1469.15 253.717 1467.05 Q251.379 1464.94 247.375 1464.94 Q245.5 1464.94 243.625 1465.36 Q241.773 1465.77 239.828 1466.65 L239.828 1449.29 Z\" fill=\"#000000\" fill-rule=\"evenodd\" fill-opacity=\"1\" /><path clip-path=\"url(#clip850)\" d=\"M 0 0 M632.628 1479.92 L640.266 1479.92 L640.266 1453.55 L631.956 1455.22 L631.956 1450.96 L640.22 1449.29 L644.896 1449.29 L644.896 1479.92 L652.535 1479.92 L652.535 1483.85 L632.628 1483.85 L632.628 1479.92 Z\" fill=\"#000000\" fill-rule=\"evenodd\" fill-opacity=\"1\" /><path clip-path=\"url(#clip850)\" d=\"M 0 0 M671.979 1452.37 Q668.368 1452.37 666.539 1455.94 Q664.734 1459.48 664.734 1466.61 Q664.734 1473.71 666.539 1477.28 Q668.368 1480.82 671.979 1480.82 Q675.614 1480.82 677.419 1477.28 Q679.248 1473.71 679.248 1466.61 Q679.248 1459.48 677.419 1455.94 Q675.614 1452.37 671.979 1452.37 M671.979 1448.67 Q677.789 1448.67 680.845 1453.27 Q683.924 1457.86 683.924 1466.61 Q683.924 1475.33 680.845 1479.94 Q677.789 1484.52 671.979 1484.52 Q666.169 1484.52 663.09 1479.94 Q660.035 1475.33 660.035 1466.61 Q660.035 1457.86 663.09 1453.27 Q666.169 1448.67 671.979 1448.67 Z\" fill=\"#000000\" fill-rule=\"evenodd\" fill-opacity=\"1\" /><path clip-path=\"url(#clip850)\" d=\"M 0 0 M1041.51 1479.92 L1049.15 1479.92 L1049.15 1453.55 L1040.84 1455.22 L1040.84 1450.96 L1049.11 1449.29 L1053.78 1449.29 L1053.78 1479.92 L1061.42 1479.92 L1061.42 1483.85 L1041.51 1483.85 L1041.51 1479.92 Z\" fill=\"#000000\" fill-rule=\"evenodd\" fill-opacity=\"1\" /><path clip-path=\"url(#clip850)\" d=\"M 0 0 M1070.91 1449.29 L1089.27 1449.29 L1089.27 1453.23 L1075.2 1453.23 L1075.2 1461.7 Q1076.21 1461.35 1077.23 1461.19 Q1078.25 1461 1079.27 1461 Q1085.06 1461 1088.44 1464.18 Q1091.82 1467.35 1091.82 1472.76 Q1091.82 1478.34 1088.34 1481.44 Q1084.87 1484.52 1078.55 1484.52 Q1076.38 1484.52 1074.11 1484.15 Q1071.86 1483.78 1069.45 1483.04 L1069.45 1478.34 Q1071.54 1479.48 1073.76 1480.03 Q1075.98 1480.59 1078.46 1480.59 Q1082.46 1480.59 1084.8 1478.48 Q1087.14 1476.38 1087.14 1472.76 Q1087.14 1469.15 1084.8 1467.05 Q1082.46 1464.94 1078.46 1464.94 Q1076.58 1464.94 1074.71 1465.36 Q1072.86 1465.77 1070.91 1466.65 L1070.91 1449.29 Z\" fill=\"#000000\" fill-rule=\"evenodd\" fill-opacity=\"1\" /><path clip-path=\"url(#clip850)\" d=\"M 0 0 M1453.49 1479.92 L1469.81 1479.92 L1469.81 1483.85 L1447.87 1483.85 L1447.87 1479.92 Q1450.53 1477.16 1455.11 1472.53 Q1459.72 1467.88 1460.9 1466.54 Q1463.14 1464.01 1464.02 1462.28 Q1464.93 1460.52 1464.93 1458.83 Q1464.93 1456.07 1462.98 1454.34 Q1461.06 1452.6 1457.96 1452.6 Q1455.76 1452.6 1453.31 1453.37 Q1450.88 1454.13 1448.1 1455.68 L1448.1 1450.96 Q1450.92 1449.82 1453.38 1449.25 Q1455.83 1448.67 1457.87 1448.67 Q1463.24 1448.67 1466.43 1451.35 Q1469.63 1454.04 1469.63 1458.53 Q1469.63 1460.66 1468.82 1462.58 Q1468.03 1464.48 1465.92 1467.07 Q1465.34 1467.74 1462.24 1470.96 Q1459.14 1474.15 1453.49 1479.92 Z\" fill=\"#000000\" fill-rule=\"evenodd\" fill-opacity=\"1\" /><path clip-path=\"url(#clip850)\" d=\"M 0 0 M1489.63 1452.37 Q1486.01 1452.37 1484.19 1455.94 Q1482.38 1459.48 1482.38 1466.61 Q1482.38 1473.71 1484.19 1477.28 Q1486.01 1480.82 1489.63 1480.82 Q1493.26 1480.82 1495.07 1477.28 Q1496.89 1473.71 1496.89 1466.61 Q1496.89 1459.48 1495.07 1455.94 Q1493.26 1452.37 1489.63 1452.37 M1489.63 1448.67 Q1495.44 1448.67 1498.49 1453.27 Q1501.57 1457.86 1501.57 1466.61 Q1501.57 1475.33 1498.49 1479.94 Q1495.44 1484.52 1489.63 1484.52 Q1483.82 1484.52 1480.74 1479.94 Q1477.68 1475.33 1477.68 1466.61 Q1477.68 1457.86 1480.74 1453.27 Q1483.82 1448.67 1489.63 1448.67 Z\" fill=\"#000000\" fill-rule=\"evenodd\" fill-opacity=\"1\" /><path clip-path=\"url(#clip850)\" d=\"M 0 0 M1862.38 1479.92 L1878.7 1479.92 L1878.7 1483.85 L1856.75 1483.85 L1856.75 1479.92 Q1859.42 1477.16 1864 1472.53 Q1868.61 1467.88 1869.79 1466.54 Q1872.03 1464.01 1872.91 1462.28 Q1873.81 1460.52 1873.81 1458.83 Q1873.81 1456.07 1871.87 1454.34 Q1869.95 1452.6 1866.85 1452.6 Q1864.65 1452.6 1862.19 1453.37 Q1859.76 1454.13 1856.99 1455.68 L1856.99 1450.96 Q1859.81 1449.82 1862.26 1449.25 Q1864.72 1448.67 1866.75 1448.67 Q1872.12 1448.67 1875.32 1451.35 Q1878.51 1454.04 1878.51 1458.53 Q1878.51 1460.66 1877.7 1462.58 Q1876.92 1464.48 1874.81 1467.07 Q1874.23 1467.74 1871.13 1470.96 Q1868.03 1474.15 1862.38 1479.92 Z\" fill=\"#000000\" fill-rule=\"evenodd\" fill-opacity=\"1\" /><path clip-path=\"url(#clip850)\" d=\"M 0 0 M1888.56 1449.29 L1906.92 1449.29 L1906.92 1453.23 L1892.84 1453.23 L1892.84 1461.7 Q1893.86 1461.35 1894.88 1461.19 Q1895.9 1461 1896.92 1461 Q1902.7 1461 1906.08 1464.18 Q1909.46 1467.35 1909.46 1472.76 Q1909.46 1478.34 1905.99 1481.44 Q1902.52 1484.52 1896.2 1484.52 Q1894.02 1484.52 1891.75 1484.15 Q1889.51 1483.78 1887.1 1483.04 L1887.1 1478.34 Q1889.18 1479.48 1891.41 1480.03 Q1893.63 1480.59 1896.11 1480.59 Q1900.11 1480.59 1902.45 1478.48 Q1904.79 1476.38 1904.79 1472.76 Q1904.79 1469.15 1902.45 1467.05 Q1900.11 1464.94 1896.11 1464.94 Q1894.23 1464.94 1892.36 1465.36 Q1890.5 1465.77 1888.56 1466.65 L1888.56 1449.29 Z\" fill=\"#000000\" fill-rule=\"evenodd\" fill-opacity=\"1\" /><path clip-path=\"url(#clip850)\" d=\"M 0 0 M2280.34 1465.22 Q2283.7 1465.94 2285.57 1468.2 Q2287.47 1470.47 2287.47 1473.81 Q2287.47 1478.92 2283.95 1481.72 Q2280.43 1484.52 2273.95 1484.52 Q2271.78 1484.52 2269.46 1484.08 Q2267.17 1483.67 2264.72 1482.81 L2264.72 1478.3 Q2266.66 1479.43 2268.97 1480.01 Q2271.29 1480.59 2273.81 1480.59 Q2278.21 1480.59 2280.5 1478.85 Q2282.82 1477.12 2282.82 1473.81 Q2282.82 1470.75 2280.66 1469.04 Q2278.53 1467.3 2274.72 1467.3 L2270.69 1467.3 L2270.69 1463.46 L2274.9 1463.46 Q2278.35 1463.46 2280.18 1462.09 Q2282.01 1460.7 2282.01 1458.11 Q2282.01 1455.45 2280.11 1454.04 Q2278.23 1452.6 2274.72 1452.6 Q2272.79 1452.6 2270.59 1453.02 Q2268.4 1453.44 2265.76 1454.31 L2265.76 1450.15 Q2268.42 1449.41 2270.73 1449.04 Q2273.07 1448.67 2275.13 1448.67 Q2280.46 1448.67 2283.56 1451.1 Q2286.66 1453.5 2286.66 1457.63 Q2286.66 1460.5 2285.02 1462.49 Q2283.37 1464.45 2280.34 1465.22 Z\" fill=\"#000000\" fill-rule=\"evenodd\" fill-opacity=\"1\" /><path clip-path=\"url(#clip850)\" d=\"M 0 0 M2306.34 1452.37 Q2302.72 1452.37 2300.9 1455.94 Q2299.09 1459.48 2299.09 1466.61 Q2299.09 1473.71 2300.9 1477.28 Q2302.72 1480.82 2306.34 1480.82 Q2309.97 1480.82 2311.78 1477.28 Q2313.6 1473.71 2313.6 1466.61 Q2313.6 1459.48 2311.78 1455.94 Q2309.97 1452.37 2306.34 1452.37 M2306.34 1448.67 Q2312.15 1448.67 2315.2 1453.27 Q2318.28 1457.86 2318.28 1466.61 Q2318.28 1475.33 2315.2 1479.94 Q2312.15 1484.52 2306.34 1484.52 Q2300.53 1484.52 2297.45 1479.94 Q2294.39 1475.33 2294.39 1466.61 Q2294.39 1457.86 2297.45 1453.27 Q2300.53 1448.67 2306.34 1448.67 Z\" fill=\"#000000\" fill-rule=\"evenodd\" fill-opacity=\"1\" /><path clip-path=\"url(#clip850)\" d=\"M 0 0 M1236.17 1533.45 L1236.17 1538.98 Q1233.68 1537.71 1231.01 1537.07 Q1228.34 1536.44 1225.47 1536.44 Q1221.11 1536.44 1218.91 1537.77 Q1216.75 1539.11 1216.75 1541.79 Q1216.75 1543.82 1218.31 1545 Q1219.87 1546.15 1224.58 1547.2 L1226.58 1547.64 Q1232.82 1548.98 1235.43 1551.43 Q1238.07 1553.85 1238.07 1558.21 Q1238.07 1563.17 1234.13 1566.07 Q1230.21 1568.97 1223.34 1568.97 Q1220.47 1568.97 1217.35 1568.39 Q1214.27 1567.85 1210.83 1566.74 L1210.83 1560.69 Q1214.08 1562.38 1217.23 1563.24 Q1220.38 1564.07 1223.47 1564.07 Q1227.6 1564.07 1229.83 1562.66 Q1232.06 1561.23 1232.06 1558.65 Q1232.06 1556.27 1230.44 1554.99 Q1228.84 1553.72 1223.4 1552.54 L1221.36 1552.07 Q1215.92 1550.92 1213.5 1548.56 Q1211.08 1546.18 1211.08 1542.04 Q1211.08 1537.01 1214.65 1534.27 Q1218.21 1531.54 1224.77 1531.54 Q1228.02 1531.54 1230.88 1532.01 Q1233.75 1532.49 1236.17 1533.45 Z\" fill=\"#000000\" fill-rule=\"evenodd\" fill-opacity=\"1\" /><path clip-path=\"url(#clip850)\" d=\"M 0 0 M1247.4 1532.4 L1253.26 1532.4 L1253.26 1568.04 L1247.4 1568.04 L1247.4 1532.4 M1247.4 1518.52 L1253.26 1518.52 L1253.26 1525.93 L1247.4 1525.93 L1247.4 1518.52 Z\" fill=\"#000000\" fill-rule=\"evenodd\" fill-opacity=\"1\" /><path clip-path=\"url(#clip850)\" d=\"M 0 0 M1262.96 1532.4 L1290.78 1532.4 L1290.78 1537.74 L1268.76 1563.37 L1290.78 1563.37 L1290.78 1568.04 L1262.17 1568.04 L1262.17 1562.7 L1284.19 1537.07 L1262.96 1537.07 L1262.96 1532.4 Z\" fill=\"#000000\" fill-rule=\"evenodd\" fill-opacity=\"1\" /><path clip-path=\"url(#clip850)\" d=\"M 0 0 M1330.22 1548.76 L1330.22 1551.62 L1303.29 1551.62 Q1303.67 1557.67 1306.92 1560.85 Q1310.2 1564 1316.02 1564 Q1319.4 1564 1322.55 1563.17 Q1325.73 1562.35 1328.85 1560.69 L1328.85 1566.23 Q1325.7 1567.57 1322.39 1568.27 Q1319.08 1568.97 1315.67 1568.97 Q1307.14 1568.97 1302.15 1564 Q1297.18 1559.04 1297.18 1550.57 Q1297.18 1541.82 1301.89 1536.69 Q1306.63 1531.54 1314.65 1531.54 Q1321.85 1531.54 1326.02 1536.18 Q1330.22 1540.8 1330.22 1548.76 M1324.36 1547.04 Q1324.3 1542.23 1321.66 1539.37 Q1319.05 1536.5 1314.72 1536.5 Q1309.82 1536.5 1306.86 1539.27 Q1303.93 1542.04 1303.48 1547.07 L1324.36 1547.04 Z\" fill=\"#000000\" fill-rule=\"evenodd\" fill-opacity=\"1\" /><polyline clip-path=\"url(#clip852)\" style=\"stroke:#000000; stroke-width:2; stroke-opacity:0.1; fill:none\" points=\"\n",
       "  188.292,1250.6 2352.76,1250.6 \n",
       "  \"/>\n",
       "<polyline clip-path=\"url(#clip852)\" style=\"stroke:#000000; stroke-width:2; stroke-opacity:0.1; fill:none\" points=\"\n",
       "  188.292,1008.17 2352.76,1008.17 \n",
       "  \"/>\n",
       "<polyline clip-path=\"url(#clip852)\" style=\"stroke:#000000; stroke-width:2; stroke-opacity:0.1; fill:none\" points=\"\n",
       "  188.292,765.741 2352.76,765.741 \n",
       "  \"/>\n",
       "<polyline clip-path=\"url(#clip852)\" style=\"stroke:#000000; stroke-width:2; stroke-opacity:0.1; fill:none\" points=\"\n",
       "  188.292,523.31 2352.76,523.31 \n",
       "  \"/>\n",
       "<polyline clip-path=\"url(#clip852)\" style=\"stroke:#000000; stroke-width:2; stroke-opacity:0.1; fill:none\" points=\"\n",
       "  188.292,280.878 2352.76,280.878 \n",
       "  \"/>\n",
       "<polyline clip-path=\"url(#clip850)\" style=\"stroke:#000000; stroke-width:4; stroke-opacity:1; fill:none\" points=\"\n",
       "  188.292,1423.18 188.292,47.2441 \n",
       "  \"/>\n",
       "<polyline clip-path=\"url(#clip850)\" style=\"stroke:#000000; stroke-width:4; stroke-opacity:1; fill:none\" points=\"\n",
       "  188.292,1250.6 214.266,1250.6 \n",
       "  \"/>\n",
       "<polyline clip-path=\"url(#clip850)\" style=\"stroke:#000000; stroke-width:4; stroke-opacity:1; fill:none\" points=\"\n",
       "  188.292,1008.17 214.266,1008.17 \n",
       "  \"/>\n",
       "<polyline clip-path=\"url(#clip850)\" style=\"stroke:#000000; stroke-width:4; stroke-opacity:1; fill:none\" points=\"\n",
       "  188.292,765.741 214.266,765.741 \n",
       "  \"/>\n",
       "<polyline clip-path=\"url(#clip850)\" style=\"stroke:#000000; stroke-width:4; stroke-opacity:1; fill:none\" points=\"\n",
       "  188.292,523.31 214.266,523.31 \n",
       "  \"/>\n",
       "<polyline clip-path=\"url(#clip850)\" style=\"stroke:#000000; stroke-width:4; stroke-opacity:1; fill:none\" points=\"\n",
       "  188.292,280.878 214.266,280.878 \n",
       "  \"/>\n",
       "<path clip-path=\"url(#clip850)\" d=\"M 0 0 M51.6634 1270.4 L59.3023 1270.4 L59.3023 1244.03 L50.9921 1245.7 L50.9921 1241.44 L59.256 1239.77 L63.9319 1239.77 L63.9319 1270.4 L71.5707 1270.4 L71.5707 1274.33 L51.6634 1274.33 L51.6634 1270.4 Z\" fill=\"#000000\" fill-rule=\"evenodd\" fill-opacity=\"1\" /><path clip-path=\"url(#clip850)\" d=\"M 0 0 M91.0151 1242.85 Q87.404 1242.85 85.5753 1246.42 Q83.7697 1249.96 83.7697 1257.09 Q83.7697 1264.19 85.5753 1267.76 Q87.404 1271.3 91.0151 1271.3 Q94.6493 1271.3 96.4548 1267.76 Q98.2835 1264.19 98.2835 1257.09 Q98.2835 1249.96 96.4548 1246.42 Q94.6493 1242.85 91.0151 1242.85 M91.0151 1239.15 Q96.8252 1239.15 99.8808 1243.75 Q102.959 1248.34 102.959 1257.09 Q102.959 1265.81 99.8808 1270.42 Q96.8252 1275 91.0151 1275 Q85.2049 1275 82.1262 1270.42 Q79.0707 1265.81 79.0707 1257.09 Q79.0707 1248.34 82.1262 1243.75 Q85.2049 1239.15 91.0151 1239.15 Z\" fill=\"#000000\" fill-rule=\"evenodd\" fill-opacity=\"1\" /><path clip-path=\"url(#clip850)\" d=\"M 0 0 M102.959 1233.25 L127.071 1233.25 L127.071 1236.45 L102.959 1236.45 L102.959 1233.25 Z\" fill=\"#000000\" fill-rule=\"evenodd\" fill-opacity=\"1\" /><path clip-path=\"url(#clip850)\" d=\"M 0 0 M135.309 1218.84 L150.223 1218.84 L150.223 1222.04 L138.788 1222.04 L138.788 1228.92 Q139.616 1228.64 140.443 1228.51 Q141.271 1228.36 142.098 1228.36 Q146.8 1228.36 149.546 1230.94 Q152.292 1233.51 152.292 1237.91 Q152.292 1242.45 149.471 1244.97 Q146.65 1247.47 141.515 1247.47 Q139.747 1247.47 137.904 1247.17 Q136.08 1246.87 134.124 1246.26 L134.124 1242.45 Q135.817 1243.37 137.622 1243.82 Q139.428 1244.27 141.44 1244.27 Q144.694 1244.27 146.593 1242.56 Q148.493 1240.85 148.493 1237.91 Q148.493 1234.98 146.593 1233.27 Q144.694 1231.56 141.44 1231.56 Q139.917 1231.56 138.393 1231.89 Q136.889 1232.23 135.309 1232.95 L135.309 1218.84 Z\" fill=\"#000000\" fill-rule=\"evenodd\" fill-opacity=\"1\" /><path clip-path=\"url(#clip850)\" d=\"M 0 0 M81.5866 1027.97 L89.2254 1027.97 L89.2254 1001.6 L80.9153 1003.27 L80.9153 999.007 L89.1791 997.341 L93.855 997.341 L93.855 1027.97 L101.494 1027.97 L101.494 1031.9 L81.5866 1031.9 L81.5866 1027.97 Z\" fill=\"#000000\" fill-rule=\"evenodd\" fill-opacity=\"1\" /><path clip-path=\"url(#clip850)\" d=\"M 0 0 M120.938 1000.42 Q117.327 1000.42 115.498 1003.98 Q113.693 1007.53 113.693 1014.66 Q113.693 1021.76 115.498 1025.33 Q117.327 1028.87 120.938 1028.87 Q124.572 1028.87 126.378 1025.33 Q128.207 1021.76 128.207 1014.66 Q128.207 1007.53 126.378 1003.98 Q124.572 1000.42 120.938 1000.42 M120.938 996.716 Q126.748 996.716 129.804 1001.32 Q132.883 1005.91 132.883 1014.66 Q132.883 1023.38 129.804 1027.99 Q126.748 1032.57 120.938 1032.57 Q115.128 1032.57 112.049 1027.99 Q108.994 1023.38 108.994 1014.66 Q108.994 1005.91 112.049 1001.32 Q115.128 996.716 120.938 996.716 Z\" fill=\"#000000\" fill-rule=\"evenodd\" fill-opacity=\"1\" /><path clip-path=\"url(#clip850)\" d=\"M 0 0 M142.587 978.912 Q139.653 978.912 138.168 981.808 Q136.701 984.686 136.701 990.479 Q136.701 996.253 138.168 999.149 Q139.653 1002.03 142.587 1002.03 Q145.54 1002.03 147.007 999.149 Q148.493 996.253 148.493 990.479 Q148.493 984.686 147.007 981.808 Q145.54 978.912 142.587 978.912 M142.587 975.903 Q147.308 975.903 149.791 979.645 Q152.292 983.369 152.292 990.479 Q152.292 997.569 149.791 1001.31 Q147.308 1005.04 142.587 1005.04 Q137.867 1005.04 135.365 1001.31 Q132.883 997.569 132.883 990.479 Q132.883 983.369 135.365 979.645 Q137.867 975.903 142.587 975.903 Z\" fill=\"#000000\" fill-rule=\"evenodd\" fill-opacity=\"1\" /><path clip-path=\"url(#clip850)\" d=\"M 0 0 M82.8279 785.534 L90.4667 785.534 L90.4667 759.168 L82.1566 760.835 L82.1566 756.576 L90.4204 754.909 L95.0963 754.909 L95.0963 785.534 L102.735 785.534 L102.735 789.469 L82.8279 789.469 L82.8279 785.534 Z\" fill=\"#000000\" fill-rule=\"evenodd\" fill-opacity=\"1\" /><path clip-path=\"url(#clip850)\" d=\"M 0 0 M122.18 757.988 Q118.568 757.988 116.74 761.553 Q114.934 765.094 114.934 772.224 Q114.934 779.33 116.74 782.895 Q118.568 786.437 122.18 786.437 Q125.814 786.437 127.619 782.895 Q129.448 779.33 129.448 772.224 Q129.448 765.094 127.619 761.553 Q125.814 757.988 122.18 757.988 M122.18 754.284 Q127.99 754.284 131.045 758.891 Q134.124 763.474 134.124 772.224 Q134.124 780.951 131.045 785.557 Q127.99 790.14 122.18 790.14 Q116.369 790.14 113.291 785.557 Q110.235 780.951 110.235 772.224 Q110.235 763.474 113.291 758.891 Q116.369 754.284 122.18 754.284 Z\" fill=\"#000000\" fill-rule=\"evenodd\" fill-opacity=\"1\" /><path clip-path=\"url(#clip850)\" d=\"M 0 0 M135.309 733.979 L150.223 733.979 L150.223 737.176 L138.788 737.176 L138.788 744.06 Q139.616 743.778 140.443 743.646 Q141.271 743.495 142.098 743.495 Q146.8 743.495 149.546 746.072 Q152.292 748.649 152.292 753.05 Q152.292 757.582 149.471 760.103 Q146.65 762.604 141.515 762.604 Q139.747 762.604 137.904 762.303 Q136.08 762.002 134.124 761.4 L134.124 757.582 Q135.817 758.504 137.622 758.955 Q139.428 759.407 141.44 759.407 Q144.694 759.407 146.593 757.695 Q148.493 755.984 148.493 753.05 Q148.493 750.116 146.593 748.404 Q144.694 746.693 141.44 746.693 Q139.917 746.693 138.393 747.031 Q136.889 747.37 135.309 748.084 L135.309 733.979 Z\" fill=\"#000000\" fill-rule=\"evenodd\" fill-opacity=\"1\" /><path clip-path=\"url(#clip850)\" d=\"M 0 0 M58.7728 543.102 L66.4116 543.102 L66.4116 516.737 L58.1015 518.403 L58.1015 514.144 L66.3653 512.477 L71.0412 512.477 L71.0412 543.102 L78.6801 543.102 L78.6801 547.037 L58.7728 547.037 L58.7728 543.102 Z\" fill=\"#000000\" fill-rule=\"evenodd\" fill-opacity=\"1\" /><path clip-path=\"url(#clip850)\" d=\"M 0 0 M98.1244 515.556 Q94.5133 515.556 92.6846 519.121 Q90.8791 522.662 90.8791 529.792 Q90.8791 536.898 92.6846 540.463 Q94.5133 544.005 98.1244 544.005 Q101.759 544.005 103.564 540.463 Q105.393 536.898 105.393 529.792 Q105.393 522.662 103.564 519.121 Q101.759 515.556 98.1244 515.556 M98.1244 511.852 Q103.935 511.852 106.99 516.459 Q110.069 521.042 110.069 529.792 Q110.069 538.519 106.99 543.125 Q103.935 547.709 98.1244 547.709 Q92.3142 547.709 89.2356 543.125 Q86.18 538.519 86.18 529.792 Q86.18 521.042 89.2356 516.459 Q92.3142 511.852 98.1244 511.852 Z\" fill=\"#000000\" fill-rule=\"evenodd\" fill-opacity=\"1\" /><path clip-path=\"url(#clip850)\" d=\"M 0 0 M110.614 516.43 L116.821 516.43 L116.821 495.008 L110.069 496.362 L110.069 492.901 L116.783 491.547 L120.582 491.547 L120.582 516.43 L126.789 516.43 L126.789 519.627 L110.614 519.627 L110.614 516.43 Z\" fill=\"#000000\" fill-rule=\"evenodd\" fill-opacity=\"1\" /><path clip-path=\"url(#clip850)\" d=\"M 0 0 M142.587 494.048 Q139.653 494.048 138.168 496.945 Q136.701 499.822 136.701 505.615 Q136.701 511.389 138.168 514.285 Q139.653 517.163 142.587 517.163 Q145.54 517.163 147.007 514.285 Q148.493 511.389 148.493 505.615 Q148.493 499.822 147.007 496.945 Q145.54 494.048 142.587 494.048 M142.587 491.039 Q147.308 491.039 149.791 494.782 Q152.292 498.506 152.292 505.615 Q152.292 512.706 149.791 516.448 Q147.308 520.172 142.587 520.172 Q137.867 520.172 135.365 516.448 Q132.883 512.706 132.883 505.615 Q132.883 498.506 135.365 494.782 Q137.867 491.039 142.587 491.039 Z\" fill=\"#000000\" fill-rule=\"evenodd\" fill-opacity=\"1\" /><path clip-path=\"url(#clip850)\" d=\"M 0 0 M59.5815 300.67 L67.2203 300.67 L67.2203 274.305 L58.9102 275.971 L58.9102 271.712 L67.174 270.046 L71.8499 270.046 L71.8499 300.67 L79.4888 300.67 L79.4888 304.606 L59.5815 304.606 L59.5815 300.67 Z\" fill=\"#000000\" fill-rule=\"evenodd\" fill-opacity=\"1\" /><path clip-path=\"url(#clip850)\" d=\"M 0 0 M98.9331 273.124 Q95.322 273.124 93.4933 276.689 Q91.6878 280.231 91.6878 287.36 Q91.6878 294.467 93.4933 298.031 Q95.322 301.573 98.9331 301.573 Q102.567 301.573 104.373 298.031 Q106.202 294.467 106.202 287.36 Q106.202 280.231 104.373 276.689 Q102.567 273.124 98.9331 273.124 M98.9331 269.421 Q104.743 269.421 107.799 274.027 Q110.878 278.61 110.878 287.36 Q110.878 296.087 107.799 300.694 Q104.743 305.277 98.9331 305.277 Q93.123 305.277 90.0443 300.694 Q86.9888 296.087 86.9888 287.36 Q86.9888 278.61 90.0443 274.027 Q93.123 269.421 98.9331 269.421 Z\" fill=\"#000000\" fill-rule=\"evenodd\" fill-opacity=\"1\" /><path clip-path=\"url(#clip850)\" d=\"M 0 0 M111.423 273.998 L117.63 273.998 L117.63 252.576 L110.878 253.93 L110.878 250.469 L117.592 249.115 L121.391 249.115 L121.391 273.998 L127.598 273.998 L127.598 277.195 L111.423 277.195 L111.423 273.998 Z\" fill=\"#000000\" fill-rule=\"evenodd\" fill-opacity=\"1\" /><path clip-path=\"url(#clip850)\" d=\"M 0 0 M135.309 249.115 L150.223 249.115 L150.223 252.312 L138.788 252.312 L138.788 259.196 Q139.616 258.914 140.443 258.782 Q141.271 258.632 142.098 258.632 Q146.8 258.632 149.546 261.209 Q152.292 263.785 152.292 268.186 Q152.292 272.719 149.471 275.239 Q146.65 277.741 141.515 277.741 Q139.747 277.741 137.904 277.44 Q136.08 277.139 134.124 276.537 L134.124 272.719 Q135.817 273.64 137.622 274.092 Q139.428 274.543 141.44 274.543 Q144.694 274.543 146.593 272.832 Q148.493 271.12 148.493 268.186 Q148.493 265.252 146.593 263.541 Q144.694 261.829 141.44 261.829 Q139.917 261.829 138.393 262.168 Q136.889 262.506 135.309 263.221 L135.309 249.115 Z\" fill=\"#000000\" fill-rule=\"evenodd\" fill-opacity=\"1\" /><circle clip-path=\"url(#clip852)\" cx=\"249.551\" cy=\"732.86\" r=\"14\" fill=\"#009af9\" fill-rule=\"evenodd\" fill-opacity=\"1\" stroke=\"#000000\" stroke-opacity=\"1\" stroke-width=\"3.2\"/>\n",
       "<circle clip-path=\"url(#clip852)\" cx=\"331.229\" cy=\"660.3\" r=\"14\" fill=\"#009af9\" fill-rule=\"evenodd\" fill-opacity=\"1\" stroke=\"#000000\" stroke-opacity=\"1\" stroke-width=\"3.2\"/>\n",
       "<circle clip-path=\"url(#clip852)\" cx=\"412.906\" cy=\"587.456\" r=\"14\" fill=\"#009af9\" fill-rule=\"evenodd\" fill-opacity=\"1\" stroke=\"#000000\" stroke-opacity=\"1\" stroke-width=\"3.2\"/>\n",
       "<circle clip-path=\"url(#clip852)\" cx=\"494.584\" cy=\"514.413\" r=\"14\" fill=\"#009af9\" fill-rule=\"evenodd\" fill-opacity=\"1\" stroke=\"#000000\" stroke-opacity=\"1\" stroke-width=\"3.2\"/>\n",
       "<circle clip-path=\"url(#clip852)\" cx=\"576.262\" cy=\"441.223\" r=\"14\" fill=\"#009af9\" fill-rule=\"evenodd\" fill-opacity=\"1\" stroke=\"#000000\" stroke-opacity=\"1\" stroke-width=\"3.2\"/>\n",
       "<circle clip-path=\"url(#clip852)\" cx=\"657.94\" cy=\"367.921\" r=\"14\" fill=\"#009af9\" fill-rule=\"evenodd\" fill-opacity=\"1\" stroke=\"#000000\" stroke-opacity=\"1\" stroke-width=\"3.2\"/>\n",
       "<circle clip-path=\"url(#clip852)\" cx=\"739.618\" cy=\"294.556\" r=\"14\" fill=\"#009af9\" fill-rule=\"evenodd\" fill-opacity=\"1\" stroke=\"#000000\" stroke-opacity=\"1\" stroke-width=\"3.2\"/>\n",
       "<circle clip-path=\"url(#clip852)\" cx=\"821.296\" cy=\"220.59\" r=\"14\" fill=\"#009af9\" fill-rule=\"evenodd\" fill-opacity=\"1\" stroke=\"#000000\" stroke-opacity=\"1\" stroke-width=\"3.2\"/>\n",
       "<circle clip-path=\"url(#clip852)\" cx=\"902.974\" cy=\"109.998\" r=\"14\" fill=\"#009af9\" fill-rule=\"evenodd\" fill-opacity=\"1\" stroke=\"#000000\" stroke-opacity=\"1\" stroke-width=\"3.2\"/>\n",
       "<circle clip-path=\"url(#clip852)\" cx=\"984.652\" cy=\"145.482\" r=\"14\" fill=\"#009af9\" fill-rule=\"evenodd\" fill-opacity=\"1\" stroke=\"#000000\" stroke-opacity=\"1\" stroke-width=\"3.2\"/>\n",
       "<circle clip-path=\"url(#clip852)\" cx=\"1066.33\" cy=\"156.501\" r=\"14\" fill=\"#009af9\" fill-rule=\"evenodd\" fill-opacity=\"1\" stroke=\"#000000\" stroke-opacity=\"1\" stroke-width=\"3.2\"/>\n",
       "<circle clip-path=\"url(#clip852)\" cx=\"1148.01\" cy=\"140.475\" r=\"14\" fill=\"#009af9\" fill-rule=\"evenodd\" fill-opacity=\"1\" stroke=\"#000000\" stroke-opacity=\"1\" stroke-width=\"3.2\"/>\n",
       "<circle clip-path=\"url(#clip852)\" cx=\"1229.69\" cy=\"130.491\" r=\"14\" fill=\"#009af9\" fill-rule=\"evenodd\" fill-opacity=\"1\" stroke=\"#000000\" stroke-opacity=\"1\" stroke-width=\"3.2\"/>\n",
       "<circle clip-path=\"url(#clip852)\" cx=\"1311.36\" cy=\"118.393\" r=\"14\" fill=\"#009af9\" fill-rule=\"evenodd\" fill-opacity=\"1\" stroke=\"#000000\" stroke-opacity=\"1\" stroke-width=\"3.2\"/>\n",
       "<circle clip-path=\"url(#clip852)\" cx=\"1393.04\" cy=\"96.0947\" r=\"14\" fill=\"#009af9\" fill-rule=\"evenodd\" fill-opacity=\"1\" stroke=\"#000000\" stroke-opacity=\"1\" stroke-width=\"3.2\"/>\n",
       "<circle clip-path=\"url(#clip852)\" cx=\"1474.72\" cy=\"129.016\" r=\"14\" fill=\"#009af9\" fill-rule=\"evenodd\" fill-opacity=\"1\" stroke=\"#000000\" stroke-opacity=\"1\" stroke-width=\"3.2\"/>\n",
       "<circle clip-path=\"url(#clip852)\" cx=\"1556.4\" cy=\"110.341\" r=\"14\" fill=\"#009af9\" fill-rule=\"evenodd\" fill-opacity=\"1\" stroke=\"#000000\" stroke-opacity=\"1\" stroke-width=\"3.2\"/>\n",
       "<circle clip-path=\"url(#clip852)\" cx=\"1638.07\" cy=\"86.1857\" r=\"14\" fill=\"#009af9\" fill-rule=\"evenodd\" fill-opacity=\"1\" stroke=\"#000000\" stroke-opacity=\"1\" stroke-width=\"3.2\"/>\n",
       "<circle clip-path=\"url(#clip852)\" cx=\"1719.75\" cy=\"145.102\" r=\"14\" fill=\"#009af9\" fill-rule=\"evenodd\" fill-opacity=\"1\" stroke=\"#000000\" stroke-opacity=\"1\" stroke-width=\"3.2\"/>\n",
       "<circle clip-path=\"url(#clip852)\" cx=\"1801.43\" cy=\"119.502\" r=\"14\" fill=\"#009af9\" fill-rule=\"evenodd\" fill-opacity=\"1\" stroke=\"#000000\" stroke-opacity=\"1\" stroke-width=\"3.2\"/>\n",
       "<circle clip-path=\"url(#clip852)\" cx=\"1883.11\" cy=\"128.76\" r=\"14\" fill=\"#009af9\" fill-rule=\"evenodd\" fill-opacity=\"1\" stroke=\"#000000\" stroke-opacity=\"1\" stroke-width=\"3.2\"/>\n",
       "<circle clip-path=\"url(#clip852)\" cx=\"1964.79\" cy=\"98.2632\" r=\"14\" fill=\"#009af9\" fill-rule=\"evenodd\" fill-opacity=\"1\" stroke=\"#000000\" stroke-opacity=\"1\" stroke-width=\"3.2\"/>\n",
       "<circle clip-path=\"url(#clip852)\" cx=\"2046.46\" cy=\"104.103\" r=\"14\" fill=\"#009af9\" fill-rule=\"evenodd\" fill-opacity=\"1\" stroke=\"#000000\" stroke-opacity=\"1\" stroke-width=\"3.2\"/>\n",
       "<circle clip-path=\"url(#clip852)\" cx=\"2128.14\" cy=\"88.6076\" r=\"14\" fill=\"#009af9\" fill-rule=\"evenodd\" fill-opacity=\"1\" stroke=\"#000000\" stroke-opacity=\"1\" stroke-width=\"3.2\"/>\n",
       "<circle clip-path=\"url(#clip852)\" cx=\"2209.82\" cy=\"91.4759\" r=\"14\" fill=\"#009af9\" fill-rule=\"evenodd\" fill-opacity=\"1\" stroke=\"#000000\" stroke-opacity=\"1\" stroke-width=\"3.2\"/>\n",
       "<circle clip-path=\"url(#clip852)\" cx=\"2291.5\" cy=\"99.4908\" r=\"14\" fill=\"#009af9\" fill-rule=\"evenodd\" fill-opacity=\"1\" stroke=\"#000000\" stroke-opacity=\"1\" stroke-width=\"3.2\"/>\n",
       "<circle clip-path=\"url(#clip852)\" cx=\"249.551\" cy=\"1384.24\" r=\"14\" fill=\"#e26f46\" fill-rule=\"evenodd\" fill-opacity=\"1\" stroke=\"#000000\" stroke-opacity=\"1\" stroke-width=\"3.2\"/>\n",
       "<circle clip-path=\"url(#clip852)\" cx=\"331.229\" cy=\"1370.3\" r=\"14\" fill=\"#e26f46\" fill-rule=\"evenodd\" fill-opacity=\"1\" stroke=\"#000000\" stroke-opacity=\"1\" stroke-width=\"3.2\"/>\n",
       "<circle clip-path=\"url(#clip852)\" cx=\"412.906\" cy=\"1378.52\" r=\"14\" fill=\"#e26f46\" fill-rule=\"evenodd\" fill-opacity=\"1\" stroke=\"#000000\" stroke-opacity=\"1\" stroke-width=\"3.2\"/>\n",
       "<circle clip-path=\"url(#clip852)\" cx=\"494.584\" cy=\"1378.43\" r=\"14\" fill=\"#e26f46\" fill-rule=\"evenodd\" fill-opacity=\"1\" stroke=\"#000000\" stroke-opacity=\"1\" stroke-width=\"3.2\"/>\n",
       "<circle clip-path=\"url(#clip852)\" cx=\"576.262\" cy=\"1374.2\" r=\"14\" fill=\"#e26f46\" fill-rule=\"evenodd\" fill-opacity=\"1\" stroke=\"#000000\" stroke-opacity=\"1\" stroke-width=\"3.2\"/>\n",
       "<circle clip-path=\"url(#clip852)\" cx=\"657.94\" cy=\"1379.56\" r=\"14\" fill=\"#e26f46\" fill-rule=\"evenodd\" fill-opacity=\"1\" stroke=\"#000000\" stroke-opacity=\"1\" stroke-width=\"3.2\"/>\n",
       "<circle clip-path=\"url(#clip852)\" cx=\"739.618\" cy=\"1377.15\" r=\"14\" fill=\"#e26f46\" fill-rule=\"evenodd\" fill-opacity=\"1\" stroke=\"#000000\" stroke-opacity=\"1\" stroke-width=\"3.2\"/>\n",
       "<circle clip-path=\"url(#clip852)\" cx=\"821.296\" cy=\"1374.78\" r=\"14\" fill=\"#e26f46\" fill-rule=\"evenodd\" fill-opacity=\"1\" stroke=\"#000000\" stroke-opacity=\"1\" stroke-width=\"3.2\"/>\n",
       "<circle clip-path=\"url(#clip852)\" cx=\"902.974\" cy=\"1374.5\" r=\"14\" fill=\"#e26f46\" fill-rule=\"evenodd\" fill-opacity=\"1\" stroke=\"#000000\" stroke-opacity=\"1\" stroke-width=\"3.2\"/>\n",
       "<circle clip-path=\"url(#clip852)\" cx=\"984.652\" cy=\"1372.4\" r=\"14\" fill=\"#e26f46\" fill-rule=\"evenodd\" fill-opacity=\"1\" stroke=\"#000000\" stroke-opacity=\"1\" stroke-width=\"3.2\"/>\n",
       "<circle clip-path=\"url(#clip852)\" cx=\"1066.33\" cy=\"1378.97\" r=\"14\" fill=\"#e26f46\" fill-rule=\"evenodd\" fill-opacity=\"1\" stroke=\"#000000\" stroke-opacity=\"1\" stroke-width=\"3.2\"/>\n",
       "<circle clip-path=\"url(#clip852)\" cx=\"1148.01\" cy=\"1381.87\" r=\"14\" fill=\"#e26f46\" fill-rule=\"evenodd\" fill-opacity=\"1\" stroke=\"#000000\" stroke-opacity=\"1\" stroke-width=\"3.2\"/>\n",
       "<circle clip-path=\"url(#clip852)\" cx=\"1229.69\" cy=\"1374.09\" r=\"14\" fill=\"#e26f46\" fill-rule=\"evenodd\" fill-opacity=\"1\" stroke=\"#000000\" stroke-opacity=\"1\" stroke-width=\"3.2\"/>\n",
       "<circle clip-path=\"url(#clip852)\" cx=\"1311.36\" cy=\"1375.24\" r=\"14\" fill=\"#e26f46\" fill-rule=\"evenodd\" fill-opacity=\"1\" stroke=\"#000000\" stroke-opacity=\"1\" stroke-width=\"3.2\"/>\n",
       "<circle clip-path=\"url(#clip852)\" cx=\"1393.04\" cy=\"1377.16\" r=\"14\" fill=\"#e26f46\" fill-rule=\"evenodd\" fill-opacity=\"1\" stroke=\"#000000\" stroke-opacity=\"1\" stroke-width=\"3.2\"/>\n",
       "<circle clip-path=\"url(#clip852)\" cx=\"1474.72\" cy=\"1379.75\" r=\"14\" fill=\"#e26f46\" fill-rule=\"evenodd\" fill-opacity=\"1\" stroke=\"#000000\" stroke-opacity=\"1\" stroke-width=\"3.2\"/>\n",
       "<circle clip-path=\"url(#clip852)\" cx=\"1556.4\" cy=\"1374.27\" r=\"14\" fill=\"#e26f46\" fill-rule=\"evenodd\" fill-opacity=\"1\" stroke=\"#000000\" stroke-opacity=\"1\" stroke-width=\"3.2\"/>\n",
       "<circle clip-path=\"url(#clip852)\" cx=\"1638.07\" cy=\"1375.92\" r=\"14\" fill=\"#e26f46\" fill-rule=\"evenodd\" fill-opacity=\"1\" stroke=\"#000000\" stroke-opacity=\"1\" stroke-width=\"3.2\"/>\n",
       "<circle clip-path=\"url(#clip852)\" cx=\"1719.75\" cy=\"1379.97\" r=\"14\" fill=\"#e26f46\" fill-rule=\"evenodd\" fill-opacity=\"1\" stroke=\"#000000\" stroke-opacity=\"1\" stroke-width=\"3.2\"/>\n",
       "<circle clip-path=\"url(#clip852)\" cx=\"1801.43\" cy=\"1375.04\" r=\"14\" fill=\"#e26f46\" fill-rule=\"evenodd\" fill-opacity=\"1\" stroke=\"#000000\" stroke-opacity=\"1\" stroke-width=\"3.2\"/>\n",
       "<circle clip-path=\"url(#clip852)\" cx=\"1883.11\" cy=\"1376.7\" r=\"14\" fill=\"#e26f46\" fill-rule=\"evenodd\" fill-opacity=\"1\" stroke=\"#000000\" stroke-opacity=\"1\" stroke-width=\"3.2\"/>\n",
       "<circle clip-path=\"url(#clip852)\" cx=\"1964.79\" cy=\"1372.93\" r=\"14\" fill=\"#e26f46\" fill-rule=\"evenodd\" fill-opacity=\"1\" stroke=\"#000000\" stroke-opacity=\"1\" stroke-width=\"3.2\"/>\n",
       "<circle clip-path=\"url(#clip852)\" cx=\"2046.46\" cy=\"1384.02\" r=\"14\" fill=\"#e26f46\" fill-rule=\"evenodd\" fill-opacity=\"1\" stroke=\"#000000\" stroke-opacity=\"1\" stroke-width=\"3.2\"/>\n",
       "<circle clip-path=\"url(#clip852)\" cx=\"2128.14\" cy=\"1373.86\" r=\"14\" fill=\"#e26f46\" fill-rule=\"evenodd\" fill-opacity=\"1\" stroke=\"#000000\" stroke-opacity=\"1\" stroke-width=\"3.2\"/>\n",
       "<circle clip-path=\"url(#clip852)\" cx=\"2209.82\" cy=\"1378.04\" r=\"14\" fill=\"#e26f46\" fill-rule=\"evenodd\" fill-opacity=\"1\" stroke=\"#000000\" stroke-opacity=\"1\" stroke-width=\"3.2\"/>\n",
       "<circle clip-path=\"url(#clip852)\" cx=\"2291.5\" cy=\"1374.38\" r=\"14\" fill=\"#e26f46\" fill-rule=\"evenodd\" fill-opacity=\"1\" stroke=\"#000000\" stroke-opacity=\"1\" stroke-width=\"3.2\"/>\n",
       "<circle clip-path=\"url(#clip852)\" cx=\"249.551\" cy=\"1164.94\" r=\"14\" fill=\"#3da44d\" fill-rule=\"evenodd\" fill-opacity=\"1\" stroke=\"#000000\" stroke-opacity=\"1\" stroke-width=\"3.2\"/>\n",
       "<circle clip-path=\"url(#clip852)\" cx=\"331.229\" cy=\"1056.14\" r=\"14\" fill=\"#3da44d\" fill-rule=\"evenodd\" fill-opacity=\"1\" stroke=\"#000000\" stroke-opacity=\"1\" stroke-width=\"3.2\"/>\n",
       "<circle clip-path=\"url(#clip852)\" cx=\"412.906\" cy=\"991.942\" r=\"14\" fill=\"#3da44d\" fill-rule=\"evenodd\" fill-opacity=\"1\" stroke=\"#000000\" stroke-opacity=\"1\" stroke-width=\"3.2\"/>\n",
       "<circle clip-path=\"url(#clip852)\" cx=\"494.584\" cy=\"926.616\" r=\"14\" fill=\"#3da44d\" fill-rule=\"evenodd\" fill-opacity=\"1\" stroke=\"#000000\" stroke-opacity=\"1\" stroke-width=\"3.2\"/>\n",
       "<circle clip-path=\"url(#clip852)\" cx=\"576.262\" cy=\"868.081\" r=\"14\" fill=\"#3da44d\" fill-rule=\"evenodd\" fill-opacity=\"1\" stroke=\"#000000\" stroke-opacity=\"1\" stroke-width=\"3.2\"/>\n",
       "<circle clip-path=\"url(#clip852)\" cx=\"657.94\" cy=\"805.654\" r=\"14\" fill=\"#3da44d\" fill-rule=\"evenodd\" fill-opacity=\"1\" stroke=\"#000000\" stroke-opacity=\"1\" stroke-width=\"3.2\"/>\n",
       "<circle clip-path=\"url(#clip852)\" cx=\"739.618\" cy=\"768.472\" r=\"14\" fill=\"#3da44d\" fill-rule=\"evenodd\" fill-opacity=\"1\" stroke=\"#000000\" stroke-opacity=\"1\" stroke-width=\"3.2\"/>\n",
       "<circle clip-path=\"url(#clip852)\" cx=\"821.296\" cy=\"655.546\" r=\"14\" fill=\"#3da44d\" fill-rule=\"evenodd\" fill-opacity=\"1\" stroke=\"#000000\" stroke-opacity=\"1\" stroke-width=\"3.2\"/>\n",
       "<circle clip-path=\"url(#clip852)\" cx=\"902.974\" cy=\"560.682\" r=\"14\" fill=\"#3da44d\" fill-rule=\"evenodd\" fill-opacity=\"1\" stroke=\"#000000\" stroke-opacity=\"1\" stroke-width=\"3.2\"/>\n",
       "<circle clip-path=\"url(#clip852)\" cx=\"984.652\" cy=\"597.17\" r=\"14\" fill=\"#3da44d\" fill-rule=\"evenodd\" fill-opacity=\"1\" stroke=\"#000000\" stroke-opacity=\"1\" stroke-width=\"3.2\"/>\n",
       "<circle clip-path=\"url(#clip852)\" cx=\"1066.33\" cy=\"552.132\" r=\"14\" fill=\"#3da44d\" fill-rule=\"evenodd\" fill-opacity=\"1\" stroke=\"#000000\" stroke-opacity=\"1\" stroke-width=\"3.2\"/>\n",
       "<circle clip-path=\"url(#clip852)\" cx=\"1148.01\" cy=\"520.162\" r=\"14\" fill=\"#3da44d\" fill-rule=\"evenodd\" fill-opacity=\"1\" stroke=\"#000000\" stroke-opacity=\"1\" stroke-width=\"3.2\"/>\n",
       "<circle clip-path=\"url(#clip852)\" cx=\"1229.69\" cy=\"572.135\" r=\"14\" fill=\"#3da44d\" fill-rule=\"evenodd\" fill-opacity=\"1\" stroke=\"#000000\" stroke-opacity=\"1\" stroke-width=\"3.2\"/>\n",
       "<circle clip-path=\"url(#clip852)\" cx=\"1311.36\" cy=\"546.95\" r=\"14\" fill=\"#3da44d\" fill-rule=\"evenodd\" fill-opacity=\"1\" stroke=\"#000000\" stroke-opacity=\"1\" stroke-width=\"3.2\"/>\n",
       "<circle clip-path=\"url(#clip852)\" cx=\"1393.04\" cy=\"574.783\" r=\"14\" fill=\"#3da44d\" fill-rule=\"evenodd\" fill-opacity=\"1\" stroke=\"#000000\" stroke-opacity=\"1\" stroke-width=\"3.2\"/>\n",
       "<circle clip-path=\"url(#clip852)\" cx=\"1474.72\" cy=\"533.269\" r=\"14\" fill=\"#3da44d\" fill-rule=\"evenodd\" fill-opacity=\"1\" stroke=\"#000000\" stroke-opacity=\"1\" stroke-width=\"3.2\"/>\n",
       "<circle clip-path=\"url(#clip852)\" cx=\"1556.4\" cy=\"537.681\" r=\"14\" fill=\"#3da44d\" fill-rule=\"evenodd\" fill-opacity=\"1\" stroke=\"#000000\" stroke-opacity=\"1\" stroke-width=\"3.2\"/>\n",
       "<circle clip-path=\"url(#clip852)\" cx=\"1638.07\" cy=\"546.369\" r=\"14\" fill=\"#3da44d\" fill-rule=\"evenodd\" fill-opacity=\"1\" stroke=\"#000000\" stroke-opacity=\"1\" stroke-width=\"3.2\"/>\n",
       "<circle clip-path=\"url(#clip852)\" cx=\"1719.75\" cy=\"553.835\" r=\"14\" fill=\"#3da44d\" fill-rule=\"evenodd\" fill-opacity=\"1\" stroke=\"#000000\" stroke-opacity=\"1\" stroke-width=\"3.2\"/>\n",
       "<circle clip-path=\"url(#clip852)\" cx=\"1801.43\" cy=\"506.791\" r=\"14\" fill=\"#3da44d\" fill-rule=\"evenodd\" fill-opacity=\"1\" stroke=\"#000000\" stroke-opacity=\"1\" stroke-width=\"3.2\"/>\n",
       "<circle clip-path=\"url(#clip852)\" cx=\"1883.11\" cy=\"551.692\" r=\"14\" fill=\"#3da44d\" fill-rule=\"evenodd\" fill-opacity=\"1\" stroke=\"#000000\" stroke-opacity=\"1\" stroke-width=\"3.2\"/>\n",
       "<circle clip-path=\"url(#clip852)\" cx=\"1964.79\" cy=\"528.504\" r=\"14\" fill=\"#3da44d\" fill-rule=\"evenodd\" fill-opacity=\"1\" stroke=\"#000000\" stroke-opacity=\"1\" stroke-width=\"3.2\"/>\n",
       "<circle clip-path=\"url(#clip852)\" cx=\"2046.46\" cy=\"546.978\" r=\"14\" fill=\"#3da44d\" fill-rule=\"evenodd\" fill-opacity=\"1\" stroke=\"#000000\" stroke-opacity=\"1\" stroke-width=\"3.2\"/>\n",
       "<circle clip-path=\"url(#clip852)\" cx=\"2128.14\" cy=\"556.232\" r=\"14\" fill=\"#3da44d\" fill-rule=\"evenodd\" fill-opacity=\"1\" stroke=\"#000000\" stroke-opacity=\"1\" stroke-width=\"3.2\"/>\n",
       "<circle clip-path=\"url(#clip852)\" cx=\"2209.82\" cy=\"539.27\" r=\"14\" fill=\"#3da44d\" fill-rule=\"evenodd\" fill-opacity=\"1\" stroke=\"#000000\" stroke-opacity=\"1\" stroke-width=\"3.2\"/>\n",
       "<circle clip-path=\"url(#clip852)\" cx=\"2291.5\" cy=\"542.746\" r=\"14\" fill=\"#3da44d\" fill-rule=\"evenodd\" fill-opacity=\"1\" stroke=\"#000000\" stroke-opacity=\"1\" stroke-width=\"3.2\"/>\n",
       "<path clip-path=\"url(#clip850)\" d=\"\n",
       "M260.441 335.029 L917.601 335.029 L917.601 93.1086 L260.441 93.1086  Z\n",
       "  \" fill=\"#ffffff\" fill-rule=\"evenodd\" fill-opacity=\"1\"/>\n",
       "<polyline clip-path=\"url(#clip850)\" style=\"stroke:#000000; stroke-width:4; stroke-opacity:1; fill:none\" points=\"\n",
       "  260.441,335.029 917.601,335.029 917.601,93.1086 260.441,93.1086 260.441,335.029 \n",
       "  \"/>\n",
       "<circle clip-path=\"url(#clip850)\" cx=\"356.639\" cy=\"153.589\" r=\"23\" fill=\"#009af9\" fill-rule=\"evenodd\" fill-opacity=\"1\" stroke=\"#000000\" stroke-opacity=\"1\" stroke-width=\"5.12\"/>\n",
       "<path clip-path=\"url(#clip850)\" d=\"M 0 0 M473.347 145.938 L473.347 149.92 Q471.541 148.924 469.713 148.438 Q467.907 147.929 466.055 147.929 Q461.912 147.929 459.62 150.568 Q457.328 153.184 457.328 157.929 Q457.328 162.674 459.62 165.313 Q461.912 167.929 466.055 167.929 Q467.907 167.929 469.713 167.443 Q471.541 166.933 473.347 165.938 L473.347 169.873 Q471.565 170.707 469.643 171.123 Q467.745 171.54 465.592 171.54 Q459.736 171.54 456.287 167.859 Q452.838 164.179 452.838 157.929 Q452.838 151.586 456.31 147.952 Q459.805 144.318 465.87 144.318 Q467.838 144.318 469.713 144.735 Q471.588 145.128 473.347 145.938 Z\" fill=\"#000000\" fill-rule=\"evenodd\" fill-opacity=\"1\" /><path clip-path=\"url(#clip850)\" d=\"M 0 0 M490.801 147.929 Q487.375 147.929 485.384 150.614 Q483.393 153.276 483.393 157.929 Q483.393 162.582 485.361 165.267 Q487.351 167.929 490.801 167.929 Q494.203 167.929 496.194 165.244 Q498.185 162.558 498.185 157.929 Q498.185 153.322 496.194 150.637 Q494.203 147.929 490.801 147.929 M490.801 144.318 Q496.356 144.318 499.527 147.929 Q502.699 151.54 502.699 157.929 Q502.699 164.295 499.527 167.929 Q496.356 171.54 490.801 171.54 Q485.222 171.54 482.051 167.929 Q478.902 164.295 478.902 157.929 Q478.902 151.54 482.051 147.929 Q485.222 144.318 490.801 144.318 Z\" fill=\"#000000\" fill-rule=\"evenodd\" fill-opacity=\"1\" /><path clip-path=\"url(#clip850)\" d=\"M 0 0 M531.31 155.221 L531.31 170.869 L527.05 170.869 L527.05 155.359 Q527.05 151.679 525.615 149.85 Q524.18 148.022 521.31 148.022 Q517.861 148.022 515.87 150.221 Q513.879 152.42 513.879 156.216 L513.879 170.869 L509.597 170.869 L509.597 144.943 L513.879 144.943 L513.879 148.971 Q515.407 146.633 517.467 145.475 Q519.55 144.318 522.259 144.318 Q526.726 144.318 529.018 147.096 Q531.31 149.85 531.31 155.221 Z\" fill=\"#000000\" fill-rule=\"evenodd\" fill-opacity=\"1\" /><path clip-path=\"url(#clip850)\" d=\"M 0 0 M556.865 148.878 L556.865 134.85 L561.124 134.85 L561.124 170.869 L556.865 170.869 L556.865 166.98 Q555.522 169.295 553.462 170.429 Q551.425 171.54 548.555 171.54 Q543.856 171.54 540.893 167.79 Q537.953 164.04 537.953 157.929 Q537.953 151.818 540.893 148.068 Q543.856 144.318 548.555 144.318 Q551.425 144.318 553.462 145.452 Q555.522 146.563 556.865 148.878 M542.351 157.929 Q542.351 162.628 544.272 165.313 Q546.217 167.975 549.597 167.975 Q552.976 167.975 554.921 165.313 Q556.865 162.628 556.865 157.929 Q556.865 153.23 554.921 150.568 Q552.976 147.883 549.597 147.883 Q546.217 147.883 544.272 150.568 Q542.351 153.23 542.351 157.929 Z\" fill=\"#000000\" fill-rule=\"evenodd\" fill-opacity=\"1\" /><path clip-path=\"url(#clip850)\" d=\"M 0 0 M569.897 144.943 L574.157 144.943 L574.157 170.869 L569.897 170.869 L569.897 144.943 M569.897 134.85 L574.157 134.85 L574.157 140.244 L569.897 140.244 L569.897 134.85 Z\" fill=\"#000000\" fill-rule=\"evenodd\" fill-opacity=\"1\" /><path clip-path=\"url(#clip850)\" d=\"M 0 0 M587.282 137.582 L587.282 144.943 L596.055 144.943 L596.055 148.253 L587.282 148.253 L587.282 162.327 Q587.282 165.498 588.138 166.401 Q589.018 167.304 591.68 167.304 L596.055 167.304 L596.055 170.869 L591.68 170.869 Q586.749 170.869 584.874 169.04 Q582.999 167.188 582.999 162.327 L582.999 148.253 L579.874 148.253 L579.874 144.943 L582.999 144.943 L582.999 137.582 L587.282 137.582 Z\" fill=\"#000000\" fill-rule=\"evenodd\" fill-opacity=\"1\" /><path clip-path=\"url(#clip850)\" d=\"M 0 0 M601.656 144.943 L605.916 144.943 L605.916 170.869 L601.656 170.869 L601.656 144.943 M601.656 134.85 L605.916 134.85 L605.916 140.244 L601.656 140.244 L601.656 134.85 Z\" fill=\"#000000\" fill-rule=\"evenodd\" fill-opacity=\"1\" /><path clip-path=\"url(#clip850)\" d=\"M 0 0 M624.874 147.929 Q621.448 147.929 619.457 150.614 Q617.467 153.276 617.467 157.929 Q617.467 162.582 619.434 165.267 Q621.425 167.929 624.874 167.929 Q628.277 167.929 630.267 165.244 Q632.258 162.558 632.258 157.929 Q632.258 153.322 630.267 150.637 Q628.277 147.929 624.874 147.929 M624.874 144.318 Q630.429 144.318 633.601 147.929 Q636.772 151.54 636.772 157.929 Q636.772 164.295 633.601 167.929 Q630.429 171.54 624.874 171.54 Q619.295 171.54 616.124 167.929 Q612.976 164.295 612.976 157.929 Q612.976 151.54 616.124 147.929 Q619.295 144.318 624.874 144.318 Z\" fill=\"#000000\" fill-rule=\"evenodd\" fill-opacity=\"1\" /><path clip-path=\"url(#clip850)\" d=\"M 0 0 M665.383 155.221 L665.383 170.869 L661.124 170.869 L661.124 155.359 Q661.124 151.679 659.689 149.85 Q658.253 148.022 655.383 148.022 Q651.934 148.022 649.943 150.221 Q647.952 152.42 647.952 156.216 L647.952 170.869 L643.67 170.869 L643.67 144.943 L647.952 144.943 L647.952 148.971 Q649.48 146.633 651.54 145.475 Q653.624 144.318 656.332 144.318 Q660.8 144.318 663.091 147.096 Q665.383 149.85 665.383 155.221 Z\" fill=\"#000000\" fill-rule=\"evenodd\" fill-opacity=\"1\" /><path clip-path=\"url(#clip850)\" d=\"M 0 0 M710.498 155.221 L710.498 170.869 L706.239 170.869 L706.239 155.359 Q706.239 151.679 704.804 149.85 Q703.369 148.022 700.498 148.022 Q697.049 148.022 695.059 150.221 Q693.068 152.42 693.068 156.216 L693.068 170.869 L688.786 170.869 L688.786 144.943 L693.068 144.943 L693.068 148.971 Q694.596 146.633 696.656 145.475 Q698.739 144.318 701.448 144.318 Q705.915 144.318 708.207 147.096 Q710.498 149.85 710.498 155.221 Z\" fill=\"#000000\" fill-rule=\"evenodd\" fill-opacity=\"1\" /><path clip-path=\"url(#clip850)\" d=\"M 0 0 M718.554 160.637 L718.554 144.943 L722.813 144.943 L722.813 160.475 Q722.813 164.156 724.248 166.008 Q725.684 167.836 728.554 167.836 Q732.003 167.836 733.994 165.637 Q736.008 163.438 736.008 159.642 L736.008 144.943 L740.267 144.943 L740.267 170.869 L736.008 170.869 L736.008 166.887 Q734.457 169.248 732.396 170.406 Q730.359 171.54 727.651 171.54 Q723.184 171.54 720.869 168.762 Q718.554 165.984 718.554 160.637 M729.271 144.318 L729.271 144.318 Z\" fill=\"#000000\" fill-rule=\"evenodd\" fill-opacity=\"1\" /><path clip-path=\"url(#clip850)\" d=\"M 0 0 M769.225 149.92 Q770.822 147.049 773.044 145.684 Q775.267 144.318 778.276 144.318 Q782.327 144.318 784.526 147.165 Q786.725 149.989 786.725 155.221 L786.725 170.869 L782.442 170.869 L782.442 155.359 Q782.442 151.633 781.123 149.827 Q779.804 148.022 777.095 148.022 Q773.785 148.022 771.864 150.221 Q769.943 152.42 769.943 156.216 L769.943 170.869 L765.66 170.869 L765.66 155.359 Q765.66 151.609 764.341 149.827 Q763.021 148.022 760.267 148.022 Q757.003 148.022 755.082 150.244 Q753.16 152.443 753.16 156.216 L753.16 170.869 L748.878 170.869 L748.878 144.943 L753.16 144.943 L753.16 148.971 Q754.619 146.586 756.656 145.452 Q758.693 144.318 761.494 144.318 Q764.318 144.318 766.285 145.753 Q768.276 147.188 769.225 149.92 Z\" fill=\"#000000\" fill-rule=\"evenodd\" fill-opacity=\"1\" /><path clip-path=\"url(#clip850)\" d=\"M 0 0 M813.831 157.929 Q813.831 153.23 811.887 150.568 Q809.965 147.883 806.586 147.883 Q803.206 147.883 801.262 150.568 Q799.341 153.23 799.341 157.929 Q799.341 162.628 801.262 165.313 Q803.206 167.975 806.586 167.975 Q809.965 167.975 811.887 165.313 Q813.831 162.628 813.831 157.929 M799.341 148.878 Q800.683 146.563 802.72 145.452 Q804.78 144.318 807.628 144.318 Q812.35 144.318 815.29 148.068 Q818.252 151.818 818.252 157.929 Q818.252 164.04 815.29 167.79 Q812.35 171.54 807.628 171.54 Q804.78 171.54 802.72 170.429 Q800.683 169.295 799.341 166.98 L799.341 170.869 L795.058 170.869 L795.058 134.85 L799.341 134.85 L799.341 148.878 Z\" fill=\"#000000\" fill-rule=\"evenodd\" fill-opacity=\"1\" /><path clip-path=\"url(#clip850)\" d=\"M 0 0 M847.488 156.841 L847.488 158.924 L827.905 158.924 Q828.183 163.322 830.544 165.637 Q832.928 167.929 837.164 167.929 Q839.618 167.929 841.91 167.327 Q844.225 166.725 846.493 165.521 L846.493 169.549 Q844.201 170.521 841.794 171.031 Q839.387 171.54 836.91 171.54 Q830.706 171.54 827.072 167.929 Q823.461 164.318 823.461 158.16 Q823.461 151.795 826.887 148.068 Q830.336 144.318 836.169 144.318 Q841.401 144.318 844.433 147.697 Q847.488 151.054 847.488 156.841 M843.229 155.591 Q843.183 152.096 841.262 150.012 Q839.363 147.929 836.215 147.929 Q832.651 147.929 830.498 149.943 Q828.368 151.957 828.044 155.614 L843.229 155.591 Z\" fill=\"#000000\" fill-rule=\"evenodd\" fill-opacity=\"1\" /><path clip-path=\"url(#clip850)\" d=\"M 0 0 M869.502 148.924 Q868.785 148.508 867.928 148.322 Q867.095 148.114 866.076 148.114 Q862.465 148.114 860.521 150.475 Q858.599 152.813 858.599 157.211 L858.599 170.869 L854.317 170.869 L854.317 144.943 L858.599 144.943 L858.599 148.971 Q859.942 146.609 862.095 145.475 Q864.248 144.318 867.326 144.318 Q867.766 144.318 868.299 144.387 Q868.831 144.434 869.479 144.549 L869.502 148.924 Z\" fill=\"#000000\" fill-rule=\"evenodd\" fill-opacity=\"1\" /><circle clip-path=\"url(#clip850)\" cx=\"356.639\" cy=\"214.069\" r=\"23\" fill=\"#e26f46\" fill-rule=\"evenodd\" fill-opacity=\"1\" stroke=\"#000000\" stroke-opacity=\"1\" stroke-width=\"5.12\"/>\n",
       "<path clip-path=\"url(#clip850)\" d=\"M 0 0 M452.838 205.423 L457.097 205.423 L457.097 231.349 L452.838 231.349 L452.838 205.423 M452.838 195.33 L457.097 195.33 L457.097 200.724 L452.838 200.724 L452.838 195.33 Z\" fill=\"#000000\" fill-rule=\"evenodd\" fill-opacity=\"1\" /><path clip-path=\"url(#clip850)\" d=\"M 0 0 M487.56 215.701 L487.56 231.349 L483.301 231.349 L483.301 215.839 Q483.301 212.159 481.865 210.33 Q480.43 208.502 477.56 208.502 Q474.111 208.502 472.12 210.701 Q470.129 212.9 470.129 216.696 L470.129 231.349 L465.847 231.349 L465.847 205.423 L470.129 205.423 L470.129 209.451 Q471.657 207.113 473.717 205.955 Q475.801 204.798 478.509 204.798 Q482.977 204.798 485.268 207.576 Q487.56 210.33 487.56 215.701 Z\" fill=\"#000000\" fill-rule=\"evenodd\" fill-opacity=\"1\" /><path clip-path=\"url(#clip850)\" d=\"M 0 0 M500.175 227.46 L500.175 241.21 L495.893 241.21 L495.893 205.423 L500.175 205.423 L500.175 209.358 Q501.518 207.043 503.555 205.932 Q505.615 204.798 508.462 204.798 Q513.185 204.798 516.124 208.548 Q519.087 212.298 519.087 218.409 Q519.087 224.52 516.124 228.27 Q513.185 232.02 508.462 232.02 Q505.615 232.02 503.555 230.909 Q501.518 229.775 500.175 227.46 M514.666 218.409 Q514.666 213.71 512.722 211.048 Q510.8 208.363 507.421 208.363 Q504.041 208.363 502.097 211.048 Q500.175 213.71 500.175 218.409 Q500.175 223.108 502.097 225.793 Q504.041 228.455 507.421 228.455 Q510.8 228.455 512.722 225.793 Q514.666 223.108 514.666 218.409 Z\" fill=\"#000000\" fill-rule=\"evenodd\" fill-opacity=\"1\" /><path clip-path=\"url(#clip850)\" d=\"M 0 0 M525.708 221.117 L525.708 205.423 L529.967 205.423 L529.967 220.955 Q529.967 224.636 531.402 226.488 Q532.837 228.316 535.708 228.316 Q539.157 228.316 541.147 226.117 Q543.161 223.918 543.161 220.122 L543.161 205.423 L547.421 205.423 L547.421 231.349 L543.161 231.349 L543.161 227.367 Q541.61 229.728 539.55 230.886 Q537.513 232.02 534.805 232.02 Q530.337 232.02 528.023 229.242 Q525.708 226.464 525.708 221.117 M536.425 204.798 L536.425 204.798 Z\" fill=\"#000000\" fill-rule=\"evenodd\" fill-opacity=\"1\" /><path clip-path=\"url(#clip850)\" d=\"M 0 0 M560.407 198.062 L560.407 205.423 L569.18 205.423 L569.18 208.733 L560.407 208.733 L560.407 222.807 Q560.407 225.978 561.263 226.881 Q562.143 227.784 564.805 227.784 L569.18 227.784 L569.18 231.349 L564.805 231.349 Q559.874 231.349 557.999 229.52 Q556.124 227.668 556.124 222.807 L556.124 208.733 L552.999 208.733 L552.999 205.423 L556.124 205.423 L556.124 198.062 L560.407 198.062 Z\" fill=\"#000000\" fill-rule=\"evenodd\" fill-opacity=\"1\" /><path clip-path=\"url(#clip850)\" d=\"M 0 0 M612.027 217.321 L612.027 219.404 L592.444 219.404 Q592.721 223.802 595.082 226.117 Q597.467 228.409 601.703 228.409 Q604.156 228.409 606.448 227.807 Q608.763 227.205 611.031 226.001 L611.031 230.029 Q608.74 231.001 606.332 231.511 Q603.925 232.02 601.448 232.02 Q595.244 232.02 591.61 228.409 Q587.999 224.798 587.999 218.64 Q587.999 212.275 591.425 208.548 Q594.874 204.798 600.707 204.798 Q605.939 204.798 608.971 208.177 Q612.027 211.534 612.027 217.321 M607.768 216.071 Q607.721 212.576 605.8 210.492 Q603.902 208.409 600.754 208.409 Q597.189 208.409 595.036 210.423 Q592.906 212.437 592.582 216.094 L607.768 216.071 Z\" fill=\"#000000\" fill-rule=\"evenodd\" fill-opacity=\"1\" /><path clip-path=\"url(#clip850)\" d=\"M 0 0 M634.041 209.404 Q633.323 208.988 632.466 208.802 Q631.633 208.594 630.615 208.594 Q627.004 208.594 625.059 210.955 Q623.138 213.293 623.138 217.691 L623.138 231.349 L618.855 231.349 L618.855 205.423 L623.138 205.423 L623.138 209.451 Q624.48 207.089 626.633 205.955 Q628.786 204.798 631.865 204.798 Q632.304 204.798 632.837 204.867 Q633.369 204.914 634.017 205.029 L634.041 209.404 Z\" fill=\"#000000\" fill-rule=\"evenodd\" fill-opacity=\"1\" /><path clip-path=\"url(#clip850)\" d=\"M 0 0 M652.698 209.404 Q651.98 208.988 651.124 208.802 Q650.29 208.594 649.272 208.594 Q645.661 208.594 643.716 210.955 Q641.795 213.293 641.795 217.691 L641.795 231.349 L637.513 231.349 L637.513 205.423 L641.795 205.423 L641.795 209.451 Q643.138 207.089 645.29 205.955 Q647.443 204.798 650.522 204.798 Q650.962 204.798 651.494 204.867 Q652.027 204.914 652.675 205.029 L652.698 209.404 Z\" fill=\"#000000\" fill-rule=\"evenodd\" fill-opacity=\"1\" /><path clip-path=\"url(#clip850)\" d=\"M 0 0 M666.17 208.409 Q662.744 208.409 660.753 211.094 Q658.763 213.756 658.763 218.409 Q658.763 223.062 660.73 225.747 Q662.721 228.409 666.17 228.409 Q669.573 228.409 671.563 225.724 Q673.554 223.038 673.554 218.409 Q673.554 213.802 671.563 211.117 Q669.573 208.409 666.17 208.409 M666.17 204.798 Q671.725 204.798 674.897 208.409 Q678.068 212.02 678.068 218.409 Q678.068 224.775 674.897 228.409 Q671.725 232.02 666.17 232.02 Q660.591 232.02 657.42 228.409 Q654.272 224.775 654.272 218.409 Q654.272 212.02 657.42 208.409 Q660.591 204.798 666.17 204.798 Z\" fill=\"#000000\" fill-rule=\"evenodd\" fill-opacity=\"1\" /><path clip-path=\"url(#clip850)\" d=\"M 0 0 M700.151 209.404 Q699.434 208.988 698.577 208.802 Q697.744 208.594 696.725 208.594 Q693.114 208.594 691.17 210.955 Q689.249 213.293 689.249 217.691 L689.249 231.349 L684.966 231.349 L684.966 205.423 L689.249 205.423 L689.249 209.451 Q690.591 207.089 692.744 205.955 Q694.897 204.798 697.975 204.798 Q698.415 204.798 698.948 204.867 Q699.48 204.914 700.128 205.029 L700.151 209.404 Z\" fill=\"#000000\" fill-rule=\"evenodd\" fill-opacity=\"1\" /><circle clip-path=\"url(#clip850)\" cx=\"356.639\" cy=\"274.549\" r=\"23\" fill=\"#3da44d\" fill-rule=\"evenodd\" fill-opacity=\"1\" stroke=\"#000000\" stroke-opacity=\"1\" stroke-width=\"5.12\"/>\n",
       "<path clip-path=\"url(#clip850)\" d=\"M 0 0 M464.736 268.889 Q461.31 268.889 459.319 271.574 Q457.328 274.236 457.328 278.889 Q457.328 283.542 459.296 286.227 Q461.287 288.889 464.736 288.889 Q468.139 288.889 470.129 286.204 Q472.12 283.518 472.12 278.889 Q472.12 274.282 470.129 271.597 Q468.139 268.889 464.736 268.889 M464.736 265.278 Q470.291 265.278 473.463 268.889 Q476.634 272.5 476.634 278.889 Q476.634 285.255 473.463 288.889 Q470.291 292.5 464.736 292.5 Q459.157 292.5 455.986 288.889 Q452.838 285.255 452.838 278.889 Q452.838 272.5 455.986 268.889 Q459.157 265.278 464.736 265.278 Z\" fill=\"#000000\" fill-rule=\"evenodd\" fill-opacity=\"1\" /><path clip-path=\"url(#clip850)\" d=\"M 0 0 M483.254 281.597 L483.254 265.903 L487.514 265.903 L487.514 281.435 Q487.514 285.116 488.949 286.968 Q490.384 288.796 493.254 288.796 Q496.703 288.796 498.694 286.597 Q500.708 284.398 500.708 280.602 L500.708 265.903 L504.967 265.903 L504.967 291.829 L500.708 291.829 L500.708 287.847 Q499.157 290.208 497.097 291.366 Q495.06 292.5 492.351 292.5 Q487.884 292.5 485.569 289.722 Q483.254 286.944 483.254 281.597 M493.972 265.278 L493.972 265.278 Z\" fill=\"#000000\" fill-rule=\"evenodd\" fill-opacity=\"1\" /><path clip-path=\"url(#clip850)\" d=\"M 0 0 M517.953 258.542 L517.953 265.903 L526.726 265.903 L526.726 269.213 L517.953 269.213 L517.953 283.287 Q517.953 286.458 518.81 287.361 Q519.689 288.264 522.351 288.264 L526.726 288.264 L526.726 291.829 L522.351 291.829 Q517.421 291.829 515.546 290 Q513.671 288.148 513.671 283.287 L513.671 269.213 L510.546 269.213 L510.546 265.903 L513.671 265.903 L513.671 258.542 L517.953 258.542 Z\" fill=\"#000000\" fill-rule=\"evenodd\" fill-opacity=\"1\" /><path clip-path=\"url(#clip850)\" d=\"M 0 0 M536.448 287.94 L536.448 301.69 L532.166 301.69 L532.166 265.903 L536.448 265.903 L536.448 269.838 Q537.791 267.523 539.828 266.412 Q541.888 265.278 544.735 265.278 Q549.458 265.278 552.397 269.028 Q555.36 272.778 555.36 278.889 Q555.36 285 552.397 288.75 Q549.458 292.5 544.735 292.5 Q541.888 292.5 539.828 291.389 Q537.791 290.255 536.448 287.94 M550.939 278.889 Q550.939 274.19 548.995 271.528 Q547.073 268.843 543.694 268.843 Q540.314 268.843 538.37 271.528 Q536.448 274.19 536.448 278.889 Q536.448 283.588 538.37 286.273 Q540.314 288.935 543.694 288.935 Q547.073 288.935 548.995 286.273 Q550.939 283.588 550.939 278.889 Z\" fill=\"#000000\" fill-rule=\"evenodd\" fill-opacity=\"1\" /><path clip-path=\"url(#clip850)\" d=\"M 0 0 M561.981 281.597 L561.981 265.903 L566.24 265.903 L566.24 281.435 Q566.24 285.116 567.675 286.968 Q569.11 288.796 571.981 288.796 Q575.43 288.796 577.42 286.597 Q579.434 284.398 579.434 280.602 L579.434 265.903 L583.694 265.903 L583.694 291.829 L579.434 291.829 L579.434 287.847 Q577.883 290.208 575.823 291.366 Q573.786 292.5 571.078 292.5 Q566.61 292.5 564.296 289.722 Q561.981 286.944 561.981 281.597 M572.698 265.278 L572.698 265.278 Z\" fill=\"#000000\" fill-rule=\"evenodd\" fill-opacity=\"1\" /><path clip-path=\"url(#clip850)\" d=\"M 0 0 M596.68 258.542 L596.68 265.903 L605.453 265.903 L605.453 269.213 L596.68 269.213 L596.68 283.287 Q596.68 286.458 597.536 287.361 Q598.416 288.264 601.078 288.264 L605.453 288.264 L605.453 291.829 L601.078 291.829 Q596.147 291.829 594.272 290 Q592.397 288.148 592.397 283.287 L592.397 269.213 L589.272 269.213 L589.272 265.903 L592.397 265.903 L592.397 258.542 L596.68 258.542 Z\" fill=\"#000000\" fill-rule=\"evenodd\" fill-opacity=\"1\" /><path clip-path=\"url(#clip850)\" d=\"M 0 0 M648.3 277.801 L648.3 279.884 L628.716 279.884 Q628.994 284.282 631.355 286.597 Q633.74 288.889 637.976 288.889 Q640.429 288.889 642.721 288.287 Q645.036 287.685 647.304 286.481 L647.304 290.509 Q645.013 291.481 642.605 291.991 Q640.198 292.5 637.721 292.5 Q631.517 292.5 627.883 288.889 Q624.272 285.278 624.272 279.12 Q624.272 272.755 627.698 269.028 Q631.147 265.278 636.98 265.278 Q642.212 265.278 645.244 268.657 Q648.3 272.014 648.3 277.801 M644.04 276.551 Q643.994 273.056 642.073 270.972 Q640.175 268.889 637.027 268.889 Q633.462 268.889 631.309 270.903 Q629.179 272.917 628.855 276.574 L644.04 276.551 Z\" fill=\"#000000\" fill-rule=\"evenodd\" fill-opacity=\"1\" /><path clip-path=\"url(#clip850)\" d=\"M 0 0 M670.313 269.884 Q669.596 269.468 668.739 269.282 Q667.906 269.074 666.888 269.074 Q663.276 269.074 661.332 271.435 Q659.411 273.773 659.411 278.171 L659.411 291.829 L655.128 291.829 L655.128 265.903 L659.411 265.903 L659.411 269.931 Q660.753 267.569 662.906 266.435 Q665.059 265.278 668.138 265.278 Q668.577 265.278 669.11 265.347 Q669.642 265.394 670.29 265.509 L670.313 269.884 Z\" fill=\"#000000\" fill-rule=\"evenodd\" fill-opacity=\"1\" /><path clip-path=\"url(#clip850)\" d=\"M 0 0 M688.971 269.884 Q688.253 269.468 687.397 269.282 Q686.563 269.074 685.545 269.074 Q681.934 269.074 679.989 271.435 Q678.068 273.773 678.068 278.171 L678.068 291.829 L673.786 291.829 L673.786 265.903 L678.068 265.903 L678.068 269.931 Q679.411 267.569 681.563 266.435 Q683.716 265.278 686.795 265.278 Q687.235 265.278 687.767 265.347 Q688.299 265.394 688.948 265.509 L688.971 269.884 Z\" fill=\"#000000\" fill-rule=\"evenodd\" fill-opacity=\"1\" /><path clip-path=\"url(#clip850)\" d=\"M 0 0 M702.443 268.889 Q699.017 268.889 697.026 271.574 Q695.036 274.236 695.036 278.889 Q695.036 283.542 697.003 286.227 Q698.994 288.889 702.443 288.889 Q705.846 288.889 707.836 286.204 Q709.827 283.518 709.827 278.889 Q709.827 274.282 707.836 271.597 Q705.846 268.889 702.443 268.889 M702.443 265.278 Q707.998 265.278 711.17 268.889 Q714.341 272.5 714.341 278.889 Q714.341 285.255 711.17 288.889 Q707.998 292.5 702.443 292.5 Q696.864 292.5 693.693 288.889 Q690.545 285.255 690.545 278.889 Q690.545 272.5 693.693 268.889 Q696.864 265.278 702.443 265.278 Z\" fill=\"#000000\" fill-rule=\"evenodd\" fill-opacity=\"1\" /><path clip-path=\"url(#clip850)\" d=\"M 0 0 M736.424 269.884 Q735.707 269.468 734.85 269.282 Q734.017 269.074 732.998 269.074 Q729.387 269.074 727.443 271.435 Q725.522 273.773 725.522 278.171 L725.522 291.829 L721.239 291.829 L721.239 265.903 L725.522 265.903 L725.522 269.931 Q726.864 267.569 729.017 266.435 Q731.17 265.278 734.248 265.278 Q734.688 265.278 735.221 265.347 Q735.753 265.394 736.401 265.509 L736.424 269.884 Z\" fill=\"#000000\" fill-rule=\"evenodd\" fill-opacity=\"1\" /></svg>\n"
      ]
     },
     "execution_count": 19,
     "metadata": {},
     "output_type": "execute_result"
    }
   ],
   "source": [
    "@df rel_errors scatter(:size,[:condition_num,:relative_input,:relative_output],yaxis=:log,label=[\"condition number\" \"input error\" \"output error\"],legend=:topleft,xlabel=\"size\")"
   ]
  },
  {
   "cell_type": "markdown",
   "metadata": {},
   "source": [
    "Notice that we have used a log scale on the $y$-axis."
   ]
  },
  {
   "cell_type": "markdown",
   "metadata": {},
   "source": [
    "We learn a few things from the last plot:\n",
    "\n",
    "1) Small perturbations in the data $b$ lead to large errors in the result of solving the linear system with the perturbed data, and \n",
    "\n",
    "2) as predicted by our theory, there is a realtionship between the condition number and the ratio of relative change in output to the relative change in the input."
   ]
  },
  {
   "cell_type": "markdown",
   "metadata": {},
   "source": [
    "In practice, we cannot compute the error for $x-\\hat{x}$ because the exact solution $x$ is unknown. We sometimes call the expression $x-\\hat{x}$ the **forward error.** So how can we conduct an error analysis for the problem $Ax=b$ if we cannot compute $x-\\hat{x}$? The solution is to examine a theoretically related quantity that can be computed in practice.  "
   ]
  },
  {
   "cell_type": "markdown",
   "metadata": {},
   "source": [
    "## Backward error analysis"
   ]
  },
  {
   "cell_type": "markdown",
   "metadata": {},
   "source": [
    "Consider a linear system $Ax=b$, then for a vector $\\hat{x}$ (we think of $\\hat{x}$ as an estimate for the solution $x$ to $Ax=b$) we define the **residual** to be the vector\n",
    "\n",
    "$$r = b - A\\hat{x}.$$\n",
    "\n",
    "Notice that the residual is the zero vector if and only if $\\hat{x}=x$ where $Ax=b$. "
   ]
  },
  {
   "cell_type": "markdown",
   "metadata": {},
   "source": [
    "Now if $Ax=b$, then we have\n",
    "\n",
    "$$r = b - A\\hat{x} = Ax-A\\hat{x}=A(x-\\hat{x})$$\n",
    "\n",
    "so that the forward error $x-\\hat{x}$ is a solution to the linear system $Ay=r$. In other words $x-\\hat{x}=A^{-1}r$, provided $A$ is invertible. "
   ]
  },
  {
   "cell_type": "markdown",
   "metadata": {},
   "source": [
    "From $x-\\hat{x}=A^{-1}r$ we obtain \n",
    "\n",
    "$$\\|x-\\hat{x}\\|=\\|A^{-1}r\\| \\leq \\|A^{-1}\\|\\|r\\|.$$\n",
    "\n",
    "Next, since $\\|b\\|=\\|Ax\\|\\leq \\|A\\|\\|x\\|$ which implies $\\frac{1}{\\|x\\|}\\leq \\frac{\\|A\\|}{\\|b\\|}$, we obtain\n",
    "\n",
    "$$\\frac{\\|x-\\hat{x}\\|}{\\|x\\|}\\leq \\|A^{-1}\\|\\|r\\| \\frac{\\|A\\|}{\\|b\\|} = \\kappa(A)\\frac{\\|r\\|}{\\|b\\|}.$$"
   ]
  },
  {
   "cell_type": "markdown",
   "metadata": {},
   "source": [
    "The quantity $\\kappa(A)\\frac{\\|r\\|}{\\|b\\|}$ gives us an **estimate** for the realtive error $\\frac{\\|x-\\hat{x}\\|}{\\|x\\|}$. The point is that $\\kappa(A)\\frac{\\|r\\|}{\\|b\\|}$ is a quantity that can alwys be computed. We call $\\|r\\|$ the **backward error.** Therefore, the inequality\n",
    "\n",
    "$$\\frac{\\|x-\\hat{x}\\|}{\\|x\\|}\\leq \\kappa(A)\\frac{\\|r\\|}{\\|b\\|}$$\n",
    "\n",
    "tells us that\n",
    "\n",
    "> when solving a linear system $Ax=b$, all that can be expected is that the backward error be small. "
   ]
  },
  {
   "cell_type": "markdown",
   "metadata": {},
   "source": [
    "We have just demonstrated an example of an important concept in numerical analysis known as [backward error analysis](https://en.wikipedia.org/wiki/Error_analysis_(mathematics)#Backward_error_analysis). Another observation from the inequality \n",
    "\n",
    "$$\\frac{\\|x-\\hat{x}\\|}{\\|x\\|}\\leq \\kappa(A)\\frac{\\|r\\|}{\\|b\\|}$$\n",
    "\n",
    "is that if the condition number $\\kappa(A) \\approx 1$, that is, if $A$ is well-conditioned, then we can obtain a very accurate approximate solution to $Ax=b$ with a *stable* algorithm.  "
   ]
  },
  {
   "cell_type": "markdown",
   "metadata": {},
   "source": [
    "In the next lesson, we will see that if our matrix $A$ has some special structure, then we can often develop solution algorithms that are more efficient or more accurate than LU factorization. To get started, you may want to watch [this video on structured matrices](https://www.youtube.com/watch?v=V0qmlaH1WMI&list=PLvUvOH0OYx3BcZivtXMIwP6hKoYv0YvGn&index=13)."
   ]
  }
 ],
 "metadata": {
  "kernelspec": {
   "display_name": "Julia 1.6.1",
   "language": "julia",
   "name": "julia-1.6"
  },
  "language_info": {
   "file_extension": ".jl",
   "mimetype": "application/julia",
   "name": "julia",
   "version": "1.6.1"
  }
 },
 "nbformat": 4,
 "nbformat_minor": 4
}
