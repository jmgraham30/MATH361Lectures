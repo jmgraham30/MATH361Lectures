{
 "cells": [
  {
   "cell_type": "code",
   "execution_count": 1,
   "metadata": {
    "slideshow": {
     "slide_type": "skip"
    }
   },
   "outputs": [],
   "source": [
    "using DrWatson;\n",
    "@quickactivate \"MATH361Lectures\"\n",
    "using LinearAlgebra, Latexify, SpecialMatrices, DataFrames, StatsPlots;\n",
    "import MATH361Lectures;"
   ]
  },
  {
   "cell_type": "markdown",
   "metadata": {
    "slideshow": {
     "slide_type": "slide"
    }
   },
   "source": [
    "# Conditioning and Error Estimation for Linear Systems\n",
    "\n",
    "This lecture covers error estimation and conditioning in the context of the problem of solving systems of linear equations. \n",
    "\n",
    "We recommend watching [this lecture video](https://www.youtube.com/watch?v=3Fv_hdfPJ6A&list=PLvUvOH0OYx3BcZivtXMIwP6hKoYv0YvGn&index=12&t=44s) as a suplement to this lecture.  "
   ]
  },
  {
   "cell_type": "markdown",
   "metadata": {
    "slideshow": {
     "slide_type": "slide"
    }
   },
   "source": [
    "Let's take a minute to reflect on the general concept of conditioning introduced in a previous lecture. \n",
    "\n",
    "> Intuitively, the *conditioning* of a problem measures how sensitive it is to small changes (perturbations) in the data; if the problem is very sensitive, it is inherently more difficult to solve using finite precision arithmetic. Quoted from [*Scientific Computing*](https://link.springer.com/book/10.1007/978-3-319-04325-8) by Gander, Gander, and Kwok.\n",
    "  \n",
    "\n",
    "The *condition number* measures the conditioning of a problem. "
   ]
  },
  {
   "cell_type": "markdown",
   "metadata": {
    "slideshow": {
     "slide_type": "slide"
    }
   },
   "source": [
    "The point here is that if a problem is ill-conditioned (this being determined by the value of the condition number) then we are unlikely to be able to find a suitable algorithm for solving the problem. Again we highlight that conditioning is a property of a problem and is independent of any particular method of solving the problem. "
   ]
  },
  {
   "cell_type": "markdown",
   "metadata": {
    "slideshow": {
     "slide_type": "slide"
    }
   },
   "source": [
    "For a linear system $Ax=b$, the **data** are the matrix $A$ and vector $b$ and the **solution** is the vector $x$. We use vector and matrix norms to measure small changes in the data for a linear system. Furthermore, the condition number for a linear system will be expressed in terms of matrix norms. That is, if $A$ is a matrix and $\\|\\cdot\\|_{p}$ is a matrix norm, the condition number of $A$ with respect to the norm $\\|\\cdot\\|_{p}$ is denoted by $\\kappa_{p}(A)$ and defined to be\n",
    "\n",
    "$$\\kappa_{p}(A) = \\|A\\|_{p}\\|A^{-1}\\|_{p}.$$\n",
    "\n",
    "Let's discuss how this expression arises and then look at some examples. "
   ]
  },
  {
   "cell_type": "markdown",
   "metadata": {
    "slideshow": {
     "slide_type": "slide"
    }
   },
   "source": [
    "There are two ways in which the problem data can be perturbed, either a perturbation to the matrix $A$ or a perturbation to the vector $b$. For now, we consider only a perturbation to the vector $b$. Suppose that \n",
    "\n",
    "1) $x$ is the exact solution to $Ax=b$, and\n",
    "\n",
    "2) $b + \\beta $ is a (small) perturbation to $b$. \n",
    "\n",
    "Now, $x+\\xi$ is the solution to $A(x+\\xi) = b + \\beta$. Finally, since $A(x+\\xi) = Ax + A\\xi = b + \\beta$ and $Ax=b$ we have that $A\\xi = \\beta$ and thus $\\xi = A^{-1}\\beta$, provided that $A$ is invertible. "
   ]
  },
  {
   "cell_type": "markdown",
   "metadata": {
    "slideshow": {
     "slide_type": "slide"
    }
   },
   "source": [
    "To determine the conditioning of the problem $Ax=b$ we need to examine the ratio of the relative change in output to the relative change in the input. That is\n",
    "\n",
    "$$\\frac{\\frac{\\|x+\\xi - x\\|}{\\|x\\|}}{\\frac{\\|b+\\beta - b\\|}{\\|b\\|}} = \\frac{\\frac{\\|\\xi\\|}{\\|x\\|}}{\\frac{\\|\\beta\\|}{\\|b\\|}}=\\frac{\\|\\xi\\|}{\\|\\beta\\|}\\frac{\\|b\\|}{\\|x\\|} = \\frac{\\|A^{-1}\\beta\\|}{\\|\\beta\\|}\\frac{\\|Ax\\|}{\\|x\\|}\\leq \\frac{\\|A^{-1}\\|_{p}\\|\\beta\\|}{\\|\\beta\\|}\\frac{\\|A\\|_{p}\\|x\\|}{\\|x\\|}=\\|A^{-1}\\|_{p}\\|A\\|_{p}$$"
   ]
  },
  {
   "cell_type": "markdown",
   "metadata": {
    "slideshow": {
     "slide_type": "slide"
    }
   },
   "source": [
    "The previous manipulation demonstrates that perturbations to the problem data $b$ result in a ratio of relative change in output to the relative change in the input that is bounded by the quantity $\\|A^{-1}\\|_{p}\\|A\\|_{p}$. One may also show that the same expression arises as a bound for perturbations to the problem data $A$. This is why we define the **condition number** for a linear system to be\n",
    "\n",
    "$$\\kappa_{p}(A) = \\|A\\|_{p}\\|A^{-1}\\|_{p}.$$\n",
    "\n",
    "Either when it is clear from context or irrelevant which matrix norm is being used, we will simply write $\\kappa(A)$ for the condition number of a matrix $A$. "
   ]
  },
  {
   "cell_type": "markdown",
   "metadata": {
    "slideshow": {
     "slide_type": "slide"
    }
   },
   "source": [
    "**An observation:** In the homework you will show that if $I$ is the indentity matrix and $\\|\\cdot\\|$ is a matrix norm induced by a vector norm, then $\\|I\\|=1$. Now\n",
    "\n",
    "$$1 = \\|I\\| = \\|AA^{-1}\\| \\leq \\|A\\|\\|A^{-1}\\| = \\kappa(A).$$\n",
    "\n",
    "Because of this, if a matrix $A$ **has a condition number that is greater than 1** we say that $A$ is **ill-conditioned.** A linear system $Ax=b$ with a matrix $A$ that is ill-conditioned is said to be an ill-conditioned linear system. \n",
    "\n",
    "**Note:** If $A$ is a singular matrix, then we define $\\kappa(A) = \\infty$. If $\\kappa(A) > \\frac{1}{\\epsilon_{\\text{mach}}}$, then we say that $A$ is *practically singular*."
   ]
  },
  {
   "cell_type": "markdown",
   "metadata": {
    "slideshow": {
     "slide_type": "slide"
    }
   },
   "source": [
    "Let's use Julia to explore the consequences of an ill-conditioned linear system. We will examine linear systems $Ax=b$ where $A$ is a [Hilbert matrix](https://en.wikipedia.org/wiki/Hilbert_matrix). That is, $A$ will be a matrix with entries satisfying $A_{ij} = \\frac{1}{i+j-1}$. Notice that a Hilbert matrix is a symmetric matrix. For example, the $5\\times 5$ Hilber matrix is    "
   ]
  },
  {
   "cell_type": "code",
   "execution_count": 2,
   "metadata": {
    "slideshow": {
     "slide_type": "slide"
    }
   },
   "outputs": [
    {
     "data": {
      "text/plain": [
       "5×5 Hilbert{Rational{Int64}}:\n",
       " 1//1  1//2  1//3  1//4  1//5\n",
       " 1//2  1//3  1//4  1//5  1//6\n",
       " 1//3  1//4  1//5  1//6  1//7\n",
       " 1//4  1//5  1//6  1//7  1//8\n",
       " 1//5  1//6  1//7  1//8  1//9"
      ]
     },
     "execution_count": 2,
     "metadata": {},
     "output_type": "execute_result"
    }
   ],
   "source": [
    "A = Hilbert(5)"
   ]
  },
  {
   "cell_type": "markdown",
   "metadata": {
    "slideshow": {
     "slide_type": "slide"
    }
   },
   "source": [
    "Note that this matrix is a symmetric matrix with rational entries as follows: "
   ]
  },
  {
   "cell_type": "code",
   "execution_count": 3,
   "metadata": {
    "slideshow": {
     "slide_type": "slide"
    }
   },
   "outputs": [
    {
     "data": {
      "text/latex": [
       "\\begin{equation}\n",
       "\\left[\n",
       "\\begin{array}{ccccc}\n",
       "1 & \\frac{1}{2} & \\frac{1}{3} & \\frac{1}{4} & \\frac{1}{5} \\\\\n",
       "\\frac{1}{2} & \\frac{1}{3} & \\frac{1}{4} & \\frac{1}{5} & \\frac{1}{6} \\\\\n",
       "\\frac{1}{3} & \\frac{1}{4} & \\frac{1}{5} & \\frac{1}{6} & \\frac{1}{7} \\\\\n",
       "\\frac{1}{4} & \\frac{1}{5} & \\frac{1}{6} & \\frac{1}{7} & \\frac{1}{8} \\\\\n",
       "\\frac{1}{5} & \\frac{1}{6} & \\frac{1}{7} & \\frac{1}{8} & \\frac{1}{9} \\\\\n",
       "\\end{array}\n",
       "\\right]\n",
       "\\end{equation}\n"
      ],
      "text/plain": [
       "L\"\\begin{equation}\n",
       "\\left[\n",
       "\\begin{array}{ccccc}\n",
       "1 & \\frac{1}{2} & \\frac{1}{3} & \\frac{1}{4} & \\frac{1}{5} \\\\\n",
       "\\frac{1}{2} & \\frac{1}{3} & \\frac{1}{4} & \\frac{1}{5} & \\frac{1}{6} \\\\\n",
       "\\frac{1}{3} & \\frac{1}{4} & \\frac{1}{5} & \\frac{1}{6} & \\frac{1}{7} \\\\\n",
       "\\frac{1}{4} & \\frac{1}{5} & \\frac{1}{6} & \\frac{1}{7} & \\frac{1}{8} \\\\\n",
       "\\frac{1}{5} & \\frac{1}{6} & \\frac{1}{7} & \\frac{1}{8} & \\frac{1}{9} \\\\\n",
       "\\end{array}\n",
       "\\right]\n",
       "\\end{equation}\n",
       "\""
      ]
     },
     "metadata": {},
     "output_type": "display_data"
    }
   ],
   "source": [
    "latexify([1 1//2 1//3 1//4 1//5; 1//2 1//3 1//4 1//5 1//6; 1//3 1//4 1//5 1//6 1//7; 1//4 1//5 1//6 1//7 1//8; 1//5 1//6 1//7 1//8 1//9]) |> display"
   ]
  },
  {
   "cell_type": "markdown",
   "metadata": {
    "slideshow": {
     "slide_type": "slide"
    }
   },
   "source": [
    "We can use Julia to compute condition numbers of matrices. For example,"
   ]
  },
  {
   "cell_type": "code",
   "execution_count": 4,
   "metadata": {
    "slideshow": {
     "slide_type": "slide"
    }
   },
   "outputs": [
    {
     "data": {
      "text/plain": [
       "476607.2502419338"
      ]
     },
     "execution_count": 4,
     "metadata": {},
     "output_type": "execute_result"
    }
   ],
   "source": [
    "cond(A)"
   ]
  },
  {
   "cell_type": "markdown",
   "metadata": {
    "slideshow": {
     "slide_type": "slide"
    }
   },
   "source": [
    "Note that the default is the condition number with respect to the 2-norm."
   ]
  },
  {
   "cell_type": "code",
   "execution_count": 5,
   "metadata": {
    "slideshow": {
     "slide_type": "slide"
    }
   },
   "outputs": [
    {
     "data": {
      "text/plain": [
       "476607.2502419338"
      ]
     },
     "execution_count": 5,
     "metadata": {},
     "output_type": "execute_result"
    }
   ],
   "source": [
    "cond(A,2)"
   ]
  },
  {
   "cell_type": "markdown",
   "metadata": {
    "slideshow": {
     "slide_type": "slide"
    }
   },
   "source": [
    "To compute a condition number with respect to a different norm simpy change the value of the optional argument. "
   ]
  },
  {
   "cell_type": "code",
   "execution_count": 6,
   "metadata": {
    "slideshow": {
     "slide_type": "slide"
    }
   },
   "outputs": [
    {
     "data": {
      "text/plain": [
       "943656.0"
      ]
     },
     "execution_count": 6,
     "metadata": {},
     "output_type": "execute_result"
    }
   ],
   "source": [
    "cond(A,1)"
   ]
  },
  {
   "cell_type": "code",
   "execution_count": 7,
   "metadata": {
    "slideshow": {
     "slide_type": "slide"
    }
   },
   "outputs": [
    {
     "data": {
      "text/plain": [
       "943656.0"
      ]
     },
     "execution_count": 7,
     "metadata": {},
     "output_type": "execute_result"
    }
   ],
   "source": [
    "cond(A,Inf)"
   ]
  },
  {
   "cell_type": "markdown",
   "metadata": {
    "slideshow": {
     "slide_type": "slide"
    }
   },
   "source": [
    "**Question:** Why are the condition numbers with respect to the 1-norm and $\\infty$-norm for this particular matrix so close? "
   ]
  },
  {
   "cell_type": "markdown",
   "metadata": {
    "slideshow": {
     "slide_type": "slide"
    }
   },
   "source": [
    "Here are the condition numbers for many different sized Hilbert matrices:"
   ]
  },
  {
   "cell_type": "code",
   "execution_count": 8,
   "metadata": {
    "slideshow": {
     "slide_type": "slide"
    }
   },
   "outputs": [
    {
     "name": "stdout",
     "output_type": "stream",
     "text": [
      "The condition number for the 5 by 5 Hilbert matrix is 476607.2502419338\n",
      "The condition number for the 6 by 6 Hilbert matrix is 1.4951058641781438e7\n",
      "The condition number for the 7 by 7 Hilbert matrix is 4.753673568815896e8\n",
      "The condition number for the 8 by 8 Hilbert matrix is 1.5257575568347378e10\n",
      "The condition number for the 9 by 9 Hilbert matrix is 4.9315332284138226e11\n",
      "The condition number for the 10 by 10 Hilbert matrix is 1.602493053861801e13\n",
      "The condition number for the 11 by 11 Hilbert matrix is 5.2247797042670644e14\n",
      "The condition number for the 12 by 12 Hilbert matrix is 1.642582584316724e16\n",
      "The condition number for the 13 by 13 Hilbert matrix is 4.4691072287967375e18\n",
      "The condition number for the 14 by 14 Hilbert matrix is 3.213787720967528e17\n",
      "The condition number for the 15 by 15 Hilbert matrix is 3.3659212797388026e17\n"
     ]
    }
   ],
   "source": [
    "for i in 5:15\n",
    "    println(\"The condition number for the $i by $i Hilbert matrix is \", cond(Hilbert(i)))\n",
    "end"
   ]
  },
  {
   "cell_type": "markdown",
   "metadata": {
    "slideshow": {
     "slide_type": "slide"
    }
   },
   "source": [
    "It appears that Hilbert matrices are ill-conditioned. What happens if we try to solve a linear system involving a Hilbert matrix? Let's do some experiments to see. What we will do is compare the computed solution of $Ax=b$ after a small perturbation with a known exact solution. We will create perturbations by rounding.   "
   ]
  },
  {
   "cell_type": "markdown",
   "metadata": {
    "slideshow": {
     "slide_type": "slide"
    }
   },
   "source": [
    "We begin our experiments using the $5\\times 5$ Hilbert matrix and construct a vector corresponding to a known solution:"
   ]
  },
  {
   "cell_type": "code",
   "execution_count": 20,
   "metadata": {
    "slideshow": {
     "slide_type": "slide"
    }
   },
   "outputs": [
    {
     "data": {
      "text/plain": [
       "5-element Vector{Float64}:\n",
       " 0.5\n",
       " 0.35500000000000004\n",
       " 0.2814285714285715\n",
       " 0.23464285714285715\n",
       " 0.20174603174603176"
      ]
     },
     "execution_count": 20,
     "metadata": {},
     "output_type": "execute_result"
    }
   ],
   "source": [
    "x = 0.1*[i for i in 1:5]\n",
    "b = A*x"
   ]
  },
  {
   "cell_type": "markdown",
   "metadata": {
    "slideshow": {
     "slide_type": "slide"
    }
   },
   "source": [
    "Let's look at $x$ and $b$: "
   ]
  },
  {
   "cell_type": "code",
   "execution_count": 10,
   "metadata": {
    "slideshow": {
     "slide_type": "slide"
    }
   },
   "outputs": [
    {
     "name": "stdout",
     "output_type": "stream",
     "text": [
      "x = [0.1, 0.2, 0.30000000000000004, 0.4, 0.5]\n",
      "b = [0.5, 0.35500000000000004, 0.2814285714285715, 0.23464285714285715, 0.20174603174603176]\n"
     ]
    }
   ],
   "source": [
    "println(\"x = \", x)\n",
    "println(\"b = \", b)"
   ]
  },
  {
   "cell_type": "markdown",
   "metadata": {
    "slideshow": {
     "slide_type": "slide"
    }
   },
   "source": [
    "Now we perturb $b$ by rounding:"
   ]
  },
  {
   "cell_type": "code",
   "execution_count": 11,
   "metadata": {
    "slideshow": {
     "slide_type": "slide"
    }
   },
   "outputs": [
    {
     "data": {
      "text/plain": [
       "5-element Vector{Float64}:\n",
       " 0.5\n",
       " 0.35499998927116394\n",
       " 0.28142857551574707\n",
       " 0.2346428632736206\n",
       " 0.20174603164196014"
      ]
     },
     "execution_count": 11,
     "metadata": {},
     "output_type": "execute_result"
    }
   ],
   "source": [
    "b_hat = Float64.(Float32.(b))"
   ]
  },
  {
   "cell_type": "markdown",
   "metadata": {
    "slideshow": {
     "slide_type": "slide"
    }
   },
   "source": [
    "Finally, let's solve $A\\hat{x}=\\hat{b}$ where $\\hat{b}$ is our rounded version of $b$: "
   ]
  },
  {
   "cell_type": "code",
   "execution_count": 12,
   "metadata": {
    "slideshow": {
     "slide_type": "slide"
    }
   },
   "outputs": [
    {
     "data": {
      "text/plain": [
       "5-element Vector{Float64}:\n",
       " 0.09999886155128976\n",
       " 0.20003736019126367\n",
       " 0.29980033636125286\n",
       " 0.4003387689585927\n",
       " 0.49982160329839664"
      ]
     },
     "execution_count": 12,
     "metadata": {},
     "output_type": "execute_result"
    }
   ],
   "source": [
    "x_hat = A \\ b_hat"
   ]
  },
  {
   "cell_type": "markdown",
   "metadata": {
    "slideshow": {
     "slide_type": "slide"
    }
   },
   "source": [
    "We can compute the relative error between the solutions $x$ and $\\hat{x}$:"
   ]
  },
  {
   "cell_type": "code",
   "execution_count": 13,
   "metadata": {
    "slideshow": {
     "slide_type": "slide"
    }
   },
   "outputs": [
    {
     "data": {
      "text/plain": [
       "0.0005844226973431662"
      ]
     },
     "execution_count": 13,
     "metadata": {},
     "output_type": "execute_result"
    }
   ],
   "source": [
    "rel_error = norm(x_hat-x)/norm(x)"
   ]
  },
  {
   "cell_type": "markdown",
   "metadata": {
    "slideshow": {
     "slide_type": "slide"
    }
   },
   "source": [
    "Compare this with the relative change in $b$:"
   ]
  },
  {
   "cell_type": "code",
   "execution_count": 14,
   "metadata": {
    "slideshow": {
     "slide_type": "slide"
    }
   },
   "outputs": [
    {
     "data": {
      "text/plain": [
       "1.753474095075257e-8"
      ]
     },
     "execution_count": 14,
     "metadata": {},
     "output_type": "execute_result"
    }
   ],
   "source": [
    "norm(b_hat - b)/norm(b)"
   ]
  },
  {
   "cell_type": "markdown",
   "metadata": {
    "slideshow": {
     "slide_type": "slide"
    }
   },
   "source": [
    "Notice that the relative error between $x$ and $\\hat{x}$ is much larger than the relative error between $b$ and $\\hat{b}$. Let's redo our experiment for many different sized Hilbert matrices. What we will see is that small perturbations in the input data $b$ can lead to large errors in the output. "
   ]
  },
  {
   "cell_type": "markdown",
   "metadata": {
    "slideshow": {
     "slide_type": "slide"
    }
   },
   "source": [
    "We proceed by writing a function that does this for any size Hilbert matrix:"
   ]
  },
  {
   "cell_type": "code",
   "execution_count": 15,
   "metadata": {
    "slideshow": {
     "slide_type": "slide"
    }
   },
   "outputs": [
    {
     "data": {
      "text/plain": [
       "hilbert_error (generic function with 1 method)"
      ]
     },
     "execution_count": 15,
     "metadata": {},
     "output_type": "execute_result"
    }
   ],
   "source": [
    "function hilbert_error(n)\n",
    "    A = Hilbert(n);\n",
    "    kappa_A = cond(A);\n",
    "    x = 0.1*[i for i in 1:n];\n",
    "    b = A*x;\n",
    "    b_hat = Float64.(Float32.(b));\n",
    "    x_hat = A \\ b_hat;\n",
    "    rel_output = norm(x_hat-x)/norm(x);\n",
    "    rel_input = norm(b_hat-b)/norm(b);\n",
    "    return (size=n,condition_num=kappa_A,relative_input=rel_input, relative_output=rel_output)\n",
    "end"
   ]
  },
  {
   "cell_type": "markdown",
   "metadata": {
    "slideshow": {
     "slide_type": "slide"
    }
   },
   "source": [
    "The input of our function ```hilbert_error``` is the size of the desired Hilbert matrix, and the output of this function is the size of the matrix, the condition number of the matrix, the relative error of the input data, and the realtive error of the output data.  "
   ]
  },
  {
   "cell_type": "markdown",
   "metadata": {
    "slideshow": {
     "slide_type": "slide"
    }
   },
   "source": [
    "We test our function:"
   ]
  },
  {
   "cell_type": "code",
   "execution_count": 16,
   "metadata": {
    "slideshow": {
     "slide_type": "slide"
    }
   },
   "outputs": [
    {
     "data": {
      "text/plain": [
       "(size = 5, condition_num = 476607.2502419338, relative_input = 1.753474095075257e-8, relative_output = 0.0005844226973431662)"
      ]
     },
     "execution_count": 16,
     "metadata": {},
     "output_type": "execute_result"
    }
   ],
   "source": [
    "rel_in, rel_out = hilbert_error(5)"
   ]
  },
  {
   "cell_type": "markdown",
   "metadata": {
    "slideshow": {
     "slide_type": "slide"
    }
   },
   "source": [
    "Now we will call our function for many different size matrices and convert the result to a data table:"
   ]
  },
  {
   "cell_type": "code",
   "execution_count": 17,
   "metadata": {
    "slideshow": {
     "slide_type": "slide"
    }
   },
   "outputs": [],
   "source": [
    "rel_errors = [hilbert_error(i) for i in 5:15];\n",
    "error_data = DataFrame();\n",
    "for n in rel_errors\n",
    "    push!(error_data, n);\n",
    "end"
   ]
  },
  {
   "cell_type": "markdown",
   "metadata": {
    "slideshow": {
     "slide_type": "slide"
    }
   },
   "source": [
    "We can examine the first few rows of our data table:"
   ]
  },
  {
   "cell_type": "code",
   "execution_count": 18,
   "metadata": {
    "slideshow": {
     "slide_type": "slide"
    }
   },
   "outputs": [
    {
     "data": {
      "text/html": [
       "<div class=\"data-frame\"><p>5 rows × 4 columns</p><table class=\"data-frame\"><thead><tr><th></th><th>size</th><th>condition_num</th><th>relative_input</th><th>relative_output</th></tr><tr><th></th><th title=\"Int64\">Int64</th><th title=\"Float64\">Float64</th><th title=\"Float64\">Float64</th><th title=\"Float64\">Float64</th></tr></thead><tbody><tr><th>1</th><td>5</td><td>4.76607e5</td><td>1.75347e-8</td><td>0.000584423</td></tr><tr><th>2</th><td>6</td><td>1.49511e7</td><td>3.39979e-8</td><td>0.10251</td></tr><tr><th>3</th><td>7</td><td>4.75367e8</td><td>2.30039e-8</td><td>2.16147</td></tr><tr><th>4</th><td>8</td><td>1.52576e10</td><td>2.31082e-8</td><td>48.0901</td></tr><tr><th>5</th><td>9</td><td>4.93153e11</td><td>2.82462e-8</td><td>775.014</td></tr></tbody></table></div>"
      ],
      "text/latex": [
       "\\begin{tabular}{r|cccc}\n",
       "\t& size & condition\\_num & relative\\_input & relative\\_output\\\\\n",
       "\t\\hline\n",
       "\t& Int64 & Float64 & Float64 & Float64\\\\\n",
       "\t\\hline\n",
       "\t1 & 5 & 4.76607e5 & 1.75347e-8 & 0.000584423 \\\\\n",
       "\t2 & 6 & 1.49511e7 & 3.39979e-8 & 0.10251 \\\\\n",
       "\t3 & 7 & 4.75367e8 & 2.30039e-8 & 2.16147 \\\\\n",
       "\t4 & 8 & 1.52576e10 & 2.31082e-8 & 48.0901 \\\\\n",
       "\t5 & 9 & 4.93153e11 & 2.82462e-8 & 775.014 \\\\\n",
       "\\end{tabular}\n"
      ],
      "text/plain": [
       "\u001b[1m5×4 DataFrame\u001b[0m\n",
       "\u001b[1m Row \u001b[0m│\u001b[1m size  \u001b[0m\u001b[1m condition_num \u001b[0m\u001b[1m relative_input \u001b[0m\u001b[1m relative_output \u001b[0m\n",
       "\u001b[1m     \u001b[0m│\u001b[90m Int64 \u001b[0m\u001b[90m Float64       \u001b[0m\u001b[90m Float64        \u001b[0m\u001b[90m Float64         \u001b[0m\n",
       "─────┼───────────────────────────────────────────────────────\n",
       "   1 │     5     4.76607e5       1.75347e-8      0.000584423\n",
       "   2 │     6     1.49511e7       3.39979e-8      0.10251\n",
       "   3 │     7     4.75367e8       2.30039e-8      2.16147\n",
       "   4 │     8     1.52576e10      2.31082e-8     48.0901\n",
       "   5 │     9     4.93153e11      2.82462e-8    775.014"
      ]
     },
     "execution_count": 18,
     "metadata": {},
     "output_type": "execute_result"
    }
   ],
   "source": [
    "first(error_data,5)"
   ]
  },
  {
   "cell_type": "markdown",
   "metadata": {},
   "source": [
    "A plot allows us to see more of our data:"
   ]
  },
  {
   "cell_type": "code",
   "execution_count": 19,
   "metadata": {
    "slideshow": {
     "slide_type": "slide"
    }
   },
   "outputs": [
    {
     "data": {
      "image/svg+xml": [
       "<?xml version=\"1.0\" encoding=\"utf-8\"?>\n",
       "<svg xmlns=\"http://www.w3.org/2000/svg\" xmlns:xlink=\"http://www.w3.org/1999/xlink\" width=\"600\" height=\"400\" viewBox=\"0 0 2400 1600\">\n",
       "<defs>\n",
       "  <clipPath id=\"clip010\">\n",
       "    <rect x=\"0\" y=\"0\" width=\"2400\" height=\"1600\"/>\n",
       "  </clipPath>\n",
       "</defs>\n",
       "<path clip-path=\"url(#clip010)\" d=\"\n",
       "M0 1600 L2400 1600 L2400 0 L0 0  Z\n",
       "  \" fill=\"#ffffff\" fill-rule=\"evenodd\" fill-opacity=\"1\"/>\n",
       "<defs>\n",
       "  <clipPath id=\"clip011\">\n",
       "    <rect x=\"480\" y=\"0\" width=\"1681\" height=\"1600\"/>\n",
       "  </clipPath>\n",
       "</defs>\n",
       "<path clip-path=\"url(#clip010)\" d=\"\n",
       "M181.183 1423.18 L2352.76 1423.18 L2352.76 47.2441 L181.183 47.2441  Z\n",
       "  \" fill=\"#ffffff\" fill-rule=\"evenodd\" fill-opacity=\"1\"/>\n",
       "<defs>\n",
       "  <clipPath id=\"clip012\">\n",
       "    <rect x=\"181\" y=\"47\" width=\"2173\" height=\"1377\"/>\n",
       "  </clipPath>\n",
       "</defs>\n",
       "<polyline clip-path=\"url(#clip012)\" style=\"stroke:#000000; stroke-linecap:butt; stroke-linejoin:round; stroke-width:2; stroke-opacity:0.1; fill:none\" points=\"\n",
       "  447.508,1423.18 447.508,47.2441 \n",
       "  \"/>\n",
       "<polyline clip-path=\"url(#clip012)\" style=\"stroke:#000000; stroke-linecap:butt; stroke-linejoin:round; stroke-width:2; stroke-opacity:0.1; fill:none\" points=\"\n",
       "  857.239,1423.18 857.239,47.2441 \n",
       "  \"/>\n",
       "<polyline clip-path=\"url(#clip012)\" style=\"stroke:#000000; stroke-linecap:butt; stroke-linejoin:round; stroke-width:2; stroke-opacity:0.1; fill:none\" points=\"\n",
       "  1266.97,1423.18 1266.97,47.2441 \n",
       "  \"/>\n",
       "<polyline clip-path=\"url(#clip012)\" style=\"stroke:#000000; stroke-linecap:butt; stroke-linejoin:round; stroke-width:2; stroke-opacity:0.1; fill:none\" points=\"\n",
       "  1676.7,1423.18 1676.7,47.2441 \n",
       "  \"/>\n",
       "<polyline clip-path=\"url(#clip012)\" style=\"stroke:#000000; stroke-linecap:butt; stroke-linejoin:round; stroke-width:2; stroke-opacity:0.1; fill:none\" points=\"\n",
       "  2086.43,1423.18 2086.43,47.2441 \n",
       "  \"/>\n",
       "<polyline clip-path=\"url(#clip010)\" style=\"stroke:#000000; stroke-linecap:butt; stroke-linejoin:round; stroke-width:4; stroke-opacity:1; fill:none\" points=\"\n",
       "  181.183,1423.18 2352.76,1423.18 \n",
       "  \"/>\n",
       "<polyline clip-path=\"url(#clip010)\" style=\"stroke:#000000; stroke-linecap:butt; stroke-linejoin:round; stroke-width:4; stroke-opacity:1; fill:none\" points=\"\n",
       "  447.508,1423.18 447.508,1406.67 \n",
       "  \"/>\n",
       "<polyline clip-path=\"url(#clip010)\" style=\"stroke:#000000; stroke-linecap:butt; stroke-linejoin:round; stroke-width:4; stroke-opacity:1; fill:none\" points=\"\n",
       "  857.239,1423.18 857.239,1406.67 \n",
       "  \"/>\n",
       "<polyline clip-path=\"url(#clip010)\" style=\"stroke:#000000; stroke-linecap:butt; stroke-linejoin:round; stroke-width:4; stroke-opacity:1; fill:none\" points=\"\n",
       "  1266.97,1423.18 1266.97,1406.67 \n",
       "  \"/>\n",
       "<polyline clip-path=\"url(#clip010)\" style=\"stroke:#000000; stroke-linecap:butt; stroke-linejoin:round; stroke-width:4; stroke-opacity:1; fill:none\" points=\"\n",
       "  1676.7,1423.18 1676.7,1406.67 \n",
       "  \"/>\n",
       "<polyline clip-path=\"url(#clip010)\" style=\"stroke:#000000; stroke-linecap:butt; stroke-linejoin:round; stroke-width:4; stroke-opacity:1; fill:none\" points=\"\n",
       "  2086.43,1423.18 2086.43,1406.67 \n",
       "  \"/>\n",
       "<path clip-path=\"url(#clip010)\" d=\"M447.913 1464.71 Q444.765 1464.71 442.913 1466.86 Q441.084 1469.01 441.084 1472.76 Q441.084 1476.49 442.913 1478.67 Q444.765 1480.82 447.913 1480.82 Q451.061 1480.82 452.89 1478.67 Q454.742 1476.49 454.742 1472.76 Q454.742 1469.01 452.89 1466.86 Q451.061 1464.71 447.913 1464.71 M457.195 1450.06 L457.195 1454.31 Q455.436 1453.48 453.631 1453.04 Q451.848 1452.6 450.089 1452.6 Q445.459 1452.6 443.006 1455.73 Q440.575 1458.85 440.228 1465.17 Q441.594 1463.16 443.654 1462.09 Q445.714 1461 448.191 1461 Q453.399 1461 456.408 1464.18 Q459.441 1467.32 459.441 1472.76 Q459.441 1478.09 456.293 1481.31 Q453.144 1484.52 447.913 1484.52 Q441.918 1484.52 438.746 1479.94 Q435.575 1475.33 435.575 1466.61 Q435.575 1458.41 439.464 1453.55 Q443.353 1448.67 449.904 1448.67 Q451.663 1448.67 453.445 1449.01 Q455.251 1449.36 457.195 1450.06 Z\" fill=\"#000000\" fill-rule=\"evenodd\" fill-opacity=\"1\" /><path clip-path=\"url(#clip010)\" d=\"M857.239 1467.44 Q853.905 1467.44 851.984 1469.22 Q850.086 1471 850.086 1474.13 Q850.086 1477.25 851.984 1479.04 Q853.905 1480.82 857.239 1480.82 Q860.572 1480.82 862.493 1479.04 Q864.415 1477.23 864.415 1474.13 Q864.415 1471 862.493 1469.22 Q860.595 1467.44 857.239 1467.44 M852.563 1465.45 Q849.553 1464.71 847.864 1462.65 Q846.197 1460.59 846.197 1457.63 Q846.197 1453.48 849.137 1451.07 Q852.1 1448.67 857.239 1448.67 Q862.401 1448.67 865.34 1451.07 Q868.28 1453.48 868.28 1457.63 Q868.28 1460.59 866.59 1462.65 Q864.924 1464.71 861.938 1465.45 Q865.317 1466.24 867.192 1468.53 Q869.09 1470.82 869.09 1474.13 Q869.09 1479.15 866.012 1481.84 Q862.956 1484.52 857.239 1484.52 Q851.521 1484.52 848.442 1481.84 Q845.387 1479.15 845.387 1474.13 Q845.387 1470.82 847.285 1468.53 Q849.183 1466.24 852.563 1465.45 M850.85 1458.06 Q850.85 1460.75 852.516 1462.25 Q854.206 1463.76 857.239 1463.76 Q860.248 1463.76 861.938 1462.25 Q863.651 1460.75 863.651 1458.06 Q863.651 1455.38 861.938 1453.88 Q860.248 1452.37 857.239 1452.37 Q854.206 1452.37 852.516 1453.88 Q850.85 1455.38 850.85 1458.06 Z\" fill=\"#000000\" fill-rule=\"evenodd\" fill-opacity=\"1\" /><path clip-path=\"url(#clip010)\" d=\"M1241.66 1479.92 L1249.3 1479.92 L1249.3 1453.55 L1240.99 1455.22 L1240.99 1450.96 L1249.25 1449.29 L1253.93 1449.29 L1253.93 1479.92 L1261.56 1479.92 L1261.56 1483.85 L1241.66 1483.85 L1241.66 1479.92 Z\" fill=\"#000000\" fill-rule=\"evenodd\" fill-opacity=\"1\" /><path clip-path=\"url(#clip010)\" d=\"M1281.01 1452.37 Q1277.4 1452.37 1275.57 1455.94 Q1273.76 1459.48 1273.76 1466.61 Q1273.76 1473.71 1275.57 1477.28 Q1277.4 1480.82 1281.01 1480.82 Q1284.64 1480.82 1286.45 1477.28 Q1288.28 1473.71 1288.28 1466.61 Q1288.28 1459.48 1286.45 1455.94 Q1284.64 1452.37 1281.01 1452.37 M1281.01 1448.67 Q1286.82 1448.67 1289.87 1453.27 Q1292.95 1457.86 1292.95 1466.61 Q1292.95 1475.33 1289.87 1479.94 Q1286.82 1484.52 1281.01 1484.52 Q1275.2 1484.52 1272.12 1479.94 Q1269.06 1475.33 1269.06 1466.61 Q1269.06 1457.86 1272.12 1453.27 Q1275.2 1448.67 1281.01 1448.67 Z\" fill=\"#000000\" fill-rule=\"evenodd\" fill-opacity=\"1\" /><path clip-path=\"url(#clip010)\" d=\"M1652.19 1479.92 L1659.83 1479.92 L1659.83 1453.55 L1651.52 1455.22 L1651.52 1450.96 L1659.78 1449.29 L1664.45 1449.29 L1664.45 1479.92 L1672.09 1479.92 L1672.09 1483.85 L1652.19 1483.85 L1652.19 1479.92 Z\" fill=\"#000000\" fill-rule=\"evenodd\" fill-opacity=\"1\" /><path clip-path=\"url(#clip010)\" d=\"M1685.57 1479.92 L1701.89 1479.92 L1701.89 1483.85 L1679.94 1483.85 L1679.94 1479.92 Q1682.6 1477.16 1687.19 1472.53 Q1691.79 1467.88 1692.97 1466.54 Q1695.22 1464.01 1696.1 1462.28 Q1697 1460.52 1697 1458.83 Q1697 1456.07 1695.06 1454.34 Q1693.14 1452.6 1690.03 1452.6 Q1687.83 1452.6 1685.38 1453.37 Q1682.95 1454.13 1680.17 1455.68 L1680.17 1450.96 Q1683 1449.82 1685.45 1449.25 Q1687.9 1448.67 1689.94 1448.67 Q1695.31 1448.67 1698.51 1451.35 Q1701.7 1454.04 1701.7 1458.53 Q1701.7 1460.66 1700.89 1462.58 Q1700.1 1464.48 1698 1467.07 Q1697.42 1467.74 1694.32 1470.96 Q1691.21 1474.15 1685.57 1479.92 Z\" fill=\"#000000\" fill-rule=\"evenodd\" fill-opacity=\"1\" /><path clip-path=\"url(#clip010)\" d=\"M2060.88 1479.92 L2068.51 1479.92 L2068.51 1453.55 L2060.2 1455.22 L2060.2 1450.96 L2068.47 1449.29 L2073.14 1449.29 L2073.14 1479.92 L2080.78 1479.92 L2080.78 1483.85 L2060.88 1483.85 L2060.88 1479.92 Z\" fill=\"#000000\" fill-rule=\"evenodd\" fill-opacity=\"1\" /><path clip-path=\"url(#clip010)\" d=\"M2103.07 1453.37 L2091.27 1471.81 L2103.07 1471.81 L2103.07 1453.37 M2101.85 1449.29 L2107.73 1449.29 L2107.73 1471.81 L2112.66 1471.81 L2112.66 1475.7 L2107.73 1475.7 L2107.73 1483.85 L2103.07 1483.85 L2103.07 1475.7 L2087.47 1475.7 L2087.47 1471.19 L2101.85 1449.29 Z\" fill=\"#000000\" fill-rule=\"evenodd\" fill-opacity=\"1\" /><path clip-path=\"url(#clip010)\" d=\"M1232.61 1533.45 L1232.61 1538.98 Q1230.13 1537.71 1227.45 1537.07 Q1224.78 1536.44 1221.92 1536.44 Q1217.56 1536.44 1215.36 1537.77 Q1213.2 1539.11 1213.2 1541.79 Q1213.2 1543.82 1214.75 1545 Q1216.31 1546.15 1221.02 1547.2 L1223.03 1547.64 Q1229.27 1548.98 1231.88 1551.43 Q1234.52 1553.85 1234.52 1558.21 Q1234.52 1563.17 1230.57 1566.07 Q1226.66 1568.97 1219.78 1568.97 Q1216.92 1568.97 1213.8 1568.39 Q1210.71 1567.85 1207.27 1566.74 L1207.27 1560.69 Q1210.52 1562.38 1213.67 1563.24 Q1216.82 1564.07 1219.91 1564.07 Q1224.05 1564.07 1226.28 1562.66 Q1228.5 1561.23 1228.5 1558.65 Q1228.5 1556.27 1226.88 1554.99 Q1225.29 1553.72 1219.85 1552.54 L1217.81 1552.07 Q1212.37 1550.92 1209.95 1548.56 Q1207.53 1546.18 1207.53 1542.04 Q1207.53 1537.01 1211.09 1534.27 Q1214.66 1531.54 1221.22 1531.54 Q1224.46 1531.54 1227.33 1532.01 Q1230.19 1532.49 1232.61 1533.45 Z\" fill=\"#000000\" fill-rule=\"evenodd\" fill-opacity=\"1\" /><path clip-path=\"url(#clip010)\" d=\"M1243.85 1532.4 L1249.7 1532.4 L1249.7 1568.04 L1243.85 1568.04 L1243.85 1532.4 M1243.85 1518.52 L1249.7 1518.52 L1249.7 1525.93 L1243.85 1525.93 L1243.85 1518.52 Z\" fill=\"#000000\" fill-rule=\"evenodd\" fill-opacity=\"1\" /><path clip-path=\"url(#clip010)\" d=\"M1259.41 1532.4 L1287.23 1532.4 L1287.23 1537.74 L1265.2 1563.37 L1287.23 1563.37 L1287.23 1568.04 L1258.61 1568.04 L1258.61 1562.7 L1280.64 1537.07 L1259.41 1537.07 L1259.41 1532.4 Z\" fill=\"#000000\" fill-rule=\"evenodd\" fill-opacity=\"1\" /><path clip-path=\"url(#clip010)\" d=\"M1326.66 1548.76 L1326.66 1551.62 L1299.74 1551.62 Q1300.12 1557.67 1303.37 1560.85 Q1306.64 1564 1312.47 1564 Q1315.84 1564 1318.99 1563.17 Q1322.18 1562.35 1325.3 1560.69 L1325.3 1566.23 Q1322.14 1567.57 1318.83 1568.27 Q1315.52 1568.97 1312.12 1568.97 Q1303.59 1568.97 1298.59 1564 Q1293.63 1559.04 1293.63 1550.57 Q1293.63 1541.82 1298.34 1536.69 Q1303.08 1531.54 1311.1 1531.54 Q1318.29 1531.54 1322.46 1536.18 Q1326.66 1540.8 1326.66 1548.76 M1320.81 1547.04 Q1320.74 1542.23 1318.1 1539.37 Q1315.49 1536.5 1311.16 1536.5 Q1306.26 1536.5 1303.3 1539.27 Q1300.37 1542.04 1299.93 1547.07 L1320.81 1547.04 Z\" fill=\"#000000\" fill-rule=\"evenodd\" fill-opacity=\"1\" /><polyline clip-path=\"url(#clip012)\" style=\"stroke:#000000; stroke-linecap:butt; stroke-linejoin:round; stroke-width:2; stroke-opacity:0.1; fill:none\" points=\"\n",
       "  181.183,1002.97 2352.76,1002.97 \n",
       "  \"/>\n",
       "<polyline clip-path=\"url(#clip012)\" style=\"stroke:#000000; stroke-linecap:butt; stroke-linejoin:round; stroke-width:2; stroke-opacity:0.1; fill:none\" points=\"\n",
       "  181.183,511.404 2352.76,511.404 \n",
       "  \"/>\n",
       "<polyline clip-path=\"url(#clip010)\" style=\"stroke:#000000; stroke-linecap:butt; stroke-linejoin:round; stroke-width:4; stroke-opacity:1; fill:none\" points=\"\n",
       "  181.183,1423.18 181.183,47.2441 \n",
       "  \"/>\n",
       "<polyline clip-path=\"url(#clip010)\" style=\"stroke:#000000; stroke-linecap:butt; stroke-linejoin:round; stroke-width:4; stroke-opacity:1; fill:none\" points=\"\n",
       "  181.183,1002.97 207.242,1002.97 \n",
       "  \"/>\n",
       "<polyline clip-path=\"url(#clip010)\" style=\"stroke:#000000; stroke-linecap:butt; stroke-linejoin:round; stroke-width:4; stroke-opacity:1; fill:none\" points=\"\n",
       "  181.183,511.404 207.242,511.404 \n",
       "  \"/>\n",
       "<path clip-path=\"url(#clip010)\" d=\"M74.4772 1022.76 L82.1161 1022.76 L82.1161 996.399 L73.806 998.066 L73.806 993.807 L82.0698 992.14 L86.7457 992.14 L86.7457 1022.76 L94.3845 1022.76 L94.3845 1026.7 L74.4772 1026.7 L74.4772 1022.76 Z\" fill=\"#000000\" fill-rule=\"evenodd\" fill-opacity=\"1\" /><path clip-path=\"url(#clip010)\" d=\"M113.829 995.219 Q110.218 995.219 108.389 998.784 Q106.584 1002.33 106.584 1009.45 Q106.584 1016.56 108.389 1020.13 Q110.218 1023.67 113.829 1023.67 Q117.463 1023.67 119.269 1020.13 Q121.097 1016.56 121.097 1009.45 Q121.097 1002.33 119.269 998.784 Q117.463 995.219 113.829 995.219 M113.829 991.515 Q119.639 991.515 122.695 996.122 Q125.773 1000.7 125.773 1009.45 Q125.773 1018.18 122.695 1022.79 Q119.639 1027.37 113.829 1027.37 Q108.019 1027.37 104.94 1022.79 Q101.885 1018.18 101.885 1009.45 Q101.885 1000.7 104.94 996.122 Q108.019 991.515 113.829 991.515 Z\" fill=\"#000000\" fill-rule=\"evenodd\" fill-opacity=\"1\" /><path clip-path=\"url(#clip010)\" d=\"M135.478 973.711 Q132.544 973.711 131.058 976.608 Q129.591 979.485 129.591 985.278 Q129.591 991.052 131.058 993.948 Q132.544 996.826 135.478 996.826 Q138.431 996.826 139.898 993.948 Q141.384 991.052 141.384 985.278 Q141.384 979.485 139.898 976.608 Q138.431 973.711 135.478 973.711 M135.478 970.702 Q140.199 970.702 142.681 974.445 Q145.183 978.169 145.183 985.278 Q145.183 992.368 142.681 996.111 Q140.199 999.835 135.478 999.835 Q130.757 999.835 128.256 996.111 Q125.773 992.368 125.773 985.278 Q125.773 978.169 128.256 974.445 Q130.757 970.702 135.478 970.702 Z\" fill=\"#000000\" fill-rule=\"evenodd\" fill-opacity=\"1\" /><path clip-path=\"url(#clip010)\" d=\"M51.6634 531.196 L59.3023 531.196 L59.3023 504.83 L50.9921 506.497 L50.9921 502.238 L59.256 500.571 L63.9319 500.571 L63.9319 531.196 L71.5707 531.196 L71.5707 535.131 L51.6634 535.131 L51.6634 531.196 Z\" fill=\"#000000\" fill-rule=\"evenodd\" fill-opacity=\"1\" /><path clip-path=\"url(#clip010)\" d=\"M91.0151 503.65 Q87.404 503.65 85.5753 507.215 Q83.7697 510.756 83.7697 517.886 Q83.7697 524.992 85.5753 528.557 Q87.404 532.099 91.0151 532.099 Q94.6493 532.099 96.4548 528.557 Q98.2835 524.992 98.2835 517.886 Q98.2835 510.756 96.4548 507.215 Q94.6493 503.65 91.0151 503.65 M91.0151 499.946 Q96.8252 499.946 99.8808 504.553 Q102.959 509.136 102.959 517.886 Q102.959 526.613 99.8808 531.219 Q96.8252 535.803 91.0151 535.803 Q85.2049 535.803 82.1262 531.219 Q79.0707 526.613 79.0707 517.886 Q79.0707 509.136 82.1262 504.553 Q85.2049 499.946 91.0151 499.946 Z\" fill=\"#000000\" fill-rule=\"evenodd\" fill-opacity=\"1\" /><path clip-path=\"url(#clip010)\" d=\"M103.505 504.523 L109.711 504.523 L109.711 483.101 L102.959 484.456 L102.959 480.995 L109.674 479.641 L113.473 479.641 L113.473 504.523 L119.68 504.523 L119.68 507.721 L103.505 507.721 L103.505 504.523 Z\" fill=\"#000000\" fill-rule=\"evenodd\" fill-opacity=\"1\" /><path clip-path=\"url(#clip010)\" d=\"M135.478 482.142 Q132.544 482.142 131.058 485.039 Q129.591 487.916 129.591 493.709 Q129.591 499.483 131.058 502.379 Q132.544 505.257 135.478 505.257 Q138.431 505.257 139.898 502.379 Q141.384 499.483 141.384 493.709 Q141.384 487.916 139.898 485.039 Q138.431 482.142 135.478 482.142 M135.478 479.133 Q140.199 479.133 142.681 482.876 Q145.183 486.6 145.183 493.709 Q145.183 500.8 142.681 504.542 Q140.199 508.266 135.478 508.266 Q130.757 508.266 128.256 504.542 Q125.773 500.8 125.773 493.709 Q125.773 486.6 128.256 482.876 Q130.757 479.133 135.478 479.133 Z\" fill=\"#000000\" fill-rule=\"evenodd\" fill-opacity=\"1\" /><circle clip-path=\"url(#clip012)\" cx=\"242.642\" cy=\"723.852\" r=\"14\" fill=\"#009af9\" fill-rule=\"evenodd\" fill-opacity=\"1\" stroke=\"#000000\" stroke-opacity=\"1\" stroke-width=\"3.2\"/>\n",
       "<circle clip-path=\"url(#clip012)\" cx=\"447.508\" cy=\"650.288\" r=\"14\" fill=\"#009af9\" fill-rule=\"evenodd\" fill-opacity=\"1\" stroke=\"#000000\" stroke-opacity=\"1\" stroke-width=\"3.2\"/>\n",
       "<circle clip-path=\"url(#clip012)\" cx=\"652.373\" cy=\"576.437\" r=\"14\" fill=\"#009af9\" fill-rule=\"evenodd\" fill-opacity=\"1\" stroke=\"#000000\" stroke-opacity=\"1\" stroke-width=\"3.2\"/>\n",
       "<circle clip-path=\"url(#clip012)\" cx=\"857.239\" cy=\"502.384\" r=\"14\" fill=\"#009af9\" fill-rule=\"evenodd\" fill-opacity=\"1\" stroke=\"#000000\" stroke-opacity=\"1\" stroke-width=\"3.2\"/>\n",
       "<circle clip-path=\"url(#clip012)\" cx=\"1062.1\" cy=\"428.182\" r=\"14\" fill=\"#009af9\" fill-rule=\"evenodd\" fill-opacity=\"1\" stroke=\"#000000\" stroke-opacity=\"1\" stroke-width=\"3.2\"/>\n",
       "<circle clip-path=\"url(#clip012)\" cx=\"1266.97\" cy=\"353.866\" r=\"14\" fill=\"#009af9\" fill-rule=\"evenodd\" fill-opacity=\"1\" stroke=\"#000000\" stroke-opacity=\"1\" stroke-width=\"3.2\"/>\n",
       "<circle clip-path=\"url(#clip012)\" cx=\"1471.83\" cy=\"279.478\" r=\"14\" fill=\"#009af9\" fill-rule=\"evenodd\" fill-opacity=\"1\" stroke=\"#000000\" stroke-opacity=\"1\" stroke-width=\"3.2\"/>\n",
       "<circle clip-path=\"url(#clip012)\" cx=\"1676.7\" cy=\"205.868\" r=\"14\" fill=\"#009af9\" fill-rule=\"evenodd\" fill-opacity=\"1\" stroke=\"#000000\" stroke-opacity=\"1\" stroke-width=\"3.2\"/>\n",
       "<circle clip-path=\"url(#clip012)\" cx=\"1881.57\" cy=\"86.1857\" r=\"14\" fill=\"#009af9\" fill-rule=\"evenodd\" fill-opacity=\"1\" stroke=\"#000000\" stroke-opacity=\"1\" stroke-width=\"3.2\"/>\n",
       "<circle clip-path=\"url(#clip012)\" cx=\"2086.43\" cy=\"142.382\" r=\"14\" fill=\"#009af9\" fill-rule=\"evenodd\" fill-opacity=\"1\" stroke=\"#000000\" stroke-opacity=\"1\" stroke-width=\"3.2\"/>\n",
       "<circle clip-path=\"url(#clip012)\" cx=\"2291.3\" cy=\"141.395\" r=\"14\" fill=\"#009af9\" fill-rule=\"evenodd\" fill-opacity=\"1\" stroke=\"#000000\" stroke-opacity=\"1\" stroke-width=\"3.2\"/>\n",
       "<circle clip-path=\"url(#clip012)\" cx=\"242.642\" cy=\"1384.24\" r=\"14\" fill=\"#e26f46\" fill-rule=\"evenodd\" fill-opacity=\"1\" stroke=\"#000000\" stroke-opacity=\"1\" stroke-width=\"3.2\"/>\n",
       "<circle clip-path=\"url(#clip012)\" cx=\"447.508\" cy=\"1370.1\" r=\"14\" fill=\"#e26f46\" fill-rule=\"evenodd\" fill-opacity=\"1\" stroke=\"#000000\" stroke-opacity=\"1\" stroke-width=\"3.2\"/>\n",
       "<circle clip-path=\"url(#clip012)\" cx=\"652.373\" cy=\"1378.44\" r=\"14\" fill=\"#e26f46\" fill-rule=\"evenodd\" fill-opacity=\"1\" stroke=\"#000000\" stroke-opacity=\"1\" stroke-width=\"3.2\"/>\n",
       "<circle clip-path=\"url(#clip012)\" cx=\"857.239\" cy=\"1378.35\" r=\"14\" fill=\"#e26f46\" fill-rule=\"evenodd\" fill-opacity=\"1\" stroke=\"#000000\" stroke-opacity=\"1\" stroke-width=\"3.2\"/>\n",
       "<circle clip-path=\"url(#clip012)\" cx=\"1062.1\" cy=\"1374.06\" r=\"14\" fill=\"#e26f46\" fill-rule=\"evenodd\" fill-opacity=\"1\" stroke=\"#000000\" stroke-opacity=\"1\" stroke-width=\"3.2\"/>\n",
       "<circle clip-path=\"url(#clip012)\" cx=\"1266.97\" cy=\"1379.49\" r=\"14\" fill=\"#e26f46\" fill-rule=\"evenodd\" fill-opacity=\"1\" stroke=\"#000000\" stroke-opacity=\"1\" stroke-width=\"3.2\"/>\n",
       "<circle clip-path=\"url(#clip012)\" cx=\"1471.83\" cy=\"1377.05\" r=\"14\" fill=\"#e26f46\" fill-rule=\"evenodd\" fill-opacity=\"1\" stroke=\"#000000\" stroke-opacity=\"1\" stroke-width=\"3.2\"/>\n",
       "<circle clip-path=\"url(#clip012)\" cx=\"1676.7\" cy=\"1374.65\" r=\"14\" fill=\"#e26f46\" fill-rule=\"evenodd\" fill-opacity=\"1\" stroke=\"#000000\" stroke-opacity=\"1\" stroke-width=\"3.2\"/>\n",
       "<circle clip-path=\"url(#clip012)\" cx=\"1881.57\" cy=\"1374.37\" r=\"14\" fill=\"#e26f46\" fill-rule=\"evenodd\" fill-opacity=\"1\" stroke=\"#000000\" stroke-opacity=\"1\" stroke-width=\"3.2\"/>\n",
       "<circle clip-path=\"url(#clip012)\" cx=\"2086.43\" cy=\"1372.23\" r=\"14\" fill=\"#e26f46\" fill-rule=\"evenodd\" fill-opacity=\"1\" stroke=\"#000000\" stroke-opacity=\"1\" stroke-width=\"3.2\"/>\n",
       "<circle clip-path=\"url(#clip012)\" cx=\"2291.3\" cy=\"1378.9\" r=\"14\" fill=\"#e26f46\" fill-rule=\"evenodd\" fill-opacity=\"1\" stroke=\"#000000\" stroke-opacity=\"1\" stroke-width=\"3.2\"/>\n",
       "<circle clip-path=\"url(#clip012)\" cx=\"242.642\" cy=\"1161.91\" r=\"14\" fill=\"#3da44d\" fill-rule=\"evenodd\" fill-opacity=\"1\" stroke=\"#000000\" stroke-opacity=\"1\" stroke-width=\"3.2\"/>\n",
       "<circle clip-path=\"url(#clip012)\" cx=\"447.508\" cy=\"1051.6\" r=\"14\" fill=\"#3da44d\" fill-rule=\"evenodd\" fill-opacity=\"1\" stroke=\"#000000\" stroke-opacity=\"1\" stroke-width=\"3.2\"/>\n",
       "<circle clip-path=\"url(#clip012)\" cx=\"652.373\" cy=\"986.517\" r=\"14\" fill=\"#3da44d\" fill-rule=\"evenodd\" fill-opacity=\"1\" stroke=\"#000000\" stroke-opacity=\"1\" stroke-width=\"3.2\"/>\n",
       "<circle clip-path=\"url(#clip012)\" cx=\"857.239\" cy=\"920.288\" r=\"14\" fill=\"#3da44d\" fill-rule=\"evenodd\" fill-opacity=\"1\" stroke=\"#000000\" stroke-opacity=\"1\" stroke-width=\"3.2\"/>\n",
       "<circle clip-path=\"url(#clip012)\" cx=\"1062.1\" cy=\"860.943\" r=\"14\" fill=\"#3da44d\" fill-rule=\"evenodd\" fill-opacity=\"1\" stroke=\"#000000\" stroke-opacity=\"1\" stroke-width=\"3.2\"/>\n",
       "<circle clip-path=\"url(#clip012)\" cx=\"1266.97\" cy=\"797.652\" r=\"14\" fill=\"#3da44d\" fill-rule=\"evenodd\" fill-opacity=\"1\" stroke=\"#000000\" stroke-opacity=\"1\" stroke-width=\"3.2\"/>\n",
       "<circle clip-path=\"url(#clip012)\" cx=\"1471.83\" cy=\"759.967\" r=\"14\" fill=\"#3da44d\" fill-rule=\"evenodd\" fill-opacity=\"1\" stroke=\"#000000\" stroke-opacity=\"1\" stroke-width=\"3.2\"/>\n",
       "<circle clip-path=\"url(#clip012)\" cx=\"1676.7\" cy=\"646.186\" r=\"14\" fill=\"#3da44d\" fill-rule=\"evenodd\" fill-opacity=\"1\" stroke=\"#000000\" stroke-opacity=\"1\" stroke-width=\"3.2\"/>\n",
       "<circle clip-path=\"url(#clip012)\" cx=\"1881.57\" cy=\"537.957\" r=\"14\" fill=\"#3da44d\" fill-rule=\"evenodd\" fill-opacity=\"1\" stroke=\"#000000\" stroke-opacity=\"1\" stroke-width=\"3.2\"/>\n",
       "<circle clip-path=\"url(#clip012)\" cx=\"2086.43\" cy=\"507.523\" r=\"14\" fill=\"#3da44d\" fill-rule=\"evenodd\" fill-opacity=\"1\" stroke=\"#000000\" stroke-opacity=\"1\" stroke-width=\"3.2\"/>\n",
       "<circle clip-path=\"url(#clip012)\" cx=\"2291.3\" cy=\"391.5\" r=\"14\" fill=\"#3da44d\" fill-rule=\"evenodd\" fill-opacity=\"1\" stroke=\"#000000\" stroke-opacity=\"1\" stroke-width=\"3.2\"/>\n",
       "<path clip-path=\"url(#clip010)\" d=\"\n",
       "M253.569 300.469 L911.519 300.469 L911.519 93.1086 L253.569 93.1086  Z\n",
       "  \" fill=\"#ffffff\" fill-rule=\"evenodd\" fill-opacity=\"1\"/>\n",
       "<polyline clip-path=\"url(#clip010)\" style=\"stroke:#000000; stroke-linecap:butt; stroke-linejoin:round; stroke-width:4; stroke-opacity:1; fill:none\" points=\"\n",
       "  253.569,300.469 911.519,300.469 911.519,93.1086 253.569,93.1086 253.569,300.469 \n",
       "  \"/>\n",
       "<circle clip-path=\"url(#clip010)\" cx=\"350.083\" cy=\"144.949\" r=\"23\" fill=\"#009af9\" fill-rule=\"evenodd\" fill-opacity=\"1\" stroke=\"#000000\" stroke-opacity=\"1\" stroke-width=\"5.12\"/>\n",
       "<path clip-path=\"url(#clip010)\" d=\"M467.107 137.298 L467.107 141.28 Q465.301 140.284 463.472 139.798 Q461.667 139.289 459.815 139.289 Q455.671 139.289 453.38 141.928 Q451.088 144.544 451.088 149.289 Q451.088 154.034 453.38 156.673 Q455.671 159.289 459.815 159.289 Q461.667 159.289 463.472 158.803 Q465.301 158.293 467.107 157.298 L467.107 161.233 Q465.324 162.067 463.403 162.483 Q461.505 162.9 459.352 162.9 Q453.495 162.9 450.046 159.219 Q446.597 155.539 446.597 149.289 Q446.597 142.946 450.07 139.312 Q453.565 135.678 459.63 135.678 Q461.597 135.678 463.472 136.095 Q465.347 136.488 467.107 137.298 Z\" fill=\"#000000\" fill-rule=\"evenodd\" fill-opacity=\"1\" /><path clip-path=\"url(#clip010)\" d=\"M484.56 139.289 Q481.134 139.289 479.143 141.974 Q477.153 144.636 477.153 149.289 Q477.153 153.942 479.12 156.627 Q481.111 159.289 484.56 159.289 Q487.963 159.289 489.954 156.604 Q491.944 153.918 491.944 149.289 Q491.944 144.682 489.954 141.997 Q487.963 139.289 484.56 139.289 M484.56 135.678 Q490.116 135.678 493.287 139.289 Q496.458 142.9 496.458 149.289 Q496.458 155.655 493.287 159.289 Q490.116 162.9 484.56 162.9 Q478.981 162.9 475.81 159.289 Q472.662 155.655 472.662 149.289 Q472.662 142.9 475.81 139.289 Q478.981 135.678 484.56 135.678 Z\" fill=\"#000000\" fill-rule=\"evenodd\" fill-opacity=\"1\" /><path clip-path=\"url(#clip010)\" d=\"M525.069 146.581 L525.069 162.229 L520.81 162.229 L520.81 146.719 Q520.81 143.039 519.375 141.21 Q517.94 139.382 515.069 139.382 Q511.62 139.382 509.629 141.581 Q507.639 143.78 507.639 147.576 L507.639 162.229 L503.356 162.229 L503.356 136.303 L507.639 136.303 L507.639 140.331 Q509.166 137.993 511.227 136.835 Q513.31 135.678 516.018 135.678 Q520.486 135.678 522.778 138.456 Q525.069 141.21 525.069 146.581 Z\" fill=\"#000000\" fill-rule=\"evenodd\" fill-opacity=\"1\" /><path clip-path=\"url(#clip010)\" d=\"M550.625 140.238 L550.625 126.21 L554.884 126.21 L554.884 162.229 L550.625 162.229 L550.625 158.34 Q549.282 160.655 547.222 161.789 Q545.185 162.9 542.314 162.9 Q537.615 162.9 534.652 159.15 Q531.713 155.4 531.713 149.289 Q531.713 143.178 534.652 139.428 Q537.615 135.678 542.314 135.678 Q545.185 135.678 547.222 136.812 Q549.282 137.923 550.625 140.238 M536.111 149.289 Q536.111 153.988 538.032 156.673 Q539.976 159.335 543.356 159.335 Q546.736 159.335 548.68 156.673 Q550.625 153.988 550.625 149.289 Q550.625 144.59 548.68 141.928 Q546.736 139.243 543.356 139.243 Q539.976 139.243 538.032 141.928 Q536.111 144.59 536.111 149.289 Z\" fill=\"#000000\" fill-rule=\"evenodd\" fill-opacity=\"1\" /><path clip-path=\"url(#clip010)\" d=\"M563.657 136.303 L567.916 136.303 L567.916 162.229 L563.657 162.229 L563.657 136.303 M563.657 126.21 L567.916 126.21 L567.916 131.604 L563.657 131.604 L563.657 126.21 Z\" fill=\"#000000\" fill-rule=\"evenodd\" fill-opacity=\"1\" /><path clip-path=\"url(#clip010)\" d=\"M581.041 128.942 L581.041 136.303 L589.814 136.303 L589.814 139.613 L581.041 139.613 L581.041 153.687 Q581.041 156.858 581.898 157.761 Q582.777 158.664 585.439 158.664 L589.814 158.664 L589.814 162.229 L585.439 162.229 Q580.509 162.229 578.634 160.4 Q576.759 158.548 576.759 153.687 L576.759 139.613 L573.634 139.613 L573.634 136.303 L576.759 136.303 L576.759 128.942 L581.041 128.942 Z\" fill=\"#000000\" fill-rule=\"evenodd\" fill-opacity=\"1\" /><path clip-path=\"url(#clip010)\" d=\"M595.416 136.303 L599.675 136.303 L599.675 162.229 L595.416 162.229 L595.416 136.303 M595.416 126.21 L599.675 126.21 L599.675 131.604 L595.416 131.604 L595.416 126.21 Z\" fill=\"#000000\" fill-rule=\"evenodd\" fill-opacity=\"1\" /><path clip-path=\"url(#clip010)\" d=\"M618.633 139.289 Q615.208 139.289 613.217 141.974 Q611.226 144.636 611.226 149.289 Q611.226 153.942 613.194 156.627 Q615.184 159.289 618.633 159.289 Q622.036 159.289 624.027 156.604 Q626.018 153.918 626.018 149.289 Q626.018 144.682 624.027 141.997 Q622.036 139.289 618.633 139.289 M618.633 135.678 Q624.189 135.678 627.36 139.289 Q630.532 142.9 630.532 149.289 Q630.532 155.655 627.36 159.289 Q624.189 162.9 618.633 162.9 Q613.055 162.9 609.884 159.289 Q606.735 155.655 606.735 149.289 Q606.735 142.9 609.884 139.289 Q613.055 135.678 618.633 135.678 Z\" fill=\"#000000\" fill-rule=\"evenodd\" fill-opacity=\"1\" /><path clip-path=\"url(#clip010)\" d=\"M659.143 146.581 L659.143 162.229 L654.883 162.229 L654.883 146.719 Q654.883 143.039 653.448 141.21 Q652.013 139.382 649.143 139.382 Q645.694 139.382 643.703 141.581 Q641.712 143.78 641.712 147.576 L641.712 162.229 L637.43 162.229 L637.43 136.303 L641.712 136.303 L641.712 140.331 Q643.24 137.993 645.3 136.835 Q647.383 135.678 650.092 135.678 Q654.559 135.678 656.851 138.456 Q659.143 141.21 659.143 146.581 Z\" fill=\"#000000\" fill-rule=\"evenodd\" fill-opacity=\"1\" /><path clip-path=\"url(#clip010)\" d=\"M704.258 146.581 L704.258 162.229 L699.999 162.229 L699.999 146.719 Q699.999 143.039 698.564 141.21 Q697.128 139.382 694.258 139.382 Q690.809 139.382 688.818 141.581 Q686.828 143.78 686.828 147.576 L686.828 162.229 L682.545 162.229 L682.545 136.303 L686.828 136.303 L686.828 140.331 Q688.355 137.993 690.416 136.835 Q692.499 135.678 695.207 135.678 Q699.675 135.678 701.966 138.456 Q704.258 141.21 704.258 146.581 Z\" fill=\"#000000\" fill-rule=\"evenodd\" fill-opacity=\"1\" /><path clip-path=\"url(#clip010)\" d=\"M712.314 151.997 L712.314 136.303 L716.573 136.303 L716.573 151.835 Q716.573 155.516 718.008 157.368 Q719.443 159.196 722.313 159.196 Q725.763 159.196 727.753 156.997 Q729.767 154.798 729.767 151.002 L729.767 136.303 L734.026 136.303 L734.026 162.229 L729.767 162.229 L729.767 158.247 Q728.216 160.608 726.156 161.766 Q724.119 162.9 721.411 162.9 Q716.943 162.9 714.628 160.122 Q712.314 157.344 712.314 151.997 M723.031 135.678 L723.031 135.678 Z\" fill=\"#000000\" fill-rule=\"evenodd\" fill-opacity=\"1\" /><path clip-path=\"url(#clip010)\" d=\"M762.985 141.28 Q764.582 138.409 766.804 137.044 Q769.026 135.678 772.035 135.678 Q776.086 135.678 778.285 138.525 Q780.484 141.349 780.484 146.581 L780.484 162.229 L776.202 162.229 L776.202 146.719 Q776.202 142.993 774.883 141.187 Q773.563 139.382 770.855 139.382 Q767.545 139.382 765.623 141.581 Q763.702 143.78 763.702 147.576 L763.702 162.229 L759.42 162.229 L759.42 146.719 Q759.42 142.969 758.1 141.187 Q756.781 139.382 754.026 139.382 Q750.762 139.382 748.841 141.604 Q746.92 143.803 746.92 147.576 L746.92 162.229 L742.637 162.229 L742.637 136.303 L746.92 136.303 L746.92 140.331 Q748.378 137.946 750.415 136.812 Q752.452 135.678 755.253 135.678 Q758.077 135.678 760.045 137.113 Q762.035 138.548 762.985 141.28 Z\" fill=\"#000000\" fill-rule=\"evenodd\" fill-opacity=\"1\" /><path clip-path=\"url(#clip010)\" d=\"M807.591 149.289 Q807.591 144.59 805.646 141.928 Q803.725 139.243 800.345 139.243 Q796.966 139.243 795.021 141.928 Q793.1 144.59 793.1 149.289 Q793.1 153.988 795.021 156.673 Q796.966 159.335 800.345 159.335 Q803.725 159.335 805.646 156.673 Q807.591 153.988 807.591 149.289 M793.1 140.238 Q794.443 137.923 796.48 136.812 Q798.54 135.678 801.387 135.678 Q806.109 135.678 809.049 139.428 Q812.012 143.178 812.012 149.289 Q812.012 155.4 809.049 159.15 Q806.109 162.9 801.387 162.9 Q798.54 162.9 796.48 161.789 Q794.443 160.655 793.1 158.34 L793.1 162.229 L788.818 162.229 L788.818 126.21 L793.1 126.21 L793.1 140.238 Z\" fill=\"#000000\" fill-rule=\"evenodd\" fill-opacity=\"1\" /><path clip-path=\"url(#clip010)\" d=\"M841.248 148.201 L841.248 150.284 L821.665 150.284 Q821.943 154.682 824.304 156.997 Q826.688 159.289 830.924 159.289 Q833.378 159.289 835.669 158.687 Q837.984 158.085 840.253 156.881 L840.253 160.909 Q837.961 161.881 835.554 162.391 Q833.146 162.9 830.669 162.9 Q824.466 162.9 820.831 159.289 Q817.22 155.678 817.22 149.52 Q817.22 143.155 820.646 139.428 Q824.095 135.678 829.929 135.678 Q835.16 135.678 838.192 139.057 Q841.248 142.414 841.248 148.201 M836.989 146.951 Q836.942 143.456 835.021 141.372 Q833.123 139.289 829.975 139.289 Q826.41 139.289 824.257 141.303 Q822.128 143.317 821.804 146.974 L836.989 146.951 Z\" fill=\"#000000\" fill-rule=\"evenodd\" fill-opacity=\"1\" /><path clip-path=\"url(#clip010)\" d=\"M863.262 140.284 Q862.544 139.868 861.688 139.682 Q860.854 139.474 859.836 139.474 Q856.225 139.474 854.28 141.835 Q852.359 144.173 852.359 148.571 L852.359 162.229 L848.077 162.229 L848.077 136.303 L852.359 136.303 L852.359 140.331 Q853.702 137.969 855.854 136.835 Q858.007 135.678 861.086 135.678 Q861.526 135.678 862.058 135.747 Q862.591 135.794 863.239 135.909 L863.262 140.284 Z\" fill=\"#000000\" fill-rule=\"evenodd\" fill-opacity=\"1\" /><circle clip-path=\"url(#clip010)\" cx=\"350.083\" cy=\"196.789\" r=\"23\" fill=\"#e26f46\" fill-rule=\"evenodd\" fill-opacity=\"1\" stroke=\"#000000\" stroke-opacity=\"1\" stroke-width=\"5.12\"/>\n",
       "<path clip-path=\"url(#clip010)\" d=\"M446.597 188.143 L450.857 188.143 L450.857 214.069 L446.597 214.069 L446.597 188.143 M446.597 178.05 L450.857 178.05 L450.857 183.444 L446.597 183.444 L446.597 178.05 Z\" fill=\"#000000\" fill-rule=\"evenodd\" fill-opacity=\"1\" /><path clip-path=\"url(#clip010)\" d=\"M481.319 198.421 L481.319 214.069 L477.06 214.069 L477.06 198.559 Q477.06 194.879 475.625 193.05 Q474.19 191.222 471.319 191.222 Q467.87 191.222 465.88 193.421 Q463.889 195.62 463.889 199.416 L463.889 214.069 L459.607 214.069 L459.607 188.143 L463.889 188.143 L463.889 192.171 Q465.417 189.833 467.477 188.675 Q469.56 187.518 472.269 187.518 Q476.736 187.518 479.028 190.296 Q481.319 193.05 481.319 198.421 Z\" fill=\"#000000\" fill-rule=\"evenodd\" fill-opacity=\"1\" /><path clip-path=\"url(#clip010)\" d=\"M493.935 210.18 L493.935 223.93 L489.653 223.93 L489.653 188.143 L493.935 188.143 L493.935 192.078 Q495.278 189.763 497.315 188.652 Q499.375 187.518 502.222 187.518 Q506.944 187.518 509.884 191.268 Q512.847 195.018 512.847 201.129 Q512.847 207.24 509.884 210.99 Q506.944 214.74 502.222 214.74 Q499.375 214.74 497.315 213.629 Q495.278 212.495 493.935 210.18 M508.426 201.129 Q508.426 196.43 506.481 193.768 Q504.56 191.083 501.18 191.083 Q497.801 191.083 495.856 193.768 Q493.935 196.43 493.935 201.129 Q493.935 205.828 495.856 208.513 Q497.801 211.175 501.18 211.175 Q504.56 211.175 506.481 208.513 Q508.426 205.828 508.426 201.129 Z\" fill=\"#000000\" fill-rule=\"evenodd\" fill-opacity=\"1\" /><path clip-path=\"url(#clip010)\" d=\"M519.467 203.837 L519.467 188.143 L523.727 188.143 L523.727 203.675 Q523.727 207.356 525.162 209.208 Q526.597 211.036 529.467 211.036 Q532.916 211.036 534.907 208.837 Q536.921 206.638 536.921 202.842 L536.921 188.143 L541.18 188.143 L541.18 214.069 L536.921 214.069 L536.921 210.087 Q535.37 212.448 533.31 213.606 Q531.273 214.74 528.565 214.74 Q524.097 214.74 521.782 211.962 Q519.467 209.184 519.467 203.837 M530.185 187.518 L530.185 187.518 Z\" fill=\"#000000\" fill-rule=\"evenodd\" fill-opacity=\"1\" /><path clip-path=\"url(#clip010)\" d=\"M554.166 180.782 L554.166 188.143 L562.939 188.143 L562.939 191.453 L554.166 191.453 L554.166 205.527 Q554.166 208.698 555.023 209.601 Q555.902 210.504 558.564 210.504 L562.939 210.504 L562.939 214.069 L558.564 214.069 Q553.634 214.069 551.759 212.24 Q549.884 210.388 549.884 205.527 L549.884 191.453 L546.759 191.453 L546.759 188.143 L549.884 188.143 L549.884 180.782 L554.166 180.782 Z\" fill=\"#000000\" fill-rule=\"evenodd\" fill-opacity=\"1\" /><path clip-path=\"url(#clip010)\" d=\"M605.786 200.041 L605.786 202.124 L586.203 202.124 Q586.481 206.522 588.842 208.837 Q591.226 211.129 595.462 211.129 Q597.916 211.129 600.208 210.527 Q602.522 209.925 604.791 208.721 L604.791 212.749 Q602.499 213.721 600.092 214.231 Q597.685 214.74 595.208 214.74 Q589.004 214.74 585.37 211.129 Q581.759 207.518 581.759 201.36 Q581.759 194.995 585.185 191.268 Q588.634 187.518 594.467 187.518 Q599.698 187.518 602.731 190.897 Q605.786 194.254 605.786 200.041 M601.527 198.791 Q601.481 195.296 599.56 193.212 Q597.661 191.129 594.513 191.129 Q590.948 191.129 588.796 193.143 Q586.666 195.157 586.342 198.814 L601.527 198.791 Z\" fill=\"#000000\" fill-rule=\"evenodd\" fill-opacity=\"1\" /><path clip-path=\"url(#clip010)\" d=\"M627.8 192.124 Q627.083 191.708 626.226 191.522 Q625.393 191.314 624.374 191.314 Q620.763 191.314 618.819 193.675 Q616.897 196.013 616.897 200.411 L616.897 214.069 L612.615 214.069 L612.615 188.143 L616.897 188.143 L616.897 192.171 Q618.24 189.809 620.393 188.675 Q622.545 187.518 625.624 187.518 Q626.064 187.518 626.596 187.587 Q627.129 187.634 627.777 187.749 L627.8 192.124 Z\" fill=\"#000000\" fill-rule=\"evenodd\" fill-opacity=\"1\" /><path clip-path=\"url(#clip010)\" d=\"M646.457 192.124 Q645.74 191.708 644.883 191.522 Q644.05 191.314 643.031 191.314 Q639.42 191.314 637.476 193.675 Q635.555 196.013 635.555 200.411 L635.555 214.069 L631.272 214.069 L631.272 188.143 L635.555 188.143 L635.555 192.171 Q636.897 189.809 639.05 188.675 Q641.203 187.518 644.281 187.518 Q644.721 187.518 645.254 187.587 Q645.786 187.634 646.434 187.749 L646.457 192.124 Z\" fill=\"#000000\" fill-rule=\"evenodd\" fill-opacity=\"1\" /><path clip-path=\"url(#clip010)\" d=\"M659.93 191.129 Q656.504 191.129 654.513 193.814 Q652.522 196.476 652.522 201.129 Q652.522 205.782 654.49 208.467 Q656.48 211.129 659.93 211.129 Q663.332 211.129 665.323 208.444 Q667.314 205.758 667.314 201.129 Q667.314 196.522 665.323 193.837 Q663.332 191.129 659.93 191.129 M659.93 187.518 Q665.485 187.518 668.656 191.129 Q671.828 194.74 671.828 201.129 Q671.828 207.495 668.656 211.129 Q665.485 214.74 659.93 214.74 Q654.351 214.74 651.18 211.129 Q648.031 207.495 648.031 201.129 Q648.031 194.74 651.18 191.129 Q654.351 187.518 659.93 187.518 Z\" fill=\"#000000\" fill-rule=\"evenodd\" fill-opacity=\"1\" /><path clip-path=\"url(#clip010)\" d=\"M693.911 192.124 Q693.193 191.708 692.337 191.522 Q691.503 191.314 690.485 191.314 Q686.874 191.314 684.929 193.675 Q683.008 196.013 683.008 200.411 L683.008 214.069 L678.726 214.069 L678.726 188.143 L683.008 188.143 L683.008 192.171 Q684.351 189.809 686.503 188.675 Q688.656 187.518 691.735 187.518 Q692.175 187.518 692.707 187.587 Q693.24 187.634 693.888 187.749 L693.911 192.124 Z\" fill=\"#000000\" fill-rule=\"evenodd\" fill-opacity=\"1\" /><circle clip-path=\"url(#clip010)\" cx=\"350.083\" cy=\"248.629\" r=\"23\" fill=\"#3da44d\" fill-rule=\"evenodd\" fill-opacity=\"1\" stroke=\"#000000\" stroke-opacity=\"1\" stroke-width=\"5.12\"/>\n",
       "<path clip-path=\"url(#clip010)\" d=\"M458.495 242.969 Q455.07 242.969 453.079 245.654 Q451.088 248.316 451.088 252.969 Q451.088 257.622 453.056 260.307 Q455.046 262.969 458.495 262.969 Q461.898 262.969 463.889 260.284 Q465.88 257.598 465.88 252.969 Q465.88 248.362 463.889 245.677 Q461.898 242.969 458.495 242.969 M458.495 239.358 Q464.051 239.358 467.222 242.969 Q470.394 246.58 470.394 252.969 Q470.394 259.335 467.222 262.969 Q464.051 266.58 458.495 266.58 Q452.917 266.58 449.745 262.969 Q446.597 259.335 446.597 252.969 Q446.597 246.58 449.745 242.969 Q452.917 239.358 458.495 239.358 Z\" fill=\"#000000\" fill-rule=\"evenodd\" fill-opacity=\"1\" /><path clip-path=\"url(#clip010)\" d=\"M477.014 255.677 L477.014 239.983 L481.273 239.983 L481.273 255.515 Q481.273 259.196 482.708 261.048 Q484.143 262.876 487.014 262.876 Q490.463 262.876 492.454 260.677 Q494.467 258.478 494.467 254.682 L494.467 239.983 L498.727 239.983 L498.727 265.909 L494.467 265.909 L494.467 261.927 Q492.917 264.288 490.856 265.446 Q488.819 266.58 486.111 266.58 Q481.643 266.58 479.329 263.802 Q477.014 261.024 477.014 255.677 M487.731 239.358 L487.731 239.358 Z\" fill=\"#000000\" fill-rule=\"evenodd\" fill-opacity=\"1\" /><path clip-path=\"url(#clip010)\" d=\"M511.713 232.622 L511.713 239.983 L520.486 239.983 L520.486 243.293 L511.713 243.293 L511.713 257.367 Q511.713 260.538 512.569 261.441 Q513.449 262.344 516.111 262.344 L520.486 262.344 L520.486 265.909 L516.111 265.909 Q511.18 265.909 509.305 264.08 Q507.43 262.228 507.43 257.367 L507.43 243.293 L504.305 243.293 L504.305 239.983 L507.43 239.983 L507.43 232.622 L511.713 232.622 Z\" fill=\"#000000\" fill-rule=\"evenodd\" fill-opacity=\"1\" /><path clip-path=\"url(#clip010)\" d=\"M530.208 262.02 L530.208 275.77 L525.926 275.77 L525.926 239.983 L530.208 239.983 L530.208 243.918 Q531.551 241.603 533.588 240.492 Q535.648 239.358 538.495 239.358 Q543.217 239.358 546.157 243.108 Q549.12 246.858 549.12 252.969 Q549.12 259.08 546.157 262.83 Q543.217 266.58 538.495 266.58 Q535.648 266.58 533.588 265.469 Q531.551 264.335 530.208 262.02 M544.699 252.969 Q544.699 248.27 542.754 245.608 Q540.833 242.923 537.453 242.923 Q534.074 242.923 532.129 245.608 Q530.208 248.27 530.208 252.969 Q530.208 257.668 532.129 260.353 Q534.074 263.015 537.453 263.015 Q540.833 263.015 542.754 260.353 Q544.699 257.668 544.699 252.969 Z\" fill=\"#000000\" fill-rule=\"evenodd\" fill-opacity=\"1\" /><path clip-path=\"url(#clip010)\" d=\"M555.74 255.677 L555.74 239.983 L560 239.983 L560 255.515 Q560 259.196 561.435 261.048 Q562.87 262.876 565.74 262.876 Q569.189 262.876 571.18 260.677 Q573.194 258.478 573.194 254.682 L573.194 239.983 L577.453 239.983 L577.453 265.909 L573.194 265.909 L573.194 261.927 Q571.643 264.288 569.583 265.446 Q567.546 266.58 564.837 266.58 Q560.37 266.58 558.055 263.802 Q555.74 261.024 555.74 255.677 M566.458 239.358 L566.458 239.358 Z\" fill=\"#000000\" fill-rule=\"evenodd\" fill-opacity=\"1\" /><path clip-path=\"url(#clip010)\" d=\"M590.439 232.622 L590.439 239.983 L599.212 239.983 L599.212 243.293 L590.439 243.293 L590.439 257.367 Q590.439 260.538 591.296 261.441 Q592.175 262.344 594.837 262.344 L599.212 262.344 L599.212 265.909 L594.837 265.909 Q589.907 265.909 588.032 264.08 Q586.157 262.228 586.157 257.367 L586.157 243.293 L583.032 243.293 L583.032 239.983 L586.157 239.983 L586.157 232.622 L590.439 232.622 Z\" fill=\"#000000\" fill-rule=\"evenodd\" fill-opacity=\"1\" /><path clip-path=\"url(#clip010)\" d=\"M642.059 251.881 L642.059 253.964 L622.476 253.964 Q622.754 258.362 625.115 260.677 Q627.499 262.969 631.735 262.969 Q634.189 262.969 636.481 262.367 Q638.795 261.765 641.064 260.561 L641.064 264.589 Q638.772 265.561 636.365 266.071 Q633.957 266.58 631.481 266.58 Q625.277 266.58 621.643 262.969 Q618.032 259.358 618.032 253.2 Q618.032 246.835 621.458 243.108 Q624.907 239.358 630.74 239.358 Q635.971 239.358 639.004 242.737 Q642.059 246.094 642.059 251.881 M637.8 250.631 Q637.754 247.136 635.832 245.052 Q633.934 242.969 630.786 242.969 Q627.221 242.969 625.069 244.983 Q622.939 246.997 622.615 250.654 L637.8 250.631 Z\" fill=\"#000000\" fill-rule=\"evenodd\" fill-opacity=\"1\" /><path clip-path=\"url(#clip010)\" d=\"M664.073 243.964 Q663.355 243.548 662.499 243.362 Q661.666 243.154 660.647 243.154 Q657.036 243.154 655.092 245.515 Q653.17 247.853 653.17 252.251 L653.17 265.909 L648.888 265.909 L648.888 239.983 L653.17 239.983 L653.17 244.011 Q654.513 241.649 656.666 240.515 Q658.818 239.358 661.897 239.358 Q662.337 239.358 662.869 239.427 Q663.402 239.474 664.05 239.589 L664.073 243.964 Z\" fill=\"#000000\" fill-rule=\"evenodd\" fill-opacity=\"1\" /><path clip-path=\"url(#clip010)\" d=\"M682.73 243.964 Q682.013 243.548 681.156 243.362 Q680.323 243.154 679.304 243.154 Q675.693 243.154 673.749 245.515 Q671.828 247.853 671.828 252.251 L671.828 265.909 L667.545 265.909 L667.545 239.983 L671.828 239.983 L671.828 244.011 Q673.17 241.649 675.323 240.515 Q677.476 239.358 680.554 239.358 Q680.994 239.358 681.527 239.427 Q682.059 239.474 682.707 239.589 L682.73 243.964 Z\" fill=\"#000000\" fill-rule=\"evenodd\" fill-opacity=\"1\" /><path clip-path=\"url(#clip010)\" d=\"M696.203 242.969 Q692.777 242.969 690.786 245.654 Q688.795 248.316 688.795 252.969 Q688.795 257.622 690.763 260.307 Q692.753 262.969 696.203 262.969 Q699.605 262.969 701.596 260.284 Q703.587 257.598 703.587 252.969 Q703.587 248.362 701.596 245.677 Q699.605 242.969 696.203 242.969 M696.203 239.358 Q701.758 239.358 704.929 242.969 Q708.101 246.58 708.101 252.969 Q708.101 259.335 704.929 262.969 Q701.758 266.58 696.203 266.58 Q690.624 266.58 687.453 262.969 Q684.304 259.335 684.304 252.969 Q684.304 246.58 687.453 242.969 Q690.624 239.358 696.203 239.358 Z\" fill=\"#000000\" fill-rule=\"evenodd\" fill-opacity=\"1\" /><path clip-path=\"url(#clip010)\" d=\"M730.184 243.964 Q729.466 243.548 728.61 243.362 Q727.776 243.154 726.758 243.154 Q723.147 243.154 721.202 245.515 Q719.281 247.853 719.281 252.251 L719.281 265.909 L714.999 265.909 L714.999 239.983 L719.281 239.983 L719.281 244.011 Q720.624 241.649 722.776 240.515 Q724.929 239.358 728.008 239.358 Q728.448 239.358 728.98 239.427 Q729.513 239.474 730.161 239.589 L730.184 243.964 Z\" fill=\"#000000\" fill-rule=\"evenodd\" fill-opacity=\"1\" /></svg>\n"
      ]
     },
     "execution_count": 19,
     "metadata": {},
     "output_type": "execute_result"
    }
   ],
   "source": [
    "@df rel_errors scatter(:size,[:condition_num,:relative_input,:relative_output],yaxis=:log,label=[\"condition number\" \"input error\" \"output error\"],legend=:topleft,xlabel=\"size\")"
   ]
  },
  {
   "cell_type": "markdown",
   "metadata": {
    "slideshow": {
     "slide_type": "slide"
    }
   },
   "source": [
    "Notice that we have used a log scale on the $y$-axis."
   ]
  },
  {
   "cell_type": "markdown",
   "metadata": {
    "slideshow": {
     "slide_type": "slide"
    }
   },
   "source": [
    "We learn a few things from the last plot:\n",
    "\n",
    "1) Small perturbations in the data $b$ lead to large errors in the result of solving the linear system with the perturbed data, and \n",
    "\n",
    "2) as predicted by our theory, there is a realtionship between the condition number and the ratio of relative change in output to the relative change in the input."
   ]
  },
  {
   "cell_type": "markdown",
   "metadata": {
    "slideshow": {
     "slide_type": "slide"
    }
   },
   "source": [
    "In practice, we cannot compute the error for $x-\\hat{x}$ because the exact solution $x$ is unknown. We sometimes call the expression $x-\\hat{x}$ the **forward error.** So how can we conduct an error analysis for the problem $Ax=b$ if we cannot compute $x-\\hat{x}$? The solution is to examine a theoretically related quantity that can be computed in practice.  "
   ]
  },
  {
   "cell_type": "markdown",
   "metadata": {
    "slideshow": {
     "slide_type": "slide"
    }
   },
   "source": [
    "## Backward error analysis"
   ]
  },
  {
   "cell_type": "markdown",
   "metadata": {
    "slideshow": {
     "slide_type": "slide"
    }
   },
   "source": [
    "Consider a linear system $Ax=b$, then for a vector $\\hat{x}$ (we think of $\\hat{x}$ as an estimate for the solution $x$ to $Ax=b$) we define the **residual** to be the vector\n",
    "\n",
    "$$r = b - A\\hat{x}.$$\n",
    "\n",
    "Notice that the residual is the zero vector if and only if $\\hat{x}=x$ where $Ax=b$. "
   ]
  },
  {
   "cell_type": "markdown",
   "metadata": {
    "slideshow": {
     "slide_type": "slide"
    }
   },
   "source": [
    "Now if $Ax=b$, then we have\n",
    "\n",
    "$$r = b - A\\hat{x} = Ax-A\\hat{x}=A(x-\\hat{x})$$\n",
    "\n",
    "so that the forward error $x-\\hat{x}$ is a solution to the linear system $Ay=r$. In other words $x-\\hat{x}=A^{-1}r$, provided $A$ is invertible. "
   ]
  },
  {
   "cell_type": "markdown",
   "metadata": {
    "slideshow": {
     "slide_type": "slide"
    }
   },
   "source": [
    "From $x-\\hat{x}=A^{-1}r$ we obtain \n",
    "\n",
    "$$\\|x-\\hat{x}\\|=\\|A^{-1}r\\| \\leq \\|A^{-1}\\|\\|r\\|.$$\n",
    "\n",
    "Next, since $\\|b\\|=\\|Ax\\|\\leq \\|A\\|\\|x\\|$ which implies $\\frac{1}{\\|x\\|}\\leq \\frac{\\|A\\|}{\\|b\\|}$, we obtain\n",
    "\n",
    "$$\\frac{\\|x-\\hat{x}\\|}{\\|x\\|}\\leq \\|A^{-1}\\|\\|r\\| \\frac{\\|A\\|}{\\|b\\|} = \\kappa(A)\\frac{\\|r\\|}{\\|b\\|}.$$"
   ]
  },
  {
   "cell_type": "markdown",
   "metadata": {
    "slideshow": {
     "slide_type": "slide"
    }
   },
   "source": [
    "The quantity $\\kappa(A)\\frac{\\|r\\|}{\\|b\\|}$ gives us an **estimate** for the realtive error $\\frac{\\|x-\\hat{x}\\|}{\\|x\\|}$. The point is that $\\kappa(A)\\frac{\\|r\\|}{\\|b\\|}$ is a quantity that can alwys be computed. We call $\\|r\\|$ the **backward error.** Therefore, the inequality\n",
    "\n",
    "$$\\frac{\\|x-\\hat{x}\\|}{\\|x\\|}\\leq \\kappa(A)\\frac{\\|r\\|}{\\|b\\|}$$\n",
    "\n",
    "tells us that\n",
    "\n",
    "> when solving a linear system $Ax=b$, all that can be expected is that the backward error be small. "
   ]
  },
  {
   "cell_type": "markdown",
   "metadata": {
    "slideshow": {
     "slide_type": "slide"
    }
   },
   "source": [
    "We have just demonstrated an example of an important concept in numerical analysis known as [backward error analysis](https://en.wikipedia.org/wiki/Error_analysis_(mathematics)#Backward_error_analysis). Another observation from the inequality \n",
    "\n",
    "$$\\frac{\\|x-\\hat{x}\\|}{\\|x\\|}\\leq \\kappa(A)\\frac{\\|r\\|}{\\|b\\|}$$\n",
    "\n",
    "is that if the condition number $\\kappa(A) \\approx 1$, that is, if $A$ is well-conditioned, then we can obtain a very accurate approximate solution to $Ax=b$ with a *stable* algorithm.  "
   ]
  },
  {
   "cell_type": "markdown",
   "metadata": {
    "slideshow": {
     "slide_type": "slide"
    }
   },
   "source": [
    "In the next lesson, we will see that if our matrix $A$ has some special structure, then we can often develop solution algorithms that are more efficient or more accurate than LU factorization. To get started, you may want to watch [this video on structured matrices](https://www.youtube.com/watch?v=V0qmlaH1WMI&list=PLvUvOH0OYx3BcZivtXMIwP6hKoYv0YvGn&index=13)."
   ]
  }
 ],
 "metadata": {
  "celltoolbar": "Slideshow",
  "kernelspec": {
   "display_name": "Julia 1.6.2",
   "language": "julia",
   "name": "julia-1.6"
  },
  "language_info": {
   "file_extension": ".jl",
   "mimetype": "application/julia",
   "name": "julia",
   "version": "1.6.2"
  }
 },
 "nbformat": 4,
 "nbformat_minor": 4
}
