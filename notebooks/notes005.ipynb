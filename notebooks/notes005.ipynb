{
 "cells": [
  {
   "cell_type": "code",
   "execution_count": 1,
   "metadata": {
    "slideshow": {
     "slide_type": "slide"
    }
   },
   "outputs": [],
   "source": [
    "using DrWatson;\n",
    "@quickactivate \"MATH361Lectures\""
   ]
  },
  {
   "cell_type": "code",
   "execution_count": 2,
   "metadata": {
    "slideshow": {
     "slide_type": "slide"
    }
   },
   "outputs": [],
   "source": [
    "using LinearAlgebra;"
   ]
  },
  {
   "cell_type": "markdown",
   "metadata": {
    "slideshow": {
     "slide_type": "slide"
    }
   },
   "source": [
    "# Triangular Systems: Backward and Forward Substitution"
   ]
  },
  {
   "cell_type": "markdown",
   "metadata": {
    "slideshow": {
     "slide_type": "slide"
    }
   },
   "source": [
    "When going through this notebook, it is beneficial to watch the corresponding video lecture on [triangular linear systems](https://www.youtube.com/watch?v=w78GX22j-8g&list=PLvUvOH0OYx3BcZivtXMIwP6hKoYv0YvGn&index=6).\n",
    "\n",
    "A linear system with a diagonal coefficient matrix is trivial to solve since the equations become uncoupled. The next simplest linear systems to solve are **triangular systems**. Let's start with an example. Consider the following linear system\n",
    "$$\n",
    "\\begin{align*}\n",
    "-2x + y - 3z &= 1 \\\\\n",
    "      4y + 2z&= -3 \\\\\n",
    "           -4z&=8\n",
    "\\end{align*}\n",
    "$$"
   ]
  },
  {
   "cell_type": "markdown",
   "metadata": {
    "slideshow": {
     "slide_type": "slide"
    }
   },
   "source": [
    "We can immediately solve for $z$ using the third equation since $z = \\frac{8}{-4}=-2$. From the second equation then\n",
    "$$\n",
    "y = (-3 - 2y)/4 = \\frac{1}{4}.\n",
    "$$\n",
    "Finally, we can use the first equation to solve for $x$ as follows.\n",
    "$$\n",
    "x = (1 - y + 3z)/-2 = \\frac{21}{8}\n",
    "$$\n",
    "This process where we start with the final equation and then work our way to the first equation solving for one additional variable at each step is called backward substition. Let's use Julia to check our solution. "
   ]
  },
  {
   "cell_type": "code",
   "execution_count": 3,
   "metadata": {
    "slideshow": {
     "slide_type": "slide"
    }
   },
   "outputs": [
    {
     "name": "stdout",
     "output_type": "stream",
     "text": [
      "1.0\n",
      "-3.0\n",
      "8\n"
     ]
    }
   ],
   "source": [
    "x = 21/8;\n",
    "y = 1/4;\n",
    "z = -2;\n",
    "println(-2*x + y -3*z)\n",
    "println(4*y + 2*z)\n",
    "println(-4*z)"
   ]
  },
  {
   "cell_type": "markdown",
   "metadata": {
    "slideshow": {
     "slide_type": "slide"
    }
   },
   "source": [
    "Notice that in matrix/vector notation this linear system becomes\n",
    "\n",
    "$$\n",
    "\\begin{align*}\n",
    "\\left[\\begin{array}{ccc} -2 & 1 & -3 \\\\ 0 & 4 & 2 \\\\ 0 & 0 & -4 \\end{array}\\right] \\left[\\begin{array}{c} x \\\\ y \\\\ z \\end{array} \\right] = \\left[\\begin{array}{c} 1 \\\\ -3 \\\\ 8 \\end{array} \\right].\n",
    "\\end{align*}\n",
    "$$\n",
    "\n",
    "Since all of the entries in the coefficient matrix that lie below the main diagonal are zero, we say that this matrix is upper triangular. As our example illustrates, we can solve upper triangular systems algorithmically using backward substitution. You should note that at each step in bacward substitution we are dividing by a diagonal entry of the matrix. This is a problem if a diagonal entry is equal to zero. However, if a trianglar matrix has a zero diagonal entry then the matrix is singular. You will justify this observation in the homework.   "
   ]
  },
  {
   "cell_type": "markdown",
   "metadata": {
    "slideshow": {
     "slide_type": "slide"
    }
   },
   "source": [
    "A linear system with a coefficient matrix $U$ that satisfies that all entries **below** the main diagonal are equal to zero is called an **upper triangular** system. An upper triangular system has the following form: \n",
    "\n",
    "$$\n",
    "\\left[\\begin{array}{cccc} u_{11} & u_{12} & \\cdots & u_{1n}\\\\ 0 & u_{22} & \\cdots & u_{2n} \\\\ \\vdots & \\cdots & \\ddots & \\vdots \\\\ 0 & 0 & \\cdots & u_{nn} \\end{array}\\right] \\left[\\begin{array}{c} x_{1} \\\\ x_{2} \\\\ \\vdots \\\\ x_{n} \\end{array} \\right] = \\left[\\begin{array}{c} b_{1} \\\\ b_{2} \\\\ \\vdots \\\\ b_{n} \\end{array} \\right].\n",
    "$$"
   ]
  },
  {
   "cell_type": "markdown",
   "metadata": {
    "slideshow": {
     "slide_type": "slide"
    }
   },
   "source": [
    "We say that a matrix $U$ is upper triangular if it has the form\n",
    "\n",
    "$$\n",
    "U = \\left[\\begin{array}{cccc} u_{11} & u_{12} & \\cdots & u_{1n}\\\\ 0 & u_{22} & \\cdots & u_{2n} \\\\ \\vdots & \\cdots & \\ddots & \\vdots \\\\ 0 & 0 & \\cdots & u_{nn} \\end{array}\\right]. \n",
    "$$"
   ]
  },
  {
   "cell_type": "markdown",
   "metadata": {
    "slideshow": {
     "slide_type": "slide"
    }
   },
   "source": [
    "Let's derive our backward substitution algorithm (sometimes called back solve) in general. Clearly we have that\n",
    "$$\n",
    "x_{n} = \\frac{b_{n}}{u_{nn}}.\n",
    "$$\n",
    "Then for $i=n-1,n-2,\\ldots,2,1$ (counting downwards) we can use the $i$-th row to solve for $x_{i}$ after having solved for all of the previous $n-i$ unknowns. That is, we have\n",
    "$$\n",
    "x_{i} = (b_{i} - u_{i,i+1}x_{i+1} - u_{i,i+2}x_{i+2} - \\cdots -u_{i,n}x_{n})/u_{i,i}.\n",
    "$$"
   ]
  },
  {
   "cell_type": "markdown",
   "metadata": {
    "slideshow": {
     "slide_type": "slide"
    }
   },
   "source": [
    "Let's make an observation that will allow us to simplify our implementation of this algorithm. We have that \n",
    "$$\n",
    "\\begin{align*}\n",
    "x_{i} &= (b_{i} - u_{i,i+1}x_{i+1} - u_{i,i+2}x_{i+2} - \\cdots -u_{i,n}x_{n})/u_{i,i} \\\\\n",
    "&= (b_{i} - (u_{i,i+1}x_{i+1} + u_{i,i+2}x_{i+2} + \\cdots + u_{i,n}x_{n}))/u_{i,i},\n",
    "\\end{align*}\n",
    "$$\n",
    "and the expression $u_{i,i+1}x_{i+1} + u_{i,i+2}x_{i+2} + \\cdots + u_{i,n}x_{n}$ looks very similar to a dot product. In fact, it is the dot product of the last $n-i$ entries of row $i$ of $U$ with the last $n-i$ entries of the vector $x$. "
   ]
  },
  {
   "cell_type": "markdown",
   "metadata": {
    "slideshow": {
     "slide_type": "slide"
    }
   },
   "source": [
    "Let's write out backsubstitution as an algorithm:\n",
    "\n",
    "Input: $U$ - upper triangular matrix and $b$ - right-hand-side vector\n",
    "\n",
    "Step 1: Initialize vector $x$ with all zeros of same length as $b$ (size system is square)\n",
    "\n",
    "Step 2: Set $x_{n} = \\frac{b_{n}}{u_{nn}}$\n",
    "\n",
    "Step 3: For $i = n-1, n-2 , \\ldots , 2, 1$,  set\n",
    "\n",
    "$$x_{i} = \\frac{b_{i} - \\sum_{j=1}^{n-i}u_{ii+j}x_{i+j}}{u_{ii}}$$\n",
    "\n",
    "Step 4: Return $x$"
   ]
  },
  {
   "cell_type": "markdown",
   "metadata": {},
   "source": [
    "Now, let's code our algorithm in Julia as a function. We will use our observation that $\\sum_{j=1}^{n-i}u_{ii+j}x_{i+j}$ is a dot product to simplify our code.  "
   ]
  },
  {
   "cell_type": "code",
   "execution_count": 3,
   "metadata": {
    "slideshow": {
     "slide_type": "slide"
    }
   },
   "outputs": [
    {
     "data": {
      "text/plain": [
       "backsub"
      ]
     },
     "execution_count": 3,
     "metadata": {},
     "output_type": "execute_result"
    }
   ],
   "source": [
    "\"\"\"\n",
    "    backsub(U,y)\n",
    "\n",
    "Implements the back substition algorithm to solve the linear system \\$Ux=y\\$, \n",
    "where \\$U\\$ is an \\$n \\\\times n\\$ upper triangular matrix and \\$y\\$ is a vector of length \\$n\\$.\n",
    "\n",
    "# Example\n",
    "```julia-repl\n",
    "julia> U = [-1.0 2.0 1.0;0. 3.0 -2.0;0.0 0.0 -1.0];\n",
    "julia> y = ones(3);\n",
    "julia> x = backsub(U,y)\n",
    "```\n",
    "\n",
    "\"\"\"\n",
    "function backsub(U,y)\n",
    "    n = size(U)[1]; # number of rows\n",
    "    x = zeros(n); # initialize solution vector\n",
    "    x[n] = y[n]/U[n,n];\n",
    "    for i=n-1:-1:1\n",
    "        x[i] = (y[i] - dot(U[i, i+1:n],x[i+1:n])) / U[i,i];\n",
    "    end\n",
    "    return x\n",
    "end"
   ]
  },
  {
   "cell_type": "code",
   "execution_count": 4,
   "metadata": {
    "slideshow": {
     "slide_type": "slide"
    }
   },
   "outputs": [
    {
     "name": "stdout",
     "output_type": "stream",
     "text": [
      "search: \u001b[0m\u001b[1mb\u001b[22m\u001b[0m\u001b[1ma\u001b[22m\u001b[0m\u001b[1mc\u001b[22m\u001b[0m\u001b[1mk\u001b[22m\u001b[0m\u001b[1ms\u001b[22m\u001b[0m\u001b[1mu\u001b[22m\u001b[0m\u001b[1mb\u001b[22m\n",
      "\n"
     ]
    },
    {
     "data": {
      "text/latex": [
       "\\begin{verbatim}\n",
       "backsub(L,b)\n",
       "\\end{verbatim}\n",
       "Implements the back substition algorithm to solve the linear system $Ux=y$,  where $U$ is an $n \\times n$ upper triangular matrix and $y$ is a vector of length $n$.\n",
       "\n",
       "\\section{Example}\n",
       "\\begin{verbatim}\n",
       "julia> U = [-1.0 2.0 1.0;0. 3.0 -2.0;0.0 0.0 -1.0];\n",
       "julia> y = ones(3);\n",
       "julia> x = backsub(U,y)\n",
       "\\end{verbatim}\n"
      ],
      "text/markdown": [
       "```\n",
       "backsub(L,b)\n",
       "```\n",
       "\n",
       "Implements the back substition algorithm to solve the linear system $Ux=y$,  where $U$ is an $n \\times n$ upper triangular matrix and $y$ is a vector of length $n$.\n",
       "\n",
       "# Example\n",
       "\n",
       "```julia-repl\n",
       "julia> U = [-1.0 2.0 1.0;0. 3.0 -2.0;0.0 0.0 -1.0];\n",
       "julia> y = ones(3);\n",
       "julia> x = backsub(U,y)\n",
       "```\n"
      ],
      "text/plain": [
       "\u001b[36m  backsub(L,b)\u001b[39m\n",
       "\n",
       "  Implements the back substition algorithm to solve the linear system \u001b[35mUx=y\u001b[39m,\n",
       "  where \u001b[35mU\u001b[39m is an \u001b[35mn \\times n\u001b[39m upper triangular matrix and \u001b[35my\u001b[39m is a vector of length\n",
       "  \u001b[35mn\u001b[39m.\n",
       "\n",
       "\u001b[1m  Example\u001b[22m\n",
       "\u001b[1m  ≡≡≡≡≡≡≡≡≡\u001b[22m\n",
       "\n",
       "\u001b[36m  julia> U = [-1.0 2.0 1.0;0. 3.0 -2.0;0.0 0.0 -1.0];\u001b[39m\n",
       "\u001b[36m  julia> y = ones(3);\u001b[39m\n",
       "\u001b[36m  julia> x = backsub(U,y)\u001b[39m"
      ]
     },
     "execution_count": 4,
     "metadata": {},
     "output_type": "execute_result"
    }
   ],
   "source": [
    "?backsub"
   ]
  },
  {
   "cell_type": "markdown",
   "metadata": {
    "slideshow": {
     "slide_type": "slide"
    }
   },
   "source": [
    "A linear system with a coefficient matrix $L$ that satisfies that all entries **above** the main diagonal are equal to zero is called a **lower triangular** system. A lower triangular system has the following form: \n",
    "\n",
    "$$\n",
    "\\left[\\begin{array}{cccc} l_{11} & 0 & \\cdots & 0\\\\ l_{21} & l_{22} & \\cdots & 0 \\\\ \\vdots & \\cdots & \\ddots & \\vdots \\\\ l_{n1} & l_{n2} & \\cdots & l_{nn} \\end{array}\\right] \\left[\\begin{array}{c} x_{1} \\\\ x_{2} \\\\ \\vdots \\\\ x_{n} \\end{array} \\right] = \\left[\\begin{array}{c} b_{1} \\\\ b_{2} \\\\ \\vdots \\\\ b_{n} \\end{array} \\right].\n",
    "$$"
   ]
  },
  {
   "cell_type": "markdown",
   "metadata": {
    "slideshow": {
     "slide_type": "slide"
    }
   },
   "source": [
    "We say that a matrix $L$ is lower triangular if it has the form\n",
    "\n",
    "$$\n",
    "L = \\left[\\begin{array}{cccc} l_{11} & 0 & \\cdots & 0\\\\ l_{21} & l_{22} & \\cdots & 0 \\\\ \\vdots & \\cdots & \\ddots & \\vdots \\\\ l_{n1} & l_{n2} & \\cdots & l_{nn} \\end{array}\\right].\n",
    "$$\n",
    "\n",
    "In the homework you will derive an algorithm called forward substitution or forward solve similar to back substitution  that can be used to efficiently solve lower triangular systems.  "
   ]
  },
  {
   "cell_type": "markdown",
   "metadata": {
    "slideshow": {
     "slide_type": "slide"
    }
   },
   "source": [
    "Now, let's look at the Julia implementation for forward substitution."
   ]
  },
  {
   "cell_type": "code",
   "execution_count": 5,
   "metadata": {
    "slideshow": {
     "slide_type": "slide"
    }
   },
   "outputs": [
    {
     "data": {
      "text/plain": [
       "forwardsub"
      ]
     },
     "execution_count": 5,
     "metadata": {},
     "output_type": "execute_result"
    }
   ],
   "source": [
    "\"\"\"\n",
    "    forwardsub(L,b)\n",
    "\n",
    "Implements the forward substition algorithm to solve the linear system \\$Ly=b\\$, \n",
    "where \\$L\\$ is an \\$n \\\\times n\\$ lower triangular matrix and \\$b\\$ is a vector of length \\$n\\$.\n",
    "\n",
    "# Example\n",
    "```julia-repl\n",
    "julia> L = [1. 0. 0.;2. -1. 0.; 1. -1. 1.];\n",
    "julia> b = ones(3);\n",
    "julia> y = forwardsub(L,b)\n",
    "```\n",
    "\n",
    "\"\"\"\n",
    "function forwardsub(L,b)\n",
    "    n = size(L)[1]; # number of rows\n",
    "    y = zeros(n); # initialize solution vector\n",
    "    y[1] = b[1]/L[1,1];\n",
    "    for i=2:n\n",
    "        y[i] = (b[i] - dot(L[i, 1:i-1],y[1:i-1])) / L[i,i];\n",
    "    end\n",
    "    return y\n",
    "end"
   ]
  },
  {
   "cell_type": "markdown",
   "metadata": {
    "slideshow": {
     "slide_type": "slide"
    }
   },
   "source": [
    "Let's illustrate the use of our implementations of backward and forward substitution."
   ]
  },
  {
   "cell_type": "code",
   "execution_count": 6,
   "metadata": {
    "slideshow": {
     "slide_type": "slide"
    }
   },
   "outputs": [
    {
     "data": {
      "text/plain": [
       "5×5 Matrix{Float64}:\n",
       " 0.279417  0.0       0.0       0.0        0.0\n",
       " 0.937173  0.562501  0.0       0.0        0.0\n",
       " 0.823566  0.277029  0.468888  0.0        0.0\n",
       " 0.421805  0.185407  0.547735  0.0140051  0.0\n",
       " 0.690389  0.265751  0.292709  0.267268   0.858721"
      ]
     },
     "execution_count": 6,
     "metadata": {},
     "output_type": "execute_result"
    }
   ],
   "source": [
    "L = tril(rand(5,5)) # a random 5 by 5 lower triangular system "
   ]
  },
  {
   "cell_type": "code",
   "execution_count": 11,
   "metadata": {
    "slideshow": {
     "slide_type": "slide"
    }
   },
   "outputs": [
    {
     "data": {
      "text/plain": [
       "5×5 Matrix{Float64}:\n",
       " 0.390764  0.772819  0.196972  0.718539  0.300091\n",
       " 0.0       0.37575   0.934996  0.720561  0.76414\n",
       " 0.0       0.0       0.379625  0.731875  0.261021\n",
       " 0.0       0.0       0.0       0.80879   0.0688094\n",
       " 0.0       0.0       0.0       0.0       0.55854"
      ]
     },
     "execution_count": 11,
     "metadata": {},
     "output_type": "execute_result"
    }
   ],
   "source": [
    "U = triu(rand(5,5)) # a random 5 by s upper triangular system"
   ]
  },
  {
   "cell_type": "code",
   "execution_count": 12,
   "metadata": {
    "slideshow": {
     "slide_type": "slide"
    }
   },
   "outputs": [
    {
     "data": {
      "text/plain": [
       "5-element Vector{Float64}:\n",
       " 1.0\n",
       " 1.0\n",
       " 1.0\n",
       " 1.0\n",
       " 1.0"
      ]
     },
     "execution_count": 12,
     "metadata": {},
     "output_type": "execute_result"
    }
   ],
   "source": [
    "b = ones(5) # a right hand side vector of length 5 with each entry equal to 1"
   ]
  },
  {
   "cell_type": "code",
   "execution_count": 13,
   "metadata": {
    "slideshow": {
     "slide_type": "slide"
    }
   },
   "outputs": [
    {
     "data": {
      "text/plain": [
       "5-element Vector{Float64}:\n",
       "   3.57887897208798\n",
       "  -4.184930792795065\n",
       "  -1.680778859994509\n",
       "  84.75092023036734\n",
       " -26.222588924310912"
      ]
     },
     "execution_count": 13,
     "metadata": {},
     "output_type": "execute_result"
    }
   ],
   "source": [
    "y = forwardsub(L,b) # use forward substitution "
   ]
  },
  {
   "cell_type": "code",
   "execution_count": 15,
   "metadata": {
    "slideshow": {
     "slide_type": "slide"
    }
   },
   "outputs": [
    {
     "data": {
      "text/plain": [
       "5-element Vector{Float64}:\n",
       " -712.3793211206396\n",
       "  328.2769044430782\n",
       " -181.86552964175254\n",
       "  108.7814972508984\n",
       "  -46.94842420852264"
      ]
     },
     "execution_count": 15,
     "metadata": {},
     "output_type": "execute_result"
    }
   ],
   "source": [
    "x = backsub(U,y) # use backward substitution "
   ]
  },
  {
   "cell_type": "code",
   "execution_count": 16,
   "metadata": {
    "slideshow": {
     "slide_type": "slide"
    }
   },
   "outputs": [
    {
     "data": {
      "text/plain": [
       "5-element Vector{Float64}:\n",
       " 0.0\n",
       " 1.1102230246251565e-16\n",
       " 0.0\n",
       " 0.0\n",
       " 6.661338147750939e-16"
      ]
     },
     "execution_count": 16,
     "metadata": {},
     "output_type": "execute_result"
    }
   ],
   "source": [
    "b - L*y # compute the residual "
   ]
  },
  {
   "cell_type": "code",
   "execution_count": 17,
   "metadata": {
    "slideshow": {
     "slide_type": "slide"
    }
   },
   "outputs": [
    {
     "data": {
      "text/plain": [
       "5-element Vector{Float64}:\n",
       " -3.1086244689504383e-15\n",
       " -1.4210854715202004e-14\n",
       "  3.9968028886505635e-15\n",
       "  0.0\n",
       "  0.0"
      ]
     },
     "execution_count": 17,
     "metadata": {},
     "output_type": "execute_result"
    }
   ],
   "source": [
    "y - U*x # compute the residual "
   ]
  },
  {
   "cell_type": "markdown",
   "metadata": {
    "slideshow": {
     "slide_type": "slide"
    }
   },
   "source": [
    "Recall that we previously showed that to solve the system $LUx=b$. Now can split the problem $LUx = b$ into two subsystems:\n",
    "\n",
    "1. $Ly=b$ which has solution $y=L^{-1}b$ that is computed using forward substitution, and\n",
    "  \n",
    "2. $Ux=y$ which has solution $x=U^{-1}y=U^{-1}L^{-1}b$ that is computed by backward substitution.\n",
    "\n",
    "We can illustrate this computationally. For example, "
   ]
  },
  {
   "cell_type": "code",
   "execution_count": 18,
   "metadata": {
    "slideshow": {
     "slide_type": "slide"
    }
   },
   "outputs": [
    {
     "data": {
      "text/plain": [
       "5-element Vector{Float64}:\n",
       " 6.661338147750939e-15\n",
       " 2.1316282072803006e-14\n",
       " 3.552713678800501e-15\n",
       " 0.0\n",
       " 3.6415315207705135e-14"
      ]
     },
     "execution_count": 18,
     "metadata": {},
     "output_type": "execute_result"
    }
   ],
   "source": [
    "b - L*U*x"
   ]
  },
  {
   "cell_type": "markdown",
   "metadata": {
    "slideshow": {
     "slide_type": "slide"
    }
   },
   "source": [
    "# Looking Forward to LU Factorization"
   ]
  },
  {
   "cell_type": "markdown",
   "metadata": {
    "slideshow": {
     "slide_type": "slide"
    }
   },
   "source": [
    "Consider a general square linear system $Ax=b$ with $A$ an $n\\times n$ matrix. In the next lecture we will show that it is often possible to factorize $A$ as $A=LU$ with $L$ lower triangular and $U$ upper triangular. As we just pointed out, this provides a method for solving $Ax=b$ since we can use the factorization $A=LU$, that is, the so-called **LU factorization** of $A$ to solve the linear system by splitting $Ax=LUx = b$ into two subsystems. Furthmore, we will see that $LU$ factorization arises from, and in fact is equivalent to, Gaussian elimination. In preparation for the next lecture, it is suggested that you watch the lecture video on [LU factorization](https://www.youtube.com/watch?v=aFbjNVZNYYk&list=PLvUvOH0OYx3BcZivtXMIwP6hKoYv0YvGn&index=8). "
   ]
  }
 ],
 "metadata": {
  "celltoolbar": "Slideshow",
  "kernelspec": {
   "display_name": "Julia 1.6.2",
   "language": "julia",
   "name": "julia-1.6"
  },
  "language_info": {
   "file_extension": ".jl",
   "mimetype": "application/julia",
   "name": "julia",
   "version": "1.6.2"
  }
 },
 "nbformat": 4,
 "nbformat_minor": 4
}
