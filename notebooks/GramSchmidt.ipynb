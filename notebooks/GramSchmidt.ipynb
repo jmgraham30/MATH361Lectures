{
 "cells": [
  {
   "cell_type": "markdown",
   "id": "f8dc78ac",
   "metadata": {},
   "source": [
    "# Gram-Schmidt Procedure and QR Factorization"
   ]
  },
  {
   "cell_type": "code",
   "execution_count": 1,
   "id": "52bcebc6",
   "metadata": {},
   "outputs": [],
   "source": [
    "using DrWatson;\n",
    "@quickactivate \"MATH361Lectures\";"
   ]
  },
  {
   "cell_type": "code",
   "execution_count": 2,
   "id": "f25c8e18",
   "metadata": {},
   "outputs": [],
   "source": [
    "using LinearAlgebra"
   ]
  },
  {
   "cell_type": "markdown",
   "id": "e034cc5f",
   "metadata": {},
   "source": [
    "### Orthonormal Vectors\n",
    "\n",
    "Recall that the dot product of two column vectors ${\\bf u} = [u_{1}, u_{2}, \\ldots , u_{n}]^{T}$ and ${\\bf v} = [v_{1}, v_{2}, \\ldots , v_{n}]^{T}$ is\n",
    "\n",
    "$${\\bf u}\\cdot {\\bf v} = {\\bf u}^{T} {\\bf v} = u_{1}v_{1} + u_{2}v_{2} + \\cdots + u_{n}v_{n}.$$\n",
    "\n",
    "Observe that if ${\\bf u}$ is a vector, then $\\|{\\bf u}\\|_{2}^{2} = {\\bf u}^{T} {\\bf u}$.\n"
   ]
  },
  {
   "cell_type": "markdown",
   "id": "7965414f",
   "metadata": {},
   "source": [
    "Two vectors ${\\bf u}$ and ${\\bf v}$ are said to be **orthogonal** if their dot product is zero, that is, if ${\\bf u}\\cdot {\\bf v} = {\\bf u}^{T} {\\bf v} = 0$. We say that a vector is normalized (in the 2-norm) if $\\|{\\bf u}\\|_{2} = 1$."
   ]
  },
  {
   "cell_type": "markdown",
   "id": "f93a3ac4",
   "metadata": {},
   "source": [
    "### Orthonormal Set of Vectors\n",
    "\n",
    "A set of vectors $\\{{\\bf q_{1}}, {\\bf q_{2}}, \\ldots, {\\bf q_{n}}\\}$ is an **orthogonal set** if ${\\bf q_{i}}^{T}{\\bf q_{j}} = 0$ whenever $i\\neq j$.  Furthermore, an orthogonal set of vectors is an **orthonormal set** if, in addition $\\|{\\bf q_{i}}\\|_{2} = 1 $ for all $i$.  "
   ]
  },
  {
   "cell_type": "markdown",
   "id": "81d350f1",
   "metadata": {},
   "source": [
    "### Orthogonal Matrices\n",
    "\n",
    "A matrix $Q$ is **orthogonal** if it's columns form a orthogonal set of vectors. Equivalently, a matrix $Q$ is orthogonal if $Q^{T}Q = I$. \n",
    "\n",
    "A matrix $Q$ is **ONC** if it's columns form an orthonormal set. \n",
    "\n",
    "As an example, any permutation matrix $P$ is ONC. "
   ]
  },
  {
   "cell_type": "code",
   "execution_count": 3,
   "id": "131d7016",
   "metadata": {},
   "outputs": [
    {
     "data": {
      "text/plain": [
       "4×3 Matrix{Int64}:\n",
       "  1   2   3\n",
       " -1   1  -1\n",
       "  0   1   0\n",
       "  2  -1   2"
      ]
     },
     "execution_count": 3,
     "metadata": {},
     "output_type": "execute_result"
    }
   ],
   "source": [
    "A = [1 2 3;-1 1 -1; 0 1 0;2 -1 2]"
   ]
  },
  {
   "cell_type": "code",
   "execution_count": 31,
   "id": "5be7ebb1",
   "metadata": {},
   "outputs": [
    {
     "data": {
      "text/plain": [
       "gsqr (generic function with 1 method)"
      ]
     },
     "execution_count": 31,
     "metadata": {},
     "output_type": "execute_result"
    }
   ],
   "source": [
    "function gsqr(A)\n",
    "   m,n = size(A);\n",
    "   Q = Matrix{Float64}(A);\n",
    "   R = Matrix{Float64}(I,n,n);\n",
    "   R[1,1] = norm(Q[:,1],2); \n",
    "   Q[:,1] = (1/R[1,1]) *  Q[:,1]; # get first column of Q\n",
    "   for j = 2:n # loop through columns\n",
    "        for i = 1:j-1\n",
    "            R[i,j] = dot(Q[:,i],Q[:,j]);\n",
    "            Q[:,j] = Q[:,j] .- R[i,j]*Q[:,i];\n",
    "        end\n",
    "        R[j,j] = norm(Q[:,j],2);\n",
    "        Q[:,j] = (1/R[j,j])*Q[:,j];\n",
    "    end\n",
    "    return Q, R\n",
    "end"
   ]
  },
  {
   "cell_type": "code",
   "execution_count": 33,
   "id": "bc2c2867",
   "metadata": {},
   "outputs": [],
   "source": [
    "Q,R = gsqr(A);"
   ]
  },
  {
   "cell_type": "code",
   "execution_count": 34,
   "id": "40d12c54",
   "metadata": {},
   "outputs": [
    {
     "data": {
      "text/plain": [
       "4×3 Matrix{Float64}:\n",
       "  0.408248   0.82885    0.382546\n",
       " -0.408248   0.318788  -0.255031\n",
       "  0.0        0.382546  -0.82885\n",
       "  0.816497  -0.255031  -0.318788"
      ]
     },
     "execution_count": 34,
     "metadata": {},
     "output_type": "execute_result"
    }
   ],
   "source": [
    "Q"
   ]
  },
  {
   "cell_type": "code",
   "execution_count": 35,
   "id": "8af0013b",
   "metadata": {},
   "outputs": [
    {
     "data": {
      "text/plain": [
       "3×3 Matrix{Float64}:\n",
       " 2.44949  -0.408248  3.26599\n",
       " 0.0       2.61406   1.6577\n",
       " 0.0       0.0       0.765092"
      ]
     },
     "execution_count": 35,
     "metadata": {},
     "output_type": "execute_result"
    }
   ],
   "source": [
    "R"
   ]
  },
  {
   "cell_type": "code",
   "execution_count": 36,
   "id": "7080791a",
   "metadata": {},
   "outputs": [
    {
     "data": {
      "text/plain": [
       "1.0000000000000002"
      ]
     },
     "execution_count": 36,
     "metadata": {},
     "output_type": "execute_result"
    }
   ],
   "source": [
    "Q[:,1]'*Q[:,1]"
   ]
  },
  {
   "cell_type": "code",
   "execution_count": 37,
   "id": "0d3e818c",
   "metadata": {},
   "outputs": [
    {
     "data": {
      "text/plain": [
       "0.9999999999999998"
      ]
     },
     "execution_count": 37,
     "metadata": {},
     "output_type": "execute_result"
    }
   ],
   "source": [
    "Q[:,2]'*Q[:,2]"
   ]
  },
  {
   "cell_type": "code",
   "execution_count": 38,
   "id": "25f64cba",
   "metadata": {},
   "outputs": [
    {
     "data": {
      "text/plain": [
       "0.9999999999999997"
      ]
     },
     "execution_count": 38,
     "metadata": {},
     "output_type": "execute_result"
    }
   ],
   "source": [
    "Q[:,3]'*Q[:,3]"
   ]
  },
  {
   "cell_type": "code",
   "execution_count": 40,
   "id": "4dc5b902",
   "metadata": {},
   "outputs": [
    {
     "data": {
      "text/plain": [
       "5.551115123125783e-17"
      ]
     },
     "execution_count": 40,
     "metadata": {},
     "output_type": "execute_result"
    }
   ],
   "source": [
    "Q[:,1]'*Q[:,2]"
   ]
  },
  {
   "cell_type": "code",
   "execution_count": 41,
   "id": "7c83b4bb",
   "metadata": {},
   "outputs": [
    {
     "data": {
      "text/plain": [
       "-1.3322676295501878e-15"
      ]
     },
     "execution_count": 41,
     "metadata": {},
     "output_type": "execute_result"
    }
   ],
   "source": [
    "Q[:,1]'*Q[:,3]"
   ]
  },
  {
   "cell_type": "code",
   "execution_count": 42,
   "id": "a669fdbf",
   "metadata": {},
   "outputs": [
    {
     "data": {
      "text/plain": [
       "3.3306690738754696e-16"
      ]
     },
     "execution_count": 42,
     "metadata": {},
     "output_type": "execute_result"
    }
   ],
   "source": [
    "Q[:,2]'*Q[:,3]"
   ]
  },
  {
   "cell_type": "code",
   "execution_count": null,
   "id": "e1b72ad8",
   "metadata": {},
   "outputs": [],
   "source": []
  }
 ],
 "metadata": {
  "kernelspec": {
   "display_name": "Julia 1.6.2",
   "language": "julia",
   "name": "julia-1.6"
  },
  "language_info": {
   "file_extension": ".jl",
   "mimetype": "application/julia",
   "name": "julia",
   "version": "1.6.3"
  }
 },
 "nbformat": 4,
 "nbformat_minor": 5
}
