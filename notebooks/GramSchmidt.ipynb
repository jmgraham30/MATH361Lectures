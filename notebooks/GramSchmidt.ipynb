{
 "cells": [
  {
   "cell_type": "markdown",
   "id": "f8dc78ac",
   "metadata": {},
   "source": [
    "# Gram-Schmidt Procedure and QR Factorization"
   ]
  },
  {
   "cell_type": "code",
   "execution_count": 3,
   "id": "52bcebc6",
   "metadata": {},
   "outputs": [],
   "source": [
    "using DrWatson;\n",
    "@quickactivate \"MATH361Lectures\";"
   ]
  },
  {
   "cell_type": "code",
   "execution_count": 4,
   "id": "f25c8e18",
   "metadata": {},
   "outputs": [],
   "source": [
    "import MATH361Lectures\n",
    "using LinearAlgebra"
   ]
  },
  {
   "cell_type": "markdown",
   "id": "96387737",
   "metadata": {},
   "source": [
    "## Solving Linear Least Squares with Cholesky"
   ]
  },
  {
   "cell_type": "markdown",
   "id": "52f51bfb",
   "metadata": {},
   "source": [
    "The following Julia function uses the Cholesky factorization method to solve the problem of least squares, that is, given $A$ and $b$, we find $x$ that solves\n",
    "\n",
    "$$\\text{argmin}_{v \\in \\mathbb{R}^{n}} \\|Av - b \\|_{2}$$"
   ]
  },
  {
   "cell_type": "code",
   "execution_count": 5,
   "id": "64d7f1b6",
   "metadata": {},
   "outputs": [
    {
     "data": {
      "text/plain": [
       "lsqcholesky (generic function with 1 method)"
      ]
     },
     "execution_count": 5,
     "metadata": {},
     "output_type": "execute_result"
    }
   ],
   "source": [
    "function lsqcholesky(A,b)\n",
    "   L,U = cholesky(A'*A);\n",
    "   w = MATH361Lectures.forwardsub(L,A'*b);\n",
    "   x = MATH361Lectures.backsub(U,w);\n",
    "   return x\n",
    "end"
   ]
  },
  {
   "cell_type": "code",
   "execution_count": 7,
   "id": "59d3ec68",
   "metadata": {},
   "outputs": [
    {
     "data": {
      "text/plain": [
       "3-element Vector{Float64}:\n",
       " 0.6296350152682856\n",
       " 0.6441762396393778\n",
       " 0.5746691871455578"
      ]
     },
     "execution_count": 7,
     "metadata": {},
     "output_type": "execute_result"
    }
   ],
   "source": [
    "A = [1 2 -4; 3 -1 1; 1 -2 1; 3 -2 -1; 4 2 -1];\n",
    "b = [-1; 2; -2; 1; 3];\n",
    "x = lsqcholesky(A,b)"
   ]
  },
  {
   "cell_type": "code",
   "execution_count": 8,
   "id": "44efe3ca",
   "metadata": {},
   "outputs": [
    {
     "data": {
      "text/plain": [
       "3-element Vector{Float64}:\n",
       " 0.6296350152682856\n",
       " 0.6441762396393776\n",
       " 0.5746691871455579"
      ]
     },
     "execution_count": 8,
     "metadata": {},
     "output_type": "execute_result"
    }
   ],
   "source": [
    "x_bs = A \\ b"
   ]
  },
  {
   "cell_type": "code",
   "execution_count": 9,
   "id": "21bb0087",
   "metadata": {},
   "outputs": [
    {
     "data": {
      "text/plain": [
       "2.2560728637642335"
      ]
     },
     "execution_count": 9,
     "metadata": {},
     "output_type": "execute_result"
    }
   ],
   "source": [
    "norm(A*x-b,2)"
   ]
  },
  {
   "cell_type": "code",
   "execution_count": 10,
   "id": "0b448e23",
   "metadata": {},
   "outputs": [
    {
     "data": {
      "text/plain": [
       "2.2560728637642335"
      ]
     },
     "execution_count": 10,
     "metadata": {},
     "output_type": "execute_result"
    }
   ],
   "source": [
    "norm(A*x_bs-b,2)"
   ]
  },
  {
   "cell_type": "code",
   "execution_count": 11,
   "id": "812e1005",
   "metadata": {},
   "outputs": [
    {
     "data": {
      "text/plain": [
       "3-element Vector{Float64}:\n",
       " 0.6296450152682855\n",
       " 0.6441562396393777\n",
       " 0.5747191871455578"
      ]
     },
     "execution_count": 11,
     "metadata": {},
     "output_type": "execute_result"
    }
   ],
   "source": [
    "x_pert = x + [0.00001,-0.00002,0.00005]"
   ]
  },
  {
   "cell_type": "code",
   "execution_count": 12,
   "id": "ad5925d4",
   "metadata": {},
   "outputs": [
    {
     "data": {
      "text/plain": [
       "2.256072880563336"
      ]
     },
     "execution_count": 12,
     "metadata": {},
     "output_type": "execute_result"
    }
   ],
   "source": [
    "norm(A*x_pert - b,2)"
   ]
  },
  {
   "cell_type": "code",
   "execution_count": 13,
   "id": "486f8e48",
   "metadata": {},
   "outputs": [
    {
     "data": {
      "text/plain": [
       "5.4772255750510576e-5"
      ]
     },
     "execution_count": 13,
     "metadata": {},
     "output_type": "execute_result"
    }
   ],
   "source": [
    "norm(x - x_pert,2)"
   ]
  },
  {
   "cell_type": "markdown",
   "id": "eca36806",
   "metadata": {},
   "source": [
    "## Background for QR Factorization"
   ]
  },
  {
   "cell_type": "markdown",
   "id": "e034cc5f",
   "metadata": {},
   "source": [
    "### Orthonormal Vectors\n",
    "\n",
    "Recall that the dot product of two column vectors ${\\bf u} = [u_{1}, u_{2}, \\ldots , u_{n}]^{T}$ and ${\\bf v} = [v_{1}, v_{2}, \\ldots , v_{n}]^{T}$ is\n",
    "\n",
    "$${\\bf u}\\cdot {\\bf v} = {\\bf u}^{T} {\\bf v} = u_{1}v_{1} + u_{2}v_{2} + \\cdots + u_{n}v_{n}.$$\n",
    "\n",
    "Observe that if ${\\bf u}$ is a vector, then $\\|{\\bf u}\\|_{2}^{2} = {\\bf u}^{T} {\\bf u}$.\n"
   ]
  },
  {
   "cell_type": "markdown",
   "id": "7965414f",
   "metadata": {},
   "source": [
    "Two vectors ${\\bf u}$ and ${\\bf v}$ are said to be **orthogonal** if their dot product is zero, that is, if ${\\bf u}\\cdot {\\bf v} = {\\bf u}^{T} {\\bf v} = 0$. We say that a vector is normalized (in the 2-norm) if $\\|{\\bf u}\\|_{2} = 1$."
   ]
  },
  {
   "cell_type": "markdown",
   "id": "f93a3ac4",
   "metadata": {},
   "source": [
    "### Orthonormal Set of Vectors\n",
    "\n",
    "A set of vectors $\\{{\\bf q}_{1}, {\\bf q}_{2}, \\ldots, {\\bf q}_{n}\\}$ is an **orthogonal set** if ${\\bf q}_{i}^{T}{\\bf q}_{j} = 0$ whenever $i\\neq j$.  Furthermore, an orthogonal set of vectors is an **orthonormal set** if, in addition $\\|{\\bf q}_{i}\\|_{2} = 1 $ for all $i$.  "
   ]
  },
  {
   "cell_type": "markdown",
   "id": "81d350f1",
   "metadata": {},
   "source": [
    "### Orthogonal Matrices\n",
    "\n",
    "A matrix $Q$ is **orthogonal** if it's columns form a orthogonal set of vectors.  \n",
    "\n",
    "A matrix $Q$ is **ONC** if it's columns form an orthonormal set. Equivalently, a matrix $Q$ is ONC if $Q^{T}Q = I$.\n",
    "\n",
    "As an example, any permutation matrix $P$ is ONC. "
   ]
  },
  {
   "cell_type": "markdown",
   "id": "f354c950",
   "metadata": {},
   "source": [
    "### The Gram Schmidt Procedure\n",
    "\n",
    "Given any set of linearly independent vectors, ${{\\bf a}_{1}, {\\bf a}_{2}, \\ldots , {\\bf a}_{n}}$, there is a procedure known as the Gram Schmidt procedure that produces an orthonormal set ${{\\bf q}_{1}, {\\bf q}_{2}, \\ldots , {\\bf q}_{n}}$ with the same span as the original independent set. The Gram Schmidt procedure works as follows:"
   ]
  },
  {
   "cell_type": "markdown",
   "id": "6ed6cf66",
   "metadata": {},
   "source": [
    "Set\n",
    "\n",
    "$$\n",
    "\\begin{align*}\n",
    "{\\bf q}_{1} &= \\frac{{\\bf a}_{1}}{\\|{\\bf a}_{1}\\|_{2}}, \\\\\n",
    "{\\bf q}_{2} &= \\frac{{\\bf a}_{2} - ({\\bf q}_{1}^{T}{\\bf a}_{2}) {\\bf q}_{1}}{\\|{\\bf a}_{2} - ({\\bf q}_{1}^{T}{\\bf a}_{2}) {\\bf q}_{1}\\|_{2}}, \\\\\n",
    "{\\bf q}_{3} &= \\frac{{\\bf a}_{3} - ({\\bf q}_{1}^{T}{\\bf a}_{3}) {\\bf q}_{1} - ({\\bf q}_{2}^{T}{\\bf a}_{3}) {\\bf q}_{2}}{\\|{\\bf a}_{3} - ({\\bf q}_{1}^{T}{\\bf a}_{3}) {\\bf q}_{1} - ({\\bf q}_{2}^{T}{\\bf a}_{3}){\\bf q}_{2}\\|_{2}}, \\\\\n",
    " &\\vdots  \\\\\n",
    "{\\bf q}_{n} &= \\frac{{\\bf a}_{n} - ({\\bf q}_{1}^{T}{\\bf a}_{n}) {\\bf q}_{1} - ({\\bf q}_{2}^{T}{\\bf a}_{n}) {\\bf q}_{2} - \\cdots - ({\\bf q}_{n-1}^{T}{\\bf a}_{n}) {\\bf q}_{n-1}}{\\|{\\bf a}_{n} - ({\\bf q}_{1}^{T}{\\bf a}_{n}) {\\bf q}_{1} - ({\\bf q}_{2}^{T}{\\bf a}_{n}){\\bf q}_{2} - \\cdots - ({\\bf q}_{n-1}^{T}{\\bf a}_{n}) {\\bf q}_{n-1}\\|_{2}}, \n",
    "\\end{align*}\n",
    "$$"
   ]
  },
  {
   "cell_type": "markdown",
   "id": "eeeeed0e",
   "metadata": {},
   "source": [
    "Now, note that we can \"reverse\" the result of the Gram Schmidt procedure by solving for the ${\\bf a}_{i}$ vectors as linear combinations of the ${\\bf q}_{i}$ vectors:\n",
    "\n",
    "$$\n",
    "\\begin{align*}\n",
    "{\\bf a}_{1} &= \\|{\\bf a}_{1}\\|_{2}{\\bf q}_{1}, \\\\\n",
    "{\\bf a}_{2} &= ({\\bf q}_{1}^{T}{\\bf a}_{2}){\\bf q}_{1} +  \\|{\\bf a}_{2} - ({\\bf q}_{1}^{T}{\\bf a}_{2}) {\\bf q}_{1}\\|_{2}{\\bf q}_{2}, \\\\\n",
    "{\\bf a}_{3} &= ({\\bf q}_{1}^{T}{\\bf a}_{3}) {\\bf q}_{1} + ({\\bf q}_{2}^{T}{\\bf a}_{3}) {\\bf q}_{2} + \\|{\\bf a}_{3} - ({\\bf q}_{1}^{T}{\\bf a}_{3}) {\\bf q}_{1} - ({\\bf q}_{2}^{T}{\\bf a}_{3}){\\bf q}_{2}\\|_{2} {\\bf q}_{3}, \\\\\n",
    " &\\vdots  \\\\\n",
    "{\\bf a}_{n} &= ({\\bf q}_{1}^{T}{\\bf a}_{n}) {\\bf q}_{1} + ({\\bf q}_{2}^{T}{\\bf a}_{n}) {\\bf q}_{2} + \\cdots + ({\\bf q}_{n-1}^{T}{\\bf a}_{n}) {\\bf q}_{n-1} + \\|{\\bf a}_{n} - ({\\bf q}_{1}^{T}{\\bf a}_{n}) {\\bf q}_{1} - ({\\bf q}_{2}^{T}{\\bf a}_{n}){\\bf q}_{2} - \\cdots - ({\\bf q}_{n-1}^{T}{\\bf a}_{n}) {\\bf q}_{n-1}\\|_{2} {\\bf q}_{n}, \n",
    "\\end{align*}\n",
    "$$"
   ]
  },
  {
   "cell_type": "markdown",
   "id": "1233bf1d",
   "metadata": {},
   "source": [
    "We can simplify the expressions in the last cell by defining\n",
    "\n",
    "$$\n",
    "\\begin{align*}\n",
    "r_{kk} &= \\|{\\bf a}_{k} - ({\\bf q}_{1}^{T}{\\bf a}_{k}) {\\bf q}_{1} - ({\\bf q}_{2}^{T}{\\bf a}_{k}){\\bf q}_{k} - \\cdots - ({\\bf q}_{k-1}^{T}{\\bf a}_{k}) {\\bf q}_{k-1}\\|_{2}, \\\\\n",
    "r_{kl} &= {\\bf q}_{k}^{T} {\\bf a}_{l}, \\ \\ \\text{ for } l > k \n",
    "\\end{align*}\n",
    "$$\n",
    "\n",
    "Then we obtain:"
   ]
  },
  {
   "cell_type": "markdown",
   "id": "634b521b",
   "metadata": {},
   "source": [
    "$$\n",
    "\\begin{align*}\n",
    "{\\bf a}_{1} &= r_{11}{\\bf q}_{1}, \\\\\n",
    "{\\bf a}_{2} &= r_{12}{\\bf q}_{1} +  r_{22}{\\bf q}_{2}, \\\\\n",
    "{\\bf a}_{3} &= r_{13}{\\bf q}_{1} + r_{23} {\\bf q}_{2} + r_{33}{\\bf q}_{3}, \\\\\n",
    " &\\vdots  \\\\\n",
    "{\\bf a}_{n} &= r_{1n} {\\bf q}_{1} + r_{2n} {\\bf q}_{2} + \\cdots + r_{n-1 n} {\\bf q}_{n-1} + r_{nn} {\\bf q}_{n}, \n",
    "\\end{align*}\n",
    "$$"
   ]
  },
  {
   "cell_type": "markdown",
   "id": "230ab15a",
   "metadata": {},
   "source": [
    "Which can be simplified even further to $A = QR$ if we think of the vectors ${\\bf a}_{1},{\\bf a}_{2},\\ldots,{\\bf a}_{n}$ as forming the columns of the matrix $A$, the vectors ${\\bf q}_{1},{\\bf q}_{2},\\ldots,{\\bf q}_{n}$ as forming the columns of a matrix $Q$, and the scalars $r_{ij}$ as forming the entries of an **upper triangular** matrix $R$. "
   ]
  },
  {
   "cell_type": "code",
   "execution_count": 31,
   "id": "5be7ebb1",
   "metadata": {},
   "outputs": [
    {
     "data": {
      "text/plain": [
       "gsqr (generic function with 1 method)"
      ]
     },
     "execution_count": 31,
     "metadata": {},
     "output_type": "execute_result"
    }
   ],
   "source": [
    "function gsqr(A)\n",
    "   m,n = size(A);\n",
    "   Q = Matrix{Float64}(A);\n",
    "   R = Matrix{Float64}(I,n,n);\n",
    "   R[1,1] = norm(Q[:,1],2); \n",
    "   Q[:,1] = (1/R[1,1]) *  Q[:,1]; # get first column of Q\n",
    "   for j = 2:n # loop through columns\n",
    "        for i = 1:j-1\n",
    "            R[i,j] = dot(Q[:,i],Q[:,j]);\n",
    "            Q[:,j] = Q[:,j] .- R[i,j]*Q[:,i];\n",
    "        end\n",
    "        R[j,j] = norm(Q[:,j],2);\n",
    "        Q[:,j] = (1/R[j,j])*Q[:,j];\n",
    "    end\n",
    "    return Q, R\n",
    "end"
   ]
  },
  {
   "cell_type": "code",
   "execution_count": null,
   "id": "03a3bdc3",
   "metadata": {},
   "outputs": [],
   "source": [
    "A = [1 2 3;-1 1 -1; 0 1 0;2 -1 2]"
   ]
  },
  {
   "cell_type": "code",
   "execution_count": 33,
   "id": "bc2c2867",
   "metadata": {},
   "outputs": [],
   "source": [
    "Q,R = gsqr(A);"
   ]
  },
  {
   "cell_type": "code",
   "execution_count": 34,
   "id": "40d12c54",
   "metadata": {},
   "outputs": [
    {
     "data": {
      "text/plain": [
       "4×3 Matrix{Float64}:\n",
       "  0.408248   0.82885    0.382546\n",
       " -0.408248   0.318788  -0.255031\n",
       "  0.0        0.382546  -0.82885\n",
       "  0.816497  -0.255031  -0.318788"
      ]
     },
     "execution_count": 34,
     "metadata": {},
     "output_type": "execute_result"
    }
   ],
   "source": [
    "Q"
   ]
  },
  {
   "cell_type": "code",
   "execution_count": 35,
   "id": "8af0013b",
   "metadata": {},
   "outputs": [
    {
     "data": {
      "text/plain": [
       "3×3 Matrix{Float64}:\n",
       " 2.44949  -0.408248  3.26599\n",
       " 0.0       2.61406   1.6577\n",
       " 0.0       0.0       0.765092"
      ]
     },
     "execution_count": 35,
     "metadata": {},
     "output_type": "execute_result"
    }
   ],
   "source": [
    "R"
   ]
  },
  {
   "cell_type": "code",
   "execution_count": 36,
   "id": "7080791a",
   "metadata": {},
   "outputs": [
    {
     "data": {
      "text/plain": [
       "1.0000000000000002"
      ]
     },
     "execution_count": 36,
     "metadata": {},
     "output_type": "execute_result"
    }
   ],
   "source": [
    "Q[:,1]'*Q[:,1]"
   ]
  },
  {
   "cell_type": "code",
   "execution_count": 37,
   "id": "0d3e818c",
   "metadata": {},
   "outputs": [
    {
     "data": {
      "text/plain": [
       "0.9999999999999998"
      ]
     },
     "execution_count": 37,
     "metadata": {},
     "output_type": "execute_result"
    }
   ],
   "source": [
    "Q[:,2]'*Q[:,2]"
   ]
  },
  {
   "cell_type": "code",
   "execution_count": 38,
   "id": "25f64cba",
   "metadata": {},
   "outputs": [
    {
     "data": {
      "text/plain": [
       "0.9999999999999997"
      ]
     },
     "execution_count": 38,
     "metadata": {},
     "output_type": "execute_result"
    }
   ],
   "source": [
    "Q[:,3]'*Q[:,3]"
   ]
  },
  {
   "cell_type": "code",
   "execution_count": 40,
   "id": "4dc5b902",
   "metadata": {},
   "outputs": [
    {
     "data": {
      "text/plain": [
       "5.551115123125783e-17"
      ]
     },
     "execution_count": 40,
     "metadata": {},
     "output_type": "execute_result"
    }
   ],
   "source": [
    "Q[:,1]'*Q[:,2]"
   ]
  },
  {
   "cell_type": "code",
   "execution_count": 41,
   "id": "7c83b4bb",
   "metadata": {},
   "outputs": [
    {
     "data": {
      "text/plain": [
       "-1.3322676295501878e-15"
      ]
     },
     "execution_count": 41,
     "metadata": {},
     "output_type": "execute_result"
    }
   ],
   "source": [
    "Q[:,1]'*Q[:,3]"
   ]
  },
  {
   "cell_type": "code",
   "execution_count": 42,
   "id": "a669fdbf",
   "metadata": {},
   "outputs": [
    {
     "data": {
      "text/plain": [
       "3.3306690738754696e-16"
      ]
     },
     "execution_count": 42,
     "metadata": {},
     "output_type": "execute_result"
    }
   ],
   "source": [
    "Q[:,2]'*Q[:,3]"
   ]
  },
  {
   "cell_type": "code",
   "execution_count": null,
   "id": "e1b72ad8",
   "metadata": {},
   "outputs": [],
   "source": []
  }
 ],
 "metadata": {
  "kernelspec": {
   "display_name": "Julia 1.6.2",
   "language": "julia",
   "name": "julia-1.6"
  },
  "language_info": {
   "file_extension": ".jl",
   "mimetype": "application/julia",
   "name": "julia",
   "version": "1.6.3"
  }
 },
 "nbformat": 4,
 "nbformat_minor": 5
}
