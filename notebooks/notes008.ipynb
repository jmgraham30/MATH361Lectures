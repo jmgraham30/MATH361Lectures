{
 "cells": [
  {
   "cell_type": "code",
   "execution_count": 1,
   "metadata": {
    "slideshow": {
     "slide_type": "slide"
    }
   },
   "outputs": [],
   "source": [
    "using DrWatson;\n",
    "@quickactivate \"MATH361Lectures\"\n",
    "using LinearAlgebra, Latexify;\n",
    "import MATH361Lectures;"
   ]
  },
  {
   "cell_type": "markdown",
   "metadata": {
    "slideshow": {
     "slide_type": "slide"
    }
   },
   "source": [
    "# Partial Pivoting and Stability"
   ]
  },
  {
   "cell_type": "markdown",
   "metadata": {
    "slideshow": {
     "slide_type": "slide"
    }
   },
   "source": [
    "To supplement this lecture, you might want to watch the video lecture on [pivoting](https://www.youtube.com/watch?v=mmoliBMaaQs&list=PLvUvOH0OYx3BcZivtXMIwP6hKoYv0YvGn&index=10&t=3s)"
   ]
  },
  {
   "cell_type": "markdown",
   "metadata": {
    "slideshow": {
     "slide_type": "slide"
    }
   },
   "source": [
    "## Introduction "
   ]
  },
  {
   "cell_type": "markdown",
   "metadata": {
    "slideshow": {
     "slide_type": "slide"
    }
   },
   "source": [
    "Recall from the previous lecture that we can run into issues using LU factorization. For example, we looked at the matrix\n",
    "\n",
    "$$\n",
    "\\left[\n",
    "\\begin{array}{cccc}\n",
    "2.0 & 0.0 & 4.0 & 3.0 \\\\\n",
    "-2.0 & 0.0 & 2.0 & -13.0 \\\\\n",
    "1.0 & 15.0 & 2.0 & -4.5 \\\\\n",
    "-4.0 & 5.0 & -7.0 & -10.0 \\\\\n",
    "\\end{array}\n",
    "\\right]\n",
    "$$"
   ]
  },
  {
   "cell_type": "markdown",
   "metadata": {
    "slideshow": {
     "slide_type": "slide"
    }
   },
   "source": [
    "We can use Gaussian elimination to zero out all of the entries in the first column below the $(1,1)$ entry to get\n",
    "\n",
    "$$\n",
    "\\left[\n",
    "\\begin{array}{cccc}\n",
    "2 & 0 & 4 & 3 \\\\\n",
    "0 & 0 & 6 & -10 \\\\\n",
    "0 & 15 & 0 & -6 \\\\\n",
    "0 & 5 & 1 & -4 \\\\\n",
    "\\end{array}\n",
    "\\right]\n",
    "$$"
   ]
  },
  {
   "cell_type": "markdown",
   "metadata": {
    "slideshow": {
     "slide_type": "slide"
    }
   },
   "source": [
    "The next step in LU factorization would have us attempt to zero out the entries in the second column below the $(2,2)$ entry. However, this leads to a division by zero since the $(2,2)$ entry is zero. On the other hand, returning to Gaussian elimination as done in your linear algebra class, one would usually do a row exchange in the next step as follows:\n",
    "\n",
    "$$\n",
    "\\left[\n",
    "\\begin{array}{cccc}\n",
    "2 & 0 & 4 & 3 \\\\\n",
    "0 & 0 & 6 & -10 \\\\\n",
    "0 & 15 & 0 & -6 \\\\\n",
    "0 & 5 & 1 & -4 \\\\\n",
    "\\end{array}\n",
    "\\right] \\ \\  \\mapsto \\ \\  \\left[\n",
    "\\begin{array}{cccc}\n",
    "2 & 0 & 4 & 3 \\\\\n",
    "0 & 5 & 1 & -4 \\\\\n",
    "0 & 15 & 0 & -6 \\\\\n",
    "0 & 0 & 6 & -10 \\\\\n",
    "\\end{array}\n",
    "\\right]\n",
    "$$"
   ]
  },
  {
   "cell_type": "markdown",
   "metadata": {
    "slideshow": {
     "slide_type": "slide"
    }
   },
   "source": [
    "## Partial Pivoting"
   ]
  },
  {
   "cell_type": "markdown",
   "metadata": {
    "slideshow": {
     "slide_type": "slide"
    }
   },
   "source": [
    "As the last example shows, a row swap is necessary when the LU factorization algorithm would require division by zero. This happens exactly when a diagonal entry of the matrix is zero just before the elimination step. Suppose that entry $(j,j)$ is zero just before we need to zero out the entries in column $j$ below the diagonal. In this case, we call the $(j,j)$ entry a **pivot element**. Thus, when we have a zero pivot element, we need to swap row $j$ with another row, a process called **row pivoting** or **partial pivoting**.  An important question is, which row should we swap with row $j$? First note that the only options from rows $j+1$ to $n$. However, we can not choose just any row from $j+1$ to $n$ because this can lead to stability issues. We illustrate the idea with a simple example.  "
   ]
  },
  {
   "cell_type": "markdown",
   "metadata": {
    "slideshow": {
     "slide_type": "slide"
    }
   },
   "source": [
    "Consider the linear system $Ax=b$ with\n",
    "\n",
    "$A = \\left[\\begin{array}{cc} -\\epsilon & 1 \\\\ 1 & -1 \\end{array}\\right], \\ \\ b = \\left[\\begin{array}{c} 1-\\epsilon \\\\ 0 \\end{array}\\right]$\n",
    "\n",
    "where $\\epsilon$ is a small positive number. "
   ]
  },
  {
   "cell_type": "markdown",
   "metadata": {
    "slideshow": {
     "slide_type": "slide"
    }
   },
   "source": [
    "It is easy to see that $x=\\left[\\begin{array}{c} 1 \\\\ 1 \\end{array}\\right]$ is the exact solution to this problem. Let's carry out Gaussian elimination to solve the system."
   ]
  },
  {
   "cell_type": "markdown",
   "metadata": {
    "slideshow": {
     "slide_type": "slide"
    }
   },
   "source": [
    "We start with an augmented matrix\n",
    "\n",
    "$\\left[\\begin{array}{ccc} -\\epsilon & 1 & 1-\\epsilon \\\\ 1 & -1 & 0 \\end{array}\\right]$\n",
    "\n",
    "and use row operations to obtain\n",
    "\n",
    "$\\left[\\begin{array}{ccc} -\\epsilon & 1 & 1-\\epsilon \\\\ 0 & -1+\\frac{1}{\\epsilon} & \\frac{1}{\\epsilon}-1 \\end{array}\\right]$\n",
    "\n",
    "which implies that $x_{2}=1$, $x_{1}=\\frac{(1-\\epsilon)-1}{-\\epsilon}$. Now in finite precision arithmetic, the expression $(1-\\epsilon)-1$ is problematic due to subtractive cancellation. In other words, the computation of adding $\\frac{1}{\\epsilon}$ times row 1 to row 2 is ill-conditioned.  "
   ]
  },
  {
   "cell_type": "markdown",
   "metadata": {
    "slideshow": {
     "slide_type": "slide"
    }
   },
   "source": [
    "Suppose that we swap rows 1 and 2 **before** the elimination step, even though it is not necessary to do so leading to\n",
    "\n",
    "$\\left[\\begin{array}{ccc} 1 & -1 & 0 \\\\ -\\epsilon & 1 & 1-\\epsilon \\end{array}\\right]$\n",
    "\n",
    "now row operations produce\n",
    "\n",
    "$\\left[\\begin{array}{ccc} 1 & -1 & 0 \\\\ 0 & 1-\\epsilon & 1-\\epsilon \\end{array}\\right]$\n",
    "\n",
    "with solution $x_{2}=1$, $x_{1}=\\frac{0-(-1)}{1}$."
   ]
  },
  {
   "cell_type": "markdown",
   "metadata": {
    "slideshow": {
     "slide_type": "slide"
    }
   },
   "source": [
    "The conclusion based on the last example is:\n",
    "\n",
    "**Important:** When performing elimination in column $j$, swap row $j$ with the row below it whose entry in column $j$ is the largest in absolute value. \n",
    "\n",
    "This is basically what we add to the LU algorithm in order to include partial pivoting. "
   ]
  },
  {
   "cell_type": "markdown",
   "metadata": {
    "slideshow": {
     "slide_type": "slide"
    }
   },
   "source": [
    "## Algebra of Partial Pivoting"
   ]
  },
  {
   "cell_type": "markdown",
   "metadata": {
    "slideshow": {
     "slide_type": "slide"
    }
   },
   "source": [
    "We have previously derived that Gaussian elimination (without pivoting) can be obtained by multiplying a matrix $A$ on the left by a sequence of elementary matrices that are lower triangular, resulting in a upper triangular matrix. In order to perform Gaussian elimination with partial pivoting, we need to introduce another type of elementary matrix. A **permutation matrix** is an $n\\times n$ matrix with exactly one nonzero value of $1$ in each row and column. Equivalently, a permutation matrix is a matrix obtained from the $n\\times n$ identity matrix $I$ by permuting either the rows or columns of $I$. Two important facts about permutation matrices (that you will explore in the exercises) are:\n",
    "\n",
    "1) If $P$ is a permutation matrix, then $P^{-1}=P^{T}$, so inverting permutation matrices is easy; and\n",
    "\n",
    "2) The product of two permutation matrices is again a permutation matrix. "
   ]
  },
  {
   "cell_type": "markdown",
   "metadata": {
    "slideshow": {
     "slide_type": "slide"
    }
   },
   "source": [
    "Let's illustrate these properties and the use of permutation matrices in Jula."
   ]
  },
  {
   "cell_type": "code",
   "execution_count": 3,
   "metadata": {
    "slideshow": {
     "slide_type": "slide"
    }
   },
   "outputs": [
    {
     "data": {
      "text/plain": [
       "4×4 Matrix{Float64}:\n",
       " 1.0  0.0  0.0  0.0\n",
       " 0.0  1.0  0.0  0.0\n",
       " 0.0  0.0  1.0  0.0\n",
       " 0.0  0.0  0.0  1.0"
      ]
     },
     "execution_count": 3,
     "metadata": {},
     "output_type": "execute_result"
    }
   ],
   "source": [
    "Ifour = Matrix{Float64}(I,4,4) # the four by four identity matrix"
   ]
  },
  {
   "cell_type": "code",
   "execution_count": 4,
   "metadata": {
    "slideshow": {
     "slide_type": "slide"
    }
   },
   "outputs": [
    {
     "data": {
      "text/plain": [
       "4×4 Matrix{Float64}:\n",
       " 0.0  0.0  0.0  1.0\n",
       " 0.0  1.0  0.0  0.0\n",
       " 0.0  0.0  1.0  0.0\n",
       " 1.0  0.0  0.0  0.0"
      ]
     },
     "execution_count": 4,
     "metadata": {},
     "output_type": "execute_result"
    }
   ],
   "source": [
    "# construct a permutation matrix that interchanges the first and last rows\n",
    "P14 = Ifour[[4,2,3,1],:]"
   ]
  },
  {
   "cell_type": "code",
   "execution_count": 5,
   "metadata": {
    "slideshow": {
     "slide_type": "slide"
    }
   },
   "outputs": [
    {
     "data": {
      "text/plain": [
       "4×4 Matrix{Float64}:\n",
       " 4.0  4.0  4.0  4.0\n",
       " 2.0  2.0  2.0  2.0\n",
       " 3.0  3.0  3.0  3.0\n",
       " 1.0  1.0  1.0  1.0"
      ]
     },
     "execution_count": 5,
     "metadata": {},
     "output_type": "execute_result"
    }
   ],
   "source": [
    "# illustrate its use\n",
    "M = [1 1 1 1;2 2 2 2;3 3 3 3;4 4 4 4]\n",
    "P14*M"
   ]
  },
  {
   "cell_type": "code",
   "execution_count": 6,
   "metadata": {
    "slideshow": {
     "slide_type": "slide"
    }
   },
   "outputs": [
    {
     "data": {
      "text/plain": [
       "4×4 Matrix{Float64}:\n",
       " 1.0  0.0  0.0  0.0\n",
       " 0.0  1.0  0.0  0.0\n",
       " 0.0  0.0  1.0  0.0\n",
       " 0.0  0.0  0.0  1.0"
      ]
     },
     "execution_count": 6,
     "metadata": {},
     "output_type": "execute_result"
    }
   ],
   "source": [
    "#notice that transpose(P14)=inverse(P14)\n",
    "P14*P14'"
   ]
  },
  {
   "cell_type": "code",
   "execution_count": 7,
   "metadata": {
    "slideshow": {
     "slide_type": "slide"
    }
   },
   "outputs": [
    {
     "data": {
      "text/plain": [
       "4×4 Matrix{Float64}:\n",
       " 1.0  0.0  0.0  0.0\n",
       " 0.0  0.0  1.0  0.0\n",
       " 0.0  1.0  0.0  0.0\n",
       " 0.0  0.0  0.0  1.0"
      ]
     },
     "execution_count": 7,
     "metadata": {},
     "output_type": "execute_result"
    }
   ],
   "source": [
    "# this matrix should interchange the second and third rows\n",
    "P23 = Ifour[[1,3,2,4],:]"
   ]
  },
  {
   "cell_type": "code",
   "execution_count": 8,
   "metadata": {
    "slideshow": {
     "slide_type": "slide"
    }
   },
   "outputs": [
    {
     "data": {
      "text/plain": [
       "4×4 Matrix{Float64}:\n",
       " 1.0  1.0  1.0  1.0\n",
       " 3.0  3.0  3.0  3.0\n",
       " 2.0  2.0  2.0  2.0\n",
       " 4.0  4.0  4.0  4.0"
      ]
     },
     "execution_count": 8,
     "metadata": {},
     "output_type": "execute_result"
    }
   ],
   "source": [
    "P23*M"
   ]
  },
  {
   "cell_type": "code",
   "execution_count": 9,
   "metadata": {
    "slideshow": {
     "slide_type": "slide"
    }
   },
   "outputs": [
    {
     "data": {
      "text/plain": [
       "4×4 Matrix{Float64}:\n",
       " 0.0  0.0  0.0  1.0\n",
       " 0.0  0.0  1.0  0.0\n",
       " 0.0  1.0  0.0  0.0\n",
       " 1.0  0.0  0.0  0.0"
      ]
     },
     "execution_count": 9,
     "metadata": {},
     "output_type": "execute_result"
    }
   ],
   "source": [
    "# notice that P14 times P23 is again a permutation matrix\n",
    "P14*P23"
   ]
  },
  {
   "cell_type": "code",
   "execution_count": 10,
   "metadata": {
    "slideshow": {
     "slide_type": "slide"
    }
   },
   "outputs": [
    {
     "data": {
      "text/plain": [
       "4×4 Matrix{Float64}:\n",
       " 4.0  4.0  4.0  4.0\n",
       " 3.0  3.0  3.0  3.0\n",
       " 2.0  2.0  2.0  2.0\n",
       " 1.0  1.0  1.0  1.0"
      ]
     },
     "execution_count": 10,
     "metadata": {},
     "output_type": "execute_result"
    }
   ],
   "source": [
    "# which permutation matrix is it? \n",
    "P14*P23*M"
   ]
  },
  {
   "cell_type": "markdown",
   "metadata": {
    "slideshow": {
     "slide_type": "slide"
    }
   },
   "source": [
    "## LU Factorization with Partial Pivoting"
   ]
  },
  {
   "cell_type": "markdown",
   "metadata": {
    "slideshow": {
     "slide_type": "slide"
    }
   },
   "source": [
    "LU factorization with partial pivoting is implemented in the base Julia package `LinearAlgebra.jl`. For the sake of completeness we illustrate the LU factorization with partial pivoting algorithm by coding it from scratch and comparing it's use with the base Julia implementation.  "
   ]
  },
  {
   "cell_type": "code",
   "execution_count": 11,
   "metadata": {
    "slideshow": {
     "slide_type": "slide"
    }
   },
   "outputs": [
    {
     "data": {
      "text/plain": [
       "luppfact (generic function with 1 method)"
      ]
     },
     "execution_count": 11,
     "metadata": {},
     "output_type": "execute_result"
    }
   ],
   "source": [
    "function luppfact(A)\n",
    "   m,n = size(A);             # number of rows and columns\n",
    "   P = Matrix{Float64}(I,n,n); # initialize P\n",
    "   U = Matrix{Float64}(A);     # initialize U\n",
    "   L = Matrix{Float64}(I,n,n); # initialize L\n",
    "   for k=1:m-1\n",
    "        ind = k;\n",
    "        pivot=maximum(abs.(U[k:m,k]));\n",
    "        for j=k:m\n",
    "            if(abs(U[j,k])==pivot)\n",
    "                ind=j;\n",
    "                break\n",
    "            end\n",
    "        end\n",
    "        U[[k,ind],k:m]=U[[ind,k],k:m];\n",
    "        L[[k,ind],1:k-1]=L[[ind,k],1:k-1]\n",
    "        P[[k,ind],:]=P[[ind,k],:]\n",
    "        for j=k+1:m\n",
    "            L[j,k]=U[j,k]/U[k,k];\n",
    "            U[j,k:m]=U[j,k:m] - L[j,k].*U[k,k:m];\n",
    "        end\n",
    "    end\n",
    "    return L, U, P\n",
    "end"
   ]
  },
  {
   "cell_type": "code",
   "execution_count": 12,
   "metadata": {
    "slideshow": {
     "slide_type": "slide"
    }
   },
   "outputs": [
    {
     "data": {
      "text/latex": [
       "\\begin{equation}\n",
       "\\left[\n",
       "\\begin{array}{cccc}\n",
       "2.0 & 0.0 & 4.0 & 3.0 \\\\\n",
       "-2.0 & 0.0 & 2.0 & -13.0 \\\\\n",
       "1.0 & 15.0 & 2.0 & -4.5 \\\\\n",
       "-4.0 & 5.0 & -7.0 & -10.0 \\\\\n",
       "\\end{array}\n",
       "\\right]\n",
       "\\end{equation}\n"
      ],
      "text/plain": [
       "L\"\\begin{equation}\n",
       "\\left[\n",
       "\\begin{array}{cccc}\n",
       "2.0 & 0.0 & 4.0 & 3.0 \\\\\n",
       "-2.0 & 0.0 & 2.0 & -13.0 \\\\\n",
       "1.0 & 15.0 & 2.0 & -4.5 \\\\\n",
       "-4.0 & 5.0 & -7.0 & -10.0 \\\\\n",
       "\\end{array}\n",
       "\\right]\n",
       "\\end{equation}\n",
       "\""
      ]
     },
     "execution_count": 12,
     "metadata": {},
     "output_type": "execute_result"
    }
   ],
   "source": [
    "A = [2 0 4 3; -2 0 2 -13; 1 15 2 -4.5;-4 5 -7 -10];\n",
    "latexify(A)"
   ]
  },
  {
   "cell_type": "code",
   "execution_count": 13,
   "metadata": {
    "slideshow": {
     "slide_type": "slide"
    }
   },
   "outputs": [],
   "source": [
    "L,U,P = luppfact(A);"
   ]
  },
  {
   "cell_type": "code",
   "execution_count": 14,
   "metadata": {
    "slideshow": {
     "slide_type": "slide"
    }
   },
   "outputs": [],
   "source": [
    "L1,U1,P1 = lu(A);"
   ]
  },
  {
   "cell_type": "code",
   "execution_count": 15,
   "metadata": {
    "slideshow": {
     "slide_type": "slide"
    }
   },
   "outputs": [
    {
     "data": {
      "text/latex": [
       "\\begin{equation}\n",
       "\\left[\n",
       "\\begin{array}{cccc}\n",
       "1.0 & 0.0 & 0.0 & 0.0 \\\\\n",
       "-0.25 & 1.0 & 0.0 & 0.0 \\\\\n",
       "0.5 & -0.15384615384615385 & 1.0 & 0.0 \\\\\n",
       "-0.5 & 0.15384615384615385 & 0.08333333333333334 & 1.0 \\\\\n",
       "\\end{array}\n",
       "\\right]\n",
       "\\end{equation}\n"
      ],
      "text/plain": [
       "L\"\\begin{equation}\n",
       "\\left[\n",
       "\\begin{array}{cccc}\n",
       "1.0 & 0.0 & 0.0 & 0.0 \\\\\n",
       "-0.25 & 1.0 & 0.0 & 0.0 \\\\\n",
       "0.5 & -0.15384615384615385 & 1.0 & 0.0 \\\\\n",
       "-0.5 & 0.15384615384615385 & 0.08333333333333334 & 1.0 \\\\\n",
       "\\end{array}\n",
       "\\right]\n",
       "\\end{equation}\n",
       "\""
      ]
     },
     "metadata": {},
     "output_type": "display_data"
    },
    {
     "data": {
      "text/latex": [
       "\\begin{equation}\n",
       "\\left[\n",
       "\\begin{array}{cccc}\n",
       "1.0 & 0.0 & 0.0 & 0.0 \\\\\n",
       "-0.25 & 1.0 & 0.0 & 0.0 \\\\\n",
       "0.5 & -0.15384615384615385 & 1.0 & 0.0 \\\\\n",
       "-0.5 & 0.15384615384615385 & 0.08333333333333336 & 1.0 \\\\\n",
       "\\end{array}\n",
       "\\right]\n",
       "\\end{equation}\n"
      ],
      "text/plain": [
       "L\"\\begin{equation}\n",
       "\\left[\n",
       "\\begin{array}{cccc}\n",
       "1.0 & 0.0 & 0.0 & 0.0 \\\\\n",
       "-0.25 & 1.0 & 0.0 & 0.0 \\\\\n",
       "0.5 & -0.15384615384615385 & 1.0 & 0.0 \\\\\n",
       "-0.5 & 0.15384615384615385 & 0.08333333333333336 & 1.0 \\\\\n",
       "\\end{array}\n",
       "\\right]\n",
       "\\end{equation}\n",
       "\""
      ]
     },
     "metadata": {},
     "output_type": "display_data"
    }
   ],
   "source": [
    "latexify(L) |> display\n",
    "latexify(L1)|> display"
   ]
  },
  {
   "cell_type": "code",
   "execution_count": 16,
   "metadata": {
    "slideshow": {
     "slide_type": "slide"
    }
   },
   "outputs": [
    {
     "data": {
      "text/latex": [
       "\\begin{equation}\n",
       "\\left[\n",
       "\\begin{array}{cccc}\n",
       "-4.0 & 5.0 & -7.0 & -10.0 \\\\\n",
       "0.0 & 16.25 & 0.25 & -7.0 \\\\\n",
       "0.0 & 0.0 & 5.538461538461538 & -9.076923076923077 \\\\\n",
       "0.0 & 0.0 & 0.0 & -0.1666666666666664 \\\\\n",
       "\\end{array}\n",
       "\\right]\n",
       "\\end{equation}\n"
      ],
      "text/plain": [
       "L\"\\begin{equation}\n",
       "\\left[\n",
       "\\begin{array}{cccc}\n",
       "-4.0 & 5.0 & -7.0 & -10.0 \\\\\n",
       "0.0 & 16.25 & 0.25 & -7.0 \\\\\n",
       "0.0 & 0.0 & 5.538461538461538 & -9.076923076923077 \\\\\n",
       "0.0 & 0.0 & 0.0 & -0.1666666666666664 \\\\\n",
       "\\end{array}\n",
       "\\right]\n",
       "\\end{equation}\n",
       "\""
      ]
     },
     "metadata": {},
     "output_type": "display_data"
    },
    {
     "data": {
      "text/latex": [
       "\\begin{equation}\n",
       "\\left[\n",
       "\\begin{array}{cccc}\n",
       "-4.0 & 5.0 & -7.0 & -10.0 \\\\\n",
       "0.0 & 16.25 & 0.25 & -7.0 \\\\\n",
       "0.0 & 0.0 & 5.538461538461538 & -9.076923076923077 \\\\\n",
       "0.0 & 0.0 & 0.0 & -0.16666666666666652 \\\\\n",
       "\\end{array}\n",
       "\\right]\n",
       "\\end{equation}\n"
      ],
      "text/plain": [
       "L\"\\begin{equation}\n",
       "\\left[\n",
       "\\begin{array}{cccc}\n",
       "-4.0 & 5.0 & -7.0 & -10.0 \\\\\n",
       "0.0 & 16.25 & 0.25 & -7.0 \\\\\n",
       "0.0 & 0.0 & 5.538461538461538 & -9.076923076923077 \\\\\n",
       "0.0 & 0.0 & 0.0 & -0.16666666666666652 \\\\\n",
       "\\end{array}\n",
       "\\right]\n",
       "\\end{equation}\n",
       "\""
      ]
     },
     "metadata": {},
     "output_type": "display_data"
    }
   ],
   "source": [
    "latexify(U) |> display\n",
    "latexify(U1)|> display"
   ]
  },
  {
   "cell_type": "code",
   "execution_count": 17,
   "metadata": {
    "slideshow": {
     "slide_type": "slide"
    }
   },
   "outputs": [
    {
     "data": {
      "text/latex": [
       "\\begin{equation}\n",
       "\\left[\n",
       "\\begin{array}{cccc}\n",
       "0.0 & 0.0 & 0.0 & 1.0 \\\\\n",
       "0.0 & 0.0 & 1.0 & 0.0 \\\\\n",
       "0.0 & 1.0 & 0.0 & 0.0 \\\\\n",
       "1.0 & 0.0 & 0.0 & 0.0 \\\\\n",
       "\\end{array}\n",
       "\\right]\n",
       "\\end{equation}\n"
      ],
      "text/plain": [
       "L\"\\begin{equation}\n",
       "\\left[\n",
       "\\begin{array}{cccc}\n",
       "0.0 & 0.0 & 0.0 & 1.0 \\\\\n",
       "0.0 & 0.0 & 1.0 & 0.0 \\\\\n",
       "0.0 & 1.0 & 0.0 & 0.0 \\\\\n",
       "1.0 & 0.0 & 0.0 & 0.0 \\\\\n",
       "\\end{array}\n",
       "\\right]\n",
       "\\end{equation}\n",
       "\""
      ]
     },
     "metadata": {},
     "output_type": "display_data"
    },
    {
     "data": {
      "text/latex": [
       "\\begin{equation}\n",
       "\\left[\n",
       "\\begin{array}{cccc}\n",
       "0.0 & 0.0 & 0.0 & 1.0 \\\\\n",
       "0.0 & 0.0 & 1.0 & 0.0 \\\\\n",
       "0.0 & 1.0 & 0.0 & 0.0 \\\\\n",
       "1.0 & 0.0 & 0.0 & 0.0 \\\\\n",
       "\\end{array}\n",
       "\\right]\n",
       "\\end{equation}\n"
      ],
      "text/plain": [
       "L\"\\begin{equation}\n",
       "\\left[\n",
       "\\begin{array}{cccc}\n",
       "0.0 & 0.0 & 0.0 & 1.0 \\\\\n",
       "0.0 & 0.0 & 1.0 & 0.0 \\\\\n",
       "0.0 & 1.0 & 0.0 & 0.0 \\\\\n",
       "1.0 & 0.0 & 0.0 & 0.0 \\\\\n",
       "\\end{array}\n",
       "\\right]\n",
       "\\end{equation}\n",
       "\""
      ]
     },
     "metadata": {},
     "output_type": "display_data"
    }
   ],
   "source": [
    "latexify(P) |> display\n",
    "latexify(Matrix{Float64}(I,4,4)[P1,:])|> display"
   ]
  },
  {
   "cell_type": "markdown",
   "metadata": {
    "slideshow": {
     "slide_type": "slide"
    }
   },
   "source": [
    "In order to anlayse the stability and conditioning for linear algebra problems and numerical linear algebra algorithms, we need a way to measure error and the magnitude of perturbations. The mathematical tools used to do this are [matrix norms](https://en.wikipedia.org/wiki/Matrix_norm), the topic of our next lecture. In preparation for the next lecture, you might want to watch [this video](https://www.youtube.com/watch?v=Sqa_jdZ9mVg&t=369s). "
   ]
  }
 ],
 "metadata": {
  "celltoolbar": "Slideshow",
  "kernelspec": {
   "display_name": "Julia 1.6.2",
   "language": "julia",
   "name": "julia-1.6"
  },
  "language_info": {
   "file_extension": ".jl",
   "mimetype": "application/julia",
   "name": "julia",
   "version": "1.6.2"
  }
 },
 "nbformat": 4,
 "nbformat_minor": 4
}
