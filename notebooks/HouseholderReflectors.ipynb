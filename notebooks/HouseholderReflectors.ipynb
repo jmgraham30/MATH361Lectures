{
 "cells": [
  {
   "cell_type": "code",
   "execution_count": 1,
   "id": "a957abab",
   "metadata": {},
   "outputs": [],
   "source": [
    "using DrWatson;\n",
    "@quickactivate \"MATH361Lectures\";\n",
    "import MATH361Lectures\n",
    "using LinearAlgebra"
   ]
  },
  {
   "cell_type": "code",
   "execution_count": 52,
   "id": "5022348f",
   "metadata": {},
   "outputs": [
    {
     "data": {
      "text/plain": [
       "5×3 Matrix{Int64}:\n",
       " -1   2  3\n",
       "  3  -1  2\n",
       " -1   0  1\n",
       "  0   1  1\n",
       " -1  -1  1"
      ]
     },
     "execution_count": 52,
     "metadata": {},
     "output_type": "execute_result"
    }
   ],
   "source": [
    "A = [-1 2 3;3 -1 2;-1 0 1;0 1 1;-1 -1 1]"
   ]
  },
  {
   "cell_type": "code",
   "execution_count": 53,
   "id": "eb8c95ec",
   "metadata": {},
   "outputs": [
    {
     "data": {
      "text/plain": [
       "5×5 Matrix{Float64}:\n",
       " -0.288675  0.866025  -0.288675   0.0  -0.288675\n",
       "  0.866025  0.418007   0.193998   0.0   0.193998\n",
       " -0.288675  0.193998   0.935334   0.0  -0.0646659\n",
       "  0.0       0.0        0.0        1.0   0.0\n",
       " -0.288675  0.193998  -0.0646659  0.0   0.935334"
      ]
     },
     "execution_count": 53,
     "metadata": {},
     "output_type": "execute_result"
    }
   ],
   "source": [
    "m,n = size(A);\n",
    "e1 = [1;0;0;0;0];\n",
    "z = A[:,1];\n",
    "v = norm(z,2)*e1 - z\n",
    "β = 2 / (v'*v);\n",
    "P = Matrix{Float64}(I,m,m) - β * (v * v') "
   ]
  },
  {
   "cell_type": "code",
   "execution_count": 54,
   "id": "514a20e8",
   "metadata": {},
   "outputs": [
    {
     "data": {
      "text/plain": [
       "5×3 Matrix{Float64}:\n",
       "  3.4641       -1.1547    0.288675\n",
       " -2.22045e-16   1.12005   3.82209\n",
       "  1.38778e-17  -0.706682  0.392638\n",
       "  0.0           1.0       1.0\n",
       "  0.0          -1.70668   0.392638"
      ]
     },
     "execution_count": 54,
     "metadata": {},
     "output_type": "execute_result"
    }
   ],
   "source": [
    "P*A"
   ]
  },
  {
   "cell_type": "code",
   "execution_count": 55,
   "id": "a114e750",
   "metadata": {},
   "outputs": [
    {
     "data": {
      "text/plain": [
       "true"
      ]
     },
     "execution_count": 55,
     "metadata": {},
     "output_type": "execute_result"
    }
   ],
   "source": [
    "P' == P"
   ]
  },
  {
   "cell_type": "code",
   "execution_count": 56,
   "id": "fa5b1737",
   "metadata": {},
   "outputs": [
    {
     "data": {
      "text/plain": [
       "true"
      ]
     },
     "execution_count": 56,
     "metadata": {},
     "output_type": "execute_result"
    }
   ],
   "source": [
    "P*P ≈ round.(abs.(P*P))"
   ]
  },
  {
   "cell_type": "code",
   "execution_count": 57,
   "id": "4222d034",
   "metadata": {},
   "outputs": [
    {
     "data": {
      "text/plain": [
       "5×5 Matrix{Float64}:\n",
       " 1.0  0.0  0.0  0.0  0.0\n",
       " 0.0  1.0  0.0  0.0  0.0\n",
       " 0.0  0.0  1.0  0.0  0.0\n",
       " 0.0  0.0  0.0  1.0  0.0\n",
       " 0.0  0.0  0.0  0.0  1.0"
      ]
     },
     "execution_count": 57,
     "metadata": {},
     "output_type": "execute_result"
    }
   ],
   "source": [
    "round.(abs.(P*P))"
   ]
  },
  {
   "cell_type": "code",
   "execution_count": 58,
   "id": "fcb777a3",
   "metadata": {},
   "outputs": [
    {
     "data": {
      "text/plain": [
       "hhzero (generic function with 1 method)"
      ]
     },
     "execution_count": 58,
     "metadata": {},
     "output_type": "execute_result"
    }
   ],
   "source": [
    "function hhzero(z)\n",
    "    m = size(z)[1];\n",
    "    e1 = zeros(m);\n",
    "    e1[1] = 1.0;\n",
    "    v = norm(z,2)*e1 - z;\n",
    "    β = 2 / (v'*v);\n",
    "    P = Matrix{Float64}(I,m,m) - β * (v * v')\n",
    "end"
   ]
  },
  {
   "cell_type": "code",
   "execution_count": 59,
   "id": "078d00c1",
   "metadata": {},
   "outputs": [
    {
     "data": {
      "text/plain": [
       "5×3 Matrix{Float64}:\n",
       "  3.4641       -1.1547    0.288675\n",
       " -2.22045e-16   1.12005   3.82209\n",
       "  1.38778e-17  -0.706682  0.392638\n",
       "  0.0           1.0       1.0\n",
       "  0.0          -1.70668   0.392638"
      ]
     },
     "execution_count": 59,
     "metadata": {},
     "output_type": "execute_result"
    }
   ],
   "source": [
    "QA = P*A"
   ]
  },
  {
   "cell_type": "code",
   "execution_count": 60,
   "id": "4d7d91e8",
   "metadata": {},
   "outputs": [
    {
     "data": {
      "text/plain": [
       "4×4 Matrix{Float64}:\n",
       "  0.470514  -0.296866  0.420084  -0.71695\n",
       " -0.296866   0.833557  0.235527  -0.40197\n",
       "  0.420084   0.235527  0.666714   0.568814\n",
       " -0.71695   -0.40197   0.568814   0.0292158"
      ]
     },
     "execution_count": 60,
     "metadata": {},
     "output_type": "execute_result"
    }
   ],
   "source": [
    "hhzero(QA[2:end,2])"
   ]
  },
  {
   "cell_type": "code",
   "execution_count": 61,
   "id": "75b196de",
   "metadata": {},
   "outputs": [
    {
     "data": {
      "text/plain": [
       "5×3 Matrix{Int64}:\n",
       " -1   2  3\n",
       "  3  -1  2\n",
       " -1   0  1\n",
       "  0   1  1\n",
       " -1  -1  1"
      ]
     },
     "execution_count": 61,
     "metadata": {},
     "output_type": "execute_result"
    }
   ],
   "source": [
    "A"
   ]
  },
  {
   "cell_type": "code",
   "execution_count": 62,
   "id": "a21fccfd",
   "metadata": {},
   "outputs": [
    {
     "data": {
      "text/plain": [
       "hhqr! (generic function with 1 method)"
      ]
     },
     "execution_count": 62,
     "metadata": {},
     "output_type": "execute_result"
    }
   ],
   "source": [
    "function hhqr!(A)\n",
    "    m,n = size(A);\n",
    "    Q = Matrix{Float64}(I,m,m);\n",
    "    for k = 1:n\n",
    "        z = A[k:end,k];\n",
    "        Q[k:m,k:m] = hhzero(z);\n",
    "        A = Q*A;\n",
    "    end\n",
    "    Q = Q';\n",
    "    return Q, A\n",
    "end"
   ]
  },
  {
   "cell_type": "code",
   "execution_count": 63,
   "id": "920c3092",
   "metadata": {},
   "outputs": [],
   "source": [
    "Q, A = hhqr!(A);"
   ]
  },
  {
   "cell_type": "code",
   "execution_count": null,
   "id": "3ba47c91",
   "metadata": {},
   "outputs": [],
   "source": []
  }
 ],
 "metadata": {
  "kernelspec": {
   "display_name": "Julia 1.6.2",
   "language": "julia",
   "name": "julia-1.6"
  },
  "language_info": {
   "file_extension": ".jl",
   "mimetype": "application/julia",
   "name": "julia",
   "version": "1.6.3"
  }
 },
 "nbformat": 4,
 "nbformat_minor": 5
}
