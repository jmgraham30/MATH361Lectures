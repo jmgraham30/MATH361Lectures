{
 "cells": [
  {
   "cell_type": "code",
   "execution_count": 1,
   "id": "a957abab",
   "metadata": {},
   "outputs": [],
   "source": [
    "using DrWatson;\n",
    "@quickactivate \"MATH361Lectures\";\n",
    "import MATH361Lectures\n",
    "using LinearAlgebra"
   ]
  },
  {
   "cell_type": "code",
   "execution_count": 2,
   "id": "2c8e62b5",
   "metadata": {},
   "outputs": [
    {
     "data": {
      "text/plain": [
       "3×2 Matrix{Int64}:\n",
       " -1  0\n",
       "  0  2\n",
       "  1  1"
      ]
     },
     "execution_count": 2,
     "metadata": {},
     "output_type": "execute_result"
    }
   ],
   "source": [
    "A = [-1 0;0 2;1 1]"
   ]
  },
  {
   "cell_type": "code",
   "execution_count": 3,
   "id": "262aaa88",
   "metadata": {},
   "outputs": [
    {
     "data": {
      "text/plain": [
       "3-element Vector{Int64}:\n",
       " -1\n",
       "  0\n",
       "  1"
      ]
     },
     "execution_count": 3,
     "metadata": {},
     "output_type": "execute_result"
    }
   ],
   "source": [
    "z = A[:,1]"
   ]
  },
  {
   "cell_type": "code",
   "execution_count": 4,
   "id": "fa300ea1",
   "metadata": {},
   "outputs": [
    {
     "data": {
      "text/plain": [
       "3-element Vector{Int64}:\n",
       " 1\n",
       " 0\n",
       " 0"
      ]
     },
     "execution_count": 4,
     "metadata": {},
     "output_type": "execute_result"
    }
   ],
   "source": [
    "e1 = [1;0;0]"
   ]
  },
  {
   "cell_type": "code",
   "execution_count": 5,
   "id": "d8b88e7d",
   "metadata": {},
   "outputs": [
    {
     "data": {
      "text/plain": [
       "3-element Vector{Float64}:\n",
       "  2.414213562373095\n",
       "  0.0\n",
       " -1.0"
      ]
     },
     "execution_count": 5,
     "metadata": {},
     "output_type": "execute_result"
    }
   ],
   "source": [
    "v = norm(z,2)*e1 - z"
   ]
  },
  {
   "cell_type": "code",
   "execution_count": 6,
   "id": "4fc78426",
   "metadata": {},
   "outputs": [
    {
     "data": {
      "text/plain": [
       "3×3 Matrix{Float64}:\n",
       " -0.707107  0.0  0.707107\n",
       "  0.0       1.0  0.0\n",
       "  0.707107  0.0  0.707107"
      ]
     },
     "execution_count": 6,
     "metadata": {},
     "output_type": "execute_result"
    }
   ],
   "source": [
    "P = Matrix{Float64}(I,3,3) - (2/(v'*v))*(v*v')"
   ]
  },
  {
   "cell_type": "code",
   "execution_count": 7,
   "id": "50d8fe34",
   "metadata": {},
   "outputs": [
    {
     "data": {
      "text/plain": [
       "3×3 Matrix{Float64}:\n",
       " -0.707107  0.0  0.707107\n",
       "  0.0       1.0  0.0\n",
       "  0.707107  0.0  0.707107"
      ]
     },
     "execution_count": 7,
     "metadata": {},
     "output_type": "execute_result"
    }
   ],
   "source": [
    "Ph = [1 - (1+sqrt(2))^2/(2+sqrt(2)) 0 (1+sqrt(2))/(2+sqrt(2));0 1 0;(1+sqrt(2))/(2+sqrt(2)) 0 1 - 1/(2+sqrt(2))]"
   ]
  },
  {
   "cell_type": "code",
   "execution_count": 9,
   "id": "63eaf59d",
   "metadata": {},
   "outputs": [
    {
     "data": {
      "text/plain": [
       "3×2 Matrix{Float64}:\n",
       " 1.41421  0.707107\n",
       " 0.0      2.0\n",
       " 0.0      0.707107"
      ]
     },
     "execution_count": 9,
     "metadata": {},
     "output_type": "execute_result"
    }
   ],
   "source": [
    "A2 = P*A"
   ]
  },
  {
   "cell_type": "code",
   "execution_count": 12,
   "id": "2690c9d1",
   "metadata": {},
   "outputs": [],
   "source": [
    "Qt1 = copy(P);"
   ]
  },
  {
   "cell_type": "code",
   "execution_count": 13,
   "id": "68bae2fb",
   "metadata": {},
   "outputs": [
    {
     "data": {
      "text/plain": [
       "2-element Vector{Float64}:\n",
       " 2.0\n",
       " 0.7071067811865475"
      ]
     },
     "execution_count": 13,
     "metadata": {},
     "output_type": "execute_result"
    }
   ],
   "source": [
    "z = A2[2:end,2]"
   ]
  },
  {
   "cell_type": "code",
   "execution_count": 14,
   "id": "5919f653",
   "metadata": {},
   "outputs": [
    {
     "data": {
      "text/plain": [
       "2-element Vector{Float64}:\n",
       " 1.0\n",
       " 0.0"
      ]
     },
     "execution_count": 14,
     "metadata": {},
     "output_type": "execute_result"
    }
   ],
   "source": [
    "e1 = [1.0;0.0]"
   ]
  },
  {
   "cell_type": "code",
   "execution_count": 15,
   "id": "a99fcb97",
   "metadata": {},
   "outputs": [
    {
     "data": {
      "text/plain": [
       "2-element Vector{Float64}:\n",
       "  0.12132034355964239\n",
       " -0.7071067811865475"
      ]
     },
     "execution_count": 15,
     "metadata": {},
     "output_type": "execute_result"
    }
   ],
   "source": [
    "v = norm(z,2)*e1 - z"
   ]
  },
  {
   "cell_type": "code",
   "execution_count": 17,
   "id": "872d29c5",
   "metadata": {},
   "outputs": [
    {
     "data": {
      "text/plain": [
       "2×2 Matrix{Float64}:\n",
       " 0.942809   0.333333\n",
       " 0.333333  -0.942809"
      ]
     },
     "execution_count": 17,
     "metadata": {},
     "output_type": "execute_result"
    }
   ],
   "source": [
    "P = Matrix{Float64}(I,2,2) - (2.0/(v'*v))*(v*v')"
   ]
  },
  {
   "cell_type": "code",
   "execution_count": 19,
   "id": "fe987c08",
   "metadata": {},
   "outputs": [
    {
     "data": {
      "text/plain": [
       "3×3 Matrix{Float64}:\n",
       " 1.0  0.0        0.0\n",
       " 0.0  0.942809   0.333333\n",
       " 0.0  0.333333  -0.942809"
      ]
     },
     "execution_count": 19,
     "metadata": {},
     "output_type": "execute_result"
    }
   ],
   "source": [
    "Qt2 = Matrix{Float64}(I,3,3);\n",
    "Qt2[2:end,2:end] = P\n",
    "Qt2"
   ]
  },
  {
   "cell_type": "code",
   "execution_count": 24,
   "id": "faf2de92",
   "metadata": {},
   "outputs": [
    {
     "data": {
      "text/plain": [
       "3×2 Matrix{Float64}:\n",
       " 1.41421   0.707107\n",
       " 0.0       2.12132\n",
       " 0.0      -8.88178e-16"
      ]
     },
     "execution_count": 24,
     "metadata": {},
     "output_type": "execute_result"
    }
   ],
   "source": [
    "R = Qt2*Qt1*A"
   ]
  },
  {
   "cell_type": "code",
   "execution_count": 25,
   "id": "7eeea1e3",
   "metadata": {},
   "outputs": [
    {
     "data": {
      "text/plain": [
       "3×3 Matrix{Float64}:\n",
       " -0.707107  0.235702  -0.666667\n",
       "  0.0       0.942809   0.333333\n",
       "  0.707107  0.235702  -0.666667"
      ]
     },
     "execution_count": 25,
     "metadata": {},
     "output_type": "execute_result"
    }
   ],
   "source": [
    "Q = Qt1*Qt2"
   ]
  },
  {
   "cell_type": "code",
   "execution_count": 26,
   "id": "bd83a8f3",
   "metadata": {},
   "outputs": [
    {
     "data": {
      "text/plain": [
       "3×3 Matrix{Float64}:\n",
       " 1.0  0.0          0.0\n",
       " 0.0  1.0          1.11022e-16\n",
       " 0.0  1.11022e-16  1.0"
      ]
     },
     "execution_count": 26,
     "metadata": {},
     "output_type": "execute_result"
    }
   ],
   "source": [
    "Q'*Q"
   ]
  },
  {
   "cell_type": "code",
   "execution_count": 27,
   "id": "2669b6ee",
   "metadata": {},
   "outputs": [
    {
     "data": {
      "text/plain": [
       "3×2 Matrix{Float64}:\n",
       " -1.0  5.18736e-17\n",
       "  0.0  2.0\n",
       "  1.0  1.0"
      ]
     },
     "execution_count": 27,
     "metadata": {},
     "output_type": "execute_result"
    }
   ],
   "source": [
    "Q*R"
   ]
  },
  {
   "cell_type": "code",
   "execution_count": 28,
   "id": "6bfa3b63",
   "metadata": {},
   "outputs": [
    {
     "data": {
      "text/plain": [
       "true"
      ]
     },
     "execution_count": 28,
     "metadata": {},
     "output_type": "execute_result"
    }
   ],
   "source": [
    "A ≈ Q*R"
   ]
  },
  {
   "cell_type": "code",
   "execution_count": 52,
   "id": "5022348f",
   "metadata": {},
   "outputs": [
    {
     "data": {
      "text/plain": [
       "5×3 Matrix{Int64}:\n",
       " -1   2  3\n",
       "  3  -1  2\n",
       " -1   0  1\n",
       "  0   1  1\n",
       " -1  -1  1"
      ]
     },
     "execution_count": 52,
     "metadata": {},
     "output_type": "execute_result"
    }
   ],
   "source": [
    "A = [-1 2 3;3 -1 2;-1 0 1;0 1 1;-1 -1 1]"
   ]
  },
  {
   "cell_type": "code",
   "execution_count": 53,
   "id": "eb8c95ec",
   "metadata": {},
   "outputs": [
    {
     "data": {
      "text/plain": [
       "5×5 Matrix{Float64}:\n",
       " -0.288675  0.866025  -0.288675   0.0  -0.288675\n",
       "  0.866025  0.418007   0.193998   0.0   0.193998\n",
       " -0.288675  0.193998   0.935334   0.0  -0.0646659\n",
       "  0.0       0.0        0.0        1.0   0.0\n",
       " -0.288675  0.193998  -0.0646659  0.0   0.935334"
      ]
     },
     "execution_count": 53,
     "metadata": {},
     "output_type": "execute_result"
    }
   ],
   "source": [
    "m,n = size(A);\n",
    "e1 = [1;0;0;0;0];\n",
    "z = A[:,1];\n",
    "v = norm(z,2)*e1 - z\n",
    "β = 2 / (v'*v);\n",
    "P = Matrix{Float64}(I,m,m) - β * (v * v') "
   ]
  },
  {
   "cell_type": "code",
   "execution_count": 54,
   "id": "514a20e8",
   "metadata": {},
   "outputs": [
    {
     "data": {
      "text/plain": [
       "5×3 Matrix{Float64}:\n",
       "  3.4641       -1.1547    0.288675\n",
       " -2.22045e-16   1.12005   3.82209\n",
       "  1.38778e-17  -0.706682  0.392638\n",
       "  0.0           1.0       1.0\n",
       "  0.0          -1.70668   0.392638"
      ]
     },
     "execution_count": 54,
     "metadata": {},
     "output_type": "execute_result"
    }
   ],
   "source": [
    "P*A"
   ]
  },
  {
   "cell_type": "code",
   "execution_count": 55,
   "id": "a114e750",
   "metadata": {},
   "outputs": [
    {
     "data": {
      "text/plain": [
       "true"
      ]
     },
     "execution_count": 55,
     "metadata": {},
     "output_type": "execute_result"
    }
   ],
   "source": [
    "P' == P"
   ]
  },
  {
   "cell_type": "code",
   "execution_count": 56,
   "id": "fa5b1737",
   "metadata": {},
   "outputs": [
    {
     "data": {
      "text/plain": [
       "true"
      ]
     },
     "execution_count": 56,
     "metadata": {},
     "output_type": "execute_result"
    }
   ],
   "source": [
    "P*P ≈ round.(abs.(P*P))"
   ]
  },
  {
   "cell_type": "code",
   "execution_count": 57,
   "id": "4222d034",
   "metadata": {},
   "outputs": [
    {
     "data": {
      "text/plain": [
       "5×5 Matrix{Float64}:\n",
       " 1.0  0.0  0.0  0.0  0.0\n",
       " 0.0  1.0  0.0  0.0  0.0\n",
       " 0.0  0.0  1.0  0.0  0.0\n",
       " 0.0  0.0  0.0  1.0  0.0\n",
       " 0.0  0.0  0.0  0.0  1.0"
      ]
     },
     "execution_count": 57,
     "metadata": {},
     "output_type": "execute_result"
    }
   ],
   "source": [
    "round.(abs.(P*P))"
   ]
  },
  {
   "cell_type": "code",
   "execution_count": 58,
   "id": "fcb777a3",
   "metadata": {},
   "outputs": [
    {
     "data": {
      "text/plain": [
       "hhzero (generic function with 1 method)"
      ]
     },
     "execution_count": 58,
     "metadata": {},
     "output_type": "execute_result"
    }
   ],
   "source": [
    "function hhzero(z)\n",
    "    m = size(z)[1];\n",
    "    e1 = zeros(m);\n",
    "    e1[1] = 1.0;\n",
    "    v = norm(z,2)*e1 - z;\n",
    "    β = 2 / (v'*v);\n",
    "    P = Matrix{Float64}(I,m,m) - β * (v * v')\n",
    "end"
   ]
  },
  {
   "cell_type": "code",
   "execution_count": 59,
   "id": "078d00c1",
   "metadata": {},
   "outputs": [
    {
     "data": {
      "text/plain": [
       "5×3 Matrix{Float64}:\n",
       "  3.4641       -1.1547    0.288675\n",
       " -2.22045e-16   1.12005   3.82209\n",
       "  1.38778e-17  -0.706682  0.392638\n",
       "  0.0           1.0       1.0\n",
       "  0.0          -1.70668   0.392638"
      ]
     },
     "execution_count": 59,
     "metadata": {},
     "output_type": "execute_result"
    }
   ],
   "source": [
    "QA = P*A"
   ]
  },
  {
   "cell_type": "code",
   "execution_count": 60,
   "id": "4d7d91e8",
   "metadata": {},
   "outputs": [
    {
     "data": {
      "text/plain": [
       "4×4 Matrix{Float64}:\n",
       "  0.470514  -0.296866  0.420084  -0.71695\n",
       " -0.296866   0.833557  0.235527  -0.40197\n",
       "  0.420084   0.235527  0.666714   0.568814\n",
       " -0.71695   -0.40197   0.568814   0.0292158"
      ]
     },
     "execution_count": 60,
     "metadata": {},
     "output_type": "execute_result"
    }
   ],
   "source": [
    "hhzero(QA[2:end,2])"
   ]
  },
  {
   "cell_type": "code",
   "execution_count": 61,
   "id": "75b196de",
   "metadata": {},
   "outputs": [
    {
     "data": {
      "text/plain": [
       "5×3 Matrix{Int64}:\n",
       " -1   2  3\n",
       "  3  -1  2\n",
       " -1   0  1\n",
       "  0   1  1\n",
       " -1  -1  1"
      ]
     },
     "execution_count": 61,
     "metadata": {},
     "output_type": "execute_result"
    }
   ],
   "source": [
    "A"
   ]
  },
  {
   "cell_type": "code",
   "execution_count": 62,
   "id": "a21fccfd",
   "metadata": {},
   "outputs": [
    {
     "data": {
      "text/plain": [
       "hhqr! (generic function with 1 method)"
      ]
     },
     "execution_count": 62,
     "metadata": {},
     "output_type": "execute_result"
    }
   ],
   "source": [
    "function hhqr!(A)\n",
    "    m,n = size(A);\n",
    "    Q = Matrix{Float64}(I,m,m);\n",
    "    for k = 1:n\n",
    "        z = A[k:end,k];\n",
    "        Q[k:m,k:m] = hhzero(z);\n",
    "        A = Q*A;\n",
    "    end\n",
    "    Q = Q';\n",
    "    return Q, A\n",
    "end"
   ]
  },
  {
   "cell_type": "code",
   "execution_count": 63,
   "id": "920c3092",
   "metadata": {},
   "outputs": [],
   "source": [
    "Q, A = hhqr!(A);"
   ]
  },
  {
   "cell_type": "code",
   "execution_count": null,
   "id": "3ba47c91",
   "metadata": {},
   "outputs": [],
   "source": []
  }
 ],
 "metadata": {
  "kernelspec": {
   "display_name": "Julia 1.6.2",
   "language": "julia",
   "name": "julia-1.6"
  },
  "language_info": {
   "file_extension": ".jl",
   "mimetype": "application/julia",
   "name": "julia",
   "version": "1.6.3"
  }
 },
 "nbformat": 4,
 "nbformat_minor": 5
}
