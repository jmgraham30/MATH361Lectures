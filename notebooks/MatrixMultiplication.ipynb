{
 "cells": [
  {
   "cell_type": "code",
   "execution_count": 1,
   "id": "e3a5c7b6",
   "metadata": {},
   "outputs": [
    {
     "data": {
      "text/plain": [
       "3×3 Matrix{Float64}:\n",
       " -1.0   2.0   1.0\n",
       "  1.0   0.0  -2.0\n",
       " -3.0  -1.0   2.0"
      ]
     },
     "execution_count": 1,
     "metadata": {},
     "output_type": "execute_result"
    }
   ],
   "source": [
    "A = [-1.0 2.0 1.0; 1.0 0.0 -2.0;-3.0 -1.0 2.0]"
   ]
  },
  {
   "cell_type": "code",
   "execution_count": 2,
   "id": "f0099bfd",
   "metadata": {},
   "outputs": [
    {
     "data": {
      "text/plain": [
       "3×3 Matrix{Float64}:\n",
       "  2.0  -1.0   2.0\n",
       "  1.0   0.0   1.0\n",
       " -1.0   1.0  -1.0"
      ]
     },
     "execution_count": 2,
     "metadata": {},
     "output_type": "execute_result"
    }
   ],
   "source": [
    "B = [2.0 -1.0 2.0; 1.0 0.0 1.0;-1.0 1.0 -1.0]"
   ]
  },
  {
   "cell_type": "code",
   "execution_count": 3,
   "id": "5ea68982",
   "metadata": {},
   "outputs": [
    {
     "data": {
      "text/plain": [
       "3×3 Matrix{Float64}:\n",
       " -1.0   2.0  -1.0\n",
       "  4.0  -3.0   4.0\n",
       " -9.0   5.0  -9.0"
      ]
     },
     "execution_count": 3,
     "metadata": {},
     "output_type": "execute_result"
    }
   ],
   "source": [
    "A*B"
   ]
  },
  {
   "cell_type": "code",
   "execution_count": 4,
   "id": "61acd39f",
   "metadata": {},
   "outputs": [],
   "source": [
    "using LinearAlgebra"
   ]
  },
  {
   "cell_type": "code",
   "execution_count": 6,
   "id": "283eec70",
   "metadata": {},
   "outputs": [
    {
     "data": {
      "text/plain": [
       "4.0"
      ]
     },
     "execution_count": 6,
     "metadata": {},
     "output_type": "execute_result"
    }
   ],
   "source": [
    "(A*B)[2,1]"
   ]
  },
  {
   "cell_type": "code",
   "execution_count": 8,
   "id": "74d13c86",
   "metadata": {},
   "outputs": [
    {
     "data": {
      "text/plain": [
       "4.0"
      ]
     },
     "execution_count": 8,
     "metadata": {},
     "output_type": "execute_result"
    }
   ],
   "source": [
    "dot(A[2,:],B[:,1])"
   ]
  },
  {
   "cell_type": "code",
   "execution_count": 9,
   "id": "f3cea922",
   "metadata": {},
   "outputs": [
    {
     "data": {
      "text/plain": [
       "3-element Vector{Float64}:\n",
       " -1.0\n",
       "  4.0\n",
       " -9.0"
      ]
     },
     "execution_count": 9,
     "metadata": {},
     "output_type": "execute_result"
    }
   ],
   "source": [
    "(A*B)[:,1]"
   ]
  },
  {
   "cell_type": "code",
   "execution_count": 10,
   "id": "d1f5fd27",
   "metadata": {},
   "outputs": [
    {
     "data": {
      "text/plain": [
       "3-element Vector{Float64}:\n",
       " -1.0\n",
       "  4.0\n",
       " -9.0"
      ]
     },
     "execution_count": 10,
     "metadata": {},
     "output_type": "execute_result"
    }
   ],
   "source": [
    "B[1,1]*A[:,1] + B[2,1]*A[:,2] + B[3,1]*A[:,3]"
   ]
  },
  {
   "cell_type": "code",
   "execution_count": null,
   "id": "4f49d4b1",
   "metadata": {},
   "outputs": [],
   "source": []
  }
 ],
 "metadata": {
  "kernelspec": {
   "display_name": "Julia 1.6.2",
   "language": "julia",
   "name": "julia-1.6"
  },
  "language_info": {
   "file_extension": ".jl",
   "mimetype": "application/julia",
   "name": "julia",
   "version": "1.6.2"
  }
 },
 "nbformat": 4,
 "nbformat_minor": 5
}
