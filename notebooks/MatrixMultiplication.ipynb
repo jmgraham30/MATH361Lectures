{
 "cells": [
  {
   "cell_type": "markdown",
   "id": "ef570991",
   "metadata": {},
   "source": [
    "# Matrix Multiplication\n",
    "\n",
    "### JMG"
   ]
  },
  {
   "cell_type": "code",
   "execution_count": 1,
   "id": "e3a5c7b6",
   "metadata": {},
   "outputs": [
    {
     "data": {
      "text/plain": [
       "3×3 Matrix{Float64}:\n",
       " -1.0   2.0   1.0\n",
       "  1.0   0.0  -2.0\n",
       " -3.0  -1.0   2.0"
      ]
     },
     "execution_count": 1,
     "metadata": {},
     "output_type": "execute_result"
    }
   ],
   "source": [
    "A = [-1.0 2.0 1.0; 1.0 0.0 -2.0;-3.0 -1.0 2.0]"
   ]
  },
  {
   "cell_type": "code",
   "execution_count": 2,
   "id": "f0099bfd",
   "metadata": {},
   "outputs": [
    {
     "data": {
      "text/plain": [
       "3×3 Matrix{Float64}:\n",
       "  2.0  -1.0   2.0\n",
       "  1.0   0.0   1.0\n",
       " -1.0   1.0  -1.0"
      ]
     },
     "execution_count": 2,
     "metadata": {},
     "output_type": "execute_result"
    }
   ],
   "source": [
    "B = [2.0 -1.0 2.0; 1.0 0.0 1.0;-1.0 1.0 -1.0]"
   ]
  },
  {
   "cell_type": "code",
   "execution_count": 3,
   "id": "5ea68982",
   "metadata": {},
   "outputs": [
    {
     "data": {
      "text/plain": [
       "3×3 Matrix{Float64}:\n",
       " -1.0   2.0  -1.0\n",
       "  4.0  -3.0   4.0\n",
       " -9.0   5.0  -9.0"
      ]
     },
     "execution_count": 3,
     "metadata": {},
     "output_type": "execute_result"
    }
   ],
   "source": [
    "A*B"
   ]
  },
  {
   "cell_type": "code",
   "execution_count": 4,
   "id": "61acd39f",
   "metadata": {},
   "outputs": [],
   "source": [
    "using LinearAlgebra"
   ]
  },
  {
   "cell_type": "code",
   "execution_count": 5,
   "id": "283eec70",
   "metadata": {},
   "outputs": [
    {
     "data": {
      "text/plain": [
       "4.0"
      ]
     },
     "execution_count": 5,
     "metadata": {},
     "output_type": "execute_result"
    }
   ],
   "source": [
    "(A*B)[2,1]"
   ]
  },
  {
   "cell_type": "code",
   "execution_count": 6,
   "id": "74d13c86",
   "metadata": {},
   "outputs": [
    {
     "data": {
      "text/plain": [
       "4.0"
      ]
     },
     "execution_count": 6,
     "metadata": {},
     "output_type": "execute_result"
    }
   ],
   "source": [
    "dot(A[2,:],B[:,1])"
   ]
  },
  {
   "cell_type": "code",
   "execution_count": 7,
   "id": "103a9e95",
   "metadata": {},
   "outputs": [
    {
     "name": "stdout",
     "output_type": "stream",
     "text": [
      "search: \u001b[0m\u001b[1md\u001b[22m\u001b[0m\u001b[1mo\u001b[22m\u001b[0m\u001b[1mt\u001b[22m @__\u001b[0m\u001b[1md\u001b[22m\u001b[0m\u001b[1mo\u001b[22m\u001b[0m\u001b[1mt\u001b[22m__ st\u001b[0m\u001b[1md\u001b[22m\u001b[0m\u001b[1mo\u001b[22mu\u001b[0m\u001b[1mt\u001b[22m \u001b[0m\u001b[1mD\u001b[22mEP\u001b[0m\u001b[1mO\u001b[22m\u001b[0m\u001b[1mT\u001b[22m_PATH a\u001b[0m\u001b[1md\u001b[22mj\u001b[0m\u001b[1mo\u001b[22min\u001b[0m\u001b[1mt\u001b[22m A\u001b[0m\u001b[1md\u001b[22mj\u001b[0m\u001b[1mo\u001b[22min\u001b[0m\u001b[1mt\u001b[22m a\u001b[0m\u001b[1md\u001b[22mj\u001b[0m\u001b[1mo\u001b[22min\u001b[0m\u001b[1mt\u001b[22m! fiel\u001b[0m\u001b[1md\u001b[22mc\u001b[0m\u001b[1mo\u001b[22mun\u001b[0m\u001b[1mt\u001b[22m\n",
      "\n"
     ]
    },
    {
     "data": {
      "text/latex": [
       "\\begin{verbatim}\n",
       "dot(x, y)\n",
       "x ⋅ y\n",
       "\\end{verbatim}\n",
       "Compute the dot product between two vectors. For complex vectors, the first vector is conjugated.\n",
       "\n",
       "\\texttt{dot} also works on arbitrary iterable objects, including arrays of any dimension, as long as \\texttt{dot} is defined on the elements.\n",
       "\n",
       "\\texttt{dot} is semantically equivalent to \\texttt{sum(dot(vx,vy) for (vx,vy) in zip(x, y))}, with the added restriction that the arguments must have equal lengths.\n",
       "\n",
       "\\texttt{x ⋅ y} (where \\texttt{⋅} can be typed by tab-completing \\texttt{{\\textbackslash}cdot} in the REPL) is a synonym for \\texttt{dot(x, y)}.\n",
       "\n",
       "\\section{Examples}\n",
       "\\begin{verbatim}\n",
       "julia> dot([1; 1], [2; 3])\n",
       "5\n",
       "\n",
       "julia> dot([im; im], [1; 1])\n",
       "0 - 2im\n",
       "\n",
       "julia> dot(1:5, 2:6)\n",
       "70\n",
       "\n",
       "julia> x = fill(2., (5,5));\n",
       "\n",
       "julia> y = fill(3., (5,5));\n",
       "\n",
       "julia> dot(x, y)\n",
       "150.0\n",
       "\\end{verbatim}\n",
       "\\rule{\\textwidth}{1pt}\n",
       "\\begin{verbatim}\n",
       "dot(x, A, y)\n",
       "\\end{verbatim}\n",
       "Compute the generalized dot product \\texttt{dot(x, A*y)} between two vectors \\texttt{x} and \\texttt{y}, without storing the intermediate result of \\texttt{A*y}. As for the two-argument \\href{@ref}{\\texttt{dot(\\_,\\_)}}, this acts recursively. Moreover, for complex vectors, the first vector is conjugated.\n",
       "\n",
       "\\begin{quote}\n",
       "\\textbf{compat}\n",
       "\n",
       "Julia 1.4\n",
       "\n",
       "Three-argument \\texttt{dot} requires at least Julia 1.4.\n",
       "\n",
       "\\end{quote}\n",
       "\\section{Examples}\n",
       "\\begin{verbatim}\n",
       "julia> dot([1; 1], [1 2; 3 4], [2; 3])\n",
       "26\n",
       "\n",
       "julia> dot(1:5, reshape(1:25, 5, 5), 2:6)\n",
       "4850\n",
       "\n",
       "julia> ⋅(1:5, reshape(1:25, 5, 5), 2:6) == dot(1:5, reshape(1:25, 5, 5), 2:6)\n",
       "true\n",
       "\\end{verbatim}\n"
      ],
      "text/markdown": [
       "```\n",
       "dot(x, y)\n",
       "x ⋅ y\n",
       "```\n",
       "\n",
       "Compute the dot product between two vectors. For complex vectors, the first vector is conjugated.\n",
       "\n",
       "`dot` also works on arbitrary iterable objects, including arrays of any dimension, as long as `dot` is defined on the elements.\n",
       "\n",
       "`dot` is semantically equivalent to `sum(dot(vx,vy) for (vx,vy) in zip(x, y))`, with the added restriction that the arguments must have equal lengths.\n",
       "\n",
       "`x ⋅ y` (where `⋅` can be typed by tab-completing `\\cdot` in the REPL) is a synonym for `dot(x, y)`.\n",
       "\n",
       "# Examples\n",
       "\n",
       "```jldoctest\n",
       "julia> dot([1; 1], [2; 3])\n",
       "5\n",
       "\n",
       "julia> dot([im; im], [1; 1])\n",
       "0 - 2im\n",
       "\n",
       "julia> dot(1:5, 2:6)\n",
       "70\n",
       "\n",
       "julia> x = fill(2., (5,5));\n",
       "\n",
       "julia> y = fill(3., (5,5));\n",
       "\n",
       "julia> dot(x, y)\n",
       "150.0\n",
       "```\n",
       "\n",
       "---\n",
       "\n",
       "```\n",
       "dot(x, A, y)\n",
       "```\n",
       "\n",
       "Compute the generalized dot product `dot(x, A*y)` between two vectors `x` and `y`, without storing the intermediate result of `A*y`. As for the two-argument [`dot(_,_)`](@ref), this acts recursively. Moreover, for complex vectors, the first vector is conjugated.\n",
       "\n",
       "!!! compat \"Julia 1.4\"\n",
       "    Three-argument `dot` requires at least Julia 1.4.\n",
       "\n",
       "\n",
       "# Examples\n",
       "\n",
       "```jldoctest\n",
       "julia> dot([1; 1], [1 2; 3 4], [2; 3])\n",
       "26\n",
       "\n",
       "julia> dot(1:5, reshape(1:25, 5, 5), 2:6)\n",
       "4850\n",
       "\n",
       "julia> ⋅(1:5, reshape(1:25, 5, 5), 2:6) == dot(1:5, reshape(1:25, 5, 5), 2:6)\n",
       "true\n",
       "```\n"
      ],
      "text/plain": [
       "\u001b[36m  dot(x, y)\u001b[39m\n",
       "\u001b[36m  x ⋅ y\u001b[39m\n",
       "\n",
       "  Compute the dot product between two vectors. For complex vectors, the first\n",
       "  vector is conjugated.\n",
       "\n",
       "  \u001b[36mdot\u001b[39m also works on arbitrary iterable objects, including arrays of any\n",
       "  dimension, as long as \u001b[36mdot\u001b[39m is defined on the elements.\n",
       "\n",
       "  \u001b[36mdot\u001b[39m is semantically equivalent to \u001b[36msum(dot(vx,vy) for (vx,vy) in zip(x, y))\u001b[39m,\n",
       "  with the added restriction that the arguments must have equal lengths.\n",
       "\n",
       "  \u001b[36mx ⋅ y\u001b[39m (where \u001b[36m⋅\u001b[39m can be typed by tab-completing \u001b[36m\\cdot\u001b[39m in the REPL) is a\n",
       "  synonym for \u001b[36mdot(x, y)\u001b[39m.\n",
       "\n",
       "\u001b[1m  Examples\u001b[22m\n",
       "\u001b[1m  ≡≡≡≡≡≡≡≡≡≡\u001b[22m\n",
       "\n",
       "\u001b[36m  julia> dot([1; 1], [2; 3])\u001b[39m\n",
       "\u001b[36m  5\u001b[39m\n",
       "\u001b[36m  \u001b[39m\n",
       "\u001b[36m  julia> dot([im; im], [1; 1])\u001b[39m\n",
       "\u001b[36m  0 - 2im\u001b[39m\n",
       "\u001b[36m  \u001b[39m\n",
       "\u001b[36m  julia> dot(1:5, 2:6)\u001b[39m\n",
       "\u001b[36m  70\u001b[39m\n",
       "\u001b[36m  \u001b[39m\n",
       "\u001b[36m  julia> x = fill(2., (5,5));\u001b[39m\n",
       "\u001b[36m  \u001b[39m\n",
       "\u001b[36m  julia> y = fill(3., (5,5));\u001b[39m\n",
       "\u001b[36m  \u001b[39m\n",
       "\u001b[36m  julia> dot(x, y)\u001b[39m\n",
       "\u001b[36m  150.0\u001b[39m\n",
       "\n",
       "  ────────────────────────────────────────────────────────────────────────────\n",
       "\n",
       "\u001b[36m  dot(x, A, y)\u001b[39m\n",
       "\n",
       "  Compute the generalized dot product \u001b[36mdot(x, A*y)\u001b[39m between two vectors \u001b[36mx\u001b[39m and \u001b[36my\u001b[39m,\n",
       "  without storing the intermediate result of \u001b[36mA*y\u001b[39m. As for the two-argument\n",
       "  \u001b[36mdot(_,_)\u001b[39m, this acts recursively. Moreover, for complex vectors, the first\n",
       "  vector is conjugated.\n",
       "\n",
       "\u001b[39m\u001b[1m  │ \u001b[22m\u001b[39m\u001b[1mJulia 1.4\u001b[22m\n",
       "\u001b[39m\u001b[1m  │\u001b[22m\n",
       "\u001b[39m\u001b[1m  │\u001b[22m  Three-argument \u001b[36mdot\u001b[39m requires at least Julia 1.4.\n",
       "\n",
       "\u001b[1m  Examples\u001b[22m\n",
       "\u001b[1m  ≡≡≡≡≡≡≡≡≡≡\u001b[22m\n",
       "\n",
       "\u001b[36m  julia> dot([1; 1], [1 2; 3 4], [2; 3])\u001b[39m\n",
       "\u001b[36m  26\u001b[39m\n",
       "\u001b[36m  \u001b[39m\n",
       "\u001b[36m  julia> dot(1:5, reshape(1:25, 5, 5), 2:6)\u001b[39m\n",
       "\u001b[36m  4850\u001b[39m\n",
       "\u001b[36m  \u001b[39m\n",
       "\u001b[36m  julia> ⋅(1:5, reshape(1:25, 5, 5), 2:6) == dot(1:5, reshape(1:25, 5, 5), 2:6)\u001b[39m\n",
       "\u001b[36m  true\u001b[39m"
      ]
     },
     "execution_count": 7,
     "metadata": {},
     "output_type": "execute_result"
    }
   ],
   "source": [
    "?dot"
   ]
  },
  {
   "cell_type": "code",
   "execution_count": 8,
   "id": "f3cea922",
   "metadata": {},
   "outputs": [
    {
     "data": {
      "text/plain": [
       "3-element Vector{Float64}:\n",
       " -1.0\n",
       "  4.0\n",
       " -9.0"
      ]
     },
     "execution_count": 8,
     "metadata": {},
     "output_type": "execute_result"
    }
   ],
   "source": [
    "(A*B)[:,1]"
   ]
  },
  {
   "cell_type": "code",
   "execution_count": 9,
   "id": "d1f5fd27",
   "metadata": {},
   "outputs": [
    {
     "data": {
      "text/plain": [
       "3-element Vector{Float64}:\n",
       " -1.0\n",
       "  4.0\n",
       " -9.0"
      ]
     },
     "execution_count": 9,
     "metadata": {},
     "output_type": "execute_result"
    }
   ],
   "source": [
    "B[1,1]*A[:,1] + B[2,1]*A[:,2] + B[3,1]*A[:,3]"
   ]
  },
  {
   "cell_type": "code",
   "execution_count": null,
   "id": "4f49d4b1",
   "metadata": {},
   "outputs": [],
   "source": []
  }
 ],
 "metadata": {
  "kernelspec": {
   "display_name": "Julia 1.6.2",
   "language": "julia",
   "name": "julia-1.6"
  },
  "language_info": {
   "file_extension": ".jl",
   "mimetype": "application/julia",
   "name": "julia",
   "version": "1.6.2"
  }
 },
 "nbformat": 4,
 "nbformat_minor": 5
}
