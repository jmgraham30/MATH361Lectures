{
 "cells": [
  {
   "cell_type": "code",
   "execution_count": 1,
   "id": "471122b6",
   "metadata": {},
   "outputs": [],
   "source": [
    "using DrWatson;\n",
    "@quickactivate \"MATH361Lectures\"\n",
    "using LinearAlgebra;\n",
    "import MATH361Lectures;"
   ]
  },
  {
   "cell_type": "markdown",
   "id": "84d48b90",
   "metadata": {},
   "source": [
    "# Cholesky Factorization"
   ]
  },
  {
   "cell_type": "markdown",
   "id": "7e192439",
   "metadata": {},
   "source": [
    "In many practical applications (*e.g.* numericla approximation of linear PDEs) the matrix $A$ in the linear system $Ax=b$ has a special structure. In this lecture, we are interested in the case when $A$ is what is known as **symmetric and positive definite** (SPD). "
   ]
  },
  {
   "cell_type": "markdown",
   "id": "8a4b840e",
   "metadata": {},
   "source": [
    "A matrix $A$ is symmetric positive definite if\n",
    "\n",
    "1) $A = A^{T}$ (that is, $A$ is symmetric), and\n",
    "\n",
    "2) $x^{T}Ax > 0$ for all nonzero vectors $x$"
   ]
  },
  {
   "cell_type": "markdown",
   "id": "79eb22b5",
   "metadata": {},
   "source": [
    "Symmetric positive definite matrices satisfy some interesting and useful properties. We state the following theorem but leave the proofs of each part as either an exercise or as part of a linear algebra course. "
   ]
  },
  {
   "cell_type": "markdown",
   "id": "033b1dca",
   "metadata": {},
   "source": [
    "If $A$ is SPD, then\n",
    "\n",
    "i) all the diagonal entries of $A$ are positive, \n",
    "\n",
    "ii) all the eigenvalues of $A$ are positive,\n",
    "\n",
    "iii) the determinant of $A$ is positive, and\n",
    "\n",
    "iv) every submatrix $B$ of $A$ obtained by deleting any set of rows and the corresponding set of columns from $A$ is SPD. "
   ]
  },
  {
   "cell_type": "markdown",
   "id": "e37d2497",
   "metadata": {},
   "source": [
    "Our major result is the following: \n",
    "\n",
    "> If $A$ is SPD, then there is a unique lower triangular matrix with positive diagonal entries that satisfies $A=LL^{T}$. \n",
    "\n",
    "The factorization $A=LL^{T}$ is called **Cholesky** factorization. "
   ]
  },
  {
   "cell_type": "markdown",
   "id": "0579bbec",
   "metadata": {},
   "source": [
    "We will give a proof of the existence of the Cholesky factorization. The proof we will by way of mathematical induction. \n",
    "\n",
    "**Question:** What is a proof by induction? "
   ]
  },
  {
   "cell_type": "markdown",
   "id": "6db56133",
   "metadata": {},
   "source": [
    "### Proof of Existence of Cholesky Factorization"
   ]
  },
  {
   "cell_type": "markdown",
   "id": "c75ce733",
   "metadata": {},
   "source": [
    "We begin with the base case, that is, when $A$ is a $1\\times 1$ SPD matrix so that $A=\\alpha$ where $\\alpha > 0$. In this case, take $L=\\sqrt{\\alpha}$ so $L^{T}=\\sqrt{\\alpha}$ and obviously $LL^{T} = A$. \n",
    "\n",
    "Now we proceed with the induction stype. Out induction hypothesis is that for all $n \\leq N-1$ if $A$ is an $n\\times n$ SPD matrix then $A$ possesses a Cholesky factorization. We will show that is $A$ is an $N\\times N$ SPD matrix, then there is a unique lower triangular matrix with positive diagonal entries that satisfies $A=LL^{T}$. "
   ]
  },
  {
   "cell_type": "markdown",
   "id": "ac343ab7",
   "metadata": {},
   "source": [
    "Observe that we may write $A$ as\n",
    "\n",
    "$$A = \\left[\\begin{array}{@{}c|c@{}} A_{N-1} & b \\\\ \\hline \\\\\n",
    "b^{T} & a_{NN}\\end{array}\\right].$$\n",
    "\n",
    "Now, we use the fact stated earlier that if $A$ is SPD, then every submatrix $B$ of $A$ obtained by deleting any set of rows and the corresponding set of columns from $A$ is SPD. In particular, this tells us that $A_{N-1}$ is SPD and of size $n \\leq N-1$. Therefore, we have a Cholesky factorization $A_{N-1}=L_{N-1}L_{N-1}^{T}$. "
   ]
  },
  {
   "cell_type": "markdown",
   "id": "5e7c8594",
   "metadata": {},
   "source": [
    "Thus, we will look for a matrix $L$ of the form\n",
    "\n",
    "$$L = \\left[\\begin{array}{@{}c|c@{}} L_{N-1} & {\\bf 0} \\\\ \\hline \\\\\n",
    "c^{T} & \\alpha\\end{array}\\right],$$\n",
    "\n",
    "that satisfies $LL^{T} = A$, that is\n",
    "\n",
    "$$\\left[\\begin{array}{@{}c|c@{}} L_{N-1} & {\\bf 0} \\\\ \\hline \\\\\n",
    "c^{T} & \\alpha\\end{array}\\right]\\left[\\begin{array}{@{}c|c@{}} L_{N-1}^{T} & c \\\\ \\hline \\\\\n",
    "{\\bf 0} & \\alpha\\end{array}\\right] = \\left[\\begin{array}{@{}c|c@{}} A_{N-1} & b \\\\ \\hline \\\\\n",
    "b^{T} & a_{NN}\\end{array}\\right].$$"
   ]
  },
  {
   "cell_type": "markdown",
   "id": "541c9fd5",
   "metadata": {},
   "source": [
    "Computing the blosk matrix multiplication corresonding to $LL^{T}$ gives\n",
    "\n",
    "$$LL^{T} = \\left[\\begin{array}{@{}c|c@{}} L_{N-1}L_{N-1}^{T} & L_{N-1}c \\\\ \\hline \\\\\n",
    "c^{T}L_{N-1}^{T} & c^{T}c + \\alpha^2\\end{array}\\right] = \\left[\\begin{array}{@{}c|c@{}} A_{N-1} & b \\\\ \\hline \\\\\n",
    "b^{T} &  a_{NN}\\end{array}\\right].$$"
   ]
  },
  {
   "cell_type": "markdown",
   "id": "d0cc91e0",
   "metadata": {},
   "source": [
    "Thus, we have the existence of a Cholesky factorization for $A$ provided\n",
    "\n",
    "i) $L_{N-1}c = b$ has a unique solution, and\n",
    "\n",
    "ii) $c^{T}c + \\alpha^{2} = a_{NN}$ has a positive solution $\\alpha$. "
   ]
  },
  {
   "cell_type": "markdown",
   "id": "12c8600d",
   "metadata": {},
   "source": [
    "Now, since $L_{N-1}$ is a lower triangular matrix with positive diagonal entries (by the induction hypothesis) $L_{N-1}c = b$  has a unique solution (which can be computed by forward substitution). Furthermore, $c^{T}c + \\alpha^{2} = a_{NN}$ will have a positive solution $\\alpha = \\sqrt{a_{NN} - c^{T}c}$ provided $\\alpha^{2} > 0$. We show now that this is the case. "
   ]
  },
  {
   "cell_type": "markdown",
   "id": "1803a710",
   "metadata": {},
   "source": [
    "If $A=LL^{T}$ with $L$ as just constructed, then $0 < \\det(A) = \\det(LL^{T}) = \\det(L)\\det(L^{T})$. Now by the structure of $L$, we have that $\\det(L) = \\det(L_{N-1})\\alpha$, so $0 < \\det(L_{N-1})^{2}\\alpha^{2}$ and since $\\det(L_{N-1})^2 > 0$ we must have $\\alpha^{2} > 0$. \n",
    "\n",
    "This completes the proof of the existence of a Cholesky factorization for any SPD matrix $A$. "
   ]
  },
  {
   "cell_type": "markdown",
   "id": "2ea6644a",
   "metadata": {},
   "source": [
    "The question now is, how do we actually compute the Cholesky factorization of an SPD matrix $A$. That is, what is an algorithm we can implement on a computer. Our next goal is to derive such an algorithm. "
   ]
  },
  {
   "cell_type": "markdown",
   "id": "503bf603",
   "metadata": {},
   "source": [
    "Consider a factorization for a $3 \\times 3$ SPD matrix that looks as follows:\n",
    "\n",
    "$$A = \\left[\\begin{array}{ccc} a_{11} & a_{12} & a_{13} \\\\ a_{21} & a_{22} & a_{23} \\\\ a_{31} & a_{32} & a_{33} \\end{array}\\right] = \\left[\\begin{array}{ccc} l_{11} & 0 & 0 \\\\ l_{21} & l_{22} & 0 \\\\ l_{31} & l_{32} & l_{33} \\end{array}\\right] \\left[\\begin{array}{ccc} l_{11} & l_{21} & l_{31} \\\\ 0 & l_{22} & l_{32} \\\\ 0 & 0 & l_{33} \\end{array}\\right] = \\left[\\begin{array}{ccc} l_{11}^{2} & l_{11}l_{21} & l_{11}l_{31} \\\\ l_{11}l_{21} & l_{21}^2+l_{22}^2 & l_{21}l_{31}+l_{22}l_{32} \\\\ l_{11}l_{31} & l_{21}l_{31} + l_{22}l_{32} & l_{31}^2 +l_{32^2}+ l_{33^3} \\end{array}\\right] $$\n",
    "\n",
    "Comparing the far left matrix entries with the far right matrix entries leads to a system of equations:"
   ]
  },
  {
   "cell_type": "code",
   "execution_count": null,
   "id": "4fab27d5",
   "metadata": {},
   "outputs": [],
   "source": []
  }
 ],
 "metadata": {
  "kernelspec": {
   "display_name": "Julia 1.6.2",
   "language": "julia",
   "name": "julia-1.6"
  },
  "language_info": {
   "file_extension": ".jl",
   "mimetype": "application/julia",
   "name": "julia",
   "version": "1.6.2"
  }
 },
 "nbformat": 4,
 "nbformat_minor": 5
}
