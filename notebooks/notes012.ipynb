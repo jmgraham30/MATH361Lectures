{
 "cells": [
  {
   "cell_type": "code",
   "execution_count": 1,
   "id": "471122b6",
   "metadata": {
    "slideshow": {
     "slide_type": "slide"
    }
   },
   "outputs": [],
   "source": [
    "using DrWatson;\n",
    "@quickactivate \"MATH361Lectures\"\n",
    "using LinearAlgebra;\n",
    "import MATH361Lectures;"
   ]
  },
  {
   "cell_type": "markdown",
   "id": "84d48b90",
   "metadata": {
    "slideshow": {
     "slide_type": "slide"
    }
   },
   "source": [
    "# Cholesky Factorization"
   ]
  },
  {
   "cell_type": "markdown",
   "id": "7e192439",
   "metadata": {
    "slideshow": {
     "slide_type": "slide"
    }
   },
   "source": [
    "In many practical applications (*e.g.* numerical approximation of solutions to linear PDEs) the matrix $A$ in the linear system $Ax=b$ has a special structure. In this lecture, we are interested in the case when $A$ is what is known as **symmetric and positive definite** (SPD). "
   ]
  },
  {
   "cell_type": "markdown",
   "id": "8a4b840e",
   "metadata": {
    "slideshow": {
     "slide_type": "slide"
    }
   },
   "source": [
    "A matrix $A$ is symmetric positive definite if\n",
    "\n",
    "1) $A = A^{T}$ (that is, $A$ is symmetric), and\n",
    "\n",
    "2) $x^{T}Ax > 0$ for all nonzero vectors $x$"
   ]
  },
  {
   "cell_type": "markdown",
   "id": "79eb22b5",
   "metadata": {
    "slideshow": {
     "slide_type": "slide"
    }
   },
   "source": [
    "Symmetric positive definite matrices satisfy some interesting and useful properties. We state the following theorem but leave the proofs of each part as either an exercise or as part of a linear algebra course. "
   ]
  },
  {
   "cell_type": "markdown",
   "id": "033b1dca",
   "metadata": {
    "slideshow": {
     "slide_type": "slide"
    }
   },
   "source": [
    "If $A$ is SPD, then\n",
    "\n",
    "i) all the diagonal entries of $A$ are positive, \n",
    "\n",
    "ii) all the eigenvalues of $A$ are positive,\n",
    "\n",
    "iii) the determinant of $A$ is positive, and\n",
    "\n",
    "iv) every submatrix $B$ of $A$ obtained by deleting any set of rows and the corresponding set of columns from $A$ is SPD. "
   ]
  },
  {
   "cell_type": "markdown",
   "id": "e37d2497",
   "metadata": {
    "slideshow": {
     "slide_type": "slide"
    }
   },
   "source": [
    "Our major result is the following: \n",
    "\n",
    "> If $A$ is SPD, then there is a unique lower triangular matrix with positive diagonal entries that satisfies $A=LL^{T}$. \n",
    "\n",
    "The factorization $A=LL^{T}$ is called **Cholesky** factorization. "
   ]
  },
  {
   "cell_type": "markdown",
   "id": "0579bbec",
   "metadata": {
    "slideshow": {
     "slide_type": "slide"
    }
   },
   "source": [
    "We will give a proof of the existence of the Cholesky factorization. The proof will by way of mathematical induction. \n",
    "\n",
    "**Question:** What is a proof by induction? "
   ]
  },
  {
   "cell_type": "markdown",
   "id": "6db56133",
   "metadata": {
    "slideshow": {
     "slide_type": "slide"
    }
   },
   "source": [
    "### Proof of Existence of Cholesky Factorization"
   ]
  },
  {
   "cell_type": "markdown",
   "id": "c75ce733",
   "metadata": {
    "slideshow": {
     "slide_type": "slide"
    }
   },
   "source": [
    "We begin with the base case, that is, when $A$ is a $1\\times 1$ SPD matrix, then $A=\\alpha$ where $\\alpha > 0$. In this case, take $L=\\sqrt{\\alpha}$ so $L^{T}=\\sqrt{\\alpha}$ and obviously $LL^{T} = A$. \n",
    "\n",
    "Now we proceed with the induction step. Our induction hypothesis is that for all $n \\leq N-1$ if $A$ is an $n\\times n$ SPD matrix then $A$ possesses a Cholesky factorization. We will show that this implies that if $A$ is an $N\\times N$ SPD matrix, then there is a unique lower triangular matrix with positive diagonal entries that satisfies $A=LL^{T}$. "
   ]
  },
  {
   "cell_type": "markdown",
   "id": "ac343ab7",
   "metadata": {
    "slideshow": {
     "slide_type": "slide"
    }
   },
   "source": [
    "Observe that we may write $A$ as\n",
    "\n",
    "$$A = \\left[\\begin{array}{@{}c|c@{}} A_{N-1} & b \\\\ \\hline \\\\\n",
    "b^{T} & a_{NN}\\end{array}\\right].$$\n",
    "\n",
    "Now, we use the fact stated earlier that if $A$ is SPD, then every submatrix $B$ of $A$ obtained by deleting any set of rows and the corresponding set of columns from $A$ is SPD. In particular, this tells us that $A_{N-1}$ is SPD and of size $n \\leq N-1$. Therefore, we have a Cholesky factorization $A_{N-1}=L_{N-1}L_{N-1}^{T}$. "
   ]
  },
  {
   "cell_type": "markdown",
   "id": "5e7c8594",
   "metadata": {
    "slideshow": {
     "slide_type": "slide"
    }
   },
   "source": [
    "Thus, we will look for a matrix $L$ of the form\n",
    "\n",
    "$$L = \\left[\\begin{array}{@{}c|c@{}} L_{N-1} & {\\bf 0} \\\\ \\hline \\\\\n",
    "c^{T} & \\alpha\\end{array}\\right],$$\n",
    "\n",
    "that satisfies $LL^{T} = A$, that is\n",
    "\n",
    "$$\\left[\\begin{array}{@{}c|c@{}} L_{N-1} & {\\bf 0} \\\\ \\hline \\\\\n",
    "c^{T} & \\alpha\\end{array}\\right]\\left[\\begin{array}{@{}c|c@{}} L_{N-1}^{T} & c \\\\ \\hline \\\\\n",
    "{\\bf 0} & \\alpha\\end{array}\\right] = \\left[\\begin{array}{@{}c|c@{}} A_{N-1} & b \\\\ \\hline \\\\\n",
    "b^{T} & a_{NN}\\end{array}\\right].$$"
   ]
  },
  {
   "cell_type": "markdown",
   "id": "541c9fd5",
   "metadata": {
    "slideshow": {
     "slide_type": "slide"
    }
   },
   "source": [
    "Computing the block matrix multiplication corresonding to $LL^{T}$ gives\n",
    "\n",
    "$$LL^{T} = \\left[\\begin{array}{@{}c|c@{}} L_{N-1}L_{N-1}^{T} & L_{N-1}c \\\\ \\hline \\\\\n",
    "c^{T}L_{N-1}^{T} & c^{T}c + \\alpha^2\\end{array}\\right] = \\left[\\begin{array}{@{}c|c@{}} A_{N-1} & b \\\\ \\hline \\\\\n",
    "b^{T} &  a_{NN}\\end{array}\\right].$$"
   ]
  },
  {
   "cell_type": "markdown",
   "id": "d0cc91e0",
   "metadata": {
    "slideshow": {
     "slide_type": "slide"
    }
   },
   "source": [
    "Thus, we have the existence of a Cholesky factorization for $A$ provided\n",
    "\n",
    "i) $L_{N-1}c = b$ has a unique solution, and\n",
    "\n",
    "ii) $c^{T}c + \\alpha^{2} = a_{NN}$ has a positive solution $\\alpha$. "
   ]
  },
  {
   "cell_type": "markdown",
   "id": "12c8600d",
   "metadata": {
    "slideshow": {
     "slide_type": "slide"
    }
   },
   "source": [
    "Now, since $L_{N-1}$ is a lower triangular matrix with positive diagonal entries (by the induction hypothesis) $L_{N-1}c = b$  has a unique solution (which can be computed by forward substitution). Furthermore, $c^{T}c + \\alpha^{2} = a_{NN}$ will have a positive solution $\\alpha = \\sqrt{a_{NN} - c^{T}c}$ provided $\\alpha^{2} > 0$. We now demonstrate that this is the case. "
   ]
  },
  {
   "cell_type": "markdown",
   "id": "1803a710",
   "metadata": {
    "slideshow": {
     "slide_type": "slide"
    }
   },
   "source": [
    "If $A=LL^{T}$ with $L$ as just constructed, then $0 < \\det(A) = \\det(LL^{T}) = \\det(L)\\det(L^{T})$. Now by the structure of $L$, we have that $\\det(L) = \\det(L_{N-1})\\alpha$, so $0 < \\det(L_{N-1})^{2}\\alpha^{2}$ and since $\\det(L_{N-1})^2 > 0$ we must have $\\alpha^{2} > 0$. \n",
    "\n",
    "This completes the proof of the existence of a Cholesky factorization for any SPD matrix $A$. "
   ]
  },
  {
   "cell_type": "markdown",
   "id": "2ea6644a",
   "metadata": {
    "slideshow": {
     "slide_type": "slide"
    }
   },
   "source": [
    "The question now is, how do we actually compute the Cholesky factorization of an SPD matrix $A$. That is, what is an algorithm we can implement on a computer. Our next goal is to derive such an algorithm. "
   ]
  },
  {
   "cell_type": "markdown",
   "id": "503bf603",
   "metadata": {
    "slideshow": {
     "slide_type": "slide"
    }
   },
   "source": [
    "Consider a factorization for a $3 \\times 3$ SPD matrix that looks as follows:\n",
    "\n",
    "$$A = \\left[\\begin{array}{ccc} a_{11} & a_{12} & a_{13} \\\\ a_{21} & a_{22} & a_{23} \\\\ a_{31} & a_{32} & a_{33} \\end{array}\\right] = \\left[\\begin{array}{ccc} l_{11} & 0 & 0 \\\\ l_{21} & l_{22} & 0 \\\\ l_{31} & l_{32} & l_{33} \\end{array}\\right] \\left[\\begin{array}{ccc} l_{11} & l_{21} & l_{31} \\\\ 0 & l_{22} & l_{32} \\\\ 0 & 0 & l_{33} \\end{array}\\right] = \\left[\\begin{array}{ccc} l_{11}^{2} & l_{11}l_{21} & l_{11}l_{31} \\\\ l_{11}l_{21} & l_{21}^2+l_{22}^2 & l_{21}l_{31}+l_{22}l_{32} \\\\ l_{11}l_{31} & l_{21}l_{31} + l_{22}l_{32} & l_{31}^2 +l_{32^2}+ l_{33^3} \\end{array}\\right] $$\n",
    "\n",
    "Comparing the far left matrix entries with the far right matrix entries leads to a system of equations:"
   ]
  },
  {
   "cell_type": "markdown",
   "id": "73111e0a",
   "metadata": {
    "slideshow": {
     "slide_type": "slide"
    }
   },
   "source": [
    "$$\n",
    "\\begin{align}\n",
    "l_{11}^2 &= a_{11}  \\\\\n",
    "l_{11}l_{21} &= a_{21} \\\\\n",
    "l_{11}l_{31} & = a_{31} \\\\\n",
    "l_{21}^2 + l_{22}^2 & = a_{22} \\\\\n",
    "l_{21}l_{31} + l_{22}l_{32} &= a_{32} \\\\\n",
    "l_{31}^2 +l_{32^2}+ l_{33}^2 &= a_{33}\n",
    "\\end{align}\n",
    "$$"
   ]
  },
  {
   "cell_type": "markdown",
   "id": "26543254",
   "metadata": {
    "slideshow": {
     "slide_type": "slide"
    }
   },
   "source": [
    "Notice that we've ordered our equations by starting in the first column at the diagonal entry, then moving down the rows in the first column, then moving to the second column at the diagonal entry, and so on. Solving the equations in this order leads to an algorithm for Cholesky factorization. That is, we have"
   ]
  },
  {
   "cell_type": "markdown",
   "id": "6fced4e4",
   "metadata": {
    "slideshow": {
     "slide_type": "slide"
    }
   },
   "source": [
    "$$\n",
    "\\begin{align}\n",
    "l_{11} &= \\sqrt{a_{11}}  \\\\\n",
    "l_{21} &= \\frac{a_{21}}{l_{11}} \\\\\n",
    "l_{31} & = \\frac{a_{31}}{l_{11}} \\\\\n",
    "l_{22} & = \\sqrt{a_{22} - l_{21}^2} \\\\\n",
    "l_{32} &= \\frac{a_{32} - l_{21}l_{31}}{l_{22}} \\\\\n",
    "l_{33} &= \\sqrt{a_{33} - l_{31}^2 - l_{32}^2}\n",
    "\\end{align}\n",
    "$$"
   ]
  },
  {
   "cell_type": "markdown",
   "id": "5ec168ea",
   "metadata": {
    "slideshow": {
     "slide_type": "slide"
    }
   },
   "source": [
    "We can describe the algorithm as follows:\n",
    "\n",
    "Step 1: Input SPD matrix $A$.\n",
    "\n",
    "Step 2: Initialize a matrix of same size as $A$ to store $L$.\n",
    "\n",
    "Step 3: Loop over columns $k=1:n$, for each column set diagonal entry to be\n",
    "\n",
    "$$L_{kk} = \\sqrt{A_{kk} - \\sum_{j=1}^{k-1}L_{kj}^2}$$\n",
    "\n",
    "and while in column $k$ loop over rows $i=(k+1):n$ to get entries\n",
    "\n",
    "$$L_{ik} = \\frac{A_{ik} - \\sum_{j=1}^{k-1}L_{ij}L_{kj}}{L_{kk}}.$$\n",
    "\n",
    "Step 4: Return $L$."
   ]
  },
  {
   "cell_type": "markdown",
   "id": "ec476d7a",
   "metadata": {
    "slideshow": {
     "slide_type": "slide"
    }
   },
   "source": [
    "We can make the implementation easier if we observe that\n",
    "\n",
    "1) $\\sum_{j=1}^{k-1}L_{kj}^2$ is the dot product of the first $k-1$ entries of row $k$ with itself, and\n",
    "\n",
    "2) $\\sum_{j=1}^{k-1}L_{ij}L_{kj}$ is the dot product of the first $k-1$ entries of row $i$ with the first $k-1$ entries of column $k$ which is the same as the first $k-1$ entries of row $k$ because the matrix is symmetric. "
   ]
  },
  {
   "cell_type": "markdown",
   "id": "78ab4e94",
   "metadata": {
    "slideshow": {
     "slide_type": "slide"
    }
   },
   "source": [
    "We leave it as a homework exercise for you to code in Julia your own implementation of the previously described algorithm. We demonstrate Cholesky factorization by calling the implementation `chfact` from the `MATH361Lectures.jl` module and the implementation `cholesky` from `LinearAlgebra.jl`."
   ]
  },
  {
   "cell_type": "code",
   "execution_count": 2,
   "id": "6ebe2901",
   "metadata": {
    "slideshow": {
     "slide_type": "slide"
    }
   },
   "outputs": [
    {
     "data": {
      "text/plain": [
       "5×5 Matrix{Float64}:\n",
       " 1.28795  1.25174  1.60007  1.18293  1.42488\n",
       " 1.25174  1.6054   1.827    1.64017  1.41157\n",
       " 1.60007  1.827    2.3785   1.95592  2.0428\n",
       " 1.18293  1.64017  1.95592  2.1154   1.60528\n",
       " 1.42488  1.41157  2.0428   1.60528  2.10498"
      ]
     },
     "execution_count": 2,
     "metadata": {},
     "output_type": "execute_result"
    }
   ],
   "source": [
    "# Construct a random 5x5 matrix:\n",
    "A = rand(5,5);\n",
    "# Use A to obtain an SPD matrix:\n",
    "A = A*A'"
   ]
  },
  {
   "cell_type": "code",
   "execution_count": 3,
   "id": "0face90f",
   "metadata": {
    "slideshow": {
     "slide_type": "slide"
    }
   },
   "outputs": [
    {
     "data": {
      "text/plain": [
       "5-element Vector{Float64}:\n",
       " 0.03959190740509841\n",
       " 0.07999628810651525\n",
       " 0.3358852440766218\n",
       " 0.6355436955441254\n",
       " 8.401207394974998"
      ]
     },
     "execution_count": 3,
     "metadata": {},
     "output_type": "execute_result"
    }
   ],
   "source": [
    "eigvals(A)"
   ]
  },
  {
   "cell_type": "code",
   "execution_count": 4,
   "id": "cb104d58",
   "metadata": {
    "slideshow": {
     "slide_type": "slide"
    }
   },
   "outputs": [
    {
     "data": {
      "text/plain": [
       "5×5 Matrix{Float64}:\n",
       " 1.13488  0.0        0.0       0.0       0.0\n",
       " 1.10297  0.623581   0.0       0.0       0.0\n",
       " 1.4099   0.436053   0.447806  0.0       0.0\n",
       " 1.04234  0.786581   0.320056  0.554771  0.0\n",
       " 1.25554  0.0428938  0.566996  0.146676  0.428679"
      ]
     },
     "execution_count": 4,
     "metadata": {},
     "output_type": "execute_result"
    }
   ],
   "source": [
    "La = MATH361Lectures.chfact(A)"
   ]
  },
  {
   "cell_type": "code",
   "execution_count": 5,
   "id": "a6f3fb0c",
   "metadata": {
    "slideshow": {
     "slide_type": "slide"
    }
   },
   "outputs": [
    {
     "data": {
      "text/plain": [
       "5×5 LowerTriangular{Float64, Matrix{Float64}}:\n",
       " 1.13488   ⋅          ⋅         ⋅         ⋅ \n",
       " 1.10297  0.623581    ⋅         ⋅         ⋅ \n",
       " 1.4099   0.436053   0.447806   ⋅         ⋅ \n",
       " 1.04234  0.786581   0.320056  0.554771   ⋅ \n",
       " 1.25554  0.0428938  0.566996  0.146676  0.428679"
      ]
     },
     "execution_count": 5,
     "metadata": {},
     "output_type": "execute_result"
    }
   ],
   "source": [
    "C = cholesky(A);\n",
    "Lb = C.L"
   ]
  },
  {
   "cell_type": "markdown",
   "id": "f6987c40",
   "metadata": {
    "slideshow": {
     "slide_type": "slide"
    }
   },
   "source": [
    "Let's check our results against $A$. "
   ]
  },
  {
   "cell_type": "code",
   "execution_count": 6,
   "id": "b4efe6c8",
   "metadata": {
    "slideshow": {
     "slide_type": "slide"
    }
   },
   "outputs": [
    {
     "data": {
      "text/plain": [
       "5×5 Matrix{Float64}:\n",
       " 2.22045e-16  0.0  0.0  0.0  0.0\n",
       " 0.0          0.0  0.0  0.0  0.0\n",
       " 0.0          0.0  0.0  0.0  0.0\n",
       " 0.0          0.0  0.0  0.0  0.0\n",
       " 0.0          0.0  0.0  0.0  0.0"
      ]
     },
     "execution_count": 6,
     "metadata": {},
     "output_type": "execute_result"
    }
   ],
   "source": [
    "La*La' - A"
   ]
  },
  {
   "cell_type": "code",
   "execution_count": 7,
   "id": "abe6e467",
   "metadata": {
    "slideshow": {
     "slide_type": "slide"
    }
   },
   "outputs": [
    {
     "data": {
      "text/plain": [
       "5×5 Matrix{Float64}:\n",
       " 2.22045e-16  0.0  0.0  0.0  0.0\n",
       " 0.0          0.0  0.0  0.0  0.0\n",
       " 0.0          0.0  0.0  0.0  0.0\n",
       " 0.0          0.0  0.0  0.0  0.0\n",
       " 0.0          0.0  0.0  0.0  0.0"
      ]
     },
     "execution_count": 7,
     "metadata": {},
     "output_type": "execute_result"
    }
   ],
   "source": [
    "Lb*Lb' - A"
   ]
  },
  {
   "cell_type": "markdown",
   "id": "d6c357c6",
   "metadata": {
    "slideshow": {
     "slide_type": "slide"
    }
   },
   "source": [
    "Do you agree or disagree that we have successfully obtain a Cholesky factorization for our test example? An interesting question is, what happens if we try to compute the Cholesky factorization of a matrix that is not SPD? You will explore this in the homework exercises. For now, let's check that the matirix $A$ we generated satisfies the properties of an SPD matrix."
   ]
  },
  {
   "cell_type": "code",
   "execution_count": 8,
   "id": "581c42d1",
   "metadata": {
    "slideshow": {
     "slide_type": "slide"
    }
   },
   "outputs": [
    {
     "data": {
      "text/plain": [
       "Eigen{Float64, Float64, Matrix{Float64}, Vector{Float64}}\n",
       "values:\n",
       "5-element Vector{Float64}:\n",
       " 0.03959190740509846\n",
       " 0.07999628810651524\n",
       " 0.33588524407662124\n",
       " 0.6355436955441245\n",
       " 8.401207394974998\n",
       "vectors:\n",
       "5×5 Matrix{Float64}:\n",
       " -0.241251   0.65842    -0.507256  -0.348644   -0.35975\n",
       "  0.661944  -0.208908   -0.502929   0.306351   -0.414003\n",
       " -0.565127  -0.620765   -0.104905  -0.0856245  -0.526256\n",
       " -0.160831   0.370502    0.42008    0.671726   -0.45736\n",
       "  0.397985   0.0148415   0.549801  -0.571007   -0.461581"
      ]
     },
     "execution_count": 8,
     "metadata": {},
     "output_type": "execute_result"
    }
   ],
   "source": [
    "eigen(A)"
   ]
  },
  {
   "cell_type": "markdown",
   "id": "2b4e70af",
   "metadata": {
    "slideshow": {
     "slide_type": "slide"
    }
   },
   "source": [
    "Note that $A$ has all positive eigenvalues. "
   ]
  },
  {
   "cell_type": "markdown",
   "id": "5af8f5af",
   "metadata": {
    "slideshow": {
     "slide_type": "slide"
    }
   },
   "source": [
    "We may use Cholesky factorization to solve a linear system $Ax=b$ whenever $A$ is SPD. \n",
    "\n",
    "1) We factorize $A = LL^T$, \n",
    "\n",
    "2) Solve $Ly=b$ via forward substitution, and\n",
    "\n",
    "3) Solve $L^T x = y$ via backward substitution. "
   ]
  },
  {
   "cell_type": "code",
   "execution_count": 9,
   "id": "6af4684f",
   "metadata": {
    "slideshow": {
     "slide_type": "slide"
    }
   },
   "outputs": [
    {
     "data": {
      "text/plain": [
       "5×5 Matrix{Float64}:\n",
       " 1.28795  1.25174  1.60007  1.18293  1.42488\n",
       " 1.25174  1.6054   1.827    1.64017  1.41157\n",
       " 1.60007  1.827    2.3785   1.95592  2.0428\n",
       " 1.18293  1.64017  1.95592  2.1154   1.60528\n",
       " 1.42488  1.41157  2.0428   1.60528  2.10498"
      ]
     },
     "execution_count": 9,
     "metadata": {},
     "output_type": "execute_result"
    }
   ],
   "source": [
    "# Take A as before\n",
    "A"
   ]
  },
  {
   "cell_type": "code",
   "execution_count": 10,
   "id": "d0ca240d",
   "metadata": {
    "slideshow": {
     "slide_type": "slide"
    }
   },
   "outputs": [
    {
     "data": {
      "text/plain": [
       "5-element Vector{Float64}:\n",
       " 1.0\n",
       " 1.0\n",
       " 1.0\n",
       " 1.0\n",
       " 1.0"
      ]
     },
     "execution_count": 10,
     "metadata": {},
     "output_type": "execute_result"
    }
   ],
   "source": [
    "# Choose a right hand side vector\n",
    "b = [1.0, 1.0, 1.0, 1.0, 1.0]"
   ]
  },
  {
   "cell_type": "code",
   "execution_count": 11,
   "id": "d3a67062",
   "metadata": {
    "slideshow": {
     "slide_type": "slide"
    }
   },
   "outputs": [
    {
     "data": {
      "text/plain": [
       "5-element Vector{Float64}:\n",
       "  1.5263518666581217\n",
       "  1.3047703270239335\n",
       " -2.796779415653074\n",
       "  0.5253532975460999\n",
       "  0.8804205440646654"
      ]
     },
     "execution_count": 11,
     "metadata": {},
     "output_type": "execute_result"
    }
   ],
   "source": [
    "# Obtain Cholesky factorization\n",
    "La = MATH361Lectures.chfact(A);\n",
    "# Do forward substitution\n",
    "y = MATH361Lectures.forwardsub(La,b);\n",
    "# Do backward substitution\n",
    "x1 = MATH361Lectures.backsub(La',y)"
   ]
  },
  {
   "cell_type": "code",
   "execution_count": 12,
   "id": "41f3c677",
   "metadata": {
    "slideshow": {
     "slide_type": "slide"
    }
   },
   "outputs": [
    {
     "data": {
      "text/plain": [
       "5-element Vector{Float64}:\n",
       " 1.0\n",
       " 1.0\n",
       " 0.9999999999999997\n",
       " 1.0000000000000004\n",
       " 0.9999999999999996"
      ]
     },
     "execution_count": 12,
     "metadata": {},
     "output_type": "execute_result"
    }
   ],
   "source": [
    "# Check answer\n",
    "A*x1"
   ]
  },
  {
   "cell_type": "code",
   "execution_count": 13,
   "id": "b145eddb",
   "metadata": {
    "slideshow": {
     "slide_type": "slide"
    }
   },
   "outputs": [
    {
     "data": {
      "text/plain": [
       "5-element Vector{Float64}:\n",
       "  1.526351866658122\n",
       "  1.3047703270239321\n",
       " -2.796779415653073\n",
       "  0.5253532975461003\n",
       "  0.8804205440646649"
      ]
     },
     "execution_count": 13,
     "metadata": {},
     "output_type": "execute_result"
    }
   ],
   "source": [
    "# Compare with using Julia Cholesky and also backslash\n",
    "# Do forward substitution\n",
    "y = MATH361Lectures.forwardsub(Lb,b);\n",
    "# Do backward substitution\n",
    "x2 = MATH361Lectures.backsub(Lb',y)"
   ]
  },
  {
   "cell_type": "code",
   "execution_count": 14,
   "id": "cc588479",
   "metadata": {
    "slideshow": {
     "slide_type": "slide"
    }
   },
   "outputs": [
    {
     "data": {
      "text/plain": [
       "5-element Vector{Float64}:\n",
       " 0.9999999999999996\n",
       " 0.9999999999999998\n",
       " 0.9999999999999996\n",
       " 0.9999999999999998\n",
       " 0.9999999999999998"
      ]
     },
     "execution_count": 14,
     "metadata": {},
     "output_type": "execute_result"
    }
   ],
   "source": [
    "A*x2"
   ]
  },
  {
   "cell_type": "code",
   "execution_count": 15,
   "id": "158c1f41",
   "metadata": {
    "slideshow": {
     "slide_type": "slide"
    }
   },
   "outputs": [
    {
     "data": {
      "text/plain": [
       "5-element Vector{Float64}:\n",
       "  1.5263518666581186\n",
       "  1.3047703270239308\n",
       " -2.7967794156530665\n",
       "  0.525353297546098\n",
       "  0.8804205440646633"
      ]
     },
     "execution_count": 15,
     "metadata": {},
     "output_type": "execute_result"
    }
   ],
   "source": [
    "x3 = A \\ b"
   ]
  },
  {
   "cell_type": "code",
   "execution_count": 16,
   "id": "398dc6b0",
   "metadata": {
    "slideshow": {
     "slide_type": "slide"
    }
   },
   "outputs": [
    {
     "data": {
      "text/plain": [
       "true"
      ]
     },
     "execution_count": 16,
     "metadata": {},
     "output_type": "execute_result"
    }
   ],
   "source": [
    "x1 ≈ x2"
   ]
  },
  {
   "cell_type": "code",
   "execution_count": 17,
   "id": "b88aa865",
   "metadata": {
    "slideshow": {
     "slide_type": "slide"
    }
   },
   "outputs": [
    {
     "data": {
      "text/plain": [
       "true"
      ]
     },
     "execution_count": 17,
     "metadata": {},
     "output_type": "execute_result"
    }
   ],
   "source": [
    "x1 ≈ x3"
   ]
  },
  {
   "cell_type": "code",
   "execution_count": 18,
   "id": "57594797",
   "metadata": {
    "slideshow": {
     "slide_type": "slide"
    }
   },
   "outputs": [
    {
     "data": {
      "text/plain": [
       "true"
      ]
     },
     "execution_count": 18,
     "metadata": {},
     "output_type": "execute_result"
    }
   ],
   "source": [
    "x2 ≈ x3"
   ]
  },
  {
   "cell_type": "markdown",
   "id": "10cac82e",
   "metadata": {
    "slideshow": {
     "slide_type": "slide"
    }
   },
   "source": [
    "Starting in the next lecture, we examine the problem of solving a linear system $Ax = b$ where $A$ is a rectangular $m \\times n$ matrix with $m > n$. In order to do this, we will use another matrix factorization known as $QR$ factorization. In preparation for this, it is recommended that the watch the following videos on [fitting data by least squares](https://youtu.be/F6RN_X5-sFU), [the normal equation](https://youtu.be/_lQHgJOuy90), and [QR factorization](https://youtu.be/9iA8P1mg170). "
   ]
  }
 ],
 "metadata": {
  "celltoolbar": "Slideshow",
  "kernelspec": {
   "display_name": "Julia 1.6.2",
   "language": "julia",
   "name": "julia-1.6"
  },
  "language_info": {
   "file_extension": ".jl",
   "mimetype": "application/julia",
   "name": "julia",
   "version": "1.6.2"
  }
 },
 "nbformat": 4,
 "nbformat_minor": 5
}
