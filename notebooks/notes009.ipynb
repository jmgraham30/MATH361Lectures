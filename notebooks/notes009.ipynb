{
 "cells": [
  {
   "cell_type": "code",
   "execution_count": 1,
   "metadata": {},
   "outputs": [],
   "source": [
    "using DrWatson;\n",
    "@quickactivate \"MATH361Lectures\"\n",
    "using LinearAlgebra, Latexify, LaTeXStrings;\n",
    "import MATH361Lectures;"
   ]
  },
  {
   "cell_type": "markdown",
   "metadata": {},
   "source": [
    "# Introduction to Norms"
   ]
  },
  {
   "cell_type": "markdown",
   "metadata": {},
   "source": [
    "In order to analyze error, conditioning, and stability for problems involving systems of linear equations and numerical methods for handling such problems, we need to be able to quantify \"distance.\" To motivate the ideas we will examine for vectors and matrices, consider the following statements about real numbers:\n",
    "\n",
    "  1) Two numbers $x,y\\in \\mathbb{R}$ are \"close\" if for some small positive number $\\epsilon$, we have that $|x-y| < \\epsilon$. \n",
    " \n",
    "  2) The sequence $\\{x_{k}\\}$ of real numbers **converges** to the value $x\\in \\mathbb{R}$ if $\\lim_{k\\rightarrow \\infty}|x_{k} - x| = 0$. \n",
    "  \n",
    "How can we decide if two vectors, or even two matrices are close to one another? How can we determine if a sequence of vectors or a sequence of matrices converges? Vector and matrix norms will allow us to answer to last two questions. \n",
    "\n",
    "You may find it worth your time to watch [this video lecture on norms](https://www.youtube.com/watch?v=Sqa_jdZ9mVg&t=369s)."
   ]
  },
  {
   "cell_type": "markdown",
   "metadata": {},
   "source": [
    "We will begin by defining **vector norms**. Let $V$ be a [vector space](https://en.wikipedia.org/wiki/Vector_space) over the set of real numbers $\\mathbb{R}$ (if this seems intimidating just pretend that $V=\\mathbb{R}^{n}$). Recall that this means the following: $V$ is a set consisting of elements called vectors that satisfy the following properties:\n",
    "\n",
    "  1) If $v,w\\in V$, then we can form the sum $v+w$ such that $v+w=w+v$, and $v+(w+z)=(v+w)+z$ whenever $v,w,z\\in V$. \n",
    "  \n",
    "  2) There is a **zero vector** $0\\in V$ that satisfies $0+v=v+0=v$ whenever $v\\in V$. \n",
    "  \n",
    "  3) If $\\alpha \\in \\mathbb{R}$ and $v\\in V$, then we can form the **scalar multiple** $\\alpha v \\in V$ such that $\\alpha(\\beta v) = (\\alpha \\beta)v$ whenever $\\alpha,\\beta \\in \\mathbb{R}$ and $v\\in V$; $(\\alpha + \\beta)v = \\alpha v + \\beta v$ whenever $\\alpha,\\beta \\in \\mathbb{R}$ and $v\\in V$; and $\\alpha(v + w) = \\alpha v + \\alpha w$ whenever $\\alpha \\in \\mathbb{R}$ and $v,w \\in V$.  "
   ]
  },
  {
   "cell_type": "markdown",
   "metadata": {},
   "source": [
    "A (vector) **norm** on a vector space $V$ is a real valued function $\\|\\cdot \\|: V \\rightarrow \\mathbb{R}$ that satisfies\n",
    "\n",
    "  1) $\\|v\\| \\geq 0$ for all $v\\in V$, \n",
    "  \n",
    "  2) $\\|v\\| = 0$ if and only if $v = 0$, \n",
    "  \n",
    "  3) $\\|\\alpha v\\| = |\\alpha| \\|v\\|$ whenever $\\alpha \\in R$ and $v\\in V$, and\n",
    "  \n",
    "  4) $\\|v + w\\| \\leq \\|v\\| + \\|w\\|$ whenever $v,w\\in V$, this is called the [triangle inequality](https://en.wikipedia.org/wiki/Triangle_inequality)."
   ]
  },
  {
   "cell_type": "markdown",
   "metadata": {},
   "source": [
    "We will look at some examples of vector norms shortly, first note that in the definition of a vector space we can replace $\\mathbb{R}$ with $\\mathbb{C}$ to consider complex scalars. However, the definition of a norm over a complex vector space is exactly the same as what we just gave for a real vector space.  "
   ]
  },
  {
   "cell_type": "markdown",
   "metadata": {},
   "source": [
    "Our primary concern is the case when $V=\\mathbb{R}^{n}$, and while there are infinitely many norms that one can deinfe on $\\mathbb{R}^n$, there are three specific norms with which we will be concerned:\n",
    "\n",
    "1) The **one norm** $\\|v\\|_{1} = |v_{1}| + |v_{2}| + \\cdots + |v_{n}|$, \n",
    "\n",
    "2) the **two norm** $\\|v\\|_{2} = \\sqrt{|v_{1}|^2 + |v_{2}|^2 + \\cdots + |v_{n}|^2}$, and\n",
    "\n",
    "3) the **infinity norm** $\\|v\\|_{\\infty} = \\max\\{|v_{1}|, |v_{2}|, \\ldots , |v_{n}|\\}$, \n",
    "\n",
    "where in all three cases $v=\\left[\\begin{array}{cccc}v_{1} & v_{2} & \\ldots & v_{n}\\end{array}\\right]^{T}$ is a vector in $\\mathbb{R}^n$."
   ]
  },
  {
   "cell_type": "markdown",
   "metadata": {},
   "source": [
    "How do we know that these expression define norms on $\\mathbb{R}^n$? That is an excellent question that we will return to shortly. First, let's look at some concrete numerical examples and also see how to use Julia to compute vector norms. "
   ]
  },
  {
   "cell_type": "markdown",
   "metadata": {},
   "source": [
    "Suppose that $v = \\left[\\begin{array}{cccc}-1&3&8&-4\\end{array}\\right]^{T}\\in \\mathbb{R}^4$, then we have\n",
    "\n",
    "  a) The **one norm** of $v$ is $\\|v\\|_{1} = |-1| + |3| + |8| + |-4| = 16$, \n",
    "\n",
    "  b) the **two norm** of $v$ is $\\|v\\|_{2} = \\sqrt{|-1|^2 + |3|^2 + |8|^2 + |-4|^2} = \\sqrt{90} \\approx 9.5$, and\n",
    "\n",
    "  c) the **infinity norm** of $v$ is $\\|v\\|_{\\infty} = \\max\\{|-1|, |3|, |8| , |-4|\\} = 8$."
   ]
  },
  {
   "cell_type": "markdown",
   "metadata": {},
   "source": [
    "Julia has a ```norm``` function that is part of the `LinearAlgebra.jl` package."
   ]
  },
  {
   "cell_type": "code",
   "execution_count": 2,
   "metadata": {},
   "outputs": [],
   "source": [
    "#? norm # uncomment to pull up the help documentation on the norm function"
   ]
  },
  {
   "cell_type": "code",
   "execution_count": 3,
   "metadata": {},
   "outputs": [
    {
     "name": "stdout",
     "output_type": "stream",
     "text": [
      "One norm of v = 16.0\n",
      "Two norm of v = 9.486832980505138\n",
      "Infinity norm of v = 8.0\n"
     ]
    }
   ],
   "source": [
    "v = [-1.0,3.0,8.0,-4.0]\n",
    "println(\"One norm of v = \", norm(v,1))\n",
    "println(\"Two norm of v = \", norm(v,2))\n",
    "println(\"Infinity norm of v = \", norm(v,Inf))"
   ]
  },
  {
   "cell_type": "markdown",
   "metadata": {},
   "source": [
    "A **unit vector** in a vector space $V$ with respect to a norm $\\|\\cdot \\|$ is a vector $v \\in V$ such that $\\|v\\| = 1$. "
   ]
  },
  {
   "cell_type": "markdown",
   "metadata": {},
   "source": [
    "**Exercise:** Let $V = \\mathbb{R}^2$, find a vector or vectors that are unit vectors in $V$ with respect to each of the three norms we have defined.  "
   ]
  },
  {
   "cell_type": "markdown",
   "metadata": {},
   "source": [
    "<figure>\n",
    "<img src=\"figures/UnitVectors.png\" id=\"fig:notes001\" width=\"400\" alt=\"Figure 1: Unit vectors in the plane for various norms.\" \n",
    "/><figcaption aria-hidden=\"true\">Figure 1: Unit vectors in the plane for various norms.</figcaption>\n",
    "</figure>"
   ]
  },
  {
   "cell_type": "markdown",
   "metadata": {},
   "source": [
    "Given a nonzero vector $v$ and a norm $\\|\\cdot\\|$, we can always construct a unit vector that \"points in the same direction\" as $v$. Namely, we form \n",
    "\n",
    "$$\\frac{v}{\\|v\\|}.$$\n",
    "\n",
    "Furthermore, given a nonzero vector $v$ and a norm $\\|\\cdot\\|$, we can write $v$ as\n",
    "\n",
    "$$\\|v\\|\\frac{v}{\\|v\\|},$$\n",
    "\n",
    "which \"decomposes\" $v$ into it's magnitude $\\|v\\|$ and it's unit direction $\\frac{v}{\\|v\\|}$. "
   ]
  },
  {
   "cell_type": "markdown",
   "metadata": {},
   "source": [
    "Let's use Julia to look at an example. "
   ]
  },
  {
   "cell_type": "code",
   "execution_count": 4,
   "metadata": {},
   "outputs": [
    {
     "name": "stdout",
     "output_type": "stream",
     "text": [
      "With respect to the two norm, the magnitude of [1.0, -2.0, 4.5, -6.0] is 7.826237921249264 and it's unit direction is [0.12777531299998798, -0.25555062599997597, 0.5749889084999459, -0.7666518779999278].\n"
     ]
    }
   ],
   "source": [
    "v = [1.0,-2.0,4.5,-6.0]\n",
    "norm_v = norm(v,2)\n",
    "unit_v = v./norm_v\n",
    "println(\"With respect to the two norm, the magnitude of $v is $norm_v and it's unit direction is $unit_v.\")"
   ]
  },
  {
   "cell_type": "code",
   "execution_count": 5,
   "metadata": {},
   "outputs": [
    {
     "data": {
      "text/plain": [
       "0.9999999999999999"
      ]
     },
     "execution_count": 5,
     "metadata": {},
     "output_type": "execute_result"
    }
   ],
   "source": [
    "# check that the unit direction is a unit vector\n",
    "norm(unit_v,2)"
   ]
  },
  {
   "cell_type": "markdown",
   "metadata": {},
   "source": [
    "**Exercise:** Let $v = \\left[\\begin{array}{ccc}-2 & 1 & 3 \\end{array}\\right]^{T}$. Find the one, two, and infinity norm for $v$ both by hand and using Julia. Then, both by hand and using Julia, compute the unit direction of $v$ with respect to each of the one, two, and inifinity norms. "
   ]
  },
  {
   "cell_type": "markdown",
   "metadata": {},
   "source": [
    "**Exercise:** Use Julia to confirm the triangle inequality for each of the one, two, and infinty norms using the following two vectors in $\\mathbb{R}^4$: $v = \\left[ \\begin{array}{cccc} 2 & -2 & 4 & -3 \\end{array}\\right]^{T}$ and $v = \\left[ \\begin{array}{cccc} 1 & 0 & -5 & 3 \\end{array}\\right]^{T}$. "
   ]
  },
  {
   "cell_type": "markdown",
   "metadata": {},
   "source": [
    "To be mathematically precise, we need to prove that each of the expressions for $\\|\\cdot\\|_{1}$, $\\|\\cdot\\|_{2}$, and $\\|\\cdot\\|_{\\infty}$ does in fact satisfy the necessary conditions to be a norm. The triangle inequality is the one condition that is usually not obvious. We will not work through all of the details here in order to verify the norm conditions but we will verify the triangle inequality for $\\|\\cdot\\|_{1}$, you will verify the triangle inequality for $\\|\\cdot\\|_{\\infty}$, and we will take it on faith that the two norm $\\|\\cdot\\|_{2}$ satisfies the triangle inequality. The proof that the expression $$ does in fact satisfy the conditions to be a norm is best developed in teh context of a discussion on [inner product spaces](https://en.wikipedia.org/wiki/Inner_product_space) and the [Cauchy-Schwarz inequality](https://en.wikipedia.org/wiki/Cauchy%E2%80%93Schwarz_inequality), topics that we do not have time to fully cover in this course. "
   ]
  },
  {
   "cell_type": "markdown",
   "metadata": {},
   "source": [
    "Here is our proof that $\\|\\cdot\\|_{1}$ as defined satisfies the triangle inequality. Let $v=\\left[\\begin{array}{cccc} v_{1} & v_{2} & \\ldots & v_{n} \\end{array} \\right]$ and $w=\\left[\\begin{array}{cccc} w_{1} & w_{2} & \\ldots & w_{n} \\end{array} \\right]$ be vectors in $\\mathbb{R}^n$, then \n",
    "\n",
    "$$v + w = \\left[\\begin{array}{cccc} v_{1} + w_{1} & v_{2} + w_{2} & \\ldots & v_{n} + w_{n} \\end{array} \\right].$$"
   ]
  },
  {
   "cell_type": "markdown",
   "metadata": {},
   "source": [
    "Therefore, we have that \n",
    "\n",
    "$$\n",
    "\\begin{align*}\n",
    "\\|v + w\\|_{1} &= |v_{1}+w_{1}| + |v_{2}+w_{2}| + \\cdots + |v_{n}+w_{n}| \\\\\n",
    "&\\leq |v_{1}| + |w_{1}| + |v_{2}| + |w_{2}| + \\cdots + |v_{n}| + |w_{n}| \\\\\n",
    "&= |v_{1}| + |v_{2}| + \\cdots + |v_{n}| + |w_{1}| + |w_{2}| + \\cdots |w_{n}| \\\\\n",
    "&= \\|v\\|_{1} + \\|w\\|_{1}\n",
    "\\end{align*}\n",
    "$$"
   ]
  },
  {
   "cell_type": "markdown",
   "metadata": {},
   "source": [
    "Given a vector space $V$, a norm $\\|\\cdot \\|$ on $V$, and two vectors $v,w\\in V$, we say that $v$ and $w$ are \"close\" if for some small positive number $\\epsilon$ we have $\\|v-w\\| < \\epsilon$.  "
   ]
  },
  {
   "cell_type": "markdown",
   "metadata": {},
   "source": [
    "**Example:** Let $\\delta > 0$ be a small positive number. Then the vectors $v=\\left[\\begin{array}{cc} 2+\\delta & -1 \\end{array}\\right]^T$ and $w=\\left[\\begin{array}{cc} 2 & -1 \\end{array} \\right]^T$ in $\\mathbb{R}^2$ are close in the one norm $\\|\\cdot\\|_{1}$. Let's confirm this. \n",
    "\n",
    "$$\n",
    "\\begin{align*}\n",
    "\\|v-w\\|_{1} &= \\left\\|\\left[\\begin{array}{cc} 2+\\delta & -1 \\end{array}\\right]^T - \\left[\\begin{array}{cc} 2 & -1 \\end{array}\\right]^T\\right\\|_{1} \\\\\n",
    "&= \\left\\|\\left[\\begin{array}{cc} \\delta & 0 \\end{array}\\right]^T \\right\\|_{1} \\\\\n",
    "&= |\\delta| + |0| \\\\\n",
    "&= \\delta\n",
    "\\end{align*}\n",
    "$$\n",
    "\n",
    "Thus, if we take $\\epsilon = \\delta$ this confirms that there is a small positive number $\\epsilon$ such that $\\|v-w\\| < \\epsilon$."
   ]
  },
  {
   "cell_type": "markdown",
   "metadata": {},
   "source": [
    "**Exercise** Is it the case that $v=\\left[\\begin{array}{cc} 2+\\delta & -1 \\end{array}\\right]^T$ and $w=\\left[\\begin{array}{cc} 2 & -1 \\end{array} \\right]^T$ in $\\mathbb{R}^2$ are close in the two norm $\\|\\cdot\\|_{1}$? What about the infinity norm? "
   ]
  },
  {
   "cell_type": "markdown",
   "metadata": {},
   "source": [
    "We say that a sequence of vectors $\\{v_{k}\\}$ converges to a vector $v$ in the norm $\\|\\cdot \\|$ if\n",
    "\n",
    "$$\\lim_{k\\rightarrow \\infty}\\|v_{k} - v\\| = 0.$$"
   ]
  },
  {
   "cell_type": "markdown",
   "metadata": {},
   "source": [
    "**Example:** For each positive integer $k$, let $v_{k}=\\left[\\begin{array}{ccc} \\frac{1}{k} & \\frac{2}{k^2} & \\frac{3}{k^3} \\end{array}\\right]^T$ be a vector in $\\mathbb{R}^3$. We claim that the sequence of vectors $\\{v_{k}\\}$ converges to the zero vector $0 = \\left[\\begin{array}{ccc} 0 & 0 & 0 \\end{array}\\right]^T$ in the infinity norm. We will prove this but first let's use Julia to compute the first several terms in the sequence $\\{v_{k}\\}$."
   ]
  },
  {
   "cell_type": "code",
   "execution_count": 6,
   "metadata": {},
   "outputs": [
    {
     "name": "stdout",
     "output_type": "stream",
     "text": [
      "v_1= [1.0, 2.0, 3.0]\n",
      "v_2 = [0.5, 0.5, 0.375]\n",
      "v_3 = [0.3333333333333333, 0.2222222222222222, 0.1111111111111111]\n",
      "v_4 = [0.25, 0.125, 0.046875]\n",
      "v_5 = [0.2, 0.08, 0.024]\n"
     ]
    }
   ],
   "source": [
    "v_seq(k) = [1/k,2/k^2,3/k^3];\n",
    "println(\"v_1= \",v_seq(1))\n",
    "println(\"v_2 = \",v_seq(2))\n",
    "println(\"v_3 = \",v_seq(3))\n",
    "println(\"v_4 = \",v_seq(4))\n",
    "println(\"v_5 = \",v_seq(5))"
   ]
  },
  {
   "cell_type": "markdown",
   "metadata": {},
   "source": [
    "What do you observe from our calculation in Julia? To prove our claim, first notice that for each $k$, we have that\n",
    "\n",
    "$$\n",
    "\\begin{align*}\n",
    "\\|v_{k} - 0\\|_{\\infty} &= \\|v_{k}\\|_{\\infty} \\\\\n",
    "&= \\max\\left\\{\\left|\\frac{1}{k}\\right|,\\left|\\frac{2}{k^2}\\right|,\\left|\\frac{3}{k^3}\\right|\\right\\}\n",
    "\\end{align*}\n",
    "$$\n",
    "\n",
    "and $\\max\\left\\{\\left|\\frac{1}{k}\\right|,\\left|\\frac{2}{k^2}\\right|,\\left|\\frac{3}{k^3}\\right|\\right\\} = \\frac{1}{k}$ provided $k \\geq 3$. Therefore\n",
    "\n",
    "$$\\lim_{k\\rightarrow \\infty}\\|v_{k} - 0\\|_{\\infty} = \\lim_{k\\rightarrow \\infty}\\frac{1}{k} = 0.$$"
   ]
  },
  {
   "cell_type": "markdown",
   "metadata": {},
   "source": [
    "**Question:** Do you think that the sequence $\\{v_{k}\\}$ with $v_{k}=\\left[\\begin{array}{ccc} \\frac{1}{k} & \\frac{2}{k^2} & \\frac{3}{k^3} \\end{array}\\right]^T$ converges to the zero vector in the two norm? What about the infinity norm? "
   ]
  },
  {
   "cell_type": "markdown",
   "metadata": {},
   "source": [
    "The following fact is true although a proof is beyond the scope of this course:\n",
    "\n",
    "> In a finite-dimensional vector space, convergence in any norm implies convergence in all norms. "
   ]
  },
  {
   "cell_type": "markdown",
   "metadata": {},
   "source": [
    "In the next lecture, we will define norms on matrices. "
   ]
  }
 ],
 "metadata": {
  "kernelspec": {
   "display_name": "Julia 1.6.2",
   "language": "julia",
   "name": "julia-1.6"
  },
  "language_info": {
   "file_extension": ".jl",
   "mimetype": "application/julia",
   "name": "julia",
   "version": "1.6.2"
  }
 },
 "nbformat": 4,
 "nbformat_minor": 4
}
