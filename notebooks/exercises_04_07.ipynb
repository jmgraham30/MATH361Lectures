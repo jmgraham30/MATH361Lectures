{
 "cells": [
  {
   "cell_type": "code",
   "execution_count": 1,
   "id": "c95b8f5c",
   "metadata": {},
   "outputs": [
    {
     "data": {
      "text/plain": [
       "find_root (generic function with 1 method)"
      ]
     },
     "execution_count": 1,
     "metadata": {},
     "output_type": "execute_result"
    }
   ],
   "source": [
    "function find_root(a_val,N,x0)\n",
    "    for i=1:N\n",
    "        x0 = 0.5*(x0 + a_val/x0)\n",
    "    end\n",
    "    return x0\n",
    "end"
   ]
  },
  {
   "cell_type": "code",
   "execution_count": 28,
   "id": "8fd09999",
   "metadata": {},
   "outputs": [
    {
     "data": {
      "text/plain": [
       "5.202397806224422"
      ]
     },
     "execution_count": 28,
     "metadata": {},
     "output_type": "execute_result"
    }
   ],
   "source": [
    "a_val = 27\n",
    "N_its = 3\n",
    "init_guess = 2.25\n",
    "root_approx = find_root(a_val,N_its,init_guess)"
   ]
  },
  {
   "cell_type": "code",
   "execution_count": 29,
   "id": "a7dd5e0f",
   "metadata": {},
   "outputs": [
    {
     "data": {
      "text/plain": [
       "1.886438097596865"
      ]
     },
     "execution_count": 29,
     "metadata": {},
     "output_type": "execute_result"
    }
   ],
   "source": [
    "aac_digs = -log10(abs(a_val - root_approx^2)/abs(5))"
   ]
  },
  {
   "cell_type": "code",
   "execution_count": 30,
   "id": "f51e9bfd",
   "metadata": {},
   "outputs": [
    {
     "data": {
      "text/plain": [
       "5.196152422706632"
      ]
     },
     "execution_count": 30,
     "metadata": {},
     "output_type": "execute_result"
    }
   ],
   "source": [
    "sqrt(a_val)"
   ]
  },
  {
   "cell_type": "code",
   "execution_count": null,
   "id": "43aadf98",
   "metadata": {},
   "outputs": [],
   "source": []
  }
 ],
 "metadata": {
  "kernelspec": {
   "display_name": "Julia 1.6.2",
   "language": "julia",
   "name": "julia-1.6"
  },
  "language_info": {
   "file_extension": ".jl",
   "mimetype": "application/julia",
   "name": "julia",
   "version": "1.6.2"
  }
 },
 "nbformat": 4,
 "nbformat_minor": 5
}
