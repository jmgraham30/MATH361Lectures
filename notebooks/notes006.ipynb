{
 "cells": [
  {
   "cell_type": "code",
   "execution_count": 1,
   "metadata": {
    "slideshow": {
     "slide_type": "slide"
    }
   },
   "outputs": [],
   "source": [
    "using DrWatson;\n",
    "@quickactivate \"MATH361Lectures\"\n",
    "using LinearAlgebra;\n",
    "import MATH361Lectures;"
   ]
  },
  {
   "cell_type": "markdown",
   "metadata": {
    "slideshow": {
     "slide_type": "slide"
    }
   },
   "source": [
    "# LU Factorization "
   ]
  },
  {
   "cell_type": "markdown",
   "metadata": {
    "slideshow": {
     "slide_type": "slide"
    }
   },
   "source": [
    "Consider a general square linear system, that is,  $Ax=b$ with $A$ an $n\\times n$ matrix. In these notes we will finally show that it is often possible to factorize $A$ as $A=LU$ with $L$ lower triangular and $U$ upper triangular. As we previously pointed out, this provides a method for solving $Ax=b$ since we can use the factorization $A=LU$, that is, the so-called **LU factorization** of $A$ to solve the linear system by splitting $Ax=LUx = b$ into two subsystems as follows:\n",
    "\n",
    "1. $Ly=b$ which has solution $y=L^{-1}b$ (in practice obtained via forward substitution), and\n",
    "  \n",
    "2. $Ux=y$ which has solution $x=U^{-1}y=U^{-1}L^{-1}b$ (in practice obtained via backward substitution).\n",
    "\n",
    "Furthermore, we will see that $LU$ factorization arises from, and is in fact equivalent to, Gaussian elimination. It is suggested that you watch the lecture video on [LU factorization](https://www.youtube.com/watch?v=aFbjNVZNYYk&list=PLvUvOH0OYx3BcZivtXMIwP6hKoYv0YvGn&index=8) to supplement this lecture."
   ]
  },
  {
   "cell_type": "markdown",
   "metadata": {
    "slideshow": {
     "slide_type": "slide"
    }
   },
   "source": [
    "## The Algebra of Gaussian Elimination"
   ]
  },
  {
   "cell_type": "markdown",
   "metadata": {
    "slideshow": {
     "slide_type": "slide"
    }
   },
   "source": [
    "By now you should be well aware of the fact that Gaussian elimination involves using the three elementary row operations to row reduce a matrix to [row echelon form](https://en.wikipedia.org/wiki/Row_echelon_form). Applying row reduction to an augmented matrix is one way to solve a system of linear equations. What might be less familiar is the fact that the elementary row operations may be carried out via matrix multiplication. "
   ]
  },
  {
   "cell_type": "markdown",
   "metadata": {
    "slideshow": {
     "slide_type": "slide"
    }
   },
   "source": [
    "Specifically, \n",
    "\n",
    "1. Multiplying a matrix $A$ on the left by a matrix $M$ (*i.e*, forming $MA$) where $M$ is the identity matrix but with $M_{ii}=\\alpha$ has the result of multiplying row $i$ of $A$ by $\\alpha$.\n",
    "\n",
    "2. Multiplying a matrix $A$ on the left by a matrix $P$ (*i.e*, forming $PA$) where $P$ is obtained by interchanging rows $i$ and $j$ of the identity matrix has the result of swapping rows $i$ and $j$ of $A$. (We note that such a matrix $P$ is called a permutation matrix. A permutation matrix has exactly one nonzero entry equal to 1 in each row and column. The inverse of a permutation matrix is its transpose.)\n",
    "\n",
    "3. Multiplying $A$ on the left by a matrix $I+\\alpha e_{j}e_{i}^{T}$ (*i.e.*, forming $(I+\\alpha e_{j}e_{i}^{T})A$), where $e_{k}$ denotes the $k$-th column of the identity matrix, has the result of adding $\\alpha$ times row $i$ of $A$ to row $j$ of $A$. We will show that the inverse of $I+\\alpha e_{j}e_{i}^{T}$ is $I-\\alpha e_{j}e_{i}^{T}$. Observe that each of the matrices $I+\\alpha e_{j}e_{i}^{T}$ will have each entry of the main diagonal equal to 1. \n",
    "\n",
    "We will derive the results stated in 3. while you will be asked ot verify the results stated in 1. and 2. in the homework exercises. "
   ]
  },
  {
   "cell_type": "markdown",
   "metadata": {
    "slideshow": {
     "slide_type": "slide"
    }
   },
   "source": [
    "Let's illustrate statements 1. and 2. using Julia functions stored in the file [`MATH361Lectures.jl`](https://github.com/jmgraham30/MATH361Lectures/blob/master/src/MATH361Lectures.jl). "
   ]
  },
  {
   "cell_type": "code",
   "execution_count": 2,
   "metadata": {
    "slideshow": {
     "slide_type": "slide"
    }
   },
   "outputs": [
    {
     "data": {
      "text/plain": [
       "3×3 Matrix{Float64}:\n",
       " -1.0   2.0  -5.0\n",
       "  3.0  -2.0   2.0\n",
       " -1.0   4.0   1.0"
      ]
     },
     "execution_count": 2,
     "metadata": {},
     "output_type": "execute_result"
    }
   ],
   "source": [
    "A = [-1.0 2.0 -5.0;3.0 -2.0 2.0;-1.0 4.0 1.0]"
   ]
  },
  {
   "cell_type": "markdown",
   "metadata": {
    "slideshow": {
     "slide_type": "slide"
    }
   },
   "source": [
    "Suppose that we want to multiply row 2 of $A$ by $-2$. Then we do as follows:"
   ]
  },
  {
   "cell_type": "code",
   "execution_count": 3,
   "metadata": {
    "slideshow": {
     "slide_type": "slide"
    }
   },
   "outputs": [
    {
     "data": {
      "text/plain": [
       "3×3 Matrix{Float64}:\n",
       " 1.0   0.0  0.0\n",
       " 0.0  -2.0  0.0\n",
       " 0.0   0.0  1.0"
      ]
     },
     "execution_count": 3,
     "metadata": {},
     "output_type": "execute_result"
    }
   ],
   "source": [
    "M = MATH361Lectures.rowmultmat(2,-2.0,3) # construct an appropriate M"
   ]
  },
  {
   "cell_type": "code",
   "execution_count": 4,
   "metadata": {
    "slideshow": {
     "slide_type": "slide"
    }
   },
   "outputs": [
    {
     "data": {
      "text/plain": [
       "3×3 Matrix{Float64}:\n",
       " -1.0  2.0  -5.0\n",
       " -6.0  4.0  -4.0\n",
       " -1.0  4.0   1.0"
      ]
     },
     "execution_count": 4,
     "metadata": {},
     "output_type": "execute_result"
    }
   ],
   "source": [
    "M*A # compute M times A"
   ]
  },
  {
   "cell_type": "markdown",
   "metadata": {
    "slideshow": {
     "slide_type": "slide"
    }
   },
   "source": [
    "Now suppose that we want to swap the first and third rows of $A$. "
   ]
  },
  {
   "cell_type": "code",
   "execution_count": 5,
   "metadata": {
    "slideshow": {
     "slide_type": "slide"
    }
   },
   "outputs": [
    {
     "data": {
      "text/plain": [
       "3×3 Matrix{Float64}:\n",
       " 0.0  0.0  1.0\n",
       " 0.0  1.0  0.0\n",
       " 1.0  0.0  0.0"
      ]
     },
     "execution_count": 5,
     "metadata": {},
     "output_type": "execute_result"
    }
   ],
   "source": [
    "P = MATH361Lectures.rowswapmat(3,1,3) # construct an appropriate P"
   ]
  },
  {
   "cell_type": "code",
   "execution_count": 6,
   "metadata": {
    "slideshow": {
     "slide_type": "slide"
    }
   },
   "outputs": [
    {
     "data": {
      "text/plain": [
       "3×3 Matrix{Float64}:\n",
       " -1.0   4.0   1.0\n",
       "  3.0  -2.0   2.0\n",
       " -1.0   2.0  -5.0"
      ]
     },
     "execution_count": 6,
     "metadata": {},
     "output_type": "execute_result"
    }
   ],
   "source": [
    "P*A # compute P times A"
   ]
  },
  {
   "cell_type": "markdown",
   "metadata": {
    "slideshow": {
     "slide_type": "slide"
    }
   },
   "source": [
    "The matrix $P$ is an example of a so-called **permutation matrix**. We will discuss such matrices in greater detail later. For now, note that an important characteristic of permutatoin matrices is that the transpose of a permutation matrix is its inverse. Let's illustrate the inverse property of our permutation matrix $P$. "
   ]
  },
  {
   "cell_type": "code",
   "execution_count": 7,
   "metadata": {
    "slideshow": {
     "slide_type": "slide"
    }
   },
   "outputs": [
    {
     "data": {
      "text/plain": [
       "3×3 Matrix{Float64}:\n",
       " 1.0  0.0  0.0\n",
       " 0.0  1.0  0.0\n",
       " 0.0  0.0  1.0"
      ]
     },
     "execution_count": 7,
     "metadata": {},
     "output_type": "execute_result"
    }
   ],
   "source": [
    "P*P'"
   ]
  },
  {
   "cell_type": "code",
   "execution_count": 8,
   "metadata": {
    "slideshow": {
     "slide_type": "slide"
    }
   },
   "outputs": [
    {
     "data": {
      "text/plain": [
       "3×3 Matrix{Float64}:\n",
       " 1.0  0.0  0.0\n",
       " 0.0  1.0  0.0\n",
       " 0.0  0.0  1.0"
      ]
     },
     "execution_count": 8,
     "metadata": {},
     "output_type": "execute_result"
    }
   ],
   "source": [
    "P'*P"
   ]
  },
  {
   "cell_type": "markdown",
   "metadata": {
    "slideshow": {
     "slide_type": "slide"
    }
   },
   "source": [
    "Observe that in order to row reduce a matrix $A$ to an upper triangular matrix, it is only necessary to use operation 3. because the only thing we need to do is zero out all of the entries below the main diagonal. Thus, it is useful to have a Julia function that does this. We now present one:"
   ]
  },
  {
   "cell_type": "code",
   "execution_count": 9,
   "metadata": {
    "slideshow": {
     "slide_type": "slide"
    }
   },
   "outputs": [
    {
     "data": {
      "text/plain": [
       "rowopmat"
      ]
     },
     "execution_count": 9,
     "metadata": {},
     "output_type": "execute_result"
    }
   ],
   "source": [
    "\"\"\"\n",
    "    rowopmat(j,i,α,n)\n",
    "\n",
    "Constructs an \\$n \\\\times n\\$ matrix that upon left multiplication replaces row \n",
    "j of a matrix \\$A\\$ with α times row i plus row j.\n",
    "\n",
    "# Example\n",
    "```julia-repl\n",
    "julia> L12 = rowopmat(2,1,2.0,4)\n",
    "```\n",
    "\n",
    "\"\"\"\n",
    "function rowopmat(j,i,α,n)\n",
    "    In = Matrix{Float64}(I,n,n); # construct the n by n identity matrix\n",
    "    M = In + α*In[:,j]*In[:,i]'\n",
    "    return M\n",
    "end"
   ]
  },
  {
   "cell_type": "markdown",
   "metadata": {
    "slideshow": {
     "slide_type": "slide"
    }
   },
   "source": [
    "We note that the text between the pair of triple quotes preceding the function is called a docstring and it is the way that functions in Julia should be documented. Examine what happens if we call the help utility on the function `rowopmat`:"
   ]
  },
  {
   "cell_type": "code",
   "execution_count": 10,
   "metadata": {
    "slideshow": {
     "slide_type": "slide"
    }
   },
   "outputs": [
    {
     "name": "stdout",
     "output_type": "stream",
     "text": [
      "search: \u001b[0m\u001b[1mr\u001b[22m\u001b[0m\u001b[1mo\u001b[22m\u001b[0m\u001b[1mw\u001b[22m\u001b[0m\u001b[1mo\u001b[22m\u001b[0m\u001b[1mp\u001b[22m\u001b[0m\u001b[1mm\u001b[22m\u001b[0m\u001b[1ma\u001b[22m\u001b[0m\u001b[1mt\u001b[22m\n",
      "\n"
     ]
    },
    {
     "data": {
      "text/latex": [
       "\\begin{verbatim}\n",
       "rowopmat(j,i,α,n)\n",
       "\\end{verbatim}\n",
       "Constructs an $n \\times n$ matrix that upon left multiplication replaces row  j of a matrix $A$ with α times row i plus row j.\n",
       "\n",
       "\\section{Example}\n",
       "\\begin{verbatim}\n",
       "julia> L12 = rowopmat(2,1,2.0,4)\n",
       "\\end{verbatim}\n"
      ],
      "text/markdown": [
       "```\n",
       "rowopmat(j,i,α,n)\n",
       "```\n",
       "\n",
       "Constructs an $n \\times n$ matrix that upon left multiplication replaces row  j of a matrix $A$ with α times row i plus row j.\n",
       "\n",
       "# Example\n",
       "\n",
       "```julia-repl\n",
       "julia> L12 = rowopmat(2,1,2.0,4)\n",
       "```\n"
      ],
      "text/plain": [
       "\u001b[36m  rowopmat(j,i,α,n)\u001b[39m\n",
       "\n",
       "  Constructs an \u001b[35mn \\times n\u001b[39m matrix that upon left multiplication replaces row j\n",
       "  of a matrix \u001b[35mA\u001b[39m with α times row i plus row j.\n",
       "\n",
       "\u001b[1m  Example\u001b[22m\n",
       "\u001b[1m  ≡≡≡≡≡≡≡≡≡\u001b[22m\n",
       "\n",
       "\u001b[36m  julia> L12 = rowopmat(2,1,2.0,4)\u001b[39m"
      ]
     },
     "execution_count": 10,
     "metadata": {},
     "output_type": "execute_result"
    }
   ],
   "source": [
    "?rowopmat"
   ]
  },
  {
   "cell_type": "markdown",
   "metadata": {
    "slideshow": {
     "slide_type": "slide"
    }
   },
   "source": [
    "### Example"
   ]
  },
  {
   "cell_type": "code",
   "execution_count": 11,
   "metadata": {
    "slideshow": {
     "slide_type": "slide"
    }
   },
   "outputs": [
    {
     "data": {
      "text/plain": [
       "3×3 Matrix{Float64}:\n",
       " -1.0   2.0  1.0\n",
       "  3.0  -2.0  2.0\n",
       " -1.0   0.0  1.0"
      ]
     },
     "execution_count": 11,
     "metadata": {},
     "output_type": "execute_result"
    }
   ],
   "source": [
    "A = [-1.0 2.0 1.0;3.0 -2.0 2.0;-1.0 0.0 1.0]"
   ]
  },
  {
   "cell_type": "markdown",
   "metadata": {
    "slideshow": {
     "slide_type": "slide"
    }
   },
   "source": [
    "Suppose that we want to replace row 2 with 3 times row 1 plus row 2 in order to zero out the $(2,1)$ entry of $A$. Then we construct the matrix $I+3e_{2}e_{1}^{T}$ which is done using our Julia function as follows:"
   ]
  },
  {
   "cell_type": "code",
   "execution_count": 12,
   "metadata": {
    "slideshow": {
     "slide_type": "slide"
    }
   },
   "outputs": [
    {
     "data": {
      "text/plain": [
       "3×3 Matrix{Float64}:\n",
       " 1.0  0.0  0.0\n",
       " 3.0  1.0  0.0\n",
       " 0.0  0.0  1.0"
      ]
     },
     "execution_count": 12,
     "metadata": {},
     "output_type": "execute_result"
    }
   ],
   "source": [
    "L12 = rowopmat(2,1,3.0,3) # note that each diagonal entry is equal to 1"
   ]
  },
  {
   "cell_type": "code",
   "execution_count": 13,
   "metadata": {
    "slideshow": {
     "slide_type": "slide"
    }
   },
   "outputs": [
    {
     "data": {
      "text/plain": [
       "3×3 Matrix{Float64}:\n",
       " -1.0  2.0  1.0\n",
       "  0.0  4.0  5.0\n",
       " -1.0  0.0  1.0"
      ]
     },
     "execution_count": 13,
     "metadata": {},
     "output_type": "execute_result"
    }
   ],
   "source": [
    "L12*A # lef multiply A by L12"
   ]
  },
  {
   "cell_type": "markdown",
   "metadata": {
    "slideshow": {
     "slide_type": "slide"
    }
   },
   "source": [
    "Let's carry out the next step in row reduction:"
   ]
  },
  {
   "cell_type": "code",
   "execution_count": 14,
   "metadata": {
    "slideshow": {
     "slide_type": "slide"
    }
   },
   "outputs": [
    {
     "data": {
      "text/plain": [
       "3×3 Matrix{Float64}:\n",
       "  1.0  0.0  0.0\n",
       "  0.0  1.0  0.0\n",
       " -1.0  0.0  1.0"
      ]
     },
     "execution_count": 14,
     "metadata": {},
     "output_type": "execute_result"
    }
   ],
   "source": [
    "L13 = rowopmat(3,1,-1.0,3)"
   ]
  },
  {
   "cell_type": "markdown",
   "metadata": {
    "slideshow": {
     "slide_type": "slide"
    }
   },
   "source": [
    "Observe what happens if we consecutively multiply by a row operation matrices:"
   ]
  },
  {
   "cell_type": "code",
   "execution_count": 15,
   "metadata": {
    "slideshow": {
     "slide_type": "slide"
    }
   },
   "outputs": [
    {
     "data": {
      "text/plain": [
       "3×3 Matrix{Float64}:\n",
       " -1.0   2.0  1.0\n",
       "  0.0   4.0  5.0\n",
       "  0.0  -2.0  0.0"
      ]
     },
     "execution_count": 15,
     "metadata": {},
     "output_type": "execute_result"
    }
   ],
   "source": [
    "L13*L12*A"
   ]
  },
  {
   "cell_type": "markdown",
   "metadata": {
    "slideshow": {
     "slide_type": "slide"
    }
   },
   "source": [
    "Let's keep going we our row reduction:"
   ]
  },
  {
   "cell_type": "code",
   "execution_count": 16,
   "metadata": {
    "slideshow": {
     "slide_type": "slide"
    }
   },
   "outputs": [
    {
     "data": {
      "text/plain": [
       "3×3 Matrix{Float64}:\n",
       " 1.0  0.0  0.0\n",
       " 0.0  1.0  0.0\n",
       " 0.0  0.5  1.0"
      ]
     },
     "execution_count": 16,
     "metadata": {},
     "output_type": "execute_result"
    }
   ],
   "source": [
    "L23 = rowopmat(3,2,0.5,3)"
   ]
  },
  {
   "cell_type": "code",
   "execution_count": 17,
   "metadata": {
    "slideshow": {
     "slide_type": "subslide"
    }
   },
   "outputs": [
    {
     "data": {
      "text/plain": [
       "3×3 Matrix{Float64}:\n",
       " -1.0  2.0  1.0\n",
       "  0.0  4.0  5.0\n",
       "  0.0  0.0  2.5"
      ]
     },
     "execution_count": 17,
     "metadata": {},
     "output_type": "execute_result"
    }
   ],
   "source": [
    "L23*L13*L12*A"
   ]
  },
  {
   "cell_type": "markdown",
   "metadata": {
    "slideshow": {
     "slide_type": "slide"
    }
   },
   "source": [
    "We finally arrive at an upper triangular matrix $U$. What we have illustrated is that there exists a sequence of lower triangular matrices $L_{12}$, $L_{13}$, $L_{23}$ such that $L_{23}L_{13}L_{12}A = U$ where $U$ is uppper triangular. This turns out to be a general fact. Furthermore, we know how to invert each of these lower triangular matrices and their inverses are also lower triangular. So, if in our example we set $L=L_{12}^{-1}L_{13}^{-1}L_{23}^{-1}$ (note that the product of lower triangular matrices is a lower triangular matrix), then we have $LU = A$. This discussion illustrates the following important point:\n",
    "> **Gaussian elimination finds a unit lower triangular matrix $L$ and an upper triangular matrix $U$ such that $A=LU$.**"
   ]
  },
  {
   "cell_type": "markdown",
   "metadata": {
    "slideshow": {
     "slide_type": "slide"
    }
   },
   "source": [
    "Observe that a consequence of our development of the LU factorization of a matrix $A$ is that\n",
    "$$\n",
    "\\text{det}(A) = \\text{det}(LU) = \\text{det}(L)\\text{det}(U) = \\prod_{i=1}^{n}u_{ii},\n",
    "$$\n",
    "where we have used the facts that the determinant of a triangular matrix is the product of the diagonal entries and that the diagonal entries of $L$ are all equal to 1. You will verify these facts in the homework."
   ]
  },
  {
   "cell_type": "markdown",
   "metadata": {
    "slideshow": {
     "slide_type": "slide"
    }
   },
   "source": [
    "Let's take a moment to derive by hand on the board the following facts:\n",
    "\n",
    "1. Let $e_{k}$ denote the $k$-th column of the $n\\times n$ identity matrix. Then, for $i\\neq j$, we have that if $A$ is an $n\\times n$ matrix, $e_{j}e_{i}^{T}A$ results in an $n\\times n$ matrix where the $j$-th row is the $i$-th row of $A$ but every other entry is zero. From this, we can conclude that $\\alpha e_{j}e_{i}^{T}A$ results in an $n\\times n$ matrix where the $j$-th row is the $i$-th row of $A$ multiplied by $\\alpha$ but every other entry is zero. \n",
    "\n",
    "2. Each of the matrices $I+\\alpha e_{j}e_{i}^{T}$ is lower diagonal whenever $j > i$ and will have each entry of the main diagonal equal to 1. \n",
    "\n",
    "3. Multiplying $A$ on the left by a matrix $I+\\alpha e_{j}e_{i}^{T}$ (*i.e.*, forming $(I+\\alpha e_{j}e_{i}^{T})A$), where $e_{k}$ denotes the $k$-th column of the identity matrix, has the result of adding $\\alpha$ times row $i$ of $A$ to row $j$ of $A$.\n",
    "\n",
    "4. The inverse of $I+\\alpha e_{j}e_{i}^{T}$ is $I-\\alpha e_{j}e_{i}^{T}$. It is then clear that when $j > i$ the inverse of $I+\\alpha e_{j}e_{i}^{T}$ given by $I-\\alpha e_{j}e_{i}^{T}$ is lower triangular. "
   ]
  },
  {
   "cell_type": "markdown",
   "metadata": {
    "slideshow": {
     "slide_type": "slide"
    }
   },
   "source": [
    "With the previous facts established, let's do a computer example. We will obtain the LU factorization of \n",
    "$$\n",
    "A = \\left[\\begin{array}{ccc} -1.0 & 2.0 & 1.0 \\\\ 3.0 & -2.0 & 2.0\\\\ -1.0 & 0.0 & 1.0  \\end{array}\\right]\n",
    "$$"
   ]
  },
  {
   "cell_type": "code",
   "execution_count": 18,
   "metadata": {
    "slideshow": {
     "slide_type": "slide"
    }
   },
   "outputs": [],
   "source": [
    "L12inv = rowopmat(2,1,-3.0,3); # change the sign from 3 to -3\n",
    "L13inv = rowopmat(3,1,1.0,3);  # change the sign from -1 to 1\n",
    "L23inv = rowopmat(3,2,-0.5,3); # change the sign from 0.5 to -0.5\n",
    "L = L12inv*L13inv*L23inv;\n",
    "U = L23*L13*L12*A;"
   ]
  },
  {
   "cell_type": "code",
   "execution_count": 19,
   "metadata": {
    "slideshow": {
     "slide_type": "slide"
    }
   },
   "outputs": [
    {
     "data": {
      "text/plain": [
       "3×3 Matrix{Float64}:\n",
       "  1.0   0.0  0.0\n",
       " -3.0   1.0  0.0\n",
       "  1.0  -0.5  1.0"
      ]
     },
     "execution_count": 19,
     "metadata": {},
     "output_type": "execute_result"
    }
   ],
   "source": [
    "L"
   ]
  },
  {
   "cell_type": "code",
   "execution_count": 20,
   "metadata": {
    "slideshow": {
     "slide_type": "slide"
    }
   },
   "outputs": [
    {
     "data": {
      "text/plain": [
       "3×3 Matrix{Float64}:\n",
       " -1.0  2.0  1.0\n",
       "  0.0  4.0  5.0\n",
       "  0.0  0.0  2.5"
      ]
     },
     "execution_count": 20,
     "metadata": {},
     "output_type": "execute_result"
    }
   ],
   "source": [
    "U"
   ]
  },
  {
   "cell_type": "code",
   "execution_count": 21,
   "metadata": {
    "slideshow": {
     "slide_type": "slide"
    }
   },
   "outputs": [
    {
     "data": {
      "text/plain": [
       "3×3 Matrix{Float64}:\n",
       " -1.0   2.0  1.0\n",
       "  3.0  -2.0  2.0\n",
       " -1.0   0.0  1.0"
      ]
     },
     "execution_count": 21,
     "metadata": {},
     "output_type": "execute_result"
    }
   ],
   "source": [
    "L*U"
   ]
  },
  {
   "cell_type": "code",
   "execution_count": 22,
   "metadata": {
    "slideshow": {
     "slide_type": "slide"
    }
   },
   "outputs": [
    {
     "data": {
      "text/plain": [
       "3×3 Matrix{Float64}:\n",
       " 0.0  0.0  0.0\n",
       " 0.0  0.0  0.0\n",
       " 0.0  0.0  0.0"
      ]
     },
     "execution_count": 22,
     "metadata": {},
     "output_type": "execute_result"
    }
   ],
   "source": [
    "A - L*U"
   ]
  },
  {
   "cell_type": "markdown",
   "metadata": {
    "slideshow": {
     "slide_type": "slide"
    }
   },
   "source": [
    "Let's demonstrate the determinant property of LU factorization that we pointed out previously:"
   ]
  },
  {
   "cell_type": "code",
   "execution_count": 23,
   "metadata": {
    "slideshow": {
     "slide_type": "slide"
    }
   },
   "outputs": [
    {
     "name": "stdout",
     "output_type": "stream",
     "text": [
      "-9.999999999999998\n",
      "-10.0\n",
      "-10.0\n",
      "-10.0\n"
     ]
    }
   ],
   "source": [
    "println(det(A))\n",
    "println(det(L)*det(U))\n",
    "println(det(U))\n",
    "println(U[1,1]*U[2,2]*U[3,3])"
   ]
  },
  {
   "cell_type": "markdown",
   "metadata": {
    "slideshow": {
     "slide_type": "slide"
    }
   },
   "source": [
    "What we will do now is to use the ideas we have established so far to prove the existence of an LU factorization for a general nonsingular $n\\times n$ matrix and present an algorithm for LU factorization that can be implemented on a computer. "
   ]
  },
  {
   "cell_type": "markdown",
   "metadata": {
    "slideshow": {
     "slide_type": "slide"
    }
   },
   "source": [
    "## The LU Algorithm"
   ]
  },
  {
   "cell_type": "markdown",
   "metadata": {
    "slideshow": {
     "slide_type": "slide"
    }
   },
   "source": [
    "To reiterate:\n",
    "\n",
    "> **Gaussian elimination finds a unit lower triangular matrix $L$ and an upper triangular matrix $U$ such that $A=LU$.**\n",
    "\n",
    "However, we want to be able to find $L$ and $U$ directly without having to construct and multiply matrices. We show how to do this now"
   ]
  },
  {
   "cell_type": "markdown",
   "metadata": {
    "slideshow": {
     "slide_type": "slide"
    }
   },
   "source": [
    "The main idea is that, as we perform row operations on $A$, we are obtaining the entries for the upper triangular matrix $U$; and the multipliers used to zero out entries below the main diagonal form the entries below the main diagonal in the lower triangular matrix $L$. This allows us to derive an $LU$ algorithm which proceeds one column at a time."
   ]
  },
  {
   "cell_type": "markdown",
   "metadata": {
    "slideshow": {
     "slide_type": "slide"
    }
   },
   "source": [
    "The $LU$ algorith:\n",
    "\n",
    "Step 1: Fix apprpriate size $n$, copy $A$ and initialize $L$ as an $n\\times n$ identity matrix.\n",
    "\n",
    "Step 2: Set outer loop over columns and inner loop over rows that do the following:\n",
    "\n",
    "operate on column $j$ (for $j=1,\\ldots,n-1$) and row $i$ (for $i=j+1,\\ldots n$) to\n",
    "\n",
    "  i) place multiplier $\\frac{A_{ij}}{A_{jj}}$ in $L_{ij}$ entry\n",
    "  \n",
    "  ii) subtract $L_{ij}$ times row $j$ of $A$ from row $i$ of $A$ and update $A$, that is\n",
    "  \n",
    "  $$A_{i,j:n} = A_{i,j:n} - L_{ij}A_{j,j:n}$$\n",
    "  \n",
    " Step 3: Extract upper triangular part of updated $A$ to get $U$ \n",
    " \n",
    " Step 4: Return $L$ and $U$"
   ]
  },
  {
   "cell_type": "markdown",
   "metadata": {
    "slideshow": {
     "slide_type": "slide"
    }
   },
   "source": [
    "The following Julia function implements the LU factorization algorithm that we just derived. "
   ]
  },
  {
   "cell_type": "code",
   "execution_count": 24,
   "metadata": {
    "slideshow": {
     "slide_type": "slide"
    }
   },
   "outputs": [
    {
     "data": {
      "text/plain": [
       "lufact (generic function with 1 method)"
      ]
     },
     "execution_count": 24,
     "metadata": {},
     "output_type": "execute_result"
    }
   ],
   "source": [
    "\"\"\"\n",
    "    lufact(A)\n",
    "\n",
    "Constructs the LU factorization of a matrix \\$A\\$.\n",
    "\n",
    "# Example\n",
    "```julia-repl\n",
    "julia> A = [-1.0 2.0 1.0;3.0 -2.0 2.0;-1.0 0.0 1.0]\n",
    "julia> L,U = lufact(A)\n",
    "```\n",
    " \n",
    "\"\"\"\n",
    "\n",
    "function lufact(A)\n",
    "   n = size(A)[1];\n",
    "   Ac = copy(A);\n",
    "   L = Matrix{Float64}(I,n,n);\n",
    "   for j=1:n-1\n",
    "        for i=j+1:n\n",
    "            L[i,j] = Ac[i,j] / Ac[j,j];\n",
    "            Ac[i,j:n] = Ac[i,j:n] - L[i,j]*Ac[j,j:n];\n",
    "        end\n",
    "    end\n",
    "    U = triu(Ac);\n",
    "    return L, U\n",
    "end"
   ]
  },
  {
   "cell_type": "markdown",
   "metadata": {
    "slideshow": {
     "slide_type": "slide"
    }
   },
   "source": [
    "### Example"
   ]
  },
  {
   "cell_type": "code",
   "execution_count": 25,
   "metadata": {
    "slideshow": {
     "slide_type": "slide"
    }
   },
   "outputs": [],
   "source": [
    "L,U = lufact(A);"
   ]
  },
  {
   "cell_type": "code",
   "execution_count": 26,
   "metadata": {
    "slideshow": {
     "slide_type": "slide"
    }
   },
   "outputs": [
    {
     "data": {
      "text/plain": [
       "3×3 Matrix{Float64}:\n",
       "  1.0   0.0  0.0\n",
       " -3.0   1.0  0.0\n",
       "  1.0  -0.5  1.0"
      ]
     },
     "execution_count": 26,
     "metadata": {},
     "output_type": "execute_result"
    }
   ],
   "source": [
    "L"
   ]
  },
  {
   "cell_type": "code",
   "execution_count": 27,
   "metadata": {
    "slideshow": {
     "slide_type": "slide"
    }
   },
   "outputs": [
    {
     "data": {
      "text/plain": [
       "3×3 Matrix{Float64}:\n",
       " -1.0  2.0  1.0\n",
       "  0.0  4.0  5.0\n",
       "  0.0  0.0  2.5"
      ]
     },
     "execution_count": 27,
     "metadata": {},
     "output_type": "execute_result"
    }
   ],
   "source": [
    "U"
   ]
  },
  {
   "cell_type": "code",
   "execution_count": 28,
   "metadata": {
    "slideshow": {
     "slide_type": "slide"
    }
   },
   "outputs": [
    {
     "data": {
      "text/plain": [
       "3×3 Matrix{Float64}:\n",
       " -1.0   2.0  1.0\n",
       "  3.0  -2.0  2.0\n",
       " -1.0   0.0  1.0"
      ]
     },
     "execution_count": 28,
     "metadata": {},
     "output_type": "execute_result"
    }
   ],
   "source": [
    "L*U"
   ]
  },
  {
   "cell_type": "code",
   "execution_count": 29,
   "metadata": {
    "slideshow": {
     "slide_type": "slide"
    }
   },
   "outputs": [
    {
     "data": {
      "text/plain": [
       "3×3 Matrix{Float64}:\n",
       " 0.0  0.0  0.0\n",
       " 0.0  0.0  0.0\n",
       " 0.0  0.0  0.0"
      ]
     },
     "execution_count": 29,
     "metadata": {},
     "output_type": "execute_result"
    }
   ],
   "source": [
    "A - L*U"
   ]
  },
  {
   "cell_type": "markdown",
   "metadata": {
    "slideshow": {
     "slide_type": "slide"
    }
   },
   "source": [
    "### Using LU to Solve a Linear System"
   ]
  },
  {
   "cell_type": "code",
   "execution_count": 30,
   "metadata": {
    "slideshow": {
     "slide_type": "slide"
    }
   },
   "outputs": [
    {
     "data": {
      "text/plain": [
       "3-element Vector{Float64}:\n",
       " -1.0\n",
       "  1.0\n",
       "  2.0"
      ]
     },
     "execution_count": 30,
     "metadata": {},
     "output_type": "execute_result"
    }
   ],
   "source": [
    "b = [-1.0,1.0,2.0]"
   ]
  },
  {
   "cell_type": "code",
   "execution_count": 31,
   "metadata": {
    "slideshow": {
     "slide_type": "slide"
    }
   },
   "outputs": [],
   "source": [
    "y = MATH361Lectures.forwardsub(L,b);"
   ]
  },
  {
   "cell_type": "code",
   "execution_count": 32,
   "metadata": {
    "slideshow": {
     "slide_type": "slide"
    }
   },
   "outputs": [],
   "source": [
    "x = MATH361Lectures.backsub(U,y);"
   ]
  },
  {
   "cell_type": "code",
   "execution_count": 33,
   "metadata": {
    "slideshow": {
     "slide_type": "slide"
    }
   },
   "outputs": [
    {
     "data": {
      "text/plain": [
       "3-element Vector{Float64}:\n",
       " -1.2000000000000002\n",
       " -1.5\n",
       "  0.8"
      ]
     },
     "execution_count": 33,
     "metadata": {},
     "output_type": "execute_result"
    }
   ],
   "source": [
    "x"
   ]
  },
  {
   "cell_type": "code",
   "execution_count": 34,
   "metadata": {
    "slideshow": {
     "slide_type": "slide"
    }
   },
   "outputs": [
    {
     "data": {
      "text/plain": [
       "3-element Vector{Float64}:\n",
       " -0.9999999999999998\n",
       "  0.9999999999999996\n",
       "  2.0"
      ]
     },
     "execution_count": 34,
     "metadata": {},
     "output_type": "execute_result"
    }
   ],
   "source": [
    "A*x"
   ]
  },
  {
   "cell_type": "code",
   "execution_count": 35,
   "metadata": {
    "slideshow": {
     "slide_type": "slide"
    }
   },
   "outputs": [
    {
     "data": {
      "text/plain": [
       "3-element Vector{Float64}:\n",
       " -2.220446049250313e-16\n",
       "  4.440892098500626e-16\n",
       "  0.0"
      ]
     },
     "execution_count": 35,
     "metadata": {},
     "output_type": "execute_result"
    }
   ],
   "source": [
    "b - A*x"
   ]
  },
  {
   "cell_type": "markdown",
   "metadata": {},
   "source": [
    "We proved the existence of an $LU$ factorization whenever $A$ is a nonsingular square matrix. Another fact that we state without proof and will use later is that if $A$ is a nonsingular matrix, then the $LU$ factorization we derived is also unique. "
   ]
  },
  {
   "cell_type": "markdown",
   "metadata": {
    "slideshow": {
     "slide_type": "slide"
    }
   },
   "source": [
    "# Assessing LU Factorization \n",
    "\n",
    "In the next lecture, we will consider the efficiency and stability of LU factorization. In preparation for this, it is recommended that you watch the lecture videos on [operation counts](https://www.youtube.com/watch?v=FGfDHLpfkZo&list=PLvUvOH0OYx3BcZivtXMIwP6hKoYv0YvGn&index=9) and [pivoting](https://www.youtube.com/watch?v=mmoliBMaaQs&list=PLvUvOH0OYx3BcZivtXMIwP6hKoYv0YvGn&index=10). "
   ]
  }
 ],
 "metadata": {
  "celltoolbar": "Slideshow",
  "kernelspec": {
   "display_name": "Julia 1.6.2",
   "language": "julia",
   "name": "julia-1.6"
  },
  "language_info": {
   "file_extension": ".jl",
   "mimetype": "application/julia",
   "name": "julia",
   "version": "1.6.2"
  }
 },
 "nbformat": 4,
 "nbformat_minor": 4
}
