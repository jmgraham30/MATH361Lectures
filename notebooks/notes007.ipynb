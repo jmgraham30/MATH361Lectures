{
 "cells": [
  {
   "cell_type": "code",
   "execution_count": 1,
   "metadata": {},
   "outputs": [
    {
     "name": "stderr",
     "output_type": "stream",
     "text": [
      "┌ Info: Precompiling Plots [91a5bcdd-55d7-5caf-9e0b-520d859cae80]\n",
      "└ @ Base loading.jl:1317\n"
     ]
    }
   ],
   "source": [
    "using DrWatson;\n",
    "@quickactivate \"NumericalAnalysis\"\n",
    "using LinearAlgebra, DataFrames, Plots;\n",
    "import NumericalAnalysis;"
   ]
  },
  {
   "cell_type": "markdown",
   "metadata": {},
   "source": [
    "# Efficieny of Matrix Computations"
   ]
  },
  {
   "cell_type": "markdown",
   "metadata": {},
   "source": [
    "In this lecture, we will consider the efficiency of matrix computations such as forward and back substitution, and LU factorization. The lecture video on [operation counts](https://www.youtube.com/watch?v=FGfDHLpfkZo&list=PLvUvOH0OYx3BcZivtXMIwP6hKoYv0YvGn&index=9) compliments these notes. "
   ]
  },
  {
   "cell_type": "markdown",
   "metadata": {},
   "source": [
    "It is not really practical to try to predict exactly how long it will take a particular algorithm to solve a given problem even though this would be nice to know. On the other hand, it is fairly straightforward to obtain a good estimate of how the work required by an algorithm scales with the size of the problem. It should seem intuitively obvious that a larger linear system will require more work to solve than a smaller one will. Furthermore, you would probably guess that the amount of work will increase in a systematic way as the size of the problem increases.  "
   ]
  },
  {
   "cell_type": "markdown",
   "metadata": {},
   "source": [
    "The way that numerical analysts and computer scientists typically measure the work required to run a numerical algorithm is by counting the number of floating point operations ([FLOP](https://en.wikipedia.org/wiki/FLOPS)) required to compute with the algorithm. If you know about how long it takes to perform a floating point operation, then you can also compute the number of floating point operations per second (FLOPS).   "
   ]
  },
  {
   "cell_type": "markdown",
   "metadata": {},
   "source": [
    "## Asymptotic Estimation"
   ]
  },
  {
   "cell_type": "markdown",
   "metadata": {},
   "source": [
    "For two functions $f$ and $g$, we say that $f$ is \"[big-O](https://en.wikipedia.org/wiki/Big_O_notation)\" of $g$, and write $f = \\mathcal{O}(g)$,  if there exists a constant $C$ and an input value $x_{0}$ such $|f(x)| \\leq C|g(x)|$ for all $x\\geq x_{0}$. Notice that if $f = \\mathcal{O}(g)$, then \n",
    "\n",
    "$\\lim_{x\\rightarrow \\infty}\\frac{|f(x)|}{|g(x)|} \\leq C$. \n",
    "\n",
    "Likewise, if there is a positive constant $C$ such that \n",
    "\n",
    "$\\lim_{x\\rightarrow \\infty}\\frac{|f(x)|}{|g(x)|} = C$,\n",
    "\n",
    "then we must have that $f = \\mathcal{O}(g)$."
   ]
  },
  {
   "cell_type": "markdown",
   "metadata": {},
   "source": [
    "Furthermore, we say that a function $f$ is **asymptotic** to a function $g$, and write $f \\sim g$, if \n",
    "\n",
    "$\\lim_{x\\rightarrow \\infty}\\frac{|f(x)|}{|g(x)|} = 1$.\n",
    "\n",
    "Obviously $f \\sim g$ imples $f = \\mathcal{O}(g)$ but not necessarily the other way around.  "
   ]
  },
  {
   "cell_type": "markdown",
   "metadata": {},
   "source": [
    "**Example:**\n",
    "\n",
    "Let $f(x) = 3x^2 + 2x + 8$, and let $g(x) = 6x^2$. We have that \n",
    "\n",
    "$\\lim_{x \\rightarrow \\infty}\\frac{f(x)}{g(x)} = \\lim_{x \\rightarrow \\infty}\\frac{3x^2 + 2x + 8}{6x^2} = \\lim_{x \\rightarrow \\infty}\\frac{1 + \\frac{2}{3x} + \\frac{8}{3x^2}}{2} = \\frac{1}{2}$,\n",
    "\n",
    "so $f=\\mathcal{O}(g)$. "
   ]
  },
  {
   "cell_type": "markdown",
   "metadata": {},
   "source": [
    "More generally, if $f(x) = a_{n}x^{n}+a_{n-1}x^{n-1}+\\cdots +a_{1}x+a_{0}$ and $g=b_{n}x^{n}$ where both $a_{n}$ and $b_{n}$ are positive then $f=\\mathcal{O}(g)$ and $f\\sim g$ if and only if $\\frac{a_{n}}{b_{n}}=1$. "
   ]
  },
  {
   "cell_type": "markdown",
   "metadata": {},
   "source": [
    "One can also derive that if $f(x) = \\sin\\left(\\frac{1}{x}\\right)$, $g(x) = \\frac{1}{x}$, and $h(x) = \\frac{1}{x^2}$, then $f\\sim g$ but $f \\neq \\mathcal{O}(h)$."
   ]
  },
  {
   "cell_type": "markdown",
   "metadata": {},
   "source": [
    "## FLOP Counts"
   ]
  },
  {
   "cell_type": "markdown",
   "metadata": {},
   "source": [
    "When we compute, a single instance of any of the addition, subtraction, multiplication, or division of two numbers is considered one floating point operation (FLOP). In numerical linear algebra, one uses FLOP counts to assess the \"cost\" of the algorithm. Let's look at a very simple example.  "
   ]
  },
  {
   "cell_type": "markdown",
   "metadata": {},
   "source": [
    "Suppose that we want to compute the dot product of two vectors $x = \\left[\\begin{array}{cccc} x_{1} & x_{2} & \\cdots & x_{n}  \\end{array}\\right]^T$ and $y = \\left[\\begin{array}{cccc} y_{1} & y_{2} & \\cdots & y_{n}  \\end{array}\\right]^T$, recall this is defined to be\n",
    "\n",
    "$x\\cdot y = x_{1}y_{1} + x_{2}y_{2} + \\cdots + x_{n}y_{n} = \\sum_{i=1}^{n}x_{i}y_{i}$."
   ]
  },
  {
   "cell_type": "markdown",
   "metadata": {},
   "source": [
    "In terms of the number **mathematical** operations in the definition of the dot product, there are $n$ multiplications and $n-1$ additions for a total of $n + (n-1) = 2n-1$ operations. It is important to realize however that a numerical algorithm might perform a different number of floating point operations than appear in an abstract mathematical definition. For example, the next function named `mydotproduct` implements a computer algorithm for computing the dot product. "
   ]
  },
  {
   "cell_type": "code",
   "execution_count": 2,
   "metadata": {},
   "outputs": [
    {
     "data": {
      "text/plain": [
       "mydotproduct (generic function with 1 method)"
      ]
     },
     "execution_count": 2,
     "metadata": {},
     "output_type": "execute_result"
    }
   ],
   "source": [
    "function mydotproduct(x,y)\n",
    "    n = length(x);\n",
    "    z = 0.0;\n",
    "    for i=1:n # loop n times\n",
    "        z = z + x[i]*y[i]; # 1 addition + 1 multiplication = 2 operations\n",
    "    end \n",
    "    return z\n",
    "end"
   ]
  },
  {
   "cell_type": "code",
   "execution_count": 3,
   "metadata": {},
   "outputs": [
    {
     "data": {
      "text/plain": [
       "7.0"
      ]
     },
     "execution_count": 3,
     "metadata": {},
     "output_type": "execute_result"
    }
   ],
   "source": [
    "# An example use of mydotproduct\n",
    "x = [1.0,1.0,2.0];\n",
    "y = [-1.0,2.0,3.0];\n",
    "z = mydotproduct(x,y)"
   ]
  },
  {
   "cell_type": "markdown",
   "metadata": {},
   "source": [
    "Compare this last result with what we get when we use the `dot` function in Julia."
   ]
  },
  {
   "cell_type": "code",
   "execution_count": 4,
   "metadata": {},
   "outputs": [
    {
     "data": {
      "text/plain": [
       "7.0"
      ]
     },
     "execution_count": 4,
     "metadata": {},
     "output_type": "execute_result"
    }
   ],
   "source": [
    "dot(x,y)"
   ]
  },
  {
   "cell_type": "markdown",
   "metadata": {},
   "source": [
    "Each time through the loop we carry out two floating point operations and we go through the loop $n$ times for a total of $2n$ FLOPs. **Note:** the extra operation really comes from the need to store the result. Furthermore, since the first time through the loop we are really adding zero we could ignore the initial addition. However, the result producs the same asymptotic estimate since both $2n$ and $2n-1$ are $\\mathcal{O}(n)$.  "
   ]
  },
  {
   "cell_type": "markdown",
   "metadata": {},
   "source": [
    "In Julia, we can use the `@elapsed` macro to see how long it takes for a program to run. Let's compute this time for the dot product algorithm for several different sizes of vectors. "
   ]
  },
  {
   "cell_type": "code",
   "execution_count": 5,
   "metadata": {},
   "outputs": [
    {
     "data": {
      "text/html": [
       "<table class=\"data-frame\"><thead><tr><th></th><th>size</th><th>time</th></tr><tr><th></th><th>Int64</th><th>Float64</th></tr></thead><tbody><p>10 rows × 2 columns</p><tr><th>1</th><td>400</td><td>8.736e-6</td></tr><tr><th>2</th><td>800</td><td>5.339e-6</td></tr><tr><th>3</th><td>1200</td><td>7.107e-6</td></tr><tr><th>4</th><td>1600</td><td>9.429e-6</td></tr><tr><th>5</th><td>2000</td><td>1.1322e-5</td></tr><tr><th>6</th><td>2400</td><td>1.3498e-5</td></tr><tr><th>7</th><td>2800</td><td>1.5333e-5</td></tr><tr><th>8</th><td>3200</td><td>1.7476e-5</td></tr><tr><th>9</th><td>3600</td><td>2.3023e-5</td></tr><tr><th>10</th><td>4000</td><td>2.176e-5</td></tr></tbody></table>"
      ],
      "text/latex": [
       "\\begin{tabular}{r|cc}\n",
       "\t& size & time\\\\\n",
       "\t\\hline\n",
       "\t& Int64 & Float64\\\\\n",
       "\t\\hline\n",
       "\t1 & 400 & 8.736e-6 \\\\\n",
       "\t2 & 800 & 5.339e-6 \\\\\n",
       "\t3 & 1200 & 7.107e-6 \\\\\n",
       "\t4 & 1600 & 9.429e-6 \\\\\n",
       "\t5 & 2000 & 1.1322e-5 \\\\\n",
       "\t6 & 2400 & 1.3498e-5 \\\\\n",
       "\t7 & 2800 & 1.5333e-5 \\\\\n",
       "\t8 & 3200 & 1.7476e-5 \\\\\n",
       "\t9 & 3600 & 2.3023e-5 \\\\\n",
       "\t10 & 4000 & 2.176e-5 \\\\\n",
       "\\end{tabular}\n"
      ],
      "text/plain": [
       "\u001b[1m10×2 DataFrame\u001b[0m\n",
       "\u001b[1m Row \u001b[0m│\u001b[1m size  \u001b[0m\u001b[1m time      \u001b[0m\n",
       "\u001b[1m     \u001b[0m│\u001b[90m Int64 \u001b[0m\u001b[90m Float64   \u001b[0m\n",
       "─────┼──────────────────\n",
       "   1 │   400  8.736e-6\n",
       "   2 │   800  5.339e-6\n",
       "   3 │  1200  7.107e-6\n",
       "   4 │  1600  9.429e-6\n",
       "   5 │  2000  1.1322e-5\n",
       "   6 │  2400  1.3498e-5\n",
       "   7 │  2800  1.5333e-5\n",
       "   8 │  3200  1.7476e-5\n",
       "   9 │  3600  2.3023e-5\n",
       "  10 │  4000  2.176e-5"
      ]
     },
     "execution_count": 5,
     "metadata": {},
     "output_type": "execute_result"
    }
   ],
   "source": [
    "vect_sizes = 400:400:16000;\n",
    "dps = [@elapsed mydotproduct(randn(n),randn(n)) for n in vect_sizes];\n",
    "results = DataFrame(size=vect_sizes,time=dps);\n",
    "first(results,10)"
   ]
  },
  {
   "cell_type": "code",
   "execution_count": 6,
   "metadata": {},
   "outputs": [
    {
     "data": {
      "text/html": [
       "<table class=\"data-frame\"><thead><tr><th></th><th>size</th><th>time</th></tr><tr><th></th><th>Int64</th><th>Float64</th></tr></thead><tbody><p>10 rows × 2 columns</p><tr><th>1</th><td>12400</td><td>0.000128687</td></tr><tr><th>2</th><td>12800</td><td>0.000134135</td></tr><tr><th>3</th><td>13200</td><td>0.000138242</td></tr><tr><th>4</th><td>13600</td><td>0.000145184</td></tr><tr><th>5</th><td>14000</td><td>0.000144376</td></tr><tr><th>6</th><td>14400</td><td>0.000151752</td></tr><tr><th>7</th><td>14800</td><td>0.000153862</td></tr><tr><th>8</th><td>15200</td><td>0.000153991</td></tr><tr><th>9</th><td>15600</td><td>0.0002453</td></tr><tr><th>10</th><td>16000</td><td>0.000176181</td></tr></tbody></table>"
      ],
      "text/latex": [
       "\\begin{tabular}{r|cc}\n",
       "\t& size & time\\\\\n",
       "\t\\hline\n",
       "\t& Int64 & Float64\\\\\n",
       "\t\\hline\n",
       "\t1 & 12400 & 0.000128687 \\\\\n",
       "\t2 & 12800 & 0.000134135 \\\\\n",
       "\t3 & 13200 & 0.000138242 \\\\\n",
       "\t4 & 13600 & 0.000145184 \\\\\n",
       "\t5 & 14000 & 0.000144376 \\\\\n",
       "\t6 & 14400 & 0.000151752 \\\\\n",
       "\t7 & 14800 & 0.000153862 \\\\\n",
       "\t8 & 15200 & 0.000153991 \\\\\n",
       "\t9 & 15600 & 0.0002453 \\\\\n",
       "\t10 & 16000 & 0.000176181 \\\\\n",
       "\\end{tabular}\n"
      ],
      "text/plain": [
       "\u001b[1m10×2 DataFrame\u001b[0m\n",
       "\u001b[1m Row \u001b[0m│\u001b[1m size  \u001b[0m\u001b[1m time        \u001b[0m\n",
       "\u001b[1m     \u001b[0m│\u001b[90m Int64 \u001b[0m\u001b[90m Float64     \u001b[0m\n",
       "─────┼────────────────────\n",
       "   1 │ 12400  0.000128687\n",
       "   2 │ 12800  0.000134135\n",
       "   3 │ 13200  0.000138242\n",
       "   4 │ 13600  0.000145184\n",
       "   5 │ 14000  0.000144376\n",
       "   6 │ 14400  0.000151752\n",
       "   7 │ 14800  0.000153862\n",
       "   8 │ 15200  0.000153991\n",
       "   9 │ 15600  0.0002453\n",
       "  10 │ 16000  0.000176181"
      ]
     },
     "execution_count": 6,
     "metadata": {},
     "output_type": "execute_result"
    }
   ],
   "source": [
    "last(results,10)"
   ]
  },
  {
   "cell_type": "code",
   "execution_count": 7,
   "metadata": {},
   "outputs": [
    {
     "data": {
      "image/svg+xml": [
       "<?xml version=\"1.0\" encoding=\"utf-8\"?>\n",
       "<svg xmlns=\"http://www.w3.org/2000/svg\" xmlns:xlink=\"http://www.w3.org/1999/xlink\" width=\"600\" height=\"400\" viewBox=\"0 0 2400 1600\">\n",
       "<defs>\n",
       "  <clipPath id=\"clip740\">\n",
       "    <rect x=\"0\" y=\"0\" width=\"2400\" height=\"1600\"/>\n",
       "  </clipPath>\n",
       "</defs>\n",
       "<path clip-path=\"url(#clip740)\" d=\"\n",
       "M0 1600 L2400 1600 L2400 0 L0 0  Z\n",
       "  \" fill=\"#ffffff\" fill-rule=\"evenodd\" fill-opacity=\"1\"/>\n",
       "<defs>\n",
       "  <clipPath id=\"clip741\">\n",
       "    <rect x=\"480\" y=\"0\" width=\"1681\" height=\"1600\"/>\n",
       "  </clipPath>\n",
       "</defs>\n",
       "<path clip-path=\"url(#clip740)\" d=\"\n",
       "M313.626 1438.68 L2352.76 1438.68 L2352.76 123.472 L313.626 123.472  Z\n",
       "  \" fill=\"#ffffff\" fill-rule=\"evenodd\" fill-opacity=\"1\"/>\n",
       "<defs>\n",
       "  <clipPath id=\"clip742\">\n",
       "    <rect x=\"313\" y=\"123\" width=\"2040\" height=\"1316\"/>\n",
       "  </clipPath>\n",
       "</defs>\n",
       "<polyline clip-path=\"url(#clip742)\" style=\"stroke:#000000; stroke-width:2; stroke-opacity:0.1; fill:none\" points=\"\n",
       "  548.979,1438.68 548.979,123.472 \n",
       "  \"/>\n",
       "<polyline clip-path=\"url(#clip742)\" style=\"stroke:#000000; stroke-width:2; stroke-opacity:0.1; fill:none\" points=\"\n",
       "  849.172,1438.68 849.172,123.472 \n",
       "  \"/>\n",
       "<polyline clip-path=\"url(#clip742)\" style=\"stroke:#000000; stroke-width:2; stroke-opacity:0.1; fill:none\" points=\"\n",
       "  1149.36,1438.68 1149.36,123.472 \n",
       "  \"/>\n",
       "<polyline clip-path=\"url(#clip742)\" style=\"stroke:#000000; stroke-width:2; stroke-opacity:0.1; fill:none\" points=\"\n",
       "  1449.56,1438.68 1449.56,123.472 \n",
       "  \"/>\n",
       "<polyline clip-path=\"url(#clip742)\" style=\"stroke:#000000; stroke-width:2; stroke-opacity:0.1; fill:none\" points=\"\n",
       "  1749.75,1438.68 1749.75,123.472 \n",
       "  \"/>\n",
       "<polyline clip-path=\"url(#clip742)\" style=\"stroke:#000000; stroke-width:2; stroke-opacity:0.1; fill:none\" points=\"\n",
       "  2049.94,1438.68 2049.94,123.472 \n",
       "  \"/>\n",
       "<polyline clip-path=\"url(#clip742)\" style=\"stroke:#000000; stroke-width:2; stroke-opacity:0.1; fill:none\" points=\"\n",
       "  2350.14,1438.68 2350.14,123.472 \n",
       "  \"/>\n",
       "<polyline clip-path=\"url(#clip740)\" style=\"stroke:#000000; stroke-width:4; stroke-opacity:1; fill:none\" points=\"\n",
       "  313.626,1438.68 2352.76,1438.68 \n",
       "  \"/>\n",
       "<polyline clip-path=\"url(#clip740)\" style=\"stroke:#000000; stroke-width:4; stroke-opacity:1; fill:none\" points=\"\n",
       "  548.979,1438.68 548.979,1422.89 \n",
       "  \"/>\n",
       "<polyline clip-path=\"url(#clip740)\" style=\"stroke:#000000; stroke-width:4; stroke-opacity:1; fill:none\" points=\"\n",
       "  849.172,1438.68 849.172,1422.89 \n",
       "  \"/>\n",
       "<polyline clip-path=\"url(#clip740)\" style=\"stroke:#000000; stroke-width:4; stroke-opacity:1; fill:none\" points=\"\n",
       "  1149.36,1438.68 1149.36,1422.89 \n",
       "  \"/>\n",
       "<polyline clip-path=\"url(#clip740)\" style=\"stroke:#000000; stroke-width:4; stroke-opacity:1; fill:none\" points=\"\n",
       "  1449.56,1438.68 1449.56,1422.89 \n",
       "  \"/>\n",
       "<polyline clip-path=\"url(#clip740)\" style=\"stroke:#000000; stroke-width:4; stroke-opacity:1; fill:none\" points=\"\n",
       "  1749.75,1438.68 1749.75,1422.89 \n",
       "  \"/>\n",
       "<polyline clip-path=\"url(#clip740)\" style=\"stroke:#000000; stroke-width:4; stroke-opacity:1; fill:none\" points=\"\n",
       "  2049.94,1438.68 2049.94,1422.89 \n",
       "  \"/>\n",
       "<polyline clip-path=\"url(#clip740)\" style=\"stroke:#000000; stroke-width:4; stroke-opacity:1; fill:none\" points=\"\n",
       "  2350.14,1438.68 2350.14,1422.89 \n",
       "  \"/>\n",
       "<path clip-path=\"url(#clip740)\" d=\"M 0 0 M483.879 1516.95 L491.518 1516.95 L491.518 1490.58 L483.208 1492.25 L483.208 1487.99 L491.472 1486.32 L496.147 1486.32 L496.147 1516.95 L503.786 1516.95 L503.786 1520.88 L483.879 1520.88 L483.879 1516.95 Z\" fill=\"#000000\" fill-rule=\"evenodd\" fill-opacity=\"1\" /><path clip-path=\"url(#clip740)\" d=\"M 0 0 M523.231 1489.4 Q519.62 1489.4 517.791 1492.97 Q515.985 1496.51 515.985 1503.64 Q515.985 1510.75 517.791 1514.31 Q519.62 1517.85 523.231 1517.85 Q526.865 1517.85 528.67 1514.31 Q530.499 1510.75 530.499 1503.64 Q530.499 1496.51 528.67 1492.97 Q526.865 1489.4 523.231 1489.4 M523.231 1485.7 Q529.041 1485.7 532.096 1490.31 Q535.175 1494.89 535.175 1503.64 Q535.175 1512.37 532.096 1516.97 Q529.041 1521.56 523.231 1521.56 Q517.421 1521.56 514.342 1516.97 Q511.286 1512.37 511.286 1503.64 Q511.286 1494.89 514.342 1490.31 Q517.421 1485.7 523.231 1485.7 Z\" fill=\"#000000\" fill-rule=\"evenodd\" fill-opacity=\"1\" /><path clip-path=\"url(#clip740)\" d=\"M 0 0 M539.745 1490.28 L553.005 1490.28 L553.005 1493.47 L535.175 1493.47 L535.175 1490.28 Q537.338 1488.04 541.062 1484.28 Q544.805 1480.5 545.764 1479.41 Q547.588 1477.36 548.303 1475.95 Q549.036 1474.52 549.036 1473.14 Q549.036 1470.9 547.457 1469.49 Q545.895 1468.08 543.375 1468.08 Q541.588 1468.08 539.595 1468.7 Q537.62 1469.32 535.363 1470.58 L535.363 1466.75 Q537.658 1465.83 539.651 1465.36 Q541.645 1464.89 543.3 1464.89 Q547.663 1464.89 550.259 1467.07 Q552.854 1469.25 552.854 1472.9 Q552.854 1474.63 552.196 1476.19 Q551.557 1477.73 549.845 1479.84 Q549.375 1480.38 546.855 1483 Q544.334 1485.59 539.745 1490.28 Z\" fill=\"#000000\" fill-rule=\"evenodd\" fill-opacity=\"1\" /><path clip-path=\"url(#clip740)\" d=\"M 0 0 M560.979 1488.7 L564.948 1488.7 L564.948 1493.47 L560.979 1493.47 L560.979 1488.7 Z\" fill=\"#000000\" fill-rule=\"evenodd\" fill-opacity=\"1\" /><path clip-path=\"url(#clip740)\" d=\"M 0 0 M572.264 1465.39 L590.319 1465.39 L590.319 1467.01 L580.126 1493.47 L576.157 1493.47 L585.749 1468.59 L572.264 1468.59 L572.264 1465.39 Z\" fill=\"#000000\" fill-rule=\"evenodd\" fill-opacity=\"1\" /><path clip-path=\"url(#clip740)\" d=\"M 0 0 M597.767 1465.39 L612.682 1465.39 L612.682 1468.59 L601.247 1468.59 L601.247 1475.47 Q602.074 1475.19 602.902 1475.06 Q603.729 1474.91 604.557 1474.91 Q609.259 1474.91 612.005 1477.49 Q614.751 1480.06 614.751 1484.46 Q614.751 1489 611.93 1491.52 Q609.108 1494.02 603.974 1494.02 Q602.206 1494.02 600.363 1493.72 Q598.538 1493.42 596.582 1492.82 L596.582 1489 Q598.275 1489.92 600.081 1490.37 Q601.886 1490.82 603.899 1490.82 Q607.152 1490.82 609.052 1489.11 Q610.952 1487.4 610.952 1484.46 Q610.952 1481.53 609.052 1479.82 Q607.152 1478.11 603.899 1478.11 Q602.375 1478.11 600.852 1478.45 Q599.347 1478.78 597.767 1479.5 L597.767 1465.39 Z\" fill=\"#000000\" fill-rule=\"evenodd\" fill-opacity=\"1\" /><path clip-path=\"url(#clip740)\" d=\"M 0 0 M783.724 1516.95 L791.363 1516.95 L791.363 1490.58 L783.053 1492.25 L783.053 1487.99 L791.316 1486.32 L795.992 1486.32 L795.992 1516.95 L803.631 1516.95 L803.631 1520.88 L783.724 1520.88 L783.724 1516.95 Z\" fill=\"#000000\" fill-rule=\"evenodd\" fill-opacity=\"1\" /><path clip-path=\"url(#clip740)\" d=\"M 0 0 M823.076 1489.4 Q819.464 1489.4 817.636 1492.97 Q815.83 1496.51 815.83 1503.64 Q815.83 1510.75 817.636 1514.31 Q819.464 1517.85 823.076 1517.85 Q826.71 1517.85 828.515 1514.31 Q830.344 1510.75 830.344 1503.64 Q830.344 1496.51 828.515 1492.97 Q826.71 1489.4 823.076 1489.4 M823.076 1485.7 Q828.886 1485.7 831.941 1490.31 Q835.02 1494.89 835.02 1503.64 Q835.02 1512.37 831.941 1516.97 Q828.886 1521.56 823.076 1521.56 Q817.265 1521.56 814.187 1516.97 Q811.131 1512.37 811.131 1503.64 Q811.131 1494.89 814.187 1490.31 Q817.265 1485.7 823.076 1485.7 Z\" fill=\"#000000\" fill-rule=\"evenodd\" fill-opacity=\"1\" /><path clip-path=\"url(#clip740)\" d=\"M 0 0 M847.715 1478.33 Q850.442 1478.92 851.966 1480.76 Q853.508 1482.6 853.508 1485.31 Q853.508 1489.47 850.649 1491.74 Q847.79 1494.02 842.524 1494.02 Q840.756 1494.02 838.876 1493.66 Q837.014 1493.32 835.02 1492.63 L835.02 1488.96 Q836.6 1489.88 838.481 1490.35 Q840.361 1490.82 842.411 1490.82 Q845.985 1490.82 847.847 1489.41 Q849.728 1488 849.728 1485.31 Q849.728 1482.83 847.978 1481.44 Q846.248 1480.03 843.145 1480.03 L839.872 1480.03 L839.872 1476.9 L843.295 1476.9 Q846.098 1476.9 847.584 1475.79 Q849.069 1474.67 849.069 1472.56 Q849.069 1470.4 847.527 1469.25 Q846.004 1468.08 843.145 1468.08 Q841.584 1468.08 839.797 1468.42 Q838.01 1468.76 835.866 1469.48 L835.866 1466.09 Q838.029 1465.49 839.91 1465.19 Q841.81 1464.89 843.483 1464.89 Q847.809 1464.89 850.329 1466.86 Q852.85 1468.82 852.85 1472.16 Q852.85 1474.5 851.514 1476.11 Q850.179 1477.71 847.715 1478.33 Z\" fill=\"#000000\" fill-rule=\"evenodd\" fill-opacity=\"1\" /><path clip-path=\"url(#clip740)\" d=\"M 0 0 M860.711 1488.7 L864.68 1488.7 L864.68 1493.47 L860.711 1493.47 L860.711 1488.7 Z\" fill=\"#000000\" fill-rule=\"evenodd\" fill-opacity=\"1\" /><path clip-path=\"url(#clip740)\" d=\"M 0 0 M881.08 1467.9 Q878.146 1467.9 876.66 1470.79 Q875.193 1473.67 875.193 1479.46 Q875.193 1485.24 876.66 1488.13 Q878.146 1491.01 881.08 1491.01 Q884.033 1491.01 885.5 1488.13 Q886.986 1485.24 886.986 1479.46 Q886.986 1473.67 885.5 1470.79 Q884.033 1467.9 881.08 1467.9 M881.08 1464.89 Q885.801 1464.89 888.284 1468.63 Q890.785 1472.35 890.785 1479.46 Q890.785 1486.55 888.284 1490.3 Q885.801 1494.02 881.08 1494.02 Q876.359 1494.02 873.858 1490.3 Q871.375 1486.55 871.375 1479.46 Q871.375 1472.35 873.858 1468.63 Q876.359 1464.89 881.08 1464.89 Z\" fill=\"#000000\" fill-rule=\"evenodd\" fill-opacity=\"1\" /><path clip-path=\"url(#clip740)\" d=\"M 0 0 M905.587 1467.9 Q902.653 1467.9 901.167 1470.79 Q899.7 1473.67 899.7 1479.46 Q899.7 1485.24 901.167 1488.13 Q902.653 1491.01 905.587 1491.01 Q908.539 1491.01 910.006 1488.13 Q911.492 1485.24 911.492 1479.46 Q911.492 1473.67 910.006 1470.79 Q908.539 1467.9 905.587 1467.9 M905.587 1464.89 Q910.307 1464.89 912.79 1468.63 Q915.291 1472.35 915.291 1479.46 Q915.291 1486.55 912.79 1490.3 Q910.307 1494.02 905.587 1494.02 Q900.866 1494.02 898.364 1490.3 Q895.882 1486.55 895.882 1479.46 Q895.882 1472.35 898.364 1468.63 Q900.866 1464.89 905.587 1464.89 Z\" fill=\"#000000\" fill-rule=\"evenodd\" fill-opacity=\"1\" /><path clip-path=\"url(#clip740)\" d=\"M 0 0 M1084.32 1516.95 L1091.96 1516.95 L1091.96 1490.58 L1083.65 1492.25 L1083.65 1487.99 L1091.91 1486.32 L1096.59 1486.32 L1096.59 1516.95 L1104.23 1516.95 L1104.23 1520.88 L1084.32 1520.88 L1084.32 1516.95 Z\" fill=\"#000000\" fill-rule=\"evenodd\" fill-opacity=\"1\" /><path clip-path=\"url(#clip740)\" d=\"M 0 0 M1123.67 1489.4 Q1120.06 1489.4 1118.23 1492.97 Q1116.43 1496.51 1116.43 1503.64 Q1116.43 1510.75 1118.23 1514.31 Q1120.06 1517.85 1123.67 1517.85 Q1127.31 1517.85 1129.11 1514.31 Q1130.94 1510.75 1130.94 1503.64 Q1130.94 1496.51 1129.11 1492.97 Q1127.31 1489.4 1123.67 1489.4 M1123.67 1485.7 Q1129.48 1485.7 1132.54 1490.31 Q1135.62 1494.89 1135.62 1503.64 Q1135.62 1512.37 1132.54 1516.97 Q1129.48 1521.56 1123.67 1521.56 Q1117.86 1521.56 1114.78 1516.97 Q1111.73 1512.37 1111.73 1503.64 Q1111.73 1494.89 1114.78 1490.31 Q1117.86 1485.7 1123.67 1485.7 Z\" fill=\"#000000\" fill-rule=\"evenodd\" fill-opacity=\"1\" /><path clip-path=\"url(#clip740)\" d=\"M 0 0 M1148.31 1478.33 Q1151.04 1478.92 1152.56 1480.76 Q1154.11 1482.6 1154.11 1485.31 Q1154.11 1489.47 1151.25 1491.74 Q1148.39 1494.02 1143.12 1494.02 Q1141.35 1494.02 1139.47 1493.66 Q1137.61 1493.32 1135.62 1492.63 L1135.62 1488.96 Q1137.2 1489.88 1139.08 1490.35 Q1140.96 1490.82 1143.01 1490.82 Q1146.58 1490.82 1148.44 1489.41 Q1150.32 1488 1150.32 1485.31 Q1150.32 1482.83 1148.58 1481.44 Q1146.85 1480.03 1143.74 1480.03 L1140.47 1480.03 L1140.47 1476.9 L1143.89 1476.9 Q1146.69 1476.9 1148.18 1475.79 Q1149.67 1474.67 1149.67 1472.56 Q1149.67 1470.4 1148.12 1469.25 Q1146.6 1468.08 1143.74 1468.08 Q1142.18 1468.08 1140.39 1468.42 Q1138.61 1468.76 1136.46 1469.48 L1136.46 1466.09 Q1138.63 1465.49 1140.51 1465.19 Q1142.41 1464.89 1144.08 1464.89 Q1148.41 1464.89 1150.93 1466.86 Q1153.45 1468.82 1153.45 1472.16 Q1153.45 1474.5 1152.11 1476.11 Q1150.78 1477.71 1148.31 1478.33 Z\" fill=\"#000000\" fill-rule=\"evenodd\" fill-opacity=\"1\" /><path clip-path=\"url(#clip740)\" d=\"M 0 0 M1161.31 1488.7 L1165.28 1488.7 L1165.28 1493.47 L1161.31 1493.47 L1161.31 1488.7 Z\" fill=\"#000000\" fill-rule=\"evenodd\" fill-opacity=\"1\" /><path clip-path=\"url(#clip740)\" d=\"M 0 0 M1176.82 1490.28 L1190.08 1490.28 L1190.08 1493.47 L1172.25 1493.47 L1172.25 1490.28 Q1174.42 1488.04 1178.14 1484.28 Q1181.88 1480.5 1182.84 1479.41 Q1184.67 1477.36 1185.38 1475.95 Q1186.12 1474.52 1186.12 1473.14 Q1186.12 1470.9 1184.54 1469.49 Q1182.98 1468.08 1180.45 1468.08 Q1178.67 1468.08 1176.67 1468.7 Q1174.7 1469.32 1172.44 1470.58 L1172.44 1466.75 Q1174.74 1465.83 1176.73 1465.36 Q1178.72 1464.89 1180.38 1464.89 Q1184.74 1464.89 1187.34 1467.07 Q1189.93 1469.25 1189.93 1472.9 Q1189.93 1474.63 1189.28 1476.19 Q1188.64 1477.73 1186.92 1479.84 Q1186.45 1480.38 1183.93 1483 Q1181.41 1485.59 1176.82 1490.28 Z\" fill=\"#000000\" fill-rule=\"evenodd\" fill-opacity=\"1\" /><path clip-path=\"url(#clip740)\" d=\"M 0 0 M1198.1 1465.39 L1213.01 1465.39 L1213.01 1468.59 L1201.58 1468.59 L1201.58 1475.47 Q1202.4 1475.19 1203.23 1475.06 Q1204.06 1474.91 1204.89 1474.91 Q1209.59 1474.91 1212.33 1477.49 Q1215.08 1480.06 1215.08 1484.46 Q1215.08 1489 1212.26 1491.52 Q1209.44 1494.02 1204.3 1494.02 Q1202.54 1494.02 1200.69 1493.72 Q1198.87 1493.42 1196.91 1492.82 L1196.91 1489 Q1198.6 1489.92 1200.41 1490.37 Q1202.22 1490.82 1204.23 1490.82 Q1207.48 1490.82 1209.38 1489.11 Q1211.28 1487.4 1211.28 1484.46 Q1211.28 1481.53 1209.38 1479.82 Q1207.48 1478.11 1204.23 1478.11 Q1202.7 1478.11 1201.18 1478.45 Q1199.68 1478.78 1198.1 1479.5 L1198.1 1465.39 Z\" fill=\"#000000\" fill-rule=\"evenodd\" fill-opacity=\"1\" /><path clip-path=\"url(#clip740)\" d=\"M 0 0 M1384.11 1516.95 L1391.75 1516.95 L1391.75 1490.58 L1383.44 1492.25 L1383.44 1487.99 L1391.7 1486.32 L1396.38 1486.32 L1396.38 1516.95 L1404.02 1516.95 L1404.02 1520.88 L1384.11 1520.88 L1384.11 1516.95 Z\" fill=\"#000000\" fill-rule=\"evenodd\" fill-opacity=\"1\" /><path clip-path=\"url(#clip740)\" d=\"M 0 0 M1423.46 1489.4 Q1419.85 1489.4 1418.02 1492.97 Q1416.22 1496.51 1416.22 1503.64 Q1416.22 1510.75 1418.02 1514.31 Q1419.85 1517.85 1423.46 1517.85 Q1427.1 1517.85 1428.9 1514.31 Q1430.73 1510.75 1430.73 1503.64 Q1430.73 1496.51 1428.9 1492.97 Q1427.1 1489.4 1423.46 1489.4 M1423.46 1485.7 Q1429.27 1485.7 1432.33 1490.31 Q1435.41 1494.89 1435.41 1503.64 Q1435.41 1512.37 1432.33 1516.97 Q1429.27 1521.56 1423.46 1521.56 Q1417.65 1521.56 1414.57 1516.97 Q1411.52 1512.37 1411.52 1503.64 Q1411.52 1494.89 1414.57 1490.31 Q1417.65 1485.7 1423.46 1485.7 Z\" fill=\"#000000\" fill-rule=\"evenodd\" fill-opacity=\"1\" /><path clip-path=\"url(#clip740)\" d=\"M 0 0 M1448.1 1478.33 Q1450.83 1478.92 1452.35 1480.76 Q1453.89 1482.6 1453.89 1485.31 Q1453.89 1489.47 1451.03 1491.74 Q1448.18 1494.02 1442.91 1494.02 Q1441.14 1494.02 1439.26 1493.66 Q1437.4 1493.32 1435.41 1492.63 L1435.41 1488.96 Q1436.99 1489.88 1438.87 1490.35 Q1440.75 1490.82 1442.8 1490.82 Q1446.37 1490.82 1448.23 1489.41 Q1450.11 1488 1450.11 1485.31 Q1450.11 1482.83 1448.36 1481.44 Q1446.63 1480.03 1443.53 1480.03 L1440.26 1480.03 L1440.26 1476.9 L1443.68 1476.9 Q1446.48 1476.9 1447.97 1475.79 Q1449.45 1474.67 1449.45 1472.56 Q1449.45 1470.4 1447.91 1469.25 Q1446.39 1468.08 1443.53 1468.08 Q1441.97 1468.08 1440.18 1468.42 Q1438.4 1468.76 1436.25 1469.48 L1436.25 1466.09 Q1438.41 1465.49 1440.3 1465.19 Q1442.2 1464.89 1443.87 1464.89 Q1448.19 1464.89 1450.72 1466.86 Q1453.24 1468.82 1453.24 1472.16 Q1453.24 1474.5 1451.9 1476.11 Q1450.56 1477.71 1448.1 1478.33 Z\" fill=\"#000000\" fill-rule=\"evenodd\" fill-opacity=\"1\" /><path clip-path=\"url(#clip740)\" d=\"M 0 0 M1461.1 1488.7 L1465.07 1488.7 L1465.07 1493.47 L1461.1 1493.47 L1461.1 1488.7 Z\" fill=\"#000000\" fill-rule=\"evenodd\" fill-opacity=\"1\" /><path clip-path=\"url(#clip740)\" d=\"M 0 0 M1473.38 1465.39 L1488.29 1465.39 L1488.29 1468.59 L1476.86 1468.59 L1476.86 1475.47 Q1477.69 1475.19 1478.51 1475.06 Q1479.34 1474.91 1480.17 1474.91 Q1484.87 1474.91 1487.62 1477.49 Q1490.36 1480.06 1490.36 1484.46 Q1490.36 1489 1487.54 1491.52 Q1484.72 1494.02 1479.58 1494.02 Q1477.82 1494.02 1475.97 1493.72 Q1474.15 1493.42 1472.19 1492.82 L1472.19 1489 Q1473.89 1489.92 1475.69 1490.37 Q1477.5 1490.82 1479.51 1490.82 Q1482.76 1490.82 1484.66 1489.11 Q1486.56 1487.4 1486.56 1484.46 Q1486.56 1481.53 1484.66 1479.82 Q1482.76 1478.11 1479.51 1478.11 Q1477.99 1478.11 1476.46 1478.45 Q1474.96 1478.78 1473.38 1479.5 L1473.38 1465.39 Z\" fill=\"#000000\" fill-rule=\"evenodd\" fill-opacity=\"1\" /><path clip-path=\"url(#clip740)\" d=\"M 0 0 M1505.97 1467.9 Q1503.04 1467.9 1501.55 1470.79 Q1500.09 1473.67 1500.09 1479.46 Q1500.09 1485.24 1501.55 1488.13 Q1503.04 1491.01 1505.97 1491.01 Q1508.93 1491.01 1510.39 1488.13 Q1511.88 1485.24 1511.88 1479.46 Q1511.88 1473.67 1510.39 1470.79 Q1508.93 1467.9 1505.97 1467.9 M1505.97 1464.89 Q1510.69 1464.89 1513.18 1468.63 Q1515.68 1472.35 1515.68 1479.46 Q1515.68 1486.55 1513.18 1490.3 Q1510.69 1494.02 1505.97 1494.02 Q1501.25 1494.02 1498.75 1490.3 Q1496.27 1486.55 1496.27 1479.46 Q1496.27 1472.35 1498.75 1468.63 Q1501.25 1464.89 1505.97 1464.89 Z\" fill=\"#000000\" fill-rule=\"evenodd\" fill-opacity=\"1\" /><path clip-path=\"url(#clip740)\" d=\"M 0 0 M1684.71 1516.95 L1692.35 1516.95 L1692.35 1490.58 L1684.04 1492.25 L1684.04 1487.99 L1692.3 1486.32 L1696.98 1486.32 L1696.98 1516.95 L1704.61 1516.95 L1704.61 1520.88 L1684.71 1520.88 L1684.71 1516.95 Z\" fill=\"#000000\" fill-rule=\"evenodd\" fill-opacity=\"1\" /><path clip-path=\"url(#clip740)\" d=\"M 0 0 M1724.06 1489.4 Q1720.45 1489.4 1718.62 1492.97 Q1716.81 1496.51 1716.81 1503.64 Q1716.81 1510.75 1718.62 1514.31 Q1720.45 1517.85 1724.06 1517.85 Q1727.69 1517.85 1729.5 1514.31 Q1731.33 1510.75 1731.33 1503.64 Q1731.33 1496.51 1729.5 1492.97 Q1727.69 1489.4 1724.06 1489.4 M1724.06 1485.7 Q1729.87 1485.7 1732.92 1490.31 Q1736 1494.89 1736 1503.64 Q1736 1512.37 1732.92 1516.97 Q1729.87 1521.56 1724.06 1521.56 Q1718.25 1521.56 1715.17 1516.97 Q1712.11 1512.37 1712.11 1503.64 Q1712.11 1494.89 1715.17 1490.31 Q1718.25 1485.7 1724.06 1485.7 Z\" fill=\"#000000\" fill-rule=\"evenodd\" fill-opacity=\"1\" /><path clip-path=\"url(#clip740)\" d=\"M 0 0 M1748.7 1478.33 Q1751.43 1478.92 1752.95 1480.76 Q1754.49 1482.6 1754.49 1485.31 Q1754.49 1489.47 1751.63 1491.74 Q1748.77 1494.02 1743.51 1494.02 Q1741.74 1494.02 1739.86 1493.66 Q1738 1493.32 1736 1492.63 L1736 1488.96 Q1737.58 1489.88 1739.46 1490.35 Q1741.34 1490.82 1743.39 1490.82 Q1746.97 1490.82 1748.83 1489.41 Q1750.71 1488 1750.71 1485.31 Q1750.71 1482.83 1748.96 1481.44 Q1747.23 1480.03 1744.13 1480.03 L1740.86 1480.03 L1740.86 1476.9 L1744.28 1476.9 Q1747.08 1476.9 1748.57 1475.79 Q1750.05 1474.67 1750.05 1472.56 Q1750.05 1470.4 1748.51 1469.25 Q1746.99 1468.08 1744.13 1468.08 Q1742.57 1468.08 1740.78 1468.42 Q1738.99 1468.76 1736.85 1469.48 L1736.85 1466.09 Q1739.01 1465.49 1740.89 1465.19 Q1742.79 1464.89 1744.47 1464.89 Q1748.79 1464.89 1751.31 1466.86 Q1753.83 1468.82 1753.83 1472.16 Q1753.83 1474.5 1752.5 1476.11 Q1751.16 1477.71 1748.7 1478.33 Z\" fill=\"#000000\" fill-rule=\"evenodd\" fill-opacity=\"1\" /><path clip-path=\"url(#clip740)\" d=\"M 0 0 M1761.69 1488.7 L1765.66 1488.7 L1765.66 1493.47 L1761.69 1493.47 L1761.69 1488.7 Z\" fill=\"#000000\" fill-rule=\"evenodd\" fill-opacity=\"1\" /><path clip-path=\"url(#clip740)\" d=\"M 0 0 M1772.98 1465.39 L1791.03 1465.39 L1791.03 1467.01 L1780.84 1493.47 L1776.87 1493.47 L1786.46 1468.59 L1772.98 1468.59 L1772.98 1465.39 Z\" fill=\"#000000\" fill-rule=\"evenodd\" fill-opacity=\"1\" /><path clip-path=\"url(#clip740)\" d=\"M 0 0 M1798.48 1465.39 L1813.4 1465.39 L1813.4 1468.59 L1801.96 1468.59 L1801.96 1475.47 Q1802.79 1475.19 1803.62 1475.06 Q1804.44 1474.91 1805.27 1474.91 Q1809.97 1474.91 1812.72 1477.49 Q1815.47 1480.06 1815.47 1484.46 Q1815.47 1489 1812.64 1491.52 Q1809.82 1494.02 1804.69 1494.02 Q1802.92 1494.02 1801.08 1493.72 Q1799.25 1493.42 1797.3 1492.82 L1797.3 1489 Q1798.99 1489.92 1800.8 1490.37 Q1802.6 1490.82 1804.61 1490.82 Q1807.87 1490.82 1809.77 1489.11 Q1811.67 1487.4 1811.67 1484.46 Q1811.67 1481.53 1809.77 1479.82 Q1807.87 1478.11 1804.61 1478.11 Q1803.09 1478.11 1801.57 1478.45 Q1800.06 1478.78 1798.48 1479.5 L1798.48 1465.39 Z\" fill=\"#000000\" fill-rule=\"evenodd\" fill-opacity=\"1\" /><path clip-path=\"url(#clip740)\" d=\"M 0 0 M1983.97 1516.95 L1991.61 1516.95 L1991.61 1490.58 L1983.3 1492.25 L1983.3 1487.99 L1991.56 1486.32 L1996.24 1486.32 L1996.24 1516.95 L2003.88 1516.95 L2003.88 1520.88 L1983.97 1520.88 L1983.97 1516.95 Z\" fill=\"#000000\" fill-rule=\"evenodd\" fill-opacity=\"1\" /><path clip-path=\"url(#clip740)\" d=\"M 0 0 M2023.32 1489.4 Q2019.71 1489.4 2017.88 1492.97 Q2016.07 1496.51 2016.07 1503.64 Q2016.07 1510.75 2017.88 1514.31 Q2019.71 1517.85 2023.32 1517.85 Q2026.95 1517.85 2028.76 1514.31 Q2030.59 1510.75 2030.59 1503.64 Q2030.59 1496.51 2028.76 1492.97 Q2026.95 1489.4 2023.32 1489.4 M2023.32 1485.7 Q2029.13 1485.7 2032.19 1490.31 Q2035.26 1494.89 2035.26 1503.64 Q2035.26 1512.37 2032.19 1516.97 Q2029.13 1521.56 2023.32 1521.56 Q2017.51 1521.56 2014.43 1516.97 Q2011.38 1512.37 2011.38 1503.64 Q2011.38 1494.89 2014.43 1490.31 Q2017.51 1485.7 2023.32 1485.7 Z\" fill=\"#000000\" fill-rule=\"evenodd\" fill-opacity=\"1\" /><path clip-path=\"url(#clip740)\" d=\"M 0 0 M2047.94 1468.7 L2038.35 1483.69 L2047.94 1483.69 L2047.94 1468.7 M2046.94 1465.39 L2051.72 1465.39 L2051.72 1483.69 L2055.73 1483.69 L2055.73 1486.85 L2051.72 1486.85 L2051.72 1493.47 L2047.94 1493.47 L2047.94 1486.85 L2035.26 1486.85 L2035.26 1483.19 L2046.94 1465.39 Z\" fill=\"#000000\" fill-rule=\"evenodd\" fill-opacity=\"1\" /><path clip-path=\"url(#clip740)\" d=\"M 0 0 M2062.01 1488.7 L2065.98 1488.7 L2065.98 1493.47 L2062.01 1493.47 L2062.01 1488.7 Z\" fill=\"#000000\" fill-rule=\"evenodd\" fill-opacity=\"1\" /><path clip-path=\"url(#clip740)\" d=\"M 0 0 M2082.38 1467.9 Q2079.44 1467.9 2077.96 1470.79 Q2076.49 1473.67 2076.49 1479.46 Q2076.49 1485.24 2077.96 1488.13 Q2079.44 1491.01 2082.38 1491.01 Q2085.33 1491.01 2086.8 1488.13 Q2088.28 1485.24 2088.28 1479.46 Q2088.28 1473.67 2086.8 1470.79 Q2085.33 1467.9 2082.38 1467.9 M2082.38 1464.89 Q2087.1 1464.89 2089.58 1468.63 Q2092.08 1472.35 2092.08 1479.46 Q2092.08 1486.55 2089.58 1490.3 Q2087.1 1494.02 2082.38 1494.02 Q2077.66 1494.02 2075.16 1490.3 Q2072.67 1486.55 2072.67 1479.46 Q2072.67 1472.35 2075.16 1468.63 Q2077.66 1464.89 2082.38 1464.89 Z\" fill=\"#000000\" fill-rule=\"evenodd\" fill-opacity=\"1\" /><path clip-path=\"url(#clip740)\" d=\"M 0 0 M2106.88 1467.9 Q2103.95 1467.9 2102.46 1470.79 Q2101 1473.67 2101 1479.46 Q2101 1485.24 2102.46 1488.13 Q2103.95 1491.01 2106.88 1491.01 Q2109.84 1491.01 2111.3 1488.13 Q2112.79 1485.24 2112.79 1479.46 Q2112.79 1473.67 2111.3 1470.79 Q2109.84 1467.9 2106.88 1467.9 M2106.88 1464.89 Q2111.61 1464.89 2114.09 1468.63 Q2116.59 1472.35 2116.59 1479.46 Q2116.59 1486.55 2114.09 1490.3 Q2111.61 1494.02 2106.88 1494.02 Q2102.16 1494.02 2099.66 1490.3 Q2097.18 1486.55 2097.18 1479.46 Q2097.18 1472.35 2099.66 1468.63 Q2102.16 1464.89 2106.88 1464.89 Z\" fill=\"#000000\" fill-rule=\"evenodd\" fill-opacity=\"1\" /><path clip-path=\"url(#clip740)\" d=\"M 0 0 M2284.57 1516.95 L2292.2 1516.95 L2292.2 1490.58 L2283.89 1492.25 L2283.89 1487.99 L2292.16 1486.32 L2296.83 1486.32 L2296.83 1516.95 L2304.47 1516.95 L2304.47 1520.88 L2284.57 1520.88 L2284.57 1516.95 Z\" fill=\"#000000\" fill-rule=\"evenodd\" fill-opacity=\"1\" /><path clip-path=\"url(#clip740)\" d=\"M 0 0 M2323.92 1489.4 Q2320.31 1489.4 2318.48 1492.97 Q2316.67 1496.51 2316.67 1503.64 Q2316.67 1510.75 2318.48 1514.31 Q2320.31 1517.85 2323.92 1517.85 Q2327.55 1517.85 2329.36 1514.31 Q2331.19 1510.75 2331.19 1503.64 Q2331.19 1496.51 2329.36 1492.97 Q2327.55 1489.4 2323.92 1489.4 M2323.92 1485.7 Q2329.73 1485.7 2332.78 1490.31 Q2335.86 1494.89 2335.86 1503.64 Q2335.86 1512.37 2332.78 1516.97 Q2329.73 1521.56 2323.92 1521.56 Q2318.11 1521.56 2315.03 1516.97 Q2311.97 1512.37 2311.97 1503.64 Q2311.97 1494.89 2315.03 1490.31 Q2318.11 1485.7 2323.92 1485.7 Z\" fill=\"#000000\" fill-rule=\"evenodd\" fill-opacity=\"1\" /><path clip-path=\"url(#clip740)\" d=\"M 0 0 M2348.54 1468.7 L2338.95 1483.69 L2348.54 1483.69 L2348.54 1468.7 M2347.54 1465.39 L2352.32 1465.39 L2352.32 1483.69 L2356.32 1483.69 L2356.32 1486.85 L2352.32 1486.85 L2352.32 1493.47 L2348.54 1493.47 L2348.54 1486.85 L2335.86 1486.85 L2335.86 1483.19 L2347.54 1465.39 Z\" fill=\"#000000\" fill-rule=\"evenodd\" fill-opacity=\"1\" /><path clip-path=\"url(#clip740)\" d=\"M 0 0 M2362.61 1488.7 L2366.57 1488.7 L2366.57 1493.47 L2362.61 1493.47 L2362.61 1488.7 Z\" fill=\"#000000\" fill-rule=\"evenodd\" fill-opacity=\"1\" /><path clip-path=\"url(#clip740)\" d=\"M 0 0 M2378.12 1490.28 L2391.38 1490.28 L2391.38 1493.47 L2373.55 1493.47 L2373.55 1490.28 Q2375.72 1488.04 2379.44 1484.28 Q2383.18 1480.5 2384.14 1479.41 Q2385.97 1477.36 2386.68 1475.95 Q2387.41 1474.52 2387.41 1473.14 Q2387.41 1470.9 2385.83 1469.49 Q2384.27 1468.08 2381.75 1468.08 Q2379.97 1468.08 2377.97 1468.7 Q2376 1469.32 2373.74 1470.58 L2373.74 1466.75 Q2376.04 1465.83 2378.03 1465.36 Q2380.02 1464.89 2381.68 1464.89 Q2386.04 1464.89 2388.64 1467.07 Q2391.23 1469.25 2391.23 1472.9 Q2391.23 1474.63 2390.57 1476.19 Q2389.93 1477.73 2388.22 1479.84 Q2387.75 1480.38 2385.23 1483 Q2382.71 1485.59 2378.12 1490.28 Z\" fill=\"#000000\" fill-rule=\"evenodd\" fill-opacity=\"1\" /><path clip-path=\"url(#clip740)\" d=\"M 0 0 M2399.39 1465.39 L2414.31 1465.39 L2414.31 1468.59 L2402.87 1468.59 L2402.87 1475.47 Q2403.7 1475.19 2404.53 1475.06 Q2405.36 1474.91 2406.18 1474.91 Q2410.89 1474.91 2413.63 1477.49 Q2416.38 1480.06 2416.38 1484.46 Q2416.38 1489 2413.56 1491.52 Q2410.74 1494.02 2405.6 1494.02 Q2403.83 1494.02 2401.99 1493.72 Q2400.17 1493.42 2398.21 1492.82 L2398.21 1489 Q2399.9 1489.92 2401.71 1490.37 Q2403.51 1490.82 2405.53 1490.82 Q2408.78 1490.82 2410.68 1489.11 Q2412.58 1487.4 2412.58 1484.46 Q2412.58 1481.53 2410.68 1479.82 Q2408.78 1478.11 2405.53 1478.11 Q2404 1478.11 2402.48 1478.45 Q2400.97 1478.78 2399.39 1479.5 L2399.39 1465.39 Z\" fill=\"#000000\" fill-rule=\"evenodd\" fill-opacity=\"1\" /><path clip-path=\"url(#clip740)\" d=\"M 0 0 M1349.35 1561.42 Q1349.35 1561.68 1349.06 1562.68 Q1348.77 1563.67 1348.07 1565.22 Q1347.39 1566.77 1346.46 1568.18 Q1345.52 1569.57 1343.98 1570.6 Q1342.46 1571.6 1340.72 1571.6 Q1338.4 1571.6 1336.86 1570.05 Q1335.31 1568.5 1335.31 1566.19 Q1335.31 1564.9 1335.99 1563.13 Q1340.27 1551.69 1340.27 1547.76 Q1340.27 1543.16 1336.7 1543.16 Q1334.93 1543.16 1333.25 1543.84 Q1331.61 1544.48 1330.48 1545.38 Q1329.35 1546.28 1328.32 1547.54 Q1327.32 1548.76 1326.81 1549.6 Q1326.33 1550.41 1325.94 1551.21 L1325.1 1554.5 Q1324.91 1555.4 1323.98 1558.91 L1322.53 1564.87 Q1321.5 1569.31 1321.27 1569.73 Q1320.95 1570.63 1320.24 1571.11 Q1319.53 1571.6 1318.82 1571.6 Q1318.02 1571.6 1317.47 1571.11 Q1316.92 1570.63 1316.92 1569.79 Q1316.92 1569.66 1317.02 1569.18 Q1317.12 1568.7 1317.28 1568.02 Q1317.44 1567.35 1317.5 1566.96 L1321.33 1551.73 Q1322.04 1548.96 1322.2 1548.09 Q1322.4 1547.18 1322.4 1546.19 Q1322.4 1543.16 1320.34 1543.16 Q1318.66 1543.16 1317.57 1545.16 Q1316.47 1547.15 1315.54 1551.02 Q1315.25 1552.08 1315.05 1552.31 Q1314.89 1552.53 1314.41 1552.53 Q1313.61 1552.5 1313.61 1551.85 Q1313.61 1551.69 1313.86 1550.63 Q1314.12 1549.57 1314.6 1548.05 Q1315.12 1546.51 1315.6 1545.48 Q1316.02 1544.7 1316.25 1544.35 Q1316.5 1543.96 1317.12 1543.22 Q1317.76 1542.45 1318.6 1542.1 Q1319.47 1541.71 1320.53 1541.71 Q1322.91 1541.71 1324.65 1543.26 Q1326.39 1544.77 1326.62 1547.44 Q1330.9 1541.71 1336.89 1541.71 Q1340.43 1541.71 1342.46 1543.58 Q1344.49 1545.45 1344.49 1548.76 Q1344.49 1549.54 1344.33 1550.53 Q1344.2 1551.5 1343.88 1552.72 Q1343.59 1553.95 1343.33 1554.88 Q1343.07 1555.82 1342.56 1557.33 Q1342.04 1558.81 1341.82 1559.46 Q1341.59 1560.1 1341.04 1561.61 Q1340.53 1563.09 1340.46 1563.26 Q1339.27 1566.25 1339.27 1567.96 Q1339.27 1569.08 1339.63 1569.6 Q1340.01 1570.12 1340.85 1570.12 Q1343.11 1570.12 1344.78 1567.89 Q1346.49 1565.64 1347.58 1561.97 Q1347.84 1561.16 1347.97 1560.97 Q1348.13 1560.78 1348.58 1560.78 Q1349.35 1560.78 1349.35 1561.42 Z\" fill=\"#000000\" fill-rule=\"evenodd\" fill-opacity=\"1\" /><polyline clip-path=\"url(#clip742)\" style=\"stroke:#000000; stroke-width:2; stroke-opacity:0.1; fill:none\" points=\"\n",
       "  313.626,1384.63 2352.76,1384.63 \n",
       "  \"/>\n",
       "<polyline clip-path=\"url(#clip742)\" style=\"stroke:#000000; stroke-width:2; stroke-opacity:0.1; fill:none\" points=\"\n",
       "  313.626,1198.02 2352.76,1198.02 \n",
       "  \"/>\n",
       "<polyline clip-path=\"url(#clip742)\" style=\"stroke:#000000; stroke-width:2; stroke-opacity:0.1; fill:none\" points=\"\n",
       "  313.626,1011.41 2352.76,1011.41 \n",
       "  \"/>\n",
       "<polyline clip-path=\"url(#clip742)\" style=\"stroke:#000000; stroke-width:2; stroke-opacity:0.1; fill:none\" points=\"\n",
       "  313.626,824.8 2352.76,824.8 \n",
       "  \"/>\n",
       "<polyline clip-path=\"url(#clip742)\" style=\"stroke:#000000; stroke-width:2; stroke-opacity:0.1; fill:none\" points=\"\n",
       "  313.626,638.19 2352.76,638.19 \n",
       "  \"/>\n",
       "<polyline clip-path=\"url(#clip742)\" style=\"stroke:#000000; stroke-width:2; stroke-opacity:0.1; fill:none\" points=\"\n",
       "  313.626,451.58 2352.76,451.58 \n",
       "  \"/>\n",
       "<polyline clip-path=\"url(#clip742)\" style=\"stroke:#000000; stroke-width:2; stroke-opacity:0.1; fill:none\" points=\"\n",
       "  313.626,264.971 2352.76,264.971 \n",
       "  \"/>\n",
       "<polyline clip-path=\"url(#clip740)\" style=\"stroke:#000000; stroke-width:4; stroke-opacity:1; fill:none\" points=\"\n",
       "  313.626,1438.68 313.626,123.472 \n",
       "  \"/>\n",
       "<polyline clip-path=\"url(#clip740)\" style=\"stroke:#000000; stroke-width:4; stroke-opacity:1; fill:none\" points=\"\n",
       "  313.626,1384.63 338.095,1384.63 \n",
       "  \"/>\n",
       "<polyline clip-path=\"url(#clip740)\" style=\"stroke:#000000; stroke-width:4; stroke-opacity:1; fill:none\" points=\"\n",
       "  313.626,1198.02 338.095,1198.02 \n",
       "  \"/>\n",
       "<polyline clip-path=\"url(#clip740)\" style=\"stroke:#000000; stroke-width:4; stroke-opacity:1; fill:none\" points=\"\n",
       "  313.626,1011.41 338.095,1011.41 \n",
       "  \"/>\n",
       "<polyline clip-path=\"url(#clip740)\" style=\"stroke:#000000; stroke-width:4; stroke-opacity:1; fill:none\" points=\"\n",
       "  313.626,824.8 338.095,824.8 \n",
       "  \"/>\n",
       "<polyline clip-path=\"url(#clip740)\" style=\"stroke:#000000; stroke-width:4; stroke-opacity:1; fill:none\" points=\"\n",
       "  313.626,638.19 338.095,638.19 \n",
       "  \"/>\n",
       "<polyline clip-path=\"url(#clip740)\" style=\"stroke:#000000; stroke-width:4; stroke-opacity:1; fill:none\" points=\"\n",
       "  313.626,451.58 338.095,451.58 \n",
       "  \"/>\n",
       "<polyline clip-path=\"url(#clip740)\" style=\"stroke:#000000; stroke-width:4; stroke-opacity:1; fill:none\" points=\"\n",
       "  313.626,264.971 338.095,264.971 \n",
       "  \"/>\n",
       "<path clip-path=\"url(#clip740)\" d=\"M 0 0 M115.74 1404.42 L123.379 1404.42 L123.379 1378.06 L115.069 1379.72 L115.069 1375.46 L123.333 1373.8 L128.009 1373.8 L128.009 1404.42 L135.647 1404.42 L135.647 1408.36 L115.74 1408.36 L115.74 1404.42 Z\" fill=\"#000000\" fill-rule=\"evenodd\" fill-opacity=\"1\" /><path clip-path=\"url(#clip740)\" d=\"M 0 0 M155.092 1376.88 Q151.481 1376.88 149.652 1380.44 Q147.846 1383.98 147.846 1391.11 Q147.846 1398.22 149.652 1401.78 Q151.481 1405.32 155.092 1405.32 Q158.726 1405.32 160.532 1401.78 Q162.36 1398.22 162.36 1391.11 Q162.36 1383.98 160.532 1380.44 Q158.726 1376.88 155.092 1376.88 M155.092 1373.17 Q160.902 1373.17 163.958 1377.78 Q167.036 1382.36 167.036 1391.11 Q167.036 1399.84 163.958 1404.45 Q160.902 1409.03 155.092 1409.03 Q149.282 1409.03 146.203 1404.45 Q143.147 1399.84 143.147 1391.11 Q143.147 1382.36 146.203 1377.78 Q149.282 1373.17 155.092 1373.17 Z\" fill=\"#000000\" fill-rule=\"evenodd\" fill-opacity=\"1\" /><path clip-path=\"url(#clip740)\" d=\"M 0 0 M167.036 1367.27 L191.148 1367.27 L191.148 1370.47 L167.036 1370.47 L167.036 1367.27 Z\" fill=\"#000000\" fill-rule=\"evenodd\" fill-opacity=\"1\" /><path clip-path=\"url(#clip740)\" d=\"M 0 0 M199.386 1352.87 L214.3 1352.87 L214.3 1356.06 L202.865 1356.06 L202.865 1362.95 Q203.693 1362.67 204.52 1362.53 Q205.348 1362.38 206.175 1362.38 Q210.877 1362.38 213.623 1364.96 Q216.369 1367.54 216.369 1371.94 Q216.369 1376.47 213.548 1378.99 Q210.727 1381.49 205.592 1381.49 Q203.824 1381.49 201.981 1381.19 Q200.157 1380.89 198.201 1380.29 L198.201 1376.47 Q199.893 1377.39 201.699 1377.84 Q203.504 1378.29 205.517 1378.29 Q208.771 1378.29 210.67 1376.58 Q212.57 1374.87 212.57 1371.94 Q212.57 1369 210.67 1367.29 Q208.771 1365.58 205.517 1365.58 Q203.993 1365.58 202.47 1365.92 Q200.965 1366.26 199.386 1366.97 L199.386 1352.87 Z\" fill=\"#000000\" fill-rule=\"evenodd\" fill-opacity=\"1\" /><path clip-path=\"url(#clip740)\" d=\"M 0 0 M223.854 1376.17 L227.823 1376.17 L227.823 1380.95 L223.854 1380.95 L223.854 1376.17 Z\" fill=\"#000000\" fill-rule=\"evenodd\" fill-opacity=\"1\" /><path clip-path=\"url(#clip740)\" d=\"M 0 0 M239.371 1377.75 L252.63 1377.75 L252.63 1380.95 L234.801 1380.95 L234.801 1377.75 Q236.963 1375.51 240.687 1371.75 Q244.43 1367.97 245.389 1366.88 Q247.214 1364.83 247.928 1363.42 Q248.662 1361.99 248.662 1360.62 Q248.662 1358.38 247.082 1356.97 Q245.521 1355.56 243.001 1355.56 Q241.214 1355.56 239.22 1356.18 Q237.246 1356.8 234.989 1358.06 L234.989 1354.22 Q237.283 1353.3 239.277 1352.83 Q241.27 1352.36 242.926 1352.36 Q247.289 1352.36 249.884 1354.54 Q252.48 1356.72 252.48 1360.37 Q252.48 1362.1 251.822 1363.66 Q251.182 1365.2 249.471 1367.31 Q249 1367.86 246.48 1370.47 Q243.96 1373.07 239.371 1377.75 Z\" fill=\"#000000\" fill-rule=\"evenodd\" fill-opacity=\"1\" /><path clip-path=\"url(#clip740)\" d=\"M 0 0 M260.642 1352.87 L275.557 1352.87 L275.557 1356.06 L264.122 1356.06 L264.122 1362.95 Q264.949 1362.67 265.777 1362.53 Q266.605 1362.38 267.432 1362.38 Q272.134 1362.38 274.88 1364.96 Q277.626 1367.54 277.626 1371.94 Q277.626 1376.47 274.805 1378.99 Q271.984 1381.49 266.849 1381.49 Q265.081 1381.49 263.238 1381.19 Q261.414 1380.89 259.458 1380.29 L259.458 1376.47 Q261.15 1377.39 262.956 1377.84 Q264.761 1378.29 266.774 1378.29 Q270.028 1378.29 271.927 1376.58 Q273.827 1374.87 273.827 1371.94 Q273.827 1369 271.927 1367.29 Q270.028 1365.58 266.774 1365.58 Q265.25 1365.58 263.727 1365.92 Q262.222 1366.26 260.642 1366.97 L260.642 1352.87 Z\" fill=\"#000000\" fill-rule=\"evenodd\" fill-opacity=\"1\" /><path clip-path=\"url(#clip740)\" d=\"M 0 0 M114.931 1217.81 L122.57 1217.81 L122.57 1191.45 L114.26 1193.11 L114.26 1188.85 L122.524 1187.19 L127.2 1187.19 L127.2 1217.81 L134.839 1217.81 L134.839 1221.75 L114.931 1221.75 L114.931 1217.81 Z\" fill=\"#000000\" fill-rule=\"evenodd\" fill-opacity=\"1\" /><path clip-path=\"url(#clip740)\" d=\"M 0 0 M154.283 1190.27 Q150.672 1190.27 148.843 1193.83 Q147.038 1197.37 147.038 1204.5 Q147.038 1211.61 148.843 1215.17 Q150.672 1218.71 154.283 1218.71 Q157.917 1218.71 159.723 1215.17 Q161.552 1211.61 161.552 1204.5 Q161.552 1197.37 159.723 1193.83 Q157.917 1190.27 154.283 1190.27 M154.283 1186.56 Q160.093 1186.56 163.149 1191.17 Q166.227 1195.75 166.227 1204.5 Q166.227 1213.23 163.149 1217.84 Q160.093 1222.42 154.283 1222.42 Q148.473 1222.42 145.394 1217.84 Q142.339 1213.23 142.339 1204.5 Q142.339 1195.75 145.394 1191.17 Q148.473 1186.56 154.283 1186.56 Z\" fill=\"#000000\" fill-rule=\"evenodd\" fill-opacity=\"1\" /><path clip-path=\"url(#clip740)\" d=\"M 0 0 M166.227 1180.66 L190.339 1180.66 L190.339 1183.86 L166.227 1183.86 L166.227 1180.66 Z\" fill=\"#000000\" fill-rule=\"evenodd\" fill-opacity=\"1\" /><path clip-path=\"url(#clip740)\" d=\"M 0 0 M198.577 1166.26 L213.491 1166.26 L213.491 1169.45 L202.056 1169.45 L202.056 1176.34 Q202.884 1176.06 203.711 1175.92 Q204.539 1175.77 205.366 1175.77 Q210.068 1175.77 212.814 1178.35 Q215.56 1180.93 215.56 1185.33 Q215.56 1189.86 212.739 1192.38 Q209.918 1194.88 204.783 1194.88 Q203.015 1194.88 201.172 1194.58 Q199.348 1194.28 197.392 1193.68 L197.392 1189.86 Q199.085 1190.78 200.89 1191.23 Q202.696 1191.68 204.708 1191.68 Q207.962 1191.68 209.861 1189.97 Q211.761 1188.26 211.761 1185.33 Q211.761 1182.39 209.861 1180.68 Q207.962 1178.97 204.708 1178.97 Q203.185 1178.97 201.661 1179.31 Q200.157 1179.65 198.577 1180.36 L198.577 1166.26 Z\" fill=\"#000000\" fill-rule=\"evenodd\" fill-opacity=\"1\" /><path clip-path=\"url(#clip740)\" d=\"M 0 0 M223.046 1189.56 L227.014 1189.56 L227.014 1194.34 L223.046 1194.34 L223.046 1189.56 Z\" fill=\"#000000\" fill-rule=\"evenodd\" fill-opacity=\"1\" /><path clip-path=\"url(#clip740)\" d=\"M 0 0 M243.415 1168.76 Q240.481 1168.76 238.995 1171.65 Q237.528 1174.53 237.528 1180.33 Q237.528 1186.1 238.995 1189 Q240.481 1191.87 243.415 1191.87 Q246.367 1191.87 247.834 1189 Q249.32 1186.1 249.32 1180.33 Q249.32 1174.53 247.834 1171.65 Q246.367 1168.76 243.415 1168.76 M243.415 1165.75 Q248.135 1165.75 250.618 1169.49 Q253.119 1173.22 253.119 1180.33 Q253.119 1187.42 250.618 1191.16 Q248.135 1194.88 243.415 1194.88 Q238.694 1194.88 236.192 1191.16 Q233.71 1187.42 233.71 1180.33 Q233.71 1173.22 236.192 1169.49 Q238.694 1165.75 243.415 1165.75 Z\" fill=\"#000000\" fill-rule=\"evenodd\" fill-opacity=\"1\" /><path clip-path=\"url(#clip740)\" d=\"M 0 0 M267.921 1168.76 Q264.987 1168.76 263.501 1171.65 Q262.034 1174.53 262.034 1180.33 Q262.034 1186.1 263.501 1189 Q264.987 1191.87 267.921 1191.87 Q270.874 1191.87 272.341 1189 Q273.827 1186.1 273.827 1180.33 Q273.827 1174.53 272.341 1171.65 Q270.874 1168.76 267.921 1168.76 M267.921 1165.75 Q272.642 1165.75 275.124 1169.49 Q277.626 1173.22 277.626 1180.33 Q277.626 1187.42 275.124 1191.16 Q272.642 1194.88 267.921 1194.88 Q263.2 1194.88 260.699 1191.16 Q258.216 1187.42 258.216 1180.33 Q258.216 1173.22 260.699 1169.49 Q263.2 1165.75 267.921 1165.75 Z\" fill=\"#000000\" fill-rule=\"evenodd\" fill-opacity=\"1\" /><path clip-path=\"url(#clip740)\" d=\"M 0 0 M115.74 1031.2 L123.379 1031.2 L123.379 1004.84 L115.069 1006.5 L115.069 1002.24 L123.333 1000.58 L128.009 1000.58 L128.009 1031.2 L135.647 1031.2 L135.647 1035.14 L115.74 1035.14 L115.74 1031.2 Z\" fill=\"#000000\" fill-rule=\"evenodd\" fill-opacity=\"1\" /><path clip-path=\"url(#clip740)\" d=\"M 0 0 M155.092 1003.66 Q151.481 1003.66 149.652 1007.22 Q147.846 1010.76 147.846 1017.89 Q147.846 1025 149.652 1028.56 Q151.481 1032.11 155.092 1032.11 Q158.726 1032.11 160.532 1028.56 Q162.36 1025 162.36 1017.89 Q162.36 1010.76 160.532 1007.22 Q158.726 1003.66 155.092 1003.66 M155.092 999.952 Q160.902 999.952 163.958 1004.56 Q167.036 1009.14 167.036 1017.89 Q167.036 1026.62 163.958 1031.23 Q160.902 1035.81 155.092 1035.81 Q149.282 1035.81 146.203 1031.23 Q143.147 1026.62 143.147 1017.89 Q143.147 1009.14 146.203 1004.56 Q149.282 999.952 155.092 999.952 Z\" fill=\"#000000\" fill-rule=\"evenodd\" fill-opacity=\"1\" /><path clip-path=\"url(#clip740)\" d=\"M 0 0 M167.036 994.054 L191.148 994.054 L191.148 997.251 L167.036 997.251 L167.036 994.054 Z\" fill=\"#000000\" fill-rule=\"evenodd\" fill-opacity=\"1\" /><path clip-path=\"url(#clip740)\" d=\"M 0 0 M209.786 982.957 L200.194 997.947 L209.786 997.947 L209.786 982.957 M208.789 979.647 L213.567 979.647 L213.567 997.947 L217.573 997.947 L217.573 1001.11 L213.567 1001.11 L213.567 1007.73 L209.786 1007.73 L209.786 1001.11 L197.11 1001.11 L197.11 997.439 L208.789 979.647 Z\" fill=\"#000000\" fill-rule=\"evenodd\" fill-opacity=\"1\" /><path clip-path=\"url(#clip740)\" d=\"M 0 0 M223.854 1002.95 L227.823 1002.95 L227.823 1007.73 L223.854 1007.73 L223.854 1002.95 Z\" fill=\"#000000\" fill-rule=\"evenodd\" fill-opacity=\"1\" /><path clip-path=\"url(#clip740)\" d=\"M 0 0 M235.139 979.647 L253.195 979.647 L253.195 981.265 L243.001 1007.73 L239.032 1007.73 L248.624 982.844 L235.139 982.844 L235.139 979.647 Z\" fill=\"#000000\" fill-rule=\"evenodd\" fill-opacity=\"1\" /><path clip-path=\"url(#clip740)\" d=\"M 0 0 M260.642 979.647 L275.557 979.647 L275.557 982.844 L264.122 982.844 L264.122 989.728 Q264.949 989.446 265.777 989.314 Q266.605 989.164 267.432 989.164 Q272.134 989.164 274.88 991.74 Q277.626 994.317 277.626 998.718 Q277.626 1003.25 274.805 1005.77 Q271.984 1008.27 266.849 1008.27 Q265.081 1008.27 263.238 1007.97 Q261.414 1007.67 259.458 1007.07 L259.458 1003.25 Q261.15 1004.17 262.956 1004.62 Q264.761 1005.08 266.774 1005.08 Q270.028 1005.08 271.927 1003.36 Q273.827 1001.65 273.827 998.718 Q273.827 995.784 271.927 994.073 Q270.028 992.361 266.774 992.361 Q265.25 992.361 263.727 992.7 Q262.222 993.038 260.642 993.753 L260.642 979.647 Z\" fill=\"#000000\" fill-rule=\"evenodd\" fill-opacity=\"1\" /><path clip-path=\"url(#clip740)\" d=\"M 0 0 M114.931 844.592 L122.57 844.592 L122.57 818.227 L114.26 819.894 L114.26 815.634 L122.524 813.968 L127.2 813.968 L127.2 844.592 L134.839 844.592 L134.839 848.528 L114.931 848.528 L114.931 844.592 Z\" fill=\"#000000\" fill-rule=\"evenodd\" fill-opacity=\"1\" /><path clip-path=\"url(#clip740)\" d=\"M 0 0 M154.283 817.046 Q150.672 817.046 148.843 820.611 Q147.038 824.153 147.038 831.282 Q147.038 838.389 148.843 841.954 Q150.672 845.495 154.283 845.495 Q157.917 845.495 159.723 841.954 Q161.552 838.389 161.552 831.282 Q161.552 824.153 159.723 820.611 Q157.917 817.046 154.283 817.046 M154.283 813.343 Q160.093 813.343 163.149 817.949 Q166.227 822.532 166.227 831.282 Q166.227 840.009 163.149 844.616 Q160.093 849.199 154.283 849.199 Q148.473 849.199 145.394 844.616 Q142.339 840.009 142.339 831.282 Q142.339 822.532 145.394 817.949 Q148.473 813.343 154.283 813.343 Z\" fill=\"#000000\" fill-rule=\"evenodd\" fill-opacity=\"1\" /><path clip-path=\"url(#clip740)\" d=\"M 0 0 M166.227 807.444 L190.339 807.444 L190.339 810.641 L166.227 810.641 L166.227 807.444 Z\" fill=\"#000000\" fill-rule=\"evenodd\" fill-opacity=\"1\" /><path clip-path=\"url(#clip740)\" d=\"M 0 0 M208.978 796.347 L199.386 811.337 L208.978 811.337 L208.978 796.347 M207.981 793.037 L212.758 793.037 L212.758 811.337 L216.764 811.337 L216.764 814.497 L212.758 814.497 L212.758 821.117 L208.978 821.117 L208.978 814.497 L196.301 814.497 L196.301 810.829 L207.981 793.037 Z\" fill=\"#000000\" fill-rule=\"evenodd\" fill-opacity=\"1\" /><path clip-path=\"url(#clip740)\" d=\"M 0 0 M223.046 816.34 L227.014 816.34 L227.014 821.117 L223.046 821.117 L223.046 816.34 Z\" fill=\"#000000\" fill-rule=\"evenodd\" fill-opacity=\"1\" /><path clip-path=\"url(#clip740)\" d=\"M 0 0 M235.327 793.037 L250.242 793.037 L250.242 796.235 L238.807 796.235 L238.807 803.118 Q239.634 802.836 240.462 802.704 Q241.289 802.554 242.117 802.554 Q246.819 802.554 249.565 805.131 Q252.311 807.707 252.311 812.108 Q252.311 816.641 249.489 819.161 Q246.668 821.663 241.534 821.663 Q239.766 821.663 237.923 821.362 Q236.098 821.061 234.142 820.459 L234.142 816.641 Q235.835 817.563 237.641 818.014 Q239.446 818.465 241.459 818.465 Q244.712 818.465 246.612 816.754 Q248.511 815.042 248.511 812.108 Q248.511 809.174 246.612 807.463 Q244.712 805.751 241.459 805.751 Q239.935 805.751 238.412 806.09 Q236.907 806.428 235.327 807.143 L235.327 793.037 Z\" fill=\"#000000\" fill-rule=\"evenodd\" fill-opacity=\"1\" /><path clip-path=\"url(#clip740)\" d=\"M 0 0 M267.921 795.539 Q264.987 795.539 263.501 798.435 Q262.034 801.313 262.034 807.105 Q262.034 812.879 263.501 815.776 Q264.987 818.653 267.921 818.653 Q270.874 818.653 272.341 815.776 Q273.827 812.879 273.827 807.105 Q273.827 801.313 272.341 798.435 Q270.874 795.539 267.921 795.539 M267.921 792.529 Q272.642 792.529 275.124 796.272 Q277.626 799.996 277.626 807.105 Q277.626 814.196 275.124 817.939 Q272.642 821.663 267.921 821.663 Q263.2 821.663 260.699 817.939 Q258.216 814.196 258.216 807.105 Q258.216 799.996 260.699 796.272 Q263.2 792.529 267.921 792.529 Z\" fill=\"#000000\" fill-rule=\"evenodd\" fill-opacity=\"1\" /><path clip-path=\"url(#clip740)\" d=\"M 0 0 M115.74 657.983 L123.379 657.983 L123.379 631.617 L115.069 633.284 L115.069 629.025 L123.333 627.358 L128.009 627.358 L128.009 657.983 L135.647 657.983 L135.647 661.918 L115.74 661.918 L115.74 657.983 Z\" fill=\"#000000\" fill-rule=\"evenodd\" fill-opacity=\"1\" /><path clip-path=\"url(#clip740)\" d=\"M 0 0 M155.092 630.437 Q151.481 630.437 149.652 634.001 Q147.846 637.543 147.846 644.673 Q147.846 651.779 149.652 655.344 Q151.481 658.885 155.092 658.885 Q158.726 658.885 160.532 655.344 Q162.36 651.779 162.36 644.673 Q162.36 637.543 160.532 634.001 Q158.726 630.437 155.092 630.437 M155.092 626.733 Q160.902 626.733 163.958 631.339 Q167.036 635.923 167.036 644.673 Q167.036 653.399 163.958 658.006 Q160.902 662.589 155.092 662.589 Q149.282 662.589 146.203 658.006 Q143.147 653.399 143.147 644.673 Q143.147 635.923 146.203 631.339 Q149.282 626.733 155.092 626.733 Z\" fill=\"#000000\" fill-rule=\"evenodd\" fill-opacity=\"1\" /><path clip-path=\"url(#clip740)\" d=\"M 0 0 M167.036 620.834 L191.148 620.834 L191.148 624.032 L167.036 624.032 L167.036 620.834 Z\" fill=\"#000000\" fill-rule=\"evenodd\" fill-opacity=\"1\" /><path clip-path=\"url(#clip740)\" d=\"M 0 0 M209.786 609.738 L200.194 624.727 L209.786 624.727 L209.786 609.738 M208.789 606.427 L213.567 606.427 L213.567 624.727 L217.573 624.727 L217.573 627.887 L213.567 627.887 L213.567 634.507 L209.786 634.507 L209.786 627.887 L197.11 627.887 L197.11 624.22 L208.789 606.427 Z\" fill=\"#000000\" fill-rule=\"evenodd\" fill-opacity=\"1\" /><path clip-path=\"url(#clip740)\" d=\"M 0 0 M223.854 629.73 L227.823 629.73 L227.823 634.507 L223.854 634.507 L223.854 629.73 Z\" fill=\"#000000\" fill-rule=\"evenodd\" fill-opacity=\"1\" /><path clip-path=\"url(#clip740)\" d=\"M 0 0 M239.371 631.31 L252.63 631.31 L252.63 634.507 L234.801 634.507 L234.801 631.31 Q236.963 629.072 240.687 625.31 Q244.43 621.53 245.389 620.439 Q247.214 618.389 247.928 616.979 Q248.662 615.549 248.662 614.176 Q248.662 611.938 247.082 610.528 Q245.521 609.117 243.001 609.117 Q241.214 609.117 239.22 609.738 Q237.246 610.358 234.989 611.618 L234.989 607.782 Q237.283 606.86 239.277 606.39 Q241.27 605.92 242.926 605.92 Q247.289 605.92 249.884 608.101 Q252.48 610.283 252.48 613.932 Q252.48 615.662 251.822 617.223 Q251.182 618.765 249.471 620.872 Q249 621.417 246.48 624.032 Q243.96 626.627 239.371 631.31 Z\" fill=\"#000000\" fill-rule=\"evenodd\" fill-opacity=\"1\" /><path clip-path=\"url(#clip740)\" d=\"M 0 0 M260.642 606.427 L275.557 606.427 L275.557 609.625 L264.122 609.625 L264.122 616.508 Q264.949 616.226 265.777 616.095 Q266.605 615.944 267.432 615.944 Q272.134 615.944 274.88 618.521 Q277.626 621.098 277.626 625.499 Q277.626 630.031 274.805 632.551 Q271.984 635.053 266.849 635.053 Q265.081 635.053 263.238 634.752 Q261.414 634.451 259.458 633.849 L259.458 630.031 Q261.15 630.953 262.956 631.404 Q264.761 631.856 266.774 631.856 Q270.028 631.856 271.927 630.144 Q273.827 628.433 273.827 625.499 Q273.827 622.565 271.927 620.853 Q270.028 619.142 266.774 619.142 Q265.25 619.142 263.727 619.48 Q262.222 619.819 260.642 620.533 L260.642 606.427 Z\" fill=\"#000000\" fill-rule=\"evenodd\" fill-opacity=\"1\" /><path clip-path=\"url(#clip740)\" d=\"M 0 0 M114.931 471.373 L122.57 471.373 L122.57 445.007 L114.26 446.674 L114.26 442.415 L122.524 440.748 L127.2 440.748 L127.2 471.373 L134.839 471.373 L134.839 475.308 L114.931 475.308 L114.931 471.373 Z\" fill=\"#000000\" fill-rule=\"evenodd\" fill-opacity=\"1\" /><path clip-path=\"url(#clip740)\" d=\"M 0 0 M154.283 443.827 Q150.672 443.827 148.843 447.392 Q147.038 450.933 147.038 458.063 Q147.038 465.169 148.843 468.734 Q150.672 472.276 154.283 472.276 Q157.917 472.276 159.723 468.734 Q161.552 465.169 161.552 458.063 Q161.552 450.933 159.723 447.392 Q157.917 443.827 154.283 443.827 M154.283 440.123 Q160.093 440.123 163.149 444.73 Q166.227 449.313 166.227 458.063 Q166.227 466.79 163.149 471.396 Q160.093 475.979 154.283 475.979 Q148.473 475.979 145.394 471.396 Q142.339 466.79 142.339 458.063 Q142.339 449.313 145.394 444.73 Q148.473 440.123 154.283 440.123 Z\" fill=\"#000000\" fill-rule=\"evenodd\" fill-opacity=\"1\" /><path clip-path=\"url(#clip740)\" d=\"M 0 0 M166.227 434.224 L190.339 434.224 L190.339 437.422 L166.227 437.422 L166.227 434.224 Z\" fill=\"#000000\" fill-rule=\"evenodd\" fill-opacity=\"1\" /><path clip-path=\"url(#clip740)\" d=\"M 0 0 M208.978 423.128 L199.386 438.118 L208.978 438.118 L208.978 423.128 M207.981 419.818 L212.758 419.818 L212.758 438.118 L216.764 438.118 L216.764 441.277 L212.758 441.277 L212.758 447.898 L208.978 447.898 L208.978 441.277 L196.301 441.277 L196.301 437.61 L207.981 419.818 Z\" fill=\"#000000\" fill-rule=\"evenodd\" fill-opacity=\"1\" /><path clip-path=\"url(#clip740)\" d=\"M 0 0 M223.046 443.12 L227.014 443.12 L227.014 447.898 L223.046 447.898 L223.046 443.12 Z\" fill=\"#000000\" fill-rule=\"evenodd\" fill-opacity=\"1\" /><path clip-path=\"url(#clip740)\" d=\"M 0 0 M243.415 422.319 Q240.481 422.319 238.995 425.215 Q237.528 428.093 237.528 433.886 Q237.528 439.66 238.995 442.556 Q240.481 445.434 243.415 445.434 Q246.367 445.434 247.834 442.556 Q249.32 439.66 249.32 433.886 Q249.32 428.093 247.834 425.215 Q246.367 422.319 243.415 422.319 M243.415 419.31 Q248.135 419.31 250.618 423.053 Q253.119 426.777 253.119 433.886 Q253.119 440.976 250.618 444.719 Q248.135 448.443 243.415 448.443 Q238.694 448.443 236.192 444.719 Q233.71 440.976 233.71 433.886 Q233.71 426.777 236.192 423.053 Q238.694 419.31 243.415 419.31 Z\" fill=\"#000000\" fill-rule=\"evenodd\" fill-opacity=\"1\" /><path clip-path=\"url(#clip740)\" d=\"M 0 0 M267.921 422.319 Q264.987 422.319 263.501 425.215 Q262.034 428.093 262.034 433.886 Q262.034 439.66 263.501 442.556 Q264.987 445.434 267.921 445.434 Q270.874 445.434 272.341 442.556 Q273.827 439.66 273.827 433.886 Q273.827 428.093 272.341 425.215 Q270.874 422.319 267.921 422.319 M267.921 419.31 Q272.642 419.31 275.124 423.053 Q277.626 426.777 277.626 433.886 Q277.626 440.976 275.124 444.719 Q272.642 448.443 267.921 448.443 Q263.2 448.443 260.699 444.719 Q258.216 440.976 258.216 433.886 Q258.216 426.777 260.699 423.053 Q263.2 419.31 267.921 419.31 Z\" fill=\"#000000\" fill-rule=\"evenodd\" fill-opacity=\"1\" /><path clip-path=\"url(#clip740)\" d=\"M 0 0 M115.74 284.763 L123.379 284.763 L123.379 258.397 L115.069 260.064 L115.069 255.805 L123.333 254.138 L128.009 254.138 L128.009 284.763 L135.647 284.763 L135.647 288.698 L115.74 288.698 L115.74 284.763 Z\" fill=\"#000000\" fill-rule=\"evenodd\" fill-opacity=\"1\" /><path clip-path=\"url(#clip740)\" d=\"M 0 0 M155.092 257.217 Q151.481 257.217 149.652 260.782 Q147.846 264.323 147.846 271.453 Q147.846 278.559 149.652 282.124 Q151.481 285.666 155.092 285.666 Q158.726 285.666 160.532 282.124 Q162.36 278.559 162.36 271.453 Q162.36 264.323 160.532 260.782 Q158.726 257.217 155.092 257.217 M155.092 253.513 Q160.902 253.513 163.958 258.12 Q167.036 262.703 167.036 271.453 Q167.036 280.18 163.958 284.786 Q160.902 289.37 155.092 289.37 Q149.282 289.37 146.203 284.786 Q143.147 280.18 143.147 271.453 Q143.147 262.703 146.203 258.12 Q149.282 253.513 155.092 253.513 Z\" fill=\"#000000\" fill-rule=\"evenodd\" fill-opacity=\"1\" /><path clip-path=\"url(#clip740)\" d=\"M 0 0 M167.036 247.615 L191.148 247.615 L191.148 250.812 L167.036 250.812 L167.036 247.615 Z\" fill=\"#000000\" fill-rule=\"evenodd\" fill-opacity=\"1\" /><path clip-path=\"url(#clip740)\" d=\"M 0 0 M210.858 246.148 Q213.585 246.731 215.109 248.574 Q216.651 250.417 216.651 253.125 Q216.651 257.282 213.792 259.558 Q210.934 261.833 205.667 261.833 Q203.899 261.833 202.019 261.476 Q200.157 261.137 198.163 260.441 L198.163 256.774 Q199.743 257.696 201.624 258.166 Q203.504 258.636 205.555 258.636 Q209.128 258.636 210.99 257.225 Q212.871 255.815 212.871 253.125 Q212.871 250.643 211.122 249.251 Q209.391 247.84 206.288 247.84 L203.015 247.84 L203.015 244.718 L206.438 244.718 Q209.241 244.718 210.727 243.609 Q212.212 242.48 212.212 240.374 Q212.212 238.211 210.67 237.063 Q209.147 235.897 206.288 235.897 Q204.727 235.897 202.94 236.236 Q201.153 236.574 199.009 237.289 L199.009 233.904 Q201.172 233.302 203.053 233.001 Q204.953 232.7 206.627 232.7 Q210.952 232.7 213.473 234.675 Q215.993 236.631 215.993 239.979 Q215.993 242.311 214.657 243.928 Q213.322 245.527 210.858 246.148 Z\" fill=\"#000000\" fill-rule=\"evenodd\" fill-opacity=\"1\" /><path clip-path=\"url(#clip740)\" d=\"M 0 0 M223.854 256.511 L227.823 256.511 L227.823 261.288 L223.854 261.288 L223.854 256.511 Z\" fill=\"#000000\" fill-rule=\"evenodd\" fill-opacity=\"1\" /><path clip-path=\"url(#clip740)\" d=\"M 0 0 M235.139 233.208 L253.195 233.208 L253.195 234.825 L243.001 261.288 L239.032 261.288 L248.624 236.405 L235.139 236.405 L235.139 233.208 Z\" fill=\"#000000\" fill-rule=\"evenodd\" fill-opacity=\"1\" /><path clip-path=\"url(#clip740)\" d=\"M 0 0 M260.642 233.208 L275.557 233.208 L275.557 236.405 L264.122 236.405 L264.122 243.289 Q264.949 243.007 265.777 242.875 Q266.605 242.725 267.432 242.725 Q272.134 242.725 274.88 245.301 Q277.626 247.878 277.626 252.279 Q277.626 256.812 274.805 259.332 Q271.984 261.833 266.849 261.833 Q265.081 261.833 263.238 261.532 Q261.414 261.231 259.458 260.63 L259.458 256.812 Q261.15 257.733 262.956 258.185 Q264.761 258.636 266.774 258.636 Q270.028 258.636 271.927 256.924 Q273.827 255.213 273.827 252.279 Q273.827 249.345 271.927 247.633 Q270.028 245.922 266.774 245.922 Q265.25 245.922 263.727 246.26 Q262.222 246.599 260.642 247.314 L260.642 233.208 Z\" fill=\"#000000\" fill-rule=\"evenodd\" fill-opacity=\"1\" /><path clip-path=\"url(#clip740)\" d=\"M 0 0 M44.7161 1045.67 L47.5806 1045.67 L47.5806 1072.59 Q53.6281 1072.21 56.8109 1068.96 Q59.9619 1065.69 59.9619 1059.86 Q59.9619 1056.49 59.1344 1053.34 Q58.3069 1050.15 56.6518 1047.03 L62.1899 1047.03 Q63.5267 1050.18 64.227 1053.5 Q64.9272 1056.81 64.9272 1060.21 Q64.9272 1068.74 59.9619 1073.74 Q54.9967 1078.7 46.5303 1078.7 Q37.7774 1078.7 32.6531 1073.99 Q27.4968 1069.25 27.4968 1061.23 Q27.4968 1054.04 32.1438 1049.87 Q36.7589 1045.67 44.7161 1045.67 M42.9973 1051.52 Q38.1912 1051.59 35.3266 1054.23 Q32.4621 1056.84 32.4621 1061.17 Q32.4621 1066.07 35.2312 1069.03 Q38.0002 1071.96 43.0292 1072.4 L42.9973 1051.52 Z\" fill=\"#000000\" fill-rule=\"evenodd\" fill-opacity=\"1\" /><path clip-path=\"url(#clip740)\" d=\"M 0 0 M14.479 1036.05 L14.479 1030.2 L64.0042 1030.2 L64.0042 1036.05 L14.479 1036.05 Z\" fill=\"#000000\" fill-rule=\"evenodd\" fill-opacity=\"1\" /><path clip-path=\"url(#clip740)\" d=\"M 0 0 M46.0847 1001.74 Q46.0847 1008.84 47.7079 1011.58 Q49.3312 1014.31 53.2461 1014.31 Q56.3653 1014.31 58.2114 1012.28 Q60.0256 1010.21 60.0256 1006.68 Q60.0256 1001.81 56.5881 998.877 Q53.1188 995.917 47.3897 995.917 L46.0847 995.917 L46.0847 1001.74 M43.6657 990.061 L64.0042 990.061 L64.0042 995.917 L58.5933 995.917 Q61.8398 997.922 63.3994 1000.91 Q64.9272 1003.91 64.9272 1008.23 Q64.9272 1013.71 61.8716 1016.96 Q58.7843 1020.17 53.6281 1020.17 Q47.6125 1020.17 44.5569 1016.16 Q41.5014 1012.12 41.5014 1004.13 L41.5014 995.917 L40.9285 995.917 Q36.8862 995.917 34.6901 998.591 Q32.4621 1001.23 32.4621 1006.04 Q32.4621 1009.09 33.1941 1011.99 Q33.9262 1014.89 35.3903 1017.56 L29.9795 1017.56 Q28.7381 1014.35 28.1334 1011.32 Q27.4968 1008.3 27.4968 1005.43 Q27.4968 997.7 31.5072 993.88 Q35.5176 990.061 43.6657 990.061 Z\" fill=\"#000000\" fill-rule=\"evenodd\" fill-opacity=\"1\" /><path clip-path=\"url(#clip740)\" d=\"M 0 0 M58.657 972.332 L77.5631 972.332 L77.5631 978.221 L28.3562 978.221 L28.3562 972.332 L33.7671 972.332 Q30.5842 970.486 29.0564 967.685 Q27.4968 964.853 27.4968 960.938 Q27.4968 954.445 32.6531 950.402 Q37.8093 946.328 46.212 946.328 Q54.6147 946.328 59.771 950.402 Q64.9272 954.445 64.9272 960.938 Q64.9272 964.853 63.3994 967.685 Q61.8398 970.486 58.657 972.332 M46.212 952.408 Q39.7508 952.408 36.0905 955.081 Q32.3984 957.723 32.3984 962.37 Q32.3984 967.017 36.0905 969.69 Q39.7508 972.332 46.212 972.332 Q52.6732 972.332 56.3653 969.69 Q60.0256 967.017 60.0256 962.37 Q60.0256 957.723 56.3653 955.081 Q52.6732 952.408 46.212 952.408 Z\" fill=\"#000000\" fill-rule=\"evenodd\" fill-opacity=\"1\" /><path clip-path=\"url(#clip740)\" d=\"M 0 0 M29.4065 913.895 L34.9447 913.895 Q33.6716 916.378 33.035 919.051 Q32.3984 921.725 32.3984 924.589 Q32.3984 928.95 33.7352 931.146 Q35.072 933.31 37.7456 933.31 Q39.7826 933.31 40.9603 931.751 Q42.1061 930.191 43.1565 925.481 L43.6021 923.475 Q44.9389 917.237 47.3897 914.627 Q49.8086 911.985 54.1691 911.985 Q59.1344 911.985 62.0308 915.932 Q64.9272 919.847 64.9272 926.722 Q64.9272 929.587 64.3543 932.706 Q63.8132 935.793 62.6992 939.231 L56.6518 939.231 Q58.3387 935.984 59.198 932.833 Q60.0256 929.682 60.0256 926.595 Q60.0256 922.457 58.6251 920.229 Q57.1929 918.001 54.6147 918.001 Q52.2276 918.001 50.9545 919.624 Q49.6813 921.216 48.5037 926.658 L48.0262 928.695 Q46.8804 934.138 44.5251 936.557 Q42.138 938.976 38.0002 938.976 Q32.9713 938.976 30.2341 935.411 Q27.4968 931.846 27.4968 925.29 Q27.4968 922.043 27.9743 919.179 Q28.4517 916.314 29.4065 913.895 Z\" fill=\"#000000\" fill-rule=\"evenodd\" fill-opacity=\"1\" /><path clip-path=\"url(#clip740)\" d=\"M 0 0 M44.7161 872.168 L47.5806 872.168 L47.5806 899.095 Q53.6281 898.713 56.8109 895.466 Q59.9619 892.188 59.9619 886.363 Q59.9619 882.99 59.1344 879.839 Q58.3069 876.656 56.6518 873.536 L62.1899 873.536 Q63.5267 876.688 64.227 879.998 Q64.9272 883.308 64.9272 886.713 Q64.9272 895.244 59.9619 900.241 Q54.9967 905.206 46.5303 905.206 Q37.7774 905.206 32.6531 900.495 Q27.4968 895.753 27.4968 887.732 Q27.4968 880.539 32.1438 876.369 Q36.7589 872.168 44.7161 872.168 M42.9973 878.024 Q38.1912 878.088 35.3266 880.73 Q32.4621 883.34 32.4621 887.668 Q32.4621 892.57 35.2312 895.53 Q38.0002 898.458 43.0292 898.904 L42.9973 878.024 Z\" fill=\"#000000\" fill-rule=\"evenodd\" fill-opacity=\"1\" /><path clip-path=\"url(#clip740)\" d=\"M 0 0 M33.7671 839.098 L14.479 839.098 L14.479 833.242 L64.0042 833.242 L64.0042 839.098 L58.657 839.098 Q61.8398 840.944 63.3994 843.777 Q64.9272 846.578 64.9272 850.524 Q64.9272 856.986 59.771 861.06 Q54.6147 865.102 46.212 865.102 Q37.8093 865.102 32.6531 861.06 Q27.4968 856.986 27.4968 850.524 Q27.4968 846.578 29.0564 843.777 Q30.5842 840.944 33.7671 839.098 M46.212 859.054 Q52.6732 859.054 56.3653 856.413 Q60.0256 853.739 60.0256 849.092 Q60.0256 844.445 56.3653 841.772 Q52.6732 839.098 46.212 839.098 Q39.7508 839.098 36.0905 841.772 Q32.3984 844.445 32.3984 849.092 Q32.3984 853.739 36.0905 856.413 Q39.7508 859.054 46.212 859.054 Z\" fill=\"#000000\" fill-rule=\"evenodd\" fill-opacity=\"1\" /><path clip-path=\"url(#clip740)\" d=\"M 0 0 M18.2347 794.665 L28.3562 794.665 L28.3562 782.602 L32.9077 782.602 L32.9077 794.665 L52.2594 794.665 Q56.6199 794.665 57.8613 793.488 Q59.1026 792.278 59.1026 788.618 L59.1026 782.602 L64.0042 782.602 L64.0042 788.618 Q64.0042 795.397 61.4897 797.976 Q58.9434 800.554 52.2594 800.554 L32.9077 800.554 L32.9077 804.851 L28.3562 804.851 L28.3562 800.554 L18.2347 800.554 L18.2347 794.665 Z\" fill=\"#000000\" fill-rule=\"evenodd\" fill-opacity=\"1\" /><path clip-path=\"url(#clip740)\" d=\"M 0 0 M28.3562 774.9 L28.3562 769.043 L64.0042 769.043 L64.0042 774.9 L28.3562 774.9 M14.479 774.9 L14.479 769.043 L21.895 769.043 L21.895 774.9 L14.479 774.9 Z\" fill=\"#000000\" fill-rule=\"evenodd\" fill-opacity=\"1\" /><path clip-path=\"url(#clip740)\" d=\"M 0 0 M35.1993 729.035 Q31.2526 726.839 29.3747 723.783 Q27.4968 720.728 27.4968 716.59 Q27.4968 711.02 31.4117 707.996 Q35.2948 704.973 42.4881 704.973 L64.0042 704.973 L64.0042 710.861 L42.679 710.861 Q37.5546 710.861 35.072 712.675 Q32.5894 714.489 32.5894 718.213 Q32.5894 722.765 35.6131 725.406 Q38.6368 728.048 43.8567 728.048 L64.0042 728.048 L64.0042 733.937 L42.679 733.937 Q37.5228 733.937 35.072 735.751 Q32.5894 737.565 32.5894 741.353 Q32.5894 745.84 35.6449 748.482 Q38.6686 751.124 43.8567 751.124 L64.0042 751.124 L64.0042 757.012 L28.3562 757.012 L28.3562 751.124 L33.8944 751.124 Q30.616 749.119 29.0564 746.318 Q27.4968 743.517 27.4968 739.666 Q27.4968 735.783 29.4702 733.077 Q31.4436 730.34 35.1993 729.035 Z\" fill=\"#000000\" fill-rule=\"evenodd\" fill-opacity=\"1\" /><path clip-path=\"url(#clip740)\" d=\"M 0 0 M44.7161 662.8 L47.5806 662.8 L47.5806 689.727 Q53.6281 689.345 56.8109 686.098 Q59.9619 682.82 59.9619 676.995 Q59.9619 673.621 59.1344 670.47 Q58.3069 667.288 56.6518 664.168 L62.1899 664.168 Q63.5267 667.319 64.227 670.63 Q64.9272 673.94 64.9272 677.345 Q64.9272 685.875 59.9619 690.873 Q54.9967 695.838 46.5303 695.838 Q37.7774 695.838 32.6531 691.127 Q27.4968 686.385 27.4968 678.364 Q27.4968 671.171 32.1438 667.001 Q36.7589 662.8 44.7161 662.8 M42.9973 668.656 Q38.1912 668.72 35.3266 671.362 Q32.4621 673.972 32.4621 678.3 Q32.4621 683.202 35.2312 686.162 Q38.0002 689.09 43.0292 689.536 L42.9973 668.656 Z\" fill=\"#000000\" fill-rule=\"evenodd\" fill-opacity=\"1\" /><path clip-path=\"url(#clip740)\" d=\"M 0 0 M14.5426 618.399 Q21.8632 622.664 29.0246 624.733 Q36.186 626.802 43.5384 626.802 Q50.8908 626.802 58.1159 624.733 Q65.3091 622.632 72.5979 618.399 L72.5979 623.492 Q65.1182 628.266 57.8931 630.653 Q50.668 633.008 43.5384 633.008 Q36.4406 633.008 29.2474 630.653 Q22.0542 628.298 14.5426 623.492 L14.5426 618.399 Z\" fill=\"#000000\" fill-rule=\"evenodd\" fill-opacity=\"1\" /><path clip-path=\"url(#clip740)\" d=\"M 0 0 M29.4065 584.311 L34.9447 584.311 Q33.6716 586.793 33.035 589.467 Q32.3984 592.14 32.3984 595.005 Q32.3984 599.365 33.7352 601.562 Q35.072 603.726 37.7456 603.726 Q39.7826 603.726 40.9603 602.166 Q42.1061 600.607 43.1565 595.896 L43.6021 593.891 Q44.9389 587.653 47.3897 585.043 Q49.8086 582.401 54.1691 582.401 Q59.1344 582.401 62.0308 586.348 Q64.9272 590.263 64.9272 597.137 Q64.9272 600.002 64.3543 603.121 Q63.8132 606.209 62.6992 609.646 L56.6518 609.646 Q58.3387 606.4 59.198 603.249 Q60.0256 600.098 60.0256 597.01 Q60.0256 592.872 58.6251 590.644 Q57.1929 588.416 54.6147 588.416 Q52.2276 588.416 50.9545 590.04 Q49.6813 591.631 48.5037 597.074 L48.0262 599.111 Q46.8804 604.554 44.5251 606.973 Q42.138 609.391 38.0002 609.391 Q32.9713 609.391 30.2341 605.827 Q27.4968 602.262 27.4968 595.705 Q27.4968 592.459 27.9743 589.594 Q28.4517 586.73 29.4065 584.311 Z\" fill=\"#000000\" fill-rule=\"evenodd\" fill-opacity=\"1\" /><path clip-path=\"url(#clip740)\" d=\"M 0 0 M44.7161 542.583 L47.5806 542.583 L47.5806 569.51 Q53.6281 569.128 56.8109 565.882 Q59.9619 562.604 59.9619 556.779 Q59.9619 553.405 59.1344 550.254 Q58.3069 547.071 56.6518 543.952 L62.1899 543.952 Q63.5267 547.103 64.227 550.413 Q64.9272 553.723 64.9272 557.129 Q64.9272 565.659 59.9619 570.656 Q54.9967 575.621 46.5303 575.621 Q37.7774 575.621 32.6531 570.911 Q27.4968 566.168 27.4968 558.148 Q27.4968 550.954 32.1438 546.785 Q36.7589 542.583 44.7161 542.583 M42.9973 548.44 Q38.1912 548.504 35.3266 551.145 Q32.4621 553.755 32.4621 558.084 Q32.4621 562.985 35.2312 565.946 Q38.0002 568.874 43.0292 569.319 L42.9973 548.44 Z\" fill=\"#000000\" fill-rule=\"evenodd\" fill-opacity=\"1\" /><path clip-path=\"url(#clip740)\" d=\"M 0 0 M29.7248 507.317 L35.1993 507.317 Q33.8307 509.8 33.1623 512.314 Q32.4621 514.797 32.4621 517.343 Q32.4621 523.041 36.0905 526.192 Q39.6872 529.343 46.212 529.343 Q52.7369 529.343 56.3653 526.192 Q59.9619 523.041 59.9619 517.343 Q59.9619 514.797 59.2935 512.314 Q58.5933 509.8 57.2247 507.317 L62.6355 507.317 Q63.7814 509.768 64.3543 512.41 Q64.9272 515.02 64.9272 517.98 Q64.9272 526.033 59.8664 530.775 Q54.8057 535.517 46.212 535.517 Q37.491 535.517 32.4939 530.743 Q27.4968 525.937 27.4968 517.598 Q27.4968 514.893 28.0697 512.314 Q28.6108 509.736 29.7248 507.317 Z\" fill=\"#000000\" fill-rule=\"evenodd\" fill-opacity=\"1\" /><path clip-path=\"url(#clip740)\" d=\"M 0 0 M14.5426 498.055 L14.5426 492.963 Q22.0542 488.188 29.2474 485.833 Q36.4406 483.446 43.5384 483.446 Q50.668 483.446 57.8931 485.833 Q65.1182 488.188 72.5979 492.963 L72.5979 498.055 Q65.3091 493.822 58.1159 491.753 Q50.8908 489.653 43.5384 489.653 Q36.186 489.653 29.0246 491.753 Q21.8632 493.822 14.5426 498.055 Z\" fill=\"#000000\" fill-rule=\"evenodd\" fill-opacity=\"1\" /><path clip-path=\"url(#clip740)\" d=\"M 0 0 M663.779 12.096 L714.942 12.096 L714.942 18.9825 L693.472 18.9825 L693.472 72.576 L685.249 72.576 L685.249 18.9825 L663.779 18.9825 L663.779 12.096 Z\" fill=\"#000000\" fill-rule=\"evenodd\" fill-opacity=\"1\" /><path clip-path=\"url(#clip740)\" d=\"M 0 0 M719.965 27.2059 L727.419 27.2059 L727.419 72.576 L719.965 72.576 L719.965 27.2059 M719.965 9.54393 L727.419 9.54393 L727.419 18.9825 L719.965 18.9825 L719.965 9.54393 Z\" fill=\"#000000\" fill-rule=\"evenodd\" fill-opacity=\"1\" /><path clip-path=\"url(#clip740)\" d=\"M 0 0 M778.339 35.9153 Q781.134 30.8922 785.023 28.5022 Q788.911 26.1121 794.178 26.1121 Q801.267 26.1121 805.115 31.0947 Q808.963 36.0368 808.963 45.1919 L808.963 72.576 L801.469 72.576 L801.469 45.4349 Q801.469 38.913 799.16 35.7533 Q796.851 32.5936 792.112 32.5936 Q786.319 32.5936 782.957 36.4419 Q779.594 40.2903 779.594 46.9338 L779.594 72.576 L772.1 72.576 L772.1 45.4349 Q772.1 38.8725 769.791 35.7533 Q767.482 32.5936 762.662 32.5936 Q756.95 32.5936 753.588 36.4824 Q750.225 40.3308 750.225 46.9338 L750.225 72.576 L742.731 72.576 L742.731 27.2059 L750.225 27.2059 L750.225 34.2544 Q752.777 30.082 756.342 28.0971 Q759.907 26.1121 764.809 26.1121 Q769.751 26.1121 773.194 28.6237 Q776.678 31.1352 778.339 35.9153 Z\" fill=\"#000000\" fill-rule=\"evenodd\" fill-opacity=\"1\" /><path clip-path=\"url(#clip740)\" d=\"M 0 0 M823.83 27.2059 L831.284 27.2059 L831.284 72.576 L823.83 72.576 L823.83 27.2059 M823.83 9.54393 L831.284 9.54393 L831.284 18.9825 L823.83 18.9825 L823.83 9.54393 Z\" fill=\"#000000\" fill-rule=\"evenodd\" fill-opacity=\"1\" /><path clip-path=\"url(#clip740)\" d=\"M 0 0 M884.594 45.1919 L884.594 72.576 L877.14 72.576 L877.14 45.4349 Q877.14 38.994 874.629 35.7938 Q872.117 32.5936 867.094 32.5936 Q861.058 32.5936 857.574 36.4419 Q854.09 40.2903 854.09 46.9338 L854.09 72.576 L846.596 72.576 L846.596 27.2059 L854.09 27.2059 L854.09 34.2544 Q856.764 30.163 860.369 28.1376 Q864.015 26.1121 868.755 26.1121 Q876.573 26.1121 880.583 30.9732 Q884.594 35.7938 884.594 45.1919 Z\" fill=\"#000000\" fill-rule=\"evenodd\" fill-opacity=\"1\" /><path clip-path=\"url(#clip740)\" d=\"M 0 0 M929.316 49.3643 Q929.316 41.2625 925.953 36.8065 Q922.632 32.3505 916.596 32.3505 Q910.601 32.3505 907.238 36.8065 Q903.917 41.2625 903.917 49.3643 Q903.917 57.4256 907.238 61.8816 Q910.601 66.3376 916.596 66.3376 Q922.632 66.3376 925.953 61.8816 Q929.316 57.4256 929.316 49.3643 M936.769 66.9452 Q936.769 78.5308 931.625 84.1616 Q926.48 89.8329 915.867 89.8329 Q911.937 89.8329 908.454 89.2252 Q904.97 88.6581 901.689 87.4428 L901.689 80.1917 Q904.97 81.9741 908.17 82.8248 Q911.37 83.6755 914.692 83.6755 Q922.024 83.6755 925.67 79.8271 Q929.316 76.0193 929.316 68.282 L929.316 64.5957 Q927.007 68.6061 923.401 70.5911 Q919.796 72.576 914.773 72.576 Q906.428 72.576 901.324 66.2161 Q896.22 59.8562 896.22 49.3643 Q896.22 38.832 901.324 32.472 Q906.428 26.1121 914.773 26.1121 Q919.796 26.1121 923.401 28.0971 Q927.007 30.082 929.316 34.0924 L929.316 27.2059 L936.769 27.2059 L936.769 66.9452 Z\" fill=\"#000000\" fill-rule=\"evenodd\" fill-opacity=\"1\" /><path clip-path=\"url(#clip740)\" d=\"M 0 0 M996.075 32.4315 Q990.079 32.4315 986.596 37.1306 Q983.112 41.7891 983.112 49.9314 Q983.112 58.0738 986.555 62.7728 Q990.039 67.4314 996.075 67.4314 Q1002.03 67.4314 1005.51 62.7323 Q1009 58.0333 1009 49.9314 Q1009 41.8701 1005.51 37.1711 Q1002.03 32.4315 996.075 32.4315 M996.075 26.1121 Q1005.8 26.1121 1011.35 32.4315 Q1016.9 38.7509 1016.9 49.9314 Q1016.9 61.0714 1011.35 67.4314 Q1005.8 73.7508 996.075 73.7508 Q986.312 73.7508 980.762 67.4314 Q975.253 61.0714 975.253 49.9314 Q975.253 38.7509 980.762 32.4315 Q986.312 26.1121 996.075 26.1121 Z\" fill=\"#000000\" fill-rule=\"evenodd\" fill-opacity=\"1\" /><path clip-path=\"url(#clip740)\" d=\"M 0 0 M1052.22 9.54393 L1052.22 15.7418 L1045.09 15.7418 Q1041.08 15.7418 1039.5 17.3622 Q1037.96 18.9825 1037.96 23.1955 L1037.96 27.2059 L1050.24 27.2059 L1050.24 32.9987 L1037.96 32.9987 L1037.96 72.576 L1030.47 72.576 L1030.47 32.9987 L1023.34 32.9987 L1023.34 27.2059 L1030.47 27.2059 L1030.47 24.0462 Q1030.47 16.471 1033.99 13.0277 Q1037.52 9.54393 1045.17 9.54393 L1052.22 9.54393 Z\" fill=\"#000000\" fill-rule=\"evenodd\" fill-opacity=\"1\" /><path clip-path=\"url(#clip740)\" d=\"M 0 0 M1114.69 34.0924 L1114.69 9.54393 L1122.14 9.54393 L1122.14 72.576 L1114.69 72.576 L1114.69 65.7705 Q1112.34 69.8214 1108.73 71.8063 Q1105.17 73.7508 1100.14 73.7508 Q1091.92 73.7508 1086.73 67.1883 Q1081.59 60.6258 1081.59 49.9314 Q1081.59 39.2371 1086.73 32.6746 Q1091.92 26.1121 1100.14 26.1121 Q1105.17 26.1121 1108.73 28.0971 Q1112.34 30.0415 1114.69 34.0924 M1089.29 49.9314 Q1089.29 58.1548 1092.65 62.8538 Q1096.05 67.5124 1101.97 67.5124 Q1107.88 67.5124 1111.28 62.8538 Q1114.69 58.1548 1114.69 49.9314 Q1114.69 41.7081 1111.28 37.0496 Q1107.88 32.3505 1101.97 32.3505 Q1096.05 32.3505 1092.65 37.0496 Q1089.29 41.7081 1089.29 49.9314 Z\" fill=\"#000000\" fill-rule=\"evenodd\" fill-opacity=\"1\" /><path clip-path=\"url(#clip740)\" d=\"M 0 0 M1155.07 32.4315 Q1149.08 32.4315 1145.59 37.1306 Q1142.11 41.7891 1142.11 49.9314 Q1142.11 58.0738 1145.55 62.7728 Q1149.04 67.4314 1155.07 67.4314 Q1161.03 67.4314 1164.51 62.7323 Q1168 58.0333 1168 49.9314 Q1168 41.8701 1164.51 37.1711 Q1161.03 32.4315 1155.07 32.4315 M1155.07 26.1121 Q1164.79 26.1121 1170.34 32.4315 Q1175.89 38.7509 1175.89 49.9314 Q1175.89 61.0714 1170.34 67.4314 Q1164.79 73.7508 1155.07 73.7508 Q1145.31 73.7508 1139.76 67.4314 Q1134.25 61.0714 1134.25 49.9314 Q1134.25 38.7509 1139.76 32.4315 Q1145.31 26.1121 1155.07 26.1121 Z\" fill=\"#000000\" fill-rule=\"evenodd\" fill-opacity=\"1\" /><path clip-path=\"url(#clip740)\" d=\"M 0 0 M1195.62 14.324 L1195.62 27.2059 L1210.98 27.2059 L1210.98 32.9987 L1195.62 32.9987 L1195.62 57.6282 Q1195.62 63.1779 1197.12 64.7578 Q1198.66 66.3376 1203.32 66.3376 L1210.98 66.3376 L1210.98 72.576 L1203.32 72.576 Q1194.69 72.576 1191.41 69.3758 Q1188.13 66.1351 1188.13 57.6282 L1188.13 32.9987 L1182.66 32.9987 L1182.66 27.2059 L1188.13 27.2059 L1188.13 14.324 L1195.62 14.324 Z\" fill=\"#000000\" fill-rule=\"evenodd\" fill-opacity=\"1\" /><path clip-path=\"url(#clip740)\" d=\"M 0 0 M1254.36 65.7705 L1254.36 89.8329 L1246.87 89.8329 L1246.87 27.2059 L1254.36 27.2059 L1254.36 34.0924 Q1256.71 30.0415 1260.27 28.0971 Q1263.88 26.1121 1268.86 26.1121 Q1277.13 26.1121 1282.27 32.6746 Q1287.46 39.2371 1287.46 49.9314 Q1287.46 60.6258 1282.27 67.1883 Q1277.13 73.7508 1268.86 73.7508 Q1263.88 73.7508 1260.27 71.8063 Q1256.71 69.8214 1254.36 65.7705 M1279.72 49.9314 Q1279.72 41.7081 1276.32 37.0496 Q1272.95 32.3505 1267.04 32.3505 Q1261.13 32.3505 1257.72 37.0496 Q1254.36 41.7081 1254.36 49.9314 Q1254.36 58.1548 1257.72 62.8538 Q1261.13 67.5124 1267.04 67.5124 Q1272.95 67.5124 1276.32 62.8538 Q1279.72 58.1548 1279.72 49.9314 Z\" fill=\"#000000\" fill-rule=\"evenodd\" fill-opacity=\"1\" /><path clip-path=\"url(#clip740)\" d=\"M 0 0 M1326.1 34.1734 Q1324.85 33.4443 1323.35 33.1202 Q1321.89 32.7556 1320.11 32.7556 Q1313.79 32.7556 1310.38 36.8875 Q1307.02 40.9789 1307.02 48.6757 L1307.02 72.576 L1299.53 72.576 L1299.53 27.2059 L1307.02 27.2059 L1307.02 34.2544 Q1309.37 30.1225 1313.14 28.1376 Q1316.91 26.1121 1322.29 26.1121 Q1323.06 26.1121 1324 26.2337 Q1324.93 26.3147 1326.06 26.5172 L1326.1 34.1734 Z\" fill=\"#000000\" fill-rule=\"evenodd\" fill-opacity=\"1\" /><path clip-path=\"url(#clip740)\" d=\"M 0 0 M1349.68 32.4315 Q1343.68 32.4315 1340.2 37.1306 Q1336.72 41.7891 1336.72 49.9314 Q1336.72 58.0738 1340.16 62.7728 Q1343.64 67.4314 1349.68 67.4314 Q1355.63 67.4314 1359.12 62.7323 Q1362.6 58.0333 1362.6 49.9314 Q1362.6 41.8701 1359.12 37.1711 Q1355.63 32.4315 1349.68 32.4315 M1349.68 26.1121 Q1359.4 26.1121 1364.95 32.4315 Q1370.5 38.7509 1370.5 49.9314 Q1370.5 61.0714 1364.95 67.4314 Q1359.4 73.7508 1349.68 73.7508 Q1339.92 73.7508 1334.37 67.4314 Q1328.86 61.0714 1328.86 49.9314 Q1328.86 38.7509 1334.37 32.4315 Q1339.92 26.1121 1349.68 26.1121 Z\" fill=\"#000000\" fill-rule=\"evenodd\" fill-opacity=\"1\" /><path clip-path=\"url(#clip740)\" d=\"M 0 0 M1412.71 34.0924 L1412.71 9.54393 L1420.16 9.54393 L1420.16 72.576 L1412.71 72.576 L1412.71 65.7705 Q1410.36 69.8214 1406.76 71.8063 Q1403.19 73.7508 1398.17 73.7508 Q1389.94 73.7508 1384.76 67.1883 Q1379.61 60.6258 1379.61 49.9314 Q1379.61 39.2371 1384.76 32.6746 Q1389.94 26.1121 1398.17 26.1121 Q1403.19 26.1121 1406.76 28.0971 Q1410.36 30.0415 1412.71 34.0924 M1387.31 49.9314 Q1387.31 58.1548 1390.67 62.8538 Q1394.08 67.5124 1399.99 67.5124 Q1405.9 67.5124 1409.31 62.8538 Q1412.71 58.1548 1412.71 49.9314 Q1412.71 41.7081 1409.31 37.0496 Q1405.9 32.3505 1399.99 32.3505 Q1394.08 32.3505 1390.67 37.0496 Q1387.31 41.7081 1387.31 49.9314 Z\" fill=\"#000000\" fill-rule=\"evenodd\" fill-opacity=\"1\" /><path clip-path=\"url(#clip740)\" d=\"M 0 0 M1434.75 54.671 L1434.75 27.2059 L1442.2 27.2059 L1442.2 54.3874 Q1442.2 60.8284 1444.71 64.0691 Q1447.22 67.2693 1452.25 67.2693 Q1458.28 67.2693 1461.77 63.421 Q1465.29 59.5726 1465.29 52.9291 L1465.29 27.2059 L1472.74 27.2059 L1472.74 72.576 L1465.29 72.576 L1465.29 65.6084 Q1462.58 69.7404 1458.97 71.7658 Q1455.41 73.7508 1450.67 73.7508 Q1442.85 73.7508 1438.8 68.8897 Q1434.75 64.0286 1434.75 54.671 M1453.5 26.1121 L1453.5 26.1121 Z\" fill=\"#000000\" fill-rule=\"evenodd\" fill-opacity=\"1\" /><path clip-path=\"url(#clip740)\" d=\"M 0 0 M1520.75 28.9478 L1520.75 35.9153 Q1517.59 34.1734 1514.39 33.3227 Q1511.23 32.4315 1507.99 32.4315 Q1500.74 32.4315 1496.73 37.0496 Q1492.72 41.6271 1492.72 49.9314 Q1492.72 58.2358 1496.73 62.8538 Q1500.74 67.4314 1507.99 67.4314 Q1511.23 67.4314 1514.39 66.5807 Q1517.59 65.6895 1520.75 63.9476 L1520.75 70.8341 Q1517.63 72.2924 1514.27 73.0216 Q1510.94 73.7508 1507.18 73.7508 Q1496.93 73.7508 1490.89 67.3098 Q1484.86 60.8689 1484.86 49.9314 Q1484.86 38.832 1490.93 32.472 Q1497.05 26.1121 1507.66 26.1121 Q1511.11 26.1121 1514.39 26.8413 Q1517.67 27.5299 1520.75 28.9478 Z\" fill=\"#000000\" fill-rule=\"evenodd\" fill-opacity=\"1\" /><path clip-path=\"url(#clip740)\" d=\"M 0 0 M1541.08 14.324 L1541.08 27.2059 L1556.44 27.2059 L1556.44 32.9987 L1541.08 32.9987 L1541.08 57.6282 Q1541.08 63.1779 1542.58 64.7578 Q1544.12 66.3376 1548.78 66.3376 L1556.44 66.3376 L1556.44 72.576 L1548.78 72.576 Q1540.15 72.576 1536.87 69.3758 Q1533.59 66.1351 1533.59 57.6282 L1533.59 32.9987 L1528.12 32.9987 L1528.12 27.2059 L1533.59 27.2059 L1533.59 14.324 L1541.08 14.324 Z\" fill=\"#000000\" fill-rule=\"evenodd\" fill-opacity=\"1\" /><path clip-path=\"url(#clip740)\" d=\"M 0 0 M1613.23 49.7694 Q1604.2 49.7694 1600.71 51.8354 Q1597.23 53.9013 1597.23 58.8839 Q1597.23 62.8538 1599.82 65.2034 Q1602.45 67.5124 1606.95 67.5124 Q1613.15 67.5124 1616.88 63.1374 Q1620.64 58.7219 1620.64 51.4303 L1620.64 49.7694 L1613.23 49.7694 M1628.1 46.6907 L1628.1 72.576 L1620.64 72.576 L1620.64 65.6895 Q1618.09 69.8214 1614.28 71.8063 Q1610.48 73.7508 1604.97 73.7508 Q1598 73.7508 1593.87 69.8619 Q1589.78 65.9325 1589.78 59.3701 Q1589.78 51.7138 1594.88 47.825 Q1600.02 43.9361 1610.19 43.9361 L1620.64 43.9361 L1620.64 43.2069 Q1620.64 38.0623 1617.24 35.2672 Q1613.88 32.4315 1607.76 32.4315 Q1603.87 32.4315 1600.19 33.3632 Q1596.5 34.295 1593.1 36.1584 L1593.1 29.2718 Q1597.19 27.692 1601.04 26.9223 Q1604.89 26.1121 1608.53 26.1121 Q1618.37 26.1121 1623.24 31.2163 Q1628.1 36.3204 1628.1 46.6907 Z\" fill=\"#000000\" fill-rule=\"evenodd\" fill-opacity=\"1\" /><path clip-path=\"url(#clip740)\" d=\"M 0 0 M1643.45 9.54393 L1650.9 9.54393 L1650.9 72.576 L1643.45 72.576 L1643.45 9.54393 Z\" fill=\"#000000\" fill-rule=\"evenodd\" fill-opacity=\"1\" /><path clip-path=\"url(#clip740)\" d=\"M 0 0 M1696.35 49.3643 Q1696.35 41.2625 1692.99 36.8065 Q1689.67 32.3505 1683.63 32.3505 Q1677.64 32.3505 1674.28 36.8065 Q1670.96 41.2625 1670.96 49.3643 Q1670.96 57.4256 1674.28 61.8816 Q1677.64 66.3376 1683.63 66.3376 Q1689.67 66.3376 1692.99 61.8816 Q1696.35 57.4256 1696.35 49.3643 M1703.81 66.9452 Q1703.81 78.5308 1698.66 84.1616 Q1693.52 89.8329 1682.91 89.8329 Q1678.98 89.8329 1675.49 89.2252 Q1672.01 88.6581 1668.73 87.4428 L1668.73 80.1917 Q1672.01 81.9741 1675.21 82.8248 Q1678.41 83.6755 1681.73 83.6755 Q1689.06 83.6755 1692.71 79.8271 Q1696.35 76.0193 1696.35 68.282 L1696.35 64.5957 Q1694.05 68.6061 1690.44 70.5911 Q1686.83 72.576 1681.81 72.576 Q1673.47 72.576 1668.36 66.2161 Q1663.26 59.8562 1663.26 49.3643 Q1663.26 38.832 1668.36 32.472 Q1673.47 26.1121 1681.81 26.1121 Q1686.83 26.1121 1690.44 28.0971 Q1694.05 30.082 1696.35 34.0924 L1696.35 27.2059 L1703.81 27.2059 L1703.81 66.9452 Z\" fill=\"#000000\" fill-rule=\"evenodd\" fill-opacity=\"1\" /><path clip-path=\"url(#clip740)\" d=\"M 0 0 M1736.74 32.4315 Q1730.75 32.4315 1727.26 37.1306 Q1723.78 41.7891 1723.78 49.9314 Q1723.78 58.0738 1727.22 62.7728 Q1730.71 67.4314 1736.74 67.4314 Q1742.7 67.4314 1746.18 62.7323 Q1749.66 58.0333 1749.66 49.9314 Q1749.66 41.8701 1746.18 37.1711 Q1742.7 32.4315 1736.74 32.4315 M1736.74 26.1121 Q1746.46 26.1121 1752.01 32.4315 Q1757.56 38.7509 1757.56 49.9314 Q1757.56 61.0714 1752.01 67.4314 Q1746.46 73.7508 1736.74 73.7508 Q1726.98 73.7508 1721.43 67.4314 Q1715.92 61.0714 1715.92 49.9314 Q1715.92 38.7509 1721.43 32.4315 Q1726.98 26.1121 1736.74 26.1121 Z\" fill=\"#000000\" fill-rule=\"evenodd\" fill-opacity=\"1\" /><path clip-path=\"url(#clip740)\" d=\"M 0 0 M1796.21 34.1734 Q1794.95 33.4443 1793.45 33.1202 Q1792 32.7556 1790.21 32.7556 Q1783.89 32.7556 1780.49 36.8875 Q1777.13 40.9789 1777.13 48.6757 L1777.13 72.576 L1769.64 72.576 L1769.64 27.2059 L1777.13 27.2059 L1777.13 34.2544 Q1779.48 30.1225 1783.25 28.1376 Q1787.01 26.1121 1792.4 26.1121 Q1793.17 26.1121 1794.1 26.2337 Q1795.03 26.3147 1796.17 26.5172 L1796.21 34.1734 Z\" fill=\"#000000\" fill-rule=\"evenodd\" fill-opacity=\"1\" /><path clip-path=\"url(#clip740)\" d=\"M 0 0 M1804.03 27.2059 L1811.48 27.2059 L1811.48 72.576 L1804.03 72.576 L1804.03 27.2059 M1804.03 9.54393 L1811.48 9.54393 L1811.48 18.9825 L1804.03 18.9825 L1804.03 9.54393 Z\" fill=\"#000000\" fill-rule=\"evenodd\" fill-opacity=\"1\" /><path clip-path=\"url(#clip740)\" d=\"M 0 0 M1834.45 14.324 L1834.45 27.2059 L1849.8 27.2059 L1849.8 32.9987 L1834.45 32.9987 L1834.45 57.6282 Q1834.45 63.1779 1835.95 64.7578 Q1837.49 66.3376 1842.15 66.3376 L1849.8 66.3376 L1849.8 72.576 L1842.15 72.576 Q1833.52 72.576 1830.24 69.3758 Q1826.96 66.1351 1826.96 57.6282 L1826.96 32.9987 L1821.49 32.9987 L1821.49 27.2059 L1826.96 27.2059 L1826.96 14.324 L1834.45 14.324 Z\" fill=\"#000000\" fill-rule=\"evenodd\" fill-opacity=\"1\" /><path clip-path=\"url(#clip740)\" d=\"M 0 0 M1897.32 45.1919 L1897.32 72.576 L1889.87 72.576 L1889.87 45.4349 Q1889.87 38.994 1887.35 35.7938 Q1884.84 32.5936 1879.82 32.5936 Q1873.78 32.5936 1870.3 36.4419 Q1866.82 40.2903 1866.82 46.9338 L1866.82 72.576 L1859.32 72.576 L1859.32 9.54393 L1866.82 9.54393 L1866.82 34.2544 Q1869.49 30.163 1873.1 28.1376 Q1876.74 26.1121 1881.48 26.1121 Q1889.3 26.1121 1893.31 30.9732 Q1897.32 35.7938 1897.32 45.1919 Z\" fill=\"#000000\" fill-rule=\"evenodd\" fill-opacity=\"1\" /><path clip-path=\"url(#clip740)\" d=\"M 0 0 M1947.51 35.9153 Q1950.31 30.8922 1954.19 28.5022 Q1958.08 26.1121 1963.35 26.1121 Q1970.44 26.1121 1974.29 31.0947 Q1978.14 36.0368 1978.14 45.1919 L1978.14 72.576 L1970.64 72.576 L1970.64 45.4349 Q1970.64 38.913 1968.33 35.7533 Q1966.02 32.5936 1961.28 32.5936 Q1955.49 32.5936 1952.13 36.4419 Q1948.77 40.2903 1948.77 46.9338 L1948.77 72.576 L1941.27 72.576 L1941.27 45.4349 Q1941.27 38.8725 1938.96 35.7533 Q1936.65 32.5936 1931.83 32.5936 Q1926.12 32.5936 1922.76 36.4824 Q1919.4 40.3308 1919.4 46.9338 L1919.4 72.576 L1911.9 72.576 L1911.9 27.2059 L1919.4 27.2059 L1919.4 34.2544 Q1921.95 30.082 1925.51 28.0971 Q1929.08 26.1121 1933.98 26.1121 Q1938.92 26.1121 1942.37 28.6237 Q1945.85 31.1352 1947.51 35.9153 Z\" fill=\"#000000\" fill-rule=\"evenodd\" fill-opacity=\"1\" /><path clip-path=\"url(#clip740)\" d=\"M 0 0 M1994.06 62.2867 L2002.6 62.2867 L2002.6 72.576 L1994.06 72.576 L1994.06 62.2867 Z\" fill=\"#000000\" fill-rule=\"evenodd\" fill-opacity=\"1\" /><polyline clip-path=\"url(#clip742)\" style=\"stroke:#009af9; stroke-width:4; stroke-opacity:1; fill:none\" points=\"\n",
       "  371.337,1241.83 732.805,1401.45 944.251,1308.73 1094.27,1217.08 1210.64,1157.77 1305.72,1100.78 1386.11,1059.46 1455.74,1017.05 1517.16,927.688 1572.11,945.978 \n",
       "  1621.81,905.565 1667.19,890.482 1708.93,855.877 1747.57,834.464 1783.55,780.217 1817.21,792.453 1848.82,572.189 1878.63,487.65 1906.83,519.779 1933.58,487.437 \n",
       "  1959.02,493.4 1983.28,456.102 2006.46,437.743 2028.66,453.544 2049.94,443.604 2070.4,401.374 2090.08,395.5 2109.04,411.216 2127.34,386.6 2145.02,375.907 \n",
       "  2162.12,369.819 2178.68,356.378 2194.72,346.601 2210.29,330.718 2225.41,332.527 2240.1,316.375 2254.39,311.898 2268.3,311.627 2281.84,160.695 2295.04,267.987 \n",
       "  \n",
       "  \"/>\n",
       "<path clip-path=\"url(#clip742)\" d=\"M371.337 1257.83 L360.025 1253.14 L355.337 1241.83 L360.025 1230.51 L371.337 1225.83 L382.649 1230.51 L387.337 1241.83 L382.649 1253.14 Z\" fill=\"#009af9\" fill-rule=\"evenodd\" fill-opacity=\"1\" stroke=\"#000000\" stroke-opacity=\"1\" stroke-width=\"3.2\"/>\n",
       "<path clip-path=\"url(#clip742)\" d=\"M732.805 1417.45 L721.493 1412.77 L716.805 1401.45 L721.493 1390.14 L732.805 1385.45 L744.117 1390.14 L748.805 1401.45 L744.117 1412.77 Z\" fill=\"#009af9\" fill-rule=\"evenodd\" fill-opacity=\"1\" stroke=\"#000000\" stroke-opacity=\"1\" stroke-width=\"3.2\"/>\n",
       "<path clip-path=\"url(#clip742)\" d=\"M944.251 1324.73 L932.939 1320.04 L928.251 1308.73 L932.939 1297.41 L944.251 1292.73 L955.563 1297.41 L960.251 1308.73 L955.563 1320.04 Z\" fill=\"#009af9\" fill-rule=\"evenodd\" fill-opacity=\"1\" stroke=\"#000000\" stroke-opacity=\"1\" stroke-width=\"3.2\"/>\n",
       "<path clip-path=\"url(#clip742)\" d=\"M1094.27 1233.08 L1082.96 1228.39 L1078.27 1217.08 L1082.96 1205.77 L1094.27 1201.08 L1105.59 1205.77 L1110.27 1217.08 L1105.59 1228.39 Z\" fill=\"#009af9\" fill-rule=\"evenodd\" fill-opacity=\"1\" stroke=\"#000000\" stroke-opacity=\"1\" stroke-width=\"3.2\"/>\n",
       "<path clip-path=\"url(#clip742)\" d=\"M1210.64 1173.77 L1199.33 1169.08 L1194.64 1157.77 L1199.33 1146.46 L1210.64 1141.77 L1221.95 1146.46 L1226.64 1157.77 L1221.95 1169.08 Z\" fill=\"#009af9\" fill-rule=\"evenodd\" fill-opacity=\"1\" stroke=\"#000000\" stroke-opacity=\"1\" stroke-width=\"3.2\"/>\n",
       "<path clip-path=\"url(#clip742)\" d=\"M1305.72 1116.78 L1294.41 1112.09 L1289.72 1100.78 L1294.41 1089.47 L1305.72 1084.78 L1317.03 1089.47 L1321.72 1100.78 L1317.03 1112.09 Z\" fill=\"#009af9\" fill-rule=\"evenodd\" fill-opacity=\"1\" stroke=\"#000000\" stroke-opacity=\"1\" stroke-width=\"3.2\"/>\n",
       "<path clip-path=\"url(#clip742)\" d=\"M1386.11 1075.46 L1374.79 1070.77 L1370.11 1059.46 L1374.79 1048.15 L1386.11 1043.46 L1397.42 1048.15 L1402.11 1059.46 L1397.42 1070.77 Z\" fill=\"#009af9\" fill-rule=\"evenodd\" fill-opacity=\"1\" stroke=\"#000000\" stroke-opacity=\"1\" stroke-width=\"3.2\"/>\n",
       "<path clip-path=\"url(#clip742)\" d=\"M1455.74 1033.05 L1444.43 1028.36 L1439.74 1017.05 L1444.43 1005.74 L1455.74 1001.05 L1467.05 1005.74 L1471.74 1017.05 L1467.05 1028.36 Z\" fill=\"#009af9\" fill-rule=\"evenodd\" fill-opacity=\"1\" stroke=\"#000000\" stroke-opacity=\"1\" stroke-width=\"3.2\"/>\n",
       "<path clip-path=\"url(#clip742)\" d=\"M1517.16 943.688 L1505.85 939 L1501.16 927.688 L1505.85 916.376 L1517.16 911.688 L1528.48 916.376 L1533.16 927.688 L1528.48 939 Z\" fill=\"#009af9\" fill-rule=\"evenodd\" fill-opacity=\"1\" stroke=\"#000000\" stroke-opacity=\"1\" stroke-width=\"3.2\"/>\n",
       "<path clip-path=\"url(#clip742)\" d=\"M1572.11 961.978 L1560.8 957.29 L1556.11 945.978 L1560.8 934.666 L1572.11 929.978 L1583.42 934.666 L1588.11 945.978 L1583.42 957.29 Z\" fill=\"#009af9\" fill-rule=\"evenodd\" fill-opacity=\"1\" stroke=\"#000000\" stroke-opacity=\"1\" stroke-width=\"3.2\"/>\n",
       "<path clip-path=\"url(#clip742)\" d=\"M1621.81 921.565 L1610.5 916.877 L1605.81 905.565 L1610.5 894.253 L1621.81 889.565 L1633.12 894.253 L1637.81 905.565 L1633.12 916.877 Z\" fill=\"#009af9\" fill-rule=\"evenodd\" fill-opacity=\"1\" stroke=\"#000000\" stroke-opacity=\"1\" stroke-width=\"3.2\"/>\n",
       "<path clip-path=\"url(#clip742)\" d=\"M1667.19 906.482 L1655.87 901.794 L1651.19 890.482 L1655.87 879.17 L1667.19 874.482 L1678.5 879.17 L1683.19 890.482 L1678.5 901.794 Z\" fill=\"#009af9\" fill-rule=\"evenodd\" fill-opacity=\"1\" stroke=\"#000000\" stroke-opacity=\"1\" stroke-width=\"3.2\"/>\n",
       "<path clip-path=\"url(#clip742)\" d=\"M1708.93 871.877 L1697.62 867.189 L1692.93 855.877 L1697.62 844.565 L1708.93 839.877 L1720.24 844.565 L1724.93 855.877 L1720.24 867.189 Z\" fill=\"#009af9\" fill-rule=\"evenodd\" fill-opacity=\"1\" stroke=\"#000000\" stroke-opacity=\"1\" stroke-width=\"3.2\"/>\n",
       "<path clip-path=\"url(#clip742)\" d=\"M1747.57 850.464 L1736.26 845.776 L1731.57 834.464 L1736.26 823.152 L1747.57 818.464 L1758.89 823.152 L1763.57 834.464 L1758.89 845.776 Z\" fill=\"#009af9\" fill-rule=\"evenodd\" fill-opacity=\"1\" stroke=\"#000000\" stroke-opacity=\"1\" stroke-width=\"3.2\"/>\n",
       "<path clip-path=\"url(#clip742)\" d=\"M1783.55 796.217 L1772.24 791.529 L1767.55 780.217 L1772.24 768.905 L1783.55 764.217 L1794.87 768.905 L1799.55 780.217 L1794.87 791.529 Z\" fill=\"#009af9\" fill-rule=\"evenodd\" fill-opacity=\"1\" stroke=\"#000000\" stroke-opacity=\"1\" stroke-width=\"3.2\"/>\n",
       "<path clip-path=\"url(#clip742)\" d=\"M1817.21 808.453 L1805.9 803.765 L1801.21 792.453 L1805.9 781.141 L1817.21 776.453 L1828.52 781.141 L1833.21 792.453 L1828.52 803.765 Z\" fill=\"#009af9\" fill-rule=\"evenodd\" fill-opacity=\"1\" stroke=\"#000000\" stroke-opacity=\"1\" stroke-width=\"3.2\"/>\n",
       "<path clip-path=\"url(#clip742)\" d=\"M1848.82 588.189 L1837.51 583.501 L1832.82 572.189 L1837.51 560.877 L1848.82 556.189 L1860.14 560.877 L1864.82 572.189 L1860.14 583.501 Z\" fill=\"#009af9\" fill-rule=\"evenodd\" fill-opacity=\"1\" stroke=\"#000000\" stroke-opacity=\"1\" stroke-width=\"3.2\"/>\n",
       "<path clip-path=\"url(#clip742)\" d=\"M1878.63 503.65 L1867.32 498.962 L1862.63 487.65 L1867.32 476.338 L1878.63 471.65 L1889.94 476.338 L1894.63 487.65 L1889.94 498.962 Z\" fill=\"#009af9\" fill-rule=\"evenodd\" fill-opacity=\"1\" stroke=\"#000000\" stroke-opacity=\"1\" stroke-width=\"3.2\"/>\n",
       "<path clip-path=\"url(#clip742)\" d=\"M1906.83 535.779 L1895.52 531.091 L1890.83 519.779 L1895.52 508.467 L1906.83 503.779 L1918.14 508.467 L1922.83 519.779 L1918.14 531.091 Z\" fill=\"#009af9\" fill-rule=\"evenodd\" fill-opacity=\"1\" stroke=\"#000000\" stroke-opacity=\"1\" stroke-width=\"3.2\"/>\n",
       "<path clip-path=\"url(#clip742)\" d=\"M1933.58 503.437 L1922.26 498.749 L1917.58 487.437 L1922.26 476.125 L1933.58 471.437 L1944.89 476.125 L1949.58 487.437 L1944.89 498.749 Z\" fill=\"#009af9\" fill-rule=\"evenodd\" fill-opacity=\"1\" stroke=\"#000000\" stroke-opacity=\"1\" stroke-width=\"3.2\"/>\n",
       "<path clip-path=\"url(#clip742)\" d=\"M1959.02 509.4 L1947.71 504.712 L1943.02 493.4 L1947.71 482.088 L1959.02 477.4 L1970.33 482.088 L1975.02 493.4 L1970.33 504.712 Z\" fill=\"#009af9\" fill-rule=\"evenodd\" fill-opacity=\"1\" stroke=\"#000000\" stroke-opacity=\"1\" stroke-width=\"3.2\"/>\n",
       "<path clip-path=\"url(#clip742)\" d=\"M1983.28 472.102 L1971.97 467.414 L1967.28 456.102 L1971.97 444.79 L1983.28 440.102 L1994.59 444.79 L1999.28 456.102 L1994.59 467.414 Z\" fill=\"#009af9\" fill-rule=\"evenodd\" fill-opacity=\"1\" stroke=\"#000000\" stroke-opacity=\"1\" stroke-width=\"3.2\"/>\n",
       "<path clip-path=\"url(#clip742)\" d=\"M2006.46 453.743 L1995.15 449.055 L1990.46 437.743 L1995.15 426.431 L2006.46 421.743 L2017.77 426.431 L2022.46 437.743 L2017.77 449.055 Z\" fill=\"#009af9\" fill-rule=\"evenodd\" fill-opacity=\"1\" stroke=\"#000000\" stroke-opacity=\"1\" stroke-width=\"3.2\"/>\n",
       "<path clip-path=\"url(#clip742)\" d=\"M2028.66 469.544 L2017.34 464.856 L2012.66 453.544 L2017.34 442.232 L2028.66 437.544 L2039.97 442.232 L2044.66 453.544 L2039.97 464.856 Z\" fill=\"#009af9\" fill-rule=\"evenodd\" fill-opacity=\"1\" stroke=\"#000000\" stroke-opacity=\"1\" stroke-width=\"3.2\"/>\n",
       "<path clip-path=\"url(#clip742)\" d=\"M2049.94 459.604 L2038.63 454.916 L2033.94 443.604 L2038.63 432.292 L2049.94 427.604 L2061.26 432.292 L2065.94 443.604 L2061.26 454.916 Z\" fill=\"#009af9\" fill-rule=\"evenodd\" fill-opacity=\"1\" stroke=\"#000000\" stroke-opacity=\"1\" stroke-width=\"3.2\"/>\n",
       "<path clip-path=\"url(#clip742)\" d=\"M2070.4 417.374 L2059.08 412.686 L2054.4 401.374 L2059.08 390.062 L2070.4 385.374 L2081.71 390.062 L2086.4 401.374 L2081.71 412.686 Z\" fill=\"#009af9\" fill-rule=\"evenodd\" fill-opacity=\"1\" stroke=\"#000000\" stroke-opacity=\"1\" stroke-width=\"3.2\"/>\n",
       "<path clip-path=\"url(#clip742)\" d=\"M2090.08 411.5 L2078.77 406.812 L2074.08 395.5 L2078.77 384.188 L2090.08 379.5 L2101.39 384.188 L2106.08 395.5 L2101.39 406.812 Z\" fill=\"#009af9\" fill-rule=\"evenodd\" fill-opacity=\"1\" stroke=\"#000000\" stroke-opacity=\"1\" stroke-width=\"3.2\"/>\n",
       "<path clip-path=\"url(#clip742)\" d=\"M2109.04 427.216 L2097.73 422.528 L2093.04 411.216 L2097.73 399.904 L2109.04 395.216 L2120.35 399.904 L2125.04 411.216 L2120.35 422.528 Z\" fill=\"#009af9\" fill-rule=\"evenodd\" fill-opacity=\"1\" stroke=\"#000000\" stroke-opacity=\"1\" stroke-width=\"3.2\"/>\n",
       "<path clip-path=\"url(#clip742)\" d=\"M2127.34 402.6 L2116.03 397.912 L2111.34 386.6 L2116.03 375.288 L2127.34 370.6 L2138.65 375.288 L2143.34 386.6 L2138.65 397.912 Z\" fill=\"#009af9\" fill-rule=\"evenodd\" fill-opacity=\"1\" stroke=\"#000000\" stroke-opacity=\"1\" stroke-width=\"3.2\"/>\n",
       "<path clip-path=\"url(#clip742)\" d=\"M2145.02 391.907 L2133.71 387.219 L2129.02 375.907 L2133.71 364.595 L2145.02 359.907 L2156.33 364.595 L2161.02 375.907 L2156.33 387.219 Z\" fill=\"#009af9\" fill-rule=\"evenodd\" fill-opacity=\"1\" stroke=\"#000000\" stroke-opacity=\"1\" stroke-width=\"3.2\"/>\n",
       "<path clip-path=\"url(#clip742)\" d=\"M2162.12 385.819 L2150.81 381.131 L2146.12 369.819 L2150.81 358.507 L2162.12 353.819 L2173.43 358.507 L2178.12 369.819 L2173.43 381.131 Z\" fill=\"#009af9\" fill-rule=\"evenodd\" fill-opacity=\"1\" stroke=\"#000000\" stroke-opacity=\"1\" stroke-width=\"3.2\"/>\n",
       "<path clip-path=\"url(#clip742)\" d=\"M2178.68 372.378 L2167.37 367.69 L2162.68 356.378 L2167.37 345.066 L2178.68 340.378 L2189.99 345.066 L2194.68 356.378 L2189.99 367.69 Z\" fill=\"#009af9\" fill-rule=\"evenodd\" fill-opacity=\"1\" stroke=\"#000000\" stroke-opacity=\"1\" stroke-width=\"3.2\"/>\n",
       "<path clip-path=\"url(#clip742)\" d=\"M2194.72 362.601 L2183.41 357.913 L2178.72 346.601 L2183.41 335.289 L2194.72 330.601 L2206.04 335.289 L2210.72 346.601 L2206.04 357.913 Z\" fill=\"#009af9\" fill-rule=\"evenodd\" fill-opacity=\"1\" stroke=\"#000000\" stroke-opacity=\"1\" stroke-width=\"3.2\"/>\n",
       "<path clip-path=\"url(#clip742)\" d=\"M2210.29 346.718 L2198.98 342.03 L2194.29 330.718 L2198.98 319.406 L2210.29 314.718 L2221.6 319.406 L2226.29 330.718 L2221.6 342.03 Z\" fill=\"#009af9\" fill-rule=\"evenodd\" fill-opacity=\"1\" stroke=\"#000000\" stroke-opacity=\"1\" stroke-width=\"3.2\"/>\n",
       "<path clip-path=\"url(#clip742)\" d=\"M2225.41 348.527 L2214.1 343.839 L2209.41 332.527 L2214.1 321.215 L2225.41 316.527 L2236.72 321.215 L2241.41 332.527 L2236.72 343.839 Z\" fill=\"#009af9\" fill-rule=\"evenodd\" fill-opacity=\"1\" stroke=\"#000000\" stroke-opacity=\"1\" stroke-width=\"3.2\"/>\n",
       "<path clip-path=\"url(#clip742)\" d=\"M2240.1 332.375 L2228.79 327.687 L2224.1 316.375 L2228.79 305.063 L2240.1 300.375 L2251.41 305.063 L2256.1 316.375 L2251.41 327.687 Z\" fill=\"#009af9\" fill-rule=\"evenodd\" fill-opacity=\"1\" stroke=\"#000000\" stroke-opacity=\"1\" stroke-width=\"3.2\"/>\n",
       "<path clip-path=\"url(#clip742)\" d=\"M2254.39 327.898 L2243.08 323.21 L2238.39 311.898 L2243.08 300.586 L2254.39 295.898 L2265.7 300.586 L2270.39 311.898 L2265.7 323.21 Z\" fill=\"#009af9\" fill-rule=\"evenodd\" fill-opacity=\"1\" stroke=\"#000000\" stroke-opacity=\"1\" stroke-width=\"3.2\"/>\n",
       "<path clip-path=\"url(#clip742)\" d=\"M2268.3 327.627 L2256.98 322.939 L2252.3 311.627 L2256.98 300.315 L2268.3 295.627 L2279.61 300.315 L2284.3 311.627 L2279.61 322.939 Z\" fill=\"#009af9\" fill-rule=\"evenodd\" fill-opacity=\"1\" stroke=\"#000000\" stroke-opacity=\"1\" stroke-width=\"3.2\"/>\n",
       "<path clip-path=\"url(#clip742)\" d=\"M2281.84 176.695 L2270.53 172.007 L2265.84 160.695 L2270.53 149.383 L2281.84 144.695 L2293.15 149.383 L2297.84 160.695 L2293.15 172.007 Z\" fill=\"#009af9\" fill-rule=\"evenodd\" fill-opacity=\"1\" stroke=\"#000000\" stroke-opacity=\"1\" stroke-width=\"3.2\"/>\n",
       "<path clip-path=\"url(#clip742)\" d=\"M2295.04 283.987 L2283.73 279.299 L2279.04 267.987 L2283.73 256.675 L2295.04 251.987 L2306.36 256.675 L2311.04 267.987 L2306.36 279.299 Z\" fill=\"#009af9\" fill-rule=\"evenodd\" fill-opacity=\"1\" stroke=\"#000000\" stroke-opacity=\"1\" stroke-width=\"3.2\"/>\n",
       "</svg>\n"
      ]
     },
     "execution_count": 7,
     "metadata": {},
     "output_type": "execute_result"
    }
   ],
   "source": [
    "plot(vect_sizes,dps,m=:o,\n",
    "    xaxis=(:log10,\"\\$n\\$\"),yaxis=(:log10,\"elapsed time (sec)\"),\n",
    "    title=\"Timing of dot product algorithm.\",label=\"data\",leg=false)"
   ]
  },
  {
   "cell_type": "markdown",
   "metadata": {},
   "source": [
    "Note that this is a log-log plot! Why do we use a log-log plot? Let's think about this for a moment. Suppose that the scaling is given by a **power law**, that is, suppose that $f(n) = Cn^p$ tells us how the amount of work required sclaes with the size of the problem. Then if we take the $\\log$ of both sides we have that \n",
    "\n",
    "$\\log(f(n)) = \\log(Cn^p) = \\log(C) + p\\log(n)$. \n",
    "\n",
    "In this last equation, we see that $\\log(f(n))$ is a linear function of $\\log(n)$ and the slope of the linear equation is the exponent $p$. "
   ]
  },
  {
   "cell_type": "markdown",
   "metadata": {},
   "source": [
    "Furthermore, choose any fixed value $n_{0}$, then we have that \n",
    "\n",
    "$\\frac{f(n)}{f(n_{0})} = \\frac{Cn^p}{Cn_{0}^{p}} = \\left(\\frac{n}{n_0}\\right)^p$\n",
    "\n",
    "and thus, $f(n) = f(n_{0})\\left(\\frac{n}{n_0}\\right)^p$. "
   ]
  },
  {
   "cell_type": "markdown",
   "metadata": {},
   "source": [
    "Let's add the line that corresponds to the $\\log$ of both sides of the last equation to our previous plot."
   ]
  },
  {
   "cell_type": "code",
   "execution_count": 8,
   "metadata": {},
   "outputs": [
    {
     "data": {
      "image/svg+xml": [
       "<?xml version=\"1.0\" encoding=\"utf-8\"?>\n",
       "<svg xmlns=\"http://www.w3.org/2000/svg\" xmlns:xlink=\"http://www.w3.org/1999/xlink\" width=\"600\" height=\"400\" viewBox=\"0 0 2400 1600\">\n",
       "<defs>\n",
       "  <clipPath id=\"clip780\">\n",
       "    <rect x=\"0\" y=\"0\" width=\"2400\" height=\"1600\"/>\n",
       "  </clipPath>\n",
       "</defs>\n",
       "<path clip-path=\"url(#clip780)\" d=\"\n",
       "M0 1600 L2400 1600 L2400 0 L0 0  Z\n",
       "  \" fill=\"#ffffff\" fill-rule=\"evenodd\" fill-opacity=\"1\"/>\n",
       "<defs>\n",
       "  <clipPath id=\"clip781\">\n",
       "    <rect x=\"480\" y=\"0\" width=\"1681\" height=\"1600\"/>\n",
       "  </clipPath>\n",
       "</defs>\n",
       "<defs>\n",
       "  <clipPath id=\"clip782\">\n",
       "    <rect x=\"313\" y=\"123\" width=\"2040\" height=\"1316\"/>\n",
       "  </clipPath>\n",
       "</defs>\n",
       "<path clip-path=\"url(#clip780)\" d=\"\n",
       "M313.626 1438.68 L2352.76 1438.68 L2352.76 123.472 L313.626 123.472  Z\n",
       "  \" fill=\"#ffffff\" fill-rule=\"evenodd\" fill-opacity=\"1\"/>\n",
       "<polyline clip-path=\"url(#clip782)\" style=\"stroke:#000000; stroke-width:2; stroke-opacity:0.1; fill:none\" points=\"\n",
       "  548.979,1438.68 548.979,123.472 \n",
       "  \"/>\n",
       "<polyline clip-path=\"url(#clip782)\" style=\"stroke:#000000; stroke-width:2; stroke-opacity:0.1; fill:none\" points=\"\n",
       "  849.172,1438.68 849.172,123.472 \n",
       "  \"/>\n",
       "<polyline clip-path=\"url(#clip782)\" style=\"stroke:#000000; stroke-width:2; stroke-opacity:0.1; fill:none\" points=\"\n",
       "  1149.36,1438.68 1149.36,123.472 \n",
       "  \"/>\n",
       "<polyline clip-path=\"url(#clip782)\" style=\"stroke:#000000; stroke-width:2; stroke-opacity:0.1; fill:none\" points=\"\n",
       "  1449.56,1438.68 1449.56,123.472 \n",
       "  \"/>\n",
       "<polyline clip-path=\"url(#clip782)\" style=\"stroke:#000000; stroke-width:2; stroke-opacity:0.1; fill:none\" points=\"\n",
       "  1749.75,1438.68 1749.75,123.472 \n",
       "  \"/>\n",
       "<polyline clip-path=\"url(#clip782)\" style=\"stroke:#000000; stroke-width:2; stroke-opacity:0.1; fill:none\" points=\"\n",
       "  2049.94,1438.68 2049.94,123.472 \n",
       "  \"/>\n",
       "<polyline clip-path=\"url(#clip782)\" style=\"stroke:#000000; stroke-width:2; stroke-opacity:0.1; fill:none\" points=\"\n",
       "  2350.14,1438.68 2350.14,123.472 \n",
       "  \"/>\n",
       "<polyline clip-path=\"url(#clip780)\" style=\"stroke:#000000; stroke-width:4; stroke-opacity:1; fill:none\" points=\"\n",
       "  313.626,1438.68 2352.76,1438.68 \n",
       "  \"/>\n",
       "<polyline clip-path=\"url(#clip780)\" style=\"stroke:#000000; stroke-width:4; stroke-opacity:1; fill:none\" points=\"\n",
       "  548.979,1438.68 548.979,1422.89 \n",
       "  \"/>\n",
       "<polyline clip-path=\"url(#clip780)\" style=\"stroke:#000000; stroke-width:4; stroke-opacity:1; fill:none\" points=\"\n",
       "  849.172,1438.68 849.172,1422.89 \n",
       "  \"/>\n",
       "<polyline clip-path=\"url(#clip780)\" style=\"stroke:#000000; stroke-width:4; stroke-opacity:1; fill:none\" points=\"\n",
       "  1149.36,1438.68 1149.36,1422.89 \n",
       "  \"/>\n",
       "<polyline clip-path=\"url(#clip780)\" style=\"stroke:#000000; stroke-width:4; stroke-opacity:1; fill:none\" points=\"\n",
       "  1449.56,1438.68 1449.56,1422.89 \n",
       "  \"/>\n",
       "<polyline clip-path=\"url(#clip780)\" style=\"stroke:#000000; stroke-width:4; stroke-opacity:1; fill:none\" points=\"\n",
       "  1749.75,1438.68 1749.75,1422.89 \n",
       "  \"/>\n",
       "<polyline clip-path=\"url(#clip780)\" style=\"stroke:#000000; stroke-width:4; stroke-opacity:1; fill:none\" points=\"\n",
       "  2049.94,1438.68 2049.94,1422.89 \n",
       "  \"/>\n",
       "<polyline clip-path=\"url(#clip780)\" style=\"stroke:#000000; stroke-width:4; stroke-opacity:1; fill:none\" points=\"\n",
       "  2350.14,1438.68 2350.14,1422.89 \n",
       "  \"/>\n",
       "<path clip-path=\"url(#clip780)\" d=\"M 0 0 M483.879 1516.95 L491.518 1516.95 L491.518 1490.58 L483.208 1492.25 L483.208 1487.99 L491.472 1486.32 L496.147 1486.32 L496.147 1516.95 L503.786 1516.95 L503.786 1520.88 L483.879 1520.88 L483.879 1516.95 Z\" fill=\"#000000\" fill-rule=\"evenodd\" fill-opacity=\"1\" /><path clip-path=\"url(#clip780)\" d=\"M 0 0 M523.231 1489.4 Q519.62 1489.4 517.791 1492.97 Q515.985 1496.51 515.985 1503.64 Q515.985 1510.75 517.791 1514.31 Q519.62 1517.85 523.231 1517.85 Q526.865 1517.85 528.67 1514.31 Q530.499 1510.75 530.499 1503.64 Q530.499 1496.51 528.67 1492.97 Q526.865 1489.4 523.231 1489.4 M523.231 1485.7 Q529.041 1485.7 532.096 1490.31 Q535.175 1494.89 535.175 1503.64 Q535.175 1512.37 532.096 1516.97 Q529.041 1521.56 523.231 1521.56 Q517.421 1521.56 514.342 1516.97 Q511.286 1512.37 511.286 1503.64 Q511.286 1494.89 514.342 1490.31 Q517.421 1485.7 523.231 1485.7 Z\" fill=\"#000000\" fill-rule=\"evenodd\" fill-opacity=\"1\" /><path clip-path=\"url(#clip780)\" d=\"M 0 0 M539.745 1490.28 L553.005 1490.28 L553.005 1493.47 L535.175 1493.47 L535.175 1490.28 Q537.338 1488.04 541.062 1484.28 Q544.805 1480.5 545.764 1479.41 Q547.588 1477.36 548.303 1475.95 Q549.036 1474.52 549.036 1473.14 Q549.036 1470.9 547.457 1469.49 Q545.895 1468.08 543.375 1468.08 Q541.588 1468.08 539.595 1468.7 Q537.62 1469.32 535.363 1470.58 L535.363 1466.75 Q537.658 1465.83 539.651 1465.36 Q541.645 1464.89 543.3 1464.89 Q547.663 1464.89 550.259 1467.07 Q552.854 1469.25 552.854 1472.9 Q552.854 1474.63 552.196 1476.19 Q551.557 1477.73 549.845 1479.84 Q549.375 1480.38 546.855 1483 Q544.334 1485.59 539.745 1490.28 Z\" fill=\"#000000\" fill-rule=\"evenodd\" fill-opacity=\"1\" /><path clip-path=\"url(#clip780)\" d=\"M 0 0 M560.979 1488.7 L564.948 1488.7 L564.948 1493.47 L560.979 1493.47 L560.979 1488.7 Z\" fill=\"#000000\" fill-rule=\"evenodd\" fill-opacity=\"1\" /><path clip-path=\"url(#clip780)\" d=\"M 0 0 M572.264 1465.39 L590.319 1465.39 L590.319 1467.01 L580.126 1493.47 L576.157 1493.47 L585.749 1468.59 L572.264 1468.59 L572.264 1465.39 Z\" fill=\"#000000\" fill-rule=\"evenodd\" fill-opacity=\"1\" /><path clip-path=\"url(#clip780)\" d=\"M 0 0 M597.767 1465.39 L612.682 1465.39 L612.682 1468.59 L601.247 1468.59 L601.247 1475.47 Q602.074 1475.19 602.902 1475.06 Q603.729 1474.91 604.557 1474.91 Q609.259 1474.91 612.005 1477.49 Q614.751 1480.06 614.751 1484.46 Q614.751 1489 611.93 1491.52 Q609.108 1494.02 603.974 1494.02 Q602.206 1494.02 600.363 1493.72 Q598.538 1493.42 596.582 1492.82 L596.582 1489 Q598.275 1489.92 600.081 1490.37 Q601.886 1490.82 603.899 1490.82 Q607.152 1490.82 609.052 1489.11 Q610.952 1487.4 610.952 1484.46 Q610.952 1481.53 609.052 1479.82 Q607.152 1478.11 603.899 1478.11 Q602.375 1478.11 600.852 1478.45 Q599.347 1478.78 597.767 1479.5 L597.767 1465.39 Z\" fill=\"#000000\" fill-rule=\"evenodd\" fill-opacity=\"1\" /><path clip-path=\"url(#clip780)\" d=\"M 0 0 M783.724 1516.95 L791.363 1516.95 L791.363 1490.58 L783.053 1492.25 L783.053 1487.99 L791.316 1486.32 L795.992 1486.32 L795.992 1516.95 L803.631 1516.95 L803.631 1520.88 L783.724 1520.88 L783.724 1516.95 Z\" fill=\"#000000\" fill-rule=\"evenodd\" fill-opacity=\"1\" /><path clip-path=\"url(#clip780)\" d=\"M 0 0 M823.076 1489.4 Q819.464 1489.4 817.636 1492.97 Q815.83 1496.51 815.83 1503.64 Q815.83 1510.75 817.636 1514.31 Q819.464 1517.85 823.076 1517.85 Q826.71 1517.85 828.515 1514.31 Q830.344 1510.75 830.344 1503.64 Q830.344 1496.51 828.515 1492.97 Q826.71 1489.4 823.076 1489.4 M823.076 1485.7 Q828.886 1485.7 831.941 1490.31 Q835.02 1494.89 835.02 1503.64 Q835.02 1512.37 831.941 1516.97 Q828.886 1521.56 823.076 1521.56 Q817.265 1521.56 814.187 1516.97 Q811.131 1512.37 811.131 1503.64 Q811.131 1494.89 814.187 1490.31 Q817.265 1485.7 823.076 1485.7 Z\" fill=\"#000000\" fill-rule=\"evenodd\" fill-opacity=\"1\" /><path clip-path=\"url(#clip780)\" d=\"M 0 0 M847.715 1478.33 Q850.442 1478.92 851.966 1480.76 Q853.508 1482.6 853.508 1485.31 Q853.508 1489.47 850.649 1491.74 Q847.79 1494.02 842.524 1494.02 Q840.756 1494.02 838.876 1493.66 Q837.014 1493.32 835.02 1492.63 L835.02 1488.96 Q836.6 1489.88 838.481 1490.35 Q840.361 1490.82 842.411 1490.82 Q845.985 1490.82 847.847 1489.41 Q849.728 1488 849.728 1485.31 Q849.728 1482.83 847.978 1481.44 Q846.248 1480.03 843.145 1480.03 L839.872 1480.03 L839.872 1476.9 L843.295 1476.9 Q846.098 1476.9 847.584 1475.79 Q849.069 1474.67 849.069 1472.56 Q849.069 1470.4 847.527 1469.25 Q846.004 1468.08 843.145 1468.08 Q841.584 1468.08 839.797 1468.42 Q838.01 1468.76 835.866 1469.48 L835.866 1466.09 Q838.029 1465.49 839.91 1465.19 Q841.81 1464.89 843.483 1464.89 Q847.809 1464.89 850.329 1466.86 Q852.85 1468.82 852.85 1472.16 Q852.85 1474.5 851.514 1476.11 Q850.179 1477.71 847.715 1478.33 Z\" fill=\"#000000\" fill-rule=\"evenodd\" fill-opacity=\"1\" /><path clip-path=\"url(#clip780)\" d=\"M 0 0 M860.711 1488.7 L864.68 1488.7 L864.68 1493.47 L860.711 1493.47 L860.711 1488.7 Z\" fill=\"#000000\" fill-rule=\"evenodd\" fill-opacity=\"1\" /><path clip-path=\"url(#clip780)\" d=\"M 0 0 M881.08 1467.9 Q878.146 1467.9 876.66 1470.79 Q875.193 1473.67 875.193 1479.46 Q875.193 1485.24 876.66 1488.13 Q878.146 1491.01 881.08 1491.01 Q884.033 1491.01 885.5 1488.13 Q886.986 1485.24 886.986 1479.46 Q886.986 1473.67 885.5 1470.79 Q884.033 1467.9 881.08 1467.9 M881.08 1464.89 Q885.801 1464.89 888.284 1468.63 Q890.785 1472.35 890.785 1479.46 Q890.785 1486.55 888.284 1490.3 Q885.801 1494.02 881.08 1494.02 Q876.359 1494.02 873.858 1490.3 Q871.375 1486.55 871.375 1479.46 Q871.375 1472.35 873.858 1468.63 Q876.359 1464.89 881.08 1464.89 Z\" fill=\"#000000\" fill-rule=\"evenodd\" fill-opacity=\"1\" /><path clip-path=\"url(#clip780)\" d=\"M 0 0 M905.587 1467.9 Q902.653 1467.9 901.167 1470.79 Q899.7 1473.67 899.7 1479.46 Q899.7 1485.24 901.167 1488.13 Q902.653 1491.01 905.587 1491.01 Q908.539 1491.01 910.006 1488.13 Q911.492 1485.24 911.492 1479.46 Q911.492 1473.67 910.006 1470.79 Q908.539 1467.9 905.587 1467.9 M905.587 1464.89 Q910.307 1464.89 912.79 1468.63 Q915.291 1472.35 915.291 1479.46 Q915.291 1486.55 912.79 1490.3 Q910.307 1494.02 905.587 1494.02 Q900.866 1494.02 898.364 1490.3 Q895.882 1486.55 895.882 1479.46 Q895.882 1472.35 898.364 1468.63 Q900.866 1464.89 905.587 1464.89 Z\" fill=\"#000000\" fill-rule=\"evenodd\" fill-opacity=\"1\" /><path clip-path=\"url(#clip780)\" d=\"M 0 0 M1084.32 1516.95 L1091.96 1516.95 L1091.96 1490.58 L1083.65 1492.25 L1083.65 1487.99 L1091.91 1486.32 L1096.59 1486.32 L1096.59 1516.95 L1104.23 1516.95 L1104.23 1520.88 L1084.32 1520.88 L1084.32 1516.95 Z\" fill=\"#000000\" fill-rule=\"evenodd\" fill-opacity=\"1\" /><path clip-path=\"url(#clip780)\" d=\"M 0 0 M1123.67 1489.4 Q1120.06 1489.4 1118.23 1492.97 Q1116.43 1496.51 1116.43 1503.64 Q1116.43 1510.75 1118.23 1514.31 Q1120.06 1517.85 1123.67 1517.85 Q1127.31 1517.85 1129.11 1514.31 Q1130.94 1510.75 1130.94 1503.64 Q1130.94 1496.51 1129.11 1492.97 Q1127.31 1489.4 1123.67 1489.4 M1123.67 1485.7 Q1129.48 1485.7 1132.54 1490.31 Q1135.62 1494.89 1135.62 1503.64 Q1135.62 1512.37 1132.54 1516.97 Q1129.48 1521.56 1123.67 1521.56 Q1117.86 1521.56 1114.78 1516.97 Q1111.73 1512.37 1111.73 1503.64 Q1111.73 1494.89 1114.78 1490.31 Q1117.86 1485.7 1123.67 1485.7 Z\" fill=\"#000000\" fill-rule=\"evenodd\" fill-opacity=\"1\" /><path clip-path=\"url(#clip780)\" d=\"M 0 0 M1148.31 1478.33 Q1151.04 1478.92 1152.56 1480.76 Q1154.11 1482.6 1154.11 1485.31 Q1154.11 1489.47 1151.25 1491.74 Q1148.39 1494.02 1143.12 1494.02 Q1141.35 1494.02 1139.47 1493.66 Q1137.61 1493.32 1135.62 1492.63 L1135.62 1488.96 Q1137.2 1489.88 1139.08 1490.35 Q1140.96 1490.82 1143.01 1490.82 Q1146.58 1490.82 1148.44 1489.41 Q1150.32 1488 1150.32 1485.31 Q1150.32 1482.83 1148.58 1481.44 Q1146.85 1480.03 1143.74 1480.03 L1140.47 1480.03 L1140.47 1476.9 L1143.89 1476.9 Q1146.69 1476.9 1148.18 1475.79 Q1149.67 1474.67 1149.67 1472.56 Q1149.67 1470.4 1148.12 1469.25 Q1146.6 1468.08 1143.74 1468.08 Q1142.18 1468.08 1140.39 1468.42 Q1138.61 1468.76 1136.46 1469.48 L1136.46 1466.09 Q1138.63 1465.49 1140.51 1465.19 Q1142.41 1464.89 1144.08 1464.89 Q1148.41 1464.89 1150.93 1466.86 Q1153.45 1468.82 1153.45 1472.16 Q1153.45 1474.5 1152.11 1476.11 Q1150.78 1477.71 1148.31 1478.33 Z\" fill=\"#000000\" fill-rule=\"evenodd\" fill-opacity=\"1\" /><path clip-path=\"url(#clip780)\" d=\"M 0 0 M1161.31 1488.7 L1165.28 1488.7 L1165.28 1493.47 L1161.31 1493.47 L1161.31 1488.7 Z\" fill=\"#000000\" fill-rule=\"evenodd\" fill-opacity=\"1\" /><path clip-path=\"url(#clip780)\" d=\"M 0 0 M1176.82 1490.28 L1190.08 1490.28 L1190.08 1493.47 L1172.25 1493.47 L1172.25 1490.28 Q1174.42 1488.04 1178.14 1484.28 Q1181.88 1480.5 1182.84 1479.41 Q1184.67 1477.36 1185.38 1475.95 Q1186.12 1474.52 1186.12 1473.14 Q1186.12 1470.9 1184.54 1469.49 Q1182.98 1468.08 1180.45 1468.08 Q1178.67 1468.08 1176.67 1468.7 Q1174.7 1469.32 1172.44 1470.58 L1172.44 1466.75 Q1174.74 1465.83 1176.73 1465.36 Q1178.72 1464.89 1180.38 1464.89 Q1184.74 1464.89 1187.34 1467.07 Q1189.93 1469.25 1189.93 1472.9 Q1189.93 1474.63 1189.28 1476.19 Q1188.64 1477.73 1186.92 1479.84 Q1186.45 1480.38 1183.93 1483 Q1181.41 1485.59 1176.82 1490.28 Z\" fill=\"#000000\" fill-rule=\"evenodd\" fill-opacity=\"1\" /><path clip-path=\"url(#clip780)\" d=\"M 0 0 M1198.1 1465.39 L1213.01 1465.39 L1213.01 1468.59 L1201.58 1468.59 L1201.58 1475.47 Q1202.4 1475.19 1203.23 1475.06 Q1204.06 1474.91 1204.89 1474.91 Q1209.59 1474.91 1212.33 1477.49 Q1215.08 1480.06 1215.08 1484.46 Q1215.08 1489 1212.26 1491.52 Q1209.44 1494.02 1204.3 1494.02 Q1202.54 1494.02 1200.69 1493.72 Q1198.87 1493.42 1196.91 1492.82 L1196.91 1489 Q1198.6 1489.92 1200.41 1490.37 Q1202.22 1490.82 1204.23 1490.82 Q1207.48 1490.82 1209.38 1489.11 Q1211.28 1487.4 1211.28 1484.46 Q1211.28 1481.53 1209.38 1479.82 Q1207.48 1478.11 1204.23 1478.11 Q1202.7 1478.11 1201.18 1478.45 Q1199.68 1478.78 1198.1 1479.5 L1198.1 1465.39 Z\" fill=\"#000000\" fill-rule=\"evenodd\" fill-opacity=\"1\" /><path clip-path=\"url(#clip780)\" d=\"M 0 0 M1384.11 1516.95 L1391.75 1516.95 L1391.75 1490.58 L1383.44 1492.25 L1383.44 1487.99 L1391.7 1486.32 L1396.38 1486.32 L1396.38 1516.95 L1404.02 1516.95 L1404.02 1520.88 L1384.11 1520.88 L1384.11 1516.95 Z\" fill=\"#000000\" fill-rule=\"evenodd\" fill-opacity=\"1\" /><path clip-path=\"url(#clip780)\" d=\"M 0 0 M1423.46 1489.4 Q1419.85 1489.4 1418.02 1492.97 Q1416.22 1496.51 1416.22 1503.64 Q1416.22 1510.75 1418.02 1514.31 Q1419.85 1517.85 1423.46 1517.85 Q1427.1 1517.85 1428.9 1514.31 Q1430.73 1510.75 1430.73 1503.64 Q1430.73 1496.51 1428.9 1492.97 Q1427.1 1489.4 1423.46 1489.4 M1423.46 1485.7 Q1429.27 1485.7 1432.33 1490.31 Q1435.41 1494.89 1435.41 1503.64 Q1435.41 1512.37 1432.33 1516.97 Q1429.27 1521.56 1423.46 1521.56 Q1417.65 1521.56 1414.57 1516.97 Q1411.52 1512.37 1411.52 1503.64 Q1411.52 1494.89 1414.57 1490.31 Q1417.65 1485.7 1423.46 1485.7 Z\" fill=\"#000000\" fill-rule=\"evenodd\" fill-opacity=\"1\" /><path clip-path=\"url(#clip780)\" d=\"M 0 0 M1448.1 1478.33 Q1450.83 1478.92 1452.35 1480.76 Q1453.89 1482.6 1453.89 1485.31 Q1453.89 1489.47 1451.03 1491.74 Q1448.18 1494.02 1442.91 1494.02 Q1441.14 1494.02 1439.26 1493.66 Q1437.4 1493.32 1435.41 1492.63 L1435.41 1488.96 Q1436.99 1489.88 1438.87 1490.35 Q1440.75 1490.82 1442.8 1490.82 Q1446.37 1490.82 1448.23 1489.41 Q1450.11 1488 1450.11 1485.31 Q1450.11 1482.83 1448.36 1481.44 Q1446.63 1480.03 1443.53 1480.03 L1440.26 1480.03 L1440.26 1476.9 L1443.68 1476.9 Q1446.48 1476.9 1447.97 1475.79 Q1449.45 1474.67 1449.45 1472.56 Q1449.45 1470.4 1447.91 1469.25 Q1446.39 1468.08 1443.53 1468.08 Q1441.97 1468.08 1440.18 1468.42 Q1438.4 1468.76 1436.25 1469.48 L1436.25 1466.09 Q1438.41 1465.49 1440.3 1465.19 Q1442.2 1464.89 1443.87 1464.89 Q1448.19 1464.89 1450.72 1466.86 Q1453.24 1468.82 1453.24 1472.16 Q1453.24 1474.5 1451.9 1476.11 Q1450.56 1477.71 1448.1 1478.33 Z\" fill=\"#000000\" fill-rule=\"evenodd\" fill-opacity=\"1\" /><path clip-path=\"url(#clip780)\" d=\"M 0 0 M1461.1 1488.7 L1465.07 1488.7 L1465.07 1493.47 L1461.1 1493.47 L1461.1 1488.7 Z\" fill=\"#000000\" fill-rule=\"evenodd\" fill-opacity=\"1\" /><path clip-path=\"url(#clip780)\" d=\"M 0 0 M1473.38 1465.39 L1488.29 1465.39 L1488.29 1468.59 L1476.86 1468.59 L1476.86 1475.47 Q1477.69 1475.19 1478.51 1475.06 Q1479.34 1474.91 1480.17 1474.91 Q1484.87 1474.91 1487.62 1477.49 Q1490.36 1480.06 1490.36 1484.46 Q1490.36 1489 1487.54 1491.52 Q1484.72 1494.02 1479.58 1494.02 Q1477.82 1494.02 1475.97 1493.72 Q1474.15 1493.42 1472.19 1492.82 L1472.19 1489 Q1473.89 1489.92 1475.69 1490.37 Q1477.5 1490.82 1479.51 1490.82 Q1482.76 1490.82 1484.66 1489.11 Q1486.56 1487.4 1486.56 1484.46 Q1486.56 1481.53 1484.66 1479.82 Q1482.76 1478.11 1479.51 1478.11 Q1477.99 1478.11 1476.46 1478.45 Q1474.96 1478.78 1473.38 1479.5 L1473.38 1465.39 Z\" fill=\"#000000\" fill-rule=\"evenodd\" fill-opacity=\"1\" /><path clip-path=\"url(#clip780)\" d=\"M 0 0 M1505.97 1467.9 Q1503.04 1467.9 1501.55 1470.79 Q1500.09 1473.67 1500.09 1479.46 Q1500.09 1485.24 1501.55 1488.13 Q1503.04 1491.01 1505.97 1491.01 Q1508.93 1491.01 1510.39 1488.13 Q1511.88 1485.24 1511.88 1479.46 Q1511.88 1473.67 1510.39 1470.79 Q1508.93 1467.9 1505.97 1467.9 M1505.97 1464.89 Q1510.69 1464.89 1513.18 1468.63 Q1515.68 1472.35 1515.68 1479.46 Q1515.68 1486.55 1513.18 1490.3 Q1510.69 1494.02 1505.97 1494.02 Q1501.25 1494.02 1498.75 1490.3 Q1496.27 1486.55 1496.27 1479.46 Q1496.27 1472.35 1498.75 1468.63 Q1501.25 1464.89 1505.97 1464.89 Z\" fill=\"#000000\" fill-rule=\"evenodd\" fill-opacity=\"1\" /><path clip-path=\"url(#clip780)\" d=\"M 0 0 M1684.71 1516.95 L1692.35 1516.95 L1692.35 1490.58 L1684.04 1492.25 L1684.04 1487.99 L1692.3 1486.32 L1696.98 1486.32 L1696.98 1516.95 L1704.61 1516.95 L1704.61 1520.88 L1684.71 1520.88 L1684.71 1516.95 Z\" fill=\"#000000\" fill-rule=\"evenodd\" fill-opacity=\"1\" /><path clip-path=\"url(#clip780)\" d=\"M 0 0 M1724.06 1489.4 Q1720.45 1489.4 1718.62 1492.97 Q1716.81 1496.51 1716.81 1503.64 Q1716.81 1510.75 1718.62 1514.31 Q1720.45 1517.85 1724.06 1517.85 Q1727.69 1517.85 1729.5 1514.31 Q1731.33 1510.75 1731.33 1503.64 Q1731.33 1496.51 1729.5 1492.97 Q1727.69 1489.4 1724.06 1489.4 M1724.06 1485.7 Q1729.87 1485.7 1732.92 1490.31 Q1736 1494.89 1736 1503.64 Q1736 1512.37 1732.92 1516.97 Q1729.87 1521.56 1724.06 1521.56 Q1718.25 1521.56 1715.17 1516.97 Q1712.11 1512.37 1712.11 1503.64 Q1712.11 1494.89 1715.17 1490.31 Q1718.25 1485.7 1724.06 1485.7 Z\" fill=\"#000000\" fill-rule=\"evenodd\" fill-opacity=\"1\" /><path clip-path=\"url(#clip780)\" d=\"M 0 0 M1748.7 1478.33 Q1751.43 1478.92 1752.95 1480.76 Q1754.49 1482.6 1754.49 1485.31 Q1754.49 1489.47 1751.63 1491.74 Q1748.77 1494.02 1743.51 1494.02 Q1741.74 1494.02 1739.86 1493.66 Q1738 1493.32 1736 1492.63 L1736 1488.96 Q1737.58 1489.88 1739.46 1490.35 Q1741.34 1490.82 1743.39 1490.82 Q1746.97 1490.82 1748.83 1489.41 Q1750.71 1488 1750.71 1485.31 Q1750.71 1482.83 1748.96 1481.44 Q1747.23 1480.03 1744.13 1480.03 L1740.86 1480.03 L1740.86 1476.9 L1744.28 1476.9 Q1747.08 1476.9 1748.57 1475.79 Q1750.05 1474.67 1750.05 1472.56 Q1750.05 1470.4 1748.51 1469.25 Q1746.99 1468.08 1744.13 1468.08 Q1742.57 1468.08 1740.78 1468.42 Q1738.99 1468.76 1736.85 1469.48 L1736.85 1466.09 Q1739.01 1465.49 1740.89 1465.19 Q1742.79 1464.89 1744.47 1464.89 Q1748.79 1464.89 1751.31 1466.86 Q1753.83 1468.82 1753.83 1472.16 Q1753.83 1474.5 1752.5 1476.11 Q1751.16 1477.71 1748.7 1478.33 Z\" fill=\"#000000\" fill-rule=\"evenodd\" fill-opacity=\"1\" /><path clip-path=\"url(#clip780)\" d=\"M 0 0 M1761.69 1488.7 L1765.66 1488.7 L1765.66 1493.47 L1761.69 1493.47 L1761.69 1488.7 Z\" fill=\"#000000\" fill-rule=\"evenodd\" fill-opacity=\"1\" /><path clip-path=\"url(#clip780)\" d=\"M 0 0 M1772.98 1465.39 L1791.03 1465.39 L1791.03 1467.01 L1780.84 1493.47 L1776.87 1493.47 L1786.46 1468.59 L1772.98 1468.59 L1772.98 1465.39 Z\" fill=\"#000000\" fill-rule=\"evenodd\" fill-opacity=\"1\" /><path clip-path=\"url(#clip780)\" d=\"M 0 0 M1798.48 1465.39 L1813.4 1465.39 L1813.4 1468.59 L1801.96 1468.59 L1801.96 1475.47 Q1802.79 1475.19 1803.62 1475.06 Q1804.44 1474.91 1805.27 1474.91 Q1809.97 1474.91 1812.72 1477.49 Q1815.47 1480.06 1815.47 1484.46 Q1815.47 1489 1812.64 1491.52 Q1809.82 1494.02 1804.69 1494.02 Q1802.92 1494.02 1801.08 1493.72 Q1799.25 1493.42 1797.3 1492.82 L1797.3 1489 Q1798.99 1489.92 1800.8 1490.37 Q1802.6 1490.82 1804.61 1490.82 Q1807.87 1490.82 1809.77 1489.11 Q1811.67 1487.4 1811.67 1484.46 Q1811.67 1481.53 1809.77 1479.82 Q1807.87 1478.11 1804.61 1478.11 Q1803.09 1478.11 1801.57 1478.45 Q1800.06 1478.78 1798.48 1479.5 L1798.48 1465.39 Z\" fill=\"#000000\" fill-rule=\"evenodd\" fill-opacity=\"1\" /><path clip-path=\"url(#clip780)\" d=\"M 0 0 M1983.97 1516.95 L1991.61 1516.95 L1991.61 1490.58 L1983.3 1492.25 L1983.3 1487.99 L1991.56 1486.32 L1996.24 1486.32 L1996.24 1516.95 L2003.88 1516.95 L2003.88 1520.88 L1983.97 1520.88 L1983.97 1516.95 Z\" fill=\"#000000\" fill-rule=\"evenodd\" fill-opacity=\"1\" /><path clip-path=\"url(#clip780)\" d=\"M 0 0 M2023.32 1489.4 Q2019.71 1489.4 2017.88 1492.97 Q2016.07 1496.51 2016.07 1503.64 Q2016.07 1510.75 2017.88 1514.31 Q2019.71 1517.85 2023.32 1517.85 Q2026.95 1517.85 2028.76 1514.31 Q2030.59 1510.75 2030.59 1503.64 Q2030.59 1496.51 2028.76 1492.97 Q2026.95 1489.4 2023.32 1489.4 M2023.32 1485.7 Q2029.13 1485.7 2032.19 1490.31 Q2035.26 1494.89 2035.26 1503.64 Q2035.26 1512.37 2032.19 1516.97 Q2029.13 1521.56 2023.32 1521.56 Q2017.51 1521.56 2014.43 1516.97 Q2011.38 1512.37 2011.38 1503.64 Q2011.38 1494.89 2014.43 1490.31 Q2017.51 1485.7 2023.32 1485.7 Z\" fill=\"#000000\" fill-rule=\"evenodd\" fill-opacity=\"1\" /><path clip-path=\"url(#clip780)\" d=\"M 0 0 M2047.94 1468.7 L2038.35 1483.69 L2047.94 1483.69 L2047.94 1468.7 M2046.94 1465.39 L2051.72 1465.39 L2051.72 1483.69 L2055.73 1483.69 L2055.73 1486.85 L2051.72 1486.85 L2051.72 1493.47 L2047.94 1493.47 L2047.94 1486.85 L2035.26 1486.85 L2035.26 1483.19 L2046.94 1465.39 Z\" fill=\"#000000\" fill-rule=\"evenodd\" fill-opacity=\"1\" /><path clip-path=\"url(#clip780)\" d=\"M 0 0 M2062.01 1488.7 L2065.98 1488.7 L2065.98 1493.47 L2062.01 1493.47 L2062.01 1488.7 Z\" fill=\"#000000\" fill-rule=\"evenodd\" fill-opacity=\"1\" /><path clip-path=\"url(#clip780)\" d=\"M 0 0 M2082.38 1467.9 Q2079.44 1467.9 2077.96 1470.79 Q2076.49 1473.67 2076.49 1479.46 Q2076.49 1485.24 2077.96 1488.13 Q2079.44 1491.01 2082.38 1491.01 Q2085.33 1491.01 2086.8 1488.13 Q2088.28 1485.24 2088.28 1479.46 Q2088.28 1473.67 2086.8 1470.79 Q2085.33 1467.9 2082.38 1467.9 M2082.38 1464.89 Q2087.1 1464.89 2089.58 1468.63 Q2092.08 1472.35 2092.08 1479.46 Q2092.08 1486.55 2089.58 1490.3 Q2087.1 1494.02 2082.38 1494.02 Q2077.66 1494.02 2075.16 1490.3 Q2072.67 1486.55 2072.67 1479.46 Q2072.67 1472.35 2075.16 1468.63 Q2077.66 1464.89 2082.38 1464.89 Z\" fill=\"#000000\" fill-rule=\"evenodd\" fill-opacity=\"1\" /><path clip-path=\"url(#clip780)\" d=\"M 0 0 M2106.88 1467.9 Q2103.95 1467.9 2102.46 1470.79 Q2101 1473.67 2101 1479.46 Q2101 1485.24 2102.46 1488.13 Q2103.95 1491.01 2106.88 1491.01 Q2109.84 1491.01 2111.3 1488.13 Q2112.79 1485.24 2112.79 1479.46 Q2112.79 1473.67 2111.3 1470.79 Q2109.84 1467.9 2106.88 1467.9 M2106.88 1464.89 Q2111.61 1464.89 2114.09 1468.63 Q2116.59 1472.35 2116.59 1479.46 Q2116.59 1486.55 2114.09 1490.3 Q2111.61 1494.02 2106.88 1494.02 Q2102.16 1494.02 2099.66 1490.3 Q2097.18 1486.55 2097.18 1479.46 Q2097.18 1472.35 2099.66 1468.63 Q2102.16 1464.89 2106.88 1464.89 Z\" fill=\"#000000\" fill-rule=\"evenodd\" fill-opacity=\"1\" /><path clip-path=\"url(#clip780)\" d=\"M 0 0 M2284.57 1516.95 L2292.2 1516.95 L2292.2 1490.58 L2283.89 1492.25 L2283.89 1487.99 L2292.16 1486.32 L2296.83 1486.32 L2296.83 1516.95 L2304.47 1516.95 L2304.47 1520.88 L2284.57 1520.88 L2284.57 1516.95 Z\" fill=\"#000000\" fill-rule=\"evenodd\" fill-opacity=\"1\" /><path clip-path=\"url(#clip780)\" d=\"M 0 0 M2323.92 1489.4 Q2320.31 1489.4 2318.48 1492.97 Q2316.67 1496.51 2316.67 1503.64 Q2316.67 1510.75 2318.48 1514.31 Q2320.31 1517.85 2323.92 1517.85 Q2327.55 1517.85 2329.36 1514.31 Q2331.19 1510.75 2331.19 1503.64 Q2331.19 1496.51 2329.36 1492.97 Q2327.55 1489.4 2323.92 1489.4 M2323.92 1485.7 Q2329.73 1485.7 2332.78 1490.31 Q2335.86 1494.89 2335.86 1503.64 Q2335.86 1512.37 2332.78 1516.97 Q2329.73 1521.56 2323.92 1521.56 Q2318.11 1521.56 2315.03 1516.97 Q2311.97 1512.37 2311.97 1503.64 Q2311.97 1494.89 2315.03 1490.31 Q2318.11 1485.7 2323.92 1485.7 Z\" fill=\"#000000\" fill-rule=\"evenodd\" fill-opacity=\"1\" /><path clip-path=\"url(#clip780)\" d=\"M 0 0 M2348.54 1468.7 L2338.95 1483.69 L2348.54 1483.69 L2348.54 1468.7 M2347.54 1465.39 L2352.32 1465.39 L2352.32 1483.69 L2356.32 1483.69 L2356.32 1486.85 L2352.32 1486.85 L2352.32 1493.47 L2348.54 1493.47 L2348.54 1486.85 L2335.86 1486.85 L2335.86 1483.19 L2347.54 1465.39 Z\" fill=\"#000000\" fill-rule=\"evenodd\" fill-opacity=\"1\" /><path clip-path=\"url(#clip780)\" d=\"M 0 0 M2362.61 1488.7 L2366.57 1488.7 L2366.57 1493.47 L2362.61 1493.47 L2362.61 1488.7 Z\" fill=\"#000000\" fill-rule=\"evenodd\" fill-opacity=\"1\" /><path clip-path=\"url(#clip780)\" d=\"M 0 0 M2378.12 1490.28 L2391.38 1490.28 L2391.38 1493.47 L2373.55 1493.47 L2373.55 1490.28 Q2375.72 1488.04 2379.44 1484.28 Q2383.18 1480.5 2384.14 1479.41 Q2385.97 1477.36 2386.68 1475.95 Q2387.41 1474.52 2387.41 1473.14 Q2387.41 1470.9 2385.83 1469.49 Q2384.27 1468.08 2381.75 1468.08 Q2379.97 1468.08 2377.97 1468.7 Q2376 1469.32 2373.74 1470.58 L2373.74 1466.75 Q2376.04 1465.83 2378.03 1465.36 Q2380.02 1464.89 2381.68 1464.89 Q2386.04 1464.89 2388.64 1467.07 Q2391.23 1469.25 2391.23 1472.9 Q2391.23 1474.63 2390.57 1476.19 Q2389.93 1477.73 2388.22 1479.84 Q2387.75 1480.38 2385.23 1483 Q2382.71 1485.59 2378.12 1490.28 Z\" fill=\"#000000\" fill-rule=\"evenodd\" fill-opacity=\"1\" /><path clip-path=\"url(#clip780)\" d=\"M 0 0 M2399.39 1465.39 L2414.31 1465.39 L2414.31 1468.59 L2402.87 1468.59 L2402.87 1475.47 Q2403.7 1475.19 2404.53 1475.06 Q2405.36 1474.91 2406.18 1474.91 Q2410.89 1474.91 2413.63 1477.49 Q2416.38 1480.06 2416.38 1484.46 Q2416.38 1489 2413.56 1491.52 Q2410.74 1494.02 2405.6 1494.02 Q2403.83 1494.02 2401.99 1493.72 Q2400.17 1493.42 2398.21 1492.82 L2398.21 1489 Q2399.9 1489.92 2401.71 1490.37 Q2403.51 1490.82 2405.53 1490.82 Q2408.78 1490.82 2410.68 1489.11 Q2412.58 1487.4 2412.58 1484.46 Q2412.58 1481.53 2410.68 1479.82 Q2408.78 1478.11 2405.53 1478.11 Q2404 1478.11 2402.48 1478.45 Q2400.97 1478.78 2399.39 1479.5 L2399.39 1465.39 Z\" fill=\"#000000\" fill-rule=\"evenodd\" fill-opacity=\"1\" /><path clip-path=\"url(#clip780)\" d=\"M 0 0 M1349.35 1561.42 Q1349.35 1561.68 1349.06 1562.68 Q1348.77 1563.67 1348.07 1565.22 Q1347.39 1566.77 1346.46 1568.18 Q1345.52 1569.57 1343.98 1570.6 Q1342.46 1571.6 1340.72 1571.6 Q1338.4 1571.6 1336.86 1570.05 Q1335.31 1568.5 1335.31 1566.19 Q1335.31 1564.9 1335.99 1563.13 Q1340.27 1551.69 1340.27 1547.76 Q1340.27 1543.16 1336.7 1543.16 Q1334.93 1543.16 1333.25 1543.84 Q1331.61 1544.48 1330.48 1545.38 Q1329.35 1546.28 1328.32 1547.54 Q1327.32 1548.76 1326.81 1549.6 Q1326.33 1550.41 1325.94 1551.21 L1325.1 1554.5 Q1324.91 1555.4 1323.98 1558.91 L1322.53 1564.87 Q1321.5 1569.31 1321.27 1569.73 Q1320.95 1570.63 1320.24 1571.11 Q1319.53 1571.6 1318.82 1571.6 Q1318.02 1571.6 1317.47 1571.11 Q1316.92 1570.63 1316.92 1569.79 Q1316.92 1569.66 1317.02 1569.18 Q1317.12 1568.7 1317.28 1568.02 Q1317.44 1567.35 1317.5 1566.96 L1321.33 1551.73 Q1322.04 1548.96 1322.2 1548.09 Q1322.4 1547.18 1322.4 1546.19 Q1322.4 1543.16 1320.34 1543.16 Q1318.66 1543.16 1317.57 1545.16 Q1316.47 1547.15 1315.54 1551.02 Q1315.25 1552.08 1315.05 1552.31 Q1314.89 1552.53 1314.41 1552.53 Q1313.61 1552.5 1313.61 1551.85 Q1313.61 1551.69 1313.86 1550.63 Q1314.12 1549.57 1314.6 1548.05 Q1315.12 1546.51 1315.6 1545.48 Q1316.02 1544.7 1316.25 1544.35 Q1316.5 1543.96 1317.12 1543.22 Q1317.76 1542.45 1318.6 1542.1 Q1319.47 1541.71 1320.53 1541.71 Q1322.91 1541.71 1324.65 1543.26 Q1326.39 1544.77 1326.62 1547.44 Q1330.9 1541.71 1336.89 1541.71 Q1340.43 1541.71 1342.46 1543.58 Q1344.49 1545.45 1344.49 1548.76 Q1344.49 1549.54 1344.33 1550.53 Q1344.2 1551.5 1343.88 1552.72 Q1343.59 1553.95 1343.33 1554.88 Q1343.07 1555.82 1342.56 1557.33 Q1342.04 1558.81 1341.82 1559.46 Q1341.59 1560.1 1341.04 1561.61 Q1340.53 1563.09 1340.46 1563.26 Q1339.27 1566.25 1339.27 1567.96 Q1339.27 1569.08 1339.63 1569.6 Q1340.01 1570.12 1340.85 1570.12 Q1343.11 1570.12 1344.78 1567.89 Q1346.49 1565.64 1347.58 1561.97 Q1347.84 1561.16 1347.97 1560.97 Q1348.13 1560.78 1348.58 1560.78 Q1349.35 1560.78 1349.35 1561.42 Z\" fill=\"#000000\" fill-rule=\"evenodd\" fill-opacity=\"1\" /><polyline clip-path=\"url(#clip782)\" style=\"stroke:#000000; stroke-width:2; stroke-opacity:0.1; fill:none\" points=\"\n",
       "  313.626,1326.05 2352.76,1326.05 \n",
       "  \"/>\n",
       "<polyline clip-path=\"url(#clip782)\" style=\"stroke:#000000; stroke-width:2; stroke-opacity:0.1; fill:none\" points=\"\n",
       "  313.626,1148.37 2352.76,1148.37 \n",
       "  \"/>\n",
       "<polyline clip-path=\"url(#clip782)\" style=\"stroke:#000000; stroke-width:2; stroke-opacity:0.1; fill:none\" points=\"\n",
       "  313.626,970.691 2352.76,970.691 \n",
       "  \"/>\n",
       "<polyline clip-path=\"url(#clip782)\" style=\"stroke:#000000; stroke-width:2; stroke-opacity:0.1; fill:none\" points=\"\n",
       "  313.626,793.013 2352.76,793.013 \n",
       "  \"/>\n",
       "<polyline clip-path=\"url(#clip782)\" style=\"stroke:#000000; stroke-width:2; stroke-opacity:0.1; fill:none\" points=\"\n",
       "  313.626,615.335 2352.76,615.335 \n",
       "  \"/>\n",
       "<polyline clip-path=\"url(#clip782)\" style=\"stroke:#000000; stroke-width:2; stroke-opacity:0.1; fill:none\" points=\"\n",
       "  313.626,437.658 2352.76,437.658 \n",
       "  \"/>\n",
       "<polyline clip-path=\"url(#clip782)\" style=\"stroke:#000000; stroke-width:2; stroke-opacity:0.1; fill:none\" points=\"\n",
       "  313.626,259.98 2352.76,259.98 \n",
       "  \"/>\n",
       "<polyline clip-path=\"url(#clip780)\" style=\"stroke:#000000; stroke-width:4; stroke-opacity:1; fill:none\" points=\"\n",
       "  313.626,1438.68 313.626,123.472 \n",
       "  \"/>\n",
       "<polyline clip-path=\"url(#clip780)\" style=\"stroke:#000000; stroke-width:4; stroke-opacity:1; fill:none\" points=\"\n",
       "  313.626,1326.05 338.095,1326.05 \n",
       "  \"/>\n",
       "<polyline clip-path=\"url(#clip780)\" style=\"stroke:#000000; stroke-width:4; stroke-opacity:1; fill:none\" points=\"\n",
       "  313.626,1148.37 338.095,1148.37 \n",
       "  \"/>\n",
       "<polyline clip-path=\"url(#clip780)\" style=\"stroke:#000000; stroke-width:4; stroke-opacity:1; fill:none\" points=\"\n",
       "  313.626,970.691 338.095,970.691 \n",
       "  \"/>\n",
       "<polyline clip-path=\"url(#clip780)\" style=\"stroke:#000000; stroke-width:4; stroke-opacity:1; fill:none\" points=\"\n",
       "  313.626,793.013 338.095,793.013 \n",
       "  \"/>\n",
       "<polyline clip-path=\"url(#clip780)\" style=\"stroke:#000000; stroke-width:4; stroke-opacity:1; fill:none\" points=\"\n",
       "  313.626,615.335 338.095,615.335 \n",
       "  \"/>\n",
       "<polyline clip-path=\"url(#clip780)\" style=\"stroke:#000000; stroke-width:4; stroke-opacity:1; fill:none\" points=\"\n",
       "  313.626,437.658 338.095,437.658 \n",
       "  \"/>\n",
       "<polyline clip-path=\"url(#clip780)\" style=\"stroke:#000000; stroke-width:4; stroke-opacity:1; fill:none\" points=\"\n",
       "  313.626,259.98 338.095,259.98 \n",
       "  \"/>\n",
       "<path clip-path=\"url(#clip780)\" d=\"M 0 0 M115.74 1345.84 L123.379 1345.84 L123.379 1319.47 L115.069 1321.14 L115.069 1316.88 L123.333 1315.21 L128.009 1315.21 L128.009 1345.84 L135.647 1345.84 L135.647 1349.77 L115.74 1349.77 L115.74 1345.84 Z\" fill=\"#000000\" fill-rule=\"evenodd\" fill-opacity=\"1\" /><path clip-path=\"url(#clip780)\" d=\"M 0 0 M155.092 1318.29 Q151.481 1318.29 149.652 1321.86 Q147.846 1325.4 147.846 1332.53 Q147.846 1339.64 149.652 1343.2 Q151.481 1346.74 155.092 1346.74 Q158.726 1346.74 160.532 1343.2 Q162.36 1339.64 162.36 1332.53 Q162.36 1325.4 160.532 1321.86 Q158.726 1318.29 155.092 1318.29 M155.092 1314.59 Q160.902 1314.59 163.958 1319.2 Q167.036 1323.78 167.036 1332.53 Q167.036 1341.26 163.958 1345.86 Q160.902 1350.45 155.092 1350.45 Q149.282 1350.45 146.203 1345.86 Q143.147 1341.26 143.147 1332.53 Q143.147 1323.78 146.203 1319.2 Q149.282 1314.59 155.092 1314.59 Z\" fill=\"#000000\" fill-rule=\"evenodd\" fill-opacity=\"1\" /><path clip-path=\"url(#clip780)\" d=\"M 0 0 M167.036 1308.69 L191.148 1308.69 L191.148 1311.89 L167.036 1311.89 L167.036 1308.69 Z\" fill=\"#000000\" fill-rule=\"evenodd\" fill-opacity=\"1\" /><path clip-path=\"url(#clip780)\" d=\"M 0 0 M199.386 1294.28 L214.3 1294.28 L214.3 1297.48 L202.865 1297.48 L202.865 1304.37 Q203.693 1304.08 204.52 1303.95 Q205.348 1303.8 206.175 1303.8 Q210.877 1303.8 213.623 1306.38 Q216.369 1308.95 216.369 1313.36 Q216.369 1317.89 213.548 1320.41 Q210.727 1322.91 205.592 1322.91 Q203.824 1322.91 201.981 1322.61 Q200.157 1322.31 198.201 1321.71 L198.201 1317.89 Q199.893 1318.81 201.699 1319.26 Q203.504 1319.71 205.517 1319.71 Q208.771 1319.71 210.67 1318 Q212.57 1316.29 212.57 1313.36 Q212.57 1310.42 210.67 1308.71 Q208.771 1307 205.517 1307 Q203.993 1307 202.47 1307.34 Q200.965 1307.68 199.386 1308.39 L199.386 1294.28 Z\" fill=\"#000000\" fill-rule=\"evenodd\" fill-opacity=\"1\" /><path clip-path=\"url(#clip780)\" d=\"M 0 0 M223.854 1317.59 L227.823 1317.59 L227.823 1322.36 L223.854 1322.36 L223.854 1317.59 Z\" fill=\"#000000\" fill-rule=\"evenodd\" fill-opacity=\"1\" /><path clip-path=\"url(#clip780)\" d=\"M 0 0 M239.371 1319.17 L252.63 1319.17 L252.63 1322.36 L234.801 1322.36 L234.801 1319.17 Q236.963 1316.93 240.687 1313.17 Q244.43 1309.39 245.389 1308.3 Q247.214 1306.25 247.928 1304.84 Q248.662 1303.41 248.662 1302.03 Q248.662 1299.79 247.082 1298.38 Q245.521 1296.97 243.001 1296.97 Q241.214 1296.97 239.22 1297.59 Q237.246 1298.22 234.989 1299.48 L234.989 1295.64 Q237.283 1294.72 239.277 1294.25 Q241.27 1293.78 242.926 1293.78 Q247.289 1293.78 249.884 1295.96 Q252.48 1298.14 252.48 1301.79 Q252.48 1303.52 251.822 1305.08 Q251.182 1306.62 249.471 1308.73 Q249 1309.27 246.48 1311.89 Q243.96 1314.48 239.371 1319.17 Z\" fill=\"#000000\" fill-rule=\"evenodd\" fill-opacity=\"1\" /><path clip-path=\"url(#clip780)\" d=\"M 0 0 M260.642 1294.28 L275.557 1294.28 L275.557 1297.48 L264.122 1297.48 L264.122 1304.37 Q264.949 1304.08 265.777 1303.95 Q266.605 1303.8 267.432 1303.8 Q272.134 1303.8 274.88 1306.38 Q277.626 1308.95 277.626 1313.36 Q277.626 1317.89 274.805 1320.41 Q271.984 1322.91 266.849 1322.91 Q265.081 1322.91 263.238 1322.61 Q261.414 1322.31 259.458 1321.71 L259.458 1317.89 Q261.15 1318.81 262.956 1319.26 Q264.761 1319.71 266.774 1319.71 Q270.028 1319.71 271.927 1318 Q273.827 1316.29 273.827 1313.36 Q273.827 1310.42 271.927 1308.71 Q270.028 1307 266.774 1307 Q265.25 1307 263.727 1307.34 Q262.222 1307.68 260.642 1308.39 L260.642 1294.28 Z\" fill=\"#000000\" fill-rule=\"evenodd\" fill-opacity=\"1\" /><path clip-path=\"url(#clip780)\" d=\"M 0 0 M114.931 1168.16 L122.57 1168.16 L122.57 1141.8 L114.26 1143.46 L114.26 1139.2 L122.524 1137.54 L127.2 1137.54 L127.2 1168.16 L134.839 1168.16 L134.839 1172.1 L114.931 1172.1 L114.931 1168.16 Z\" fill=\"#000000\" fill-rule=\"evenodd\" fill-opacity=\"1\" /><path clip-path=\"url(#clip780)\" d=\"M 0 0 M154.283 1140.62 Q150.672 1140.62 148.843 1144.18 Q147.038 1147.72 147.038 1154.85 Q147.038 1161.96 148.843 1165.52 Q150.672 1169.06 154.283 1169.06 Q157.917 1169.06 159.723 1165.52 Q161.552 1161.96 161.552 1154.85 Q161.552 1147.72 159.723 1144.18 Q157.917 1140.62 154.283 1140.62 M154.283 1136.91 Q160.093 1136.91 163.149 1141.52 Q166.227 1146.1 166.227 1154.85 Q166.227 1163.58 163.149 1168.18 Q160.093 1172.77 154.283 1172.77 Q148.473 1172.77 145.394 1168.18 Q142.339 1163.58 142.339 1154.85 Q142.339 1146.1 145.394 1141.52 Q148.473 1136.91 154.283 1136.91 Z\" fill=\"#000000\" fill-rule=\"evenodd\" fill-opacity=\"1\" /><path clip-path=\"url(#clip780)\" d=\"M 0 0 M166.227 1131.01 L190.339 1131.01 L190.339 1134.21 L166.227 1134.21 L166.227 1131.01 Z\" fill=\"#000000\" fill-rule=\"evenodd\" fill-opacity=\"1\" /><path clip-path=\"url(#clip780)\" d=\"M 0 0 M198.577 1116.61 L213.491 1116.61 L213.491 1119.8 L202.056 1119.8 L202.056 1126.69 Q202.884 1126.41 203.711 1126.27 Q204.539 1126.12 205.366 1126.12 Q210.068 1126.12 212.814 1128.7 Q215.56 1131.28 215.56 1135.68 Q215.56 1140.21 212.739 1142.73 Q209.918 1145.23 204.783 1145.23 Q203.015 1145.23 201.172 1144.93 Q199.348 1144.63 197.392 1144.03 L197.392 1140.21 Q199.085 1141.13 200.89 1141.58 Q202.696 1142.03 204.708 1142.03 Q207.962 1142.03 209.861 1140.32 Q211.761 1138.61 211.761 1135.68 Q211.761 1132.74 209.861 1131.03 Q207.962 1129.32 204.708 1129.32 Q203.185 1129.32 201.661 1129.66 Q200.157 1130 198.577 1130.71 L198.577 1116.61 Z\" fill=\"#000000\" fill-rule=\"evenodd\" fill-opacity=\"1\" /><path clip-path=\"url(#clip780)\" d=\"M 0 0 M223.046 1139.91 L227.014 1139.91 L227.014 1144.69 L223.046 1144.69 L223.046 1139.91 Z\" fill=\"#000000\" fill-rule=\"evenodd\" fill-opacity=\"1\" /><path clip-path=\"url(#clip780)\" d=\"M 0 0 M243.415 1119.11 Q240.481 1119.11 238.995 1122 Q237.528 1124.88 237.528 1130.67 Q237.528 1136.45 238.995 1139.34 Q240.481 1142.22 243.415 1142.22 Q246.367 1142.22 247.834 1139.34 Q249.32 1136.45 249.32 1130.67 Q249.32 1124.88 247.834 1122 Q246.367 1119.11 243.415 1119.11 M243.415 1116.1 Q248.135 1116.1 250.618 1119.84 Q253.119 1123.57 253.119 1130.67 Q253.119 1137.77 250.618 1141.51 Q248.135 1145.23 243.415 1145.23 Q238.694 1145.23 236.192 1141.51 Q233.71 1137.77 233.71 1130.67 Q233.71 1123.57 236.192 1119.84 Q238.694 1116.1 243.415 1116.1 Z\" fill=\"#000000\" fill-rule=\"evenodd\" fill-opacity=\"1\" /><path clip-path=\"url(#clip780)\" d=\"M 0 0 M267.921 1119.11 Q264.987 1119.11 263.501 1122 Q262.034 1124.88 262.034 1130.67 Q262.034 1136.45 263.501 1139.34 Q264.987 1142.22 267.921 1142.22 Q270.874 1142.22 272.341 1139.34 Q273.827 1136.45 273.827 1130.67 Q273.827 1124.88 272.341 1122 Q270.874 1119.11 267.921 1119.11 M267.921 1116.1 Q272.642 1116.1 275.124 1119.84 Q277.626 1123.57 277.626 1130.67 Q277.626 1137.77 275.124 1141.51 Q272.642 1145.23 267.921 1145.23 Q263.2 1145.23 260.699 1141.51 Q258.216 1137.77 258.216 1130.67 Q258.216 1123.57 260.699 1119.84 Q263.2 1116.1 267.921 1116.1 Z\" fill=\"#000000\" fill-rule=\"evenodd\" fill-opacity=\"1\" /><path clip-path=\"url(#clip780)\" d=\"M 0 0 M115.74 990.484 L123.379 990.484 L123.379 964.118 L115.069 965.785 L115.069 961.526 L123.333 959.859 L128.009 959.859 L128.009 990.484 L135.647 990.484 L135.647 994.419 L115.74 994.419 L115.74 990.484 Z\" fill=\"#000000\" fill-rule=\"evenodd\" fill-opacity=\"1\" /><path clip-path=\"url(#clip780)\" d=\"M 0 0 M155.092 962.938 Q151.481 962.938 149.652 966.502 Q147.846 970.044 147.846 977.174 Q147.846 984.28 149.652 987.845 Q151.481 991.386 155.092 991.386 Q158.726 991.386 160.532 987.845 Q162.36 984.28 162.36 977.174 Q162.36 970.044 160.532 966.502 Q158.726 962.938 155.092 962.938 M155.092 959.234 Q160.902 959.234 163.958 963.84 Q167.036 968.424 167.036 977.174 Q167.036 985.9 163.958 990.507 Q160.902 995.09 155.092 995.09 Q149.282 995.09 146.203 990.507 Q143.147 985.9 143.147 977.174 Q143.147 968.424 146.203 963.84 Q149.282 959.234 155.092 959.234 Z\" fill=\"#000000\" fill-rule=\"evenodd\" fill-opacity=\"1\" /><path clip-path=\"url(#clip780)\" d=\"M 0 0 M167.036 953.335 L191.148 953.335 L191.148 956.533 L167.036 956.533 L167.036 953.335 Z\" fill=\"#000000\" fill-rule=\"evenodd\" fill-opacity=\"1\" /><path clip-path=\"url(#clip780)\" d=\"M 0 0 M209.786 942.239 L200.194 957.228 L209.786 957.228 L209.786 942.239 M208.789 938.928 L213.567 938.928 L213.567 957.228 L217.573 957.228 L217.573 960.388 L213.567 960.388 L213.567 967.008 L209.786 967.008 L209.786 960.388 L197.11 960.388 L197.11 956.721 L208.789 938.928 Z\" fill=\"#000000\" fill-rule=\"evenodd\" fill-opacity=\"1\" /><path clip-path=\"url(#clip780)\" d=\"M 0 0 M223.854 962.231 L227.823 962.231 L227.823 967.008 L223.854 967.008 L223.854 962.231 Z\" fill=\"#000000\" fill-rule=\"evenodd\" fill-opacity=\"1\" /><path clip-path=\"url(#clip780)\" d=\"M 0 0 M235.139 938.928 L253.195 938.928 L253.195 940.546 L243.001 967.008 L239.032 967.008 L248.624 942.126 L235.139 942.126 L235.139 938.928 Z\" fill=\"#000000\" fill-rule=\"evenodd\" fill-opacity=\"1\" /><path clip-path=\"url(#clip780)\" d=\"M 0 0 M260.642 938.928 L275.557 938.928 L275.557 942.126 L264.122 942.126 L264.122 949.009 Q264.949 948.727 265.777 948.596 Q266.605 948.445 267.432 948.445 Q272.134 948.445 274.88 951.022 Q277.626 953.599 277.626 958 Q277.626 962.532 274.805 965.052 Q271.984 967.554 266.849 967.554 Q265.081 967.554 263.238 967.253 Q261.414 966.952 259.458 966.35 L259.458 962.532 Q261.15 963.454 262.956 963.905 Q264.761 964.357 266.774 964.357 Q270.028 964.357 271.927 962.645 Q273.827 960.934 273.827 958 Q273.827 955.066 271.927 953.354 Q270.028 951.643 266.774 951.643 Q265.25 951.643 263.727 951.981 Q262.222 952.32 260.642 953.034 L260.642 938.928 Z\" fill=\"#000000\" fill-rule=\"evenodd\" fill-opacity=\"1\" /><path clip-path=\"url(#clip780)\" d=\"M 0 0 M114.931 812.806 L122.57 812.806 L122.57 786.44 L114.26 788.107 L114.26 783.848 L122.524 782.181 L127.2 782.181 L127.2 812.806 L134.839 812.806 L134.839 816.741 L114.931 816.741 L114.931 812.806 Z\" fill=\"#000000\" fill-rule=\"evenodd\" fill-opacity=\"1\" /><path clip-path=\"url(#clip780)\" d=\"M 0 0 M154.283 785.26 Q150.672 785.26 148.843 788.824 Q147.038 792.366 147.038 799.496 Q147.038 806.602 148.843 810.167 Q150.672 813.709 154.283 813.709 Q157.917 813.709 159.723 810.167 Q161.552 806.602 161.552 799.496 Q161.552 792.366 159.723 788.824 Q157.917 785.26 154.283 785.26 M154.283 781.556 Q160.093 781.556 163.149 786.162 Q166.227 790.746 166.227 799.496 Q166.227 808.222 163.149 812.829 Q160.093 817.412 154.283 817.412 Q148.473 817.412 145.394 812.829 Q142.339 808.222 142.339 799.496 Q142.339 790.746 145.394 786.162 Q148.473 781.556 154.283 781.556 Z\" fill=\"#000000\" fill-rule=\"evenodd\" fill-opacity=\"1\" /><path clip-path=\"url(#clip780)\" d=\"M 0 0 M166.227 775.657 L190.339 775.657 L190.339 778.855 L166.227 778.855 L166.227 775.657 Z\" fill=\"#000000\" fill-rule=\"evenodd\" fill-opacity=\"1\" /><path clip-path=\"url(#clip780)\" d=\"M 0 0 M208.978 764.561 L199.386 779.551 L208.978 779.551 L208.978 764.561 M207.981 761.251 L212.758 761.251 L212.758 779.551 L216.764 779.551 L216.764 782.71 L212.758 782.71 L212.758 789.331 L208.978 789.331 L208.978 782.71 L196.301 782.71 L196.301 779.043 L207.981 761.251 Z\" fill=\"#000000\" fill-rule=\"evenodd\" fill-opacity=\"1\" /><path clip-path=\"url(#clip780)\" d=\"M 0 0 M223.046 784.553 L227.014 784.553 L227.014 789.331 L223.046 789.331 L223.046 784.553 Z\" fill=\"#000000\" fill-rule=\"evenodd\" fill-opacity=\"1\" /><path clip-path=\"url(#clip780)\" d=\"M 0 0 M235.327 761.251 L250.242 761.251 L250.242 764.448 L238.807 764.448 L238.807 771.332 Q239.634 771.049 240.462 770.918 Q241.289 770.767 242.117 770.767 Q246.819 770.767 249.565 773.344 Q252.311 775.921 252.311 780.322 Q252.311 784.854 249.489 787.375 Q246.668 789.876 241.534 789.876 Q239.766 789.876 237.923 789.575 Q236.098 789.274 234.142 788.672 L234.142 784.854 Q235.835 785.776 237.641 786.227 Q239.446 786.679 241.459 786.679 Q244.712 786.679 246.612 784.967 Q248.511 783.256 248.511 780.322 Q248.511 777.388 246.612 775.676 Q244.712 773.965 241.459 773.965 Q239.935 773.965 238.412 774.303 Q236.907 774.642 235.327 775.356 L235.327 761.251 Z\" fill=\"#000000\" fill-rule=\"evenodd\" fill-opacity=\"1\" /><path clip-path=\"url(#clip780)\" d=\"M 0 0 M267.921 763.752 Q264.987 763.752 263.501 766.648 Q262.034 769.526 262.034 775.319 Q262.034 781.093 263.501 783.989 Q264.987 786.867 267.921 786.867 Q270.874 786.867 272.341 783.989 Q273.827 781.093 273.827 775.319 Q273.827 769.526 272.341 766.648 Q270.874 763.752 267.921 763.752 M267.921 760.743 Q272.642 760.743 275.124 764.485 Q277.626 768.209 277.626 775.319 Q277.626 782.409 275.124 786.152 Q272.642 789.876 267.921 789.876 Q263.2 789.876 260.699 786.152 Q258.216 782.409 258.216 775.319 Q258.216 768.209 260.699 764.485 Q263.2 760.743 267.921 760.743 Z\" fill=\"#000000\" fill-rule=\"evenodd\" fill-opacity=\"1\" /><path clip-path=\"url(#clip780)\" d=\"M 0 0 M115.74 635.128 L123.379 635.128 L123.379 608.762 L115.069 610.429 L115.069 606.17 L123.333 604.503 L128.009 604.503 L128.009 635.128 L135.647 635.128 L135.647 639.063 L115.74 639.063 L115.74 635.128 Z\" fill=\"#000000\" fill-rule=\"evenodd\" fill-opacity=\"1\" /><path clip-path=\"url(#clip780)\" d=\"M 0 0 M155.092 607.582 Q151.481 607.582 149.652 611.147 Q147.846 614.688 147.846 621.818 Q147.846 628.924 149.652 632.489 Q151.481 636.031 155.092 636.031 Q158.726 636.031 160.532 632.489 Q162.36 628.924 162.36 621.818 Q162.36 614.688 160.532 611.147 Q158.726 607.582 155.092 607.582 M155.092 603.878 Q160.902 603.878 163.958 608.484 Q167.036 613.068 167.036 621.818 Q167.036 630.545 163.958 635.151 Q160.902 639.734 155.092 639.734 Q149.282 639.734 146.203 635.151 Q143.147 630.545 143.147 621.818 Q143.147 613.068 146.203 608.484 Q149.282 603.878 155.092 603.878 Z\" fill=\"#000000\" fill-rule=\"evenodd\" fill-opacity=\"1\" /><path clip-path=\"url(#clip780)\" d=\"M 0 0 M167.036 597.979 L191.148 597.979 L191.148 601.177 L167.036 601.177 L167.036 597.979 Z\" fill=\"#000000\" fill-rule=\"evenodd\" fill-opacity=\"1\" /><path clip-path=\"url(#clip780)\" d=\"M 0 0 M209.786 586.883 L200.194 601.873 L209.786 601.873 L209.786 586.883 M208.789 583.573 L213.567 583.573 L213.567 601.873 L217.573 601.873 L217.573 605.032 L213.567 605.032 L213.567 611.653 L209.786 611.653 L209.786 605.032 L197.11 605.032 L197.11 601.365 L208.789 583.573 Z\" fill=\"#000000\" fill-rule=\"evenodd\" fill-opacity=\"1\" /><path clip-path=\"url(#clip780)\" d=\"M 0 0 M223.854 606.875 L227.823 606.875 L227.823 611.653 L223.854 611.653 L223.854 606.875 Z\" fill=\"#000000\" fill-rule=\"evenodd\" fill-opacity=\"1\" /><path clip-path=\"url(#clip780)\" d=\"M 0 0 M239.371 608.455 L252.63 608.455 L252.63 611.653 L234.801 611.653 L234.801 608.455 Q236.963 606.217 240.687 602.456 Q244.43 598.675 245.389 597.584 Q247.214 595.534 247.928 594.124 Q248.662 592.694 248.662 591.321 Q248.662 589.083 247.082 587.673 Q245.521 586.262 243.001 586.262 Q241.214 586.262 239.22 586.883 Q237.246 587.503 234.989 588.764 L234.989 584.927 Q237.283 584.005 239.277 583.535 Q241.27 583.065 242.926 583.065 Q247.289 583.065 249.884 585.247 Q252.48 587.428 252.48 591.077 Q252.48 592.807 251.822 594.368 Q251.182 595.911 249.471 598.017 Q249 598.562 246.48 601.177 Q243.96 603.772 239.371 608.455 Z\" fill=\"#000000\" fill-rule=\"evenodd\" fill-opacity=\"1\" /><path clip-path=\"url(#clip780)\" d=\"M 0 0 M260.642 583.573 L275.557 583.573 L275.557 586.77 L264.122 586.77 L264.122 593.654 Q264.949 593.371 265.777 593.24 Q266.605 593.089 267.432 593.089 Q272.134 593.089 274.88 595.666 Q277.626 598.243 277.626 602.644 Q277.626 607.176 274.805 609.697 Q271.984 612.198 266.849 612.198 Q265.081 612.198 263.238 611.897 Q261.414 611.596 259.458 610.994 L259.458 607.176 Q261.15 608.098 262.956 608.549 Q264.761 609.001 266.774 609.001 Q270.028 609.001 271.927 607.289 Q273.827 605.578 273.827 602.644 Q273.827 599.71 271.927 597.998 Q270.028 596.287 266.774 596.287 Q265.25 596.287 263.727 596.625 Q262.222 596.964 260.642 597.678 L260.642 583.573 Z\" fill=\"#000000\" fill-rule=\"evenodd\" fill-opacity=\"1\" /><path clip-path=\"url(#clip780)\" d=\"M 0 0 M114.931 457.45 L122.57 457.45 L122.57 431.084 L114.26 432.751 L114.26 428.492 L122.524 426.825 L127.2 426.825 L127.2 457.45 L134.839 457.45 L134.839 461.385 L114.931 461.385 L114.931 457.45 Z\" fill=\"#000000\" fill-rule=\"evenodd\" fill-opacity=\"1\" /><path clip-path=\"url(#clip780)\" d=\"M 0 0 M154.283 429.904 Q150.672 429.904 148.843 433.469 Q147.038 437.01 147.038 444.14 Q147.038 451.246 148.843 454.811 Q150.672 458.353 154.283 458.353 Q157.917 458.353 159.723 454.811 Q161.552 451.246 161.552 444.14 Q161.552 437.01 159.723 433.469 Q157.917 429.904 154.283 429.904 M154.283 426.2 Q160.093 426.2 163.149 430.807 Q166.227 435.39 166.227 444.14 Q166.227 452.867 163.149 457.473 Q160.093 462.056 154.283 462.056 Q148.473 462.056 145.394 457.473 Q142.339 452.867 142.339 444.14 Q142.339 435.39 145.394 430.807 Q148.473 426.2 154.283 426.2 Z\" fill=\"#000000\" fill-rule=\"evenodd\" fill-opacity=\"1\" /><path clip-path=\"url(#clip780)\" d=\"M 0 0 M166.227 420.301 L190.339 420.301 L190.339 423.499 L166.227 423.499 L166.227 420.301 Z\" fill=\"#000000\" fill-rule=\"evenodd\" fill-opacity=\"1\" /><path clip-path=\"url(#clip780)\" d=\"M 0 0 M208.978 409.205 L199.386 424.195 L208.978 424.195 L208.978 409.205 M207.981 405.895 L212.758 405.895 L212.758 424.195 L216.764 424.195 L216.764 427.354 L212.758 427.354 L212.758 433.975 L208.978 433.975 L208.978 427.354 L196.301 427.354 L196.301 423.687 L207.981 405.895 Z\" fill=\"#000000\" fill-rule=\"evenodd\" fill-opacity=\"1\" /><path clip-path=\"url(#clip780)\" d=\"M 0 0 M223.046 429.198 L227.014 429.198 L227.014 433.975 L223.046 433.975 L223.046 429.198 Z\" fill=\"#000000\" fill-rule=\"evenodd\" fill-opacity=\"1\" /><path clip-path=\"url(#clip780)\" d=\"M 0 0 M243.415 408.396 Q240.481 408.396 238.995 411.293 Q237.528 414.17 237.528 419.963 Q237.528 425.737 238.995 428.633 Q240.481 431.511 243.415 431.511 Q246.367 431.511 247.834 428.633 Q249.32 425.737 249.32 419.963 Q249.32 414.17 247.834 411.293 Q246.367 408.396 243.415 408.396 M243.415 405.387 Q248.135 405.387 250.618 409.13 Q253.119 412.854 253.119 419.963 Q253.119 427.053 250.618 430.796 Q248.135 434.52 243.415 434.52 Q238.694 434.52 236.192 430.796 Q233.71 427.053 233.71 419.963 Q233.71 412.854 236.192 409.13 Q238.694 405.387 243.415 405.387 Z\" fill=\"#000000\" fill-rule=\"evenodd\" fill-opacity=\"1\" /><path clip-path=\"url(#clip780)\" d=\"M 0 0 M267.921 408.396 Q264.987 408.396 263.501 411.293 Q262.034 414.17 262.034 419.963 Q262.034 425.737 263.501 428.633 Q264.987 431.511 267.921 431.511 Q270.874 431.511 272.341 428.633 Q273.827 425.737 273.827 419.963 Q273.827 414.17 272.341 411.293 Q270.874 408.396 267.921 408.396 M267.921 405.387 Q272.642 405.387 275.124 409.13 Q277.626 412.854 277.626 419.963 Q277.626 427.053 275.124 430.796 Q272.642 434.52 267.921 434.52 Q263.2 434.52 260.699 430.796 Q258.216 427.053 258.216 419.963 Q258.216 412.854 260.699 409.13 Q263.2 405.387 267.921 405.387 Z\" fill=\"#000000\" fill-rule=\"evenodd\" fill-opacity=\"1\" /><path clip-path=\"url(#clip780)\" d=\"M 0 0 M115.74 279.772 L123.379 279.772 L123.379 253.406 L115.069 255.073 L115.069 250.814 L123.333 249.147 L128.009 249.147 L128.009 279.772 L135.647 279.772 L135.647 283.707 L115.74 283.707 L115.74 279.772 Z\" fill=\"#000000\" fill-rule=\"evenodd\" fill-opacity=\"1\" /><path clip-path=\"url(#clip780)\" d=\"M 0 0 M155.092 252.226 Q151.481 252.226 149.652 255.791 Q147.846 259.332 147.846 266.462 Q147.846 273.568 149.652 277.133 Q151.481 280.675 155.092 280.675 Q158.726 280.675 160.532 277.133 Q162.36 273.568 162.36 266.462 Q162.36 259.332 160.532 255.791 Q158.726 252.226 155.092 252.226 M155.092 248.522 Q160.902 248.522 163.958 253.129 Q167.036 257.712 167.036 266.462 Q167.036 275.189 163.958 279.795 Q160.902 284.378 155.092 284.378 Q149.282 284.378 146.203 279.795 Q143.147 275.189 143.147 266.462 Q143.147 257.712 146.203 253.129 Q149.282 248.522 155.092 248.522 Z\" fill=\"#000000\" fill-rule=\"evenodd\" fill-opacity=\"1\" /><path clip-path=\"url(#clip780)\" d=\"M 0 0 M167.036 242.624 L191.148 242.624 L191.148 245.821 L167.036 245.821 L167.036 242.624 Z\" fill=\"#000000\" fill-rule=\"evenodd\" fill-opacity=\"1\" /><path clip-path=\"url(#clip780)\" d=\"M 0 0 M210.858 241.157 Q213.585 241.74 215.109 243.583 Q216.651 245.426 216.651 248.134 Q216.651 252.291 213.792 254.566 Q210.934 256.842 205.667 256.842 Q203.899 256.842 202.019 256.485 Q200.157 256.146 198.163 255.45 L198.163 251.783 Q199.743 252.705 201.624 253.175 Q203.504 253.645 205.555 253.645 Q209.128 253.645 210.99 252.234 Q212.871 250.824 212.871 248.134 Q212.871 245.652 211.122 244.26 Q209.391 242.849 206.288 242.849 L203.015 242.849 L203.015 239.727 L206.438 239.727 Q209.241 239.727 210.727 238.617 Q212.212 237.489 212.212 235.383 Q212.212 233.22 210.67 232.072 Q209.147 230.906 206.288 230.906 Q204.727 230.906 202.94 231.245 Q201.153 231.583 199.009 232.298 L199.009 228.913 Q201.172 228.311 203.053 228.01 Q204.953 227.709 206.627 227.709 Q210.952 227.709 213.473 229.684 Q215.993 231.64 215.993 234.988 Q215.993 237.32 214.657 238.937 Q213.322 240.536 210.858 241.157 Z\" fill=\"#000000\" fill-rule=\"evenodd\" fill-opacity=\"1\" /><path clip-path=\"url(#clip780)\" d=\"M 0 0 M223.854 251.52 L227.823 251.52 L227.823 256.297 L223.854 256.297 L223.854 251.52 Z\" fill=\"#000000\" fill-rule=\"evenodd\" fill-opacity=\"1\" /><path clip-path=\"url(#clip780)\" d=\"M 0 0 M235.139 228.217 L253.195 228.217 L253.195 229.834 L243.001 256.297 L239.032 256.297 L248.624 231.414 L235.139 231.414 L235.139 228.217 Z\" fill=\"#000000\" fill-rule=\"evenodd\" fill-opacity=\"1\" /><path clip-path=\"url(#clip780)\" d=\"M 0 0 M260.642 228.217 L275.557 228.217 L275.557 231.414 L264.122 231.414 L264.122 238.298 Q264.949 238.016 265.777 237.884 Q266.605 237.734 267.432 237.734 Q272.134 237.734 274.88 240.31 Q277.626 242.887 277.626 247.288 Q277.626 251.821 274.805 254.341 Q271.984 256.842 266.849 256.842 Q265.081 256.842 263.238 256.541 Q261.414 256.24 259.458 255.639 L259.458 251.821 Q261.15 252.742 262.956 253.194 Q264.761 253.645 266.774 253.645 Q270.028 253.645 271.927 251.933 Q273.827 250.222 273.827 247.288 Q273.827 244.354 271.927 242.642 Q270.028 240.931 266.774 240.931 Q265.25 240.931 263.727 241.269 Q262.222 241.608 260.642 242.323 L260.642 228.217 Z\" fill=\"#000000\" fill-rule=\"evenodd\" fill-opacity=\"1\" /><path clip-path=\"url(#clip780)\" d=\"M 0 0 M44.7161 1045.67 L47.5806 1045.67 L47.5806 1072.59 Q53.6281 1072.21 56.8109 1068.96 Q59.9619 1065.69 59.9619 1059.86 Q59.9619 1056.49 59.1344 1053.34 Q58.3069 1050.15 56.6518 1047.03 L62.1899 1047.03 Q63.5267 1050.18 64.227 1053.5 Q64.9272 1056.81 64.9272 1060.21 Q64.9272 1068.74 59.9619 1073.74 Q54.9967 1078.7 46.5303 1078.7 Q37.7774 1078.7 32.6531 1073.99 Q27.4968 1069.25 27.4968 1061.23 Q27.4968 1054.04 32.1438 1049.87 Q36.7589 1045.67 44.7161 1045.67 M42.9973 1051.52 Q38.1912 1051.59 35.3266 1054.23 Q32.4621 1056.84 32.4621 1061.17 Q32.4621 1066.07 35.2312 1069.03 Q38.0002 1071.96 43.0292 1072.4 L42.9973 1051.52 Z\" fill=\"#000000\" fill-rule=\"evenodd\" fill-opacity=\"1\" /><path clip-path=\"url(#clip780)\" d=\"M 0 0 M14.479 1036.05 L14.479 1030.2 L64.0042 1030.2 L64.0042 1036.05 L14.479 1036.05 Z\" fill=\"#000000\" fill-rule=\"evenodd\" fill-opacity=\"1\" /><path clip-path=\"url(#clip780)\" d=\"M 0 0 M46.0847 1001.74 Q46.0847 1008.84 47.7079 1011.58 Q49.3312 1014.31 53.2461 1014.31 Q56.3653 1014.31 58.2114 1012.28 Q60.0256 1010.21 60.0256 1006.68 Q60.0256 1001.81 56.5881 998.877 Q53.1188 995.917 47.3897 995.917 L46.0847 995.917 L46.0847 1001.74 M43.6657 990.061 L64.0042 990.061 L64.0042 995.917 L58.5933 995.917 Q61.8398 997.922 63.3994 1000.91 Q64.9272 1003.91 64.9272 1008.23 Q64.9272 1013.71 61.8716 1016.96 Q58.7843 1020.17 53.6281 1020.17 Q47.6125 1020.17 44.5569 1016.16 Q41.5014 1012.12 41.5014 1004.13 L41.5014 995.917 L40.9285 995.917 Q36.8862 995.917 34.6901 998.591 Q32.4621 1001.23 32.4621 1006.04 Q32.4621 1009.09 33.1941 1011.99 Q33.9262 1014.89 35.3903 1017.56 L29.9795 1017.56 Q28.7381 1014.35 28.1334 1011.32 Q27.4968 1008.3 27.4968 1005.43 Q27.4968 997.7 31.5072 993.88 Q35.5176 990.061 43.6657 990.061 Z\" fill=\"#000000\" fill-rule=\"evenodd\" fill-opacity=\"1\" /><path clip-path=\"url(#clip780)\" d=\"M 0 0 M58.657 972.332 L77.5631 972.332 L77.5631 978.221 L28.3562 978.221 L28.3562 972.332 L33.7671 972.332 Q30.5842 970.486 29.0564 967.685 Q27.4968 964.853 27.4968 960.938 Q27.4968 954.445 32.6531 950.402 Q37.8093 946.328 46.212 946.328 Q54.6147 946.328 59.771 950.402 Q64.9272 954.445 64.9272 960.938 Q64.9272 964.853 63.3994 967.685 Q61.8398 970.486 58.657 972.332 M46.212 952.408 Q39.7508 952.408 36.0905 955.081 Q32.3984 957.723 32.3984 962.37 Q32.3984 967.017 36.0905 969.69 Q39.7508 972.332 46.212 972.332 Q52.6732 972.332 56.3653 969.69 Q60.0256 967.017 60.0256 962.37 Q60.0256 957.723 56.3653 955.081 Q52.6732 952.408 46.212 952.408 Z\" fill=\"#000000\" fill-rule=\"evenodd\" fill-opacity=\"1\" /><path clip-path=\"url(#clip780)\" d=\"M 0 0 M29.4065 913.895 L34.9447 913.895 Q33.6716 916.378 33.035 919.051 Q32.3984 921.725 32.3984 924.589 Q32.3984 928.95 33.7352 931.146 Q35.072 933.31 37.7456 933.31 Q39.7826 933.31 40.9603 931.751 Q42.1061 930.191 43.1565 925.481 L43.6021 923.475 Q44.9389 917.237 47.3897 914.627 Q49.8086 911.985 54.1691 911.985 Q59.1344 911.985 62.0308 915.932 Q64.9272 919.847 64.9272 926.722 Q64.9272 929.587 64.3543 932.706 Q63.8132 935.793 62.6992 939.231 L56.6518 939.231 Q58.3387 935.984 59.198 932.833 Q60.0256 929.682 60.0256 926.595 Q60.0256 922.457 58.6251 920.229 Q57.1929 918.001 54.6147 918.001 Q52.2276 918.001 50.9545 919.624 Q49.6813 921.216 48.5037 926.658 L48.0262 928.695 Q46.8804 934.138 44.5251 936.557 Q42.138 938.976 38.0002 938.976 Q32.9713 938.976 30.2341 935.411 Q27.4968 931.846 27.4968 925.29 Q27.4968 922.043 27.9743 919.179 Q28.4517 916.314 29.4065 913.895 Z\" fill=\"#000000\" fill-rule=\"evenodd\" fill-opacity=\"1\" /><path clip-path=\"url(#clip780)\" d=\"M 0 0 M44.7161 872.168 L47.5806 872.168 L47.5806 899.095 Q53.6281 898.713 56.8109 895.466 Q59.9619 892.188 59.9619 886.363 Q59.9619 882.99 59.1344 879.839 Q58.3069 876.656 56.6518 873.536 L62.1899 873.536 Q63.5267 876.688 64.227 879.998 Q64.9272 883.308 64.9272 886.713 Q64.9272 895.244 59.9619 900.241 Q54.9967 905.206 46.5303 905.206 Q37.7774 905.206 32.6531 900.495 Q27.4968 895.753 27.4968 887.732 Q27.4968 880.539 32.1438 876.369 Q36.7589 872.168 44.7161 872.168 M42.9973 878.024 Q38.1912 878.088 35.3266 880.73 Q32.4621 883.34 32.4621 887.668 Q32.4621 892.57 35.2312 895.53 Q38.0002 898.458 43.0292 898.904 L42.9973 878.024 Z\" fill=\"#000000\" fill-rule=\"evenodd\" fill-opacity=\"1\" /><path clip-path=\"url(#clip780)\" d=\"M 0 0 M33.7671 839.098 L14.479 839.098 L14.479 833.242 L64.0042 833.242 L64.0042 839.098 L58.657 839.098 Q61.8398 840.944 63.3994 843.777 Q64.9272 846.578 64.9272 850.524 Q64.9272 856.986 59.771 861.06 Q54.6147 865.102 46.212 865.102 Q37.8093 865.102 32.6531 861.06 Q27.4968 856.986 27.4968 850.524 Q27.4968 846.578 29.0564 843.777 Q30.5842 840.944 33.7671 839.098 M46.212 859.054 Q52.6732 859.054 56.3653 856.413 Q60.0256 853.739 60.0256 849.092 Q60.0256 844.445 56.3653 841.772 Q52.6732 839.098 46.212 839.098 Q39.7508 839.098 36.0905 841.772 Q32.3984 844.445 32.3984 849.092 Q32.3984 853.739 36.0905 856.413 Q39.7508 859.054 46.212 859.054 Z\" fill=\"#000000\" fill-rule=\"evenodd\" fill-opacity=\"1\" /><path clip-path=\"url(#clip780)\" d=\"M 0 0 M18.2347 794.665 L28.3562 794.665 L28.3562 782.602 L32.9077 782.602 L32.9077 794.665 L52.2594 794.665 Q56.6199 794.665 57.8613 793.488 Q59.1026 792.278 59.1026 788.618 L59.1026 782.602 L64.0042 782.602 L64.0042 788.618 Q64.0042 795.397 61.4897 797.976 Q58.9434 800.554 52.2594 800.554 L32.9077 800.554 L32.9077 804.851 L28.3562 804.851 L28.3562 800.554 L18.2347 800.554 L18.2347 794.665 Z\" fill=\"#000000\" fill-rule=\"evenodd\" fill-opacity=\"1\" /><path clip-path=\"url(#clip780)\" d=\"M 0 0 M28.3562 774.9 L28.3562 769.043 L64.0042 769.043 L64.0042 774.9 L28.3562 774.9 M14.479 774.9 L14.479 769.043 L21.895 769.043 L21.895 774.9 L14.479 774.9 Z\" fill=\"#000000\" fill-rule=\"evenodd\" fill-opacity=\"1\" /><path clip-path=\"url(#clip780)\" d=\"M 0 0 M35.1993 729.035 Q31.2526 726.839 29.3747 723.783 Q27.4968 720.728 27.4968 716.59 Q27.4968 711.02 31.4117 707.996 Q35.2948 704.973 42.4881 704.973 L64.0042 704.973 L64.0042 710.861 L42.679 710.861 Q37.5546 710.861 35.072 712.675 Q32.5894 714.489 32.5894 718.213 Q32.5894 722.765 35.6131 725.406 Q38.6368 728.048 43.8567 728.048 L64.0042 728.048 L64.0042 733.937 L42.679 733.937 Q37.5228 733.937 35.072 735.751 Q32.5894 737.565 32.5894 741.353 Q32.5894 745.84 35.6449 748.482 Q38.6686 751.124 43.8567 751.124 L64.0042 751.124 L64.0042 757.012 L28.3562 757.012 L28.3562 751.124 L33.8944 751.124 Q30.616 749.119 29.0564 746.318 Q27.4968 743.517 27.4968 739.666 Q27.4968 735.783 29.4702 733.077 Q31.4436 730.34 35.1993 729.035 Z\" fill=\"#000000\" fill-rule=\"evenodd\" fill-opacity=\"1\" /><path clip-path=\"url(#clip780)\" d=\"M 0 0 M44.7161 662.8 L47.5806 662.8 L47.5806 689.727 Q53.6281 689.345 56.8109 686.098 Q59.9619 682.82 59.9619 676.995 Q59.9619 673.621 59.1344 670.47 Q58.3069 667.288 56.6518 664.168 L62.1899 664.168 Q63.5267 667.319 64.227 670.63 Q64.9272 673.94 64.9272 677.345 Q64.9272 685.875 59.9619 690.873 Q54.9967 695.838 46.5303 695.838 Q37.7774 695.838 32.6531 691.127 Q27.4968 686.385 27.4968 678.364 Q27.4968 671.171 32.1438 667.001 Q36.7589 662.8 44.7161 662.8 M42.9973 668.656 Q38.1912 668.72 35.3266 671.362 Q32.4621 673.972 32.4621 678.3 Q32.4621 683.202 35.2312 686.162 Q38.0002 689.09 43.0292 689.536 L42.9973 668.656 Z\" fill=\"#000000\" fill-rule=\"evenodd\" fill-opacity=\"1\" /><path clip-path=\"url(#clip780)\" d=\"M 0 0 M14.5426 618.399 Q21.8632 622.664 29.0246 624.733 Q36.186 626.802 43.5384 626.802 Q50.8908 626.802 58.1159 624.733 Q65.3091 622.632 72.5979 618.399 L72.5979 623.492 Q65.1182 628.266 57.8931 630.653 Q50.668 633.008 43.5384 633.008 Q36.4406 633.008 29.2474 630.653 Q22.0542 628.298 14.5426 623.492 L14.5426 618.399 Z\" fill=\"#000000\" fill-rule=\"evenodd\" fill-opacity=\"1\" /><path clip-path=\"url(#clip780)\" d=\"M 0 0 M29.4065 584.311 L34.9447 584.311 Q33.6716 586.793 33.035 589.467 Q32.3984 592.14 32.3984 595.005 Q32.3984 599.365 33.7352 601.562 Q35.072 603.726 37.7456 603.726 Q39.7826 603.726 40.9603 602.166 Q42.1061 600.607 43.1565 595.896 L43.6021 593.891 Q44.9389 587.653 47.3897 585.043 Q49.8086 582.401 54.1691 582.401 Q59.1344 582.401 62.0308 586.348 Q64.9272 590.263 64.9272 597.137 Q64.9272 600.002 64.3543 603.121 Q63.8132 606.209 62.6992 609.646 L56.6518 609.646 Q58.3387 606.4 59.198 603.249 Q60.0256 600.098 60.0256 597.01 Q60.0256 592.872 58.6251 590.644 Q57.1929 588.416 54.6147 588.416 Q52.2276 588.416 50.9545 590.04 Q49.6813 591.631 48.5037 597.074 L48.0262 599.111 Q46.8804 604.554 44.5251 606.973 Q42.138 609.391 38.0002 609.391 Q32.9713 609.391 30.2341 605.827 Q27.4968 602.262 27.4968 595.705 Q27.4968 592.459 27.9743 589.594 Q28.4517 586.73 29.4065 584.311 Z\" fill=\"#000000\" fill-rule=\"evenodd\" fill-opacity=\"1\" /><path clip-path=\"url(#clip780)\" d=\"M 0 0 M44.7161 542.583 L47.5806 542.583 L47.5806 569.51 Q53.6281 569.128 56.8109 565.882 Q59.9619 562.604 59.9619 556.779 Q59.9619 553.405 59.1344 550.254 Q58.3069 547.071 56.6518 543.952 L62.1899 543.952 Q63.5267 547.103 64.227 550.413 Q64.9272 553.723 64.9272 557.129 Q64.9272 565.659 59.9619 570.656 Q54.9967 575.621 46.5303 575.621 Q37.7774 575.621 32.6531 570.911 Q27.4968 566.168 27.4968 558.148 Q27.4968 550.954 32.1438 546.785 Q36.7589 542.583 44.7161 542.583 M42.9973 548.44 Q38.1912 548.504 35.3266 551.145 Q32.4621 553.755 32.4621 558.084 Q32.4621 562.985 35.2312 565.946 Q38.0002 568.874 43.0292 569.319 L42.9973 548.44 Z\" fill=\"#000000\" fill-rule=\"evenodd\" fill-opacity=\"1\" /><path clip-path=\"url(#clip780)\" d=\"M 0 0 M29.7248 507.317 L35.1993 507.317 Q33.8307 509.8 33.1623 512.314 Q32.4621 514.797 32.4621 517.343 Q32.4621 523.041 36.0905 526.192 Q39.6872 529.343 46.212 529.343 Q52.7369 529.343 56.3653 526.192 Q59.9619 523.041 59.9619 517.343 Q59.9619 514.797 59.2935 512.314 Q58.5933 509.8 57.2247 507.317 L62.6355 507.317 Q63.7814 509.768 64.3543 512.41 Q64.9272 515.02 64.9272 517.98 Q64.9272 526.033 59.8664 530.775 Q54.8057 535.517 46.212 535.517 Q37.491 535.517 32.4939 530.743 Q27.4968 525.937 27.4968 517.598 Q27.4968 514.893 28.0697 512.314 Q28.6108 509.736 29.7248 507.317 Z\" fill=\"#000000\" fill-rule=\"evenodd\" fill-opacity=\"1\" /><path clip-path=\"url(#clip780)\" d=\"M 0 0 M14.5426 498.055 L14.5426 492.963 Q22.0542 488.188 29.2474 485.833 Q36.4406 483.446 43.5384 483.446 Q50.668 483.446 57.8931 485.833 Q65.1182 488.188 72.5979 492.963 L72.5979 498.055 Q65.3091 493.822 58.1159 491.753 Q50.8908 489.653 43.5384 489.653 Q36.186 489.653 29.0246 491.753 Q21.8632 493.822 14.5426 498.055 Z\" fill=\"#000000\" fill-rule=\"evenodd\" fill-opacity=\"1\" /><path clip-path=\"url(#clip780)\" d=\"M 0 0 M663.779 12.096 L714.942 12.096 L714.942 18.9825 L693.472 18.9825 L693.472 72.576 L685.249 72.576 L685.249 18.9825 L663.779 18.9825 L663.779 12.096 Z\" fill=\"#000000\" fill-rule=\"evenodd\" fill-opacity=\"1\" /><path clip-path=\"url(#clip780)\" d=\"M 0 0 M719.965 27.2059 L727.419 27.2059 L727.419 72.576 L719.965 72.576 L719.965 27.2059 M719.965 9.54393 L727.419 9.54393 L727.419 18.9825 L719.965 18.9825 L719.965 9.54393 Z\" fill=\"#000000\" fill-rule=\"evenodd\" fill-opacity=\"1\" /><path clip-path=\"url(#clip780)\" d=\"M 0 0 M778.339 35.9153 Q781.134 30.8922 785.023 28.5022 Q788.911 26.1121 794.178 26.1121 Q801.267 26.1121 805.115 31.0947 Q808.963 36.0368 808.963 45.1919 L808.963 72.576 L801.469 72.576 L801.469 45.4349 Q801.469 38.913 799.16 35.7533 Q796.851 32.5936 792.112 32.5936 Q786.319 32.5936 782.957 36.4419 Q779.594 40.2903 779.594 46.9338 L779.594 72.576 L772.1 72.576 L772.1 45.4349 Q772.1 38.8725 769.791 35.7533 Q767.482 32.5936 762.662 32.5936 Q756.95 32.5936 753.588 36.4824 Q750.225 40.3308 750.225 46.9338 L750.225 72.576 L742.731 72.576 L742.731 27.2059 L750.225 27.2059 L750.225 34.2544 Q752.777 30.082 756.342 28.0971 Q759.907 26.1121 764.809 26.1121 Q769.751 26.1121 773.194 28.6237 Q776.678 31.1352 778.339 35.9153 Z\" fill=\"#000000\" fill-rule=\"evenodd\" fill-opacity=\"1\" /><path clip-path=\"url(#clip780)\" d=\"M 0 0 M823.83 27.2059 L831.284 27.2059 L831.284 72.576 L823.83 72.576 L823.83 27.2059 M823.83 9.54393 L831.284 9.54393 L831.284 18.9825 L823.83 18.9825 L823.83 9.54393 Z\" fill=\"#000000\" fill-rule=\"evenodd\" fill-opacity=\"1\" /><path clip-path=\"url(#clip780)\" d=\"M 0 0 M884.594 45.1919 L884.594 72.576 L877.14 72.576 L877.14 45.4349 Q877.14 38.994 874.629 35.7938 Q872.117 32.5936 867.094 32.5936 Q861.058 32.5936 857.574 36.4419 Q854.09 40.2903 854.09 46.9338 L854.09 72.576 L846.596 72.576 L846.596 27.2059 L854.09 27.2059 L854.09 34.2544 Q856.764 30.163 860.369 28.1376 Q864.015 26.1121 868.755 26.1121 Q876.573 26.1121 880.583 30.9732 Q884.594 35.7938 884.594 45.1919 Z\" fill=\"#000000\" fill-rule=\"evenodd\" fill-opacity=\"1\" /><path clip-path=\"url(#clip780)\" d=\"M 0 0 M929.316 49.3643 Q929.316 41.2625 925.953 36.8065 Q922.632 32.3505 916.596 32.3505 Q910.601 32.3505 907.238 36.8065 Q903.917 41.2625 903.917 49.3643 Q903.917 57.4256 907.238 61.8816 Q910.601 66.3376 916.596 66.3376 Q922.632 66.3376 925.953 61.8816 Q929.316 57.4256 929.316 49.3643 M936.769 66.9452 Q936.769 78.5308 931.625 84.1616 Q926.48 89.8329 915.867 89.8329 Q911.937 89.8329 908.454 89.2252 Q904.97 88.6581 901.689 87.4428 L901.689 80.1917 Q904.97 81.9741 908.17 82.8248 Q911.37 83.6755 914.692 83.6755 Q922.024 83.6755 925.67 79.8271 Q929.316 76.0193 929.316 68.282 L929.316 64.5957 Q927.007 68.6061 923.401 70.5911 Q919.796 72.576 914.773 72.576 Q906.428 72.576 901.324 66.2161 Q896.22 59.8562 896.22 49.3643 Q896.22 38.832 901.324 32.472 Q906.428 26.1121 914.773 26.1121 Q919.796 26.1121 923.401 28.0971 Q927.007 30.082 929.316 34.0924 L929.316 27.2059 L936.769 27.2059 L936.769 66.9452 Z\" fill=\"#000000\" fill-rule=\"evenodd\" fill-opacity=\"1\" /><path clip-path=\"url(#clip780)\" d=\"M 0 0 M996.075 32.4315 Q990.079 32.4315 986.596 37.1306 Q983.112 41.7891 983.112 49.9314 Q983.112 58.0738 986.555 62.7728 Q990.039 67.4314 996.075 67.4314 Q1002.03 67.4314 1005.51 62.7323 Q1009 58.0333 1009 49.9314 Q1009 41.8701 1005.51 37.1711 Q1002.03 32.4315 996.075 32.4315 M996.075 26.1121 Q1005.8 26.1121 1011.35 32.4315 Q1016.9 38.7509 1016.9 49.9314 Q1016.9 61.0714 1011.35 67.4314 Q1005.8 73.7508 996.075 73.7508 Q986.312 73.7508 980.762 67.4314 Q975.253 61.0714 975.253 49.9314 Q975.253 38.7509 980.762 32.4315 Q986.312 26.1121 996.075 26.1121 Z\" fill=\"#000000\" fill-rule=\"evenodd\" fill-opacity=\"1\" /><path clip-path=\"url(#clip780)\" d=\"M 0 0 M1052.22 9.54393 L1052.22 15.7418 L1045.09 15.7418 Q1041.08 15.7418 1039.5 17.3622 Q1037.96 18.9825 1037.96 23.1955 L1037.96 27.2059 L1050.24 27.2059 L1050.24 32.9987 L1037.96 32.9987 L1037.96 72.576 L1030.47 72.576 L1030.47 32.9987 L1023.34 32.9987 L1023.34 27.2059 L1030.47 27.2059 L1030.47 24.0462 Q1030.47 16.471 1033.99 13.0277 Q1037.52 9.54393 1045.17 9.54393 L1052.22 9.54393 Z\" fill=\"#000000\" fill-rule=\"evenodd\" fill-opacity=\"1\" /><path clip-path=\"url(#clip780)\" d=\"M 0 0 M1114.69 34.0924 L1114.69 9.54393 L1122.14 9.54393 L1122.14 72.576 L1114.69 72.576 L1114.69 65.7705 Q1112.34 69.8214 1108.73 71.8063 Q1105.17 73.7508 1100.14 73.7508 Q1091.92 73.7508 1086.73 67.1883 Q1081.59 60.6258 1081.59 49.9314 Q1081.59 39.2371 1086.73 32.6746 Q1091.92 26.1121 1100.14 26.1121 Q1105.17 26.1121 1108.73 28.0971 Q1112.34 30.0415 1114.69 34.0924 M1089.29 49.9314 Q1089.29 58.1548 1092.65 62.8538 Q1096.05 67.5124 1101.97 67.5124 Q1107.88 67.5124 1111.28 62.8538 Q1114.69 58.1548 1114.69 49.9314 Q1114.69 41.7081 1111.28 37.0496 Q1107.88 32.3505 1101.97 32.3505 Q1096.05 32.3505 1092.65 37.0496 Q1089.29 41.7081 1089.29 49.9314 Z\" fill=\"#000000\" fill-rule=\"evenodd\" fill-opacity=\"1\" /><path clip-path=\"url(#clip780)\" d=\"M 0 0 M1155.07 32.4315 Q1149.08 32.4315 1145.59 37.1306 Q1142.11 41.7891 1142.11 49.9314 Q1142.11 58.0738 1145.55 62.7728 Q1149.04 67.4314 1155.07 67.4314 Q1161.03 67.4314 1164.51 62.7323 Q1168 58.0333 1168 49.9314 Q1168 41.8701 1164.51 37.1711 Q1161.03 32.4315 1155.07 32.4315 M1155.07 26.1121 Q1164.79 26.1121 1170.34 32.4315 Q1175.89 38.7509 1175.89 49.9314 Q1175.89 61.0714 1170.34 67.4314 Q1164.79 73.7508 1155.07 73.7508 Q1145.31 73.7508 1139.76 67.4314 Q1134.25 61.0714 1134.25 49.9314 Q1134.25 38.7509 1139.76 32.4315 Q1145.31 26.1121 1155.07 26.1121 Z\" fill=\"#000000\" fill-rule=\"evenodd\" fill-opacity=\"1\" /><path clip-path=\"url(#clip780)\" d=\"M 0 0 M1195.62 14.324 L1195.62 27.2059 L1210.98 27.2059 L1210.98 32.9987 L1195.62 32.9987 L1195.62 57.6282 Q1195.62 63.1779 1197.12 64.7578 Q1198.66 66.3376 1203.32 66.3376 L1210.98 66.3376 L1210.98 72.576 L1203.32 72.576 Q1194.69 72.576 1191.41 69.3758 Q1188.13 66.1351 1188.13 57.6282 L1188.13 32.9987 L1182.66 32.9987 L1182.66 27.2059 L1188.13 27.2059 L1188.13 14.324 L1195.62 14.324 Z\" fill=\"#000000\" fill-rule=\"evenodd\" fill-opacity=\"1\" /><path clip-path=\"url(#clip780)\" d=\"M 0 0 M1254.36 65.7705 L1254.36 89.8329 L1246.87 89.8329 L1246.87 27.2059 L1254.36 27.2059 L1254.36 34.0924 Q1256.71 30.0415 1260.27 28.0971 Q1263.88 26.1121 1268.86 26.1121 Q1277.13 26.1121 1282.27 32.6746 Q1287.46 39.2371 1287.46 49.9314 Q1287.46 60.6258 1282.27 67.1883 Q1277.13 73.7508 1268.86 73.7508 Q1263.88 73.7508 1260.27 71.8063 Q1256.71 69.8214 1254.36 65.7705 M1279.72 49.9314 Q1279.72 41.7081 1276.32 37.0496 Q1272.95 32.3505 1267.04 32.3505 Q1261.13 32.3505 1257.72 37.0496 Q1254.36 41.7081 1254.36 49.9314 Q1254.36 58.1548 1257.72 62.8538 Q1261.13 67.5124 1267.04 67.5124 Q1272.95 67.5124 1276.32 62.8538 Q1279.72 58.1548 1279.72 49.9314 Z\" fill=\"#000000\" fill-rule=\"evenodd\" fill-opacity=\"1\" /><path clip-path=\"url(#clip780)\" d=\"M 0 0 M1326.1 34.1734 Q1324.85 33.4443 1323.35 33.1202 Q1321.89 32.7556 1320.11 32.7556 Q1313.79 32.7556 1310.38 36.8875 Q1307.02 40.9789 1307.02 48.6757 L1307.02 72.576 L1299.53 72.576 L1299.53 27.2059 L1307.02 27.2059 L1307.02 34.2544 Q1309.37 30.1225 1313.14 28.1376 Q1316.91 26.1121 1322.29 26.1121 Q1323.06 26.1121 1324 26.2337 Q1324.93 26.3147 1326.06 26.5172 L1326.1 34.1734 Z\" fill=\"#000000\" fill-rule=\"evenodd\" fill-opacity=\"1\" /><path clip-path=\"url(#clip780)\" d=\"M 0 0 M1349.68 32.4315 Q1343.68 32.4315 1340.2 37.1306 Q1336.72 41.7891 1336.72 49.9314 Q1336.72 58.0738 1340.16 62.7728 Q1343.64 67.4314 1349.68 67.4314 Q1355.63 67.4314 1359.12 62.7323 Q1362.6 58.0333 1362.6 49.9314 Q1362.6 41.8701 1359.12 37.1711 Q1355.63 32.4315 1349.68 32.4315 M1349.68 26.1121 Q1359.4 26.1121 1364.95 32.4315 Q1370.5 38.7509 1370.5 49.9314 Q1370.5 61.0714 1364.95 67.4314 Q1359.4 73.7508 1349.68 73.7508 Q1339.92 73.7508 1334.37 67.4314 Q1328.86 61.0714 1328.86 49.9314 Q1328.86 38.7509 1334.37 32.4315 Q1339.92 26.1121 1349.68 26.1121 Z\" fill=\"#000000\" fill-rule=\"evenodd\" fill-opacity=\"1\" /><path clip-path=\"url(#clip780)\" d=\"M 0 0 M1412.71 34.0924 L1412.71 9.54393 L1420.16 9.54393 L1420.16 72.576 L1412.71 72.576 L1412.71 65.7705 Q1410.36 69.8214 1406.76 71.8063 Q1403.19 73.7508 1398.17 73.7508 Q1389.94 73.7508 1384.76 67.1883 Q1379.61 60.6258 1379.61 49.9314 Q1379.61 39.2371 1384.76 32.6746 Q1389.94 26.1121 1398.17 26.1121 Q1403.19 26.1121 1406.76 28.0971 Q1410.36 30.0415 1412.71 34.0924 M1387.31 49.9314 Q1387.31 58.1548 1390.67 62.8538 Q1394.08 67.5124 1399.99 67.5124 Q1405.9 67.5124 1409.31 62.8538 Q1412.71 58.1548 1412.71 49.9314 Q1412.71 41.7081 1409.31 37.0496 Q1405.9 32.3505 1399.99 32.3505 Q1394.08 32.3505 1390.67 37.0496 Q1387.31 41.7081 1387.31 49.9314 Z\" fill=\"#000000\" fill-rule=\"evenodd\" fill-opacity=\"1\" /><path clip-path=\"url(#clip780)\" d=\"M 0 0 M1434.75 54.671 L1434.75 27.2059 L1442.2 27.2059 L1442.2 54.3874 Q1442.2 60.8284 1444.71 64.0691 Q1447.22 67.2693 1452.25 67.2693 Q1458.28 67.2693 1461.77 63.421 Q1465.29 59.5726 1465.29 52.9291 L1465.29 27.2059 L1472.74 27.2059 L1472.74 72.576 L1465.29 72.576 L1465.29 65.6084 Q1462.58 69.7404 1458.97 71.7658 Q1455.41 73.7508 1450.67 73.7508 Q1442.85 73.7508 1438.8 68.8897 Q1434.75 64.0286 1434.75 54.671 M1453.5 26.1121 L1453.5 26.1121 Z\" fill=\"#000000\" fill-rule=\"evenodd\" fill-opacity=\"1\" /><path clip-path=\"url(#clip780)\" d=\"M 0 0 M1520.75 28.9478 L1520.75 35.9153 Q1517.59 34.1734 1514.39 33.3227 Q1511.23 32.4315 1507.99 32.4315 Q1500.74 32.4315 1496.73 37.0496 Q1492.72 41.6271 1492.72 49.9314 Q1492.72 58.2358 1496.73 62.8538 Q1500.74 67.4314 1507.99 67.4314 Q1511.23 67.4314 1514.39 66.5807 Q1517.59 65.6895 1520.75 63.9476 L1520.75 70.8341 Q1517.63 72.2924 1514.27 73.0216 Q1510.94 73.7508 1507.18 73.7508 Q1496.93 73.7508 1490.89 67.3098 Q1484.86 60.8689 1484.86 49.9314 Q1484.86 38.832 1490.93 32.472 Q1497.05 26.1121 1507.66 26.1121 Q1511.11 26.1121 1514.39 26.8413 Q1517.67 27.5299 1520.75 28.9478 Z\" fill=\"#000000\" fill-rule=\"evenodd\" fill-opacity=\"1\" /><path clip-path=\"url(#clip780)\" d=\"M 0 0 M1541.08 14.324 L1541.08 27.2059 L1556.44 27.2059 L1556.44 32.9987 L1541.08 32.9987 L1541.08 57.6282 Q1541.08 63.1779 1542.58 64.7578 Q1544.12 66.3376 1548.78 66.3376 L1556.44 66.3376 L1556.44 72.576 L1548.78 72.576 Q1540.15 72.576 1536.87 69.3758 Q1533.59 66.1351 1533.59 57.6282 L1533.59 32.9987 L1528.12 32.9987 L1528.12 27.2059 L1533.59 27.2059 L1533.59 14.324 L1541.08 14.324 Z\" fill=\"#000000\" fill-rule=\"evenodd\" fill-opacity=\"1\" /><path clip-path=\"url(#clip780)\" d=\"M 0 0 M1613.23 49.7694 Q1604.2 49.7694 1600.71 51.8354 Q1597.23 53.9013 1597.23 58.8839 Q1597.23 62.8538 1599.82 65.2034 Q1602.45 67.5124 1606.95 67.5124 Q1613.15 67.5124 1616.88 63.1374 Q1620.64 58.7219 1620.64 51.4303 L1620.64 49.7694 L1613.23 49.7694 M1628.1 46.6907 L1628.1 72.576 L1620.64 72.576 L1620.64 65.6895 Q1618.09 69.8214 1614.28 71.8063 Q1610.48 73.7508 1604.97 73.7508 Q1598 73.7508 1593.87 69.8619 Q1589.78 65.9325 1589.78 59.3701 Q1589.78 51.7138 1594.88 47.825 Q1600.02 43.9361 1610.19 43.9361 L1620.64 43.9361 L1620.64 43.2069 Q1620.64 38.0623 1617.24 35.2672 Q1613.88 32.4315 1607.76 32.4315 Q1603.87 32.4315 1600.19 33.3632 Q1596.5 34.295 1593.1 36.1584 L1593.1 29.2718 Q1597.19 27.692 1601.04 26.9223 Q1604.89 26.1121 1608.53 26.1121 Q1618.37 26.1121 1623.24 31.2163 Q1628.1 36.3204 1628.1 46.6907 Z\" fill=\"#000000\" fill-rule=\"evenodd\" fill-opacity=\"1\" /><path clip-path=\"url(#clip780)\" d=\"M 0 0 M1643.45 9.54393 L1650.9 9.54393 L1650.9 72.576 L1643.45 72.576 L1643.45 9.54393 Z\" fill=\"#000000\" fill-rule=\"evenodd\" fill-opacity=\"1\" /><path clip-path=\"url(#clip780)\" d=\"M 0 0 M1696.35 49.3643 Q1696.35 41.2625 1692.99 36.8065 Q1689.67 32.3505 1683.63 32.3505 Q1677.64 32.3505 1674.28 36.8065 Q1670.96 41.2625 1670.96 49.3643 Q1670.96 57.4256 1674.28 61.8816 Q1677.64 66.3376 1683.63 66.3376 Q1689.67 66.3376 1692.99 61.8816 Q1696.35 57.4256 1696.35 49.3643 M1703.81 66.9452 Q1703.81 78.5308 1698.66 84.1616 Q1693.52 89.8329 1682.91 89.8329 Q1678.98 89.8329 1675.49 89.2252 Q1672.01 88.6581 1668.73 87.4428 L1668.73 80.1917 Q1672.01 81.9741 1675.21 82.8248 Q1678.41 83.6755 1681.73 83.6755 Q1689.06 83.6755 1692.71 79.8271 Q1696.35 76.0193 1696.35 68.282 L1696.35 64.5957 Q1694.05 68.6061 1690.44 70.5911 Q1686.83 72.576 1681.81 72.576 Q1673.47 72.576 1668.36 66.2161 Q1663.26 59.8562 1663.26 49.3643 Q1663.26 38.832 1668.36 32.472 Q1673.47 26.1121 1681.81 26.1121 Q1686.83 26.1121 1690.44 28.0971 Q1694.05 30.082 1696.35 34.0924 L1696.35 27.2059 L1703.81 27.2059 L1703.81 66.9452 Z\" fill=\"#000000\" fill-rule=\"evenodd\" fill-opacity=\"1\" /><path clip-path=\"url(#clip780)\" d=\"M 0 0 M1736.74 32.4315 Q1730.75 32.4315 1727.26 37.1306 Q1723.78 41.7891 1723.78 49.9314 Q1723.78 58.0738 1727.22 62.7728 Q1730.71 67.4314 1736.74 67.4314 Q1742.7 67.4314 1746.18 62.7323 Q1749.66 58.0333 1749.66 49.9314 Q1749.66 41.8701 1746.18 37.1711 Q1742.7 32.4315 1736.74 32.4315 M1736.74 26.1121 Q1746.46 26.1121 1752.01 32.4315 Q1757.56 38.7509 1757.56 49.9314 Q1757.56 61.0714 1752.01 67.4314 Q1746.46 73.7508 1736.74 73.7508 Q1726.98 73.7508 1721.43 67.4314 Q1715.92 61.0714 1715.92 49.9314 Q1715.92 38.7509 1721.43 32.4315 Q1726.98 26.1121 1736.74 26.1121 Z\" fill=\"#000000\" fill-rule=\"evenodd\" fill-opacity=\"1\" /><path clip-path=\"url(#clip780)\" d=\"M 0 0 M1796.21 34.1734 Q1794.95 33.4443 1793.45 33.1202 Q1792 32.7556 1790.21 32.7556 Q1783.89 32.7556 1780.49 36.8875 Q1777.13 40.9789 1777.13 48.6757 L1777.13 72.576 L1769.64 72.576 L1769.64 27.2059 L1777.13 27.2059 L1777.13 34.2544 Q1779.48 30.1225 1783.25 28.1376 Q1787.01 26.1121 1792.4 26.1121 Q1793.17 26.1121 1794.1 26.2337 Q1795.03 26.3147 1796.17 26.5172 L1796.21 34.1734 Z\" fill=\"#000000\" fill-rule=\"evenodd\" fill-opacity=\"1\" /><path clip-path=\"url(#clip780)\" d=\"M 0 0 M1804.03 27.2059 L1811.48 27.2059 L1811.48 72.576 L1804.03 72.576 L1804.03 27.2059 M1804.03 9.54393 L1811.48 9.54393 L1811.48 18.9825 L1804.03 18.9825 L1804.03 9.54393 Z\" fill=\"#000000\" fill-rule=\"evenodd\" fill-opacity=\"1\" /><path clip-path=\"url(#clip780)\" d=\"M 0 0 M1834.45 14.324 L1834.45 27.2059 L1849.8 27.2059 L1849.8 32.9987 L1834.45 32.9987 L1834.45 57.6282 Q1834.45 63.1779 1835.95 64.7578 Q1837.49 66.3376 1842.15 66.3376 L1849.8 66.3376 L1849.8 72.576 L1842.15 72.576 Q1833.52 72.576 1830.24 69.3758 Q1826.96 66.1351 1826.96 57.6282 L1826.96 32.9987 L1821.49 32.9987 L1821.49 27.2059 L1826.96 27.2059 L1826.96 14.324 L1834.45 14.324 Z\" fill=\"#000000\" fill-rule=\"evenodd\" fill-opacity=\"1\" /><path clip-path=\"url(#clip780)\" d=\"M 0 0 M1897.32 45.1919 L1897.32 72.576 L1889.87 72.576 L1889.87 45.4349 Q1889.87 38.994 1887.35 35.7938 Q1884.84 32.5936 1879.82 32.5936 Q1873.78 32.5936 1870.3 36.4419 Q1866.82 40.2903 1866.82 46.9338 L1866.82 72.576 L1859.32 72.576 L1859.32 9.54393 L1866.82 9.54393 L1866.82 34.2544 Q1869.49 30.163 1873.1 28.1376 Q1876.74 26.1121 1881.48 26.1121 Q1889.3 26.1121 1893.31 30.9732 Q1897.32 35.7938 1897.32 45.1919 Z\" fill=\"#000000\" fill-rule=\"evenodd\" fill-opacity=\"1\" /><path clip-path=\"url(#clip780)\" d=\"M 0 0 M1947.51 35.9153 Q1950.31 30.8922 1954.19 28.5022 Q1958.08 26.1121 1963.35 26.1121 Q1970.44 26.1121 1974.29 31.0947 Q1978.14 36.0368 1978.14 45.1919 L1978.14 72.576 L1970.64 72.576 L1970.64 45.4349 Q1970.64 38.913 1968.33 35.7533 Q1966.02 32.5936 1961.28 32.5936 Q1955.49 32.5936 1952.13 36.4419 Q1948.77 40.2903 1948.77 46.9338 L1948.77 72.576 L1941.27 72.576 L1941.27 45.4349 Q1941.27 38.8725 1938.96 35.7533 Q1936.65 32.5936 1931.83 32.5936 Q1926.12 32.5936 1922.76 36.4824 Q1919.4 40.3308 1919.4 46.9338 L1919.4 72.576 L1911.9 72.576 L1911.9 27.2059 L1919.4 27.2059 L1919.4 34.2544 Q1921.95 30.082 1925.51 28.0971 Q1929.08 26.1121 1933.98 26.1121 Q1938.92 26.1121 1942.37 28.6237 Q1945.85 31.1352 1947.51 35.9153 Z\" fill=\"#000000\" fill-rule=\"evenodd\" fill-opacity=\"1\" /><path clip-path=\"url(#clip780)\" d=\"M 0 0 M1994.06 62.2867 L2002.6 62.2867 L2002.6 72.576 L1994.06 72.576 L1994.06 62.2867 Z\" fill=\"#000000\" fill-rule=\"evenodd\" fill-opacity=\"1\" /><polyline clip-path=\"url(#clip782)\" style=\"stroke:#009af9; stroke-width:4; stroke-opacity:1; fill:none\" points=\"\n",
       "  371.337,1190.08 732.805,1342.07 944.251,1253.78 1094.27,1166.52 1210.64,1110.05 1305.72,1055.79 1386.11,1016.44 1455.74,976.063 1517.16,890.976 1572.11,908.391 \n",
       "  1621.81,869.913 1667.19,855.551 1708.93,822.603 1747.57,802.215 1783.55,750.565 1817.21,762.214 1848.82,552.494 1878.63,472.001 1906.83,502.592 1933.58,471.797 \n",
       "  1959.02,477.476 1983.28,441.962 2006.46,424.482 2028.66,439.527 2049.94,430.063 2070.4,389.855 2090.08,384.261 2109.04,399.225 2127.34,375.788 2145.02,365.606 \n",
       "  2162.12,359.81 2178.68,347.012 2194.72,337.703 2210.29,322.58 2225.41,324.303 2240.1,308.923 2254.39,304.661 2268.3,304.402 2281.84,160.695 2295.04,262.852 \n",
       "  \n",
       "  \"/>\n",
       "<path clip-path=\"url(#clip782)\" d=\"M371.337 1206.08 L360.025 1201.39 L355.337 1190.08 L360.025 1178.77 L371.337 1174.08 L382.649 1178.77 L387.337 1190.08 L382.649 1201.39 Z\" fill=\"#009af9\" fill-rule=\"evenodd\" fill-opacity=\"1\" stroke=\"#000000\" stroke-opacity=\"1\" stroke-width=\"3.2\"/>\n",
       "<path clip-path=\"url(#clip782)\" d=\"M732.805 1358.07 L721.493 1353.38 L716.805 1342.07 L721.493 1330.75 L732.805 1326.07 L744.117 1330.75 L748.805 1342.07 L744.117 1353.38 Z\" fill=\"#009af9\" fill-rule=\"evenodd\" fill-opacity=\"1\" stroke=\"#000000\" stroke-opacity=\"1\" stroke-width=\"3.2\"/>\n",
       "<path clip-path=\"url(#clip782)\" d=\"M944.251 1269.78 L932.939 1265.09 L928.251 1253.78 L932.939 1242.47 L944.251 1237.78 L955.563 1242.47 L960.251 1253.78 L955.563 1265.09 Z\" fill=\"#009af9\" fill-rule=\"evenodd\" fill-opacity=\"1\" stroke=\"#000000\" stroke-opacity=\"1\" stroke-width=\"3.2\"/>\n",
       "<path clip-path=\"url(#clip782)\" d=\"M1094.27 1182.52 L1082.96 1177.83 L1078.27 1166.52 L1082.96 1155.2 L1094.27 1150.52 L1105.59 1155.2 L1110.27 1166.52 L1105.59 1177.83 Z\" fill=\"#009af9\" fill-rule=\"evenodd\" fill-opacity=\"1\" stroke=\"#000000\" stroke-opacity=\"1\" stroke-width=\"3.2\"/>\n",
       "<path clip-path=\"url(#clip782)\" d=\"M1210.64 1126.05 L1199.33 1121.36 L1194.64 1110.05 L1199.33 1098.73 L1210.64 1094.05 L1221.95 1098.73 L1226.64 1110.05 L1221.95 1121.36 Z\" fill=\"#009af9\" fill-rule=\"evenodd\" fill-opacity=\"1\" stroke=\"#000000\" stroke-opacity=\"1\" stroke-width=\"3.2\"/>\n",
       "<path clip-path=\"url(#clip782)\" d=\"M1305.72 1071.79 L1294.41 1067.1 L1289.72 1055.79 L1294.41 1044.47 L1305.72 1039.79 L1317.03 1044.47 L1321.72 1055.79 L1317.03 1067.1 Z\" fill=\"#009af9\" fill-rule=\"evenodd\" fill-opacity=\"1\" stroke=\"#000000\" stroke-opacity=\"1\" stroke-width=\"3.2\"/>\n",
       "<path clip-path=\"url(#clip782)\" d=\"M1386.11 1032.44 L1374.79 1027.75 L1370.11 1016.44 L1374.79 1005.13 L1386.11 1000.44 L1397.42 1005.13 L1402.11 1016.44 L1397.42 1027.75 Z\" fill=\"#009af9\" fill-rule=\"evenodd\" fill-opacity=\"1\" stroke=\"#000000\" stroke-opacity=\"1\" stroke-width=\"3.2\"/>\n",
       "<path clip-path=\"url(#clip782)\" d=\"M1455.74 992.063 L1444.43 987.375 L1439.74 976.063 L1444.43 964.751 L1455.74 960.063 L1467.05 964.751 L1471.74 976.063 L1467.05 987.375 Z\" fill=\"#009af9\" fill-rule=\"evenodd\" fill-opacity=\"1\" stroke=\"#000000\" stroke-opacity=\"1\" stroke-width=\"3.2\"/>\n",
       "<path clip-path=\"url(#clip782)\" d=\"M1517.16 906.976 L1505.85 902.288 L1501.16 890.976 L1505.85 879.664 L1517.16 874.976 L1528.48 879.664 L1533.16 890.976 L1528.48 902.288 Z\" fill=\"#009af9\" fill-rule=\"evenodd\" fill-opacity=\"1\" stroke=\"#000000\" stroke-opacity=\"1\" stroke-width=\"3.2\"/>\n",
       "<path clip-path=\"url(#clip782)\" d=\"M1572.11 924.391 L1560.8 919.703 L1556.11 908.391 L1560.8 897.079 L1572.11 892.391 L1583.42 897.079 L1588.11 908.391 L1583.42 919.703 Z\" fill=\"#009af9\" fill-rule=\"evenodd\" fill-opacity=\"1\" stroke=\"#000000\" stroke-opacity=\"1\" stroke-width=\"3.2\"/>\n",
       "<path clip-path=\"url(#clip782)\" d=\"M1621.81 885.913 L1610.5 881.225 L1605.81 869.913 L1610.5 858.601 L1621.81 853.913 L1633.12 858.601 L1637.81 869.913 L1633.12 881.225 Z\" fill=\"#009af9\" fill-rule=\"evenodd\" fill-opacity=\"1\" stroke=\"#000000\" stroke-opacity=\"1\" stroke-width=\"3.2\"/>\n",
       "<path clip-path=\"url(#clip782)\" d=\"M1667.19 871.551 L1655.87 866.863 L1651.19 855.551 L1655.87 844.239 L1667.19 839.551 L1678.5 844.239 L1683.19 855.551 L1678.5 866.863 Z\" fill=\"#009af9\" fill-rule=\"evenodd\" fill-opacity=\"1\" stroke=\"#000000\" stroke-opacity=\"1\" stroke-width=\"3.2\"/>\n",
       "<path clip-path=\"url(#clip782)\" d=\"M1708.93 838.603 L1697.62 833.915 L1692.93 822.603 L1697.62 811.291 L1708.93 806.603 L1720.24 811.291 L1724.93 822.603 L1720.24 833.915 Z\" fill=\"#009af9\" fill-rule=\"evenodd\" fill-opacity=\"1\" stroke=\"#000000\" stroke-opacity=\"1\" stroke-width=\"3.2\"/>\n",
       "<path clip-path=\"url(#clip782)\" d=\"M1747.57 818.215 L1736.26 813.527 L1731.57 802.215 L1736.26 790.903 L1747.57 786.215 L1758.89 790.903 L1763.57 802.215 L1758.89 813.527 Z\" fill=\"#009af9\" fill-rule=\"evenodd\" fill-opacity=\"1\" stroke=\"#000000\" stroke-opacity=\"1\" stroke-width=\"3.2\"/>\n",
       "<path clip-path=\"url(#clip782)\" d=\"M1783.55 766.565 L1772.24 761.877 L1767.55 750.565 L1772.24 739.253 L1783.55 734.565 L1794.87 739.253 L1799.55 750.565 L1794.87 761.877 Z\" fill=\"#009af9\" fill-rule=\"evenodd\" fill-opacity=\"1\" stroke=\"#000000\" stroke-opacity=\"1\" stroke-width=\"3.2\"/>\n",
       "<path clip-path=\"url(#clip782)\" d=\"M1817.21 778.214 L1805.9 773.526 L1801.21 762.214 L1805.9 750.902 L1817.21 746.214 L1828.52 750.902 L1833.21 762.214 L1828.52 773.526 Z\" fill=\"#009af9\" fill-rule=\"evenodd\" fill-opacity=\"1\" stroke=\"#000000\" stroke-opacity=\"1\" stroke-width=\"3.2\"/>\n",
       "<path clip-path=\"url(#clip782)\" d=\"M1848.82 568.494 L1837.51 563.806 L1832.82 552.494 L1837.51 541.182 L1848.82 536.494 L1860.14 541.182 L1864.82 552.494 L1860.14 563.806 Z\" fill=\"#009af9\" fill-rule=\"evenodd\" fill-opacity=\"1\" stroke=\"#000000\" stroke-opacity=\"1\" stroke-width=\"3.2\"/>\n",
       "<path clip-path=\"url(#clip782)\" d=\"M1878.63 488.001 L1867.32 483.313 L1862.63 472.001 L1867.32 460.689 L1878.63 456.001 L1889.94 460.689 L1894.63 472.001 L1889.94 483.313 Z\" fill=\"#009af9\" fill-rule=\"evenodd\" fill-opacity=\"1\" stroke=\"#000000\" stroke-opacity=\"1\" stroke-width=\"3.2\"/>\n",
       "<path clip-path=\"url(#clip782)\" d=\"M1906.83 518.592 L1895.52 513.904 L1890.83 502.592 L1895.52 491.28 L1906.83 486.592 L1918.14 491.28 L1922.83 502.592 L1918.14 513.904 Z\" fill=\"#009af9\" fill-rule=\"evenodd\" fill-opacity=\"1\" stroke=\"#000000\" stroke-opacity=\"1\" stroke-width=\"3.2\"/>\n",
       "<path clip-path=\"url(#clip782)\" d=\"M1933.58 487.797 L1922.26 483.109 L1917.58 471.797 L1922.26 460.485 L1933.58 455.797 L1944.89 460.485 L1949.58 471.797 L1944.89 483.109 Z\" fill=\"#009af9\" fill-rule=\"evenodd\" fill-opacity=\"1\" stroke=\"#000000\" stroke-opacity=\"1\" stroke-width=\"3.2\"/>\n",
       "<path clip-path=\"url(#clip782)\" d=\"M1959.02 493.476 L1947.71 488.788 L1943.02 477.476 L1947.71 466.164 L1959.02 461.476 L1970.33 466.164 L1975.02 477.476 L1970.33 488.788 Z\" fill=\"#009af9\" fill-rule=\"evenodd\" fill-opacity=\"1\" stroke=\"#000000\" stroke-opacity=\"1\" stroke-width=\"3.2\"/>\n",
       "<path clip-path=\"url(#clip782)\" d=\"M1983.28 457.962 L1971.97 453.274 L1967.28 441.962 L1971.97 430.65 L1983.28 425.962 L1994.59 430.65 L1999.28 441.962 L1994.59 453.274 Z\" fill=\"#009af9\" fill-rule=\"evenodd\" fill-opacity=\"1\" stroke=\"#000000\" stroke-opacity=\"1\" stroke-width=\"3.2\"/>\n",
       "<path clip-path=\"url(#clip782)\" d=\"M2006.46 440.482 L1995.15 435.794 L1990.46 424.482 L1995.15 413.17 L2006.46 408.482 L2017.77 413.17 L2022.46 424.482 L2017.77 435.794 Z\" fill=\"#009af9\" fill-rule=\"evenodd\" fill-opacity=\"1\" stroke=\"#000000\" stroke-opacity=\"1\" stroke-width=\"3.2\"/>\n",
       "<path clip-path=\"url(#clip782)\" d=\"M2028.66 455.527 L2017.34 450.839 L2012.66 439.527 L2017.34 428.215 L2028.66 423.527 L2039.97 428.215 L2044.66 439.527 L2039.97 450.839 Z\" fill=\"#009af9\" fill-rule=\"evenodd\" fill-opacity=\"1\" stroke=\"#000000\" stroke-opacity=\"1\" stroke-width=\"3.2\"/>\n",
       "<path clip-path=\"url(#clip782)\" d=\"M2049.94 446.063 L2038.63 441.375 L2033.94 430.063 L2038.63 418.751 L2049.94 414.063 L2061.26 418.751 L2065.94 430.063 L2061.26 441.375 Z\" fill=\"#009af9\" fill-rule=\"evenodd\" fill-opacity=\"1\" stroke=\"#000000\" stroke-opacity=\"1\" stroke-width=\"3.2\"/>\n",
       "<path clip-path=\"url(#clip782)\" d=\"M2070.4 405.855 L2059.08 401.167 L2054.4 389.855 L2059.08 378.543 L2070.4 373.855 L2081.71 378.543 L2086.4 389.855 L2081.71 401.167 Z\" fill=\"#009af9\" fill-rule=\"evenodd\" fill-opacity=\"1\" stroke=\"#000000\" stroke-opacity=\"1\" stroke-width=\"3.2\"/>\n",
       "<path clip-path=\"url(#clip782)\" d=\"M2090.08 400.261 L2078.77 395.573 L2074.08 384.261 L2078.77 372.949 L2090.08 368.261 L2101.39 372.949 L2106.08 384.261 L2101.39 395.573 Z\" fill=\"#009af9\" fill-rule=\"evenodd\" fill-opacity=\"1\" stroke=\"#000000\" stroke-opacity=\"1\" stroke-width=\"3.2\"/>\n",
       "<path clip-path=\"url(#clip782)\" d=\"M2109.04 415.225 L2097.73 410.537 L2093.04 399.225 L2097.73 387.913 L2109.04 383.225 L2120.35 387.913 L2125.04 399.225 L2120.35 410.537 Z\" fill=\"#009af9\" fill-rule=\"evenodd\" fill-opacity=\"1\" stroke=\"#000000\" stroke-opacity=\"1\" stroke-width=\"3.2\"/>\n",
       "<path clip-path=\"url(#clip782)\" d=\"M2127.34 391.788 L2116.03 387.1 L2111.34 375.788 L2116.03 364.476 L2127.34 359.788 L2138.65 364.476 L2143.34 375.788 L2138.65 387.1 Z\" fill=\"#009af9\" fill-rule=\"evenodd\" fill-opacity=\"1\" stroke=\"#000000\" stroke-opacity=\"1\" stroke-width=\"3.2\"/>\n",
       "<path clip-path=\"url(#clip782)\" d=\"M2145.02 381.606 L2133.71 376.918 L2129.02 365.606 L2133.71 354.294 L2145.02 349.606 L2156.33 354.294 L2161.02 365.606 L2156.33 376.918 Z\" fill=\"#009af9\" fill-rule=\"evenodd\" fill-opacity=\"1\" stroke=\"#000000\" stroke-opacity=\"1\" stroke-width=\"3.2\"/>\n",
       "<path clip-path=\"url(#clip782)\" d=\"M2162.12 375.81 L2150.81 371.122 L2146.12 359.81 L2150.81 348.498 L2162.12 343.81 L2173.43 348.498 L2178.12 359.81 L2173.43 371.122 Z\" fill=\"#009af9\" fill-rule=\"evenodd\" fill-opacity=\"1\" stroke=\"#000000\" stroke-opacity=\"1\" stroke-width=\"3.2\"/>\n",
       "<path clip-path=\"url(#clip782)\" d=\"M2178.68 363.012 L2167.37 358.324 L2162.68 347.012 L2167.37 335.7 L2178.68 331.012 L2189.99 335.7 L2194.68 347.012 L2189.99 358.324 Z\" fill=\"#009af9\" fill-rule=\"evenodd\" fill-opacity=\"1\" stroke=\"#000000\" stroke-opacity=\"1\" stroke-width=\"3.2\"/>\n",
       "<path clip-path=\"url(#clip782)\" d=\"M2194.72 353.703 L2183.41 349.015 L2178.72 337.703 L2183.41 326.391 L2194.72 321.703 L2206.04 326.391 L2210.72 337.703 L2206.04 349.015 Z\" fill=\"#009af9\" fill-rule=\"evenodd\" fill-opacity=\"1\" stroke=\"#000000\" stroke-opacity=\"1\" stroke-width=\"3.2\"/>\n",
       "<path clip-path=\"url(#clip782)\" d=\"M2210.29 338.58 L2198.98 333.892 L2194.29 322.58 L2198.98 311.268 L2210.29 306.58 L2221.6 311.268 L2226.29 322.58 L2221.6 333.892 Z\" fill=\"#009af9\" fill-rule=\"evenodd\" fill-opacity=\"1\" stroke=\"#000000\" stroke-opacity=\"1\" stroke-width=\"3.2\"/>\n",
       "<path clip-path=\"url(#clip782)\" d=\"M2225.41 340.303 L2214.1 335.615 L2209.41 324.303 L2214.1 312.991 L2225.41 308.303 L2236.72 312.991 L2241.41 324.303 L2236.72 335.615 Z\" fill=\"#009af9\" fill-rule=\"evenodd\" fill-opacity=\"1\" stroke=\"#000000\" stroke-opacity=\"1\" stroke-width=\"3.2\"/>\n",
       "<path clip-path=\"url(#clip782)\" d=\"M2240.1 324.923 L2228.79 320.235 L2224.1 308.923 L2228.79 297.611 L2240.1 292.923 L2251.41 297.611 L2256.1 308.923 L2251.41 320.235 Z\" fill=\"#009af9\" fill-rule=\"evenodd\" fill-opacity=\"1\" stroke=\"#000000\" stroke-opacity=\"1\" stroke-width=\"3.2\"/>\n",
       "<path clip-path=\"url(#clip782)\" d=\"M2254.39 320.661 L2243.08 315.973 L2238.39 304.661 L2243.08 293.349 L2254.39 288.661 L2265.7 293.349 L2270.39 304.661 L2265.7 315.973 Z\" fill=\"#009af9\" fill-rule=\"evenodd\" fill-opacity=\"1\" stroke=\"#000000\" stroke-opacity=\"1\" stroke-width=\"3.2\"/>\n",
       "<path clip-path=\"url(#clip782)\" d=\"M2268.3 320.402 L2256.98 315.714 L2252.3 304.402 L2256.98 293.09 L2268.3 288.402 L2279.61 293.09 L2284.3 304.402 L2279.61 315.714 Z\" fill=\"#009af9\" fill-rule=\"evenodd\" fill-opacity=\"1\" stroke=\"#000000\" stroke-opacity=\"1\" stroke-width=\"3.2\"/>\n",
       "<path clip-path=\"url(#clip782)\" d=\"M2281.84 176.695 L2270.53 172.007 L2265.84 160.695 L2270.53 149.383 L2281.84 144.695 L2293.15 149.383 L2297.84 160.695 L2293.15 172.007 Z\" fill=\"#009af9\" fill-rule=\"evenodd\" fill-opacity=\"1\" stroke=\"#000000\" stroke-opacity=\"1\" stroke-width=\"3.2\"/>\n",
       "<path clip-path=\"url(#clip782)\" d=\"M2295.04 278.852 L2283.73 274.164 L2279.04 262.852 L2283.73 251.54 L2295.04 246.852 L2306.36 251.54 L2311.04 262.852 L2306.36 274.164 Z\" fill=\"#009af9\" fill-rule=\"evenodd\" fill-opacity=\"1\" stroke=\"#000000\" stroke-opacity=\"1\" stroke-width=\"3.2\"/>\n",
       "<polyline clip-path=\"url(#clip782)\" style=\"stroke:#e26f46; stroke-width:4; stroke-opacity:1; fill:none\" stroke-dasharray=\"16, 10\" points=\"\n",
       "  371.337,1401.45 732.805,1187.51 944.251,1062.36 1094.27,973.563 1210.64,904.688 1305.72,848.413 1386.11,800.833 1455.74,759.618 1517.16,723.263 1572.11,690.743 \n",
       "  1621.81,661.324 1667.19,634.468 1708.93,609.762 1747.57,586.888 1783.55,565.592 1817.21,545.672 1848.82,526.96 1878.63,509.317 1906.83,492.629 1933.58,476.797 \n",
       "  1959.02,461.738 1983.28,447.379 2006.46,433.658 2028.66,420.522 2049.94,407.922 2070.4,395.816 2090.08,384.167 2109.04,372.942 2127.34,362.111 2145.02,351.647 \n",
       "  2162.12,341.526 2178.68,331.727 2194.72,322.229 2210.29,313.014 2225.41,304.067 2240.1,295.372 2254.39,286.915 2268.3,278.684 2281.84,270.666 2295.04,262.852 \n",
       "  \n",
       "  \"/>\n",
       "<path clip-path=\"url(#clip780)\" d=\"\n",
       "M381.597 348.752 L709.707 348.752 L709.707 167.312 L381.597 167.312  Z\n",
       "  \" fill=\"#ffffff\" fill-rule=\"evenodd\" fill-opacity=\"1\"/>\n",
       "<polyline clip-path=\"url(#clip780)\" style=\"stroke:#000000; stroke-width:4; stroke-opacity:1; fill:none\" points=\"\n",
       "  381.597,348.752 709.707,348.752 709.707,167.312 381.597,167.312 381.597,348.752 \n",
       "  \"/>\n",
       "<polyline clip-path=\"url(#clip780)\" style=\"stroke:#009af9; stroke-width:4; stroke-opacity:1; fill:none\" points=\"\n",
       "  404.254,227.792 540.196,227.792 \n",
       "  \"/>\n",
       "<path clip-path=\"url(#clip780)\" d=\"M472.225 253.392 L454.126 245.891 L446.625 227.792 L454.126 209.693 L472.225 202.192 L490.324 209.693 L497.825 227.792 L490.324 245.891 Z\" fill=\"#009af9\" fill-rule=\"evenodd\" fill-opacity=\"1\" stroke=\"#000000\" stroke-opacity=\"1\" stroke-width=\"5.12\"/>\n",
       "<path clip-path=\"url(#clip780)\" d=\"M 0 0 M581.765 223.082 L581.765 209.054 L586.024 209.054 L586.024 245.072 L581.765 245.072 L581.765 241.183 Q580.422 243.498 578.362 244.632 Q576.325 245.744 573.455 245.744 Q568.756 245.744 565.793 241.994 Q562.853 238.244 562.853 232.133 Q562.853 226.021 565.793 222.271 Q568.756 218.522 573.455 218.522 Q576.325 218.522 578.362 219.656 Q580.422 220.767 581.765 223.082 M567.251 232.133 Q567.251 236.832 569.172 239.517 Q571.117 242.179 574.496 242.179 Q577.876 242.179 579.82 239.517 Q581.765 236.832 581.765 232.133 Q581.765 227.433 579.82 224.771 Q577.876 222.086 574.496 222.086 Q571.117 222.086 569.172 224.771 Q567.251 227.433 567.251 232.133 Z\" fill=\"#000000\" fill-rule=\"evenodd\" fill-opacity=\"1\" /><path clip-path=\"url(#clip780)\" d=\"M 0 0 M606.58 232.04 Q601.418 232.04 599.427 233.221 Q597.436 234.401 597.436 237.248 Q597.436 239.517 598.918 240.859 Q600.422 242.179 602.992 242.179 Q606.533 242.179 608.663 239.679 Q610.816 237.156 610.816 232.989 L610.816 232.04 L606.58 232.04 M615.075 230.281 L615.075 245.072 L610.816 245.072 L610.816 241.137 Q609.357 243.498 607.181 244.632 Q605.005 245.744 601.857 245.744 Q597.876 245.744 595.515 243.521 Q593.177 241.276 593.177 237.526 Q593.177 233.151 596.093 230.929 Q599.033 228.707 604.843 228.707 L610.816 228.707 L610.816 228.29 Q610.816 225.35 608.871 223.753 Q606.95 222.133 603.455 222.133 Q601.232 222.133 599.126 222.665 Q597.019 223.197 595.075 224.262 L595.075 220.327 Q597.413 219.424 599.612 218.984 Q601.811 218.522 603.894 218.522 Q609.519 218.522 612.297 221.438 Q615.075 224.355 615.075 230.281 Z\" fill=\"#000000\" fill-rule=\"evenodd\" fill-opacity=\"1\" /><path clip-path=\"url(#clip780)\" d=\"M 0 0 M628.061 211.785 L628.061 219.147 L636.834 219.147 L636.834 222.457 L628.061 222.457 L628.061 236.531 Q628.061 239.702 628.917 240.605 Q629.797 241.507 632.459 241.507 L636.834 241.507 L636.834 245.072 L632.459 245.072 Q627.528 245.072 625.653 243.244 Q623.778 241.392 623.778 236.531 L623.778 222.457 L620.654 222.457 L620.654 219.147 L623.778 219.147 L623.778 211.785 L628.061 211.785 Z\" fill=\"#000000\" fill-rule=\"evenodd\" fill-opacity=\"1\" /><path clip-path=\"url(#clip780)\" d=\"M 0 0 M654.218 232.04 Q649.056 232.04 647.065 233.221 Q645.075 234.401 645.075 237.248 Q645.075 239.517 646.556 240.859 Q648.061 242.179 650.63 242.179 Q654.172 242.179 656.301 239.679 Q658.454 237.156 658.454 232.989 L658.454 232.04 L654.218 232.04 M662.713 230.281 L662.713 245.072 L658.454 245.072 L658.454 241.137 Q656.996 243.498 654.82 244.632 Q652.644 245.744 649.496 245.744 Q645.514 245.744 643.153 243.521 Q640.815 241.276 640.815 237.526 Q640.815 233.151 643.732 230.929 Q646.672 228.707 652.482 228.707 L658.454 228.707 L658.454 228.29 Q658.454 225.35 656.51 223.753 Q654.589 222.133 651.093 222.133 Q648.871 222.133 646.764 222.665 Q644.658 223.197 642.714 224.262 L642.714 220.327 Q645.052 219.424 647.251 218.984 Q649.45 218.522 651.533 218.522 Q657.158 218.522 659.936 221.438 Q662.713 224.355 662.713 230.281 Z\" fill=\"#000000\" fill-rule=\"evenodd\" fill-opacity=\"1\" /><polyline clip-path=\"url(#clip780)\" style=\"stroke:#e26f46; stroke-width:4; stroke-opacity:1; fill:none\" stroke-dasharray=\"16, 10\" points=\"\n",
       "  404.254,288.272 540.196,288.272 \n",
       "  \"/>\n",
       "<path clip-path=\"url(#clip780)\" d=\"M 0 0 M596.019 279.231 Q596.019 282.58 594.825 285.906 Q593.653 289.209 591.592 291.926 Q589.531 294.643 586.908 296.751 Q584.284 298.859 581.216 300.03 Q578.148 301.201 575.15 301.201 Q569.833 301.201 566.343 297.711 Q562.853 294.221 562.853 288.389 Q562.853 284.314 564.68 280.262 Q566.507 276.186 569.411 273.165 Q572.316 270.12 576.133 268.222 Q579.975 266.325 583.769 266.325 Q589.156 266.325 592.576 269.909 Q596.019 273.469 596.019 279.231 M591.733 277.357 Q591.733 274.781 591.007 272.837 Q590.281 270.869 589.063 269.745 Q587.868 268.621 586.439 268.082 Q585.034 267.52 583.488 267.52 Q580.49 267.52 577.281 269.464 Q574.072 271.408 571.683 275.015 Q570.395 276.982 569.458 279.348 Q568.521 281.69 568.1 283.775 Q567.678 285.836 567.491 287.288 Q567.327 288.741 567.327 289.748 Q567.327 294.432 569.575 297.196 Q571.824 299.96 575.431 299.96 Q578.265 299.96 581.029 298.297 Q583.793 296.611 585.69 294.198 Q587.376 292.113 588.618 289.607 Q589.882 287.101 590.515 284.806 Q591.147 282.51 591.428 280.66 Q591.733 278.809 591.733 277.357 Z\" fill=\"#000000\" fill-rule=\"evenodd\" fill-opacity=\"1\" /><path clip-path=\"url(#clip780)\" d=\"M 0 0 M599.081 288.155 Q599.081 280.051 602.102 273.516 Q603.391 270.776 605.194 268.48 Q606.998 266.185 608.192 265.178 Q609.387 264.17 609.715 264.17 Q610.183 264.17 610.207 264.639 Q610.207 264.873 609.574 265.459 Q601.845 273.329 601.868 288.155 Q601.868 303.028 609.387 310.594 Q610.207 311.413 610.207 311.671 Q610.207 312.14 609.715 312.14 Q609.387 312.14 608.239 311.179 Q607.091 310.219 605.311 308.017 Q603.531 305.816 602.243 303.122 Q599.081 296.587 599.081 288.155 Z\" fill=\"#000000\" fill-rule=\"evenodd\" fill-opacity=\"1\" /><path clip-path=\"url(#clip780)\" d=\"M 0 0 M643.495 293.285 Q643.495 293.472 643.285 294.198 Q643.074 294.924 642.558 296.048 Q642.067 297.173 641.387 298.203 Q640.708 299.21 639.584 299.96 Q638.483 300.686 637.218 300.686 Q635.532 300.686 634.407 299.562 Q633.283 298.437 633.283 296.751 Q633.283 295.814 633.775 294.526 Q636.89 286.211 636.89 283.353 Q636.89 280.004 634.29 280.004 Q633.002 280.004 631.784 280.496 Q630.59 280.964 629.77 281.62 Q628.95 282.276 628.201 283.189 Q627.474 284.079 627.1 284.688 Q626.748 285.274 626.467 285.86 L625.858 288.249 Q625.718 288.905 625.038 291.458 L623.984 295.791 Q623.235 299.023 623.071 299.328 Q622.837 299.983 622.321 300.335 Q621.806 300.686 621.291 300.686 Q620.705 300.686 620.307 300.335 Q619.909 299.983 619.909 299.374 Q619.909 299.281 619.979 298.929 Q620.049 298.578 620.167 298.086 Q620.284 297.594 620.331 297.313 L623.118 286.234 Q623.633 284.22 623.75 283.588 Q623.891 282.932 623.891 282.206 Q623.891 280.004 622.392 280.004 Q621.174 280.004 620.377 281.456 Q619.581 282.908 618.902 285.719 Q618.691 286.492 618.55 286.656 Q618.433 286.82 618.082 286.82 Q617.496 286.796 617.496 286.328 Q617.496 286.211 617.684 285.438 Q617.871 284.665 618.223 283.564 Q618.597 282.44 618.949 281.69 Q619.253 281.128 619.417 280.871 Q619.604 280.59 620.049 280.051 Q620.518 279.489 621.127 279.231 Q621.759 278.95 622.532 278.95 Q624.266 278.95 625.53 280.074 Q626.795 281.175 626.959 283.119 Q630.074 278.95 634.431 278.95 Q637.007 278.95 638.483 280.308 Q639.959 281.667 639.959 284.079 Q639.959 284.642 639.841 285.368 Q639.748 286.07 639.514 286.96 Q639.303 287.851 639.115 288.53 Q638.928 289.209 638.553 290.31 Q638.178 291.387 638.015 291.856 Q637.851 292.324 637.452 293.425 Q637.078 294.502 637.031 294.62 Q636.164 296.798 636.164 298.039 Q636.164 298.859 636.422 299.234 Q636.703 299.609 637.312 299.609 Q638.951 299.609 640.169 297.992 Q641.411 296.353 642.207 293.683 Q642.395 293.097 642.488 292.957 Q642.605 292.816 642.933 292.816 Q643.495 292.816 643.495 293.285 Z\" fill=\"#000000\" fill-rule=\"evenodd\" fill-opacity=\"1\" /><path clip-path=\"url(#clip780)\" d=\"M 0 0 M645.978 311.671 Q645.978 311.437 646.587 310.851 Q654.316 302.981 654.316 288.155 Q654.316 273.282 646.891 265.763 Q645.978 264.897 645.978 264.639 Q645.978 264.17 646.446 264.17 Q646.774 264.17 647.922 265.131 Q649.093 266.091 650.85 268.293 Q652.63 270.494 653.942 273.188 Q657.104 279.723 657.104 288.155 Q657.104 296.259 654.082 302.794 Q652.794 305.534 650.99 307.83 Q649.187 310.125 647.992 311.132 Q646.798 312.14 646.446 312.14 Q645.978 312.14 645.978 311.671 Z\" fill=\"#000000\" fill-rule=\"evenodd\" fill-opacity=\"1\" /></svg>\n"
      ]
     },
     "execution_count": 8,
     "metadata": {},
     "output_type": "execute_result"
    }
   ],
   "source": [
    "plot!(vect_sizes,(vect_sizes/vect_sizes[end])*dps[end],l=:dash,\n",
    "    label=\"\\$O(n)\\$\",legend=:topleft)"
   ]
  },
  {
   "cell_type": "markdown",
   "metadata": {},
   "source": [
    "This provides an experimental confirmation that the dot product algorithm scales as $\\mathcal{O}(n)$.  "
   ]
  },
  {
   "cell_type": "markdown",
   "metadata": {},
   "source": [
    "### An Extension\n",
    "\n",
    "There are two common ways to view matrix multiplication:\n",
    "\n",
    "1) As a series of dot products.\n",
    "\n",
    "2) As linear combinations of vectors. \n",
    "\n",
    "Both points of view have their usefulness. For now, let's make use of the first perspective.  "
   ]
  },
  {
   "cell_type": "markdown",
   "metadata": {},
   "source": [
    "Recall that if $A$ is an $m\\times n$ matrix and $x$ is an $n \\times 1$ column vector then the product $Ax$ is an $m \\times 1$ column vector where $y_{i} = \\text{dot product of row $i$ of $A$ with $x$}$. This imples that we can build an algorithm for matrix vector multiplication out of our algorithm for the dot product. (You will be asked to implement such an algorithm for homework.) All we have to do is to apply our dot product algorithm for each row of the matrix, Then the number of FLOPs will be  $m(2n)=2mn$. "
   ]
  },
  {
   "cell_type": "markdown",
   "metadata": {},
   "source": [
    "Pushing this further, it is the case that matrix-matrix multiplication is a series of dot products in that if $A$ is $m\\times n$ and $B$ is $n\\times p$, then $AB$ is $m \\times p$ and the $ij$ entry of $AB$ is the dot product between row $i$ of $A$ and column $j$ of $B$. So essentially, we are performing $n$ matrix vector multiplications or equivalently $mn$ dot products, either way we have a total of $2mn^2$ FLOPs. If we are working with only square matrices, then we see that there will be $2n^3$ FLOPs so we expect that multiplication of square matrices will scale as $\\mathcal{O}(n^3)$. We can confirm this experimentally similarly to the way we did with the dot product. "
   ]
  },
  {
   "cell_type": "code",
   "execution_count": 9,
   "metadata": {},
   "outputs": [
    {
     "data": {
      "image/svg+xml": [
       "<?xml version=\"1.0\" encoding=\"utf-8\"?>\n",
       "<svg xmlns=\"http://www.w3.org/2000/svg\" xmlns:xlink=\"http://www.w3.org/1999/xlink\" width=\"600\" height=\"400\" viewBox=\"0 0 2400 1600\">\n",
       "<defs>\n",
       "  <clipPath id=\"clip820\">\n",
       "    <rect x=\"0\" y=\"0\" width=\"2400\" height=\"1600\"/>\n",
       "  </clipPath>\n",
       "</defs>\n",
       "<path clip-path=\"url(#clip820)\" d=\"\n",
       "M0 1600 L2400 1600 L2400 0 L0 0  Z\n",
       "  \" fill=\"#ffffff\" fill-rule=\"evenodd\" fill-opacity=\"1\"/>\n",
       "<defs>\n",
       "  <clipPath id=\"clip821\">\n",
       "    <rect x=\"480\" y=\"0\" width=\"1681\" height=\"1600\"/>\n",
       "  </clipPath>\n",
       "</defs>\n",
       "<defs>\n",
       "  <clipPath id=\"clip822\">\n",
       "    <rect x=\"313\" y=\"123\" width=\"2040\" height=\"1316\"/>\n",
       "  </clipPath>\n",
       "</defs>\n",
       "<path clip-path=\"url(#clip820)\" d=\"\n",
       "M251.842 1438.68 L2352.76 1438.68 L2352.76 123.472 L251.842 123.472  Z\n",
       "  \" fill=\"#ffffff\" fill-rule=\"evenodd\" fill-opacity=\"1\"/>\n",
       "<defs>\n",
       "  <clipPath id=\"clip823\">\n",
       "    <rect x=\"251\" y=\"123\" width=\"2102\" height=\"1316\"/>\n",
       "  </clipPath>\n",
       "</defs>\n",
       "<polyline clip-path=\"url(#clip823)\" style=\"stroke:#000000; stroke-width:2; stroke-opacity:0.1; fill:none\" points=\"\n",
       "  444.1,1438.68 444.1,123.472 \n",
       "  \"/>\n",
       "<polyline clip-path=\"url(#clip823)\" style=\"stroke:#000000; stroke-width:2; stroke-opacity:0.1; fill:none\" points=\"\n",
       "  846.638,1438.68 846.638,123.472 \n",
       "  \"/>\n",
       "<polyline clip-path=\"url(#clip823)\" style=\"stroke:#000000; stroke-width:2; stroke-opacity:0.1; fill:none\" points=\"\n",
       "  1249.18,1438.68 1249.18,123.472 \n",
       "  \"/>\n",
       "<polyline clip-path=\"url(#clip823)\" style=\"stroke:#000000; stroke-width:2; stroke-opacity:0.1; fill:none\" points=\"\n",
       "  1651.72,1438.68 1651.72,123.472 \n",
       "  \"/>\n",
       "<polyline clip-path=\"url(#clip823)\" style=\"stroke:#000000; stroke-width:2; stroke-opacity:0.1; fill:none\" points=\"\n",
       "  2054.25,1438.68 2054.25,123.472 \n",
       "  \"/>\n",
       "<polyline clip-path=\"url(#clip820)\" style=\"stroke:#000000; stroke-width:4; stroke-opacity:1; fill:none\" points=\"\n",
       "  251.842,1438.68 2352.76,1438.68 \n",
       "  \"/>\n",
       "<polyline clip-path=\"url(#clip820)\" style=\"stroke:#000000; stroke-width:4; stroke-opacity:1; fill:none\" points=\"\n",
       "  444.1,1438.68 444.1,1422.89 \n",
       "  \"/>\n",
       "<polyline clip-path=\"url(#clip820)\" style=\"stroke:#000000; stroke-width:4; stroke-opacity:1; fill:none\" points=\"\n",
       "  846.638,1438.68 846.638,1422.89 \n",
       "  \"/>\n",
       "<polyline clip-path=\"url(#clip820)\" style=\"stroke:#000000; stroke-width:4; stroke-opacity:1; fill:none\" points=\"\n",
       "  1249.18,1438.68 1249.18,1422.89 \n",
       "  \"/>\n",
       "<polyline clip-path=\"url(#clip820)\" style=\"stroke:#000000; stroke-width:4; stroke-opacity:1; fill:none\" points=\"\n",
       "  1651.72,1438.68 1651.72,1422.89 \n",
       "  \"/>\n",
       "<polyline clip-path=\"url(#clip820)\" style=\"stroke:#000000; stroke-width:4; stroke-opacity:1; fill:none\" points=\"\n",
       "  2054.25,1438.68 2054.25,1422.89 \n",
       "  \"/>\n",
       "<path clip-path=\"url(#clip820)\" d=\"M 0 0 M390.651 1516.95 L398.29 1516.95 L398.29 1490.58 L389.98 1492.25 L389.98 1487.99 L398.243 1486.32 L402.919 1486.32 L402.919 1516.95 L410.558 1516.95 L410.558 1520.88 L390.651 1520.88 L390.651 1516.95 Z\" fill=\"#000000\" fill-rule=\"evenodd\" fill-opacity=\"1\" /><path clip-path=\"url(#clip820)\" d=\"M 0 0 M430.002 1489.4 Q426.391 1489.4 424.563 1492.97 Q422.757 1496.51 422.757 1503.64 Q422.757 1510.75 424.563 1514.31 Q426.391 1517.85 430.002 1517.85 Q433.637 1517.85 435.442 1514.31 Q437.271 1510.75 437.271 1503.64 Q437.271 1496.51 435.442 1492.97 Q433.637 1489.4 430.002 1489.4 M430.002 1485.7 Q435.813 1485.7 438.868 1490.31 Q441.947 1494.89 441.947 1503.64 Q441.947 1512.37 438.868 1516.97 Q435.813 1521.56 430.002 1521.56 Q424.192 1521.56 421.114 1516.97 Q418.058 1512.37 418.058 1503.64 Q418.058 1494.89 421.114 1490.31 Q424.192 1485.7 430.002 1485.7 Z\" fill=\"#000000\" fill-rule=\"evenodd\" fill-opacity=\"1\" /><path clip-path=\"url(#clip820)\" d=\"M 0 0 M446.517 1490.28 L459.777 1490.28 L459.777 1493.47 L441.947 1493.47 L441.947 1490.28 Q444.11 1488.04 447.834 1484.28 Q451.576 1480.5 452.536 1479.41 Q454.36 1477.36 455.075 1475.95 Q455.808 1474.52 455.808 1473.14 Q455.808 1470.9 454.228 1469.49 Q452.667 1468.08 450.147 1468.08 Q448.36 1468.08 446.367 1468.7 Q444.392 1469.32 442.135 1470.58 L442.135 1466.75 Q444.43 1465.83 446.423 1465.36 Q448.417 1464.89 450.072 1464.89 Q454.435 1464.89 457.031 1467.07 Q459.626 1469.25 459.626 1472.9 Q459.626 1474.63 458.968 1476.19 Q458.328 1477.73 456.617 1479.84 Q456.147 1480.38 453.626 1483 Q451.106 1485.59 446.517 1490.28 Z\" fill=\"#000000\" fill-rule=\"evenodd\" fill-opacity=\"1\" /><path clip-path=\"url(#clip820)\" d=\"M 0 0 M467.751 1488.7 L471.72 1488.7 L471.72 1493.47 L467.751 1493.47 L467.751 1488.7 Z\" fill=\"#000000\" fill-rule=\"evenodd\" fill-opacity=\"1\" /><path clip-path=\"url(#clip820)\" d=\"M 0 0 M490.433 1468.7 L480.841 1483.69 L490.433 1483.69 L490.433 1468.7 M489.436 1465.39 L494.214 1465.39 L494.214 1483.69 L498.22 1483.69 L498.22 1486.85 L494.214 1486.85 L494.214 1493.47 L490.433 1493.47 L490.433 1486.85 L477.757 1486.85 L477.757 1483.19 L489.436 1465.39 Z\" fill=\"#000000\" fill-rule=\"evenodd\" fill-opacity=\"1\" /><path clip-path=\"url(#clip820)\" d=\"M 0 0 M793.754 1516.95 L801.392 1516.95 L801.392 1490.58 L793.082 1492.25 L793.082 1487.99 L801.346 1486.32 L806.022 1486.32 L806.022 1516.95 L813.661 1516.95 L813.661 1520.88 L793.754 1520.88 L793.754 1516.95 Z\" fill=\"#000000\" fill-rule=\"evenodd\" fill-opacity=\"1\" /><path clip-path=\"url(#clip820)\" d=\"M 0 0 M833.105 1489.4 Q829.494 1489.4 827.665 1492.97 Q825.86 1496.51 825.86 1503.64 Q825.86 1510.75 827.665 1514.31 Q829.494 1517.85 833.105 1517.85 Q836.739 1517.85 838.545 1514.31 Q840.374 1510.75 840.374 1503.64 Q840.374 1496.51 838.545 1492.97 Q836.739 1489.4 833.105 1489.4 M833.105 1485.7 Q838.915 1485.7 841.971 1490.31 Q845.05 1494.89 845.05 1503.64 Q845.05 1512.37 841.971 1516.97 Q838.915 1521.56 833.105 1521.56 Q827.295 1521.56 824.216 1516.97 Q821.161 1512.37 821.161 1503.64 Q821.161 1494.89 824.216 1490.31 Q827.295 1485.7 833.105 1485.7 Z\" fill=\"#000000\" fill-rule=\"evenodd\" fill-opacity=\"1\" /><path clip-path=\"url(#clip820)\" d=\"M 0 0 M849.62 1490.28 L862.879 1490.28 L862.879 1493.47 L845.05 1493.47 L845.05 1490.28 Q847.212 1488.04 850.936 1484.28 Q854.679 1480.5 855.638 1479.41 Q857.463 1477.36 858.177 1475.95 Q858.911 1474.52 858.911 1473.14 Q858.911 1470.9 857.331 1469.49 Q855.77 1468.08 853.25 1468.08 Q851.463 1468.08 849.469 1468.7 Q847.495 1469.32 845.238 1470.58 L845.238 1466.75 Q847.532 1465.83 849.526 1465.36 Q851.519 1464.89 853.175 1464.89 Q857.538 1464.89 860.133 1467.07 Q862.729 1469.25 862.729 1472.9 Q862.729 1474.63 862.071 1476.19 Q861.431 1477.73 859.72 1479.84 Q859.249 1480.38 856.729 1483 Q854.209 1485.59 849.62 1490.28 Z\" fill=\"#000000\" fill-rule=\"evenodd\" fill-opacity=\"1\" /><path clip-path=\"url(#clip820)\" d=\"M 0 0 M870.854 1488.7 L874.822 1488.7 L874.822 1493.47 L870.854 1493.47 L870.854 1488.7 Z\" fill=\"#000000\" fill-rule=\"evenodd\" fill-opacity=\"1\" /><path clip-path=\"url(#clip820)\" d=\"M 0 0 M882.139 1465.39 L900.194 1465.39 L900.194 1467.01 L890 1493.47 L886.032 1493.47 L895.624 1468.59 L882.139 1468.59 L882.139 1465.39 Z\" fill=\"#000000\" fill-rule=\"evenodd\" fill-opacity=\"1\" /><path clip-path=\"url(#clip820)\" d=\"M 0 0 M1195.98 1516.95 L1203.62 1516.95 L1203.62 1490.58 L1195.31 1492.25 L1195.31 1487.99 L1203.57 1486.32 L1208.25 1486.32 L1208.25 1516.95 L1215.89 1516.95 L1215.89 1520.88 L1195.98 1520.88 L1195.98 1516.95 Z\" fill=\"#000000\" fill-rule=\"evenodd\" fill-opacity=\"1\" /><path clip-path=\"url(#clip820)\" d=\"M 0 0 M1235.33 1489.4 Q1231.72 1489.4 1229.89 1492.97 Q1228.09 1496.51 1228.09 1503.64 Q1228.09 1510.75 1229.89 1514.31 Q1231.72 1517.85 1235.33 1517.85 Q1238.97 1517.85 1240.77 1514.31 Q1242.6 1510.75 1242.6 1503.64 Q1242.6 1496.51 1240.77 1492.97 Q1238.97 1489.4 1235.33 1489.4 M1235.33 1485.7 Q1241.14 1485.7 1244.2 1490.31 Q1247.28 1494.89 1247.28 1503.64 Q1247.28 1512.37 1244.2 1516.97 Q1241.14 1521.56 1235.33 1521.56 Q1229.52 1521.56 1226.44 1516.97 Q1223.39 1512.37 1223.39 1503.64 Q1223.39 1494.89 1226.44 1490.31 Q1229.52 1485.7 1235.33 1485.7 Z\" fill=\"#000000\" fill-rule=\"evenodd\" fill-opacity=\"1\" /><path clip-path=\"url(#clip820)\" d=\"M 0 0 M1259.97 1478.33 Q1262.7 1478.92 1264.22 1480.76 Q1265.77 1482.6 1265.77 1485.31 Q1265.77 1489.47 1262.91 1491.74 Q1260.05 1494.02 1254.78 1494.02 Q1253.01 1494.02 1251.13 1493.66 Q1249.27 1493.32 1247.28 1492.63 L1247.28 1488.96 Q1248.86 1489.88 1250.74 1490.35 Q1252.62 1490.82 1254.67 1490.82 Q1258.24 1490.82 1260.1 1489.41 Q1261.99 1488 1261.99 1485.31 Q1261.99 1482.83 1260.24 1481.44 Q1258.51 1480.03 1255.4 1480.03 L1252.13 1480.03 L1252.13 1476.9 L1255.55 1476.9 Q1258.36 1476.9 1259.84 1475.79 Q1261.33 1474.67 1261.33 1472.56 Q1261.33 1470.4 1259.78 1469.25 Q1258.26 1468.08 1255.4 1468.08 Q1253.84 1468.08 1252.05 1468.42 Q1250.27 1468.76 1248.12 1469.48 L1248.12 1466.09 Q1250.29 1465.49 1252.17 1465.19 Q1254.07 1464.89 1255.74 1464.89 Q1260.07 1464.89 1262.59 1466.86 Q1265.11 1468.82 1265.11 1472.16 Q1265.11 1474.5 1263.77 1476.11 Q1262.44 1477.71 1259.97 1478.33 Z\" fill=\"#000000\" fill-rule=\"evenodd\" fill-opacity=\"1\" /><path clip-path=\"url(#clip820)\" d=\"M 0 0 M1272.97 1488.7 L1276.94 1488.7 L1276.94 1493.47 L1272.97 1493.47 L1272.97 1488.7 Z\" fill=\"#000000\" fill-rule=\"evenodd\" fill-opacity=\"1\" /><path clip-path=\"url(#clip820)\" d=\"M 0 0 M1293.34 1467.9 Q1290.4 1467.9 1288.92 1470.79 Q1287.45 1473.67 1287.45 1479.46 Q1287.45 1485.24 1288.92 1488.13 Q1290.4 1491.01 1293.34 1491.01 Q1296.29 1491.01 1297.76 1488.13 Q1299.24 1485.24 1299.24 1479.46 Q1299.24 1473.67 1297.76 1470.79 Q1296.29 1467.9 1293.34 1467.9 M1293.34 1464.89 Q1298.06 1464.89 1300.54 1468.63 Q1303.04 1472.35 1303.04 1479.46 Q1303.04 1486.55 1300.54 1490.3 Q1298.06 1494.02 1293.34 1494.02 Q1288.62 1494.02 1286.12 1490.3 Q1283.63 1486.55 1283.63 1479.46 Q1283.63 1472.35 1286.12 1468.63 Q1288.62 1464.89 1293.34 1464.89 Z\" fill=\"#000000\" fill-rule=\"evenodd\" fill-opacity=\"1\" /><path clip-path=\"url(#clip820)\" d=\"M 0 0 M1598.78 1516.95 L1606.42 1516.95 L1606.42 1490.58 L1598.11 1492.25 L1598.11 1487.99 L1606.38 1486.32 L1611.05 1486.32 L1611.05 1516.95 L1618.69 1516.95 L1618.69 1520.88 L1598.78 1520.88 L1598.78 1516.95 Z\" fill=\"#000000\" fill-rule=\"evenodd\" fill-opacity=\"1\" /><path clip-path=\"url(#clip820)\" d=\"M 0 0 M1638.14 1489.4 Q1634.52 1489.4 1632.7 1492.97 Q1630.89 1496.51 1630.89 1503.64 Q1630.89 1510.75 1632.7 1514.31 Q1634.52 1517.85 1638.14 1517.85 Q1641.77 1517.85 1643.57 1514.31 Q1645.4 1510.75 1645.4 1503.64 Q1645.4 1496.51 1643.57 1492.97 Q1641.77 1489.4 1638.14 1489.4 M1638.14 1485.7 Q1643.95 1485.7 1647 1490.31 Q1650.08 1494.89 1650.08 1503.64 Q1650.08 1512.37 1647 1516.97 Q1643.95 1521.56 1638.14 1521.56 Q1632.33 1521.56 1629.25 1516.97 Q1626.19 1512.37 1626.19 1503.64 Q1626.19 1494.89 1629.25 1490.31 Q1632.33 1485.7 1638.14 1485.7 Z\" fill=\"#000000\" fill-rule=\"evenodd\" fill-opacity=\"1\" /><path clip-path=\"url(#clip820)\" d=\"M 0 0 M1662.77 1478.33 Q1665.5 1478.92 1667.03 1480.76 Q1668.57 1482.6 1668.57 1485.31 Q1668.57 1489.47 1665.71 1491.74 Q1662.85 1494.02 1657.58 1494.02 Q1655.82 1494.02 1653.94 1493.66 Q1652.07 1493.32 1650.08 1492.63 L1650.08 1488.96 Q1651.66 1489.88 1653.54 1490.35 Q1655.42 1490.82 1657.47 1490.82 Q1661.04 1490.82 1662.91 1489.41 Q1664.79 1488 1664.79 1485.31 Q1664.79 1482.83 1663.04 1481.44 Q1661.31 1480.03 1658.2 1480.03 L1654.93 1480.03 L1654.93 1476.9 L1658.36 1476.9 Q1661.16 1476.9 1662.64 1475.79 Q1664.13 1474.67 1664.13 1472.56 Q1664.13 1470.4 1662.59 1469.25 Q1661.06 1468.08 1658.2 1468.08 Q1656.64 1468.08 1654.86 1468.42 Q1653.07 1468.76 1650.93 1469.48 L1650.93 1466.09 Q1653.09 1465.49 1654.97 1465.19 Q1656.87 1464.89 1658.54 1464.89 Q1662.87 1464.89 1665.39 1466.86 Q1667.91 1468.82 1667.91 1472.16 Q1667.91 1474.5 1666.57 1476.11 Q1665.24 1477.71 1662.77 1478.33 Z\" fill=\"#000000\" fill-rule=\"evenodd\" fill-opacity=\"1\" /><path clip-path=\"url(#clip820)\" d=\"M 0 0 M1675.77 1488.7 L1679.74 1488.7 L1679.74 1493.47 L1675.77 1493.47 L1675.77 1488.7 Z\" fill=\"#000000\" fill-rule=\"evenodd\" fill-opacity=\"1\" /><path clip-path=\"url(#clip820)\" d=\"M 0 0 M1699.53 1478.33 Q1702.25 1478.92 1703.78 1480.76 Q1705.32 1482.6 1705.32 1485.31 Q1705.32 1489.47 1702.46 1491.74 Q1699.6 1494.02 1694.33 1494.02 Q1692.57 1494.02 1690.69 1493.66 Q1688.82 1493.32 1686.83 1492.63 L1686.83 1488.96 Q1688.41 1489.88 1690.29 1490.35 Q1692.17 1490.82 1694.22 1490.82 Q1697.79 1490.82 1699.66 1489.41 Q1701.54 1488 1701.54 1485.31 Q1701.54 1482.83 1699.79 1481.44 Q1698.06 1480.03 1694.95 1480.03 L1691.68 1480.03 L1691.68 1476.9 L1695.11 1476.9 Q1697.91 1476.9 1699.39 1475.79 Q1700.88 1474.67 1700.88 1472.56 Q1700.88 1470.4 1699.34 1469.25 Q1697.81 1468.08 1694.95 1468.08 Q1693.39 1468.08 1691.61 1468.42 Q1689.82 1468.76 1687.68 1469.48 L1687.68 1466.09 Q1689.84 1465.49 1691.72 1465.19 Q1693.62 1464.89 1695.29 1464.89 Q1699.62 1464.89 1702.14 1466.86 Q1704.66 1468.82 1704.66 1472.16 Q1704.66 1474.5 1703.32 1476.11 Q1701.99 1477.71 1699.53 1478.33 Z\" fill=\"#000000\" fill-rule=\"evenodd\" fill-opacity=\"1\" /><path clip-path=\"url(#clip820)\" d=\"M 0 0 M2000.99 1516.95 L2008.63 1516.95 L2008.63 1490.58 L2000.32 1492.25 L2000.32 1487.99 L2008.59 1486.32 L2013.26 1486.32 L2013.26 1516.95 L2020.9 1516.95 L2020.9 1520.88 L2000.99 1520.88 L2000.99 1516.95 Z\" fill=\"#000000\" fill-rule=\"evenodd\" fill-opacity=\"1\" /><path clip-path=\"url(#clip820)\" d=\"M 0 0 M2040.34 1489.4 Q2036.73 1489.4 2034.9 1492.97 Q2033.1 1496.51 2033.1 1503.64 Q2033.1 1510.75 2034.9 1514.31 Q2036.73 1517.85 2040.34 1517.85 Q2043.98 1517.85 2045.78 1514.31 Q2047.61 1510.75 2047.61 1503.64 Q2047.61 1496.51 2045.78 1492.97 Q2043.98 1489.4 2040.34 1489.4 M2040.34 1485.7 Q2046.15 1485.7 2049.21 1490.31 Q2052.29 1494.89 2052.29 1503.64 Q2052.29 1512.37 2049.21 1516.97 Q2046.15 1521.56 2040.34 1521.56 Q2034.53 1521.56 2031.46 1516.97 Q2028.4 1512.37 2028.4 1503.64 Q2028.4 1494.89 2031.46 1490.31 Q2034.53 1485.7 2040.34 1485.7 Z\" fill=\"#000000\" fill-rule=\"evenodd\" fill-opacity=\"1\" /><path clip-path=\"url(#clip820)\" d=\"M 0 0 M2064.98 1478.33 Q2067.71 1478.92 2069.23 1480.76 Q2070.78 1482.6 2070.78 1485.31 Q2070.78 1489.47 2067.92 1491.74 Q2065.06 1494.02 2059.79 1494.02 Q2058.03 1494.02 2056.14 1493.66 Q2054.28 1493.32 2052.29 1492.63 L2052.29 1488.96 Q2053.87 1489.88 2055.75 1490.35 Q2057.63 1490.82 2059.68 1490.82 Q2063.25 1490.82 2065.12 1489.41 Q2067 1488 2067 1485.31 Q2067 1482.83 2065.25 1481.44 Q2063.52 1480.03 2060.41 1480.03 L2057.14 1480.03 L2057.14 1476.9 L2060.56 1476.9 Q2063.37 1476.9 2064.85 1475.79 Q2066.34 1474.67 2066.34 1472.56 Q2066.34 1470.4 2064.8 1469.25 Q2063.27 1468.08 2060.41 1468.08 Q2058.85 1468.08 2057.07 1468.42 Q2055.28 1468.76 2053.14 1469.48 L2053.14 1466.09 Q2055.3 1465.49 2057.18 1465.19 Q2059.08 1464.89 2060.75 1464.89 Q2065.08 1464.89 2067.6 1466.86 Q2070.12 1468.82 2070.12 1472.16 Q2070.12 1474.5 2068.78 1476.11 Q2067.45 1477.71 2064.98 1478.33 Z\" fill=\"#000000\" fill-rule=\"evenodd\" fill-opacity=\"1\" /><path clip-path=\"url(#clip820)\" d=\"M 0 0 M2077.98 1488.7 L2081.95 1488.7 L2081.95 1493.47 L2077.98 1493.47 L2077.98 1488.7 Z\" fill=\"#000000\" fill-rule=\"evenodd\" fill-opacity=\"1\" /><path clip-path=\"url(#clip820)\" d=\"M 0 0 M2098.82 1477.92 Q2096.26 1477.92 2094.76 1479.67 Q2093.27 1481.42 2093.27 1484.46 Q2093.27 1487.49 2094.76 1489.26 Q2096.26 1491.01 2098.82 1491.01 Q2101.38 1491.01 2102.86 1489.26 Q2104.37 1487.49 2104.37 1484.46 Q2104.37 1481.42 2102.86 1479.67 Q2101.38 1477.92 2098.82 1477.92 M2106.36 1466.01 L2106.36 1469.48 Q2104.93 1468.8 2103.46 1468.44 Q2102.02 1468.08 2100.59 1468.08 Q2096.83 1468.08 2094.83 1470.62 Q2092.86 1473.16 2092.58 1478.3 Q2093.68 1476.66 2095.36 1475.79 Q2097.03 1474.91 2099.05 1474.91 Q2103.28 1474.91 2105.72 1477.49 Q2108.19 1480.05 2108.19 1484.46 Q2108.19 1488.79 2105.63 1491.41 Q2103.07 1494.02 2098.82 1494.02 Q2093.95 1494.02 2091.37 1490.3 Q2088.79 1486.55 2088.79 1479.46 Q2088.79 1472.8 2091.95 1468.85 Q2095.11 1464.89 2100.44 1464.89 Q2101.87 1464.89 2103.31 1465.17 Q2104.78 1465.45 2106.36 1466.01 Z\" fill=\"#000000\" fill-rule=\"evenodd\" fill-opacity=\"1\" /><path clip-path=\"url(#clip820)\" d=\"M 0 0 M1318.46 1561.42 Q1318.46 1561.68 1318.17 1562.68 Q1317.88 1563.67 1317.17 1565.22 Q1316.5 1566.77 1315.56 1568.18 Q1314.63 1569.57 1313.08 1570.6 Q1311.57 1571.6 1309.83 1571.6 Q1307.51 1571.6 1305.97 1570.05 Q1304.42 1568.5 1304.42 1566.19 Q1304.42 1564.9 1305.1 1563.13 Q1309.38 1551.69 1309.38 1547.76 Q1309.38 1543.16 1305.81 1543.16 Q1304.03 1543.16 1302.36 1543.84 Q1300.72 1544.48 1299.59 1545.38 Q1298.46 1546.28 1297.43 1547.54 Q1296.43 1548.76 1295.92 1549.6 Q1295.43 1550.41 1295.05 1551.21 L1294.21 1554.5 Q1294.02 1555.4 1293.08 1558.91 L1291.63 1564.87 Q1290.6 1569.31 1290.38 1569.73 Q1290.06 1570.63 1289.35 1571.11 Q1288.64 1571.6 1287.93 1571.6 Q1287.13 1571.6 1286.58 1571.11 Q1286.03 1570.63 1286.03 1569.79 Q1286.03 1569.66 1286.13 1569.18 Q1286.22 1568.7 1286.38 1568.02 Q1286.55 1567.35 1286.61 1566.96 L1290.44 1551.73 Q1291.15 1548.96 1291.31 1548.09 Q1291.51 1547.18 1291.51 1546.19 Q1291.51 1543.16 1289.44 1543.16 Q1287.77 1543.16 1286.67 1545.16 Q1285.58 1547.15 1284.65 1551.02 Q1284.36 1552.08 1284.16 1552.31 Q1284 1552.53 1283.52 1552.53 Q1282.71 1552.5 1282.71 1551.85 Q1282.71 1551.69 1282.97 1550.63 Q1283.23 1549.57 1283.71 1548.05 Q1284.23 1546.51 1284.71 1545.48 Q1285.13 1544.7 1285.35 1544.35 Q1285.61 1543.96 1286.22 1543.22 Q1286.87 1542.45 1287.71 1542.1 Q1288.57 1541.71 1289.64 1541.71 Q1292.02 1541.71 1293.76 1543.26 Q1295.5 1544.77 1295.72 1547.44 Q1300.01 1541.71 1306 1541.71 Q1309.54 1541.71 1311.57 1543.58 Q1313.6 1545.45 1313.6 1548.76 Q1313.6 1549.54 1313.44 1550.53 Q1313.31 1551.5 1312.99 1552.72 Q1312.7 1553.95 1312.44 1554.88 Q1312.18 1555.82 1311.67 1557.33 Q1311.15 1558.81 1310.93 1559.46 Q1310.7 1560.1 1310.15 1561.61 Q1309.64 1563.09 1309.57 1563.26 Q1308.38 1566.25 1308.38 1567.96 Q1308.38 1569.08 1308.74 1569.6 Q1309.12 1570.12 1309.96 1570.12 Q1312.21 1570.12 1313.89 1567.89 Q1315.6 1565.64 1316.69 1561.97 Q1316.95 1561.16 1317.08 1560.97 Q1317.24 1560.78 1317.69 1560.78 Q1318.46 1560.78 1318.46 1561.42 Z\" fill=\"#000000\" fill-rule=\"evenodd\" fill-opacity=\"1\" /><polyline clip-path=\"url(#clip823)\" style=\"stroke:#000000; stroke-width:2; stroke-opacity:0.1; fill:none\" points=\"\n",
       "  251.842,1162.16 2352.76,1162.16 \n",
       "  \"/>\n",
       "<polyline clip-path=\"url(#clip823)\" style=\"stroke:#000000; stroke-width:2; stroke-opacity:0.1; fill:none\" points=\"\n",
       "  251.842,882.164 2352.76,882.164 \n",
       "  \"/>\n",
       "<polyline clip-path=\"url(#clip823)\" style=\"stroke:#000000; stroke-width:2; stroke-opacity:0.1; fill:none\" points=\"\n",
       "  251.842,602.169 2352.76,602.169 \n",
       "  \"/>\n",
       "<polyline clip-path=\"url(#clip823)\" style=\"stroke:#000000; stroke-width:2; stroke-opacity:0.1; fill:none\" points=\"\n",
       "  251.842,322.174 2352.76,322.174 \n",
       "  \"/>\n",
       "<polyline clip-path=\"url(#clip820)\" style=\"stroke:#000000; stroke-width:4; stroke-opacity:1; fill:none\" points=\"\n",
       "  251.842,1438.68 251.842,123.472 \n",
       "  \"/>\n",
       "<polyline clip-path=\"url(#clip820)\" style=\"stroke:#000000; stroke-width:4; stroke-opacity:1; fill:none\" points=\"\n",
       "  251.842,1162.16 277.053,1162.16 \n",
       "  \"/>\n",
       "<polyline clip-path=\"url(#clip820)\" style=\"stroke:#000000; stroke-width:4; stroke-opacity:1; fill:none\" points=\"\n",
       "  251.842,882.164 277.053,882.164 \n",
       "  \"/>\n",
       "<polyline clip-path=\"url(#clip820)\" style=\"stroke:#000000; stroke-width:4; stroke-opacity:1; fill:none\" points=\"\n",
       "  251.842,602.169 277.053,602.169 \n",
       "  \"/>\n",
       "<polyline clip-path=\"url(#clip820)\" style=\"stroke:#000000; stroke-width:4; stroke-opacity:1; fill:none\" points=\"\n",
       "  251.842,322.174 277.053,322.174 \n",
       "  \"/>\n",
       "<path clip-path=\"url(#clip820)\" d=\"M 0 0 M114.931 1181.95 L122.57 1181.95 L122.57 1155.59 L114.26 1157.25 L114.26 1152.99 L122.524 1151.33 L127.2 1151.33 L127.2 1181.95 L134.839 1181.95 L134.839 1185.89 L114.931 1185.89 L114.931 1181.95 Z\" fill=\"#000000\" fill-rule=\"evenodd\" fill-opacity=\"1\" /><path clip-path=\"url(#clip820)\" d=\"M 0 0 M154.283 1154.4 Q150.672 1154.4 148.843 1157.97 Q147.038 1161.51 147.038 1168.64 Q147.038 1175.75 148.843 1179.31 Q150.672 1182.85 154.283 1182.85 Q157.917 1182.85 159.723 1179.31 Q161.552 1175.75 161.552 1168.64 Q161.552 1161.51 159.723 1157.97 Q157.917 1154.4 154.283 1154.4 M154.283 1150.7 Q160.093 1150.7 163.149 1155.31 Q166.227 1159.89 166.227 1168.64 Q166.227 1177.37 163.149 1181.97 Q160.093 1186.56 154.283 1186.56 Q148.473 1186.56 145.394 1181.97 Q142.339 1177.37 142.339 1168.64 Q142.339 1159.89 145.394 1155.31 Q148.473 1150.7 154.283 1150.7 Z\" fill=\"#000000\" fill-rule=\"evenodd\" fill-opacity=\"1\" /><path clip-path=\"url(#clip820)\" d=\"M 0 0 M166.227 1144.8 L190.339 1144.8 L190.339 1148 L166.227 1148 L166.227 1144.8 Z\" fill=\"#000000\" fill-rule=\"evenodd\" fill-opacity=\"1\" /><path clip-path=\"url(#clip820)\" d=\"M 0 0 M210.05 1143.34 Q212.777 1143.92 214.3 1145.76 Q215.842 1147.6 215.842 1150.31 Q215.842 1154.47 212.984 1156.75 Q210.125 1159.02 204.859 1159.02 Q203.091 1159.02 201.21 1158.66 Q199.348 1158.33 197.354 1157.63 L197.354 1153.96 Q198.934 1154.88 200.815 1155.35 Q202.696 1155.82 204.746 1155.82 Q208.319 1155.82 210.181 1154.41 Q212.062 1153 212.062 1150.31 Q212.062 1147.83 210.313 1146.44 Q208.583 1145.03 205.479 1145.03 L202.207 1145.03 L202.207 1141.91 L205.63 1141.91 Q208.432 1141.91 209.918 1140.8 Q211.404 1139.67 211.404 1137.56 Q211.404 1135.4 209.861 1134.25 Q208.338 1133.09 205.479 1133.09 Q203.918 1133.09 202.132 1133.42 Q200.345 1133.76 198.201 1134.48 L198.201 1131.09 Q200.364 1130.49 202.244 1130.19 Q204.144 1129.89 205.818 1129.89 Q210.144 1129.89 212.664 1131.86 Q215.184 1133.82 215.184 1137.17 Q215.184 1139.5 213.849 1141.12 Q212.513 1142.71 210.05 1143.34 Z\" fill=\"#000000\" fill-rule=\"evenodd\" fill-opacity=\"1\" /><path clip-path=\"url(#clip820)\" d=\"M 0 0 M115.703 901.956 L123.341 901.956 L123.341 875.591 L115.031 877.257 L115.031 872.998 L123.295 871.331 L127.971 871.331 L127.971 901.956 L135.61 901.956 L135.61 905.891 L115.703 905.891 L115.703 901.956 Z\" fill=\"#000000\" fill-rule=\"evenodd\" fill-opacity=\"1\" /><path clip-path=\"url(#clip820)\" d=\"M 0 0 M155.054 874.41 Q151.443 874.41 149.614 877.975 Q147.809 881.516 147.809 888.646 Q147.809 895.753 149.614 899.317 Q151.443 902.859 155.054 902.859 Q158.688 902.859 160.494 899.317 Q162.323 895.753 162.323 888.646 Q162.323 881.516 160.494 877.975 Q158.688 874.41 155.054 874.41 M155.054 870.706 Q160.864 870.706 163.92 875.313 Q166.999 879.896 166.999 888.646 Q166.999 897.373 163.92 901.979 Q160.864 906.563 155.054 906.563 Q149.244 906.563 146.165 901.979 Q143.11 897.373 143.11 888.646 Q143.11 879.896 146.165 875.313 Q149.244 870.706 155.054 870.706 Z\" fill=\"#000000\" fill-rule=\"evenodd\" fill-opacity=\"1\" /><path clip-path=\"url(#clip820)\" d=\"M 0 0 M166.999 864.808 L191.11 864.808 L191.11 868.005 L166.999 868.005 L166.999 864.808 Z\" fill=\"#000000\" fill-rule=\"evenodd\" fill-opacity=\"1\" /><path clip-path=\"url(#clip820)\" d=\"M 0 0 M202.583 875.284 L215.842 875.284 L215.842 878.481 L198.013 878.481 L198.013 875.284 Q200.175 873.046 203.899 869.284 Q207.642 865.504 208.601 864.413 Q210.426 862.363 211.14 860.952 Q211.874 859.523 211.874 858.15 Q211.874 855.912 210.294 854.501 Q208.733 853.09 206.213 853.09 Q204.426 853.09 202.432 853.711 Q200.458 854.332 198.201 855.592 L198.201 851.755 Q200.495 850.834 202.489 850.363 Q204.482 849.893 206.138 849.893 Q210.501 849.893 213.096 852.075 Q215.692 854.257 215.692 857.905 Q215.692 859.636 215.034 861.197 Q214.394 862.739 212.683 864.845 Q212.212 865.391 209.692 868.005 Q207.172 870.6 202.583 875.284 Z\" fill=\"#000000\" fill-rule=\"evenodd\" fill-opacity=\"1\" /><path clip-path=\"url(#clip820)\" d=\"M 0 0 M115.402 621.961 L123.04 621.961 L123.04 595.596 L114.73 597.262 L114.73 593.003 L122.994 591.336 L127.67 591.336 L127.67 621.961 L135.309 621.961 L135.309 625.896 L115.402 625.896 L115.402 621.961 Z\" fill=\"#000000\" fill-rule=\"evenodd\" fill-opacity=\"1\" /><path clip-path=\"url(#clip820)\" d=\"M 0 0 M154.753 594.415 Q151.142 594.415 149.313 597.98 Q147.508 601.522 147.508 608.651 Q147.508 615.758 149.313 619.322 Q151.142 622.864 154.753 622.864 Q158.388 622.864 160.193 619.322 Q162.022 615.758 162.022 608.651 Q162.022 601.522 160.193 597.98 Q158.388 594.415 154.753 594.415 M154.753 590.711 Q160.563 590.711 163.619 595.318 Q166.698 599.901 166.698 608.651 Q166.698 617.378 163.619 621.984 Q160.563 626.568 154.753 626.568 Q148.943 626.568 145.864 621.984 Q142.809 617.378 142.809 608.651 Q142.809 599.901 145.864 595.318 Q148.943 590.711 154.753 590.711 Z\" fill=\"#000000\" fill-rule=\"evenodd\" fill-opacity=\"1\" /><path clip-path=\"url(#clip820)\" d=\"M 0 0 M166.698 584.813 L190.809 584.813 L190.809 588.01 L166.698 588.01 L166.698 584.813 Z\" fill=\"#000000\" fill-rule=\"evenodd\" fill-opacity=\"1\" /><path clip-path=\"url(#clip820)\" d=\"M 0 0 M199.668 595.289 L205.874 595.289 L205.874 573.867 L199.122 575.221 L199.122 571.76 L205.837 570.406 L209.636 570.406 L209.636 595.289 L215.842 595.289 L215.842 598.486 L199.668 598.486 L199.668 595.289 Z\" fill=\"#000000\" fill-rule=\"evenodd\" fill-opacity=\"1\" /><path clip-path=\"url(#clip820)\" d=\"M 0 0 M145.137 341.966 L152.776 341.966 L152.776 315.601 L144.465 317.267 L144.465 313.008 L152.729 311.341 L157.405 311.341 L157.405 341.966 L165.044 341.966 L165.044 345.901 L145.137 345.901 L145.137 341.966 Z\" fill=\"#000000\" fill-rule=\"evenodd\" fill-opacity=\"1\" /><path clip-path=\"url(#clip820)\" d=\"M 0 0 M184.488 314.42 Q180.877 314.42 179.049 317.985 Q177.243 321.527 177.243 328.656 Q177.243 335.763 179.049 339.327 Q180.877 342.869 184.488 342.869 Q188.123 342.869 189.928 339.327 Q191.757 335.763 191.757 328.656 Q191.757 321.527 189.928 317.985 Q188.123 314.42 184.488 314.42 M184.488 310.717 Q190.299 310.717 193.354 315.323 Q196.433 319.906 196.433 328.656 Q196.433 337.383 193.354 341.989 Q190.299 346.573 184.488 346.573 Q178.678 346.573 175.6 341.989 Q172.544 337.383 172.544 328.656 Q172.544 319.906 175.6 315.323 Q178.678 310.717 184.488 310.717 Z\" fill=\"#000000\" fill-rule=\"evenodd\" fill-opacity=\"1\" /><path clip-path=\"url(#clip820)\" d=\"M 0 0 M206.138 292.913 Q203.204 292.913 201.718 295.809 Q200.251 298.687 200.251 304.479 Q200.251 310.253 201.718 313.15 Q203.204 316.027 206.138 316.027 Q209.09 316.027 210.557 313.15 Q212.043 310.253 212.043 304.479 Q212.043 298.687 210.557 295.809 Q209.09 292.913 206.138 292.913 M206.138 289.903 Q210.858 289.903 213.341 293.646 Q215.842 297.37 215.842 304.479 Q215.842 311.57 213.341 315.313 Q210.858 319.037 206.138 319.037 Q201.417 319.037 198.915 315.313 Q196.433 311.57 196.433 304.479 Q196.433 297.37 198.915 293.646 Q201.417 289.903 206.138 289.903 Z\" fill=\"#000000\" fill-rule=\"evenodd\" fill-opacity=\"1\" /><path clip-path=\"url(#clip820)\" d=\"M 0 0 M44.7161 1045.67 L47.5806 1045.67 L47.5806 1072.59 Q53.6281 1072.21 56.8109 1068.96 Q59.9619 1065.69 59.9619 1059.86 Q59.9619 1056.49 59.1344 1053.34 Q58.3069 1050.15 56.6518 1047.03 L62.1899 1047.03 Q63.5267 1050.18 64.227 1053.5 Q64.9272 1056.81 64.9272 1060.21 Q64.9272 1068.74 59.9619 1073.74 Q54.9967 1078.7 46.5303 1078.7 Q37.7774 1078.7 32.6531 1073.99 Q27.4968 1069.25 27.4968 1061.23 Q27.4968 1054.04 32.1438 1049.87 Q36.7589 1045.67 44.7161 1045.67 M42.9973 1051.52 Q38.1912 1051.59 35.3266 1054.23 Q32.4621 1056.84 32.4621 1061.17 Q32.4621 1066.07 35.2312 1069.03 Q38.0002 1071.96 43.0292 1072.4 L42.9973 1051.52 Z\" fill=\"#000000\" fill-rule=\"evenodd\" fill-opacity=\"1\" /><path clip-path=\"url(#clip820)\" d=\"M 0 0 M14.479 1036.05 L14.479 1030.2 L64.0042 1030.2 L64.0042 1036.05 L14.479 1036.05 Z\" fill=\"#000000\" fill-rule=\"evenodd\" fill-opacity=\"1\" /><path clip-path=\"url(#clip820)\" d=\"M 0 0 M46.0847 1001.74 Q46.0847 1008.84 47.7079 1011.58 Q49.3312 1014.31 53.2461 1014.31 Q56.3653 1014.31 58.2114 1012.28 Q60.0256 1010.21 60.0256 1006.68 Q60.0256 1001.81 56.5881 998.877 Q53.1188 995.917 47.3897 995.917 L46.0847 995.917 L46.0847 1001.74 M43.6657 990.061 L64.0042 990.061 L64.0042 995.917 L58.5933 995.917 Q61.8398 997.922 63.3994 1000.91 Q64.9272 1003.91 64.9272 1008.23 Q64.9272 1013.71 61.8716 1016.96 Q58.7843 1020.17 53.6281 1020.17 Q47.6125 1020.17 44.5569 1016.16 Q41.5014 1012.12 41.5014 1004.13 L41.5014 995.917 L40.9285 995.917 Q36.8862 995.917 34.6901 998.591 Q32.4621 1001.23 32.4621 1006.04 Q32.4621 1009.09 33.1941 1011.99 Q33.9262 1014.89 35.3903 1017.56 L29.9795 1017.56 Q28.7381 1014.35 28.1334 1011.32 Q27.4968 1008.3 27.4968 1005.43 Q27.4968 997.7 31.5072 993.88 Q35.5176 990.061 43.6657 990.061 Z\" fill=\"#000000\" fill-rule=\"evenodd\" fill-opacity=\"1\" /><path clip-path=\"url(#clip820)\" d=\"M 0 0 M58.657 972.332 L77.5631 972.332 L77.5631 978.221 L28.3562 978.221 L28.3562 972.332 L33.7671 972.332 Q30.5842 970.486 29.0564 967.685 Q27.4968 964.853 27.4968 960.938 Q27.4968 954.445 32.6531 950.402 Q37.8093 946.328 46.212 946.328 Q54.6147 946.328 59.771 950.402 Q64.9272 954.445 64.9272 960.938 Q64.9272 964.853 63.3994 967.685 Q61.8398 970.486 58.657 972.332 M46.212 952.408 Q39.7508 952.408 36.0905 955.081 Q32.3984 957.723 32.3984 962.37 Q32.3984 967.017 36.0905 969.69 Q39.7508 972.332 46.212 972.332 Q52.6732 972.332 56.3653 969.69 Q60.0256 967.017 60.0256 962.37 Q60.0256 957.723 56.3653 955.081 Q52.6732 952.408 46.212 952.408 Z\" fill=\"#000000\" fill-rule=\"evenodd\" fill-opacity=\"1\" /><path clip-path=\"url(#clip820)\" d=\"M 0 0 M29.4065 913.895 L34.9447 913.895 Q33.6716 916.378 33.035 919.051 Q32.3984 921.725 32.3984 924.589 Q32.3984 928.95 33.7352 931.146 Q35.072 933.31 37.7456 933.31 Q39.7826 933.31 40.9603 931.751 Q42.1061 930.191 43.1565 925.481 L43.6021 923.475 Q44.9389 917.237 47.3897 914.627 Q49.8086 911.985 54.1691 911.985 Q59.1344 911.985 62.0308 915.932 Q64.9272 919.847 64.9272 926.722 Q64.9272 929.587 64.3543 932.706 Q63.8132 935.793 62.6992 939.231 L56.6518 939.231 Q58.3387 935.984 59.198 932.833 Q60.0256 929.682 60.0256 926.595 Q60.0256 922.457 58.6251 920.229 Q57.1929 918.001 54.6147 918.001 Q52.2276 918.001 50.9545 919.624 Q49.6813 921.216 48.5037 926.658 L48.0262 928.695 Q46.8804 934.138 44.5251 936.557 Q42.138 938.976 38.0002 938.976 Q32.9713 938.976 30.2341 935.411 Q27.4968 931.846 27.4968 925.29 Q27.4968 922.043 27.9743 919.179 Q28.4517 916.314 29.4065 913.895 Z\" fill=\"#000000\" fill-rule=\"evenodd\" fill-opacity=\"1\" /><path clip-path=\"url(#clip820)\" d=\"M 0 0 M44.7161 872.168 L47.5806 872.168 L47.5806 899.095 Q53.6281 898.713 56.8109 895.466 Q59.9619 892.188 59.9619 886.363 Q59.9619 882.99 59.1344 879.839 Q58.3069 876.656 56.6518 873.536 L62.1899 873.536 Q63.5267 876.688 64.227 879.998 Q64.9272 883.308 64.9272 886.713 Q64.9272 895.244 59.9619 900.241 Q54.9967 905.206 46.5303 905.206 Q37.7774 905.206 32.6531 900.495 Q27.4968 895.753 27.4968 887.732 Q27.4968 880.539 32.1438 876.369 Q36.7589 872.168 44.7161 872.168 M42.9973 878.024 Q38.1912 878.088 35.3266 880.73 Q32.4621 883.34 32.4621 887.668 Q32.4621 892.57 35.2312 895.53 Q38.0002 898.458 43.0292 898.904 L42.9973 878.024 Z\" fill=\"#000000\" fill-rule=\"evenodd\" fill-opacity=\"1\" /><path clip-path=\"url(#clip820)\" d=\"M 0 0 M33.7671 839.098 L14.479 839.098 L14.479 833.242 L64.0042 833.242 L64.0042 839.098 L58.657 839.098 Q61.8398 840.944 63.3994 843.777 Q64.9272 846.578 64.9272 850.524 Q64.9272 856.986 59.771 861.06 Q54.6147 865.102 46.212 865.102 Q37.8093 865.102 32.6531 861.06 Q27.4968 856.986 27.4968 850.524 Q27.4968 846.578 29.0564 843.777 Q30.5842 840.944 33.7671 839.098 M46.212 859.054 Q52.6732 859.054 56.3653 856.413 Q60.0256 853.739 60.0256 849.092 Q60.0256 844.445 56.3653 841.772 Q52.6732 839.098 46.212 839.098 Q39.7508 839.098 36.0905 841.772 Q32.3984 844.445 32.3984 849.092 Q32.3984 853.739 36.0905 856.413 Q39.7508 859.054 46.212 859.054 Z\" fill=\"#000000\" fill-rule=\"evenodd\" fill-opacity=\"1\" /><path clip-path=\"url(#clip820)\" d=\"M 0 0 M18.2347 794.665 L28.3562 794.665 L28.3562 782.602 L32.9077 782.602 L32.9077 794.665 L52.2594 794.665 Q56.6199 794.665 57.8613 793.488 Q59.1026 792.278 59.1026 788.618 L59.1026 782.602 L64.0042 782.602 L64.0042 788.618 Q64.0042 795.397 61.4897 797.976 Q58.9434 800.554 52.2594 800.554 L32.9077 800.554 L32.9077 804.851 L28.3562 804.851 L28.3562 800.554 L18.2347 800.554 L18.2347 794.665 Z\" fill=\"#000000\" fill-rule=\"evenodd\" fill-opacity=\"1\" /><path clip-path=\"url(#clip820)\" d=\"M 0 0 M28.3562 774.9 L28.3562 769.043 L64.0042 769.043 L64.0042 774.9 L28.3562 774.9 M14.479 774.9 L14.479 769.043 L21.895 769.043 L21.895 774.9 L14.479 774.9 Z\" fill=\"#000000\" fill-rule=\"evenodd\" fill-opacity=\"1\" /><path clip-path=\"url(#clip820)\" d=\"M 0 0 M35.1993 729.035 Q31.2526 726.839 29.3747 723.783 Q27.4968 720.728 27.4968 716.59 Q27.4968 711.02 31.4117 707.996 Q35.2948 704.973 42.4881 704.973 L64.0042 704.973 L64.0042 710.861 L42.679 710.861 Q37.5546 710.861 35.072 712.675 Q32.5894 714.489 32.5894 718.213 Q32.5894 722.765 35.6131 725.406 Q38.6368 728.048 43.8567 728.048 L64.0042 728.048 L64.0042 733.937 L42.679 733.937 Q37.5228 733.937 35.072 735.751 Q32.5894 737.565 32.5894 741.353 Q32.5894 745.84 35.6449 748.482 Q38.6686 751.124 43.8567 751.124 L64.0042 751.124 L64.0042 757.012 L28.3562 757.012 L28.3562 751.124 L33.8944 751.124 Q30.616 749.119 29.0564 746.318 Q27.4968 743.517 27.4968 739.666 Q27.4968 735.783 29.4702 733.077 Q31.4436 730.34 35.1993 729.035 Z\" fill=\"#000000\" fill-rule=\"evenodd\" fill-opacity=\"1\" /><path clip-path=\"url(#clip820)\" d=\"M 0 0 M44.7161 662.8 L47.5806 662.8 L47.5806 689.727 Q53.6281 689.345 56.8109 686.098 Q59.9619 682.82 59.9619 676.995 Q59.9619 673.621 59.1344 670.47 Q58.3069 667.288 56.6518 664.168 L62.1899 664.168 Q63.5267 667.319 64.227 670.63 Q64.9272 673.94 64.9272 677.345 Q64.9272 685.875 59.9619 690.873 Q54.9967 695.838 46.5303 695.838 Q37.7774 695.838 32.6531 691.127 Q27.4968 686.385 27.4968 678.364 Q27.4968 671.171 32.1438 667.001 Q36.7589 662.8 44.7161 662.8 M42.9973 668.656 Q38.1912 668.72 35.3266 671.362 Q32.4621 673.972 32.4621 678.3 Q32.4621 683.202 35.2312 686.162 Q38.0002 689.09 43.0292 689.536 L42.9973 668.656 Z\" fill=\"#000000\" fill-rule=\"evenodd\" fill-opacity=\"1\" /><path clip-path=\"url(#clip820)\" d=\"M 0 0 M14.5426 618.399 Q21.8632 622.664 29.0246 624.733 Q36.186 626.802 43.5384 626.802 Q50.8908 626.802 58.1159 624.733 Q65.3091 622.632 72.5979 618.399 L72.5979 623.492 Q65.1182 628.266 57.8931 630.653 Q50.668 633.008 43.5384 633.008 Q36.4406 633.008 29.2474 630.653 Q22.0542 628.298 14.5426 623.492 L14.5426 618.399 Z\" fill=\"#000000\" fill-rule=\"evenodd\" fill-opacity=\"1\" /><path clip-path=\"url(#clip820)\" d=\"M 0 0 M29.4065 584.311 L34.9447 584.311 Q33.6716 586.793 33.035 589.467 Q32.3984 592.14 32.3984 595.005 Q32.3984 599.365 33.7352 601.562 Q35.072 603.726 37.7456 603.726 Q39.7826 603.726 40.9603 602.166 Q42.1061 600.607 43.1565 595.896 L43.6021 593.891 Q44.9389 587.653 47.3897 585.043 Q49.8086 582.401 54.1691 582.401 Q59.1344 582.401 62.0308 586.348 Q64.9272 590.263 64.9272 597.137 Q64.9272 600.002 64.3543 603.121 Q63.8132 606.209 62.6992 609.646 L56.6518 609.646 Q58.3387 606.4 59.198 603.249 Q60.0256 600.098 60.0256 597.01 Q60.0256 592.872 58.6251 590.644 Q57.1929 588.416 54.6147 588.416 Q52.2276 588.416 50.9545 590.04 Q49.6813 591.631 48.5037 597.074 L48.0262 599.111 Q46.8804 604.554 44.5251 606.973 Q42.138 609.391 38.0002 609.391 Q32.9713 609.391 30.2341 605.827 Q27.4968 602.262 27.4968 595.705 Q27.4968 592.459 27.9743 589.594 Q28.4517 586.73 29.4065 584.311 Z\" fill=\"#000000\" fill-rule=\"evenodd\" fill-opacity=\"1\" /><path clip-path=\"url(#clip820)\" d=\"M 0 0 M44.7161 542.583 L47.5806 542.583 L47.5806 569.51 Q53.6281 569.128 56.8109 565.882 Q59.9619 562.604 59.9619 556.779 Q59.9619 553.405 59.1344 550.254 Q58.3069 547.071 56.6518 543.952 L62.1899 543.952 Q63.5267 547.103 64.227 550.413 Q64.9272 553.723 64.9272 557.129 Q64.9272 565.659 59.9619 570.656 Q54.9967 575.621 46.5303 575.621 Q37.7774 575.621 32.6531 570.911 Q27.4968 566.168 27.4968 558.148 Q27.4968 550.954 32.1438 546.785 Q36.7589 542.583 44.7161 542.583 M42.9973 548.44 Q38.1912 548.504 35.3266 551.145 Q32.4621 553.755 32.4621 558.084 Q32.4621 562.985 35.2312 565.946 Q38.0002 568.874 43.0292 569.319 L42.9973 548.44 Z\" fill=\"#000000\" fill-rule=\"evenodd\" fill-opacity=\"1\" /><path clip-path=\"url(#clip820)\" d=\"M 0 0 M29.7248 507.317 L35.1993 507.317 Q33.8307 509.8 33.1623 512.314 Q32.4621 514.797 32.4621 517.343 Q32.4621 523.041 36.0905 526.192 Q39.6872 529.343 46.212 529.343 Q52.7369 529.343 56.3653 526.192 Q59.9619 523.041 59.9619 517.343 Q59.9619 514.797 59.2935 512.314 Q58.5933 509.8 57.2247 507.317 L62.6355 507.317 Q63.7814 509.768 64.3543 512.41 Q64.9272 515.02 64.9272 517.98 Q64.9272 526.033 59.8664 530.775 Q54.8057 535.517 46.212 535.517 Q37.491 535.517 32.4939 530.743 Q27.4968 525.937 27.4968 517.598 Q27.4968 514.893 28.0697 512.314 Q28.6108 509.736 29.7248 507.317 Z\" fill=\"#000000\" fill-rule=\"evenodd\" fill-opacity=\"1\" /><path clip-path=\"url(#clip820)\" d=\"M 0 0 M14.5426 498.055 L14.5426 492.963 Q22.0542 488.188 29.2474 485.833 Q36.4406 483.446 43.5384 483.446 Q50.668 483.446 57.8931 485.833 Q65.1182 488.188 72.5979 492.963 L72.5979 498.055 Q65.3091 493.822 58.1159 491.753 Q50.8908 489.653 43.5384 489.653 Q36.186 489.653 29.0246 491.753 Q21.8632 493.822 14.5426 498.055 Z\" fill=\"#000000\" fill-rule=\"evenodd\" fill-opacity=\"1\" /><path clip-path=\"url(#clip820)\" d=\"M 0 0 M655.491 12.096 L706.654 12.096 L706.654 18.9825 L685.184 18.9825 L685.184 72.576 L676.961 72.576 L676.961 18.9825 L655.491 18.9825 L655.491 12.096 Z\" fill=\"#000000\" fill-rule=\"evenodd\" fill-opacity=\"1\" /><path clip-path=\"url(#clip820)\" d=\"M 0 0 M711.677 27.2059 L719.131 27.2059 L719.131 72.576 L711.677 72.576 L711.677 27.2059 M711.677 9.54393 L719.131 9.54393 L719.131 18.9825 L711.677 18.9825 L711.677 9.54393 Z\" fill=\"#000000\" fill-rule=\"evenodd\" fill-opacity=\"1\" /><path clip-path=\"url(#clip820)\" d=\"M 0 0 M770.051 35.9153 Q772.846 30.8922 776.735 28.5022 Q780.624 26.1121 785.89 26.1121 Q792.979 26.1121 796.827 31.0947 Q800.676 36.0368 800.676 45.1919 L800.676 72.576 L793.181 72.576 L793.181 45.4349 Q793.181 38.913 790.872 35.7533 Q788.563 32.5936 783.824 32.5936 Q778.031 32.5936 774.669 36.4419 Q771.307 40.2903 771.307 46.9338 L771.307 72.576 L763.812 72.576 L763.812 45.4349 Q763.812 38.8725 761.503 35.7533 Q759.194 32.5936 754.374 32.5936 Q748.662 32.5936 745.3 36.4824 Q741.938 40.3308 741.938 46.9338 L741.938 72.576 L734.443 72.576 L734.443 27.2059 L741.938 27.2059 L741.938 34.2544 Q744.49 30.082 748.054 28.0971 Q751.619 26.1121 756.521 26.1121 Q761.463 26.1121 764.906 28.6237 Q768.39 31.1352 770.051 35.9153 Z\" fill=\"#000000\" fill-rule=\"evenodd\" fill-opacity=\"1\" /><path clip-path=\"url(#clip820)\" d=\"M 0 0 M815.542 27.2059 L822.996 27.2059 L822.996 72.576 L815.542 72.576 L815.542 27.2059 M815.542 9.54393 L822.996 9.54393 L822.996 18.9825 L815.542 18.9825 L815.542 9.54393 Z\" fill=\"#000000\" fill-rule=\"evenodd\" fill-opacity=\"1\" /><path clip-path=\"url(#clip820)\" d=\"M 0 0 M876.306 45.1919 L876.306 72.576 L868.852 72.576 L868.852 45.4349 Q868.852 38.994 866.341 35.7938 Q863.829 32.5936 858.806 32.5936 Q852.77 32.5936 849.287 36.4419 Q845.803 40.2903 845.803 46.9338 L845.803 72.576 L838.309 72.576 L838.309 27.2059 L845.803 27.2059 L845.803 34.2544 Q848.476 30.163 852.082 28.1376 Q855.727 26.1121 860.467 26.1121 Q868.285 26.1121 872.296 30.9732 Q876.306 35.7938 876.306 45.1919 Z\" fill=\"#000000\" fill-rule=\"evenodd\" fill-opacity=\"1\" /><path clip-path=\"url(#clip820)\" d=\"M 0 0 M921.028 49.3643 Q921.028 41.2625 917.666 36.8065 Q914.344 32.3505 908.308 32.3505 Q902.313 32.3505 898.951 36.8065 Q895.629 41.2625 895.629 49.3643 Q895.629 57.4256 898.951 61.8816 Q902.313 66.3376 908.308 66.3376 Q914.344 66.3376 917.666 61.8816 Q921.028 57.4256 921.028 49.3643 M928.482 66.9452 Q928.482 78.5308 923.337 84.1616 Q918.192 89.8329 907.579 89.8329 Q903.65 89.8329 900.166 89.2252 Q896.682 88.6581 893.401 87.4428 L893.401 80.1917 Q896.682 81.9741 899.882 82.8248 Q903.083 83.6755 906.404 83.6755 Q913.736 83.6755 917.382 79.8271 Q921.028 76.0193 921.028 68.282 L921.028 64.5957 Q918.719 68.6061 915.114 70.5911 Q911.508 72.576 906.485 72.576 Q898.14 72.576 893.036 66.2161 Q887.932 59.8562 887.932 49.3643 Q887.932 38.832 893.036 32.472 Q898.14 26.1121 906.485 26.1121 Q911.508 26.1121 915.114 28.0971 Q918.719 30.082 921.028 34.0924 L921.028 27.2059 L928.482 27.2059 L928.482 66.9452 Z\" fill=\"#000000\" fill-rule=\"evenodd\" fill-opacity=\"1\" /><path clip-path=\"url(#clip820)\" d=\"M 0 0 M987.787 32.4315 Q981.792 32.4315 978.308 37.1306 Q974.824 41.7891 974.824 49.9314 Q974.824 58.0738 978.267 62.7728 Q981.751 67.4314 987.787 67.4314 Q993.742 67.4314 997.226 62.7323 Q1000.71 58.0333 1000.71 49.9314 Q1000.71 41.8701 997.226 37.1711 Q993.742 32.4315 987.787 32.4315 M987.787 26.1121 Q997.509 26.1121 1003.06 32.4315 Q1008.61 38.7509 1008.61 49.9314 Q1008.61 61.0714 1003.06 67.4314 Q997.509 73.7508 987.787 73.7508 Q978.024 73.7508 972.475 67.4314 Q966.965 61.0714 966.965 49.9314 Q966.965 38.7509 972.475 32.4315 Q978.024 26.1121 987.787 26.1121 Z\" fill=\"#000000\" fill-rule=\"evenodd\" fill-opacity=\"1\" /><path clip-path=\"url(#clip820)\" d=\"M 0 0 M1043.93 9.54393 L1043.93 15.7418 L1036.8 15.7418 Q1032.79 15.7418 1031.21 17.3622 Q1029.67 18.9825 1029.67 23.1955 L1029.67 27.2059 L1041.95 27.2059 L1041.95 32.9987 L1029.67 32.9987 L1029.67 72.576 L1022.18 72.576 L1022.18 32.9987 L1015.05 32.9987 L1015.05 27.2059 L1022.18 27.2059 L1022.18 24.0462 Q1022.18 16.471 1025.7 13.0277 Q1029.23 9.54393 1036.88 9.54393 L1043.93 9.54393 Z\" fill=\"#000000\" fill-rule=\"evenodd\" fill-opacity=\"1\" /><path clip-path=\"url(#clip820)\" d=\"M 0 0 M1111.87 35.9153 Q1114.66 30.8922 1118.55 28.5022 Q1122.44 26.1121 1127.71 26.1121 Q1134.79 26.1121 1138.64 31.0947 Q1142.49 36.0368 1142.49 45.1919 L1142.49 72.576 L1135 72.576 L1135 45.4349 Q1135 38.913 1132.69 35.7533 Q1130.38 32.5936 1125.64 32.5936 Q1119.85 32.5936 1116.48 36.4419 Q1113.12 40.2903 1113.12 46.9338 L1113.12 72.576 L1105.63 72.576 L1105.63 45.4349 Q1105.63 38.8725 1103.32 35.7533 Q1101.01 32.5936 1096.19 32.5936 Q1090.48 32.5936 1087.12 36.4824 Q1083.75 40.3308 1083.75 46.9338 L1083.75 72.576 L1076.26 72.576 L1076.26 27.2059 L1083.75 27.2059 L1083.75 34.2544 Q1086.3 30.082 1089.87 28.0971 Q1093.43 26.1121 1098.34 26.1121 Q1103.28 26.1121 1106.72 28.6237 Q1110.21 31.1352 1111.87 35.9153 Z\" fill=\"#000000\" fill-rule=\"evenodd\" fill-opacity=\"1\" /><path clip-path=\"url(#clip820)\" d=\"M 0 0 M1177.98 49.7694 Q1168.94 49.7694 1165.46 51.8354 Q1161.98 53.9013 1161.98 58.8839 Q1161.98 62.8538 1164.57 65.2034 Q1167.2 67.5124 1171.7 67.5124 Q1177.9 67.5124 1181.62 63.1374 Q1185.39 58.7219 1185.39 51.4303 L1185.39 49.7694 L1177.98 49.7694 M1192.84 46.6907 L1192.84 72.576 L1185.39 72.576 L1185.39 65.6895 Q1182.84 69.8214 1179.03 71.8063 Q1175.22 73.7508 1169.71 73.7508 Q1162.75 73.7508 1158.61 69.8619 Q1154.52 65.9325 1154.52 59.3701 Q1154.52 51.7138 1159.63 47.825 Q1164.77 43.9361 1174.94 43.9361 L1185.39 43.9361 L1185.39 43.2069 Q1185.39 38.0623 1181.99 35.2672 Q1178.63 32.4315 1172.51 32.4315 Q1168.62 32.4315 1164.93 33.3632 Q1161.25 34.295 1157.84 36.1584 L1157.84 29.2718 Q1161.94 27.692 1165.78 26.9223 Q1169.63 26.1121 1173.28 26.1121 Q1183.12 26.1121 1187.98 31.2163 Q1192.84 36.3204 1192.84 46.6907 Z\" fill=\"#000000\" fill-rule=\"evenodd\" fill-opacity=\"1\" /><path clip-path=\"url(#clip820)\" d=\"M 0 0 M1215.57 14.324 L1215.57 27.2059 L1230.92 27.2059 L1230.92 32.9987 L1215.57 32.9987 L1215.57 57.6282 Q1215.57 63.1779 1217.07 64.7578 Q1218.61 66.3376 1223.27 66.3376 L1230.92 66.3376 L1230.92 72.576 L1223.27 72.576 Q1214.64 72.576 1211.36 69.3758 Q1208.08 66.1351 1208.08 57.6282 L1208.08 32.9987 L1202.61 32.9987 L1202.61 27.2059 L1208.08 27.2059 L1208.08 14.324 L1215.57 14.324 Z\" fill=\"#000000\" fill-rule=\"evenodd\" fill-opacity=\"1\" /><path clip-path=\"url(#clip820)\" d=\"M 0 0 M1267.02 34.1734 Q1265.76 33.4443 1264.26 33.1202 Q1262.8 32.7556 1261.02 32.7556 Q1254.7 32.7556 1251.3 36.8875 Q1247.94 40.9789 1247.94 48.6757 L1247.94 72.576 L1240.44 72.576 L1240.44 27.2059 L1247.94 27.2059 L1247.94 34.2544 Q1250.29 30.1225 1254.05 28.1376 Q1257.82 26.1121 1263.21 26.1121 Q1263.98 26.1121 1264.91 26.2337 Q1265.84 26.3147 1266.98 26.5172 L1267.02 34.1734 Z\" fill=\"#000000\" fill-rule=\"evenodd\" fill-opacity=\"1\" /><path clip-path=\"url(#clip820)\" d=\"M 0 0 M1274.83 27.2059 L1282.29 27.2059 L1282.29 72.576 L1274.83 72.576 L1274.83 27.2059 M1274.83 9.54393 L1282.29 9.54393 L1282.29 18.9825 L1274.83 18.9825 L1274.83 9.54393 Z\" fill=\"#000000\" fill-rule=\"evenodd\" fill-opacity=\"1\" /><path clip-path=\"url(#clip820)\" d=\"M 0 0 M1335.6 27.2059 L1319.19 49.2833 L1336.45 72.576 L1327.66 72.576 L1314.45 54.752 L1301.25 72.576 L1292.46 72.576 L1310.08 48.8377 L1293.95 27.2059 L1302.74 27.2059 L1314.78 43.369 L1326.81 27.2059 L1335.6 27.2059 Z\" fill=\"#000000\" fill-rule=\"evenodd\" fill-opacity=\"1\" /><path clip-path=\"url(#clip820)\" d=\"M 0 0 M1408.68 35.9153 Q1411.47 30.8922 1415.36 28.5022 Q1419.25 26.1121 1424.51 26.1121 Q1431.6 26.1121 1435.45 31.0947 Q1439.3 36.0368 1439.3 45.1919 L1439.3 72.576 L1431.81 72.576 L1431.81 45.4349 Q1431.81 38.913 1429.5 35.7533 Q1427.19 32.5936 1422.45 32.5936 Q1416.66 32.5936 1413.29 36.4419 Q1409.93 40.2903 1409.93 46.9338 L1409.93 72.576 L1402.44 72.576 L1402.44 45.4349 Q1402.44 38.8725 1400.13 35.7533 Q1397.82 32.5936 1393 32.5936 Q1387.29 32.5936 1383.92 36.4824 Q1380.56 40.3308 1380.56 46.9338 L1380.56 72.576 L1373.07 72.576 L1373.07 27.2059 L1380.56 27.2059 L1380.56 34.2544 Q1383.11 30.082 1386.68 28.0971 Q1390.24 26.1121 1395.15 26.1121 Q1400.09 26.1121 1403.53 28.6237 Q1407.02 31.1352 1408.68 35.9153 Z\" fill=\"#000000\" fill-rule=\"evenodd\" fill-opacity=\"1\" /><path clip-path=\"url(#clip820)\" d=\"M 0 0 M1453.4 54.671 L1453.4 27.2059 L1460.85 27.2059 L1460.85 54.3874 Q1460.85 60.8284 1463.36 64.0691 Q1465.87 67.2693 1470.9 67.2693 Q1476.93 67.2693 1480.42 63.421 Q1483.94 59.5726 1483.94 52.9291 L1483.94 27.2059 L1491.4 27.2059 L1491.4 72.576 L1483.94 72.576 L1483.94 65.6084 Q1481.23 69.7404 1477.62 71.7658 Q1474.06 73.7508 1469.32 73.7508 Q1461.5 73.7508 1457.45 68.8897 Q1453.4 64.0286 1453.4 54.671 M1472.15 26.1121 L1472.15 26.1121 Z\" fill=\"#000000\" fill-rule=\"evenodd\" fill-opacity=\"1\" /><path clip-path=\"url(#clip820)\" d=\"M 0 0 M1506.75 9.54393 L1514.2 9.54393 L1514.2 72.576 L1506.75 72.576 L1506.75 9.54393 Z\" fill=\"#000000\" fill-rule=\"evenodd\" fill-opacity=\"1\" /><path clip-path=\"url(#clip820)\" d=\"M 0 0 M1537.17 14.324 L1537.17 27.2059 L1552.52 27.2059 L1552.52 32.9987 L1537.17 32.9987 L1537.17 57.6282 Q1537.17 63.1779 1538.67 64.7578 Q1540.21 66.3376 1544.87 66.3376 L1552.52 66.3376 L1552.52 72.576 L1544.87 72.576 Q1536.24 72.576 1532.96 69.3758 Q1529.68 66.1351 1529.68 57.6282 L1529.68 32.9987 L1524.21 32.9987 L1524.21 27.2059 L1529.68 27.2059 L1529.68 14.324 L1537.17 14.324 Z\" fill=\"#000000\" fill-rule=\"evenodd\" fill-opacity=\"1\" /><path clip-path=\"url(#clip820)\" d=\"M 0 0 M1562.33 27.2059 L1569.78 27.2059 L1569.78 72.576 L1562.33 72.576 L1562.33 27.2059 M1562.33 9.54393 L1569.78 9.54393 L1569.78 18.9825 L1562.33 18.9825 L1562.33 9.54393 Z\" fill=\"#000000\" fill-rule=\"evenodd\" fill-opacity=\"1\" /><path clip-path=\"url(#clip820)\" d=\"M 0 0 M1592.59 65.7705 L1592.59 89.8329 L1585.09 89.8329 L1585.09 27.2059 L1592.59 27.2059 L1592.59 34.0924 Q1594.94 30.0415 1598.5 28.0971 Q1602.11 26.1121 1607.09 26.1121 Q1615.35 26.1121 1620.5 32.6746 Q1625.68 39.2371 1625.68 49.9314 Q1625.68 60.6258 1620.5 67.1883 Q1615.35 73.7508 1607.09 73.7508 Q1602.11 73.7508 1598.5 71.8063 Q1594.94 69.8214 1592.59 65.7705 M1617.95 49.9314 Q1617.95 41.7081 1614.54 37.0496 Q1611.18 32.3505 1605.27 32.3505 Q1599.35 32.3505 1595.95 37.0496 Q1592.59 41.7081 1592.59 49.9314 Q1592.59 58.1548 1595.95 62.8538 Q1599.35 67.5124 1605.27 67.5124 Q1611.18 67.5124 1614.54 62.8538 Q1617.95 58.1548 1617.95 49.9314 Z\" fill=\"#000000\" fill-rule=\"evenodd\" fill-opacity=\"1\" /><path clip-path=\"url(#clip820)\" d=\"M 0 0 M1638.04 9.54393 L1645.49 9.54393 L1645.49 72.576 L1638.04 72.576 L1638.04 9.54393 Z\" fill=\"#000000\" fill-rule=\"evenodd\" fill-opacity=\"1\" /><path clip-path=\"url(#clip820)\" d=\"M 0 0 M1661.09 27.2059 L1668.54 27.2059 L1668.54 72.576 L1661.09 72.576 L1661.09 27.2059 M1661.09 9.54393 L1668.54 9.54393 L1668.54 18.9825 L1661.09 18.9825 L1661.09 9.54393 Z\" fill=\"#000000\" fill-rule=\"evenodd\" fill-opacity=\"1\" /><path clip-path=\"url(#clip820)\" d=\"M 0 0 M1716.79 28.9478 L1716.79 35.9153 Q1713.63 34.1734 1710.43 33.3227 Q1707.27 32.4315 1704.03 32.4315 Q1696.78 32.4315 1692.77 37.0496 Q1688.76 41.6271 1688.76 49.9314 Q1688.76 58.2358 1692.77 62.8538 Q1696.78 67.4314 1704.03 67.4314 Q1707.27 67.4314 1710.43 66.5807 Q1713.63 65.6895 1716.79 63.9476 L1716.79 70.8341 Q1713.67 72.2924 1710.31 73.0216 Q1706.98 73.7508 1703.22 73.7508 Q1692.97 73.7508 1686.93 67.3098 Q1680.9 60.8689 1680.9 49.9314 Q1680.9 38.832 1686.97 32.472 Q1693.09 26.1121 1703.7 26.1121 Q1707.15 26.1121 1710.43 26.8413 Q1713.71 27.5299 1716.79 28.9478 Z\" fill=\"#000000\" fill-rule=\"evenodd\" fill-opacity=\"1\" /><path clip-path=\"url(#clip820)\" d=\"M 0 0 M1750.37 49.7694 Q1741.34 49.7694 1737.85 51.8354 Q1734.37 53.9013 1734.37 58.8839 Q1734.37 62.8538 1736.96 65.2034 Q1739.59 67.5124 1744.09 67.5124 Q1750.29 67.5124 1754.02 63.1374 Q1757.78 58.7219 1757.78 51.4303 L1757.78 49.7694 L1750.37 49.7694 M1765.24 46.6907 L1765.24 72.576 L1757.78 72.576 L1757.78 65.6895 Q1755.23 69.8214 1751.42 71.8063 Q1747.62 73.7508 1742.11 73.7508 Q1735.14 73.7508 1731.01 69.8619 Q1726.91 65.9325 1726.91 59.3701 Q1726.91 51.7138 1732.02 47.825 Q1737.16 43.9361 1747.33 43.9361 L1757.78 43.9361 L1757.78 43.2069 Q1757.78 38.0623 1754.38 35.2672 Q1751.02 32.4315 1744.9 32.4315 Q1741.01 32.4315 1737.33 33.3632 Q1733.64 34.295 1730.24 36.1584 L1730.24 29.2718 Q1734.33 27.692 1738.18 26.9223 Q1742.02 26.1121 1745.67 26.1121 Q1755.51 26.1121 1760.38 31.2163 Q1765.24 36.3204 1765.24 46.6907 Z\" fill=\"#000000\" fill-rule=\"evenodd\" fill-opacity=\"1\" /><path clip-path=\"url(#clip820)\" d=\"M 0 0 M1787.96 14.324 L1787.96 27.2059 L1803.31 27.2059 L1803.31 32.9987 L1787.96 32.9987 L1787.96 57.6282 Q1787.96 63.1779 1789.46 64.7578 Q1791 66.3376 1795.66 66.3376 L1803.31 66.3376 L1803.31 72.576 L1795.66 72.576 Q1787.03 72.576 1783.75 69.3758 Q1780.47 66.1351 1780.47 57.6282 L1780.47 32.9987 L1775 32.9987 L1775 27.2059 L1780.47 27.2059 L1780.47 14.324 L1787.96 14.324 Z\" fill=\"#000000\" fill-rule=\"evenodd\" fill-opacity=\"1\" /><path clip-path=\"url(#clip820)\" d=\"M 0 0 M1813.12 27.2059 L1820.57 27.2059 L1820.57 72.576 L1813.12 72.576 L1813.12 27.2059 M1813.12 9.54393 L1820.57 9.54393 L1820.57 18.9825 L1813.12 18.9825 L1813.12 9.54393 Z\" fill=\"#000000\" fill-rule=\"evenodd\" fill-opacity=\"1\" /><path clip-path=\"url(#clip820)\" d=\"M 0 0 M1853.75 32.4315 Q1847.75 32.4315 1844.27 37.1306 Q1840.79 41.7891 1840.79 49.9314 Q1840.79 58.0738 1844.23 62.7728 Q1847.71 67.4314 1853.75 67.4314 Q1859.7 67.4314 1863.19 62.7323 Q1866.67 58.0333 1866.67 49.9314 Q1866.67 41.8701 1863.19 37.1711 Q1859.7 32.4315 1853.75 32.4315 M1853.75 26.1121 Q1863.47 26.1121 1869.02 32.4315 Q1874.57 38.7509 1874.57 49.9314 Q1874.57 61.0714 1869.02 67.4314 Q1863.47 73.7508 1853.75 73.7508 Q1843.99 73.7508 1838.44 67.4314 Q1832.93 61.0714 1832.93 49.9314 Q1832.93 38.7509 1838.44 32.4315 Q1843.99 26.1121 1853.75 26.1121 Z\" fill=\"#000000\" fill-rule=\"evenodd\" fill-opacity=\"1\" /><path clip-path=\"url(#clip820)\" d=\"M 0 0 M1924.64 45.1919 L1924.64 72.576 L1917.19 72.576 L1917.19 45.4349 Q1917.19 38.994 1914.67 35.7938 Q1912.16 32.5936 1907.14 32.5936 Q1901.1 32.5936 1897.62 36.4419 Q1894.14 40.2903 1894.14 46.9338 L1894.14 72.576 L1886.64 72.576 L1886.64 27.2059 L1894.14 27.2059 L1894.14 34.2544 Q1896.81 30.163 1900.42 28.1376 Q1904.06 26.1121 1908.8 26.1121 Q1916.62 26.1121 1920.63 30.9732 Q1924.64 35.7938 1924.64 45.1919 Z\" fill=\"#000000\" fill-rule=\"evenodd\" fill-opacity=\"1\" /><path clip-path=\"url(#clip820)\" d=\"M 0 0 M1940.56 62.2867 L1949.11 62.2867 L1949.11 72.576 L1940.56 72.576 L1940.56 62.2867 Z\" fill=\"#000000\" fill-rule=\"evenodd\" fill-opacity=\"1\" /><polyline clip-path=\"url(#clip823)\" style=\"stroke:#009af9; stroke-width:4; stroke-opacity:1; fill:none\" points=\"\n",
       "  311.302,1162.55 715.223,1006.36 951.501,879.95 1119.14,748.397 1249.18,743.026 1355.42,669.439 1445.25,640.117 1523.06,606.54 1591.7,562.989 1653.1,537.793 \n",
       "  1708.64,481.752 1759.34,439.805 1805.99,426.088 1849.17,429.78 1889.38,401.623 1926.98,378.963 1962.31,300.08 1995.62,299.257 2027.13,289.978 2057.02,285.394 \n",
       "  2085.45,269.726 2112.56,262.956 2138.46,249.313 2163.26,239.725 2187.05,222.68 2209.91,211.382 2231.9,197.641 2253.09,178.981 2273.54,169.52 2293.3,160.695 \n",
       "  \n",
       "  \"/>\n",
       "<path clip-path=\"url(#clip823)\" d=\"M311.302 1178.55 L299.99 1173.87 L295.302 1162.55 L299.99 1151.24 L311.302 1146.55 L322.614 1151.24 L327.302 1162.55 L322.614 1173.87 Z\" fill=\"#009af9\" fill-rule=\"evenodd\" fill-opacity=\"1\" stroke=\"#000000\" stroke-opacity=\"1\" stroke-width=\"3.2\"/>\n",
       "<path clip-path=\"url(#clip823)\" d=\"M715.223 1022.36 L703.911 1017.67 L699.223 1006.36 L703.911 995.05 L715.223 990.362 L726.535 995.05 L731.223 1006.36 L726.535 1017.67 Z\" fill=\"#009af9\" fill-rule=\"evenodd\" fill-opacity=\"1\" stroke=\"#000000\" stroke-opacity=\"1\" stroke-width=\"3.2\"/>\n",
       "<path clip-path=\"url(#clip823)\" d=\"M951.501 895.95 L940.189 891.262 L935.501 879.95 L940.189 868.638 L951.501 863.95 L962.813 868.638 L967.501 879.95 L962.813 891.262 Z\" fill=\"#009af9\" fill-rule=\"evenodd\" fill-opacity=\"1\" stroke=\"#000000\" stroke-opacity=\"1\" stroke-width=\"3.2\"/>\n",
       "<path clip-path=\"url(#clip823)\" d=\"M1119.14 764.397 L1107.83 759.709 L1103.14 748.397 L1107.83 737.085 L1119.14 732.397 L1130.46 737.085 L1135.14 748.397 L1130.46 759.709 Z\" fill=\"#009af9\" fill-rule=\"evenodd\" fill-opacity=\"1\" stroke=\"#000000\" stroke-opacity=\"1\" stroke-width=\"3.2\"/>\n",
       "<path clip-path=\"url(#clip823)\" d=\"M1249.18 759.026 L1237.86 754.338 L1233.18 743.026 L1237.86 731.714 L1249.18 727.026 L1260.49 731.714 L1265.18 743.026 L1260.49 754.338 Z\" fill=\"#009af9\" fill-rule=\"evenodd\" fill-opacity=\"1\" stroke=\"#000000\" stroke-opacity=\"1\" stroke-width=\"3.2\"/>\n",
       "<path clip-path=\"url(#clip823)\" d=\"M1355.42 685.439 L1344.11 680.751 L1339.42 669.439 L1344.11 658.127 L1355.42 653.439 L1366.73 658.127 L1371.42 669.439 L1366.73 680.751 Z\" fill=\"#009af9\" fill-rule=\"evenodd\" fill-opacity=\"1\" stroke=\"#000000\" stroke-opacity=\"1\" stroke-width=\"3.2\"/>\n",
       "<path clip-path=\"url(#clip823)\" d=\"M1445.25 656.117 L1433.94 651.429 L1429.25 640.117 L1433.94 628.805 L1445.25 624.117 L1456.56 628.805 L1461.25 640.117 L1456.56 651.429 Z\" fill=\"#009af9\" fill-rule=\"evenodd\" fill-opacity=\"1\" stroke=\"#000000\" stroke-opacity=\"1\" stroke-width=\"3.2\"/>\n",
       "<path clip-path=\"url(#clip823)\" d=\"M1523.06 622.54 L1511.75 617.852 L1507.06 606.54 L1511.75 595.228 L1523.06 590.54 L1534.38 595.228 L1539.06 606.54 L1534.38 617.852 Z\" fill=\"#009af9\" fill-rule=\"evenodd\" fill-opacity=\"1\" stroke=\"#000000\" stroke-opacity=\"1\" stroke-width=\"3.2\"/>\n",
       "<path clip-path=\"url(#clip823)\" d=\"M1591.7 578.989 L1580.39 574.301 L1575.7 562.989 L1580.39 551.677 L1591.7 546.989 L1603.01 551.677 L1607.7 562.989 L1603.01 574.301 Z\" fill=\"#009af9\" fill-rule=\"evenodd\" fill-opacity=\"1\" stroke=\"#000000\" stroke-opacity=\"1\" stroke-width=\"3.2\"/>\n",
       "<path clip-path=\"url(#clip823)\" d=\"M1653.1 553.793 L1641.79 549.105 L1637.1 537.793 L1641.79 526.481 L1653.1 521.793 L1664.41 526.481 L1669.1 537.793 L1664.41 549.105 Z\" fill=\"#009af9\" fill-rule=\"evenodd\" fill-opacity=\"1\" stroke=\"#000000\" stroke-opacity=\"1\" stroke-width=\"3.2\"/>\n",
       "<path clip-path=\"url(#clip823)\" d=\"M1708.64 497.752 L1697.33 493.064 L1692.64 481.752 L1697.33 470.44 L1708.64 465.752 L1719.95 470.44 L1724.64 481.752 L1719.95 493.064 Z\" fill=\"#009af9\" fill-rule=\"evenodd\" fill-opacity=\"1\" stroke=\"#000000\" stroke-opacity=\"1\" stroke-width=\"3.2\"/>\n",
       "<path clip-path=\"url(#clip823)\" d=\"M1759.34 455.805 L1748.03 451.117 L1743.34 439.805 L1748.03 428.493 L1759.34 423.805 L1770.65 428.493 L1775.34 439.805 L1770.65 451.117 Z\" fill=\"#009af9\" fill-rule=\"evenodd\" fill-opacity=\"1\" stroke=\"#000000\" stroke-opacity=\"1\" stroke-width=\"3.2\"/>\n",
       "<path clip-path=\"url(#clip823)\" d=\"M1805.99 442.088 L1794.67 437.4 L1789.99 426.088 L1794.67 414.776 L1805.99 410.088 L1817.3 414.776 L1821.99 426.088 L1817.3 437.4 Z\" fill=\"#009af9\" fill-rule=\"evenodd\" fill-opacity=\"1\" stroke=\"#000000\" stroke-opacity=\"1\" stroke-width=\"3.2\"/>\n",
       "<path clip-path=\"url(#clip823)\" d=\"M1849.17 445.78 L1837.86 441.092 L1833.17 429.78 L1837.86 418.468 L1849.17 413.78 L1860.48 418.468 L1865.17 429.78 L1860.48 441.092 Z\" fill=\"#009af9\" fill-rule=\"evenodd\" fill-opacity=\"1\" stroke=\"#000000\" stroke-opacity=\"1\" stroke-width=\"3.2\"/>\n",
       "<path clip-path=\"url(#clip823)\" d=\"M1889.38 417.623 L1878.06 412.935 L1873.38 401.623 L1878.06 390.311 L1889.38 385.623 L1900.69 390.311 L1905.38 401.623 L1900.69 412.935 Z\" fill=\"#009af9\" fill-rule=\"evenodd\" fill-opacity=\"1\" stroke=\"#000000\" stroke-opacity=\"1\" stroke-width=\"3.2\"/>\n",
       "<path clip-path=\"url(#clip823)\" d=\"M1926.98 394.963 L1915.67 390.275 L1910.98 378.963 L1915.67 367.651 L1926.98 362.963 L1938.3 367.651 L1942.98 378.963 L1938.3 390.275 Z\" fill=\"#009af9\" fill-rule=\"evenodd\" fill-opacity=\"1\" stroke=\"#000000\" stroke-opacity=\"1\" stroke-width=\"3.2\"/>\n",
       "<path clip-path=\"url(#clip823)\" d=\"M1962.31 316.08 L1951 311.392 L1946.31 300.08 L1951 288.768 L1962.31 284.08 L1973.62 288.768 L1978.31 300.08 L1973.62 311.392 Z\" fill=\"#009af9\" fill-rule=\"evenodd\" fill-opacity=\"1\" stroke=\"#000000\" stroke-opacity=\"1\" stroke-width=\"3.2\"/>\n",
       "<path clip-path=\"url(#clip823)\" d=\"M1995.62 315.257 L1984.31 310.569 L1979.62 299.257 L1984.31 287.945 L1995.62 283.257 L2006.93 287.945 L2011.62 299.257 L2006.93 310.569 Z\" fill=\"#009af9\" fill-rule=\"evenodd\" fill-opacity=\"1\" stroke=\"#000000\" stroke-opacity=\"1\" stroke-width=\"3.2\"/>\n",
       "<path clip-path=\"url(#clip823)\" d=\"M2027.13 305.978 L2015.82 301.29 L2011.13 289.978 L2015.82 278.666 L2027.13 273.978 L2038.44 278.666 L2043.13 289.978 L2038.44 301.29 Z\" fill=\"#009af9\" fill-rule=\"evenodd\" fill-opacity=\"1\" stroke=\"#000000\" stroke-opacity=\"1\" stroke-width=\"3.2\"/>\n",
       "<path clip-path=\"url(#clip823)\" d=\"M2057.02 301.394 L2045.71 296.706 L2041.02 285.394 L2045.71 274.082 L2057.02 269.394 L2068.33 274.082 L2073.02 285.394 L2068.33 296.706 Z\" fill=\"#009af9\" fill-rule=\"evenodd\" fill-opacity=\"1\" stroke=\"#000000\" stroke-opacity=\"1\" stroke-width=\"3.2\"/>\n",
       "<path clip-path=\"url(#clip823)\" d=\"M2085.45 285.726 L2074.14 281.038 L2069.45 269.726 L2074.14 258.414 L2085.45 253.726 L2096.76 258.414 L2101.45 269.726 L2096.76 281.038 Z\" fill=\"#009af9\" fill-rule=\"evenodd\" fill-opacity=\"1\" stroke=\"#000000\" stroke-opacity=\"1\" stroke-width=\"3.2\"/>\n",
       "<path clip-path=\"url(#clip823)\" d=\"M2112.56 278.956 L2101.25 274.268 L2096.56 262.956 L2101.25 251.644 L2112.56 246.956 L2123.87 251.644 L2128.56 262.956 L2123.87 274.268 Z\" fill=\"#009af9\" fill-rule=\"evenodd\" fill-opacity=\"1\" stroke=\"#000000\" stroke-opacity=\"1\" stroke-width=\"3.2\"/>\n",
       "<path clip-path=\"url(#clip823)\" d=\"M2138.46 265.313 L2127.15 260.625 L2122.46 249.313 L2127.15 238.001 L2138.46 233.313 L2149.77 238.001 L2154.46 249.313 L2149.77 260.625 Z\" fill=\"#009af9\" fill-rule=\"evenodd\" fill-opacity=\"1\" stroke=\"#000000\" stroke-opacity=\"1\" stroke-width=\"3.2\"/>\n",
       "<path clip-path=\"url(#clip823)\" d=\"M2163.26 255.725 L2151.95 251.037 L2147.26 239.725 L2151.95 228.413 L2163.26 223.725 L2174.57 228.413 L2179.26 239.725 L2174.57 251.037 Z\" fill=\"#009af9\" fill-rule=\"evenodd\" fill-opacity=\"1\" stroke=\"#000000\" stroke-opacity=\"1\" stroke-width=\"3.2\"/>\n",
       "<path clip-path=\"url(#clip823)\" d=\"M2187.05 238.68 L2175.74 233.992 L2171.05 222.68 L2175.74 211.368 L2187.05 206.68 L2198.36 211.368 L2203.05 222.68 L2198.36 233.992 Z\" fill=\"#009af9\" fill-rule=\"evenodd\" fill-opacity=\"1\" stroke=\"#000000\" stroke-opacity=\"1\" stroke-width=\"3.2\"/>\n",
       "<path clip-path=\"url(#clip823)\" d=\"M2209.91 227.382 L2198.59 222.694 L2193.91 211.382 L2198.59 200.07 L2209.91 195.382 L2221.22 200.07 L2225.91 211.382 L2221.22 222.694 Z\" fill=\"#009af9\" fill-rule=\"evenodd\" fill-opacity=\"1\" stroke=\"#000000\" stroke-opacity=\"1\" stroke-width=\"3.2\"/>\n",
       "<path clip-path=\"url(#clip823)\" d=\"M2231.9 213.641 L2220.59 208.953 L2215.9 197.641 L2220.59 186.329 L2231.9 181.641 L2243.21 186.329 L2247.9 197.641 L2243.21 208.953 Z\" fill=\"#009af9\" fill-rule=\"evenodd\" fill-opacity=\"1\" stroke=\"#000000\" stroke-opacity=\"1\" stroke-width=\"3.2\"/>\n",
       "<path clip-path=\"url(#clip823)\" d=\"M2253.09 194.981 L2241.78 190.293 L2237.09 178.981 L2241.78 167.669 L2253.09 162.981 L2264.4 167.669 L2269.09 178.981 L2264.4 190.293 Z\" fill=\"#009af9\" fill-rule=\"evenodd\" fill-opacity=\"1\" stroke=\"#000000\" stroke-opacity=\"1\" stroke-width=\"3.2\"/>\n",
       "<path clip-path=\"url(#clip823)\" d=\"M2273.54 185.52 L2262.23 180.832 L2257.54 169.52 L2262.23 158.208 L2273.54 153.52 L2284.85 158.208 L2289.54 169.52 L2284.85 180.832 Z\" fill=\"#009af9\" fill-rule=\"evenodd\" fill-opacity=\"1\" stroke=\"#000000\" stroke-opacity=\"1\" stroke-width=\"3.2\"/>\n",
       "<path clip-path=\"url(#clip823)\" d=\"M2293.3 176.695 L2281.98 172.007 L2277.3 160.695 L2281.98 149.383 L2293.3 144.695 L2304.61 149.383 L2309.3 160.695 L2304.61 172.007 Z\" fill=\"#009af9\" fill-rule=\"evenodd\" fill-opacity=\"1\" stroke=\"#000000\" stroke-opacity=\"1\" stroke-width=\"3.2\"/>\n",
       "<polyline clip-path=\"url(#clip823)\" style=\"stroke:#e26f46; stroke-width:4; stroke-opacity:1; fill:none\" stroke-dasharray=\"16, 10\" points=\"\n",
       "  311.302,1401.45 715.223,1148.59 951.501,1000.68 1119.14,895.733 1249.18,814.33 1355.42,747.819 1445.25,691.585 1523.06,642.872 1591.7,599.905 1653.1,561.469 \n",
       "  1708.64,526.7 1759.34,494.958 1805.99,465.759 1849.17,438.724 1889.38,413.556 1926.98,390.012 1962.31,367.896 1995.62,347.044 2027.13,327.321 2057.02,308.609 \n",
       "  2085.45,290.81 2112.56,273.84 2138.46,257.624 2163.26,242.098 2187.05,227.206 2209.91,212.898 2231.9,199.131 2253.09,185.864 2273.54,173.062 2293.3,160.695 \n",
       "  \n",
       "  \"/>\n",
       "<path clip-path=\"url(#clip820)\" d=\"\n",
       "M321.873 348.752 L678.133 348.752 L678.133 167.312 L321.873 167.312  Z\n",
       "  \" fill=\"#ffffff\" fill-rule=\"evenodd\" fill-opacity=\"1\"/>\n",
       "<polyline clip-path=\"url(#clip820)\" style=\"stroke:#000000; stroke-width:4; stroke-opacity:1; fill:none\" points=\"\n",
       "  321.873,348.752 678.133,348.752 678.133,167.312 321.873,167.312 321.873,348.752 \n",
       "  \"/>\n",
       "<polyline clip-path=\"url(#clip820)\" style=\"stroke:#009af9; stroke-width:4; stroke-opacity:1; fill:none\" points=\"\n",
       "  345.216,227.792 485.277,227.792 \n",
       "  \"/>\n",
       "<path clip-path=\"url(#clip820)\" d=\"M415.247 253.392 L397.148 245.891 L389.647 227.792 L397.148 209.693 L415.247 202.192 L433.346 209.693 L440.847 227.792 L433.346 245.891 Z\" fill=\"#009af9\" fill-rule=\"evenodd\" fill-opacity=\"1\" stroke=\"#000000\" stroke-opacity=\"1\" stroke-width=\"5.12\"/>\n",
       "<path clip-path=\"url(#clip820)\" d=\"M 0 0 M527.533 223.082 L527.533 209.054 L531.792 209.054 L531.792 245.072 L527.533 245.072 L527.533 241.183 Q526.19 243.498 524.13 244.632 Q522.093 245.744 519.222 245.744 Q514.523 245.744 511.56 241.994 Q508.621 238.244 508.621 232.133 Q508.621 226.021 511.56 222.271 Q514.523 218.522 519.222 218.522 Q522.093 218.522 524.13 219.656 Q526.19 220.767 527.533 223.082 M513.019 232.133 Q513.019 236.832 514.94 239.517 Q516.885 242.179 520.264 242.179 Q523.644 242.179 525.588 239.517 Q527.533 236.832 527.533 232.133 Q527.533 227.433 525.588 224.771 Q523.644 222.086 520.264 222.086 Q516.885 222.086 514.94 224.771 Q513.019 227.433 513.019 232.133 Z\" fill=\"#000000\" fill-rule=\"evenodd\" fill-opacity=\"1\" /><path clip-path=\"url(#clip820)\" d=\"M 0 0 M552.347 232.04 Q547.185 232.04 545.195 233.221 Q543.204 234.401 543.204 237.248 Q543.204 239.517 544.685 240.859 Q546.19 242.179 548.759 242.179 Q552.301 242.179 554.431 239.679 Q556.583 237.156 556.583 232.989 L556.583 232.04 L552.347 232.04 M560.843 230.281 L560.843 245.072 L556.583 245.072 L556.583 241.137 Q555.125 243.498 552.949 244.632 Q550.773 245.744 547.625 245.744 Q543.644 245.744 541.283 243.521 Q538.945 241.276 538.945 237.526 Q538.945 233.151 541.861 230.929 Q544.801 228.707 550.611 228.707 L556.583 228.707 L556.583 228.29 Q556.583 225.35 554.639 223.753 Q552.718 222.133 549.222 222.133 Q547 222.133 544.894 222.665 Q542.787 223.197 540.843 224.262 L540.843 220.327 Q543.181 219.424 545.38 218.984 Q547.579 218.522 549.662 218.522 Q555.287 218.522 558.065 221.438 Q560.843 224.355 560.843 230.281 Z\" fill=\"#000000\" fill-rule=\"evenodd\" fill-opacity=\"1\" /><path clip-path=\"url(#clip820)\" d=\"M 0 0 M573.829 211.785 L573.829 219.147 L582.602 219.147 L582.602 222.457 L573.829 222.457 L573.829 236.531 Q573.829 239.702 574.685 240.605 Q575.565 241.507 578.227 241.507 L582.602 241.507 L582.602 245.072 L578.227 245.072 Q573.296 245.072 571.421 243.244 Q569.546 241.392 569.546 236.531 L569.546 222.457 L566.421 222.457 L566.421 219.147 L569.546 219.147 L569.546 211.785 L573.829 211.785 Z\" fill=\"#000000\" fill-rule=\"evenodd\" fill-opacity=\"1\" /><path clip-path=\"url(#clip820)\" d=\"M 0 0 M599.986 232.04 Q594.824 232.04 592.833 233.221 Q590.842 234.401 590.842 237.248 Q590.842 239.517 592.324 240.859 Q593.829 242.179 596.398 242.179 Q599.94 242.179 602.069 239.679 Q604.222 237.156 604.222 232.989 L604.222 232.04 L599.986 232.04 M608.481 230.281 L608.481 245.072 L604.222 245.072 L604.222 241.137 Q602.764 243.498 600.588 244.632 Q598.412 245.744 595.264 245.744 Q591.282 245.744 588.921 243.521 Q586.583 241.276 586.583 237.526 Q586.583 233.151 589.5 230.929 Q592.44 228.707 598.25 228.707 L604.222 228.707 L604.222 228.29 Q604.222 225.35 602.278 223.753 Q600.356 222.133 596.861 222.133 Q594.639 222.133 592.532 222.665 Q590.426 223.197 588.481 224.262 L588.481 220.327 Q590.819 219.424 593.018 218.984 Q595.217 218.522 597.301 218.522 Q602.926 218.522 605.704 221.438 Q608.481 224.355 608.481 230.281 Z\" fill=\"#000000\" fill-rule=\"evenodd\" fill-opacity=\"1\" /><polyline clip-path=\"url(#clip820)\" style=\"stroke:#e26f46; stroke-width:4; stroke-opacity:1; fill:none\" stroke-dasharray=\"16, 10\" points=\"\n",
       "  345.216,288.272 485.277,288.272 \n",
       "  \"/>\n",
       "<path clip-path=\"url(#clip820)\" d=\"M 0 0 M541.787 280.029 Q541.787 283.379 540.592 286.704 Q539.421 290.007 537.36 292.724 Q535.299 295.441 532.676 297.549 Q530.052 299.657 526.984 300.828 Q523.916 301.999 520.917 301.999 Q515.601 301.999 512.111 298.509 Q508.621 295.019 508.621 289.187 Q508.621 285.112 510.448 281.06 Q512.275 276.984 515.179 273.963 Q518.083 270.918 521.901 269.021 Q525.742 267.123 529.537 267.123 Q534.924 267.123 538.344 270.707 Q541.787 274.267 541.787 280.029 M537.501 278.155 Q537.501 275.579 536.774 273.635 Q536.048 271.667 534.83 270.543 Q533.636 269.419 532.207 268.88 Q530.802 268.318 529.256 268.318 Q526.258 268.318 523.049 270.262 Q519.84 272.206 517.451 275.813 Q516.163 277.781 515.226 280.146 Q514.289 282.488 513.867 284.573 Q513.446 286.634 513.258 288.086 Q513.094 289.539 513.094 290.546 Q513.094 295.23 515.343 297.994 Q517.591 300.758 521.199 300.758 Q524.033 300.758 526.797 299.095 Q529.56 297.409 531.458 294.996 Q533.144 292.911 534.385 290.405 Q535.65 287.899 536.283 285.604 Q536.915 283.308 537.196 281.458 Q537.501 279.607 537.501 278.155 Z\" fill=\"#000000\" fill-rule=\"evenodd\" fill-opacity=\"1\" /><path clip-path=\"url(#clip820)\" d=\"M 0 0 M544.849 288.953 Q544.849 280.849 547.87 274.314 Q549.158 271.574 550.962 269.278 Q552.766 266.983 553.96 265.976 Q555.155 264.968 555.483 264.968 Q555.951 264.968 555.974 265.437 Q555.974 265.671 555.342 266.257 Q547.613 274.127 547.636 288.953 Q547.636 303.826 555.155 311.392 Q555.974 312.212 555.974 312.469 Q555.974 312.938 555.483 312.938 Q555.155 312.938 554.007 311.977 Q552.859 311.017 551.079 308.815 Q549.299 306.614 548.011 303.92 Q544.849 297.385 544.849 288.953 Z\" fill=\"#000000\" fill-rule=\"evenodd\" fill-opacity=\"1\" /><path clip-path=\"url(#clip820)\" d=\"M 0 0 M589.263 294.083 Q589.263 294.27 589.052 294.996 Q588.842 295.722 588.326 296.846 Q587.834 297.971 587.155 299.001 Q586.476 300.008 585.352 300.758 Q584.251 301.484 582.986 301.484 Q581.3 301.484 580.175 300.36 Q579.051 299.235 579.051 297.549 Q579.051 296.612 579.543 295.324 Q582.658 287.009 582.658 284.151 Q582.658 280.802 580.058 280.802 Q578.77 280.802 577.552 281.294 Q576.357 281.762 575.538 282.418 Q574.718 283.074 573.968 283.987 Q573.242 284.878 572.867 285.487 Q572.516 286.072 572.235 286.658 L571.626 289.047 Q571.486 289.703 570.806 292.256 L569.752 296.589 Q569.003 299.821 568.839 300.126 Q568.605 300.781 568.089 301.133 Q567.574 301.484 567.059 301.484 Q566.473 301.484 566.075 301.133 Q565.677 300.781 565.677 300.172 Q565.677 300.079 565.747 299.727 Q565.817 299.376 565.934 298.884 Q566.052 298.392 566.098 298.111 L568.886 287.032 Q569.401 285.018 569.518 284.386 Q569.659 283.73 569.659 283.004 Q569.659 280.802 568.16 280.802 Q566.942 280.802 566.145 282.254 Q565.349 283.706 564.67 286.517 Q564.459 287.29 564.318 287.454 Q564.201 287.618 563.85 287.618 Q563.264 287.595 563.264 287.126 Q563.264 287.009 563.452 286.236 Q563.639 285.463 563.99 284.362 Q564.365 283.238 564.716 282.488 Q565.021 281.926 565.185 281.669 Q565.372 281.388 565.817 280.849 Q566.286 280.287 566.895 280.029 Q567.527 279.748 568.3 279.748 Q570.033 279.748 571.298 280.872 Q572.563 281.973 572.727 283.917 Q575.842 279.748 580.199 279.748 Q582.775 279.748 584.251 281.107 Q585.726 282.465 585.726 284.878 Q585.726 285.44 585.609 286.166 Q585.516 286.868 585.281 287.759 Q585.071 288.649 584.883 289.328 Q584.696 290.007 584.321 291.108 Q583.946 292.185 583.782 292.654 Q583.618 293.122 583.22 294.223 Q582.845 295.301 582.799 295.418 Q581.932 297.596 581.932 298.837 Q581.932 299.657 582.19 300.032 Q582.471 300.407 583.08 300.407 Q584.719 300.407 585.937 298.79 Q587.179 297.151 587.975 294.481 Q588.162 293.895 588.256 293.755 Q588.373 293.614 588.701 293.614 Q589.263 293.614 589.263 294.083 Z\" fill=\"#000000\" fill-rule=\"evenodd\" fill-opacity=\"1\" /><path clip-path=\"url(#clip820)\" d=\"M 0 0 M594.119 281.347 Q594.119 280.347 594.692 279.872 Q595.266 279.396 596.004 279.396 Q596.775 279.396 597.316 279.905 Q597.873 280.397 597.873 281.265 Q597.873 282.2 597.217 282.725 Q596.578 283.249 595.66 283.118 Q596.463 284.463 597.939 285.069 Q599.431 285.676 600.808 285.676 Q602.251 285.676 603.415 284.43 Q604.595 283.184 604.595 280.134 Q604.595 277.544 603.579 276.052 Q602.579 274.56 600.595 274.56 L599.119 274.56 Q598.611 274.56 598.463 274.51 Q598.316 274.461 598.316 274.183 Q598.316 273.855 598.824 273.789 Q599.332 273.789 600.136 273.691 Q602.087 273.625 603.12 271.936 Q604.054 270.362 604.054 268.116 Q604.054 266.067 603.071 265.214 Q602.103 264.345 600.841 264.345 Q599.66 264.345 598.365 264.837 Q597.07 265.329 596.365 266.427 Q598.447 266.427 598.447 268.116 Q598.447 268.854 597.972 269.346 Q597.513 269.821 596.742 269.821 Q596.004 269.821 595.512 269.362 Q595.02 268.887 595.02 268.083 Q595.02 266.165 596.726 264.837 Q598.447 263.509 600.972 263.509 Q603.464 263.509 605.3 264.821 Q607.153 266.132 607.153 268.149 Q607.153 270.133 605.842 271.756 Q604.53 273.379 602.448 274.051 Q605.005 274.56 606.53 276.298 Q608.055 278.019 608.055 280.134 Q608.055 282.757 605.989 284.692 Q603.923 286.61 600.906 286.61 Q598.119 286.61 596.119 285.102 Q594.119 283.594 594.119 281.347 Z\" fill=\"#000000\" fill-rule=\"evenodd\" fill-opacity=\"1\" /><path clip-path=\"url(#clip820)\" d=\"M 0 0 M613.031 312.469 Q613.031 312.235 613.64 311.649 Q621.369 303.779 621.369 288.953 Q621.369 274.08 613.944 266.561 Q613.031 265.695 613.031 265.437 Q613.031 264.968 613.499 264.968 Q613.827 264.968 614.975 265.929 Q616.146 266.889 617.903 269.091 Q619.683 271.293 620.994 273.986 Q624.156 280.521 624.156 288.953 Q624.156 297.057 621.135 303.592 Q619.847 306.332 618.043 308.628 Q616.24 310.923 615.045 311.93 Q613.851 312.938 613.499 312.938 Q613.031 312.938 613.031 312.469 Z\" fill=\"#000000\" fill-rule=\"evenodd\" fill-opacity=\"1\" /></svg>\n"
      ]
     },
     "execution_count": 9,
     "metadata": {},
     "output_type": "execute_result"
    }
   ],
   "source": [
    "mat_sizes = 200:200:6000;\n",
    "mps = [@elapsed randn(n,n)*randn(n,n) for n in mat_sizes];\n",
    "plot(mat_sizes,mps,m=:o,\n",
    "    xaxis=(:log10,\"\\$n\\$\"),yaxis=(:log10,\"elapsed time (sec)\"),\n",
    "    title=\"Timing of matrix multiplication.\",label=\"data\",leg=false)\n",
    "plot!(mat_sizes,mps[end].*(mat_sizes/mat_sizes[end]).^3,l=:dash,\n",
    "    label=\"\\$O(n^3)\\$\",legend=:topleft)"
   ]
  },
  {
   "cell_type": "markdown",
   "metadata": {},
   "source": [
    "The previous plot provides experimental evidence that matrix multiplication is $\\mathcal{O}(n^3)$."
   ]
  },
  {
   "cell_type": "markdown",
   "metadata": {},
   "source": [
    "## FLOP Counts for Solving Linear Systems"
   ]
  },
  {
   "cell_type": "markdown",
   "metadata": {},
   "source": [
    "We will now examine the FLOP counts for back and forward substitution and LU factorization. We state the results in this notebook and derive them on the board. A very helpful fact that is worth remebering is that\n",
    "\n",
    "$\\sum_{k=1}^{n}k^p \\sim \\frac{n^{p+1}}{p+1} = \\mathcal{O}(n^{p+1}),\\ \\text{as}\\  n\\rightarrow \\infty$.\n",
    "\n",
    "This says that when you add up Consecutively the $p$-th powers of the first $n$ positive integers, the result is $\\mathcal{O}(n^{p+1})$. (This formula should remind you of the antiderivative for power functions.)"
   ]
  },
  {
   "cell_type": "markdown",
   "metadata": {},
   "source": [
    "**Result:**\n",
    "\n",
    "1) Back and forward substitution are each $\\sim n^2$ FLOPs.\n",
    "\n",
    "2) LU factorization is asymptotic with $\\frac{2}{3}n^3$.\n",
    "\n",
    "3) The cost of solve a system of linear equations using LU factorization together with back and forward solve is $\\mathcal{O}(n^3)$. (This follows from points 1 and 2.)\n",
    "\n",
    "4) The cost to invert a square matrix is asymptotic with $\\frac{8}{3}n^3$. (This is a homework problem.)"
   ]
  },
  {
   "cell_type": "markdown",
   "metadata": {},
   "source": [
    "## Pivoting"
   ]
  },
  {
   "cell_type": "markdown",
   "metadata": {},
   "source": [
    "As we have presented LU factorization, there is a stability issue. We will demonstrate this by way of an example. "
   ]
  },
  {
   "cell_type": "code",
   "execution_count": 10,
   "metadata": {},
   "outputs": [],
   "source": [
    "A = [2 0 4 3; -2 0 2 -13; 1 15 2 -4.5;-4 5 -7 -10];\n",
    "b = [4,40.0,29,9];"
   ]
  },
  {
   "cell_type": "code",
   "execution_count": 11,
   "metadata": {},
   "outputs": [],
   "source": [
    "L,U = NumericalAnalysis.lufact(A);"
   ]
  },
  {
   "cell_type": "code",
   "execution_count": 12,
   "metadata": {},
   "outputs": [
    {
     "data": {
      "text/plain": [
       "4×4 Matrix{Float64}:\n",
       "  1.0   0.0    0.0  0.0\n",
       " -1.0   1.0    0.0  0.0\n",
       "  0.5  Inf     1.0  0.0\n",
       " -2.0  Inf   NaN    1.0"
      ]
     },
     "execution_count": 12,
     "metadata": {},
     "output_type": "execute_result"
    }
   ],
   "source": [
    "L"
   ]
  },
  {
   "cell_type": "code",
   "execution_count": 13,
   "metadata": {},
   "outputs": [
    {
     "data": {
      "text/plain": [
       "4×4 Matrix{Float64}:\n",
       " 2.0  0.0    4.0    3.0\n",
       " 0.0  0.0    6.0  -10.0\n",
       " 0.0  0.0  -Inf    Inf\n",
       " 0.0  0.0    0.0  NaN"
      ]
     },
     "execution_count": 13,
     "metadata": {},
     "output_type": "execute_result"
    }
   ],
   "source": [
    "U"
   ]
  },
  {
   "cell_type": "code",
   "execution_count": 14,
   "metadata": {},
   "outputs": [
    {
     "data": {
      "text/plain": [
       "4×4 Matrix{Float64}:\n",
       "   0.0    0.0  NaN  NaN\n",
       "   0.0    0.0  NaN  NaN\n",
       " NaN    NaN    NaN  NaN\n",
       " NaN    NaN    NaN  NaN"
      ]
     },
     "execution_count": 14,
     "metadata": {},
     "output_type": "execute_result"
    }
   ],
   "source": [
    "L*U - A"
   ]
  },
  {
   "cell_type": "markdown",
   "metadata": {},
   "source": [
    "**Question:** What has happened here? \n",
    "\n",
    "Notice what happens if we use the Julia backslash operator to try to solve the system $Ax=b$."
   ]
  },
  {
   "cell_type": "code",
   "execution_count": 15,
   "metadata": {},
   "outputs": [
    {
     "data": {
      "text/plain": [
       "4-element Vector{Float64}:\n",
       " -3.0000000000000138\n",
       "  1.000000000000001\n",
       "  4.000000000000004\n",
       " -1.9999999999999973"
      ]
     },
     "execution_count": 15,
     "metadata": {},
     "output_type": "execute_result"
    }
   ],
   "source": [
    "x = A\\b"
   ]
  },
  {
   "cell_type": "code",
   "execution_count": 16,
   "metadata": {},
   "outputs": [
    {
     "data": {
      "text/plain": [
       "4-element Vector{Float64}:\n",
       "  2.6645352591003757e-15\n",
       "  0.0\n",
       "  0.0\n",
       " -3.552713678800501e-15"
      ]
     },
     "execution_count": 16,
     "metadata": {},
     "output_type": "execute_result"
    }
   ],
   "source": [
    "b - A*x"
   ]
  },
  {
   "cell_type": "markdown",
   "metadata": {},
   "source": [
    "The backslash operator solve the system with no problems even though LU facorization fails. Furthermore, look at what happens when we use the `lu` function in the `LinearAlgebra.jl` package: "
   ]
  },
  {
   "cell_type": "code",
   "execution_count": 17,
   "metadata": {},
   "outputs": [],
   "source": [
    "L,U = lu(A);"
   ]
  },
  {
   "cell_type": "code",
   "execution_count": 18,
   "metadata": {},
   "outputs": [
    {
     "data": {
      "text/plain": [
       "4×4 Matrix{Float64}:\n",
       "  1.0    0.0       0.0        0.0\n",
       " -0.25   1.0       0.0        0.0\n",
       "  0.5   -0.153846  1.0        0.0\n",
       " -0.5    0.153846  0.0833333  1.0"
      ]
     },
     "execution_count": 18,
     "metadata": {},
     "output_type": "execute_result"
    }
   ],
   "source": [
    "L"
   ]
  },
  {
   "cell_type": "code",
   "execution_count": 19,
   "metadata": {},
   "outputs": [
    {
     "data": {
      "text/plain": [
       "4×4 Matrix{Float64}:\n",
       " -4.0   5.0   -7.0      -10.0\n",
       "  0.0  16.25   0.25      -7.0\n",
       "  0.0   0.0    5.53846   -9.07692\n",
       "  0.0   0.0    0.0       -0.166667"
      ]
     },
     "execution_count": 19,
     "metadata": {},
     "output_type": "execute_result"
    }
   ],
   "source": [
    "U"
   ]
  },
  {
   "cell_type": "markdown",
   "metadata": {},
   "source": [
    "This seems to work but $LU$ does not give back $A$:"
   ]
  },
  {
   "cell_type": "code",
   "execution_count": 20,
   "metadata": {},
   "outputs": [
    {
     "data": {
      "text/plain": [
       "4×4 Matrix{Float64}:\n",
       " -4.0   5.0          -7.0  -10.0\n",
       "  1.0  15.0           2.0   -4.5\n",
       " -2.0  -1.38778e-16   2.0  -13.0\n",
       "  2.0   1.38778e-16   4.0    3.0"
      ]
     },
     "execution_count": 20,
     "metadata": {},
     "output_type": "execute_result"
    }
   ],
   "source": [
    "L*U"
   ]
  },
  {
   "cell_type": "code",
   "execution_count": 21,
   "metadata": {},
   "outputs": [
    {
     "data": {
      "text/plain": [
       "4×4 Matrix{Float64}:\n",
       "  2.0   0.0   4.0    3.0\n",
       " -2.0   0.0   2.0  -13.0\n",
       "  1.0  15.0   2.0   -4.5\n",
       " -4.0   5.0  -7.0  -10.0"
      ]
     },
     "execution_count": 21,
     "metadata": {},
     "output_type": "execute_result"
    }
   ],
   "source": [
    "A"
   ]
  },
  {
   "cell_type": "markdown",
   "metadata": {},
   "source": [
    "$LU$ returns a permuted version of $A$. This is because the `lu` function implements pivoting in order to stabilize the LU factorization. We can see this further as follows:"
   ]
  },
  {
   "cell_type": "code",
   "execution_count": 22,
   "metadata": {},
   "outputs": [],
   "source": [
    "L,U,P = lu(A);"
   ]
  },
  {
   "cell_type": "code",
   "execution_count": 23,
   "metadata": {},
   "outputs": [
    {
     "data": {
      "text/plain": [
       "4×4 Matrix{Float64}:\n",
       "  1.0    0.0       0.0        0.0\n",
       " -0.25   1.0       0.0        0.0\n",
       "  0.5   -0.153846  1.0        0.0\n",
       " -0.5    0.153846  0.0833333  1.0"
      ]
     },
     "execution_count": 23,
     "metadata": {},
     "output_type": "execute_result"
    }
   ],
   "source": [
    "L"
   ]
  },
  {
   "cell_type": "code",
   "execution_count": 24,
   "metadata": {},
   "outputs": [
    {
     "data": {
      "text/plain": [
       "4×4 Matrix{Float64}:\n",
       " -4.0   5.0   -7.0      -10.0\n",
       "  0.0  16.25   0.25      -7.0\n",
       "  0.0   0.0    5.53846   -9.07692\n",
       "  0.0   0.0    0.0       -0.166667"
      ]
     },
     "execution_count": 24,
     "metadata": {},
     "output_type": "execute_result"
    }
   ],
   "source": [
    "U"
   ]
  },
  {
   "cell_type": "code",
   "execution_count": 25,
   "metadata": {},
   "outputs": [
    {
     "data": {
      "text/plain": [
       "4-element Vector{Int64}:\n",
       " 4\n",
       " 3\n",
       " 2\n",
       " 1"
      ]
     },
     "execution_count": 25,
     "metadata": {},
     "output_type": "execute_result"
    }
   ],
   "source": [
    "P"
   ]
  },
  {
   "cell_type": "markdown",
   "metadata": {},
   "source": [
    "Now observe:"
   ]
  },
  {
   "cell_type": "code",
   "execution_count": 26,
   "metadata": {},
   "outputs": [
    {
     "data": {
      "text/plain": [
       "4×4 Matrix{Float64}:\n",
       " -4.0   5.0  -7.0  -10.0\n",
       "  1.0  15.0   2.0   -4.5\n",
       " -2.0   0.0   2.0  -13.0\n",
       "  2.0   0.0   4.0    3.0"
      ]
     },
     "execution_count": 26,
     "metadata": {},
     "output_type": "execute_result"
    }
   ],
   "source": [
    "A[P,:]"
   ]
  },
  {
   "cell_type": "code",
   "execution_count": 27,
   "metadata": {},
   "outputs": [
    {
     "data": {
      "text/plain": [
       "4×4 Matrix{Float64}:\n",
       " -4.0   5.0          -7.0  -10.0\n",
       "  1.0  15.0           2.0   -4.5\n",
       " -2.0  -1.38778e-16   2.0  -13.0\n",
       "  2.0   1.38778e-16   4.0    3.0"
      ]
     },
     "execution_count": 27,
     "metadata": {},
     "output_type": "execute_result"
    }
   ],
   "source": [
    "L*U"
   ]
  },
  {
   "cell_type": "markdown",
   "metadata": {},
   "source": [
    "In the next lecture we will explain pivoting in more detail. You might want to watch the video lecture on [pivoting](https://www.youtube.com/watch?v=mmoliBMaaQs&list=PLvUvOH0OYx3BcZivtXMIwP6hKoYv0YvGn&index=10&t=3s) before the next lecture. Let's end by seeing how we can use the permuted version of LU factorization to solve a linear system. "
   ]
  },
  {
   "cell_type": "markdown",
   "metadata": {},
   "source": [
    "Suppose we want to solve $Ax=b$. LU with pivoting returns a factorization such that $LU=PA$, where $P$ is the appropriate permutation matrix. From this, we can see that $Ax=b \\Rightarrow LU=PAx=Pb$, so we can still apply our forward and back substitution algorithms to permutated LU, we just need to also permute the right hand side vector $b$. Let's see an example. "
   ]
  },
  {
   "cell_type": "code",
   "execution_count": 28,
   "metadata": {},
   "outputs": [],
   "source": [
    "A = [2 0 4 3; -2 0 2 -13; 1 15 2 -4.5;-4 5 -7 -10];\n",
    "b = [4,40.0,29,9];"
   ]
  },
  {
   "cell_type": "code",
   "execution_count": 29,
   "metadata": {},
   "outputs": [
    {
     "data": {
      "text/plain": [
       "4-element Vector{Float64}:\n",
       " -3.000000000000014\n",
       "  1.0000000000000009\n",
       "  4.000000000000004\n",
       " -1.9999999999999973"
      ]
     },
     "execution_count": 29,
     "metadata": {},
     "output_type": "execute_result"
    }
   ],
   "source": [
    "L,U,P = lu(A);\n",
    "Pb = b[P];\n",
    "y = NumericalAnalysis.forwardsub(L,Pb);\n",
    "x = NumericalAnalysis.backsub(U,y)"
   ]
  },
  {
   "cell_type": "markdown",
   "metadata": {},
   "source": [
    "This should give (approximately) the same result as the backslash operator:"
   ]
  },
  {
   "cell_type": "code",
   "execution_count": 30,
   "metadata": {},
   "outputs": [
    {
     "data": {
      "text/plain": [
       "4-element Vector{Float64}:\n",
       " -3.0000000000000138\n",
       "  1.000000000000001\n",
       "  4.000000000000004\n",
       " -1.9999999999999973"
      ]
     },
     "execution_count": 30,
     "metadata": {},
     "output_type": "execute_result"
    }
   ],
   "source": [
    "A\\b"
   ]
  }
 ],
 "metadata": {
  "kernelspec": {
   "display_name": "Julia 1.6.1",
   "language": "julia",
   "name": "julia-1.6"
  },
  "language_info": {
   "file_extension": ".jl",
   "mimetype": "application/julia",
   "name": "julia",
   "version": "1.6.1"
  }
 },
 "nbformat": 4,
 "nbformat_minor": 4
}
