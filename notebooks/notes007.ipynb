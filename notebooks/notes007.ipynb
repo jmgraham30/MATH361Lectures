{
 "cells": [
  {
   "cell_type": "code",
   "execution_count": 1,
   "metadata": {
    "slideshow": {
     "slide_type": "slide"
    }
   },
   "outputs": [],
   "source": [
    "using DrWatson;\n",
    "@quickactivate \"MATH361Lectures\"\n",
    "using LinearAlgebra, DataFrames, Plots;\n",
    "import MATH361Lectures;"
   ]
  },
  {
   "cell_type": "markdown",
   "metadata": {
    "slideshow": {
     "slide_type": "slide"
    }
   },
   "source": [
    "# Efficieny of Matrix Computations"
   ]
  },
  {
   "cell_type": "markdown",
   "metadata": {
    "slideshow": {
     "slide_type": "slide"
    }
   },
   "source": [
    "In this lecture, we will consider the efficiency of matrix computations such as forward and back substitution, and LU factorization. The lecture video on [operation counts](https://www.youtube.com/watch?v=FGfDHLpfkZo&list=PLvUvOH0OYx3BcZivtXMIwP6hKoYv0YvGn&index=9) compliments these notes. "
   ]
  },
  {
   "cell_type": "markdown",
   "metadata": {
    "slideshow": {
     "slide_type": "slide"
    }
   },
   "source": [
    "It is not really practical to try to predict exactly how long it will take a particular algorithm to solve a given problem even though this would be nice to know. On the other hand, it is fairly straightforward to obtain a good estimate of how the work required by an algorithm scales with the size of the problem. It should seem intuitively obvious that a larger linear system will require more work to solve than a smaller one will. Furthermore, you would probably guess that the amount of work will increase in a systematic way as the size of the problem increases.  "
   ]
  },
  {
   "cell_type": "markdown",
   "metadata": {
    "slideshow": {
     "slide_type": "slide"
    }
   },
   "source": [
    "The way that numerical analysts and computer scientists typically measure the work required to run a numerical algorithm is by counting the number of floating point operations ([FLOP](https://en.wikipedia.org/wiki/FLOPS)) required to compute with the algorithm. If you know about how long it takes to perform a floating point operation, then you can also compute the number of floating point operations per second (FLOPS).   "
   ]
  },
  {
   "cell_type": "markdown",
   "metadata": {
    "slideshow": {
     "slide_type": "slide"
    }
   },
   "source": [
    "## Asymptotic Estimation"
   ]
  },
  {
   "cell_type": "markdown",
   "metadata": {
    "slideshow": {
     "slide_type": "slide"
    }
   },
   "source": [
    "For two functions $f$ and $g$, we say that $f$ is \"[big-O](https://en.wikipedia.org/wiki/Big_O_notation)\" of $g$, and write $f = \\mathcal{O}(g)$,  if there exists a constant $C$ and an input value $x_{0}$ such $|f(x)| \\leq C|g(x)|$ for all $x\\geq x_{0}$. Notice that if $f = \\mathcal{O}(g)$, then \n",
    "\n",
    "$\\lim_{x\\rightarrow \\infty}\\frac{|f(x)|}{|g(x)|} \\leq C$. \n",
    "\n",
    "Likewise, if there is a positive constant $C$ such that \n",
    "\n",
    "$\\lim_{x\\rightarrow \\infty}\\frac{|f(x)|}{|g(x)|} = C$,\n",
    "\n",
    "then we must have that $f = \\mathcal{O}(g)$."
   ]
  },
  {
   "cell_type": "markdown",
   "metadata": {
    "slideshow": {
     "slide_type": "slide"
    }
   },
   "source": [
    "Furthermore, we say that a function $f$ is **asymptotic** to a function $g$, and write $f \\sim g$, if \n",
    "\n",
    "$\\lim_{x\\rightarrow \\infty}\\frac{|f(x)|}{|g(x)|} = 1$.\n",
    "\n",
    "Obviously $f \\sim g$ imples $f = \\mathcal{O}(g)$ but not necessarily the other way around.  "
   ]
  },
  {
   "cell_type": "markdown",
   "metadata": {
    "slideshow": {
     "slide_type": "slide"
    }
   },
   "source": [
    "**Example:**\n",
    "\n",
    "Let $f(x) = 3x^2 + 2x + 8$, and let $g(x) = 6x^2$. We have that \n",
    "\n",
    "$\\lim_{x \\rightarrow \\infty}\\frac{f(x)}{g(x)} = \\lim_{x \\rightarrow \\infty}\\frac{3x^2 + 2x + 8}{6x^2} = \\lim_{x \\rightarrow \\infty}\\frac{1 + \\frac{2}{3x} + \\frac{8}{3x^2}}{2} = \\frac{1}{2}$,\n",
    "\n",
    "so $f=\\mathcal{O}(g)$. "
   ]
  },
  {
   "cell_type": "markdown",
   "metadata": {
    "slideshow": {
     "slide_type": "slide"
    }
   },
   "source": [
    "More generally, if $f(x) = a_{n}x^{n}+a_{n-1}x^{n-1}+\\cdots +a_{1}x+a_{0}$ and $g=b_{n}x^{n}$ where both $a_{n}$ and $b_{n}$ are positive then $f=\\mathcal{O}(g)$ and $f\\sim g$ if and only if $\\frac{a_{n}}{b_{n}}=1$. "
   ]
  },
  {
   "cell_type": "markdown",
   "metadata": {
    "slideshow": {
     "slide_type": "slide"
    }
   },
   "source": [
    "One can also derive that if $f(x) = \\sin\\left(\\frac{1}{x}\\right)$, $g(x) = \\frac{1}{x}$, and $h(x) = \\frac{1}{x^2}$, then $f\\sim g$ but $f \\neq \\mathcal{O}(h)$."
   ]
  },
  {
   "cell_type": "markdown",
   "metadata": {
    "slideshow": {
     "slide_type": "slide"
    }
   },
   "source": [
    "## FLOP Counts"
   ]
  },
  {
   "cell_type": "markdown",
   "metadata": {
    "slideshow": {
     "slide_type": "slide"
    }
   },
   "source": [
    "When we compute, a single instance of any of the addition, subtraction, multiplication, or division of two numbers is considered one floating point operation (FLOP). In numerical linear algebra, one uses FLOP counts to assess the \"cost\" of the algorithm. Let's look at a very simple example.  "
   ]
  },
  {
   "cell_type": "markdown",
   "metadata": {
    "slideshow": {
     "slide_type": "slide"
    }
   },
   "source": [
    "Suppose that we want to compute the dot product of two vectors $x = \\left[\\begin{array}{cccc} x_{1} & x_{2} & \\cdots & x_{n}  \\end{array}\\right]^T$ and $y = \\left[\\begin{array}{cccc} y_{1} & y_{2} & \\cdots & y_{n}  \\end{array}\\right]^T$, recall this is defined to be\n",
    "\n",
    "$x\\cdot y = x_{1}y_{1} + x_{2}y_{2} + \\cdots + x_{n}y_{n} = \\sum_{i=1}^{n}x_{i}y_{i}$."
   ]
  },
  {
   "cell_type": "markdown",
   "metadata": {
    "slideshow": {
     "slide_type": "slide"
    }
   },
   "source": [
    "In terms of the  of **mathematical** operations in the definition of the dot product, there are $n$ multiplications and $n-1$ additions for a total of $n + (n-1) = 2n-1$ operations. It is important to realize however that a numerical algorithm might perform a different number of floating point operations than appear in an abstract mathematical definition. For example, the next function named `mydotproduct` implements a computer algorithm for computing the dot product. "
   ]
  },
  {
   "cell_type": "code",
   "execution_count": 2,
   "metadata": {
    "slideshow": {
     "slide_type": "slide"
    }
   },
   "outputs": [
    {
     "data": {
      "text/plain": [
       "mydotproduct (generic function with 1 method)"
      ]
     },
     "execution_count": 2,
     "metadata": {},
     "output_type": "execute_result"
    }
   ],
   "source": [
    "function mydotproduct(x,y)\n",
    "    n = length(x);\n",
    "    z = 0.0;\n",
    "    for i=1:n # loop n times\n",
    "        z = z + x[i]*y[i]; # 1 addition + 1 multiplication = 2 operations\n",
    "    end \n",
    "    return z\n",
    "end"
   ]
  },
  {
   "cell_type": "code",
   "execution_count": 3,
   "metadata": {
    "slideshow": {
     "slide_type": "slide"
    }
   },
   "outputs": [
    {
     "data": {
      "text/plain": [
       "7.0"
      ]
     },
     "execution_count": 3,
     "metadata": {},
     "output_type": "execute_result"
    }
   ],
   "source": [
    "# An example use of mydotproduct\n",
    "x = [1.0,1.0,2.0];\n",
    "y = [-1.0,2.0,3.0];\n",
    "z = mydotproduct(x,y)"
   ]
  },
  {
   "cell_type": "markdown",
   "metadata": {
    "slideshow": {
     "slide_type": "slide"
    }
   },
   "source": [
    "Compare this last result with what we get when we use the `dot` function in Julia."
   ]
  },
  {
   "cell_type": "code",
   "execution_count": 4,
   "metadata": {
    "slideshow": {
     "slide_type": "slide"
    }
   },
   "outputs": [
    {
     "data": {
      "text/plain": [
       "7.0"
      ]
     },
     "execution_count": 4,
     "metadata": {},
     "output_type": "execute_result"
    }
   ],
   "source": [
    "dot(x,y)"
   ]
  },
  {
   "cell_type": "markdown",
   "metadata": {
    "slideshow": {
     "slide_type": "slide"
    }
   },
   "source": [
    "Each time through the loop we carry out two floating point operations and we go through the loop $n$ times for a total of $2n$ FLOPs. **Note:** the extra operation really comes from the need to store the result. Furthermore, since the first time through the loop we are really adding zero we could ignore the initial addition. However, the result produces the same asymptotic estimate since both $2n$ and $2n-1$ are $\\mathcal{O}(n)$.  "
   ]
  },
  {
   "cell_type": "markdown",
   "metadata": {
    "slideshow": {
     "slide_type": "slide"
    }
   },
   "source": [
    "In Julia, we can use the `@elapsed` macro to see how long it takes for a program to run. Let's compute this time for the dot product algorithm for several different sizes of vectors. "
   ]
  },
  {
   "cell_type": "code",
   "execution_count": 5,
   "metadata": {
    "slideshow": {
     "slide_type": "slide"
    }
   },
   "outputs": [
    {
     "data": {
      "text/html": [
       "<div class=\"data-frame\"><p>10 rows × 2 columns</p><table class=\"data-frame\"><thead><tr><th></th><th>size</th><th>time</th></tr><tr><th></th><th title=\"Int64\">Int64</th><th title=\"Float64\">Float64</th></tr></thead><tbody><tr><th>1</th><td>400</td><td>1.63e-5</td></tr><tr><th>2</th><td>800</td><td>4.1e-5</td></tr><tr><th>3</th><td>1200</td><td>8.7e-6</td></tr><tr><th>4</th><td>1600</td><td>9.3e-6</td></tr><tr><th>5</th><td>2000</td><td>1.28e-5</td></tr><tr><th>6</th><td>2400</td><td>1.31e-5</td></tr><tr><th>7</th><td>2800</td><td>1.42e-5</td></tr><tr><th>8</th><td>3200</td><td>1.59e-5</td></tr><tr><th>9</th><td>3600</td><td>1.9e-5</td></tr><tr><th>10</th><td>4000</td><td>1.94e-5</td></tr></tbody></table></div>"
      ],
      "text/latex": [
       "\\begin{tabular}{r|cc}\n",
       "\t& size & time\\\\\n",
       "\t\\hline\n",
       "\t& Int64 & Float64\\\\\n",
       "\t\\hline\n",
       "\t1 & 400 & 1.63e-5 \\\\\n",
       "\t2 & 800 & 4.1e-5 \\\\\n",
       "\t3 & 1200 & 8.7e-6 \\\\\n",
       "\t4 & 1600 & 9.3e-6 \\\\\n",
       "\t5 & 2000 & 1.28e-5 \\\\\n",
       "\t6 & 2400 & 1.31e-5 \\\\\n",
       "\t7 & 2800 & 1.42e-5 \\\\\n",
       "\t8 & 3200 & 1.59e-5 \\\\\n",
       "\t9 & 3600 & 1.9e-5 \\\\\n",
       "\t10 & 4000 & 1.94e-5 \\\\\n",
       "\\end{tabular}\n"
      ],
      "text/plain": [
       "\u001b[1m10×2 DataFrame\u001b[0m\n",
       "\u001b[1m Row \u001b[0m│\u001b[1m size  \u001b[0m\u001b[1m time    \u001b[0m\n",
       "\u001b[1m     \u001b[0m│\u001b[90m Int64 \u001b[0m\u001b[90m Float64 \u001b[0m\n",
       "─────┼────────────────\n",
       "   1 │   400  1.63e-5\n",
       "   2 │   800  4.1e-5\n",
       "   3 │  1200  8.7e-6\n",
       "   4 │  1600  9.3e-6\n",
       "   5 │  2000  1.28e-5\n",
       "   6 │  2400  1.31e-5\n",
       "   7 │  2800  1.42e-5\n",
       "   8 │  3200  1.59e-5\n",
       "   9 │  3600  1.9e-5\n",
       "  10 │  4000  1.94e-5"
      ]
     },
     "execution_count": 5,
     "metadata": {},
     "output_type": "execute_result"
    }
   ],
   "source": [
    "vect_sizes = 400:400:16000;\n",
    "dps = [@elapsed mydotproduct(randn(n),randn(n)) for n in vect_sizes];\n",
    "results = DataFrame(size=vect_sizes,time=dps);\n",
    "first(results,10)"
   ]
  },
  {
   "cell_type": "code",
   "execution_count": 6,
   "metadata": {
    "slideshow": {
     "slide_type": "slide"
    }
   },
   "outputs": [
    {
     "data": {
      "text/html": [
       "<div class=\"data-frame\"><p>10 rows × 2 columns</p><table class=\"data-frame\"><thead><tr><th></th><th>size</th><th>time</th></tr><tr><th></th><th title=\"Int64\">Int64</th><th title=\"Float64\">Float64</th></tr></thead><tbody><tr><th>1</th><td>12400</td><td>9.27e-5</td></tr><tr><th>2</th><td>12800</td><td>7.81e-5</td></tr><tr><th>3</th><td>13200</td><td>6.94e-5</td></tr><tr><th>4</th><td>13600</td><td>6.5e-5</td></tr><tr><th>5</th><td>14000</td><td>0.0001635</td></tr><tr><th>6</th><td>14400</td><td>0.0001165</td></tr><tr><th>7</th><td>14800</td><td>0.0001648</td></tr><tr><th>8</th><td>15200</td><td>0.0001277</td></tr><tr><th>9</th><td>15600</td><td>0.0001156</td></tr><tr><th>10</th><td>16000</td><td>0.0001194</td></tr></tbody></table></div>"
      ],
      "text/latex": [
       "\\begin{tabular}{r|cc}\n",
       "\t& size & time\\\\\n",
       "\t\\hline\n",
       "\t& Int64 & Float64\\\\\n",
       "\t\\hline\n",
       "\t1 & 12400 & 9.27e-5 \\\\\n",
       "\t2 & 12800 & 7.81e-5 \\\\\n",
       "\t3 & 13200 & 6.94e-5 \\\\\n",
       "\t4 & 13600 & 6.5e-5 \\\\\n",
       "\t5 & 14000 & 0.0001635 \\\\\n",
       "\t6 & 14400 & 0.0001165 \\\\\n",
       "\t7 & 14800 & 0.0001648 \\\\\n",
       "\t8 & 15200 & 0.0001277 \\\\\n",
       "\t9 & 15600 & 0.0001156 \\\\\n",
       "\t10 & 16000 & 0.0001194 \\\\\n",
       "\\end{tabular}\n"
      ],
      "text/plain": [
       "\u001b[1m10×2 DataFrame\u001b[0m\n",
       "\u001b[1m Row \u001b[0m│\u001b[1m size  \u001b[0m\u001b[1m time      \u001b[0m\n",
       "\u001b[1m     \u001b[0m│\u001b[90m Int64 \u001b[0m\u001b[90m Float64   \u001b[0m\n",
       "─────┼──────────────────\n",
       "   1 │ 12400  9.27e-5\n",
       "   2 │ 12800  7.81e-5\n",
       "   3 │ 13200  6.94e-5\n",
       "   4 │ 13600  6.5e-5\n",
       "   5 │ 14000  0.0001635\n",
       "   6 │ 14400  0.0001165\n",
       "   7 │ 14800  0.0001648\n",
       "   8 │ 15200  0.0001277\n",
       "   9 │ 15600  0.0001156\n",
       "  10 │ 16000  0.0001194"
      ]
     },
     "execution_count": 6,
     "metadata": {},
     "output_type": "execute_result"
    }
   ],
   "source": [
    "last(results,10)"
   ]
  },
  {
   "cell_type": "code",
   "execution_count": 7,
   "metadata": {
    "slideshow": {
     "slide_type": "slide"
    }
   },
   "outputs": [
    {
     "data": {
      "image/svg+xml": [
       "<?xml version=\"1.0\" encoding=\"utf-8\"?>\n",
       "<svg xmlns=\"http://www.w3.org/2000/svg\" xmlns:xlink=\"http://www.w3.org/1999/xlink\" width=\"600\" height=\"400\" viewBox=\"0 0 2400 1600\">\n",
       "<defs>\n",
       "  <clipPath id=\"clip000\">\n",
       "    <rect x=\"0\" y=\"0\" width=\"2400\" height=\"1600\"/>\n",
       "  </clipPath>\n",
       "</defs>\n",
       "<path clip-path=\"url(#clip000)\" d=\"\n",
       "M0 1600 L2400 1600 L2400 0 L0 0  Z\n",
       "  \" fill=\"#ffffff\" fill-rule=\"evenodd\" fill-opacity=\"1\"/>\n",
       "<defs>\n",
       "  <clipPath id=\"clip001\">\n",
       "    <rect x=\"480\" y=\"0\" width=\"1681\" height=\"1600\"/>\n",
       "  </clipPath>\n",
       "</defs>\n",
       "<path clip-path=\"url(#clip000)\" d=\"\n",
       "M252.764 1438.68 L2352.76 1438.68 L2352.76 123.472 L252.764 123.472  Z\n",
       "  \" fill=\"#ffffff\" fill-rule=\"evenodd\" fill-opacity=\"1\"/>\n",
       "<defs>\n",
       "  <clipPath id=\"clip002\">\n",
       "    <rect x=\"252\" y=\"123\" width=\"2101\" height=\"1316\"/>\n",
       "  </clipPath>\n",
       "</defs>\n",
       "<polyline clip-path=\"url(#clip002)\" style=\"stroke:#000000; stroke-linecap:butt; stroke-linejoin:round; stroke-width:2; stroke-opacity:0.1; fill:none\" points=\"\n",
       "  804.295,1438.68 804.295,123.472 \n",
       "  \"/>\n",
       "<polyline clip-path=\"url(#clip002)\" style=\"stroke:#000000; stroke-linecap:butt; stroke-linejoin:round; stroke-width:2; stroke-opacity:0.1; fill:none\" points=\"\n",
       "  2040.91,1438.68 2040.91,123.472 \n",
       "  \"/>\n",
       "<polyline clip-path=\"url(#clip000)\" style=\"stroke:#000000; stroke-linecap:butt; stroke-linejoin:round; stroke-width:4; stroke-opacity:1; fill:none\" points=\"\n",
       "  252.764,1438.68 2352.76,1438.68 \n",
       "  \"/>\n",
       "<polyline clip-path=\"url(#clip000)\" style=\"stroke:#000000; stroke-linecap:butt; stroke-linejoin:round; stroke-width:4; stroke-opacity:1; fill:none\" points=\"\n",
       "  804.295,1438.68 804.295,1422.89 \n",
       "  \"/>\n",
       "<polyline clip-path=\"url(#clip000)\" style=\"stroke:#000000; stroke-linecap:butt; stroke-linejoin:round; stroke-width:4; stroke-opacity:1; fill:none\" points=\"\n",
       "  2040.91,1438.68 2040.91,1422.89 \n",
       "  \"/>\n",
       "<path clip-path=\"url(#clip000)\" d=\"M769.738 1516.95 L777.377 1516.95 L777.377 1490.58 L769.067 1492.25 L769.067 1487.99 L777.331 1486.32 L782.007 1486.32 L782.007 1516.95 L789.645 1516.95 L789.645 1520.88 L769.738 1520.88 L769.738 1516.95 Z\" fill=\"#000000\" fill-rule=\"evenodd\" fill-opacity=\"1\" /><path clip-path=\"url(#clip000)\" d=\"M809.09 1489.4 Q805.479 1489.4 803.65 1492.97 Q801.844 1496.51 801.844 1503.64 Q801.844 1510.75 803.65 1514.31 Q805.479 1517.85 809.09 1517.85 Q812.724 1517.85 814.53 1514.31 Q816.358 1510.75 816.358 1503.64 Q816.358 1496.51 814.53 1492.97 Q812.724 1489.4 809.09 1489.4 M809.09 1485.7 Q814.9 1485.7 817.955 1490.31 Q821.034 1494.89 821.034 1503.64 Q821.034 1512.37 817.955 1516.97 Q814.9 1521.56 809.09 1521.56 Q803.28 1521.56 800.201 1516.97 Q797.145 1512.37 797.145 1503.64 Q797.145 1494.89 800.201 1490.31 Q803.28 1485.7 809.09 1485.7 Z\" fill=\"#000000\" fill-rule=\"evenodd\" fill-opacity=\"1\" /><path clip-path=\"url(#clip000)\" d=\"M833.729 1478.33 Q836.457 1478.92 837.98 1480.76 Q839.522 1482.6 839.522 1485.31 Q839.522 1489.47 836.663 1491.74 Q833.805 1494.02 828.538 1494.02 Q826.771 1494.02 824.89 1493.66 Q823.028 1493.32 821.034 1492.63 L821.034 1488.96 Q822.614 1489.88 824.495 1490.35 Q826.376 1490.82 828.426 1490.82 Q831.999 1490.82 833.861 1489.41 Q835.742 1488 835.742 1485.31 Q835.742 1482.83 833.993 1481.44 Q832.262 1480.03 829.159 1480.03 L825.887 1480.03 L825.887 1476.9 L829.31 1476.9 Q832.112 1476.9 833.598 1475.79 Q835.084 1474.67 835.084 1472.56 Q835.084 1470.4 833.541 1469.25 Q832.018 1468.08 829.159 1468.08 Q827.598 1468.08 825.811 1468.42 Q824.025 1468.76 821.881 1469.48 L821.881 1466.09 Q824.043 1465.49 825.924 1465.19 Q827.824 1464.89 829.498 1464.89 Q833.823 1464.89 836.344 1466.86 Q838.864 1468.82 838.864 1472.16 Q838.864 1474.5 837.529 1476.11 Q836.193 1477.71 833.729 1478.33 Z\" fill=\"#000000\" fill-rule=\"evenodd\" fill-opacity=\"1\" /><path clip-path=\"url(#clip000)\" d=\"M2005.36 1516.95 L2013 1516.95 L2013 1490.58 L2004.69 1492.25 L2004.69 1487.99 L2012.95 1486.32 L2017.63 1486.32 L2017.63 1516.95 L2025.27 1516.95 L2025.27 1520.88 L2005.36 1520.88 L2005.36 1516.95 Z\" fill=\"#000000\" fill-rule=\"evenodd\" fill-opacity=\"1\" /><path clip-path=\"url(#clip000)\" d=\"M2044.71 1489.4 Q2041.1 1489.4 2039.27 1492.97 Q2037.47 1496.51 2037.47 1503.64 Q2037.47 1510.75 2039.27 1514.31 Q2041.1 1517.85 2044.71 1517.85 Q2048.35 1517.85 2050.15 1514.31 Q2051.98 1510.75 2051.98 1503.64 Q2051.98 1496.51 2050.15 1492.97 Q2048.35 1489.4 2044.71 1489.4 M2044.71 1485.7 Q2050.52 1485.7 2053.58 1490.31 Q2056.66 1494.89 2056.66 1503.64 Q2056.66 1512.37 2053.58 1516.97 Q2050.52 1521.56 2044.71 1521.56 Q2038.9 1521.56 2035.82 1516.97 Q2032.77 1512.37 2032.77 1503.64 Q2032.77 1494.89 2035.82 1490.31 Q2038.9 1485.7 2044.71 1485.7 Z\" fill=\"#000000\" fill-rule=\"evenodd\" fill-opacity=\"1\" /><path clip-path=\"url(#clip000)\" d=\"M2069.33 1468.7 L2059.74 1483.69 L2069.33 1483.69 L2069.33 1468.7 M2068.34 1465.39 L2073.11 1465.39 L2073.11 1483.69 L2077.12 1483.69 L2077.12 1486.85 L2073.11 1486.85 L2073.11 1493.47 L2069.33 1493.47 L2069.33 1486.85 L2056.66 1486.85 L2056.66 1483.19 L2068.34 1465.39 Z\" fill=\"#000000\" fill-rule=\"evenodd\" fill-opacity=\"1\" /><path clip-path=\"url(#clip000)\" d=\"M1318.92 1561.42 Q1318.92 1561.68 1318.63 1562.68 Q1318.34 1563.67 1317.63 1565.22 Q1316.96 1566.77 1316.02 1568.18 Q1315.09 1569.57 1313.54 1570.6 Q1312.03 1571.6 1310.29 1571.6 Q1307.97 1571.6 1306.43 1570.05 Q1304.88 1568.5 1304.88 1566.19 Q1304.88 1564.9 1305.56 1563.13 Q1309.84 1551.69 1309.84 1547.76 Q1309.84 1543.16 1306.27 1543.16 Q1304.49 1543.16 1302.82 1543.84 Q1301.18 1544.48 1300.05 1545.38 Q1298.92 1546.28 1297.89 1547.54 Q1296.89 1548.76 1296.38 1549.6 Q1295.9 1550.41 1295.51 1551.21 L1294.67 1554.5 Q1294.48 1555.4 1293.54 1558.91 L1292.1 1564.87 Q1291.06 1569.31 1290.84 1569.73 Q1290.52 1570.63 1289.81 1571.11 Q1289.1 1571.6 1288.39 1571.6 Q1287.59 1571.6 1287.04 1571.11 Q1286.49 1570.63 1286.49 1569.79 Q1286.49 1569.66 1286.59 1569.18 Q1286.68 1568.7 1286.85 1568.02 Q1287.01 1567.35 1287.07 1566.96 L1290.9 1551.73 Q1291.61 1548.96 1291.77 1548.09 Q1291.97 1547.18 1291.97 1546.19 Q1291.97 1543.16 1289.91 1543.16 Q1288.23 1543.16 1287.14 1545.16 Q1286.04 1547.15 1285.11 1551.02 Q1284.82 1552.08 1284.62 1552.31 Q1284.46 1552.53 1283.98 1552.53 Q1283.17 1552.5 1283.17 1551.85 Q1283.17 1551.69 1283.43 1550.63 Q1283.69 1549.57 1284.17 1548.05 Q1284.69 1546.51 1285.17 1545.48 Q1285.59 1544.7 1285.82 1544.35 Q1286.07 1543.96 1286.68 1543.22 Q1287.33 1542.45 1288.17 1542.1 Q1289.04 1541.71 1290.1 1541.71 Q1292.48 1541.71 1294.22 1543.26 Q1295.96 1544.77 1296.19 1547.44 Q1300.47 1541.71 1306.46 1541.71 Q1310 1541.71 1312.03 1543.58 Q1314.06 1545.45 1314.06 1548.76 Q1314.06 1549.54 1313.9 1550.53 Q1313.77 1551.5 1313.45 1552.72 Q1313.16 1553.95 1312.9 1554.88 Q1312.64 1555.82 1312.13 1557.33 Q1311.61 1558.81 1311.39 1559.46 Q1311.16 1560.1 1310.61 1561.61 Q1310.1 1563.09 1310.03 1563.26 Q1308.84 1566.25 1308.84 1567.96 Q1308.84 1569.08 1309.2 1569.6 Q1309.58 1570.12 1310.42 1570.12 Q1312.67 1570.12 1314.35 1567.89 Q1316.06 1565.64 1317.15 1561.97 Q1317.41 1561.16 1317.54 1560.97 Q1317.7 1560.78 1318.15 1560.78 Q1318.92 1560.78 1318.92 1561.42 Z\" fill=\"#000000\" fill-rule=\"evenodd\" fill-opacity=\"1\" /><polyline clip-path=\"url(#clip002)\" style=\"stroke:#000000; stroke-linecap:butt; stroke-linejoin:round; stroke-width:2; stroke-opacity:0.1; fill:none\" points=\"\n",
       "  252.764,1343.36 2352.76,1343.36 \n",
       "  \"/>\n",
       "<polyline clip-path=\"url(#clip002)\" style=\"stroke:#000000; stroke-linecap:butt; stroke-linejoin:round; stroke-width:2; stroke-opacity:0.1; fill:none\" points=\"\n",
       "  252.764,382.792 2352.76,382.792 \n",
       "  \"/>\n",
       "<polyline clip-path=\"url(#clip000)\" style=\"stroke:#000000; stroke-linecap:butt; stroke-linejoin:round; stroke-width:4; stroke-opacity:1; fill:none\" points=\"\n",
       "  252.764,1438.68 252.764,123.472 \n",
       "  \"/>\n",
       "<polyline clip-path=\"url(#clip000)\" style=\"stroke:#000000; stroke-linecap:butt; stroke-linejoin:round; stroke-width:4; stroke-opacity:1; fill:none\" points=\"\n",
       "  252.764,1343.36 277.964,1343.36 \n",
       "  \"/>\n",
       "<polyline clip-path=\"url(#clip000)\" style=\"stroke:#000000; stroke-linecap:butt; stroke-linejoin:round; stroke-width:4; stroke-opacity:1; fill:none\" points=\"\n",
       "  252.764,382.792 277.964,382.792 \n",
       "  \"/>\n",
       "<path clip-path=\"url(#clip000)\" d=\"M116.135 1363.15 L123.774 1363.15 L123.774 1336.79 L115.464 1338.45 L115.464 1334.19 L123.728 1332.53 L128.404 1332.53 L128.404 1363.15 L136.042 1363.15 L136.042 1367.09 L116.135 1367.09 L116.135 1363.15 Z\" fill=\"#000000\" fill-rule=\"evenodd\" fill-opacity=\"1\" /><path clip-path=\"url(#clip000)\" d=\"M155.487 1335.6 Q151.876 1335.6 150.047 1339.17 Q148.241 1342.71 148.241 1349.84 Q148.241 1356.95 150.047 1360.51 Q151.876 1364.05 155.487 1364.05 Q159.121 1364.05 160.927 1360.51 Q162.755 1356.95 162.755 1349.84 Q162.755 1342.71 160.927 1339.17 Q159.121 1335.6 155.487 1335.6 M155.487 1331.9 Q161.297 1331.9 164.352 1336.51 Q167.431 1341.09 167.431 1349.84 Q167.431 1358.57 164.352 1363.17 Q161.297 1367.76 155.487 1367.76 Q149.677 1367.76 146.598 1363.17 Q143.542 1358.57 143.542 1349.84 Q143.542 1341.09 146.598 1336.51 Q149.677 1331.9 155.487 1331.9 Z\" fill=\"#000000\" fill-rule=\"evenodd\" fill-opacity=\"1\" /><path clip-path=\"url(#clip000)\" d=\"M167.431 1326 L191.543 1326 L191.543 1329.2 L167.431 1329.2 L167.431 1326 Z\" fill=\"#000000\" fill-rule=\"evenodd\" fill-opacity=\"1\" /><path clip-path=\"url(#clip000)\" d=\"M199.781 1311.6 L214.695 1311.6 L214.695 1314.79 L203.26 1314.79 L203.26 1321.68 Q204.088 1321.39 204.915 1321.26 Q205.743 1321.11 206.57 1321.11 Q211.272 1321.11 214.018 1323.69 Q216.764 1326.27 216.764 1330.67 Q216.764 1335.2 213.943 1337.72 Q211.122 1340.22 205.987 1340.22 Q204.219 1340.22 202.376 1339.92 Q200.552 1339.62 198.596 1339.02 L198.596 1335.2 Q200.288 1336.12 202.094 1336.57 Q203.899 1337.02 205.912 1337.02 Q209.166 1337.02 211.065 1335.31 Q212.965 1333.6 212.965 1330.67 Q212.965 1327.73 211.065 1326.02 Q209.166 1324.31 205.912 1324.31 Q204.388 1324.31 202.865 1324.65 Q201.36 1324.99 199.781 1325.7 L199.781 1311.6 Z\" fill=\"#000000\" fill-rule=\"evenodd\" fill-opacity=\"1\" /><path clip-path=\"url(#clip000)\" d=\"M114.931 402.584 L122.57 402.584 L122.57 376.219 L114.26 377.885 L114.26 373.626 L122.524 371.96 L127.2 371.96 L127.2 402.584 L134.839 402.584 L134.839 406.52 L114.931 406.52 L114.931 402.584 Z\" fill=\"#000000\" fill-rule=\"evenodd\" fill-opacity=\"1\" /><path clip-path=\"url(#clip000)\" d=\"M154.283 375.038 Q150.672 375.038 148.843 378.603 Q147.038 382.145 147.038 389.274 Q147.038 396.381 148.843 399.946 Q150.672 403.487 154.283 403.487 Q157.917 403.487 159.723 399.946 Q161.552 396.381 161.552 389.274 Q161.552 382.145 159.723 378.603 Q157.917 375.038 154.283 375.038 M154.283 371.335 Q160.093 371.335 163.149 375.941 Q166.227 380.524 166.227 389.274 Q166.227 398.001 163.149 402.608 Q160.093 407.191 154.283 407.191 Q148.473 407.191 145.394 402.608 Q142.339 398.001 142.339 389.274 Q142.339 380.524 145.394 375.941 Q148.473 371.335 154.283 371.335 Z\" fill=\"#000000\" fill-rule=\"evenodd\" fill-opacity=\"1\" /><path clip-path=\"url(#clip000)\" d=\"M166.227 365.436 L190.339 365.436 L190.339 368.633 L166.227 368.633 L166.227 365.436 Z\" fill=\"#000000\" fill-rule=\"evenodd\" fill-opacity=\"1\" /><path clip-path=\"url(#clip000)\" d=\"M208.978 354.339 L199.386 369.329 L208.978 369.329 L208.978 354.339 M207.981 351.029 L212.758 351.029 L212.758 369.329 L216.764 369.329 L216.764 372.489 L212.758 372.489 L212.758 379.109 L208.978 379.109 L208.978 372.489 L196.301 372.489 L196.301 368.821 L207.981 351.029 Z\" fill=\"#000000\" fill-rule=\"evenodd\" fill-opacity=\"1\" /><path clip-path=\"url(#clip000)\" d=\"M44.7161 1045.67 L47.5806 1045.67 L47.5806 1072.59 Q53.6281 1072.21 56.8109 1068.96 Q59.9619 1065.69 59.9619 1059.86 Q59.9619 1056.49 59.1344 1053.34 Q58.3069 1050.15 56.6518 1047.03 L62.1899 1047.03 Q63.5267 1050.18 64.227 1053.5 Q64.9272 1056.81 64.9272 1060.21 Q64.9272 1068.74 59.9619 1073.74 Q54.9967 1078.7 46.5303 1078.7 Q37.7774 1078.7 32.6531 1073.99 Q27.4968 1069.25 27.4968 1061.23 Q27.4968 1054.04 32.1438 1049.87 Q36.7589 1045.67 44.7161 1045.67 M42.9973 1051.52 Q38.1912 1051.59 35.3266 1054.23 Q32.4621 1056.84 32.4621 1061.17 Q32.4621 1066.07 35.2312 1069.03 Q38.0002 1071.96 43.0292 1072.4 L42.9973 1051.52 Z\" fill=\"#000000\" fill-rule=\"evenodd\" fill-opacity=\"1\" /><path clip-path=\"url(#clip000)\" d=\"M14.479 1036.05 L14.479 1030.2 L64.0042 1030.2 L64.0042 1036.05 L14.479 1036.05 Z\" fill=\"#000000\" fill-rule=\"evenodd\" fill-opacity=\"1\" /><path clip-path=\"url(#clip000)\" d=\"M46.0847 1001.74 Q46.0847 1008.84 47.7079 1011.58 Q49.3312 1014.31 53.2461 1014.31 Q56.3653 1014.31 58.2114 1012.28 Q60.0256 1010.21 60.0256 1006.68 Q60.0256 1001.81 56.5881 998.877 Q53.1188 995.917 47.3897 995.917 L46.0847 995.917 L46.0847 1001.74 M43.6657 990.061 L64.0042 990.061 L64.0042 995.917 L58.5933 995.917 Q61.8398 997.922 63.3994 1000.91 Q64.9272 1003.91 64.9272 1008.23 Q64.9272 1013.71 61.8716 1016.96 Q58.7843 1020.17 53.6281 1020.17 Q47.6125 1020.17 44.5569 1016.16 Q41.5014 1012.12 41.5014 1004.13 L41.5014 995.917 L40.9285 995.917 Q36.8862 995.917 34.6901 998.591 Q32.4621 1001.23 32.4621 1006.04 Q32.4621 1009.09 33.1941 1011.99 Q33.9262 1014.89 35.3903 1017.56 L29.9795 1017.56 Q28.7381 1014.35 28.1334 1011.32 Q27.4968 1008.3 27.4968 1005.43 Q27.4968 997.7 31.5072 993.88 Q35.5176 990.061 43.6657 990.061 Z\" fill=\"#000000\" fill-rule=\"evenodd\" fill-opacity=\"1\" /><path clip-path=\"url(#clip000)\" d=\"M58.657 972.332 L77.5631 972.332 L77.5631 978.221 L28.3562 978.221 L28.3562 972.332 L33.7671 972.332 Q30.5842 970.486 29.0564 967.685 Q27.4968 964.853 27.4968 960.938 Q27.4968 954.445 32.6531 950.402 Q37.8093 946.328 46.212 946.328 Q54.6147 946.328 59.771 950.402 Q64.9272 954.445 64.9272 960.938 Q64.9272 964.853 63.3994 967.685 Q61.8398 970.486 58.657 972.332 M46.212 952.408 Q39.7508 952.408 36.0905 955.081 Q32.3984 957.723 32.3984 962.37 Q32.3984 967.017 36.0905 969.69 Q39.7508 972.332 46.212 972.332 Q52.6732 972.332 56.3653 969.69 Q60.0256 967.017 60.0256 962.37 Q60.0256 957.723 56.3653 955.081 Q52.6732 952.408 46.212 952.408 Z\" fill=\"#000000\" fill-rule=\"evenodd\" fill-opacity=\"1\" /><path clip-path=\"url(#clip000)\" d=\"M29.4065 913.895 L34.9447 913.895 Q33.6716 916.378 33.035 919.051 Q32.3984 921.725 32.3984 924.589 Q32.3984 928.95 33.7352 931.146 Q35.072 933.31 37.7456 933.31 Q39.7826 933.31 40.9603 931.751 Q42.1061 930.191 43.1565 925.481 L43.6021 923.475 Q44.9389 917.237 47.3897 914.627 Q49.8086 911.985 54.1691 911.985 Q59.1344 911.985 62.0308 915.932 Q64.9272 919.847 64.9272 926.722 Q64.9272 929.587 64.3543 932.706 Q63.8132 935.793 62.6992 939.231 L56.6518 939.231 Q58.3387 935.984 59.198 932.833 Q60.0256 929.682 60.0256 926.595 Q60.0256 922.457 58.6251 920.229 Q57.1929 918.001 54.6147 918.001 Q52.2276 918.001 50.9545 919.624 Q49.6813 921.216 48.5037 926.658 L48.0262 928.695 Q46.8804 934.138 44.5251 936.557 Q42.138 938.976 38.0002 938.976 Q32.9713 938.976 30.2341 935.411 Q27.4968 931.846 27.4968 925.29 Q27.4968 922.043 27.9743 919.179 Q28.4517 916.314 29.4065 913.895 Z\" fill=\"#000000\" fill-rule=\"evenodd\" fill-opacity=\"1\" /><path clip-path=\"url(#clip000)\" d=\"M44.7161 872.168 L47.5806 872.168 L47.5806 899.095 Q53.6281 898.713 56.8109 895.466 Q59.9619 892.188 59.9619 886.363 Q59.9619 882.99 59.1344 879.839 Q58.3069 876.656 56.6518 873.536 L62.1899 873.536 Q63.5267 876.688 64.227 879.998 Q64.9272 883.308 64.9272 886.713 Q64.9272 895.244 59.9619 900.241 Q54.9967 905.206 46.5303 905.206 Q37.7774 905.206 32.6531 900.495 Q27.4968 895.753 27.4968 887.732 Q27.4968 880.539 32.1438 876.369 Q36.7589 872.168 44.7161 872.168 M42.9973 878.024 Q38.1912 878.088 35.3266 880.73 Q32.4621 883.34 32.4621 887.668 Q32.4621 892.57 35.2312 895.53 Q38.0002 898.458 43.0292 898.904 L42.9973 878.024 Z\" fill=\"#000000\" fill-rule=\"evenodd\" fill-opacity=\"1\" /><path clip-path=\"url(#clip000)\" d=\"M33.7671 839.098 L14.479 839.098 L14.479 833.242 L64.0042 833.242 L64.0042 839.098 L58.657 839.098 Q61.8398 840.944 63.3994 843.777 Q64.9272 846.578 64.9272 850.524 Q64.9272 856.986 59.771 861.06 Q54.6147 865.102 46.212 865.102 Q37.8093 865.102 32.6531 861.06 Q27.4968 856.986 27.4968 850.524 Q27.4968 846.578 29.0564 843.777 Q30.5842 840.944 33.7671 839.098 M46.212 859.054 Q52.6732 859.054 56.3653 856.413 Q60.0256 853.739 60.0256 849.092 Q60.0256 844.445 56.3653 841.772 Q52.6732 839.098 46.212 839.098 Q39.7508 839.098 36.0905 841.772 Q32.3984 844.445 32.3984 849.092 Q32.3984 853.739 36.0905 856.413 Q39.7508 859.054 46.212 859.054 Z\" fill=\"#000000\" fill-rule=\"evenodd\" fill-opacity=\"1\" /><path clip-path=\"url(#clip000)\" d=\"M18.2347 794.665 L28.3562 794.665 L28.3562 782.602 L32.9077 782.602 L32.9077 794.665 L52.2594 794.665 Q56.6199 794.665 57.8613 793.488 Q59.1026 792.278 59.1026 788.618 L59.1026 782.602 L64.0042 782.602 L64.0042 788.618 Q64.0042 795.397 61.4897 797.976 Q58.9434 800.554 52.2594 800.554 L32.9077 800.554 L32.9077 804.851 L28.3562 804.851 L28.3562 800.554 L18.2347 800.554 L18.2347 794.665 Z\" fill=\"#000000\" fill-rule=\"evenodd\" fill-opacity=\"1\" /><path clip-path=\"url(#clip000)\" d=\"M28.3562 774.9 L28.3562 769.043 L64.0042 769.043 L64.0042 774.9 L28.3562 774.9 M14.479 774.9 L14.479 769.043 L21.895 769.043 L21.895 774.9 L14.479 774.9 Z\" fill=\"#000000\" fill-rule=\"evenodd\" fill-opacity=\"1\" /><path clip-path=\"url(#clip000)\" d=\"M35.1993 729.035 Q31.2526 726.839 29.3747 723.783 Q27.4968 720.728 27.4968 716.59 Q27.4968 711.02 31.4117 707.996 Q35.2948 704.973 42.4881 704.973 L64.0042 704.973 L64.0042 710.861 L42.679 710.861 Q37.5546 710.861 35.072 712.675 Q32.5894 714.489 32.5894 718.213 Q32.5894 722.765 35.6131 725.406 Q38.6368 728.048 43.8567 728.048 L64.0042 728.048 L64.0042 733.937 L42.679 733.937 Q37.5228 733.937 35.072 735.751 Q32.5894 737.565 32.5894 741.353 Q32.5894 745.84 35.6449 748.482 Q38.6686 751.124 43.8567 751.124 L64.0042 751.124 L64.0042 757.012 L28.3562 757.012 L28.3562 751.124 L33.8944 751.124 Q30.616 749.119 29.0564 746.318 Q27.4968 743.517 27.4968 739.666 Q27.4968 735.783 29.4702 733.077 Q31.4436 730.34 35.1993 729.035 Z\" fill=\"#000000\" fill-rule=\"evenodd\" fill-opacity=\"1\" /><path clip-path=\"url(#clip000)\" d=\"M44.7161 662.8 L47.5806 662.8 L47.5806 689.727 Q53.6281 689.345 56.8109 686.098 Q59.9619 682.82 59.9619 676.995 Q59.9619 673.621 59.1344 670.47 Q58.3069 667.288 56.6518 664.168 L62.1899 664.168 Q63.5267 667.319 64.227 670.63 Q64.9272 673.94 64.9272 677.345 Q64.9272 685.875 59.9619 690.873 Q54.9967 695.838 46.5303 695.838 Q37.7774 695.838 32.6531 691.127 Q27.4968 686.385 27.4968 678.364 Q27.4968 671.171 32.1438 667.001 Q36.7589 662.8 44.7161 662.8 M42.9973 668.656 Q38.1912 668.72 35.3266 671.362 Q32.4621 673.972 32.4621 678.3 Q32.4621 683.202 35.2312 686.162 Q38.0002 689.09 43.0292 689.536 L42.9973 668.656 Z\" fill=\"#000000\" fill-rule=\"evenodd\" fill-opacity=\"1\" /><path clip-path=\"url(#clip000)\" d=\"M14.5426 618.399 Q21.8632 622.664 29.0246 624.733 Q36.186 626.802 43.5384 626.802 Q50.8908 626.802 58.1159 624.733 Q65.3091 622.632 72.5979 618.399 L72.5979 623.492 Q65.1182 628.266 57.8931 630.653 Q50.668 633.008 43.5384 633.008 Q36.4406 633.008 29.2474 630.653 Q22.0542 628.298 14.5426 623.492 L14.5426 618.399 Z\" fill=\"#000000\" fill-rule=\"evenodd\" fill-opacity=\"1\" /><path clip-path=\"url(#clip000)\" d=\"M29.4065 584.311 L34.9447 584.311 Q33.6716 586.793 33.035 589.467 Q32.3984 592.14 32.3984 595.005 Q32.3984 599.365 33.7352 601.562 Q35.072 603.726 37.7456 603.726 Q39.7826 603.726 40.9603 602.166 Q42.1061 600.607 43.1565 595.896 L43.6021 593.891 Q44.9389 587.653 47.3897 585.043 Q49.8086 582.401 54.1691 582.401 Q59.1344 582.401 62.0308 586.348 Q64.9272 590.263 64.9272 597.137 Q64.9272 600.002 64.3543 603.121 Q63.8132 606.209 62.6992 609.646 L56.6518 609.646 Q58.3387 606.4 59.198 603.249 Q60.0256 600.098 60.0256 597.01 Q60.0256 592.872 58.6251 590.644 Q57.1929 588.416 54.6147 588.416 Q52.2276 588.416 50.9545 590.04 Q49.6813 591.631 48.5037 597.074 L48.0262 599.111 Q46.8804 604.554 44.5251 606.973 Q42.138 609.391 38.0002 609.391 Q32.9713 609.391 30.2341 605.827 Q27.4968 602.262 27.4968 595.705 Q27.4968 592.459 27.9743 589.594 Q28.4517 586.73 29.4065 584.311 Z\" fill=\"#000000\" fill-rule=\"evenodd\" fill-opacity=\"1\" /><path clip-path=\"url(#clip000)\" d=\"M44.7161 542.583 L47.5806 542.583 L47.5806 569.51 Q53.6281 569.128 56.8109 565.882 Q59.9619 562.604 59.9619 556.779 Q59.9619 553.405 59.1344 550.254 Q58.3069 547.071 56.6518 543.952 L62.1899 543.952 Q63.5267 547.103 64.227 550.413 Q64.9272 553.723 64.9272 557.129 Q64.9272 565.659 59.9619 570.656 Q54.9967 575.621 46.5303 575.621 Q37.7774 575.621 32.6531 570.911 Q27.4968 566.168 27.4968 558.148 Q27.4968 550.954 32.1438 546.785 Q36.7589 542.583 44.7161 542.583 M42.9973 548.44 Q38.1912 548.504 35.3266 551.145 Q32.4621 553.755 32.4621 558.084 Q32.4621 562.985 35.2312 565.946 Q38.0002 568.874 43.0292 569.319 L42.9973 548.44 Z\" fill=\"#000000\" fill-rule=\"evenodd\" fill-opacity=\"1\" /><path clip-path=\"url(#clip000)\" d=\"M29.7248 507.317 L35.1993 507.317 Q33.8307 509.8 33.1623 512.314 Q32.4621 514.797 32.4621 517.343 Q32.4621 523.041 36.0905 526.192 Q39.6872 529.343 46.212 529.343 Q52.7369 529.343 56.3653 526.192 Q59.9619 523.041 59.9619 517.343 Q59.9619 514.797 59.2935 512.314 Q58.5933 509.8 57.2247 507.317 L62.6355 507.317 Q63.7814 509.768 64.3543 512.41 Q64.9272 515.02 64.9272 517.98 Q64.9272 526.033 59.8664 530.775 Q54.8057 535.517 46.212 535.517 Q37.491 535.517 32.4939 530.743 Q27.4968 525.937 27.4968 517.598 Q27.4968 514.893 28.0697 512.314 Q28.6108 509.736 29.7248 507.317 Z\" fill=\"#000000\" fill-rule=\"evenodd\" fill-opacity=\"1\" /><path clip-path=\"url(#clip000)\" d=\"M14.5426 498.055 L14.5426 492.963 Q22.0542 488.188 29.2474 485.833 Q36.4406 483.446 43.5384 483.446 Q50.668 483.446 57.8931 485.833 Q65.1182 488.188 72.5979 492.963 L72.5979 498.055 Q65.3091 493.822 58.1159 491.753 Q50.8908 489.653 43.5384 489.653 Q36.186 489.653 29.0246 491.753 Q21.8632 493.822 14.5426 498.055 Z\" fill=\"#000000\" fill-rule=\"evenodd\" fill-opacity=\"1\" /><path clip-path=\"url(#clip000)\" d=\"M633.348 12.096 L684.511 12.096 L684.511 18.9825 L663.041 18.9825 L663.041 72.576 L654.818 72.576 L654.818 18.9825 L633.348 18.9825 L633.348 12.096 Z\" fill=\"#000000\" fill-rule=\"evenodd\" fill-opacity=\"1\" /><path clip-path=\"url(#clip000)\" d=\"M689.534 27.2059 L696.988 27.2059 L696.988 72.576 L689.534 72.576 L689.534 27.2059 M689.534 9.54393 L696.988 9.54393 L696.988 18.9825 L689.534 18.9825 L689.534 9.54393 Z\" fill=\"#000000\" fill-rule=\"evenodd\" fill-opacity=\"1\" /><path clip-path=\"url(#clip000)\" d=\"M747.908 35.9153 Q750.703 30.8922 754.592 28.5022 Q758.48 26.1121 763.747 26.1121 Q770.836 26.1121 774.684 31.0947 Q778.532 36.0368 778.532 45.1919 L778.532 72.576 L771.038 72.576 L771.038 45.4349 Q771.038 38.913 768.729 35.7533 Q766.42 32.5936 761.681 32.5936 Q755.888 32.5936 752.526 36.4419 Q749.163 40.2903 749.163 46.9338 L749.163 72.576 L741.669 72.576 L741.669 45.4349 Q741.669 38.8725 739.36 35.7533 Q737.051 32.5936 732.231 32.5936 Q726.519 32.5936 723.157 36.4824 Q719.794 40.3308 719.794 46.9338 L719.794 72.576 L712.3 72.576 L712.3 27.2059 L719.794 27.2059 L719.794 34.2544 Q722.346 30.082 725.911 28.0971 Q729.476 26.1121 734.378 26.1121 Q739.32 26.1121 742.763 28.6237 Q746.247 31.1352 747.908 35.9153 Z\" fill=\"#000000\" fill-rule=\"evenodd\" fill-opacity=\"1\" /><path clip-path=\"url(#clip000)\" d=\"M793.399 27.2059 L800.853 27.2059 L800.853 72.576 L793.399 72.576 L793.399 27.2059 M793.399 9.54393 L800.853 9.54393 L800.853 18.9825 L793.399 18.9825 L793.399 9.54393 Z\" fill=\"#000000\" fill-rule=\"evenodd\" fill-opacity=\"1\" /><path clip-path=\"url(#clip000)\" d=\"M854.163 45.1919 L854.163 72.576 L846.709 72.576 L846.709 45.4349 Q846.709 38.994 844.198 35.7938 Q841.686 32.5936 836.663 32.5936 Q830.627 32.5936 827.143 36.4419 Q823.659 40.2903 823.659 46.9338 L823.659 72.576 L816.165 72.576 L816.165 27.2059 L823.659 27.2059 L823.659 34.2544 Q826.333 30.163 829.938 28.1376 Q833.584 26.1121 838.324 26.1121 Q846.142 26.1121 850.152 30.9732 Q854.163 35.7938 854.163 45.1919 Z\" fill=\"#000000\" fill-rule=\"evenodd\" fill-opacity=\"1\" /><path clip-path=\"url(#clip000)\" d=\"M898.885 49.3643 Q898.885 41.2625 895.523 36.8065 Q892.201 32.3505 886.165 32.3505 Q880.17 32.3505 876.807 36.8065 Q873.486 41.2625 873.486 49.3643 Q873.486 57.4256 876.807 61.8816 Q880.17 66.3376 886.165 66.3376 Q892.201 66.3376 895.523 61.8816 Q898.885 57.4256 898.885 49.3643 M906.338 66.9452 Q906.338 78.5308 901.194 84.1616 Q896.049 89.8329 885.436 89.8329 Q881.506 89.8329 878.023 89.2252 Q874.539 88.6581 871.258 87.4428 L871.258 80.1917 Q874.539 81.9741 877.739 82.8248 Q880.939 83.6755 884.261 83.6755 Q891.593 83.6755 895.239 79.8271 Q898.885 76.0193 898.885 68.282 L898.885 64.5957 Q896.576 68.6061 892.97 70.5911 Q889.365 72.576 884.342 72.576 Q875.997 72.576 870.893 66.2161 Q865.789 59.8562 865.789 49.3643 Q865.789 38.832 870.893 32.472 Q875.997 26.1121 884.342 26.1121 Q889.365 26.1121 892.97 28.0971 Q896.576 30.082 898.885 34.0924 L898.885 27.2059 L906.338 27.2059 L906.338 66.9452 Z\" fill=\"#000000\" fill-rule=\"evenodd\" fill-opacity=\"1\" /><path clip-path=\"url(#clip000)\" d=\"M965.644 32.4315 Q959.648 32.4315 956.165 37.1306 Q952.681 41.7891 952.681 49.9314 Q952.681 58.0738 956.124 62.7728 Q959.608 67.4314 965.644 67.4314 Q971.599 67.4314 975.082 62.7323 Q978.566 58.0333 978.566 49.9314 Q978.566 41.8701 975.082 37.1711 Q971.599 32.4315 965.644 32.4315 M965.644 26.1121 Q975.366 26.1121 980.916 32.4315 Q986.465 38.7509 986.465 49.9314 Q986.465 61.0714 980.916 67.4314 Q975.366 73.7508 965.644 73.7508 Q955.881 73.7508 950.331 67.4314 Q944.822 61.0714 944.822 49.9314 Q944.822 38.7509 950.331 32.4315 Q955.881 26.1121 965.644 26.1121 Z\" fill=\"#000000\" fill-rule=\"evenodd\" fill-opacity=\"1\" /><path clip-path=\"url(#clip000)\" d=\"M1021.79 9.54393 L1021.79 15.7418 L1014.66 15.7418 Q1010.65 15.7418 1009.07 17.3622 Q1007.53 18.9825 1007.53 23.1955 L1007.53 27.2059 L1019.8 27.2059 L1019.8 32.9987 L1007.53 32.9987 L1007.53 72.576 L1000.04 72.576 L1000.04 32.9987 L992.906 32.9987 L992.906 27.2059 L1000.04 27.2059 L1000.04 24.0462 Q1000.04 16.471 1003.56 13.0277 Q1007.08 9.54393 1014.74 9.54393 L1021.79 9.54393 Z\" fill=\"#000000\" fill-rule=\"evenodd\" fill-opacity=\"1\" /><path clip-path=\"url(#clip000)\" d=\"M1084.25 34.0924 L1084.25 9.54393 L1091.71 9.54393 L1091.71 72.576 L1084.25 72.576 L1084.25 65.7705 Q1081.9 69.8214 1078.3 71.8063 Q1074.73 73.7508 1069.71 73.7508 Q1061.49 73.7508 1056.3 67.1883 Q1051.16 60.6258 1051.16 49.9314 Q1051.16 39.2371 1056.3 32.6746 Q1061.49 26.1121 1069.71 26.1121 Q1074.73 26.1121 1078.3 28.0971 Q1081.9 30.0415 1084.25 34.0924 M1058.85 49.9314 Q1058.85 58.1548 1062.22 62.8538 Q1065.62 67.5124 1071.53 67.5124 Q1077.45 67.5124 1080.85 62.8538 Q1084.25 58.1548 1084.25 49.9314 Q1084.25 41.7081 1080.85 37.0496 Q1077.45 32.3505 1071.53 32.3505 Q1065.62 32.3505 1062.22 37.0496 Q1058.85 41.7081 1058.85 49.9314 Z\" fill=\"#000000\" fill-rule=\"evenodd\" fill-opacity=\"1\" /><path clip-path=\"url(#clip000)\" d=\"M1124.64 32.4315 Q1118.65 32.4315 1115.16 37.1306 Q1111.68 41.7891 1111.68 49.9314 Q1111.68 58.0738 1115.12 62.7728 Q1118.61 67.4314 1124.64 67.4314 Q1130.6 67.4314 1134.08 62.7323 Q1137.56 58.0333 1137.56 49.9314 Q1137.56 41.8701 1134.08 37.1711 Q1130.6 32.4315 1124.64 32.4315 M1124.64 26.1121 Q1134.36 26.1121 1139.91 32.4315 Q1145.46 38.7509 1145.46 49.9314 Q1145.46 61.0714 1139.91 67.4314 Q1134.36 73.7508 1124.64 73.7508 Q1114.88 73.7508 1109.33 67.4314 Q1103.82 61.0714 1103.82 49.9314 Q1103.82 38.7509 1109.33 32.4315 Q1114.88 26.1121 1124.64 26.1121 Z\" fill=\"#000000\" fill-rule=\"evenodd\" fill-opacity=\"1\" /><path clip-path=\"url(#clip000)\" d=\"M1165.19 14.324 L1165.19 27.2059 L1180.54 27.2059 L1180.54 32.9987 L1165.19 32.9987 L1165.19 57.6282 Q1165.19 63.1779 1166.69 64.7578 Q1168.23 66.3376 1172.89 66.3376 L1180.54 66.3376 L1180.54 72.576 L1172.89 72.576 Q1164.26 72.576 1160.98 69.3758 Q1157.7 66.1351 1157.7 57.6282 L1157.7 32.9987 L1152.23 32.9987 L1152.23 27.2059 L1157.7 27.2059 L1157.7 14.324 L1165.19 14.324 Z\" fill=\"#000000\" fill-rule=\"evenodd\" fill-opacity=\"1\" /><path clip-path=\"url(#clip000)\" d=\"M1223.93 65.7705 L1223.93 89.8329 L1216.44 89.8329 L1216.44 27.2059 L1223.93 27.2059 L1223.93 34.0924 Q1226.28 30.0415 1229.84 28.0971 Q1233.45 26.1121 1238.43 26.1121 Q1246.7 26.1121 1251.84 32.6746 Q1257.03 39.2371 1257.03 49.9314 Q1257.03 60.6258 1251.84 67.1883 Q1246.7 73.7508 1238.43 73.7508 Q1233.45 73.7508 1229.84 71.8063 Q1226.28 69.8214 1223.93 65.7705 M1249.29 49.9314 Q1249.29 41.7081 1245.89 37.0496 Q1242.52 32.3505 1236.61 32.3505 Q1230.69 32.3505 1227.29 37.0496 Q1223.93 41.7081 1223.93 49.9314 Q1223.93 58.1548 1227.29 62.8538 Q1230.69 67.5124 1236.61 67.5124 Q1242.52 67.5124 1245.89 62.8538 Q1249.29 58.1548 1249.29 49.9314 Z\" fill=\"#000000\" fill-rule=\"evenodd\" fill-opacity=\"1\" /><path clip-path=\"url(#clip000)\" d=\"M1295.67 34.1734 Q1294.42 33.4443 1292.92 33.1202 Q1291.46 32.7556 1289.68 32.7556 Q1283.36 32.7556 1279.95 36.8875 Q1276.59 40.9789 1276.59 48.6757 L1276.59 72.576 L1269.1 72.576 L1269.1 27.2059 L1276.59 27.2059 L1276.59 34.2544 Q1278.94 30.1225 1282.71 28.1376 Q1286.48 26.1121 1291.86 26.1121 Q1292.63 26.1121 1293.56 26.2337 Q1294.5 26.3147 1295.63 26.5172 L1295.67 34.1734 Z\" fill=\"#000000\" fill-rule=\"evenodd\" fill-opacity=\"1\" /><path clip-path=\"url(#clip000)\" d=\"M1319.25 32.4315 Q1313.25 32.4315 1309.77 37.1306 Q1306.28 41.7891 1306.28 49.9314 Q1306.28 58.0738 1309.73 62.7728 Q1313.21 67.4314 1319.25 67.4314 Q1325.2 67.4314 1328.69 62.7323 Q1332.17 58.0333 1332.17 49.9314 Q1332.17 41.8701 1328.69 37.1711 Q1325.2 32.4315 1319.25 32.4315 M1319.25 26.1121 Q1328.97 26.1121 1334.52 32.4315 Q1340.07 38.7509 1340.07 49.9314 Q1340.07 61.0714 1334.52 67.4314 Q1328.97 73.7508 1319.25 73.7508 Q1309.48 73.7508 1303.93 67.4314 Q1298.43 61.0714 1298.43 49.9314 Q1298.43 38.7509 1303.93 32.4315 Q1309.48 26.1121 1319.25 26.1121 Z\" fill=\"#000000\" fill-rule=\"evenodd\" fill-opacity=\"1\" /><path clip-path=\"url(#clip000)\" d=\"M1382.28 34.0924 L1382.28 9.54393 L1389.73 9.54393 L1389.73 72.576 L1382.28 72.576 L1382.28 65.7705 Q1379.93 69.8214 1376.32 71.8063 Q1372.76 73.7508 1367.74 73.7508 Q1359.51 73.7508 1354.33 67.1883 Q1349.18 60.6258 1349.18 49.9314 Q1349.18 39.2371 1354.33 32.6746 Q1359.51 26.1121 1367.74 26.1121 Q1372.76 26.1121 1376.32 28.0971 Q1379.93 30.0415 1382.28 34.0924 M1356.88 49.9314 Q1356.88 58.1548 1360.24 62.8538 Q1363.65 67.5124 1369.56 67.5124 Q1375.47 67.5124 1378.88 62.8538 Q1382.28 58.1548 1382.28 49.9314 Q1382.28 41.7081 1378.88 37.0496 Q1375.47 32.3505 1369.56 32.3505 Q1363.65 32.3505 1360.24 37.0496 Q1356.88 41.7081 1356.88 49.9314 Z\" fill=\"#000000\" fill-rule=\"evenodd\" fill-opacity=\"1\" /><path clip-path=\"url(#clip000)\" d=\"M1404.32 54.671 L1404.32 27.2059 L1411.77 27.2059 L1411.77 54.3874 Q1411.77 60.8284 1414.28 64.0691 Q1416.79 67.2693 1421.82 67.2693 Q1427.85 67.2693 1431.34 63.421 Q1434.86 59.5726 1434.86 52.9291 L1434.86 27.2059 L1442.31 27.2059 L1442.31 72.576 L1434.86 72.576 L1434.86 65.6084 Q1432.15 69.7404 1428.54 71.7658 Q1424.98 73.7508 1420.24 73.7508 Q1412.42 73.7508 1408.37 68.8897 Q1404.32 64.0286 1404.32 54.671 M1423.07 26.1121 L1423.07 26.1121 Z\" fill=\"#000000\" fill-rule=\"evenodd\" fill-opacity=\"1\" /><path clip-path=\"url(#clip000)\" d=\"M1490.32 28.9478 L1490.32 35.9153 Q1487.16 34.1734 1483.96 33.3227 Q1480.8 32.4315 1477.56 32.4315 Q1470.31 32.4315 1466.29 37.0496 Q1462.28 41.6271 1462.28 49.9314 Q1462.28 58.2358 1466.29 62.8538 Q1470.31 67.4314 1477.56 67.4314 Q1480.8 67.4314 1483.96 66.5807 Q1487.16 65.6895 1490.32 63.9476 L1490.32 70.8341 Q1487.2 72.2924 1483.84 73.0216 Q1480.51 73.7508 1476.75 73.7508 Q1466.5 73.7508 1460.46 67.3098 Q1454.43 60.8689 1454.43 49.9314 Q1454.43 38.832 1460.5 32.472 Q1466.62 26.1121 1477.23 26.1121 Q1480.68 26.1121 1483.96 26.8413 Q1487.24 27.5299 1490.32 28.9478 Z\" fill=\"#000000\" fill-rule=\"evenodd\" fill-opacity=\"1\" /><path clip-path=\"url(#clip000)\" d=\"M1510.65 14.324 L1510.65 27.2059 L1526.01 27.2059 L1526.01 32.9987 L1510.65 32.9987 L1510.65 57.6282 Q1510.65 63.1779 1512.15 64.7578 Q1513.69 66.3376 1518.35 66.3376 L1526.01 66.3376 L1526.01 72.576 L1518.35 72.576 Q1509.72 72.576 1506.44 69.3758 Q1503.16 66.1351 1503.16 57.6282 L1503.16 32.9987 L1497.69 32.9987 L1497.69 27.2059 L1503.16 27.2059 L1503.16 14.324 L1510.65 14.324 Z\" fill=\"#000000\" fill-rule=\"evenodd\" fill-opacity=\"1\" /><path clip-path=\"url(#clip000)\" d=\"M1582.8 49.7694 Q1573.77 49.7694 1570.28 51.8354 Q1566.8 53.9013 1566.8 58.8839 Q1566.8 62.8538 1569.39 65.2034 Q1572.02 67.5124 1576.52 67.5124 Q1582.72 67.5124 1586.44 63.1374 Q1590.21 58.7219 1590.21 51.4303 L1590.21 49.7694 L1582.8 49.7694 M1597.67 46.6907 L1597.67 72.576 L1590.21 72.576 L1590.21 65.6895 Q1587.66 69.8214 1583.85 71.8063 Q1580.04 73.7508 1574.54 73.7508 Q1567.57 73.7508 1563.44 69.8619 Q1559.34 65.9325 1559.34 59.3701 Q1559.34 51.7138 1564.45 47.825 Q1569.59 43.9361 1579.76 43.9361 L1590.21 43.9361 L1590.21 43.2069 Q1590.21 38.0623 1586.81 35.2672 Q1583.45 32.4315 1577.33 32.4315 Q1573.44 32.4315 1569.76 33.3632 Q1566.07 34.295 1562.67 36.1584 L1562.67 29.2718 Q1566.76 27.692 1570.61 26.9223 Q1574.45 26.1121 1578.1 26.1121 Q1587.94 26.1121 1592.8 31.2163 Q1597.67 36.3204 1597.67 46.6907 Z\" fill=\"#000000\" fill-rule=\"evenodd\" fill-opacity=\"1\" /><path clip-path=\"url(#clip000)\" d=\"M1613.02 9.54393 L1620.47 9.54393 L1620.47 72.576 L1613.02 72.576 L1613.02 9.54393 Z\" fill=\"#000000\" fill-rule=\"evenodd\" fill-opacity=\"1\" /><path clip-path=\"url(#clip000)\" d=\"M1665.92 49.3643 Q1665.92 41.2625 1662.56 36.8065 Q1659.24 32.3505 1653.2 32.3505 Q1647.21 32.3505 1643.85 36.8065 Q1640.52 41.2625 1640.52 49.3643 Q1640.52 57.4256 1643.85 61.8816 Q1647.21 66.3376 1653.2 66.3376 Q1659.24 66.3376 1662.56 61.8816 Q1665.92 57.4256 1665.92 49.3643 M1673.38 66.9452 Q1673.38 78.5308 1668.23 84.1616 Q1663.09 89.8329 1652.47 89.8329 Q1648.55 89.8329 1645.06 89.2252 Q1641.58 88.6581 1638.3 87.4428 L1638.3 80.1917 Q1641.58 81.9741 1644.78 82.8248 Q1647.98 83.6755 1651.3 83.6755 Q1658.63 83.6755 1662.28 79.8271 Q1665.92 76.0193 1665.92 68.282 L1665.92 64.5957 Q1663.61 68.6061 1660.01 70.5911 Q1656.4 72.576 1651.38 72.576 Q1643.04 72.576 1637.93 66.2161 Q1632.83 59.8562 1632.83 49.3643 Q1632.83 38.832 1637.93 32.472 Q1643.04 26.1121 1651.38 26.1121 Q1656.4 26.1121 1660.01 28.0971 Q1663.61 30.082 1665.92 34.0924 L1665.92 27.2059 L1673.38 27.2059 L1673.38 66.9452 Z\" fill=\"#000000\" fill-rule=\"evenodd\" fill-opacity=\"1\" /><path clip-path=\"url(#clip000)\" d=\"M1706.31 32.4315 Q1700.32 32.4315 1696.83 37.1306 Q1693.35 41.7891 1693.35 49.9314 Q1693.35 58.0738 1696.79 62.7728 Q1700.28 67.4314 1706.31 67.4314 Q1712.27 67.4314 1715.75 62.7323 Q1719.23 58.0333 1719.23 49.9314 Q1719.23 41.8701 1715.75 37.1711 Q1712.27 32.4315 1706.31 32.4315 M1706.31 26.1121 Q1716.03 26.1121 1721.58 32.4315 Q1727.13 38.7509 1727.13 49.9314 Q1727.13 61.0714 1721.58 67.4314 Q1716.03 73.7508 1706.31 73.7508 Q1696.55 73.7508 1691 67.4314 Q1685.49 61.0714 1685.49 49.9314 Q1685.49 38.7509 1691 32.4315 Q1696.55 26.1121 1706.31 26.1121 Z\" fill=\"#000000\" fill-rule=\"evenodd\" fill-opacity=\"1\" /><path clip-path=\"url(#clip000)\" d=\"M1765.78 34.1734 Q1764.52 33.4443 1763.02 33.1202 Q1761.57 32.7556 1759.78 32.7556 Q1753.46 32.7556 1750.06 36.8875 Q1746.7 40.9789 1746.7 48.6757 L1746.7 72.576 L1739.2 72.576 L1739.2 27.2059 L1746.7 27.2059 L1746.7 34.2544 Q1749.05 30.1225 1752.82 28.1376 Q1756.58 26.1121 1761.97 26.1121 Q1762.74 26.1121 1763.67 26.2337 Q1764.6 26.3147 1765.74 26.5172 L1765.78 34.1734 Z\" fill=\"#000000\" fill-rule=\"evenodd\" fill-opacity=\"1\" /><path clip-path=\"url(#clip000)\" d=\"M1773.6 27.2059 L1781.05 27.2059 L1781.05 72.576 L1773.6 72.576 L1773.6 27.2059 M1773.6 9.54393 L1781.05 9.54393 L1781.05 18.9825 L1773.6 18.9825 L1773.6 9.54393 Z\" fill=\"#000000\" fill-rule=\"evenodd\" fill-opacity=\"1\" /><path clip-path=\"url(#clip000)\" d=\"M1804.02 14.324 L1804.02 27.2059 L1819.37 27.2059 L1819.37 32.9987 L1804.02 32.9987 L1804.02 57.6282 Q1804.02 63.1779 1805.52 64.7578 Q1807.06 66.3376 1811.72 66.3376 L1819.37 66.3376 L1819.37 72.576 L1811.72 72.576 Q1803.09 72.576 1799.81 69.3758 Q1796.52 66.1351 1796.52 57.6282 L1796.52 32.9987 L1791.06 32.9987 L1791.06 27.2059 L1796.52 27.2059 L1796.52 14.324 L1804.02 14.324 Z\" fill=\"#000000\" fill-rule=\"evenodd\" fill-opacity=\"1\" /><path clip-path=\"url(#clip000)\" d=\"M1866.89 45.1919 L1866.89 72.576 L1859.44 72.576 L1859.44 45.4349 Q1859.44 38.994 1856.92 35.7938 Q1854.41 32.5936 1849.39 32.5936 Q1843.35 32.5936 1839.87 36.4419 Q1836.39 40.2903 1836.39 46.9338 L1836.39 72.576 L1828.89 72.576 L1828.89 9.54393 L1836.39 9.54393 L1836.39 34.2544 Q1839.06 30.163 1842.66 28.1376 Q1846.31 26.1121 1851.05 26.1121 Q1858.87 26.1121 1862.88 30.9732 Q1866.89 35.7938 1866.89 45.1919 Z\" fill=\"#000000\" fill-rule=\"evenodd\" fill-opacity=\"1\" /><path clip-path=\"url(#clip000)\" d=\"M1917.08 35.9153 Q1919.87 30.8922 1923.76 28.5022 Q1927.65 26.1121 1932.92 26.1121 Q1940.01 26.1121 1943.86 31.0947 Q1947.7 36.0368 1947.7 45.1919 L1947.7 72.576 L1940.21 72.576 L1940.21 45.4349 Q1940.21 38.913 1937.9 35.7533 Q1935.59 32.5936 1930.85 32.5936 Q1925.06 32.5936 1921.7 36.4419 Q1918.34 40.2903 1918.34 46.9338 L1918.34 72.576 L1910.84 72.576 L1910.84 45.4349 Q1910.84 38.8725 1908.53 35.7533 Q1906.22 32.5936 1901.4 32.5936 Q1895.69 32.5936 1892.33 36.4824 Q1888.97 40.3308 1888.97 46.9338 L1888.97 72.576 L1881.47 72.576 L1881.47 27.2059 L1888.97 27.2059 L1888.97 34.2544 Q1891.52 30.082 1895.08 28.0971 Q1898.65 26.1121 1903.55 26.1121 Q1908.49 26.1121 1911.93 28.6237 Q1915.42 31.1352 1917.08 35.9153 Z\" fill=\"#000000\" fill-rule=\"evenodd\" fill-opacity=\"1\" /><path clip-path=\"url(#clip000)\" d=\"M1963.62 62.2867 L1972.17 62.2867 L1972.17 72.576 L1963.62 72.576 L1963.62 62.2867 Z\" fill=\"#000000\" fill-rule=\"evenodd\" fill-opacity=\"1\" /><polyline clip-path=\"url(#clip002)\" style=\"stroke:#009af9; stroke-linecap:butt; stroke-linejoin:round; stroke-width:4; stroke-opacity:1; fill:none\" points=\"\n",
       "  312.198,1139.54 684.455,754.739 902.211,1401.45 1056.71,1373.63 1176.55,1240.38 1274.47,1230.71 1357.25,1197.08 1428.97,1149.9 1492.22,1075.6 1548.81,1066.91 \n",
       "  1599.99,952.85 1646.72,851.66 1689.71,770.287 1729.51,919.836 1766.56,669.456 1801.23,702.226 1833.78,722.445 1864.48,603.612 1893.52,610.755 1921.07,570.929 \n",
       "  1947.27,559.304 1972.25,531.586 1996.12,515.224 2018.98,299.838 2040.91,338.505 2061.97,597.285 2082.24,160.695 2101.77,510.098 2120.61,456.024 2138.82,447.655 \n",
       "  2156.43,414.414 2173.48,485.908 2190.01,535.177 2206.04,562.501 2221.61,177.694 2236.74,319.081 2251.45,174.39 2265.77,280.789 2279.73,322.317 2293.32,308.824 \n",
       "  \n",
       "  \"/>\n",
       "<path clip-path=\"url(#clip002)\" d=\"M312.198 1155.54 L300.886 1150.85 L296.198 1139.54 L300.886 1128.23 L312.198 1123.54 L323.51 1128.23 L328.198 1139.54 L323.51 1150.85 Z\" fill=\"#009af9\" fill-rule=\"evenodd\" fill-opacity=\"1\" stroke=\"#000000\" stroke-opacity=\"1\" stroke-width=\"3.2\"/>\n",
       "<path clip-path=\"url(#clip002)\" d=\"M684.455 770.739 L673.143 766.051 L668.455 754.739 L673.143 743.427 L684.455 738.739 L695.767 743.427 L700.455 754.739 L695.767 766.051 Z\" fill=\"#009af9\" fill-rule=\"evenodd\" fill-opacity=\"1\" stroke=\"#000000\" stroke-opacity=\"1\" stroke-width=\"3.2\"/>\n",
       "<path clip-path=\"url(#clip002)\" d=\"M902.211 1417.45 L890.899 1412.77 L886.211 1401.45 L890.899 1390.14 L902.211 1385.45 L913.523 1390.14 L918.211 1401.45 L913.523 1412.77 Z\" fill=\"#009af9\" fill-rule=\"evenodd\" fill-opacity=\"1\" stroke=\"#000000\" stroke-opacity=\"1\" stroke-width=\"3.2\"/>\n",
       "<path clip-path=\"url(#clip002)\" d=\"M1056.71 1389.63 L1045.4 1384.94 L1040.71 1373.63 L1045.4 1362.32 L1056.71 1357.63 L1068.02 1362.32 L1072.71 1373.63 L1068.02 1384.94 Z\" fill=\"#009af9\" fill-rule=\"evenodd\" fill-opacity=\"1\" stroke=\"#000000\" stroke-opacity=\"1\" stroke-width=\"3.2\"/>\n",
       "<path clip-path=\"url(#clip002)\" d=\"M1176.55 1256.38 L1165.24 1251.69 L1160.55 1240.38 L1165.24 1229.06 L1176.55 1224.38 L1187.86 1229.06 L1192.55 1240.38 L1187.86 1251.69 Z\" fill=\"#009af9\" fill-rule=\"evenodd\" fill-opacity=\"1\" stroke=\"#000000\" stroke-opacity=\"1\" stroke-width=\"3.2\"/>\n",
       "<path clip-path=\"url(#clip002)\" d=\"M1274.47 1246.71 L1263.16 1242.02 L1258.47 1230.71 L1263.16 1219.4 L1274.47 1214.71 L1285.78 1219.4 L1290.47 1230.71 L1285.78 1242.02 Z\" fill=\"#009af9\" fill-rule=\"evenodd\" fill-opacity=\"1\" stroke=\"#000000\" stroke-opacity=\"1\" stroke-width=\"3.2\"/>\n",
       "<path clip-path=\"url(#clip002)\" d=\"M1357.25 1213.08 L1345.94 1208.39 L1341.25 1197.08 L1345.94 1185.76 L1357.25 1181.08 L1368.57 1185.76 L1373.25 1197.08 L1368.57 1208.39 Z\" fill=\"#009af9\" fill-rule=\"evenodd\" fill-opacity=\"1\" stroke=\"#000000\" stroke-opacity=\"1\" stroke-width=\"3.2\"/>\n",
       "<path clip-path=\"url(#clip002)\" d=\"M1428.97 1165.9 L1417.66 1161.22 L1412.97 1149.9 L1417.66 1138.59 L1428.97 1133.9 L1440.28 1138.59 L1444.97 1149.9 L1440.28 1161.22 Z\" fill=\"#009af9\" fill-rule=\"evenodd\" fill-opacity=\"1\" stroke=\"#000000\" stroke-opacity=\"1\" stroke-width=\"3.2\"/>\n",
       "<path clip-path=\"url(#clip002)\" d=\"M1492.22 1091.6 L1480.91 1086.91 L1476.22 1075.6 L1480.91 1064.29 L1492.22 1059.6 L1503.54 1064.29 L1508.22 1075.6 L1503.54 1086.91 Z\" fill=\"#009af9\" fill-rule=\"evenodd\" fill-opacity=\"1\" stroke=\"#000000\" stroke-opacity=\"1\" stroke-width=\"3.2\"/>\n",
       "<path clip-path=\"url(#clip002)\" d=\"M1548.81 1082.91 L1537.5 1078.22 L1532.81 1066.91 L1537.5 1055.59 L1548.81 1050.91 L1560.12 1055.59 L1564.81 1066.91 L1560.12 1078.22 Z\" fill=\"#009af9\" fill-rule=\"evenodd\" fill-opacity=\"1\" stroke=\"#000000\" stroke-opacity=\"1\" stroke-width=\"3.2\"/>\n",
       "<path clip-path=\"url(#clip002)\" d=\"M1599.99 968.85 L1588.68 964.162 L1583.99 952.85 L1588.68 941.538 L1599.99 936.85 L1611.31 941.538 L1615.99 952.85 L1611.31 964.162 Z\" fill=\"#009af9\" fill-rule=\"evenodd\" fill-opacity=\"1\" stroke=\"#000000\" stroke-opacity=\"1\" stroke-width=\"3.2\"/>\n",
       "<path clip-path=\"url(#clip002)\" d=\"M1646.72 867.66 L1635.41 862.972 L1630.72 851.66 L1635.41 840.348 L1646.72 835.66 L1658.04 840.348 L1662.72 851.66 L1658.04 862.972 Z\" fill=\"#009af9\" fill-rule=\"evenodd\" fill-opacity=\"1\" stroke=\"#000000\" stroke-opacity=\"1\" stroke-width=\"3.2\"/>\n",
       "<path clip-path=\"url(#clip002)\" d=\"M1689.71 786.287 L1678.4 781.599 L1673.71 770.287 L1678.4 758.975 L1689.71 754.287 L1701.02 758.975 L1705.71 770.287 L1701.02 781.599 Z\" fill=\"#009af9\" fill-rule=\"evenodd\" fill-opacity=\"1\" stroke=\"#000000\" stroke-opacity=\"1\" stroke-width=\"3.2\"/>\n",
       "<path clip-path=\"url(#clip002)\" d=\"M1729.51 935.836 L1718.2 931.148 L1713.51 919.836 L1718.2 908.524 L1729.51 903.836 L1740.82 908.524 L1745.51 919.836 L1740.82 931.148 Z\" fill=\"#009af9\" fill-rule=\"evenodd\" fill-opacity=\"1\" stroke=\"#000000\" stroke-opacity=\"1\" stroke-width=\"3.2\"/>\n",
       "<path clip-path=\"url(#clip002)\" d=\"M1766.56 685.456 L1755.25 680.768 L1750.56 669.456 L1755.25 658.144 L1766.56 653.456 L1777.88 658.144 L1782.56 669.456 L1777.88 680.768 Z\" fill=\"#009af9\" fill-rule=\"evenodd\" fill-opacity=\"1\" stroke=\"#000000\" stroke-opacity=\"1\" stroke-width=\"3.2\"/>\n",
       "<path clip-path=\"url(#clip002)\" d=\"M1801.23 718.226 L1789.91 713.538 L1785.23 702.226 L1789.91 690.914 L1801.23 686.226 L1812.54 690.914 L1817.23 702.226 L1812.54 713.538 Z\" fill=\"#009af9\" fill-rule=\"evenodd\" fill-opacity=\"1\" stroke=\"#000000\" stroke-opacity=\"1\" stroke-width=\"3.2\"/>\n",
       "<path clip-path=\"url(#clip002)\" d=\"M1833.78 738.445 L1822.47 733.757 L1817.78 722.445 L1822.47 711.133 L1833.78 706.445 L1845.1 711.133 L1849.78 722.445 L1845.1 733.757 Z\" fill=\"#009af9\" fill-rule=\"evenodd\" fill-opacity=\"1\" stroke=\"#000000\" stroke-opacity=\"1\" stroke-width=\"3.2\"/>\n",
       "<path clip-path=\"url(#clip002)\" d=\"M1864.48 619.612 L1853.17 614.924 L1848.48 603.612 L1853.17 592.3 L1864.48 587.612 L1875.79 592.3 L1880.48 603.612 L1875.79 614.924 Z\" fill=\"#009af9\" fill-rule=\"evenodd\" fill-opacity=\"1\" stroke=\"#000000\" stroke-opacity=\"1\" stroke-width=\"3.2\"/>\n",
       "<path clip-path=\"url(#clip002)\" d=\"M1893.52 626.755 L1882.21 622.067 L1877.52 610.755 L1882.21 599.443 L1893.52 594.755 L1904.83 599.443 L1909.52 610.755 L1904.83 622.067 Z\" fill=\"#009af9\" fill-rule=\"evenodd\" fill-opacity=\"1\" stroke=\"#000000\" stroke-opacity=\"1\" stroke-width=\"3.2\"/>\n",
       "<path clip-path=\"url(#clip002)\" d=\"M1921.07 586.929 L1909.75 582.241 L1905.07 570.929 L1909.75 559.617 L1921.07 554.929 L1932.38 559.617 L1937.07 570.929 L1932.38 582.241 Z\" fill=\"#009af9\" fill-rule=\"evenodd\" fill-opacity=\"1\" stroke=\"#000000\" stroke-opacity=\"1\" stroke-width=\"3.2\"/>\n",
       "<path clip-path=\"url(#clip002)\" d=\"M1947.27 575.304 L1935.96 570.616 L1931.27 559.304 L1935.96 547.992 L1947.27 543.304 L1958.58 547.992 L1963.27 559.304 L1958.58 570.616 Z\" fill=\"#009af9\" fill-rule=\"evenodd\" fill-opacity=\"1\" stroke=\"#000000\" stroke-opacity=\"1\" stroke-width=\"3.2\"/>\n",
       "<path clip-path=\"url(#clip002)\" d=\"M1972.25 547.586 L1960.94 542.898 L1956.25 531.586 L1960.94 520.274 L1972.25 515.586 L1983.56 520.274 L1988.25 531.586 L1983.56 542.898 Z\" fill=\"#009af9\" fill-rule=\"evenodd\" fill-opacity=\"1\" stroke=\"#000000\" stroke-opacity=\"1\" stroke-width=\"3.2\"/>\n",
       "<path clip-path=\"url(#clip002)\" d=\"M1996.12 531.224 L1984.81 526.536 L1980.12 515.224 L1984.81 503.912 L1996.12 499.224 L2007.44 503.912 L2012.12 515.224 L2007.44 526.536 Z\" fill=\"#009af9\" fill-rule=\"evenodd\" fill-opacity=\"1\" stroke=\"#000000\" stroke-opacity=\"1\" stroke-width=\"3.2\"/>\n",
       "<path clip-path=\"url(#clip002)\" d=\"M2018.98 315.838 L2007.67 311.15 L2002.98 299.838 L2007.67 288.526 L2018.98 283.838 L2030.29 288.526 L2034.98 299.838 L2030.29 311.15 Z\" fill=\"#009af9\" fill-rule=\"evenodd\" fill-opacity=\"1\" stroke=\"#000000\" stroke-opacity=\"1\" stroke-width=\"3.2\"/>\n",
       "<path clip-path=\"url(#clip002)\" d=\"M2040.91 354.505 L2029.59 349.817 L2024.91 338.505 L2029.59 327.193 L2040.91 322.505 L2052.22 327.193 L2056.91 338.505 L2052.22 349.817 Z\" fill=\"#009af9\" fill-rule=\"evenodd\" fill-opacity=\"1\" stroke=\"#000000\" stroke-opacity=\"1\" stroke-width=\"3.2\"/>\n",
       "<path clip-path=\"url(#clip002)\" d=\"M2061.97 613.285 L2050.66 608.597 L2045.97 597.285 L2050.66 585.973 L2061.97 581.285 L2073.28 585.973 L2077.97 597.285 L2073.28 608.597 Z\" fill=\"#009af9\" fill-rule=\"evenodd\" fill-opacity=\"1\" stroke=\"#000000\" stroke-opacity=\"1\" stroke-width=\"3.2\"/>\n",
       "<path clip-path=\"url(#clip002)\" d=\"M2082.24 176.695 L2070.93 172.007 L2066.24 160.695 L2070.93 149.383 L2082.24 144.695 L2093.55 149.383 L2098.24 160.695 L2093.55 172.007 Z\" fill=\"#009af9\" fill-rule=\"evenodd\" fill-opacity=\"1\" stroke=\"#000000\" stroke-opacity=\"1\" stroke-width=\"3.2\"/>\n",
       "<path clip-path=\"url(#clip002)\" d=\"M2101.77 526.098 L2090.46 521.41 L2085.77 510.098 L2090.46 498.786 L2101.77 494.098 L2113.08 498.786 L2117.77 510.098 L2113.08 521.41 Z\" fill=\"#009af9\" fill-rule=\"evenodd\" fill-opacity=\"1\" stroke=\"#000000\" stroke-opacity=\"1\" stroke-width=\"3.2\"/>\n",
       "<path clip-path=\"url(#clip002)\" d=\"M2120.61 472.024 L2109.3 467.336 L2104.61 456.024 L2109.3 444.712 L2120.61 440.024 L2131.93 444.712 L2136.61 456.024 L2131.93 467.336 Z\" fill=\"#009af9\" fill-rule=\"evenodd\" fill-opacity=\"1\" stroke=\"#000000\" stroke-opacity=\"1\" stroke-width=\"3.2\"/>\n",
       "<path clip-path=\"url(#clip002)\" d=\"M2138.82 463.655 L2127.51 458.967 L2122.82 447.655 L2127.51 436.343 L2138.82 431.655 L2150.13 436.343 L2154.82 447.655 L2150.13 458.967 Z\" fill=\"#009af9\" fill-rule=\"evenodd\" fill-opacity=\"1\" stroke=\"#000000\" stroke-opacity=\"1\" stroke-width=\"3.2\"/>\n",
       "<path clip-path=\"url(#clip002)\" d=\"M2156.43 430.414 L2145.12 425.726 L2140.43 414.414 L2145.12 403.102 L2156.43 398.414 L2167.74 403.102 L2172.43 414.414 L2167.74 425.726 Z\" fill=\"#009af9\" fill-rule=\"evenodd\" fill-opacity=\"1\" stroke=\"#000000\" stroke-opacity=\"1\" stroke-width=\"3.2\"/>\n",
       "<path clip-path=\"url(#clip002)\" d=\"M2173.48 501.908 L2162.17 497.22 L2157.48 485.908 L2162.17 474.596 L2173.48 469.908 L2184.79 474.596 L2189.48 485.908 L2184.79 497.22 Z\" fill=\"#009af9\" fill-rule=\"evenodd\" fill-opacity=\"1\" stroke=\"#000000\" stroke-opacity=\"1\" stroke-width=\"3.2\"/>\n",
       "<path clip-path=\"url(#clip002)\" d=\"M2190.01 551.177 L2178.7 546.489 L2174.01 535.177 L2178.7 523.865 L2190.01 519.177 L2201.32 523.865 L2206.01 535.177 L2201.32 546.489 Z\" fill=\"#009af9\" fill-rule=\"evenodd\" fill-opacity=\"1\" stroke=\"#000000\" stroke-opacity=\"1\" stroke-width=\"3.2\"/>\n",
       "<path clip-path=\"url(#clip002)\" d=\"M2206.04 578.501 L2194.73 573.813 L2190.04 562.501 L2194.73 551.189 L2206.04 546.501 L2217.35 551.189 L2222.04 562.501 L2217.35 573.813 Z\" fill=\"#009af9\" fill-rule=\"evenodd\" fill-opacity=\"1\" stroke=\"#000000\" stroke-opacity=\"1\" stroke-width=\"3.2\"/>\n",
       "<path clip-path=\"url(#clip002)\" d=\"M2221.61 193.694 L2210.3 189.006 L2205.61 177.694 L2210.3 166.382 L2221.61 161.694 L2232.92 166.382 L2237.61 177.694 L2232.92 189.006 Z\" fill=\"#009af9\" fill-rule=\"evenodd\" fill-opacity=\"1\" stroke=\"#000000\" stroke-opacity=\"1\" stroke-width=\"3.2\"/>\n",
       "<path clip-path=\"url(#clip002)\" d=\"M2236.74 335.081 L2225.43 330.393 L2220.74 319.081 L2225.43 307.769 L2236.74 303.081 L2248.05 307.769 L2252.74 319.081 L2248.05 330.393 Z\" fill=\"#009af9\" fill-rule=\"evenodd\" fill-opacity=\"1\" stroke=\"#000000\" stroke-opacity=\"1\" stroke-width=\"3.2\"/>\n",
       "<path clip-path=\"url(#clip002)\" d=\"M2251.45 190.39 L2240.14 185.702 L2235.45 174.39 L2240.14 163.078 L2251.45 158.39 L2262.76 163.078 L2267.45 174.39 L2262.76 185.702 Z\" fill=\"#009af9\" fill-rule=\"evenodd\" fill-opacity=\"1\" stroke=\"#000000\" stroke-opacity=\"1\" stroke-width=\"3.2\"/>\n",
       "<path clip-path=\"url(#clip002)\" d=\"M2265.77 296.789 L2254.46 292.101 L2249.77 280.789 L2254.46 269.477 L2265.77 264.789 L2277.09 269.477 L2281.77 280.789 L2277.09 292.101 Z\" fill=\"#009af9\" fill-rule=\"evenodd\" fill-opacity=\"1\" stroke=\"#000000\" stroke-opacity=\"1\" stroke-width=\"3.2\"/>\n",
       "<path clip-path=\"url(#clip002)\" d=\"M2279.73 338.317 L2268.41 333.629 L2263.73 322.317 L2268.41 311.005 L2279.73 306.317 L2291.04 311.005 L2295.73 322.317 L2291.04 333.629 Z\" fill=\"#009af9\" fill-rule=\"evenodd\" fill-opacity=\"1\" stroke=\"#000000\" stroke-opacity=\"1\" stroke-width=\"3.2\"/>\n",
       "<path clip-path=\"url(#clip002)\" d=\"M2293.32 324.824 L2282.01 320.136 L2277.32 308.824 L2282.01 297.512 L2293.32 292.824 L2304.63 297.512 L2309.32 308.824 L2304.63 320.136 Z\" fill=\"#009af9\" fill-rule=\"evenodd\" fill-opacity=\"1\" stroke=\"#000000\" stroke-opacity=\"1\" stroke-width=\"3.2\"/>\n",
       "</svg>\n"
      ]
     },
     "execution_count": 7,
     "metadata": {},
     "output_type": "execute_result"
    }
   ],
   "source": [
    "plot(vect_sizes,dps,m=:o,\n",
    "    xaxis=(:log10,\"\\$n\\$\"),yaxis=(:log10,\"elapsed time (sec)\"),\n",
    "    title=\"Timing of dot product algorithm.\",label=\"data\",leg=false)"
   ]
  },
  {
   "cell_type": "markdown",
   "metadata": {
    "slideshow": {
     "slide_type": "slide"
    }
   },
   "source": [
    "Note that this is a log-log plot! Why do we use a log-log plot? Let's think about this for a moment. Suppose that the scaling is given by a **power law**, that is, suppose that $f(n) = Cn^p$ tells us how the amount of work required scales with the size of the problem. Then if we take the $\\log$ of both sides we have that \n",
    "\n",
    "$\\log(f(n)) = \\log(Cn^p) = \\log(C) + p\\log(n)$. \n",
    "\n",
    "In this last equation, we see that $\\log(f(n))$ is a linear function of $\\log(n)$ and the slope of the linear equation is the exponent $p$. "
   ]
  },
  {
   "cell_type": "markdown",
   "metadata": {
    "slideshow": {
     "slide_type": "slide"
    }
   },
   "source": [
    "Furthermore, choose any fixed value $n_{0}$, then we have that \n",
    "\n",
    "$\\frac{f(n)}{f(n_{0})} = \\frac{Cn^p}{Cn_{0}^{p}} = \\left(\\frac{n}{n_0}\\right)^p$\n",
    "\n",
    "and thus, $f(n) = f(n_{0})\\left(\\frac{n}{n_0}\\right)^p$. "
   ]
  },
  {
   "cell_type": "markdown",
   "metadata": {
    "slideshow": {
     "slide_type": "slide"
    }
   },
   "source": [
    "Let's add the line that corresponds to the $\\log$ of both sides of the last equation to our previous plot."
   ]
  },
  {
   "cell_type": "code",
   "execution_count": 8,
   "metadata": {
    "slideshow": {
     "slide_type": "slide"
    }
   },
   "outputs": [
    {
     "data": {
      "image/svg+xml": [
       "<?xml version=\"1.0\" encoding=\"utf-8\"?>\n",
       "<svg xmlns=\"http://www.w3.org/2000/svg\" xmlns:xlink=\"http://www.w3.org/1999/xlink\" width=\"600\" height=\"400\" viewBox=\"0 0 2400 1600\">\n",
       "<defs>\n",
       "  <clipPath id=\"clip040\">\n",
       "    <rect x=\"0\" y=\"0\" width=\"2400\" height=\"1600\"/>\n",
       "  </clipPath>\n",
       "</defs>\n",
       "<path clip-path=\"url(#clip040)\" d=\"\n",
       "M0 1600 L2400 1600 L2400 0 L0 0  Z\n",
       "  \" fill=\"#ffffff\" fill-rule=\"evenodd\" fill-opacity=\"1\"/>\n",
       "<defs>\n",
       "  <clipPath id=\"clip041\">\n",
       "    <rect x=\"480\" y=\"0\" width=\"1681\" height=\"1600\"/>\n",
       "  </clipPath>\n",
       "</defs>\n",
       "<defs>\n",
       "  <clipPath id=\"clip042\">\n",
       "    <rect x=\"252\" y=\"123\" width=\"2101\" height=\"1316\"/>\n",
       "  </clipPath>\n",
       "</defs>\n",
       "<path clip-path=\"url(#clip040)\" d=\"\n",
       "M252.764 1438.68 L2352.76 1438.68 L2352.76 123.472 L252.764 123.472  Z\n",
       "  \" fill=\"#ffffff\" fill-rule=\"evenodd\" fill-opacity=\"1\"/>\n",
       "<polyline clip-path=\"url(#clip042)\" style=\"stroke:#000000; stroke-linecap:butt; stroke-linejoin:round; stroke-width:2; stroke-opacity:0.1; fill:none\" points=\"\n",
       "  804.295,1438.68 804.295,123.472 \n",
       "  \"/>\n",
       "<polyline clip-path=\"url(#clip042)\" style=\"stroke:#000000; stroke-linecap:butt; stroke-linejoin:round; stroke-width:2; stroke-opacity:0.1; fill:none\" points=\"\n",
       "  2040.91,1438.68 2040.91,123.472 \n",
       "  \"/>\n",
       "<polyline clip-path=\"url(#clip040)\" style=\"stroke:#000000; stroke-linecap:butt; stroke-linejoin:round; stroke-width:4; stroke-opacity:1; fill:none\" points=\"\n",
       "  252.764,1438.68 2352.76,1438.68 \n",
       "  \"/>\n",
       "<polyline clip-path=\"url(#clip040)\" style=\"stroke:#000000; stroke-linecap:butt; stroke-linejoin:round; stroke-width:4; stroke-opacity:1; fill:none\" points=\"\n",
       "  804.295,1438.68 804.295,1422.89 \n",
       "  \"/>\n",
       "<polyline clip-path=\"url(#clip040)\" style=\"stroke:#000000; stroke-linecap:butt; stroke-linejoin:round; stroke-width:4; stroke-opacity:1; fill:none\" points=\"\n",
       "  2040.91,1438.68 2040.91,1422.89 \n",
       "  \"/>\n",
       "<path clip-path=\"url(#clip040)\" d=\"M769.738 1516.95 L777.377 1516.95 L777.377 1490.58 L769.067 1492.25 L769.067 1487.99 L777.331 1486.32 L782.007 1486.32 L782.007 1516.95 L789.645 1516.95 L789.645 1520.88 L769.738 1520.88 L769.738 1516.95 Z\" fill=\"#000000\" fill-rule=\"evenodd\" fill-opacity=\"1\" /><path clip-path=\"url(#clip040)\" d=\"M809.09 1489.4 Q805.479 1489.4 803.65 1492.97 Q801.844 1496.51 801.844 1503.64 Q801.844 1510.75 803.65 1514.31 Q805.479 1517.85 809.09 1517.85 Q812.724 1517.85 814.53 1514.31 Q816.358 1510.75 816.358 1503.64 Q816.358 1496.51 814.53 1492.97 Q812.724 1489.4 809.09 1489.4 M809.09 1485.7 Q814.9 1485.7 817.955 1490.31 Q821.034 1494.89 821.034 1503.64 Q821.034 1512.37 817.955 1516.97 Q814.9 1521.56 809.09 1521.56 Q803.28 1521.56 800.201 1516.97 Q797.145 1512.37 797.145 1503.64 Q797.145 1494.89 800.201 1490.31 Q803.28 1485.7 809.09 1485.7 Z\" fill=\"#000000\" fill-rule=\"evenodd\" fill-opacity=\"1\" /><path clip-path=\"url(#clip040)\" d=\"M833.729 1478.33 Q836.457 1478.92 837.98 1480.76 Q839.522 1482.6 839.522 1485.31 Q839.522 1489.47 836.663 1491.74 Q833.805 1494.02 828.538 1494.02 Q826.771 1494.02 824.89 1493.66 Q823.028 1493.32 821.034 1492.63 L821.034 1488.96 Q822.614 1489.88 824.495 1490.35 Q826.376 1490.82 828.426 1490.82 Q831.999 1490.82 833.861 1489.41 Q835.742 1488 835.742 1485.31 Q835.742 1482.83 833.993 1481.44 Q832.262 1480.03 829.159 1480.03 L825.887 1480.03 L825.887 1476.9 L829.31 1476.9 Q832.112 1476.9 833.598 1475.79 Q835.084 1474.67 835.084 1472.56 Q835.084 1470.4 833.541 1469.25 Q832.018 1468.08 829.159 1468.08 Q827.598 1468.08 825.811 1468.42 Q824.025 1468.76 821.881 1469.48 L821.881 1466.09 Q824.043 1465.49 825.924 1465.19 Q827.824 1464.89 829.498 1464.89 Q833.823 1464.89 836.344 1466.86 Q838.864 1468.82 838.864 1472.16 Q838.864 1474.5 837.529 1476.11 Q836.193 1477.71 833.729 1478.33 Z\" fill=\"#000000\" fill-rule=\"evenodd\" fill-opacity=\"1\" /><path clip-path=\"url(#clip040)\" d=\"M2005.36 1516.95 L2013 1516.95 L2013 1490.58 L2004.69 1492.25 L2004.69 1487.99 L2012.95 1486.32 L2017.63 1486.32 L2017.63 1516.95 L2025.27 1516.95 L2025.27 1520.88 L2005.36 1520.88 L2005.36 1516.95 Z\" fill=\"#000000\" fill-rule=\"evenodd\" fill-opacity=\"1\" /><path clip-path=\"url(#clip040)\" d=\"M2044.71 1489.4 Q2041.1 1489.4 2039.27 1492.97 Q2037.47 1496.51 2037.47 1503.64 Q2037.47 1510.75 2039.27 1514.31 Q2041.1 1517.85 2044.71 1517.85 Q2048.35 1517.85 2050.15 1514.31 Q2051.98 1510.75 2051.98 1503.64 Q2051.98 1496.51 2050.15 1492.97 Q2048.35 1489.4 2044.71 1489.4 M2044.71 1485.7 Q2050.52 1485.7 2053.58 1490.31 Q2056.66 1494.89 2056.66 1503.64 Q2056.66 1512.37 2053.58 1516.97 Q2050.52 1521.56 2044.71 1521.56 Q2038.9 1521.56 2035.82 1516.97 Q2032.77 1512.37 2032.77 1503.64 Q2032.77 1494.89 2035.82 1490.31 Q2038.9 1485.7 2044.71 1485.7 Z\" fill=\"#000000\" fill-rule=\"evenodd\" fill-opacity=\"1\" /><path clip-path=\"url(#clip040)\" d=\"M2069.33 1468.7 L2059.74 1483.69 L2069.33 1483.69 L2069.33 1468.7 M2068.34 1465.39 L2073.11 1465.39 L2073.11 1483.69 L2077.12 1483.69 L2077.12 1486.85 L2073.11 1486.85 L2073.11 1493.47 L2069.33 1493.47 L2069.33 1486.85 L2056.66 1486.85 L2056.66 1483.19 L2068.34 1465.39 Z\" fill=\"#000000\" fill-rule=\"evenodd\" fill-opacity=\"1\" /><path clip-path=\"url(#clip040)\" d=\"M1318.92 1561.42 Q1318.92 1561.68 1318.63 1562.68 Q1318.34 1563.67 1317.63 1565.22 Q1316.96 1566.77 1316.02 1568.18 Q1315.09 1569.57 1313.54 1570.6 Q1312.03 1571.6 1310.29 1571.6 Q1307.97 1571.6 1306.43 1570.05 Q1304.88 1568.5 1304.88 1566.19 Q1304.88 1564.9 1305.56 1563.13 Q1309.84 1551.69 1309.84 1547.76 Q1309.84 1543.16 1306.27 1543.16 Q1304.49 1543.16 1302.82 1543.84 Q1301.18 1544.48 1300.05 1545.38 Q1298.92 1546.28 1297.89 1547.54 Q1296.89 1548.76 1296.38 1549.6 Q1295.9 1550.41 1295.51 1551.21 L1294.67 1554.5 Q1294.48 1555.4 1293.54 1558.91 L1292.1 1564.87 Q1291.06 1569.31 1290.84 1569.73 Q1290.52 1570.63 1289.81 1571.11 Q1289.1 1571.6 1288.39 1571.6 Q1287.59 1571.6 1287.04 1571.11 Q1286.49 1570.63 1286.49 1569.79 Q1286.49 1569.66 1286.59 1569.18 Q1286.68 1568.7 1286.85 1568.02 Q1287.01 1567.35 1287.07 1566.96 L1290.9 1551.73 Q1291.61 1548.96 1291.77 1548.09 Q1291.97 1547.18 1291.97 1546.19 Q1291.97 1543.16 1289.91 1543.16 Q1288.23 1543.16 1287.14 1545.16 Q1286.04 1547.15 1285.11 1551.02 Q1284.82 1552.08 1284.62 1552.31 Q1284.46 1552.53 1283.98 1552.53 Q1283.17 1552.5 1283.17 1551.85 Q1283.17 1551.69 1283.43 1550.63 Q1283.69 1549.57 1284.17 1548.05 Q1284.69 1546.51 1285.17 1545.48 Q1285.59 1544.7 1285.82 1544.35 Q1286.07 1543.96 1286.68 1543.22 Q1287.33 1542.45 1288.17 1542.1 Q1289.04 1541.71 1290.1 1541.71 Q1292.48 1541.71 1294.22 1543.26 Q1295.96 1544.77 1296.19 1547.44 Q1300.47 1541.71 1306.46 1541.71 Q1310 1541.71 1312.03 1543.58 Q1314.06 1545.45 1314.06 1548.76 Q1314.06 1549.54 1313.9 1550.53 Q1313.77 1551.5 1313.45 1552.72 Q1313.16 1553.95 1312.9 1554.88 Q1312.64 1555.82 1312.13 1557.33 Q1311.61 1558.81 1311.39 1559.46 Q1311.16 1560.1 1310.61 1561.61 Q1310.1 1563.09 1310.03 1563.26 Q1308.84 1566.25 1308.84 1567.96 Q1308.84 1569.08 1309.2 1569.6 Q1309.58 1570.12 1310.42 1570.12 Q1312.67 1570.12 1314.35 1567.89 Q1316.06 1565.64 1317.15 1561.97 Q1317.41 1561.16 1317.54 1560.97 Q1317.7 1560.78 1318.15 1560.78 Q1318.92 1560.78 1318.92 1561.42 Z\" fill=\"#000000\" fill-rule=\"evenodd\" fill-opacity=\"1\" /><polyline clip-path=\"url(#clip042)\" style=\"stroke:#000000; stroke-linecap:butt; stroke-linejoin:round; stroke-width:2; stroke-opacity:0.1; fill:none\" points=\"\n",
       "  252.764,1030.52 2352.76,1030.52 \n",
       "  \"/>\n",
       "<polyline clip-path=\"url(#clip042)\" style=\"stroke:#000000; stroke-linecap:butt; stroke-linejoin:round; stroke-width:2; stroke-opacity:0.1; fill:none\" points=\"\n",
       "  252.764,324.042 2352.76,324.042 \n",
       "  \"/>\n",
       "<polyline clip-path=\"url(#clip040)\" style=\"stroke:#000000; stroke-linecap:butt; stroke-linejoin:round; stroke-width:4; stroke-opacity:1; fill:none\" points=\"\n",
       "  252.764,1438.68 252.764,123.472 \n",
       "  \"/>\n",
       "<polyline clip-path=\"url(#clip040)\" style=\"stroke:#000000; stroke-linecap:butt; stroke-linejoin:round; stroke-width:4; stroke-opacity:1; fill:none\" points=\"\n",
       "  252.764,1030.52 277.964,1030.52 \n",
       "  \"/>\n",
       "<polyline clip-path=\"url(#clip040)\" style=\"stroke:#000000; stroke-linecap:butt; stroke-linejoin:round; stroke-width:4; stroke-opacity:1; fill:none\" points=\"\n",
       "  252.764,324.042 277.964,324.042 \n",
       "  \"/>\n",
       "<path clip-path=\"url(#clip040)\" d=\"M116.135 1050.31 L123.774 1050.31 L123.774 1023.94 L115.464 1025.61 L115.464 1021.35 L123.728 1019.68 L128.404 1019.68 L128.404 1050.31 L136.042 1050.31 L136.042 1054.24 L116.135 1054.24 L116.135 1050.31 Z\" fill=\"#000000\" fill-rule=\"evenodd\" fill-opacity=\"1\" /><path clip-path=\"url(#clip040)\" d=\"M155.487 1022.76 Q151.876 1022.76 150.047 1026.33 Q148.241 1029.87 148.241 1037 Q148.241 1044.1 150.047 1047.67 Q151.876 1051.21 155.487 1051.21 Q159.121 1051.21 160.927 1047.67 Q162.755 1044.1 162.755 1037 Q162.755 1029.87 160.927 1026.33 Q159.121 1022.76 155.487 1022.76 M155.487 1019.06 Q161.297 1019.06 164.352 1023.67 Q167.431 1028.25 167.431 1037 Q167.431 1045.73 164.352 1050.33 Q161.297 1054.91 155.487 1054.91 Q149.677 1054.91 146.598 1050.33 Q143.542 1045.73 143.542 1037 Q143.542 1028.25 146.598 1023.67 Q149.677 1019.06 155.487 1019.06 Z\" fill=\"#000000\" fill-rule=\"evenodd\" fill-opacity=\"1\" /><path clip-path=\"url(#clip040)\" d=\"M167.431 1013.16 L191.543 1013.16 L191.543 1016.36 L167.431 1016.36 L167.431 1013.16 Z\" fill=\"#000000\" fill-rule=\"evenodd\" fill-opacity=\"1\" /><path clip-path=\"url(#clip040)\" d=\"M199.781 998.753 L214.695 998.753 L214.695 1001.95 L203.26 1001.95 L203.26 1008.83 Q204.088 1008.55 204.915 1008.42 Q205.743 1008.27 206.57 1008.27 Q211.272 1008.27 214.018 1010.85 Q216.764 1013.42 216.764 1017.82 Q216.764 1022.36 213.943 1024.88 Q211.122 1027.38 205.987 1027.38 Q204.219 1027.38 202.376 1027.08 Q200.552 1026.78 198.596 1026.18 L198.596 1022.36 Q200.288 1023.28 202.094 1023.73 Q203.899 1024.18 205.912 1024.18 Q209.166 1024.18 211.065 1022.47 Q212.965 1020.76 212.965 1017.82 Q212.965 1014.89 211.065 1013.18 Q209.166 1011.47 205.912 1011.47 Q204.388 1011.47 202.865 1011.81 Q201.36 1012.14 199.781 1012.86 L199.781 998.753 Z\" fill=\"#000000\" fill-rule=\"evenodd\" fill-opacity=\"1\" /><path clip-path=\"url(#clip040)\" d=\"M114.931 343.834 L122.57 343.834 L122.57 317.469 L114.26 319.136 L114.26 314.876 L122.524 313.21 L127.2 313.21 L127.2 343.834 L134.839 343.834 L134.839 347.77 L114.931 347.77 L114.931 343.834 Z\" fill=\"#000000\" fill-rule=\"evenodd\" fill-opacity=\"1\" /><path clip-path=\"url(#clip040)\" d=\"M154.283 316.288 Q150.672 316.288 148.843 319.853 Q147.038 323.395 147.038 330.524 Q147.038 337.631 148.843 341.196 Q150.672 344.737 154.283 344.737 Q157.917 344.737 159.723 341.196 Q161.552 337.631 161.552 330.524 Q161.552 323.395 159.723 319.853 Q157.917 316.288 154.283 316.288 M154.283 312.585 Q160.093 312.585 163.149 317.191 Q166.227 321.774 166.227 330.524 Q166.227 339.251 163.149 343.858 Q160.093 348.441 154.283 348.441 Q148.473 348.441 145.394 343.858 Q142.339 339.251 142.339 330.524 Q142.339 321.774 145.394 317.191 Q148.473 312.585 154.283 312.585 Z\" fill=\"#000000\" fill-rule=\"evenodd\" fill-opacity=\"1\" /><path clip-path=\"url(#clip040)\" d=\"M166.227 306.686 L190.339 306.686 L190.339 309.883 L166.227 309.883 L166.227 306.686 Z\" fill=\"#000000\" fill-rule=\"evenodd\" fill-opacity=\"1\" /><path clip-path=\"url(#clip040)\" d=\"M208.978 295.589 L199.386 310.579 L208.978 310.579 L208.978 295.589 M207.981 292.279 L212.758 292.279 L212.758 310.579 L216.764 310.579 L216.764 313.739 L212.758 313.739 L212.758 320.359 L208.978 320.359 L208.978 313.739 L196.301 313.739 L196.301 310.071 L207.981 292.279 Z\" fill=\"#000000\" fill-rule=\"evenodd\" fill-opacity=\"1\" /><path clip-path=\"url(#clip040)\" d=\"M44.7161 1045.67 L47.5806 1045.67 L47.5806 1072.59 Q53.6281 1072.21 56.8109 1068.96 Q59.9619 1065.69 59.9619 1059.86 Q59.9619 1056.49 59.1344 1053.34 Q58.3069 1050.15 56.6518 1047.03 L62.1899 1047.03 Q63.5267 1050.18 64.227 1053.5 Q64.9272 1056.81 64.9272 1060.21 Q64.9272 1068.74 59.9619 1073.74 Q54.9967 1078.7 46.5303 1078.7 Q37.7774 1078.7 32.6531 1073.99 Q27.4968 1069.25 27.4968 1061.23 Q27.4968 1054.04 32.1438 1049.87 Q36.7589 1045.67 44.7161 1045.67 M42.9973 1051.52 Q38.1912 1051.59 35.3266 1054.23 Q32.4621 1056.84 32.4621 1061.17 Q32.4621 1066.07 35.2312 1069.03 Q38.0002 1071.96 43.0292 1072.4 L42.9973 1051.52 Z\" fill=\"#000000\" fill-rule=\"evenodd\" fill-opacity=\"1\" /><path clip-path=\"url(#clip040)\" d=\"M14.479 1036.05 L14.479 1030.2 L64.0042 1030.2 L64.0042 1036.05 L14.479 1036.05 Z\" fill=\"#000000\" fill-rule=\"evenodd\" fill-opacity=\"1\" /><path clip-path=\"url(#clip040)\" d=\"M46.0847 1001.74 Q46.0847 1008.84 47.7079 1011.58 Q49.3312 1014.31 53.2461 1014.31 Q56.3653 1014.31 58.2114 1012.28 Q60.0256 1010.21 60.0256 1006.68 Q60.0256 1001.81 56.5881 998.877 Q53.1188 995.917 47.3897 995.917 L46.0847 995.917 L46.0847 1001.74 M43.6657 990.061 L64.0042 990.061 L64.0042 995.917 L58.5933 995.917 Q61.8398 997.922 63.3994 1000.91 Q64.9272 1003.91 64.9272 1008.23 Q64.9272 1013.71 61.8716 1016.96 Q58.7843 1020.17 53.6281 1020.17 Q47.6125 1020.17 44.5569 1016.16 Q41.5014 1012.12 41.5014 1004.13 L41.5014 995.917 L40.9285 995.917 Q36.8862 995.917 34.6901 998.591 Q32.4621 1001.23 32.4621 1006.04 Q32.4621 1009.09 33.1941 1011.99 Q33.9262 1014.89 35.3903 1017.56 L29.9795 1017.56 Q28.7381 1014.35 28.1334 1011.32 Q27.4968 1008.3 27.4968 1005.43 Q27.4968 997.7 31.5072 993.88 Q35.5176 990.061 43.6657 990.061 Z\" fill=\"#000000\" fill-rule=\"evenodd\" fill-opacity=\"1\" /><path clip-path=\"url(#clip040)\" d=\"M58.657 972.332 L77.5631 972.332 L77.5631 978.221 L28.3562 978.221 L28.3562 972.332 L33.7671 972.332 Q30.5842 970.486 29.0564 967.685 Q27.4968 964.853 27.4968 960.938 Q27.4968 954.445 32.6531 950.402 Q37.8093 946.328 46.212 946.328 Q54.6147 946.328 59.771 950.402 Q64.9272 954.445 64.9272 960.938 Q64.9272 964.853 63.3994 967.685 Q61.8398 970.486 58.657 972.332 M46.212 952.408 Q39.7508 952.408 36.0905 955.081 Q32.3984 957.723 32.3984 962.37 Q32.3984 967.017 36.0905 969.69 Q39.7508 972.332 46.212 972.332 Q52.6732 972.332 56.3653 969.69 Q60.0256 967.017 60.0256 962.37 Q60.0256 957.723 56.3653 955.081 Q52.6732 952.408 46.212 952.408 Z\" fill=\"#000000\" fill-rule=\"evenodd\" fill-opacity=\"1\" /><path clip-path=\"url(#clip040)\" d=\"M29.4065 913.895 L34.9447 913.895 Q33.6716 916.378 33.035 919.051 Q32.3984 921.725 32.3984 924.589 Q32.3984 928.95 33.7352 931.146 Q35.072 933.31 37.7456 933.31 Q39.7826 933.31 40.9603 931.751 Q42.1061 930.191 43.1565 925.481 L43.6021 923.475 Q44.9389 917.237 47.3897 914.627 Q49.8086 911.985 54.1691 911.985 Q59.1344 911.985 62.0308 915.932 Q64.9272 919.847 64.9272 926.722 Q64.9272 929.587 64.3543 932.706 Q63.8132 935.793 62.6992 939.231 L56.6518 939.231 Q58.3387 935.984 59.198 932.833 Q60.0256 929.682 60.0256 926.595 Q60.0256 922.457 58.6251 920.229 Q57.1929 918.001 54.6147 918.001 Q52.2276 918.001 50.9545 919.624 Q49.6813 921.216 48.5037 926.658 L48.0262 928.695 Q46.8804 934.138 44.5251 936.557 Q42.138 938.976 38.0002 938.976 Q32.9713 938.976 30.2341 935.411 Q27.4968 931.846 27.4968 925.29 Q27.4968 922.043 27.9743 919.179 Q28.4517 916.314 29.4065 913.895 Z\" fill=\"#000000\" fill-rule=\"evenodd\" fill-opacity=\"1\" /><path clip-path=\"url(#clip040)\" d=\"M44.7161 872.168 L47.5806 872.168 L47.5806 899.095 Q53.6281 898.713 56.8109 895.466 Q59.9619 892.188 59.9619 886.363 Q59.9619 882.99 59.1344 879.839 Q58.3069 876.656 56.6518 873.536 L62.1899 873.536 Q63.5267 876.688 64.227 879.998 Q64.9272 883.308 64.9272 886.713 Q64.9272 895.244 59.9619 900.241 Q54.9967 905.206 46.5303 905.206 Q37.7774 905.206 32.6531 900.495 Q27.4968 895.753 27.4968 887.732 Q27.4968 880.539 32.1438 876.369 Q36.7589 872.168 44.7161 872.168 M42.9973 878.024 Q38.1912 878.088 35.3266 880.73 Q32.4621 883.34 32.4621 887.668 Q32.4621 892.57 35.2312 895.53 Q38.0002 898.458 43.0292 898.904 L42.9973 878.024 Z\" fill=\"#000000\" fill-rule=\"evenodd\" fill-opacity=\"1\" /><path clip-path=\"url(#clip040)\" d=\"M33.7671 839.098 L14.479 839.098 L14.479 833.242 L64.0042 833.242 L64.0042 839.098 L58.657 839.098 Q61.8398 840.944 63.3994 843.777 Q64.9272 846.578 64.9272 850.524 Q64.9272 856.986 59.771 861.06 Q54.6147 865.102 46.212 865.102 Q37.8093 865.102 32.6531 861.06 Q27.4968 856.986 27.4968 850.524 Q27.4968 846.578 29.0564 843.777 Q30.5842 840.944 33.7671 839.098 M46.212 859.054 Q52.6732 859.054 56.3653 856.413 Q60.0256 853.739 60.0256 849.092 Q60.0256 844.445 56.3653 841.772 Q52.6732 839.098 46.212 839.098 Q39.7508 839.098 36.0905 841.772 Q32.3984 844.445 32.3984 849.092 Q32.3984 853.739 36.0905 856.413 Q39.7508 859.054 46.212 859.054 Z\" fill=\"#000000\" fill-rule=\"evenodd\" fill-opacity=\"1\" /><path clip-path=\"url(#clip040)\" d=\"M18.2347 794.665 L28.3562 794.665 L28.3562 782.602 L32.9077 782.602 L32.9077 794.665 L52.2594 794.665 Q56.6199 794.665 57.8613 793.488 Q59.1026 792.278 59.1026 788.618 L59.1026 782.602 L64.0042 782.602 L64.0042 788.618 Q64.0042 795.397 61.4897 797.976 Q58.9434 800.554 52.2594 800.554 L32.9077 800.554 L32.9077 804.851 L28.3562 804.851 L28.3562 800.554 L18.2347 800.554 L18.2347 794.665 Z\" fill=\"#000000\" fill-rule=\"evenodd\" fill-opacity=\"1\" /><path clip-path=\"url(#clip040)\" d=\"M28.3562 774.9 L28.3562 769.043 L64.0042 769.043 L64.0042 774.9 L28.3562 774.9 M14.479 774.9 L14.479 769.043 L21.895 769.043 L21.895 774.9 L14.479 774.9 Z\" fill=\"#000000\" fill-rule=\"evenodd\" fill-opacity=\"1\" /><path clip-path=\"url(#clip040)\" d=\"M35.1993 729.035 Q31.2526 726.839 29.3747 723.783 Q27.4968 720.728 27.4968 716.59 Q27.4968 711.02 31.4117 707.996 Q35.2948 704.973 42.4881 704.973 L64.0042 704.973 L64.0042 710.861 L42.679 710.861 Q37.5546 710.861 35.072 712.675 Q32.5894 714.489 32.5894 718.213 Q32.5894 722.765 35.6131 725.406 Q38.6368 728.048 43.8567 728.048 L64.0042 728.048 L64.0042 733.937 L42.679 733.937 Q37.5228 733.937 35.072 735.751 Q32.5894 737.565 32.5894 741.353 Q32.5894 745.84 35.6449 748.482 Q38.6686 751.124 43.8567 751.124 L64.0042 751.124 L64.0042 757.012 L28.3562 757.012 L28.3562 751.124 L33.8944 751.124 Q30.616 749.119 29.0564 746.318 Q27.4968 743.517 27.4968 739.666 Q27.4968 735.783 29.4702 733.077 Q31.4436 730.34 35.1993 729.035 Z\" fill=\"#000000\" fill-rule=\"evenodd\" fill-opacity=\"1\" /><path clip-path=\"url(#clip040)\" d=\"M44.7161 662.8 L47.5806 662.8 L47.5806 689.727 Q53.6281 689.345 56.8109 686.098 Q59.9619 682.82 59.9619 676.995 Q59.9619 673.621 59.1344 670.47 Q58.3069 667.288 56.6518 664.168 L62.1899 664.168 Q63.5267 667.319 64.227 670.63 Q64.9272 673.94 64.9272 677.345 Q64.9272 685.875 59.9619 690.873 Q54.9967 695.838 46.5303 695.838 Q37.7774 695.838 32.6531 691.127 Q27.4968 686.385 27.4968 678.364 Q27.4968 671.171 32.1438 667.001 Q36.7589 662.8 44.7161 662.8 M42.9973 668.656 Q38.1912 668.72 35.3266 671.362 Q32.4621 673.972 32.4621 678.3 Q32.4621 683.202 35.2312 686.162 Q38.0002 689.09 43.0292 689.536 L42.9973 668.656 Z\" fill=\"#000000\" fill-rule=\"evenodd\" fill-opacity=\"1\" /><path clip-path=\"url(#clip040)\" d=\"M14.5426 618.399 Q21.8632 622.664 29.0246 624.733 Q36.186 626.802 43.5384 626.802 Q50.8908 626.802 58.1159 624.733 Q65.3091 622.632 72.5979 618.399 L72.5979 623.492 Q65.1182 628.266 57.8931 630.653 Q50.668 633.008 43.5384 633.008 Q36.4406 633.008 29.2474 630.653 Q22.0542 628.298 14.5426 623.492 L14.5426 618.399 Z\" fill=\"#000000\" fill-rule=\"evenodd\" fill-opacity=\"1\" /><path clip-path=\"url(#clip040)\" d=\"M29.4065 584.311 L34.9447 584.311 Q33.6716 586.793 33.035 589.467 Q32.3984 592.14 32.3984 595.005 Q32.3984 599.365 33.7352 601.562 Q35.072 603.726 37.7456 603.726 Q39.7826 603.726 40.9603 602.166 Q42.1061 600.607 43.1565 595.896 L43.6021 593.891 Q44.9389 587.653 47.3897 585.043 Q49.8086 582.401 54.1691 582.401 Q59.1344 582.401 62.0308 586.348 Q64.9272 590.263 64.9272 597.137 Q64.9272 600.002 64.3543 603.121 Q63.8132 606.209 62.6992 609.646 L56.6518 609.646 Q58.3387 606.4 59.198 603.249 Q60.0256 600.098 60.0256 597.01 Q60.0256 592.872 58.6251 590.644 Q57.1929 588.416 54.6147 588.416 Q52.2276 588.416 50.9545 590.04 Q49.6813 591.631 48.5037 597.074 L48.0262 599.111 Q46.8804 604.554 44.5251 606.973 Q42.138 609.391 38.0002 609.391 Q32.9713 609.391 30.2341 605.827 Q27.4968 602.262 27.4968 595.705 Q27.4968 592.459 27.9743 589.594 Q28.4517 586.73 29.4065 584.311 Z\" fill=\"#000000\" fill-rule=\"evenodd\" fill-opacity=\"1\" /><path clip-path=\"url(#clip040)\" d=\"M44.7161 542.583 L47.5806 542.583 L47.5806 569.51 Q53.6281 569.128 56.8109 565.882 Q59.9619 562.604 59.9619 556.779 Q59.9619 553.405 59.1344 550.254 Q58.3069 547.071 56.6518 543.952 L62.1899 543.952 Q63.5267 547.103 64.227 550.413 Q64.9272 553.723 64.9272 557.129 Q64.9272 565.659 59.9619 570.656 Q54.9967 575.621 46.5303 575.621 Q37.7774 575.621 32.6531 570.911 Q27.4968 566.168 27.4968 558.148 Q27.4968 550.954 32.1438 546.785 Q36.7589 542.583 44.7161 542.583 M42.9973 548.44 Q38.1912 548.504 35.3266 551.145 Q32.4621 553.755 32.4621 558.084 Q32.4621 562.985 35.2312 565.946 Q38.0002 568.874 43.0292 569.319 L42.9973 548.44 Z\" fill=\"#000000\" fill-rule=\"evenodd\" fill-opacity=\"1\" /><path clip-path=\"url(#clip040)\" d=\"M29.7248 507.317 L35.1993 507.317 Q33.8307 509.8 33.1623 512.314 Q32.4621 514.797 32.4621 517.343 Q32.4621 523.041 36.0905 526.192 Q39.6872 529.343 46.212 529.343 Q52.7369 529.343 56.3653 526.192 Q59.9619 523.041 59.9619 517.343 Q59.9619 514.797 59.2935 512.314 Q58.5933 509.8 57.2247 507.317 L62.6355 507.317 Q63.7814 509.768 64.3543 512.41 Q64.9272 515.02 64.9272 517.98 Q64.9272 526.033 59.8664 530.775 Q54.8057 535.517 46.212 535.517 Q37.491 535.517 32.4939 530.743 Q27.4968 525.937 27.4968 517.598 Q27.4968 514.893 28.0697 512.314 Q28.6108 509.736 29.7248 507.317 Z\" fill=\"#000000\" fill-rule=\"evenodd\" fill-opacity=\"1\" /><path clip-path=\"url(#clip040)\" d=\"M14.5426 498.055 L14.5426 492.963 Q22.0542 488.188 29.2474 485.833 Q36.4406 483.446 43.5384 483.446 Q50.668 483.446 57.8931 485.833 Q65.1182 488.188 72.5979 492.963 L72.5979 498.055 Q65.3091 493.822 58.1159 491.753 Q50.8908 489.653 43.5384 489.653 Q36.186 489.653 29.0246 491.753 Q21.8632 493.822 14.5426 498.055 Z\" fill=\"#000000\" fill-rule=\"evenodd\" fill-opacity=\"1\" /><path clip-path=\"url(#clip040)\" d=\"M633.348 12.096 L684.511 12.096 L684.511 18.9825 L663.041 18.9825 L663.041 72.576 L654.818 72.576 L654.818 18.9825 L633.348 18.9825 L633.348 12.096 Z\" fill=\"#000000\" fill-rule=\"evenodd\" fill-opacity=\"1\" /><path clip-path=\"url(#clip040)\" d=\"M689.534 27.2059 L696.988 27.2059 L696.988 72.576 L689.534 72.576 L689.534 27.2059 M689.534 9.54393 L696.988 9.54393 L696.988 18.9825 L689.534 18.9825 L689.534 9.54393 Z\" fill=\"#000000\" fill-rule=\"evenodd\" fill-opacity=\"1\" /><path clip-path=\"url(#clip040)\" d=\"M747.908 35.9153 Q750.703 30.8922 754.592 28.5022 Q758.48 26.1121 763.747 26.1121 Q770.836 26.1121 774.684 31.0947 Q778.532 36.0368 778.532 45.1919 L778.532 72.576 L771.038 72.576 L771.038 45.4349 Q771.038 38.913 768.729 35.7533 Q766.42 32.5936 761.681 32.5936 Q755.888 32.5936 752.526 36.4419 Q749.163 40.2903 749.163 46.9338 L749.163 72.576 L741.669 72.576 L741.669 45.4349 Q741.669 38.8725 739.36 35.7533 Q737.051 32.5936 732.231 32.5936 Q726.519 32.5936 723.157 36.4824 Q719.794 40.3308 719.794 46.9338 L719.794 72.576 L712.3 72.576 L712.3 27.2059 L719.794 27.2059 L719.794 34.2544 Q722.346 30.082 725.911 28.0971 Q729.476 26.1121 734.378 26.1121 Q739.32 26.1121 742.763 28.6237 Q746.247 31.1352 747.908 35.9153 Z\" fill=\"#000000\" fill-rule=\"evenodd\" fill-opacity=\"1\" /><path clip-path=\"url(#clip040)\" d=\"M793.399 27.2059 L800.853 27.2059 L800.853 72.576 L793.399 72.576 L793.399 27.2059 M793.399 9.54393 L800.853 9.54393 L800.853 18.9825 L793.399 18.9825 L793.399 9.54393 Z\" fill=\"#000000\" fill-rule=\"evenodd\" fill-opacity=\"1\" /><path clip-path=\"url(#clip040)\" d=\"M854.163 45.1919 L854.163 72.576 L846.709 72.576 L846.709 45.4349 Q846.709 38.994 844.198 35.7938 Q841.686 32.5936 836.663 32.5936 Q830.627 32.5936 827.143 36.4419 Q823.659 40.2903 823.659 46.9338 L823.659 72.576 L816.165 72.576 L816.165 27.2059 L823.659 27.2059 L823.659 34.2544 Q826.333 30.163 829.938 28.1376 Q833.584 26.1121 838.324 26.1121 Q846.142 26.1121 850.152 30.9732 Q854.163 35.7938 854.163 45.1919 Z\" fill=\"#000000\" fill-rule=\"evenodd\" fill-opacity=\"1\" /><path clip-path=\"url(#clip040)\" d=\"M898.885 49.3643 Q898.885 41.2625 895.523 36.8065 Q892.201 32.3505 886.165 32.3505 Q880.17 32.3505 876.807 36.8065 Q873.486 41.2625 873.486 49.3643 Q873.486 57.4256 876.807 61.8816 Q880.17 66.3376 886.165 66.3376 Q892.201 66.3376 895.523 61.8816 Q898.885 57.4256 898.885 49.3643 M906.338 66.9452 Q906.338 78.5308 901.194 84.1616 Q896.049 89.8329 885.436 89.8329 Q881.506 89.8329 878.023 89.2252 Q874.539 88.6581 871.258 87.4428 L871.258 80.1917 Q874.539 81.9741 877.739 82.8248 Q880.939 83.6755 884.261 83.6755 Q891.593 83.6755 895.239 79.8271 Q898.885 76.0193 898.885 68.282 L898.885 64.5957 Q896.576 68.6061 892.97 70.5911 Q889.365 72.576 884.342 72.576 Q875.997 72.576 870.893 66.2161 Q865.789 59.8562 865.789 49.3643 Q865.789 38.832 870.893 32.472 Q875.997 26.1121 884.342 26.1121 Q889.365 26.1121 892.97 28.0971 Q896.576 30.082 898.885 34.0924 L898.885 27.2059 L906.338 27.2059 L906.338 66.9452 Z\" fill=\"#000000\" fill-rule=\"evenodd\" fill-opacity=\"1\" /><path clip-path=\"url(#clip040)\" d=\"M965.644 32.4315 Q959.648 32.4315 956.165 37.1306 Q952.681 41.7891 952.681 49.9314 Q952.681 58.0738 956.124 62.7728 Q959.608 67.4314 965.644 67.4314 Q971.599 67.4314 975.082 62.7323 Q978.566 58.0333 978.566 49.9314 Q978.566 41.8701 975.082 37.1711 Q971.599 32.4315 965.644 32.4315 M965.644 26.1121 Q975.366 26.1121 980.916 32.4315 Q986.465 38.7509 986.465 49.9314 Q986.465 61.0714 980.916 67.4314 Q975.366 73.7508 965.644 73.7508 Q955.881 73.7508 950.331 67.4314 Q944.822 61.0714 944.822 49.9314 Q944.822 38.7509 950.331 32.4315 Q955.881 26.1121 965.644 26.1121 Z\" fill=\"#000000\" fill-rule=\"evenodd\" fill-opacity=\"1\" /><path clip-path=\"url(#clip040)\" d=\"M1021.79 9.54393 L1021.79 15.7418 L1014.66 15.7418 Q1010.65 15.7418 1009.07 17.3622 Q1007.53 18.9825 1007.53 23.1955 L1007.53 27.2059 L1019.8 27.2059 L1019.8 32.9987 L1007.53 32.9987 L1007.53 72.576 L1000.04 72.576 L1000.04 32.9987 L992.906 32.9987 L992.906 27.2059 L1000.04 27.2059 L1000.04 24.0462 Q1000.04 16.471 1003.56 13.0277 Q1007.08 9.54393 1014.74 9.54393 L1021.79 9.54393 Z\" fill=\"#000000\" fill-rule=\"evenodd\" fill-opacity=\"1\" /><path clip-path=\"url(#clip040)\" d=\"M1084.25 34.0924 L1084.25 9.54393 L1091.71 9.54393 L1091.71 72.576 L1084.25 72.576 L1084.25 65.7705 Q1081.9 69.8214 1078.3 71.8063 Q1074.73 73.7508 1069.71 73.7508 Q1061.49 73.7508 1056.3 67.1883 Q1051.16 60.6258 1051.16 49.9314 Q1051.16 39.2371 1056.3 32.6746 Q1061.49 26.1121 1069.71 26.1121 Q1074.73 26.1121 1078.3 28.0971 Q1081.9 30.0415 1084.25 34.0924 M1058.85 49.9314 Q1058.85 58.1548 1062.22 62.8538 Q1065.62 67.5124 1071.53 67.5124 Q1077.45 67.5124 1080.85 62.8538 Q1084.25 58.1548 1084.25 49.9314 Q1084.25 41.7081 1080.85 37.0496 Q1077.45 32.3505 1071.53 32.3505 Q1065.62 32.3505 1062.22 37.0496 Q1058.85 41.7081 1058.85 49.9314 Z\" fill=\"#000000\" fill-rule=\"evenodd\" fill-opacity=\"1\" /><path clip-path=\"url(#clip040)\" d=\"M1124.64 32.4315 Q1118.65 32.4315 1115.16 37.1306 Q1111.68 41.7891 1111.68 49.9314 Q1111.68 58.0738 1115.12 62.7728 Q1118.61 67.4314 1124.64 67.4314 Q1130.6 67.4314 1134.08 62.7323 Q1137.56 58.0333 1137.56 49.9314 Q1137.56 41.8701 1134.08 37.1711 Q1130.6 32.4315 1124.64 32.4315 M1124.64 26.1121 Q1134.36 26.1121 1139.91 32.4315 Q1145.46 38.7509 1145.46 49.9314 Q1145.46 61.0714 1139.91 67.4314 Q1134.36 73.7508 1124.64 73.7508 Q1114.88 73.7508 1109.33 67.4314 Q1103.82 61.0714 1103.82 49.9314 Q1103.82 38.7509 1109.33 32.4315 Q1114.88 26.1121 1124.64 26.1121 Z\" fill=\"#000000\" fill-rule=\"evenodd\" fill-opacity=\"1\" /><path clip-path=\"url(#clip040)\" d=\"M1165.19 14.324 L1165.19 27.2059 L1180.54 27.2059 L1180.54 32.9987 L1165.19 32.9987 L1165.19 57.6282 Q1165.19 63.1779 1166.69 64.7578 Q1168.23 66.3376 1172.89 66.3376 L1180.54 66.3376 L1180.54 72.576 L1172.89 72.576 Q1164.26 72.576 1160.98 69.3758 Q1157.7 66.1351 1157.7 57.6282 L1157.7 32.9987 L1152.23 32.9987 L1152.23 27.2059 L1157.7 27.2059 L1157.7 14.324 L1165.19 14.324 Z\" fill=\"#000000\" fill-rule=\"evenodd\" fill-opacity=\"1\" /><path clip-path=\"url(#clip040)\" d=\"M1223.93 65.7705 L1223.93 89.8329 L1216.44 89.8329 L1216.44 27.2059 L1223.93 27.2059 L1223.93 34.0924 Q1226.28 30.0415 1229.84 28.0971 Q1233.45 26.1121 1238.43 26.1121 Q1246.7 26.1121 1251.84 32.6746 Q1257.03 39.2371 1257.03 49.9314 Q1257.03 60.6258 1251.84 67.1883 Q1246.7 73.7508 1238.43 73.7508 Q1233.45 73.7508 1229.84 71.8063 Q1226.28 69.8214 1223.93 65.7705 M1249.29 49.9314 Q1249.29 41.7081 1245.89 37.0496 Q1242.52 32.3505 1236.61 32.3505 Q1230.69 32.3505 1227.29 37.0496 Q1223.93 41.7081 1223.93 49.9314 Q1223.93 58.1548 1227.29 62.8538 Q1230.69 67.5124 1236.61 67.5124 Q1242.52 67.5124 1245.89 62.8538 Q1249.29 58.1548 1249.29 49.9314 Z\" fill=\"#000000\" fill-rule=\"evenodd\" fill-opacity=\"1\" /><path clip-path=\"url(#clip040)\" d=\"M1295.67 34.1734 Q1294.42 33.4443 1292.92 33.1202 Q1291.46 32.7556 1289.68 32.7556 Q1283.36 32.7556 1279.95 36.8875 Q1276.59 40.9789 1276.59 48.6757 L1276.59 72.576 L1269.1 72.576 L1269.1 27.2059 L1276.59 27.2059 L1276.59 34.2544 Q1278.94 30.1225 1282.71 28.1376 Q1286.48 26.1121 1291.86 26.1121 Q1292.63 26.1121 1293.56 26.2337 Q1294.5 26.3147 1295.63 26.5172 L1295.67 34.1734 Z\" fill=\"#000000\" fill-rule=\"evenodd\" fill-opacity=\"1\" /><path clip-path=\"url(#clip040)\" d=\"M1319.25 32.4315 Q1313.25 32.4315 1309.77 37.1306 Q1306.28 41.7891 1306.28 49.9314 Q1306.28 58.0738 1309.73 62.7728 Q1313.21 67.4314 1319.25 67.4314 Q1325.2 67.4314 1328.69 62.7323 Q1332.17 58.0333 1332.17 49.9314 Q1332.17 41.8701 1328.69 37.1711 Q1325.2 32.4315 1319.25 32.4315 M1319.25 26.1121 Q1328.97 26.1121 1334.52 32.4315 Q1340.07 38.7509 1340.07 49.9314 Q1340.07 61.0714 1334.52 67.4314 Q1328.97 73.7508 1319.25 73.7508 Q1309.48 73.7508 1303.93 67.4314 Q1298.43 61.0714 1298.43 49.9314 Q1298.43 38.7509 1303.93 32.4315 Q1309.48 26.1121 1319.25 26.1121 Z\" fill=\"#000000\" fill-rule=\"evenodd\" fill-opacity=\"1\" /><path clip-path=\"url(#clip040)\" d=\"M1382.28 34.0924 L1382.28 9.54393 L1389.73 9.54393 L1389.73 72.576 L1382.28 72.576 L1382.28 65.7705 Q1379.93 69.8214 1376.32 71.8063 Q1372.76 73.7508 1367.74 73.7508 Q1359.51 73.7508 1354.33 67.1883 Q1349.18 60.6258 1349.18 49.9314 Q1349.18 39.2371 1354.33 32.6746 Q1359.51 26.1121 1367.74 26.1121 Q1372.76 26.1121 1376.32 28.0971 Q1379.93 30.0415 1382.28 34.0924 M1356.88 49.9314 Q1356.88 58.1548 1360.24 62.8538 Q1363.65 67.5124 1369.56 67.5124 Q1375.47 67.5124 1378.88 62.8538 Q1382.28 58.1548 1382.28 49.9314 Q1382.28 41.7081 1378.88 37.0496 Q1375.47 32.3505 1369.56 32.3505 Q1363.65 32.3505 1360.24 37.0496 Q1356.88 41.7081 1356.88 49.9314 Z\" fill=\"#000000\" fill-rule=\"evenodd\" fill-opacity=\"1\" /><path clip-path=\"url(#clip040)\" d=\"M1404.32 54.671 L1404.32 27.2059 L1411.77 27.2059 L1411.77 54.3874 Q1411.77 60.8284 1414.28 64.0691 Q1416.79 67.2693 1421.82 67.2693 Q1427.85 67.2693 1431.34 63.421 Q1434.86 59.5726 1434.86 52.9291 L1434.86 27.2059 L1442.31 27.2059 L1442.31 72.576 L1434.86 72.576 L1434.86 65.6084 Q1432.15 69.7404 1428.54 71.7658 Q1424.98 73.7508 1420.24 73.7508 Q1412.42 73.7508 1408.37 68.8897 Q1404.32 64.0286 1404.32 54.671 M1423.07 26.1121 L1423.07 26.1121 Z\" fill=\"#000000\" fill-rule=\"evenodd\" fill-opacity=\"1\" /><path clip-path=\"url(#clip040)\" d=\"M1490.32 28.9478 L1490.32 35.9153 Q1487.16 34.1734 1483.96 33.3227 Q1480.8 32.4315 1477.56 32.4315 Q1470.31 32.4315 1466.29 37.0496 Q1462.28 41.6271 1462.28 49.9314 Q1462.28 58.2358 1466.29 62.8538 Q1470.31 67.4314 1477.56 67.4314 Q1480.8 67.4314 1483.96 66.5807 Q1487.16 65.6895 1490.32 63.9476 L1490.32 70.8341 Q1487.2 72.2924 1483.84 73.0216 Q1480.51 73.7508 1476.75 73.7508 Q1466.5 73.7508 1460.46 67.3098 Q1454.43 60.8689 1454.43 49.9314 Q1454.43 38.832 1460.5 32.472 Q1466.62 26.1121 1477.23 26.1121 Q1480.68 26.1121 1483.96 26.8413 Q1487.24 27.5299 1490.32 28.9478 Z\" fill=\"#000000\" fill-rule=\"evenodd\" fill-opacity=\"1\" /><path clip-path=\"url(#clip040)\" d=\"M1510.65 14.324 L1510.65 27.2059 L1526.01 27.2059 L1526.01 32.9987 L1510.65 32.9987 L1510.65 57.6282 Q1510.65 63.1779 1512.15 64.7578 Q1513.69 66.3376 1518.35 66.3376 L1526.01 66.3376 L1526.01 72.576 L1518.35 72.576 Q1509.72 72.576 1506.44 69.3758 Q1503.16 66.1351 1503.16 57.6282 L1503.16 32.9987 L1497.69 32.9987 L1497.69 27.2059 L1503.16 27.2059 L1503.16 14.324 L1510.65 14.324 Z\" fill=\"#000000\" fill-rule=\"evenodd\" fill-opacity=\"1\" /><path clip-path=\"url(#clip040)\" d=\"M1582.8 49.7694 Q1573.77 49.7694 1570.28 51.8354 Q1566.8 53.9013 1566.8 58.8839 Q1566.8 62.8538 1569.39 65.2034 Q1572.02 67.5124 1576.52 67.5124 Q1582.72 67.5124 1586.44 63.1374 Q1590.21 58.7219 1590.21 51.4303 L1590.21 49.7694 L1582.8 49.7694 M1597.67 46.6907 L1597.67 72.576 L1590.21 72.576 L1590.21 65.6895 Q1587.66 69.8214 1583.85 71.8063 Q1580.04 73.7508 1574.54 73.7508 Q1567.57 73.7508 1563.44 69.8619 Q1559.34 65.9325 1559.34 59.3701 Q1559.34 51.7138 1564.45 47.825 Q1569.59 43.9361 1579.76 43.9361 L1590.21 43.9361 L1590.21 43.2069 Q1590.21 38.0623 1586.81 35.2672 Q1583.45 32.4315 1577.33 32.4315 Q1573.44 32.4315 1569.76 33.3632 Q1566.07 34.295 1562.67 36.1584 L1562.67 29.2718 Q1566.76 27.692 1570.61 26.9223 Q1574.45 26.1121 1578.1 26.1121 Q1587.94 26.1121 1592.8 31.2163 Q1597.67 36.3204 1597.67 46.6907 Z\" fill=\"#000000\" fill-rule=\"evenodd\" fill-opacity=\"1\" /><path clip-path=\"url(#clip040)\" d=\"M1613.02 9.54393 L1620.47 9.54393 L1620.47 72.576 L1613.02 72.576 L1613.02 9.54393 Z\" fill=\"#000000\" fill-rule=\"evenodd\" fill-opacity=\"1\" /><path clip-path=\"url(#clip040)\" d=\"M1665.92 49.3643 Q1665.92 41.2625 1662.56 36.8065 Q1659.24 32.3505 1653.2 32.3505 Q1647.21 32.3505 1643.85 36.8065 Q1640.52 41.2625 1640.52 49.3643 Q1640.52 57.4256 1643.85 61.8816 Q1647.21 66.3376 1653.2 66.3376 Q1659.24 66.3376 1662.56 61.8816 Q1665.92 57.4256 1665.92 49.3643 M1673.38 66.9452 Q1673.38 78.5308 1668.23 84.1616 Q1663.09 89.8329 1652.47 89.8329 Q1648.55 89.8329 1645.06 89.2252 Q1641.58 88.6581 1638.3 87.4428 L1638.3 80.1917 Q1641.58 81.9741 1644.78 82.8248 Q1647.98 83.6755 1651.3 83.6755 Q1658.63 83.6755 1662.28 79.8271 Q1665.92 76.0193 1665.92 68.282 L1665.92 64.5957 Q1663.61 68.6061 1660.01 70.5911 Q1656.4 72.576 1651.38 72.576 Q1643.04 72.576 1637.93 66.2161 Q1632.83 59.8562 1632.83 49.3643 Q1632.83 38.832 1637.93 32.472 Q1643.04 26.1121 1651.38 26.1121 Q1656.4 26.1121 1660.01 28.0971 Q1663.61 30.082 1665.92 34.0924 L1665.92 27.2059 L1673.38 27.2059 L1673.38 66.9452 Z\" fill=\"#000000\" fill-rule=\"evenodd\" fill-opacity=\"1\" /><path clip-path=\"url(#clip040)\" d=\"M1706.31 32.4315 Q1700.32 32.4315 1696.83 37.1306 Q1693.35 41.7891 1693.35 49.9314 Q1693.35 58.0738 1696.79 62.7728 Q1700.28 67.4314 1706.31 67.4314 Q1712.27 67.4314 1715.75 62.7323 Q1719.23 58.0333 1719.23 49.9314 Q1719.23 41.8701 1715.75 37.1711 Q1712.27 32.4315 1706.31 32.4315 M1706.31 26.1121 Q1716.03 26.1121 1721.58 32.4315 Q1727.13 38.7509 1727.13 49.9314 Q1727.13 61.0714 1721.58 67.4314 Q1716.03 73.7508 1706.31 73.7508 Q1696.55 73.7508 1691 67.4314 Q1685.49 61.0714 1685.49 49.9314 Q1685.49 38.7509 1691 32.4315 Q1696.55 26.1121 1706.31 26.1121 Z\" fill=\"#000000\" fill-rule=\"evenodd\" fill-opacity=\"1\" /><path clip-path=\"url(#clip040)\" d=\"M1765.78 34.1734 Q1764.52 33.4443 1763.02 33.1202 Q1761.57 32.7556 1759.78 32.7556 Q1753.46 32.7556 1750.06 36.8875 Q1746.7 40.9789 1746.7 48.6757 L1746.7 72.576 L1739.2 72.576 L1739.2 27.2059 L1746.7 27.2059 L1746.7 34.2544 Q1749.05 30.1225 1752.82 28.1376 Q1756.58 26.1121 1761.97 26.1121 Q1762.74 26.1121 1763.67 26.2337 Q1764.6 26.3147 1765.74 26.5172 L1765.78 34.1734 Z\" fill=\"#000000\" fill-rule=\"evenodd\" fill-opacity=\"1\" /><path clip-path=\"url(#clip040)\" d=\"M1773.6 27.2059 L1781.05 27.2059 L1781.05 72.576 L1773.6 72.576 L1773.6 27.2059 M1773.6 9.54393 L1781.05 9.54393 L1781.05 18.9825 L1773.6 18.9825 L1773.6 9.54393 Z\" fill=\"#000000\" fill-rule=\"evenodd\" fill-opacity=\"1\" /><path clip-path=\"url(#clip040)\" d=\"M1804.02 14.324 L1804.02 27.2059 L1819.37 27.2059 L1819.37 32.9987 L1804.02 32.9987 L1804.02 57.6282 Q1804.02 63.1779 1805.52 64.7578 Q1807.06 66.3376 1811.72 66.3376 L1819.37 66.3376 L1819.37 72.576 L1811.72 72.576 Q1803.09 72.576 1799.81 69.3758 Q1796.52 66.1351 1796.52 57.6282 L1796.52 32.9987 L1791.06 32.9987 L1791.06 27.2059 L1796.52 27.2059 L1796.52 14.324 L1804.02 14.324 Z\" fill=\"#000000\" fill-rule=\"evenodd\" fill-opacity=\"1\" /><path clip-path=\"url(#clip040)\" d=\"M1866.89 45.1919 L1866.89 72.576 L1859.44 72.576 L1859.44 45.4349 Q1859.44 38.994 1856.92 35.7938 Q1854.41 32.5936 1849.39 32.5936 Q1843.35 32.5936 1839.87 36.4419 Q1836.39 40.2903 1836.39 46.9338 L1836.39 72.576 L1828.89 72.576 L1828.89 9.54393 L1836.39 9.54393 L1836.39 34.2544 Q1839.06 30.163 1842.66 28.1376 Q1846.31 26.1121 1851.05 26.1121 Q1858.87 26.1121 1862.88 30.9732 Q1866.89 35.7938 1866.89 45.1919 Z\" fill=\"#000000\" fill-rule=\"evenodd\" fill-opacity=\"1\" /><path clip-path=\"url(#clip040)\" d=\"M1917.08 35.9153 Q1919.87 30.8922 1923.76 28.5022 Q1927.65 26.1121 1932.92 26.1121 Q1940.01 26.1121 1943.86 31.0947 Q1947.7 36.0368 1947.7 45.1919 L1947.7 72.576 L1940.21 72.576 L1940.21 45.4349 Q1940.21 38.913 1937.9 35.7533 Q1935.59 32.5936 1930.85 32.5936 Q1925.06 32.5936 1921.7 36.4419 Q1918.34 40.2903 1918.34 46.9338 L1918.34 72.576 L1910.84 72.576 L1910.84 45.4349 Q1910.84 38.8725 1908.53 35.7533 Q1906.22 32.5936 1901.4 32.5936 Q1895.69 32.5936 1892.33 36.4824 Q1888.97 40.3308 1888.97 46.9338 L1888.97 72.576 L1881.47 72.576 L1881.47 27.2059 L1888.97 27.2059 L1888.97 34.2544 Q1891.52 30.082 1895.08 28.0971 Q1898.65 26.1121 1903.55 26.1121 Q1908.49 26.1121 1911.93 28.6237 Q1915.42 31.1352 1917.08 35.9153 Z\" fill=\"#000000\" fill-rule=\"evenodd\" fill-opacity=\"1\" /><path clip-path=\"url(#clip040)\" d=\"M1963.62 62.2867 L1972.17 62.2867 L1972.17 72.576 L1963.62 72.576 L1963.62 62.2867 Z\" fill=\"#000000\" fill-rule=\"evenodd\" fill-opacity=\"1\" /><polyline clip-path=\"url(#clip042)\" style=\"stroke:#009af9; stroke-linecap:butt; stroke-linejoin:round; stroke-width:4; stroke-opacity:1; fill:none\" points=\"\n",
       "  312.198,880.611 684.455,597.6 902.211,1073.24 1056.71,1052.78 1176.55,954.775 1274.47,947.667 1357.25,922.928 1428.97,888.234 1492.22,833.584 1548.81,827.192 \n",
       "  1599.99,743.306 1646.72,668.884 1689.71,609.036 1729.51,719.025 1766.56,534.877 1801.23,558.978 1833.78,573.849 1864.48,486.45 1893.52,491.703 1921.07,462.412 \n",
       "  1947.27,453.863 1972.25,433.476 1996.12,421.443 2018.98,263.031 2040.91,291.47 2061.97,481.797 2082.24,160.695 2101.77,417.673 2120.61,377.902 2138.82,371.748 \n",
       "  2156.43,347.299 2173.48,399.881 2190.01,436.117 2206.04,456.214 2221.61,173.197 2236.74,277.185 2251.45,170.767 2265.77,249.021 2279.73,279.564 2293.32,269.64 \n",
       "  \n",
       "  \"/>\n",
       "<path clip-path=\"url(#clip042)\" d=\"M312.198 896.611 L300.886 891.923 L296.198 880.611 L300.886 869.299 L312.198 864.611 L323.51 869.299 L328.198 880.611 L323.51 891.923 Z\" fill=\"#009af9\" fill-rule=\"evenodd\" fill-opacity=\"1\" stroke=\"#000000\" stroke-opacity=\"1\" stroke-width=\"3.2\"/>\n",
       "<path clip-path=\"url(#clip042)\" d=\"M684.455 613.6 L673.143 608.912 L668.455 597.6 L673.143 586.288 L684.455 581.6 L695.767 586.288 L700.455 597.6 L695.767 608.912 Z\" fill=\"#009af9\" fill-rule=\"evenodd\" fill-opacity=\"1\" stroke=\"#000000\" stroke-opacity=\"1\" stroke-width=\"3.2\"/>\n",
       "<path clip-path=\"url(#clip042)\" d=\"M902.211 1089.24 L890.899 1084.56 L886.211 1073.24 L890.899 1061.93 L902.211 1057.24 L913.523 1061.93 L918.211 1073.24 L913.523 1084.56 Z\" fill=\"#009af9\" fill-rule=\"evenodd\" fill-opacity=\"1\" stroke=\"#000000\" stroke-opacity=\"1\" stroke-width=\"3.2\"/>\n",
       "<path clip-path=\"url(#clip042)\" d=\"M1056.71 1068.78 L1045.4 1064.09 L1040.71 1052.78 L1045.4 1041.47 L1056.71 1036.78 L1068.02 1041.47 L1072.71 1052.78 L1068.02 1064.09 Z\" fill=\"#009af9\" fill-rule=\"evenodd\" fill-opacity=\"1\" stroke=\"#000000\" stroke-opacity=\"1\" stroke-width=\"3.2\"/>\n",
       "<path clip-path=\"url(#clip042)\" d=\"M1176.55 970.775 L1165.24 966.087 L1160.55 954.775 L1165.24 943.463 L1176.55 938.775 L1187.86 943.463 L1192.55 954.775 L1187.86 966.087 Z\" fill=\"#009af9\" fill-rule=\"evenodd\" fill-opacity=\"1\" stroke=\"#000000\" stroke-opacity=\"1\" stroke-width=\"3.2\"/>\n",
       "<path clip-path=\"url(#clip042)\" d=\"M1274.47 963.667 L1263.16 958.979 L1258.47 947.667 L1263.16 936.355 L1274.47 931.667 L1285.78 936.355 L1290.47 947.667 L1285.78 958.979 Z\" fill=\"#009af9\" fill-rule=\"evenodd\" fill-opacity=\"1\" stroke=\"#000000\" stroke-opacity=\"1\" stroke-width=\"3.2\"/>\n",
       "<path clip-path=\"url(#clip042)\" d=\"M1357.25 938.928 L1345.94 934.24 L1341.25 922.928 L1345.94 911.616 L1357.25 906.928 L1368.57 911.616 L1373.25 922.928 L1368.57 934.24 Z\" fill=\"#009af9\" fill-rule=\"evenodd\" fill-opacity=\"1\" stroke=\"#000000\" stroke-opacity=\"1\" stroke-width=\"3.2\"/>\n",
       "<path clip-path=\"url(#clip042)\" d=\"M1428.97 904.234 L1417.66 899.546 L1412.97 888.234 L1417.66 876.922 L1428.97 872.234 L1440.28 876.922 L1444.97 888.234 L1440.28 899.546 Z\" fill=\"#009af9\" fill-rule=\"evenodd\" fill-opacity=\"1\" stroke=\"#000000\" stroke-opacity=\"1\" stroke-width=\"3.2\"/>\n",
       "<path clip-path=\"url(#clip042)\" d=\"M1492.22 849.584 L1480.91 844.896 L1476.22 833.584 L1480.91 822.272 L1492.22 817.584 L1503.54 822.272 L1508.22 833.584 L1503.54 844.896 Z\" fill=\"#009af9\" fill-rule=\"evenodd\" fill-opacity=\"1\" stroke=\"#000000\" stroke-opacity=\"1\" stroke-width=\"3.2\"/>\n",
       "<path clip-path=\"url(#clip042)\" d=\"M1548.81 843.192 L1537.5 838.504 L1532.81 827.192 L1537.5 815.88 L1548.81 811.192 L1560.12 815.88 L1564.81 827.192 L1560.12 838.504 Z\" fill=\"#009af9\" fill-rule=\"evenodd\" fill-opacity=\"1\" stroke=\"#000000\" stroke-opacity=\"1\" stroke-width=\"3.2\"/>\n",
       "<path clip-path=\"url(#clip042)\" d=\"M1599.99 759.306 L1588.68 754.618 L1583.99 743.306 L1588.68 731.994 L1599.99 727.306 L1611.31 731.994 L1615.99 743.306 L1611.31 754.618 Z\" fill=\"#009af9\" fill-rule=\"evenodd\" fill-opacity=\"1\" stroke=\"#000000\" stroke-opacity=\"1\" stroke-width=\"3.2\"/>\n",
       "<path clip-path=\"url(#clip042)\" d=\"M1646.72 684.884 L1635.41 680.196 L1630.72 668.884 L1635.41 657.572 L1646.72 652.884 L1658.04 657.572 L1662.72 668.884 L1658.04 680.196 Z\" fill=\"#009af9\" fill-rule=\"evenodd\" fill-opacity=\"1\" stroke=\"#000000\" stroke-opacity=\"1\" stroke-width=\"3.2\"/>\n",
       "<path clip-path=\"url(#clip042)\" d=\"M1689.71 625.036 L1678.4 620.348 L1673.71 609.036 L1678.4 597.724 L1689.71 593.036 L1701.02 597.724 L1705.71 609.036 L1701.02 620.348 Z\" fill=\"#009af9\" fill-rule=\"evenodd\" fill-opacity=\"1\" stroke=\"#000000\" stroke-opacity=\"1\" stroke-width=\"3.2\"/>\n",
       "<path clip-path=\"url(#clip042)\" d=\"M1729.51 735.025 L1718.2 730.337 L1713.51 719.025 L1718.2 707.713 L1729.51 703.025 L1740.82 707.713 L1745.51 719.025 L1740.82 730.337 Z\" fill=\"#009af9\" fill-rule=\"evenodd\" fill-opacity=\"1\" stroke=\"#000000\" stroke-opacity=\"1\" stroke-width=\"3.2\"/>\n",
       "<path clip-path=\"url(#clip042)\" d=\"M1766.56 550.877 L1755.25 546.189 L1750.56 534.877 L1755.25 523.565 L1766.56 518.877 L1777.88 523.565 L1782.56 534.877 L1777.88 546.189 Z\" fill=\"#009af9\" fill-rule=\"evenodd\" fill-opacity=\"1\" stroke=\"#000000\" stroke-opacity=\"1\" stroke-width=\"3.2\"/>\n",
       "<path clip-path=\"url(#clip042)\" d=\"M1801.23 574.978 L1789.91 570.29 L1785.23 558.978 L1789.91 547.666 L1801.23 542.978 L1812.54 547.666 L1817.23 558.978 L1812.54 570.29 Z\" fill=\"#009af9\" fill-rule=\"evenodd\" fill-opacity=\"1\" stroke=\"#000000\" stroke-opacity=\"1\" stroke-width=\"3.2\"/>\n",
       "<path clip-path=\"url(#clip042)\" d=\"M1833.78 589.849 L1822.47 585.161 L1817.78 573.849 L1822.47 562.537 L1833.78 557.849 L1845.1 562.537 L1849.78 573.849 L1845.1 585.161 Z\" fill=\"#009af9\" fill-rule=\"evenodd\" fill-opacity=\"1\" stroke=\"#000000\" stroke-opacity=\"1\" stroke-width=\"3.2\"/>\n",
       "<path clip-path=\"url(#clip042)\" d=\"M1864.48 502.45 L1853.17 497.762 L1848.48 486.45 L1853.17 475.138 L1864.48 470.45 L1875.79 475.138 L1880.48 486.45 L1875.79 497.762 Z\" fill=\"#009af9\" fill-rule=\"evenodd\" fill-opacity=\"1\" stroke=\"#000000\" stroke-opacity=\"1\" stroke-width=\"3.2\"/>\n",
       "<path clip-path=\"url(#clip042)\" d=\"M1893.52 507.703 L1882.21 503.015 L1877.52 491.703 L1882.21 480.391 L1893.52 475.703 L1904.83 480.391 L1909.52 491.703 L1904.83 503.015 Z\" fill=\"#009af9\" fill-rule=\"evenodd\" fill-opacity=\"1\" stroke=\"#000000\" stroke-opacity=\"1\" stroke-width=\"3.2\"/>\n",
       "<path clip-path=\"url(#clip042)\" d=\"M1921.07 478.412 L1909.75 473.724 L1905.07 462.412 L1909.75 451.1 L1921.07 446.412 L1932.38 451.1 L1937.07 462.412 L1932.38 473.724 Z\" fill=\"#009af9\" fill-rule=\"evenodd\" fill-opacity=\"1\" stroke=\"#000000\" stroke-opacity=\"1\" stroke-width=\"3.2\"/>\n",
       "<path clip-path=\"url(#clip042)\" d=\"M1947.27 469.863 L1935.96 465.175 L1931.27 453.863 L1935.96 442.551 L1947.27 437.863 L1958.58 442.551 L1963.27 453.863 L1958.58 465.175 Z\" fill=\"#009af9\" fill-rule=\"evenodd\" fill-opacity=\"1\" stroke=\"#000000\" stroke-opacity=\"1\" stroke-width=\"3.2\"/>\n",
       "<path clip-path=\"url(#clip042)\" d=\"M1972.25 449.476 L1960.94 444.788 L1956.25 433.476 L1960.94 422.164 L1972.25 417.476 L1983.56 422.164 L1988.25 433.476 L1983.56 444.788 Z\" fill=\"#009af9\" fill-rule=\"evenodd\" fill-opacity=\"1\" stroke=\"#000000\" stroke-opacity=\"1\" stroke-width=\"3.2\"/>\n",
       "<path clip-path=\"url(#clip042)\" d=\"M1996.12 437.443 L1984.81 432.755 L1980.12 421.443 L1984.81 410.131 L1996.12 405.443 L2007.44 410.131 L2012.12 421.443 L2007.44 432.755 Z\" fill=\"#009af9\" fill-rule=\"evenodd\" fill-opacity=\"1\" stroke=\"#000000\" stroke-opacity=\"1\" stroke-width=\"3.2\"/>\n",
       "<path clip-path=\"url(#clip042)\" d=\"M2018.98 279.031 L2007.67 274.343 L2002.98 263.031 L2007.67 251.719 L2018.98 247.031 L2030.29 251.719 L2034.98 263.031 L2030.29 274.343 Z\" fill=\"#009af9\" fill-rule=\"evenodd\" fill-opacity=\"1\" stroke=\"#000000\" stroke-opacity=\"1\" stroke-width=\"3.2\"/>\n",
       "<path clip-path=\"url(#clip042)\" d=\"M2040.91 307.47 L2029.59 302.782 L2024.91 291.47 L2029.59 280.158 L2040.91 275.47 L2052.22 280.158 L2056.91 291.47 L2052.22 302.782 Z\" fill=\"#009af9\" fill-rule=\"evenodd\" fill-opacity=\"1\" stroke=\"#000000\" stroke-opacity=\"1\" stroke-width=\"3.2\"/>\n",
       "<path clip-path=\"url(#clip042)\" d=\"M2061.97 497.797 L2050.66 493.109 L2045.97 481.797 L2050.66 470.485 L2061.97 465.797 L2073.28 470.485 L2077.97 481.797 L2073.28 493.109 Z\" fill=\"#009af9\" fill-rule=\"evenodd\" fill-opacity=\"1\" stroke=\"#000000\" stroke-opacity=\"1\" stroke-width=\"3.2\"/>\n",
       "<path clip-path=\"url(#clip042)\" d=\"M2082.24 176.695 L2070.93 172.007 L2066.24 160.695 L2070.93 149.383 L2082.24 144.695 L2093.55 149.383 L2098.24 160.695 L2093.55 172.007 Z\" fill=\"#009af9\" fill-rule=\"evenodd\" fill-opacity=\"1\" stroke=\"#000000\" stroke-opacity=\"1\" stroke-width=\"3.2\"/>\n",
       "<path clip-path=\"url(#clip042)\" d=\"M2101.77 433.673 L2090.46 428.985 L2085.77 417.673 L2090.46 406.361 L2101.77 401.673 L2113.08 406.361 L2117.77 417.673 L2113.08 428.985 Z\" fill=\"#009af9\" fill-rule=\"evenodd\" fill-opacity=\"1\" stroke=\"#000000\" stroke-opacity=\"1\" stroke-width=\"3.2\"/>\n",
       "<path clip-path=\"url(#clip042)\" d=\"M2120.61 393.902 L2109.3 389.214 L2104.61 377.902 L2109.3 366.59 L2120.61 361.902 L2131.93 366.59 L2136.61 377.902 L2131.93 389.214 Z\" fill=\"#009af9\" fill-rule=\"evenodd\" fill-opacity=\"1\" stroke=\"#000000\" stroke-opacity=\"1\" stroke-width=\"3.2\"/>\n",
       "<path clip-path=\"url(#clip042)\" d=\"M2138.82 387.748 L2127.51 383.06 L2122.82 371.748 L2127.51 360.436 L2138.82 355.748 L2150.13 360.436 L2154.82 371.748 L2150.13 383.06 Z\" fill=\"#009af9\" fill-rule=\"evenodd\" fill-opacity=\"1\" stroke=\"#000000\" stroke-opacity=\"1\" stroke-width=\"3.2\"/>\n",
       "<path clip-path=\"url(#clip042)\" d=\"M2156.43 363.299 L2145.12 358.611 L2140.43 347.299 L2145.12 335.987 L2156.43 331.299 L2167.74 335.987 L2172.43 347.299 L2167.74 358.611 Z\" fill=\"#009af9\" fill-rule=\"evenodd\" fill-opacity=\"1\" stroke=\"#000000\" stroke-opacity=\"1\" stroke-width=\"3.2\"/>\n",
       "<path clip-path=\"url(#clip042)\" d=\"M2173.48 415.881 L2162.17 411.193 L2157.48 399.881 L2162.17 388.569 L2173.48 383.881 L2184.79 388.569 L2189.48 399.881 L2184.79 411.193 Z\" fill=\"#009af9\" fill-rule=\"evenodd\" fill-opacity=\"1\" stroke=\"#000000\" stroke-opacity=\"1\" stroke-width=\"3.2\"/>\n",
       "<path clip-path=\"url(#clip042)\" d=\"M2190.01 452.117 L2178.7 447.429 L2174.01 436.117 L2178.7 424.805 L2190.01 420.117 L2201.32 424.805 L2206.01 436.117 L2201.32 447.429 Z\" fill=\"#009af9\" fill-rule=\"evenodd\" fill-opacity=\"1\" stroke=\"#000000\" stroke-opacity=\"1\" stroke-width=\"3.2\"/>\n",
       "<path clip-path=\"url(#clip042)\" d=\"M2206.04 472.214 L2194.73 467.526 L2190.04 456.214 L2194.73 444.902 L2206.04 440.214 L2217.35 444.902 L2222.04 456.214 L2217.35 467.526 Z\" fill=\"#009af9\" fill-rule=\"evenodd\" fill-opacity=\"1\" stroke=\"#000000\" stroke-opacity=\"1\" stroke-width=\"3.2\"/>\n",
       "<path clip-path=\"url(#clip042)\" d=\"M2221.61 189.197 L2210.3 184.509 L2205.61 173.197 L2210.3 161.885 L2221.61 157.197 L2232.92 161.885 L2237.61 173.197 L2232.92 184.509 Z\" fill=\"#009af9\" fill-rule=\"evenodd\" fill-opacity=\"1\" stroke=\"#000000\" stroke-opacity=\"1\" stroke-width=\"3.2\"/>\n",
       "<path clip-path=\"url(#clip042)\" d=\"M2236.74 293.185 L2225.43 288.497 L2220.74 277.185 L2225.43 265.873 L2236.74 261.185 L2248.05 265.873 L2252.74 277.185 L2248.05 288.497 Z\" fill=\"#009af9\" fill-rule=\"evenodd\" fill-opacity=\"1\" stroke=\"#000000\" stroke-opacity=\"1\" stroke-width=\"3.2\"/>\n",
       "<path clip-path=\"url(#clip042)\" d=\"M2251.45 186.767 L2240.14 182.079 L2235.45 170.767 L2240.14 159.455 L2251.45 154.767 L2262.76 159.455 L2267.45 170.767 L2262.76 182.079 Z\" fill=\"#009af9\" fill-rule=\"evenodd\" fill-opacity=\"1\" stroke=\"#000000\" stroke-opacity=\"1\" stroke-width=\"3.2\"/>\n",
       "<path clip-path=\"url(#clip042)\" d=\"M2265.77 265.021 L2254.46 260.333 L2249.77 249.021 L2254.46 237.709 L2265.77 233.021 L2277.09 237.709 L2281.77 249.021 L2277.09 260.333 Z\" fill=\"#009af9\" fill-rule=\"evenodd\" fill-opacity=\"1\" stroke=\"#000000\" stroke-opacity=\"1\" stroke-width=\"3.2\"/>\n",
       "<path clip-path=\"url(#clip042)\" d=\"M2279.73 295.564 L2268.41 290.876 L2263.73 279.564 L2268.41 268.252 L2279.73 263.564 L2291.04 268.252 L2295.73 279.564 L2291.04 290.876 Z\" fill=\"#009af9\" fill-rule=\"evenodd\" fill-opacity=\"1\" stroke=\"#000000\" stroke-opacity=\"1\" stroke-width=\"3.2\"/>\n",
       "<path clip-path=\"url(#clip042)\" d=\"M2293.32 285.64 L2282.01 280.952 L2277.32 269.64 L2282.01 258.328 L2293.32 253.64 L2304.63 258.328 L2309.32 269.64 L2304.63 280.952 Z\" fill=\"#009af9\" fill-rule=\"evenodd\" fill-opacity=\"1\" stroke=\"#000000\" stroke-opacity=\"1\" stroke-width=\"3.2\"/>\n",
       "<polyline clip-path=\"url(#clip042)\" style=\"stroke:#e26f46; stroke-linecap:butt; stroke-linejoin:round; stroke-width:4; stroke-opacity:1; fill:none\" stroke-dasharray=\"16, 10\" points=\"\n",
       "  312.198,1401.45 684.455,1188.78 902.211,1064.38 1056.71,976.115 1176.55,907.65 1274.47,851.711 1357.25,804.414 1428.97,763.445 1492.22,727.307 1548.81,694.98 \n",
       "  1599.99,665.737 1646.72,639.041 1689.71,614.482 1729.51,591.745 1766.56,570.576 1801.23,550.775 1833.78,532.174 1864.48,514.637 1893.52,498.048 1921.07,482.31 \n",
       "  1947.27,467.341 1972.25,453.068 1996.12,439.429 2018.98,426.371 2040.91,413.846 2061.97,401.812 2082.24,390.233 2101.77,379.075 2120.61,368.308 2138.82,357.906 \n",
       "  2156.43,347.846 2173.48,338.105 2190.01,328.664 2206.04,319.504 2221.61,310.61 2236.74,301.967 2251.45,293.56 2265.77,285.378 2279.73,277.408 2293.32,269.64 \n",
       "  \n",
       "  \"/>\n",
       "<path clip-path=\"url(#clip040)\" d=\"\n",
       "M322.764 322.832 L657.637 322.832 L657.637 167.312 L322.764 167.312  Z\n",
       "  \" fill=\"#ffffff\" fill-rule=\"evenodd\" fill-opacity=\"1\"/>\n",
       "<polyline clip-path=\"url(#clip040)\" style=\"stroke:#000000; stroke-linecap:butt; stroke-linejoin:round; stroke-width:4; stroke-opacity:1; fill:none\" points=\"\n",
       "  322.764,322.832 657.637,322.832 657.637,167.312 322.764,167.312 322.764,322.832 \n",
       "  \"/>\n",
       "<polyline clip-path=\"url(#clip040)\" style=\"stroke:#009af9; stroke-linecap:butt; stroke-linejoin:round; stroke-width:4; stroke-opacity:1; fill:none\" points=\"\n",
       "  346.097,219.152 486.096,219.152 \n",
       "  \"/>\n",
       "<path clip-path=\"url(#clip040)\" d=\"M416.097 244.752 L397.997 237.251 L390.497 219.152 L397.997 201.053 L416.097 193.552 L434.196 201.053 L441.697 219.152 L434.196 237.251 Z\" fill=\"#009af9\" fill-rule=\"evenodd\" fill-opacity=\"1\" stroke=\"#000000\" stroke-opacity=\"1\" stroke-width=\"5.12\"/>\n",
       "<path clip-path=\"url(#clip040)\" d=\"M528.342 214.442 L528.342 200.414 L532.601 200.414 L532.601 236.432 L528.342 236.432 L528.342 232.543 Q526.999 234.858 524.939 235.992 Q522.902 237.104 520.031 237.104 Q515.332 237.104 512.369 233.354 Q509.43 229.604 509.43 223.493 Q509.43 217.381 512.369 213.631 Q515.332 209.882 520.031 209.882 Q522.902 209.882 524.939 211.016 Q526.999 212.127 528.342 214.442 M513.828 223.493 Q513.828 228.192 515.749 230.877 Q517.693 233.539 521.073 233.539 Q524.453 233.539 526.397 230.877 Q528.342 228.192 528.342 223.493 Q528.342 218.793 526.397 216.131 Q524.453 213.446 521.073 213.446 Q517.693 213.446 515.749 216.131 Q513.828 218.793 513.828 223.493 Z\" fill=\"#000000\" fill-rule=\"evenodd\" fill-opacity=\"1\" /><path clip-path=\"url(#clip040)\" d=\"M553.156 223.4 Q547.994 223.4 546.004 224.581 Q544.013 225.761 544.013 228.608 Q544.013 230.877 545.494 232.219 Q546.999 233.539 549.568 233.539 Q553.11 233.539 555.24 231.039 Q557.392 228.516 557.392 224.349 L557.392 223.4 L553.156 223.4 M561.652 221.641 L561.652 236.432 L557.392 236.432 L557.392 232.497 Q555.934 234.858 553.758 235.992 Q551.582 237.104 548.434 237.104 Q544.453 237.104 542.091 234.881 Q539.754 232.636 539.754 228.886 Q539.754 224.511 542.67 222.289 Q545.61 220.067 551.42 220.067 L557.392 220.067 L557.392 219.65 Q557.392 216.71 555.448 215.113 Q553.527 213.493 550.031 213.493 Q547.809 213.493 545.703 214.025 Q543.596 214.557 541.652 215.622 L541.652 211.687 Q543.99 210.784 546.189 210.344 Q548.388 209.882 550.471 209.882 Q556.096 209.882 558.874 212.798 Q561.652 215.715 561.652 221.641 Z\" fill=\"#000000\" fill-rule=\"evenodd\" fill-opacity=\"1\" /><path clip-path=\"url(#clip040)\" d=\"M574.638 203.145 L574.638 210.507 L583.411 210.507 L583.411 213.817 L574.638 213.817 L574.638 227.891 Q574.638 231.062 575.494 231.965 Q576.374 232.867 579.036 232.867 L583.411 232.867 L583.411 236.432 L579.036 236.432 Q574.105 236.432 572.23 234.604 Q570.355 232.752 570.355 227.891 L570.355 213.817 L567.23 213.817 L567.23 210.507 L570.355 210.507 L570.355 203.145 L574.638 203.145 Z\" fill=\"#000000\" fill-rule=\"evenodd\" fill-opacity=\"1\" /><path clip-path=\"url(#clip040)\" d=\"M600.795 223.4 Q595.633 223.4 593.642 224.581 Q591.651 225.761 591.651 228.608 Q591.651 230.877 593.133 232.219 Q594.638 233.539 597.207 233.539 Q600.749 233.539 602.878 231.039 Q605.031 228.516 605.031 224.349 L605.031 223.4 L600.795 223.4 M609.29 221.641 L609.29 236.432 L605.031 236.432 L605.031 232.497 Q603.573 234.858 601.397 235.992 Q599.221 237.104 596.073 237.104 Q592.091 237.104 589.73 234.881 Q587.392 232.636 587.392 228.886 Q587.392 224.511 590.309 222.289 Q593.249 220.067 599.059 220.067 L605.031 220.067 L605.031 219.65 Q605.031 216.71 603.087 215.113 Q601.165 213.493 597.67 213.493 Q595.448 213.493 593.341 214.025 Q591.235 214.557 589.29 215.622 L589.29 211.687 Q591.628 210.784 593.827 210.344 Q596.026 209.882 598.11 209.882 Q603.735 209.882 606.512 212.798 Q609.29 215.715 609.29 221.641 Z\" fill=\"#000000\" fill-rule=\"evenodd\" fill-opacity=\"1\" /><polyline clip-path=\"url(#clip040)\" style=\"stroke:#e26f46; stroke-linecap:butt; stroke-linejoin:round; stroke-width:4; stroke-opacity:1; fill:none\" stroke-dasharray=\"16, 10\" points=\"\n",
       "  346.097,270.992 486.096,270.992 \n",
       "  \"/>\n",
       "<path clip-path=\"url(#clip040)\" d=\"M542.596 261.951 Q542.596 265.3 541.401 268.626 Q540.23 271.929 538.169 274.646 Q536.108 277.363 533.484 279.471 Q530.861 281.579 527.793 282.75 Q524.724 283.921 521.726 283.921 Q516.41 283.921 512.92 280.431 Q509.43 276.941 509.43 271.109 Q509.43 267.034 511.257 262.982 Q513.084 258.906 515.988 255.885 Q518.892 252.84 522.71 250.942 Q526.551 249.045 530.346 249.045 Q535.733 249.045 539.153 252.629 Q542.596 256.189 542.596 261.951 M538.31 260.077 Q538.31 257.501 537.583 255.557 Q536.857 253.589 535.639 252.465 Q534.445 251.341 533.016 250.802 Q531.611 250.24 530.065 250.24 Q527.067 250.24 523.858 252.184 Q520.649 254.128 518.26 257.735 Q516.972 259.702 516.035 262.068 Q515.098 264.41 514.676 266.495 Q514.255 268.556 514.067 270.008 Q513.903 271.461 513.903 272.468 Q513.903 277.152 516.152 279.916 Q518.4 282.68 522.007 282.68 Q524.842 282.68 527.605 281.017 Q530.369 279.331 532.267 276.918 Q533.953 274.833 535.194 272.327 Q536.459 269.821 537.092 267.526 Q537.724 265.23 538.005 263.38 Q538.31 261.529 538.31 260.077 Z\" fill=\"#000000\" fill-rule=\"evenodd\" fill-opacity=\"1\" /><path clip-path=\"url(#clip040)\" d=\"M545.658 270.875 Q545.658 262.771 548.679 256.236 Q549.967 253.496 551.771 251.2 Q553.574 248.905 554.769 247.898 Q555.964 246.89 556.291 246.89 Q556.76 246.89 556.783 247.359 Q556.783 247.593 556.151 248.179 Q548.422 256.049 548.445 270.875 Q548.445 285.748 555.964 293.314 Q556.783 294.133 556.783 294.391 Q556.783 294.86 556.291 294.86 Q555.964 294.86 554.816 293.899 Q553.668 292.939 551.888 290.737 Q550.108 288.536 548.82 285.842 Q545.658 279.307 545.658 270.875 Z\" fill=\"#000000\" fill-rule=\"evenodd\" fill-opacity=\"1\" /><path clip-path=\"url(#clip040)\" d=\"M590.072 276.005 Q590.072 276.192 589.861 276.918 Q589.65 277.644 589.135 278.768 Q588.643 279.893 587.964 280.923 Q587.285 281.93 586.161 282.68 Q585.06 283.406 583.795 283.406 Q582.108 283.406 580.984 282.282 Q579.86 281.157 579.86 279.471 Q579.86 278.534 580.352 277.246 Q583.467 268.931 583.467 266.073 Q583.467 262.724 580.867 262.724 Q579.579 262.724 578.361 263.216 Q577.166 263.684 576.347 264.34 Q575.527 264.996 574.777 265.909 Q574.051 266.799 573.676 267.408 Q573.325 267.994 573.044 268.58 L572.435 270.969 Q572.294 271.625 571.615 274.178 L570.561 278.511 Q569.812 281.743 569.648 282.048 Q569.414 282.703 568.898 283.055 Q568.383 283.406 567.868 283.406 Q567.282 283.406 566.884 283.055 Q566.486 282.703 566.486 282.094 Q566.486 282.001 566.556 281.649 Q566.626 281.298 566.743 280.806 Q566.86 280.314 566.907 280.033 L569.695 268.954 Q570.21 266.94 570.327 266.308 Q570.468 265.652 570.468 264.926 Q570.468 262.724 568.968 262.724 Q567.751 262.724 566.954 264.176 Q566.158 265.628 565.479 268.439 Q565.268 269.212 565.127 269.376 Q565.01 269.54 564.659 269.54 Q564.073 269.516 564.073 269.048 Q564.073 268.931 564.261 268.158 Q564.448 267.385 564.799 266.284 Q565.174 265.16 565.525 264.41 Q565.83 263.848 565.994 263.591 Q566.181 263.31 566.626 262.771 Q567.095 262.209 567.704 261.951 Q568.336 261.67 569.109 261.67 Q570.842 261.67 572.107 262.794 Q573.372 263.895 573.536 265.839 Q576.651 261.67 581.008 261.67 Q583.584 261.67 585.06 263.028 Q586.535 264.387 586.535 266.799 Q586.535 267.362 586.418 268.088 Q586.325 268.79 586.09 269.68 Q585.879 270.571 585.692 271.25 Q585.505 271.929 585.13 273.03 Q584.755 274.107 584.591 274.576 Q584.427 275.044 584.029 276.145 Q583.654 277.222 583.608 277.34 Q582.741 279.518 582.741 280.759 Q582.741 281.579 582.999 281.954 Q583.28 282.329 583.889 282.329 Q585.528 282.329 586.746 280.712 Q587.988 279.073 588.784 276.403 Q588.971 275.817 589.065 275.677 Q589.182 275.536 589.51 275.536 Q590.072 275.536 590.072 276.005 Z\" fill=\"#000000\" fill-rule=\"evenodd\" fill-opacity=\"1\" /><path clip-path=\"url(#clip040)\" d=\"M592.555 294.391 Q592.555 294.157 593.164 293.571 Q600.893 285.701 600.893 270.875 Q600.893 256.002 593.468 248.483 Q592.555 247.617 592.555 247.359 Q592.555 246.89 593.023 246.89 Q593.351 246.89 594.499 247.851 Q595.67 248.811 597.427 251.013 Q599.207 253.214 600.518 255.908 Q603.68 262.443 603.68 270.875 Q603.68 278.979 600.659 285.514 Q599.371 288.254 597.567 290.55 Q595.764 292.845 594.569 293.852 Q593.374 294.86 593.023 294.86 Q592.555 294.86 592.555 294.391 Z\" fill=\"#000000\" fill-rule=\"evenodd\" fill-opacity=\"1\" /></svg>\n"
      ]
     },
     "execution_count": 8,
     "metadata": {},
     "output_type": "execute_result"
    }
   ],
   "source": [
    "plot!(vect_sizes,(vect_sizes/vect_sizes[end])*dps[end],l=:dash,\n",
    "    label=\"\\$O(n)\\$\",legend=:topleft)"
   ]
  },
  {
   "cell_type": "markdown",
   "metadata": {
    "slideshow": {
     "slide_type": "slide"
    }
   },
   "source": [
    "This provides an experimental confirmation that the dot product algorithm scales as $\\mathcal{O}(n)$.  "
   ]
  },
  {
   "cell_type": "markdown",
   "metadata": {
    "slideshow": {
     "slide_type": "slide"
    }
   },
   "source": [
    "### An Extension\n",
    "\n",
    "There are two common ways to view matrix multiplication:\n",
    "\n",
    "1) As a series of dot products.\n",
    "\n",
    "2) As linear combinations of vectors. \n",
    "\n",
    "Both points of view have their usefulness. For now, let's make use of the first perspective.  "
   ]
  },
  {
   "cell_type": "markdown",
   "metadata": {
    "slideshow": {
     "slide_type": "slide"
    }
   },
   "source": [
    "Recall that if $A$ is an $m\\times n$ matrix and $x$ is an $n \\times 1$ column vector then the product $Ax$ is an $m \\times 1$ column vector $y$, where $y_{i} = \\text{dot product of row $i$ of $A$ with $x$}$. This implies that we can build an algorithm for matrix vector multiplication out of our algorithm for the dot product. (You will be asked to implement such an algorithm for homework.) All we have to do is to apply our dot product algorithm for each row of the matrix, Then the number of FLOPs will be  $m(2n)=2mn$. "
   ]
  },
  {
   "cell_type": "markdown",
   "metadata": {
    "slideshow": {
     "slide_type": "slide"
    }
   },
   "source": [
    "Pushing this further, it is the case that matrix-matrix multiplication is a series of dot products in that if $A$ is $m\\times n$ and $B$ is $n\\times p$, then $AB$ is $m \\times p$ and the $ij$ entry of $AB$ is the dot product between row $i$ of $A$ and column $j$ of $B$. So essentially, we are performing $n$ matrix vector multiplications or equivalently $mn$ dot products, either way we have a total of $2mn^2$ FLOPs. If we are working with only square matrices, then we see that there will be $2n^3$ FLOPs so we expect that multiplication of square matrices will scale as $\\mathcal{O}(n^3)$. We can confirm this experimentally similarly to the way we did with the dot product. "
   ]
  },
  {
   "cell_type": "code",
   "execution_count": 9,
   "metadata": {
    "slideshow": {
     "slide_type": "slide"
    }
   },
   "outputs": [
    {
     "data": {
      "image/svg+xml": [
       "<?xml version=\"1.0\" encoding=\"utf-8\"?>\n",
       "<svg xmlns=\"http://www.w3.org/2000/svg\" xmlns:xlink=\"http://www.w3.org/1999/xlink\" width=\"600\" height=\"400\" viewBox=\"0 0 2400 1600\">\n",
       "<defs>\n",
       "  <clipPath id=\"clip080\">\n",
       "    <rect x=\"0\" y=\"0\" width=\"2400\" height=\"1600\"/>\n",
       "  </clipPath>\n",
       "</defs>\n",
       "<path clip-path=\"url(#clip080)\" d=\"\n",
       "M0 1600 L2400 1600 L2400 0 L0 0  Z\n",
       "  \" fill=\"#ffffff\" fill-rule=\"evenodd\" fill-opacity=\"1\"/>\n",
       "<defs>\n",
       "  <clipPath id=\"clip081\">\n",
       "    <rect x=\"480\" y=\"0\" width=\"1681\" height=\"1600\"/>\n",
       "  </clipPath>\n",
       "</defs>\n",
       "<defs>\n",
       "  <clipPath id=\"clip082\">\n",
       "    <rect x=\"252\" y=\"123\" width=\"2101\" height=\"1316\"/>\n",
       "  </clipPath>\n",
       "</defs>\n",
       "<path clip-path=\"url(#clip080)\" d=\"\n",
       "M252.764 1438.68 L2352.76 1438.68 L2352.76 123.472 L252.764 123.472  Z\n",
       "  \" fill=\"#ffffff\" fill-rule=\"evenodd\" fill-opacity=\"1\"/>\n",
       "<polyline clip-path=\"url(#clip082)\" style=\"stroke:#000000; stroke-linecap:butt; stroke-linejoin:round; stroke-width:2; stroke-opacity:0.1; fill:none\" points=\"\n",
       "  -2773.96,1438.68 -2773.96,123.472 \n",
       "  \"/>\n",
       "<polyline clip-path=\"url(#clip082)\" style=\"stroke:#000000; stroke-linecap:butt; stroke-linejoin:round; stroke-width:2; stroke-opacity:0.1; fill:none\" points=\"\n",
       "  1249.66,1438.68 1249.66,123.472 \n",
       "  \"/>\n",
       "<polyline clip-path=\"url(#clip082)\" style=\"stroke:#000000; stroke-linecap:butt; stroke-linejoin:round; stroke-width:2; stroke-opacity:0.1; fill:none\" points=\"\n",
       "  5273.28,1438.68 5273.28,123.472 \n",
       "  \"/>\n",
       "<polyline clip-path=\"url(#clip080)\" style=\"stroke:#000000; stroke-linecap:butt; stroke-linejoin:round; stroke-width:4; stroke-opacity:1; fill:none\" points=\"\n",
       "  252.764,1438.68 2352.76,1438.68 \n",
       "  \"/>\n",
       "<polyline clip-path=\"url(#clip080)\" style=\"stroke:#000000; stroke-linecap:butt; stroke-linejoin:round; stroke-width:4; stroke-opacity:1; fill:none\" points=\"\n",
       "  -2773.96,1438.68 -2773.96,1422.89 \n",
       "  \"/>\n",
       "<polyline clip-path=\"url(#clip080)\" style=\"stroke:#000000; stroke-linecap:butt; stroke-linejoin:round; stroke-width:4; stroke-opacity:1; fill:none\" points=\"\n",
       "  1249.66,1438.68 1249.66,1422.89 \n",
       "  \"/>\n",
       "<polyline clip-path=\"url(#clip080)\" style=\"stroke:#000000; stroke-linecap:butt; stroke-linejoin:round; stroke-width:4; stroke-opacity:1; fill:none\" points=\"\n",
       "  5273.28,1438.68 5273.28,1422.89 \n",
       "  \"/>\n",
       "<path clip-path=\"url(#clip080)\" d=\"M-2808.98 1516.95 L-2801.34 1516.95 L-2801.34 1490.58 L-2809.65 1492.25 L-2809.65 1487.99 L-2801.38 1486.32 L-2796.71 1486.32 L-2796.71 1516.95 L-2789.07 1516.95 L-2789.07 1520.88 L-2808.98 1520.88 L-2808.98 1516.95 Z\" fill=\"#000000\" fill-rule=\"evenodd\" fill-opacity=\"1\" /><path clip-path=\"url(#clip080)\" d=\"M-2769.62 1489.4 Q-2773.24 1489.4 -2775.06 1492.97 Q-2776.87 1496.51 -2776.87 1503.64 Q-2776.87 1510.75 -2775.06 1514.31 Q-2773.24 1517.85 -2769.62 1517.85 Q-2765.99 1517.85 -2764.18 1514.31 Q-2762.36 1510.75 -2762.36 1503.64 Q-2762.36 1496.51 -2764.18 1492.97 Q-2765.99 1489.4 -2769.62 1489.4 M-2769.62 1485.7 Q-2763.81 1485.7 -2760.76 1490.31 Q-2757.68 1494.89 -2757.68 1503.64 Q-2757.68 1512.37 -2760.76 1516.97 Q-2763.81 1521.56 -2769.62 1521.56 Q-2775.43 1521.56 -2778.51 1516.97 Q-2781.57 1512.37 -2781.57 1503.64 Q-2781.57 1494.89 -2778.51 1490.31 Q-2775.43 1485.7 -2769.62 1485.7 Z\" fill=\"#000000\" fill-rule=\"evenodd\" fill-opacity=\"1\" /><path clip-path=\"url(#clip080)\" d=\"M-2747.97 1467.9 Q-2750.91 1467.9 -2752.39 1470.79 Q-2753.86 1473.67 -2753.86 1479.46 Q-2753.86 1485.24 -2752.39 1488.13 Q-2750.91 1491.01 -2747.97 1491.01 Q-2745.02 1491.01 -2743.56 1488.13 Q-2742.07 1485.24 -2742.07 1479.46 Q-2742.07 1473.67 -2743.56 1470.79 Q-2745.02 1467.9 -2747.97 1467.9 M-2747.97 1464.89 Q-2743.25 1464.89 -2740.77 1468.63 Q-2738.27 1472.35 -2738.27 1479.46 Q-2738.27 1486.55 -2740.77 1490.3 Q-2743.25 1494.02 -2747.97 1494.02 Q-2752.7 1494.02 -2755.2 1490.3 Q-2757.68 1486.55 -2757.68 1479.46 Q-2757.68 1472.35 -2755.2 1468.63 Q-2752.7 1464.89 -2747.97 1464.89 Z\" fill=\"#000000\" fill-rule=\"evenodd\" fill-opacity=\"1\" /><path clip-path=\"url(#clip080)\" d=\"M1215.1 1516.95 L1222.74 1516.95 L1222.74 1490.58 L1214.43 1492.25 L1214.43 1487.99 L1222.7 1486.32 L1227.37 1486.32 L1227.37 1516.95 L1235.01 1516.95 L1235.01 1520.88 L1215.1 1520.88 L1215.1 1516.95 Z\" fill=\"#000000\" fill-rule=\"evenodd\" fill-opacity=\"1\" /><path clip-path=\"url(#clip080)\" d=\"M1254.46 1489.4 Q1250.84 1489.4 1249.02 1492.97 Q1247.21 1496.51 1247.21 1503.64 Q1247.21 1510.75 1249.02 1514.31 Q1250.84 1517.85 1254.46 1517.85 Q1258.09 1517.85 1259.9 1514.31 Q1261.72 1510.75 1261.72 1503.64 Q1261.72 1496.51 1259.9 1492.97 Q1258.09 1489.4 1254.46 1489.4 M1254.46 1485.7 Q1260.27 1485.7 1263.32 1490.31 Q1266.4 1494.89 1266.4 1503.64 Q1266.4 1512.37 1263.32 1516.97 Q1260.27 1521.56 1254.46 1521.56 Q1248.65 1521.56 1245.57 1516.97 Q1242.51 1512.37 1242.51 1503.64 Q1242.51 1494.89 1245.57 1490.31 Q1248.65 1485.7 1254.46 1485.7 Z\" fill=\"#000000\" fill-rule=\"evenodd\" fill-opacity=\"1\" /><path clip-path=\"url(#clip080)\" d=\"M1279.1 1478.33 Q1281.82 1478.92 1283.35 1480.76 Q1284.89 1482.6 1284.89 1485.31 Q1284.89 1489.47 1282.03 1491.74 Q1279.17 1494.02 1273.9 1494.02 Q1272.14 1494.02 1270.26 1493.66 Q1268.39 1493.32 1266.4 1492.63 L1266.4 1488.96 Q1267.98 1489.88 1269.86 1490.35 Q1271.74 1490.82 1273.79 1490.82 Q1277.37 1490.82 1279.23 1489.41 Q1281.11 1488 1281.11 1485.31 Q1281.11 1482.83 1279.36 1481.44 Q1277.63 1480.03 1274.53 1480.03 L1271.25 1480.03 L1271.25 1476.9 L1274.68 1476.9 Q1277.48 1476.9 1278.96 1475.79 Q1280.45 1474.67 1280.45 1472.56 Q1280.45 1470.4 1278.91 1469.25 Q1277.38 1468.08 1274.53 1468.08 Q1272.96 1468.08 1271.18 1468.42 Q1269.39 1468.76 1267.25 1469.48 L1267.25 1466.09 Q1269.41 1465.49 1271.29 1465.19 Q1273.19 1464.89 1274.86 1464.89 Q1279.19 1464.89 1281.71 1466.86 Q1284.23 1468.82 1284.23 1472.16 Q1284.23 1474.5 1282.89 1476.11 Q1281.56 1477.71 1279.1 1478.33 Z\" fill=\"#000000\" fill-rule=\"evenodd\" fill-opacity=\"1\" /><path clip-path=\"url(#clip080)\" d=\"M5238.27 1516.95 L5245.91 1516.95 L5245.91 1490.58 L5237.6 1492.25 L5237.6 1487.99 L5245.86 1486.32 L5250.54 1486.32 L5250.54 1516.95 L5258.18 1516.95 L5258.18 1520.88 L5238.27 1520.88 L5238.27 1516.95 Z\" fill=\"#000000\" fill-rule=\"evenodd\" fill-opacity=\"1\" /><path clip-path=\"url(#clip080)\" d=\"M5277.62 1489.4 Q5274.01 1489.4 5272.18 1492.97 Q5270.38 1496.51 5270.38 1503.64 Q5270.38 1510.75 5272.18 1514.31 Q5274.01 1517.85 5277.62 1517.85 Q5281.26 1517.85 5283.06 1514.31 Q5284.89 1510.75 5284.89 1503.64 Q5284.89 1496.51 5283.06 1492.97 Q5281.26 1489.4 5277.62 1489.4 M5277.62 1485.7 Q5283.43 1485.7 5286.49 1490.31 Q5289.57 1494.89 5289.57 1503.64 Q5289.57 1512.37 5286.49 1516.97 Q5283.43 1521.56 5277.62 1521.56 Q5271.81 1521.56 5268.73 1516.97 Q5265.68 1512.37 5265.68 1503.64 Q5265.68 1494.89 5268.73 1490.31 Q5271.81 1485.7 5277.62 1485.7 Z\" fill=\"#000000\" fill-rule=\"evenodd\" fill-opacity=\"1\" /><path clip-path=\"url(#clip080)\" d=\"M5299.59 1477.92 Q5297.03 1477.92 5295.53 1479.67 Q5294.04 1481.42 5294.04 1484.46 Q5294.04 1487.49 5295.53 1489.26 Q5297.03 1491.01 5299.59 1491.01 Q5302.15 1491.01 5303.64 1489.26 Q5305.14 1487.49 5305.14 1484.46 Q5305.14 1481.42 5303.64 1479.67 Q5302.15 1477.92 5299.59 1477.92 M5307.13 1466.01 L5307.13 1469.48 Q5305.71 1468.8 5304.24 1468.44 Q5302.79 1468.08 5301.36 1468.08 Q5297.6 1468.08 5295.61 1470.62 Q5293.63 1473.16 5293.35 1478.3 Q5294.46 1476.66 5296.13 1475.79 Q5297.81 1474.91 5299.82 1474.91 Q5304.05 1474.91 5306.5 1477.49 Q5308.96 1480.05 5308.96 1484.46 Q5308.96 1488.79 5306.4 1491.41 Q5303.84 1494.02 5299.59 1494.02 Q5294.72 1494.02 5292.14 1490.3 Q5289.57 1486.55 5289.57 1479.46 Q5289.57 1472.8 5292.73 1468.85 Q5295.89 1464.89 5301.21 1464.89 Q5302.64 1464.89 5304.09 1465.17 Q5305.55 1465.45 5307.13 1466.01 Z\" fill=\"#000000\" fill-rule=\"evenodd\" fill-opacity=\"1\" /><path clip-path=\"url(#clip080)\" d=\"M1318.92 1561.42 Q1318.92 1561.68 1318.63 1562.68 Q1318.34 1563.67 1317.63 1565.22 Q1316.96 1566.77 1316.02 1568.18 Q1315.09 1569.57 1313.54 1570.6 Q1312.03 1571.6 1310.29 1571.6 Q1307.97 1571.6 1306.43 1570.05 Q1304.88 1568.5 1304.88 1566.19 Q1304.88 1564.9 1305.56 1563.13 Q1309.84 1551.69 1309.84 1547.76 Q1309.84 1543.16 1306.27 1543.16 Q1304.49 1543.16 1302.82 1543.84 Q1301.18 1544.48 1300.05 1545.38 Q1298.92 1546.28 1297.89 1547.54 Q1296.89 1548.76 1296.38 1549.6 Q1295.9 1550.41 1295.51 1551.21 L1294.67 1554.5 Q1294.48 1555.4 1293.54 1558.91 L1292.1 1564.87 Q1291.06 1569.31 1290.84 1569.73 Q1290.52 1570.63 1289.81 1571.11 Q1289.1 1571.6 1288.39 1571.6 Q1287.59 1571.6 1287.04 1571.11 Q1286.49 1570.63 1286.49 1569.79 Q1286.49 1569.66 1286.59 1569.18 Q1286.68 1568.7 1286.85 1568.02 Q1287.01 1567.35 1287.07 1566.96 L1290.9 1551.73 Q1291.61 1548.96 1291.77 1548.09 Q1291.97 1547.18 1291.97 1546.19 Q1291.97 1543.16 1289.91 1543.16 Q1288.23 1543.16 1287.14 1545.16 Q1286.04 1547.15 1285.11 1551.02 Q1284.82 1552.08 1284.62 1552.31 Q1284.46 1552.53 1283.98 1552.53 Q1283.17 1552.5 1283.17 1551.85 Q1283.17 1551.69 1283.43 1550.63 Q1283.69 1549.57 1284.17 1548.05 Q1284.69 1546.51 1285.17 1545.48 Q1285.59 1544.7 1285.82 1544.35 Q1286.07 1543.96 1286.68 1543.22 Q1287.33 1542.45 1288.17 1542.1 Q1289.04 1541.71 1290.1 1541.71 Q1292.48 1541.71 1294.22 1543.26 Q1295.96 1544.77 1296.19 1547.44 Q1300.47 1541.71 1306.46 1541.71 Q1310 1541.71 1312.03 1543.58 Q1314.06 1545.45 1314.06 1548.76 Q1314.06 1549.54 1313.9 1550.53 Q1313.77 1551.5 1313.45 1552.72 Q1313.16 1553.95 1312.9 1554.88 Q1312.64 1555.82 1312.13 1557.33 Q1311.61 1558.81 1311.39 1559.46 Q1311.16 1560.1 1310.61 1561.61 Q1310.1 1563.09 1310.03 1563.26 Q1308.84 1566.25 1308.84 1567.96 Q1308.84 1569.08 1309.2 1569.6 Q1309.58 1570.12 1310.42 1570.12 Q1312.67 1570.12 1314.35 1567.89 Q1316.06 1565.64 1317.15 1561.97 Q1317.41 1561.16 1317.54 1560.97 Q1317.7 1560.78 1318.15 1560.78 Q1318.92 1560.78 1318.92 1561.42 Z\" fill=\"#000000\" fill-rule=\"evenodd\" fill-opacity=\"1\" /><polyline clip-path=\"url(#clip082)\" style=\"stroke:#000000; stroke-linecap:butt; stroke-linejoin:round; stroke-width:2; stroke-opacity:0.1; fill:none\" points=\"\n",
       "  252.764,1433.16 2352.76,1433.16 \n",
       "  \"/>\n",
       "<polyline clip-path=\"url(#clip082)\" style=\"stroke:#000000; stroke-linecap:butt; stroke-linejoin:round; stroke-width:2; stroke-opacity:0.1; fill:none\" points=\"\n",
       "  252.764,1153.17 2352.76,1153.17 \n",
       "  \"/>\n",
       "<polyline clip-path=\"url(#clip082)\" style=\"stroke:#000000; stroke-linecap:butt; stroke-linejoin:round; stroke-width:2; stroke-opacity:0.1; fill:none\" points=\"\n",
       "  252.764,873.172 2352.76,873.172 \n",
       "  \"/>\n",
       "<polyline clip-path=\"url(#clip082)\" style=\"stroke:#000000; stroke-linecap:butt; stroke-linejoin:round; stroke-width:2; stroke-opacity:0.1; fill:none\" points=\"\n",
       "  252.764,593.177 2352.76,593.177 \n",
       "  \"/>\n",
       "<polyline clip-path=\"url(#clip082)\" style=\"stroke:#000000; stroke-linecap:butt; stroke-linejoin:round; stroke-width:2; stroke-opacity:0.1; fill:none\" points=\"\n",
       "  252.764,313.182 2352.76,313.182 \n",
       "  \"/>\n",
       "<polyline clip-path=\"url(#clip080)\" style=\"stroke:#000000; stroke-linecap:butt; stroke-linejoin:round; stroke-width:4; stroke-opacity:1; fill:none\" points=\"\n",
       "  252.764,1438.68 252.764,123.472 \n",
       "  \"/>\n",
       "<polyline clip-path=\"url(#clip080)\" style=\"stroke:#000000; stroke-linecap:butt; stroke-linejoin:round; stroke-width:4; stroke-opacity:1; fill:none\" points=\"\n",
       "  252.764,1433.16 277.964,1433.16 \n",
       "  \"/>\n",
       "<polyline clip-path=\"url(#clip080)\" style=\"stroke:#000000; stroke-linecap:butt; stroke-linejoin:round; stroke-width:4; stroke-opacity:1; fill:none\" points=\"\n",
       "  252.764,1153.17 277.964,1153.17 \n",
       "  \"/>\n",
       "<polyline clip-path=\"url(#clip080)\" style=\"stroke:#000000; stroke-linecap:butt; stroke-linejoin:round; stroke-width:4; stroke-opacity:1; fill:none\" points=\"\n",
       "  252.764,873.172 277.964,873.172 \n",
       "  \"/>\n",
       "<polyline clip-path=\"url(#clip080)\" style=\"stroke:#000000; stroke-linecap:butt; stroke-linejoin:round; stroke-width:4; stroke-opacity:1; fill:none\" points=\"\n",
       "  252.764,593.177 277.964,593.177 \n",
       "  \"/>\n",
       "<polyline clip-path=\"url(#clip080)\" style=\"stroke:#000000; stroke-linecap:butt; stroke-linejoin:round; stroke-width:4; stroke-opacity:1; fill:none\" points=\"\n",
       "  252.764,313.182 277.964,313.182 \n",
       "  \"/>\n",
       "<path clip-path=\"url(#clip080)\" d=\"M114.931 1452.95 L122.57 1452.95 L122.57 1426.59 L114.26 1428.26 L114.26 1424 L122.524 1422.33 L127.2 1422.33 L127.2 1452.95 L134.839 1452.95 L134.839 1456.89 L114.931 1456.89 L114.931 1452.95 Z\" fill=\"#000000\" fill-rule=\"evenodd\" fill-opacity=\"1\" /><path clip-path=\"url(#clip080)\" d=\"M154.283 1425.41 Q150.672 1425.41 148.843 1428.97 Q147.038 1432.51 147.038 1439.64 Q147.038 1446.75 148.843 1450.32 Q150.672 1453.86 154.283 1453.86 Q157.917 1453.86 159.723 1450.32 Q161.552 1446.75 161.552 1439.64 Q161.552 1432.51 159.723 1428.97 Q157.917 1425.41 154.283 1425.41 M154.283 1421.7 Q160.093 1421.7 163.149 1426.31 Q166.227 1430.89 166.227 1439.64 Q166.227 1448.37 163.149 1452.98 Q160.093 1457.56 154.283 1457.56 Q148.473 1457.56 145.394 1452.98 Q142.339 1448.37 142.339 1439.64 Q142.339 1430.89 145.394 1426.31 Q148.473 1421.7 154.283 1421.7 Z\" fill=\"#000000\" fill-rule=\"evenodd\" fill-opacity=\"1\" /><path clip-path=\"url(#clip080)\" d=\"M166.227 1415.81 L190.339 1415.81 L190.339 1419 L166.227 1419 L166.227 1415.81 Z\" fill=\"#000000\" fill-rule=\"evenodd\" fill-opacity=\"1\" /><path clip-path=\"url(#clip080)\" d=\"M208.978 1404.71 L199.386 1419.7 L208.978 1419.7 L208.978 1404.71 M207.981 1401.4 L212.758 1401.4 L212.758 1419.7 L216.764 1419.7 L216.764 1422.86 L212.758 1422.86 L212.758 1429.48 L208.978 1429.48 L208.978 1422.86 L196.301 1422.86 L196.301 1419.19 L207.981 1401.4 Z\" fill=\"#000000\" fill-rule=\"evenodd\" fill-opacity=\"1\" /><path clip-path=\"url(#clip080)\" d=\"M115.853 1172.96 L123.492 1172.96 L123.492 1146.59 L115.182 1148.26 L115.182 1144 L123.446 1142.33 L128.121 1142.33 L128.121 1172.96 L135.76 1172.96 L135.76 1176.89 L115.853 1176.89 L115.853 1172.96 Z\" fill=\"#000000\" fill-rule=\"evenodd\" fill-opacity=\"1\" /><path clip-path=\"url(#clip080)\" d=\"M155.205 1145.41 Q151.594 1145.41 149.765 1148.98 Q147.959 1152.52 147.959 1159.65 Q147.959 1166.76 149.765 1170.32 Q151.594 1173.86 155.205 1173.86 Q158.839 1173.86 160.644 1170.32 Q162.473 1166.76 162.473 1159.65 Q162.473 1152.52 160.644 1148.98 Q158.839 1145.41 155.205 1145.41 M155.205 1141.71 Q161.015 1141.71 164.07 1146.32 Q167.149 1150.9 167.149 1159.65 Q167.149 1168.38 164.07 1172.98 Q161.015 1177.57 155.205 1177.57 Q149.395 1177.57 146.316 1172.98 Q143.26 1168.38 143.26 1159.65 Q143.26 1150.9 146.316 1146.32 Q149.395 1141.71 155.205 1141.71 Z\" fill=\"#000000\" fill-rule=\"evenodd\" fill-opacity=\"1\" /><path clip-path=\"url(#clip080)\" d=\"M167.149 1135.81 L191.261 1135.81 L191.261 1139.01 L167.149 1139.01 L167.149 1135.81 Z\" fill=\"#000000\" fill-rule=\"evenodd\" fill-opacity=\"1\" /><path clip-path=\"url(#clip080)\" d=\"M210.971 1134.34 Q213.698 1134.93 215.222 1136.77 Q216.764 1138.61 216.764 1141.32 Q216.764 1145.48 213.905 1147.75 Q211.046 1150.03 205.78 1150.03 Q204.012 1150.03 202.132 1149.67 Q200.27 1149.33 198.276 1148.64 L198.276 1144.97 Q199.856 1145.89 201.737 1146.36 Q203.617 1146.83 205.667 1146.83 Q209.241 1146.83 211.103 1145.42 Q212.984 1144.01 212.984 1141.32 Q212.984 1138.84 211.234 1137.45 Q209.504 1136.04 206.401 1136.04 L203.128 1136.04 L203.128 1132.91 L206.551 1132.91 Q209.354 1132.91 210.84 1131.81 Q212.325 1130.68 212.325 1128.57 Q212.325 1126.41 210.783 1125.26 Q209.26 1124.09 206.401 1124.09 Q204.84 1124.09 203.053 1124.43 Q201.266 1124.77 199.122 1125.49 L199.122 1122.1 Q201.285 1121.5 203.166 1121.2 Q205.066 1120.9 206.739 1120.9 Q211.065 1120.9 213.585 1122.87 Q216.106 1124.83 216.106 1128.18 Q216.106 1130.51 214.77 1132.12 Q213.435 1133.72 210.971 1134.34 Z\" fill=\"#000000\" fill-rule=\"evenodd\" fill-opacity=\"1\" /><path clip-path=\"url(#clip080)\" d=\"M116.624 892.965 L124.263 892.965 L124.263 866.599 L115.953 868.266 L115.953 864.006 L124.217 862.34 L128.893 862.34 L128.893 892.965 L136.531 892.965 L136.531 896.9 L116.624 896.9 L116.624 892.965 Z\" fill=\"#000000\" fill-rule=\"evenodd\" fill-opacity=\"1\" /><path clip-path=\"url(#clip080)\" d=\"M155.976 865.418 Q152.365 865.418 150.536 868.983 Q148.73 872.525 148.73 879.655 Q148.73 886.761 150.536 890.326 Q152.365 893.867 155.976 893.867 Q159.61 893.867 161.416 890.326 Q163.244 886.761 163.244 879.655 Q163.244 872.525 161.416 868.983 Q159.61 865.418 155.976 865.418 M155.976 861.715 Q161.786 861.715 164.841 866.321 Q167.92 870.905 167.92 879.655 Q167.92 888.381 164.841 892.988 Q161.786 897.571 155.976 897.571 Q150.166 897.571 147.087 892.988 Q144.031 888.381 144.031 879.655 Q144.031 870.905 147.087 866.321 Q150.166 861.715 155.976 861.715 Z\" fill=\"#000000\" fill-rule=\"evenodd\" fill-opacity=\"1\" /><path clip-path=\"url(#clip080)\" d=\"M167.92 855.816 L192.032 855.816 L192.032 859.013 L167.92 859.013 L167.92 855.816 Z\" fill=\"#000000\" fill-rule=\"evenodd\" fill-opacity=\"1\" /><path clip-path=\"url(#clip080)\" d=\"M203.504 866.292 L216.764 866.292 L216.764 869.489 L198.934 869.489 L198.934 866.292 Q201.097 864.054 204.821 860.292 Q208.564 856.512 209.523 855.421 Q211.347 853.371 212.062 851.961 Q212.796 850.531 212.796 849.158 Q212.796 846.92 211.216 845.509 Q209.655 844.099 207.134 844.099 Q205.348 844.099 203.354 844.72 Q201.379 845.34 199.122 846.6 L199.122 842.764 Q201.417 841.842 203.41 841.372 Q205.404 840.902 207.059 840.902 Q211.423 840.902 214.018 843.083 Q216.613 845.265 216.613 848.914 Q216.613 850.644 215.955 852.205 Q215.316 853.747 213.604 855.854 Q213.134 856.399 210.614 859.013 Q208.094 861.609 203.504 866.292 Z\" fill=\"#000000\" fill-rule=\"evenodd\" fill-opacity=\"1\" /><path clip-path=\"url(#clip080)\" d=\"M116.323 612.97 L123.962 612.97 L123.962 586.604 L115.652 588.271 L115.652 584.012 L123.916 582.345 L128.592 582.345 L128.592 612.97 L136.231 612.97 L136.231 616.905 L116.323 616.905 L116.323 612.97 Z\" fill=\"#000000\" fill-rule=\"evenodd\" fill-opacity=\"1\" /><path clip-path=\"url(#clip080)\" d=\"M155.675 585.424 Q152.064 585.424 150.235 588.988 Q148.43 592.53 148.43 599.66 Q148.43 606.766 150.235 610.331 Q152.064 613.872 155.675 613.872 Q159.309 613.872 161.115 610.331 Q162.943 606.766 162.943 599.66 Q162.943 592.53 161.115 588.988 Q159.309 585.424 155.675 585.424 M155.675 581.72 Q161.485 581.72 164.541 586.326 Q167.619 590.91 167.619 599.66 Q167.619 608.386 164.541 612.993 Q161.485 617.576 155.675 617.576 Q149.865 617.576 146.786 612.993 Q143.73 608.386 143.73 599.66 Q143.73 590.91 146.786 586.326 Q149.865 581.72 155.675 581.72 Z\" fill=\"#000000\" fill-rule=\"evenodd\" fill-opacity=\"1\" /><path clip-path=\"url(#clip080)\" d=\"M167.619 575.821 L191.731 575.821 L191.731 579.019 L167.619 579.019 L167.619 575.821 Z\" fill=\"#000000\" fill-rule=\"evenodd\" fill-opacity=\"1\" /><path clip-path=\"url(#clip080)\" d=\"M200.589 586.297 L206.796 586.297 L206.796 564.875 L200.044 566.229 L200.044 562.769 L206.758 561.414 L210.557 561.414 L210.557 586.297 L216.764 586.297 L216.764 589.494 L200.589 589.494 L200.589 586.297 Z\" fill=\"#000000\" fill-rule=\"evenodd\" fill-opacity=\"1\" /><path clip-path=\"url(#clip080)\" d=\"M146.058 332.975 L153.697 332.975 L153.697 306.609 L145.387 308.276 L145.387 304.017 L153.651 302.35 L158.327 302.35 L158.327 332.975 L165.966 332.975 L165.966 336.91 L146.058 336.91 L146.058 332.975 Z\" fill=\"#000000\" fill-rule=\"evenodd\" fill-opacity=\"1\" /><path clip-path=\"url(#clip080)\" d=\"M185.41 305.429 Q181.799 305.429 179.97 308.993 Q178.165 312.535 178.165 319.665 Q178.165 326.771 179.97 330.336 Q181.799 333.878 185.41 333.878 Q189.044 333.878 190.85 330.336 Q192.678 326.771 192.678 319.665 Q192.678 312.535 190.85 308.993 Q189.044 305.429 185.41 305.429 M185.41 301.725 Q191.22 301.725 194.276 306.331 Q197.354 310.915 197.354 319.665 Q197.354 328.391 194.276 332.998 Q191.22 337.581 185.41 337.581 Q179.6 337.581 176.521 332.998 Q173.466 328.391 173.466 319.665 Q173.466 310.915 176.521 306.331 Q179.6 301.725 185.41 301.725 Z\" fill=\"#000000\" fill-rule=\"evenodd\" fill-opacity=\"1\" /><path clip-path=\"url(#clip080)\" d=\"M207.059 283.921 Q204.125 283.921 202.639 286.817 Q201.172 289.695 201.172 295.488 Q201.172 301.262 202.639 304.158 Q204.125 307.036 207.059 307.036 Q210.012 307.036 211.479 304.158 Q212.965 301.262 212.965 295.488 Q212.965 289.695 211.479 286.817 Q210.012 283.921 207.059 283.921 M207.059 280.912 Q211.78 280.912 214.263 284.654 Q216.764 288.378 216.764 295.488 Q216.764 302.578 214.263 306.321 Q211.78 310.045 207.059 310.045 Q202.338 310.045 199.837 306.321 Q197.354 302.578 197.354 295.488 Q197.354 288.378 199.837 284.654 Q202.338 280.912 207.059 280.912 Z\" fill=\"#000000\" fill-rule=\"evenodd\" fill-opacity=\"1\" /><path clip-path=\"url(#clip080)\" d=\"M44.7161 1045.67 L47.5806 1045.67 L47.5806 1072.59 Q53.6281 1072.21 56.8109 1068.96 Q59.9619 1065.69 59.9619 1059.86 Q59.9619 1056.49 59.1344 1053.34 Q58.3069 1050.15 56.6518 1047.03 L62.1899 1047.03 Q63.5267 1050.18 64.227 1053.5 Q64.9272 1056.81 64.9272 1060.21 Q64.9272 1068.74 59.9619 1073.74 Q54.9967 1078.7 46.5303 1078.7 Q37.7774 1078.7 32.6531 1073.99 Q27.4968 1069.25 27.4968 1061.23 Q27.4968 1054.04 32.1438 1049.87 Q36.7589 1045.67 44.7161 1045.67 M42.9973 1051.52 Q38.1912 1051.59 35.3266 1054.23 Q32.4621 1056.84 32.4621 1061.17 Q32.4621 1066.07 35.2312 1069.03 Q38.0002 1071.96 43.0292 1072.4 L42.9973 1051.52 Z\" fill=\"#000000\" fill-rule=\"evenodd\" fill-opacity=\"1\" /><path clip-path=\"url(#clip080)\" d=\"M14.479 1036.05 L14.479 1030.2 L64.0042 1030.2 L64.0042 1036.05 L14.479 1036.05 Z\" fill=\"#000000\" fill-rule=\"evenodd\" fill-opacity=\"1\" /><path clip-path=\"url(#clip080)\" d=\"M46.0847 1001.74 Q46.0847 1008.84 47.7079 1011.58 Q49.3312 1014.31 53.2461 1014.31 Q56.3653 1014.31 58.2114 1012.28 Q60.0256 1010.21 60.0256 1006.68 Q60.0256 1001.81 56.5881 998.877 Q53.1188 995.917 47.3897 995.917 L46.0847 995.917 L46.0847 1001.74 M43.6657 990.061 L64.0042 990.061 L64.0042 995.917 L58.5933 995.917 Q61.8398 997.922 63.3994 1000.91 Q64.9272 1003.91 64.9272 1008.23 Q64.9272 1013.71 61.8716 1016.96 Q58.7843 1020.17 53.6281 1020.17 Q47.6125 1020.17 44.5569 1016.16 Q41.5014 1012.12 41.5014 1004.13 L41.5014 995.917 L40.9285 995.917 Q36.8862 995.917 34.6901 998.591 Q32.4621 1001.23 32.4621 1006.04 Q32.4621 1009.09 33.1941 1011.99 Q33.9262 1014.89 35.3903 1017.56 L29.9795 1017.56 Q28.7381 1014.35 28.1334 1011.32 Q27.4968 1008.3 27.4968 1005.43 Q27.4968 997.7 31.5072 993.88 Q35.5176 990.061 43.6657 990.061 Z\" fill=\"#000000\" fill-rule=\"evenodd\" fill-opacity=\"1\" /><path clip-path=\"url(#clip080)\" d=\"M58.657 972.332 L77.5631 972.332 L77.5631 978.221 L28.3562 978.221 L28.3562 972.332 L33.7671 972.332 Q30.5842 970.486 29.0564 967.685 Q27.4968 964.853 27.4968 960.938 Q27.4968 954.445 32.6531 950.402 Q37.8093 946.328 46.212 946.328 Q54.6147 946.328 59.771 950.402 Q64.9272 954.445 64.9272 960.938 Q64.9272 964.853 63.3994 967.685 Q61.8398 970.486 58.657 972.332 M46.212 952.408 Q39.7508 952.408 36.0905 955.081 Q32.3984 957.723 32.3984 962.37 Q32.3984 967.017 36.0905 969.69 Q39.7508 972.332 46.212 972.332 Q52.6732 972.332 56.3653 969.69 Q60.0256 967.017 60.0256 962.37 Q60.0256 957.723 56.3653 955.081 Q52.6732 952.408 46.212 952.408 Z\" fill=\"#000000\" fill-rule=\"evenodd\" fill-opacity=\"1\" /><path clip-path=\"url(#clip080)\" d=\"M29.4065 913.895 L34.9447 913.895 Q33.6716 916.378 33.035 919.051 Q32.3984 921.725 32.3984 924.589 Q32.3984 928.95 33.7352 931.146 Q35.072 933.31 37.7456 933.31 Q39.7826 933.31 40.9603 931.751 Q42.1061 930.191 43.1565 925.481 L43.6021 923.475 Q44.9389 917.237 47.3897 914.627 Q49.8086 911.985 54.1691 911.985 Q59.1344 911.985 62.0308 915.932 Q64.9272 919.847 64.9272 926.722 Q64.9272 929.587 64.3543 932.706 Q63.8132 935.793 62.6992 939.231 L56.6518 939.231 Q58.3387 935.984 59.198 932.833 Q60.0256 929.682 60.0256 926.595 Q60.0256 922.457 58.6251 920.229 Q57.1929 918.001 54.6147 918.001 Q52.2276 918.001 50.9545 919.624 Q49.6813 921.216 48.5037 926.658 L48.0262 928.695 Q46.8804 934.138 44.5251 936.557 Q42.138 938.976 38.0002 938.976 Q32.9713 938.976 30.2341 935.411 Q27.4968 931.846 27.4968 925.29 Q27.4968 922.043 27.9743 919.179 Q28.4517 916.314 29.4065 913.895 Z\" fill=\"#000000\" fill-rule=\"evenodd\" fill-opacity=\"1\" /><path clip-path=\"url(#clip080)\" d=\"M44.7161 872.168 L47.5806 872.168 L47.5806 899.095 Q53.6281 898.713 56.8109 895.466 Q59.9619 892.188 59.9619 886.363 Q59.9619 882.99 59.1344 879.839 Q58.3069 876.656 56.6518 873.536 L62.1899 873.536 Q63.5267 876.688 64.227 879.998 Q64.9272 883.308 64.9272 886.713 Q64.9272 895.244 59.9619 900.241 Q54.9967 905.206 46.5303 905.206 Q37.7774 905.206 32.6531 900.495 Q27.4968 895.753 27.4968 887.732 Q27.4968 880.539 32.1438 876.369 Q36.7589 872.168 44.7161 872.168 M42.9973 878.024 Q38.1912 878.088 35.3266 880.73 Q32.4621 883.34 32.4621 887.668 Q32.4621 892.57 35.2312 895.53 Q38.0002 898.458 43.0292 898.904 L42.9973 878.024 Z\" fill=\"#000000\" fill-rule=\"evenodd\" fill-opacity=\"1\" /><path clip-path=\"url(#clip080)\" d=\"M33.7671 839.098 L14.479 839.098 L14.479 833.242 L64.0042 833.242 L64.0042 839.098 L58.657 839.098 Q61.8398 840.944 63.3994 843.777 Q64.9272 846.578 64.9272 850.524 Q64.9272 856.986 59.771 861.06 Q54.6147 865.102 46.212 865.102 Q37.8093 865.102 32.6531 861.06 Q27.4968 856.986 27.4968 850.524 Q27.4968 846.578 29.0564 843.777 Q30.5842 840.944 33.7671 839.098 M46.212 859.054 Q52.6732 859.054 56.3653 856.413 Q60.0256 853.739 60.0256 849.092 Q60.0256 844.445 56.3653 841.772 Q52.6732 839.098 46.212 839.098 Q39.7508 839.098 36.0905 841.772 Q32.3984 844.445 32.3984 849.092 Q32.3984 853.739 36.0905 856.413 Q39.7508 859.054 46.212 859.054 Z\" fill=\"#000000\" fill-rule=\"evenodd\" fill-opacity=\"1\" /><path clip-path=\"url(#clip080)\" d=\"M18.2347 794.665 L28.3562 794.665 L28.3562 782.602 L32.9077 782.602 L32.9077 794.665 L52.2594 794.665 Q56.6199 794.665 57.8613 793.488 Q59.1026 792.278 59.1026 788.618 L59.1026 782.602 L64.0042 782.602 L64.0042 788.618 Q64.0042 795.397 61.4897 797.976 Q58.9434 800.554 52.2594 800.554 L32.9077 800.554 L32.9077 804.851 L28.3562 804.851 L28.3562 800.554 L18.2347 800.554 L18.2347 794.665 Z\" fill=\"#000000\" fill-rule=\"evenodd\" fill-opacity=\"1\" /><path clip-path=\"url(#clip080)\" d=\"M28.3562 774.9 L28.3562 769.043 L64.0042 769.043 L64.0042 774.9 L28.3562 774.9 M14.479 774.9 L14.479 769.043 L21.895 769.043 L21.895 774.9 L14.479 774.9 Z\" fill=\"#000000\" fill-rule=\"evenodd\" fill-opacity=\"1\" /><path clip-path=\"url(#clip080)\" d=\"M35.1993 729.035 Q31.2526 726.839 29.3747 723.783 Q27.4968 720.728 27.4968 716.59 Q27.4968 711.02 31.4117 707.996 Q35.2948 704.973 42.4881 704.973 L64.0042 704.973 L64.0042 710.861 L42.679 710.861 Q37.5546 710.861 35.072 712.675 Q32.5894 714.489 32.5894 718.213 Q32.5894 722.765 35.6131 725.406 Q38.6368 728.048 43.8567 728.048 L64.0042 728.048 L64.0042 733.937 L42.679 733.937 Q37.5228 733.937 35.072 735.751 Q32.5894 737.565 32.5894 741.353 Q32.5894 745.84 35.6449 748.482 Q38.6686 751.124 43.8567 751.124 L64.0042 751.124 L64.0042 757.012 L28.3562 757.012 L28.3562 751.124 L33.8944 751.124 Q30.616 749.119 29.0564 746.318 Q27.4968 743.517 27.4968 739.666 Q27.4968 735.783 29.4702 733.077 Q31.4436 730.34 35.1993 729.035 Z\" fill=\"#000000\" fill-rule=\"evenodd\" fill-opacity=\"1\" /><path clip-path=\"url(#clip080)\" d=\"M44.7161 662.8 L47.5806 662.8 L47.5806 689.727 Q53.6281 689.345 56.8109 686.098 Q59.9619 682.82 59.9619 676.995 Q59.9619 673.621 59.1344 670.47 Q58.3069 667.288 56.6518 664.168 L62.1899 664.168 Q63.5267 667.319 64.227 670.63 Q64.9272 673.94 64.9272 677.345 Q64.9272 685.875 59.9619 690.873 Q54.9967 695.838 46.5303 695.838 Q37.7774 695.838 32.6531 691.127 Q27.4968 686.385 27.4968 678.364 Q27.4968 671.171 32.1438 667.001 Q36.7589 662.8 44.7161 662.8 M42.9973 668.656 Q38.1912 668.72 35.3266 671.362 Q32.4621 673.972 32.4621 678.3 Q32.4621 683.202 35.2312 686.162 Q38.0002 689.09 43.0292 689.536 L42.9973 668.656 Z\" fill=\"#000000\" fill-rule=\"evenodd\" fill-opacity=\"1\" /><path clip-path=\"url(#clip080)\" d=\"M14.5426 618.399 Q21.8632 622.664 29.0246 624.733 Q36.186 626.802 43.5384 626.802 Q50.8908 626.802 58.1159 624.733 Q65.3091 622.632 72.5979 618.399 L72.5979 623.492 Q65.1182 628.266 57.8931 630.653 Q50.668 633.008 43.5384 633.008 Q36.4406 633.008 29.2474 630.653 Q22.0542 628.298 14.5426 623.492 L14.5426 618.399 Z\" fill=\"#000000\" fill-rule=\"evenodd\" fill-opacity=\"1\" /><path clip-path=\"url(#clip080)\" d=\"M29.4065 584.311 L34.9447 584.311 Q33.6716 586.793 33.035 589.467 Q32.3984 592.14 32.3984 595.005 Q32.3984 599.365 33.7352 601.562 Q35.072 603.726 37.7456 603.726 Q39.7826 603.726 40.9603 602.166 Q42.1061 600.607 43.1565 595.896 L43.6021 593.891 Q44.9389 587.653 47.3897 585.043 Q49.8086 582.401 54.1691 582.401 Q59.1344 582.401 62.0308 586.348 Q64.9272 590.263 64.9272 597.137 Q64.9272 600.002 64.3543 603.121 Q63.8132 606.209 62.6992 609.646 L56.6518 609.646 Q58.3387 606.4 59.198 603.249 Q60.0256 600.098 60.0256 597.01 Q60.0256 592.872 58.6251 590.644 Q57.1929 588.416 54.6147 588.416 Q52.2276 588.416 50.9545 590.04 Q49.6813 591.631 48.5037 597.074 L48.0262 599.111 Q46.8804 604.554 44.5251 606.973 Q42.138 609.391 38.0002 609.391 Q32.9713 609.391 30.2341 605.827 Q27.4968 602.262 27.4968 595.705 Q27.4968 592.459 27.9743 589.594 Q28.4517 586.73 29.4065 584.311 Z\" fill=\"#000000\" fill-rule=\"evenodd\" fill-opacity=\"1\" /><path clip-path=\"url(#clip080)\" d=\"M44.7161 542.583 L47.5806 542.583 L47.5806 569.51 Q53.6281 569.128 56.8109 565.882 Q59.9619 562.604 59.9619 556.779 Q59.9619 553.405 59.1344 550.254 Q58.3069 547.071 56.6518 543.952 L62.1899 543.952 Q63.5267 547.103 64.227 550.413 Q64.9272 553.723 64.9272 557.129 Q64.9272 565.659 59.9619 570.656 Q54.9967 575.621 46.5303 575.621 Q37.7774 575.621 32.6531 570.911 Q27.4968 566.168 27.4968 558.148 Q27.4968 550.954 32.1438 546.785 Q36.7589 542.583 44.7161 542.583 M42.9973 548.44 Q38.1912 548.504 35.3266 551.145 Q32.4621 553.755 32.4621 558.084 Q32.4621 562.985 35.2312 565.946 Q38.0002 568.874 43.0292 569.319 L42.9973 548.44 Z\" fill=\"#000000\" fill-rule=\"evenodd\" fill-opacity=\"1\" /><path clip-path=\"url(#clip080)\" d=\"M29.7248 507.317 L35.1993 507.317 Q33.8307 509.8 33.1623 512.314 Q32.4621 514.797 32.4621 517.343 Q32.4621 523.041 36.0905 526.192 Q39.6872 529.343 46.212 529.343 Q52.7369 529.343 56.3653 526.192 Q59.9619 523.041 59.9619 517.343 Q59.9619 514.797 59.2935 512.314 Q58.5933 509.8 57.2247 507.317 L62.6355 507.317 Q63.7814 509.768 64.3543 512.41 Q64.9272 515.02 64.9272 517.98 Q64.9272 526.033 59.8664 530.775 Q54.8057 535.517 46.212 535.517 Q37.491 535.517 32.4939 530.743 Q27.4968 525.937 27.4968 517.598 Q27.4968 514.893 28.0697 512.314 Q28.6108 509.736 29.7248 507.317 Z\" fill=\"#000000\" fill-rule=\"evenodd\" fill-opacity=\"1\" /><path clip-path=\"url(#clip080)\" d=\"M14.5426 498.055 L14.5426 492.963 Q22.0542 488.188 29.2474 485.833 Q36.4406 483.446 43.5384 483.446 Q50.668 483.446 57.8931 485.833 Q65.1182 488.188 72.5979 492.963 L72.5979 498.055 Q65.3091 493.822 58.1159 491.753 Q50.8908 489.653 43.5384 489.653 Q36.186 489.653 29.0246 491.753 Q21.8632 493.822 14.5426 498.055 Z\" fill=\"#000000\" fill-rule=\"evenodd\" fill-opacity=\"1\" /><path clip-path=\"url(#clip080)\" d=\"M655.952 12.096 L707.115 12.096 L707.115 18.9825 L685.645 18.9825 L685.645 72.576 L677.422 72.576 L677.422 18.9825 L655.952 18.9825 L655.952 12.096 Z\" fill=\"#000000\" fill-rule=\"evenodd\" fill-opacity=\"1\" /><path clip-path=\"url(#clip080)\" d=\"M712.138 27.2059 L719.592 27.2059 L719.592 72.576 L712.138 72.576 L712.138 27.2059 M712.138 9.54393 L719.592 9.54393 L719.592 18.9825 L712.138 18.9825 L712.138 9.54393 Z\" fill=\"#000000\" fill-rule=\"evenodd\" fill-opacity=\"1\" /><path clip-path=\"url(#clip080)\" d=\"M770.512 35.9153 Q773.307 30.8922 777.196 28.5022 Q781.084 26.1121 786.351 26.1121 Q793.44 26.1121 797.288 31.0947 Q801.136 36.0368 801.136 45.1919 L801.136 72.576 L793.642 72.576 L793.642 45.4349 Q793.642 38.913 791.333 35.7533 Q789.024 32.5936 784.285 32.5936 Q778.492 32.5936 775.13 36.4419 Q771.767 40.2903 771.767 46.9338 L771.767 72.576 L764.273 72.576 L764.273 45.4349 Q764.273 38.8725 761.964 35.7533 Q759.655 32.5936 754.835 32.5936 Q749.123 32.5936 745.761 36.4824 Q742.398 40.3308 742.398 46.9338 L742.398 72.576 L734.904 72.576 L734.904 27.2059 L742.398 27.2059 L742.398 34.2544 Q744.95 30.082 748.515 28.0971 Q752.08 26.1121 756.982 26.1121 Q761.924 26.1121 765.367 28.6237 Q768.851 31.1352 770.512 35.9153 Z\" fill=\"#000000\" fill-rule=\"evenodd\" fill-opacity=\"1\" /><path clip-path=\"url(#clip080)\" d=\"M816.003 27.2059 L823.457 27.2059 L823.457 72.576 L816.003 72.576 L816.003 27.2059 M816.003 9.54393 L823.457 9.54393 L823.457 18.9825 L816.003 18.9825 L816.003 9.54393 Z\" fill=\"#000000\" fill-rule=\"evenodd\" fill-opacity=\"1\" /><path clip-path=\"url(#clip080)\" d=\"M876.767 45.1919 L876.767 72.576 L869.313 72.576 L869.313 45.4349 Q869.313 38.994 866.802 35.7938 Q864.29 32.5936 859.267 32.5936 Q853.231 32.5936 849.747 36.4419 Q846.264 40.2903 846.264 46.9338 L846.264 72.576 L838.769 72.576 L838.769 27.2059 L846.264 27.2059 L846.264 34.2544 Q848.937 30.163 852.542 28.1376 Q856.188 26.1121 860.928 26.1121 Q868.746 26.1121 872.756 30.9732 Q876.767 35.7938 876.767 45.1919 Z\" fill=\"#000000\" fill-rule=\"evenodd\" fill-opacity=\"1\" /><path clip-path=\"url(#clip080)\" d=\"M921.489 49.3643 Q921.489 41.2625 918.127 36.8065 Q914.805 32.3505 908.769 32.3505 Q902.774 32.3505 899.411 36.8065 Q896.09 41.2625 896.09 49.3643 Q896.09 57.4256 899.411 61.8816 Q902.774 66.3376 908.769 66.3376 Q914.805 66.3376 918.127 61.8816 Q921.489 57.4256 921.489 49.3643 M928.942 66.9452 Q928.942 78.5308 923.798 84.1616 Q918.653 89.8329 908.04 89.8329 Q904.11 89.8329 900.627 89.2252 Q897.143 88.6581 893.862 87.4428 L893.862 80.1917 Q897.143 81.9741 900.343 82.8248 Q903.543 83.6755 906.865 83.6755 Q914.197 83.6755 917.843 79.8271 Q921.489 76.0193 921.489 68.282 L921.489 64.5957 Q919.18 68.6061 915.575 70.5911 Q911.969 72.576 906.946 72.576 Q898.601 72.576 893.497 66.2161 Q888.393 59.8562 888.393 49.3643 Q888.393 38.832 893.497 32.472 Q898.601 26.1121 906.946 26.1121 Q911.969 26.1121 915.575 28.0971 Q919.18 30.082 921.489 34.0924 L921.489 27.2059 L928.942 27.2059 L928.942 66.9452 Z\" fill=\"#000000\" fill-rule=\"evenodd\" fill-opacity=\"1\" /><path clip-path=\"url(#clip080)\" d=\"M988.248 32.4315 Q982.252 32.4315 978.769 37.1306 Q975.285 41.7891 975.285 49.9314 Q975.285 58.0738 978.728 62.7728 Q982.212 67.4314 988.248 67.4314 Q994.203 67.4314 997.686 62.7323 Q1001.17 58.0333 1001.17 49.9314 Q1001.17 41.8701 997.686 37.1711 Q994.203 32.4315 988.248 32.4315 M988.248 26.1121 Q997.97 26.1121 1003.52 32.4315 Q1009.07 38.7509 1009.07 49.9314 Q1009.07 61.0714 1003.52 67.4314 Q997.97 73.7508 988.248 73.7508 Q978.485 73.7508 972.935 67.4314 Q967.426 61.0714 967.426 49.9314 Q967.426 38.7509 972.935 32.4315 Q978.485 26.1121 988.248 26.1121 Z\" fill=\"#000000\" fill-rule=\"evenodd\" fill-opacity=\"1\" /><path clip-path=\"url(#clip080)\" d=\"M1044.39 9.54393 L1044.39 15.7418 L1037.26 15.7418 Q1033.25 15.7418 1031.67 17.3622 Q1030.13 18.9825 1030.13 23.1955 L1030.13 27.2059 L1042.41 27.2059 L1042.41 32.9987 L1030.13 32.9987 L1030.13 72.576 L1022.64 72.576 L1022.64 32.9987 L1015.51 32.9987 L1015.51 27.2059 L1022.64 27.2059 L1022.64 24.0462 Q1022.64 16.471 1026.16 13.0277 Q1029.69 9.54393 1037.34 9.54393 L1044.39 9.54393 Z\" fill=\"#000000\" fill-rule=\"evenodd\" fill-opacity=\"1\" /><path clip-path=\"url(#clip080)\" d=\"M1112.33 35.9153 Q1115.12 30.8922 1119.01 28.5022 Q1122.9 26.1121 1128.17 26.1121 Q1135.26 26.1121 1139.1 31.0947 Q1142.95 36.0368 1142.95 45.1919 L1142.95 72.576 L1135.46 72.576 L1135.46 45.4349 Q1135.46 38.913 1133.15 35.7533 Q1130.84 32.5936 1126.1 32.5936 Q1120.31 32.5936 1116.94 36.4419 Q1113.58 40.2903 1113.58 46.9338 L1113.58 72.576 L1106.09 72.576 L1106.09 45.4349 Q1106.09 38.8725 1103.78 35.7533 Q1101.47 32.5936 1096.65 32.5936 Q1090.94 32.5936 1087.58 36.4824 Q1084.21 40.3308 1084.21 46.9338 L1084.21 72.576 L1076.72 72.576 L1076.72 27.2059 L1084.21 27.2059 L1084.21 34.2544 Q1086.77 30.082 1090.33 28.0971 Q1093.9 26.1121 1098.8 26.1121 Q1103.74 26.1121 1107.18 28.6237 Q1110.67 31.1352 1112.33 35.9153 Z\" fill=\"#000000\" fill-rule=\"evenodd\" fill-opacity=\"1\" /><path clip-path=\"url(#clip080)\" d=\"M1178.44 49.7694 Q1169.4 49.7694 1165.92 51.8354 Q1162.44 53.9013 1162.44 58.8839 Q1162.44 62.8538 1165.03 65.2034 Q1167.66 67.5124 1172.16 67.5124 Q1178.36 67.5124 1182.08 63.1374 Q1185.85 58.7219 1185.85 51.4303 L1185.85 49.7694 L1178.44 49.7694 M1193.3 46.6907 L1193.3 72.576 L1185.85 72.576 L1185.85 65.6895 Q1183.3 69.8214 1179.49 71.8063 Q1175.68 73.7508 1170.17 73.7508 Q1163.21 73.7508 1159.07 69.8619 Q1154.98 65.9325 1154.98 59.3701 Q1154.98 51.7138 1160.09 47.825 Q1165.23 43.9361 1175.4 43.9361 L1185.85 43.9361 L1185.85 43.2069 Q1185.85 38.0623 1182.45 35.2672 Q1179.09 32.4315 1172.97 32.4315 Q1169.08 32.4315 1165.39 33.3632 Q1161.71 34.295 1158.3 36.1584 L1158.3 29.2718 Q1162.4 27.692 1166.24 26.9223 Q1170.09 26.1121 1173.74 26.1121 Q1183.58 26.1121 1188.44 31.2163 Q1193.3 36.3204 1193.3 46.6907 Z\" fill=\"#000000\" fill-rule=\"evenodd\" fill-opacity=\"1\" /><path clip-path=\"url(#clip080)\" d=\"M1216.03 14.324 L1216.03 27.2059 L1231.38 27.2059 L1231.38 32.9987 L1216.03 32.9987 L1216.03 57.6282 Q1216.03 63.1779 1217.53 64.7578 Q1219.07 66.3376 1223.73 66.3376 L1231.38 66.3376 L1231.38 72.576 L1223.73 72.576 Q1215.1 72.576 1211.82 69.3758 Q1208.54 66.1351 1208.54 57.6282 L1208.54 32.9987 L1203.07 32.9987 L1203.07 27.2059 L1208.54 27.2059 L1208.54 14.324 L1216.03 14.324 Z\" fill=\"#000000\" fill-rule=\"evenodd\" fill-opacity=\"1\" /><path clip-path=\"url(#clip080)\" d=\"M1267.48 34.1734 Q1266.22 33.4443 1264.72 33.1202 Q1263.26 32.7556 1261.48 32.7556 Q1255.16 32.7556 1251.76 36.8875 Q1248.4 40.9789 1248.4 48.6757 L1248.4 72.576 L1240.9 72.576 L1240.9 27.2059 L1248.4 27.2059 L1248.4 34.2544 Q1250.75 30.1225 1254.51 28.1376 Q1258.28 26.1121 1263.67 26.1121 Q1264.44 26.1121 1265.37 26.2337 Q1266.3 26.3147 1267.44 26.5172 L1267.48 34.1734 Z\" fill=\"#000000\" fill-rule=\"evenodd\" fill-opacity=\"1\" /><path clip-path=\"url(#clip080)\" d=\"M1275.29 27.2059 L1282.75 27.2059 L1282.75 72.576 L1275.29 72.576 L1275.29 27.2059 M1275.29 9.54393 L1282.75 9.54393 L1282.75 18.9825 L1275.29 18.9825 L1275.29 9.54393 Z\" fill=\"#000000\" fill-rule=\"evenodd\" fill-opacity=\"1\" /><path clip-path=\"url(#clip080)\" d=\"M1336.06 27.2059 L1319.65 49.2833 L1336.91 72.576 L1328.12 72.576 L1314.91 54.752 L1301.71 72.576 L1292.92 72.576 L1310.54 48.8377 L1294.42 27.2059 L1303.21 27.2059 L1315.24 43.369 L1327.27 27.2059 L1336.06 27.2059 Z\" fill=\"#000000\" fill-rule=\"evenodd\" fill-opacity=\"1\" /><path clip-path=\"url(#clip080)\" d=\"M1409.14 35.9153 Q1411.93 30.8922 1415.82 28.5022 Q1419.71 26.1121 1424.98 26.1121 Q1432.06 26.1121 1435.91 31.0947 Q1439.76 36.0368 1439.76 45.1919 L1439.76 72.576 L1432.27 72.576 L1432.27 45.4349 Q1432.27 38.913 1429.96 35.7533 Q1427.65 32.5936 1422.91 32.5936 Q1417.12 32.5936 1413.75 36.4419 Q1410.39 40.2903 1410.39 46.9338 L1410.39 72.576 L1402.9 72.576 L1402.9 45.4349 Q1402.9 38.8725 1400.59 35.7533 Q1398.28 32.5936 1393.46 32.5936 Q1387.75 32.5936 1384.39 36.4824 Q1381.02 40.3308 1381.02 46.9338 L1381.02 72.576 L1373.53 72.576 L1373.53 27.2059 L1381.02 27.2059 L1381.02 34.2544 Q1383.58 30.082 1387.14 28.0971 Q1390.71 26.1121 1395.61 26.1121 Q1400.55 26.1121 1403.99 28.6237 Q1407.48 31.1352 1409.14 35.9153 Z\" fill=\"#000000\" fill-rule=\"evenodd\" fill-opacity=\"1\" /><path clip-path=\"url(#clip080)\" d=\"M1453.86 54.671 L1453.86 27.2059 L1461.31 27.2059 L1461.31 54.3874 Q1461.31 60.8284 1463.82 64.0691 Q1466.34 67.2693 1471.36 67.2693 Q1477.39 67.2693 1480.88 63.421 Q1484.4 59.5726 1484.4 52.9291 L1484.4 27.2059 L1491.86 27.2059 L1491.86 72.576 L1484.4 72.576 L1484.4 65.6084 Q1481.69 69.7404 1478.08 71.7658 Q1474.52 73.7508 1469.78 73.7508 Q1461.96 73.7508 1457.91 68.8897 Q1453.86 64.0286 1453.86 54.671 M1472.61 26.1121 L1472.61 26.1121 Z\" fill=\"#000000\" fill-rule=\"evenodd\" fill-opacity=\"1\" /><path clip-path=\"url(#clip080)\" d=\"M1507.21 9.54393 L1514.66 9.54393 L1514.66 72.576 L1507.21 72.576 L1507.21 9.54393 Z\" fill=\"#000000\" fill-rule=\"evenodd\" fill-opacity=\"1\" /><path clip-path=\"url(#clip080)\" d=\"M1537.63 14.324 L1537.63 27.2059 L1552.98 27.2059 L1552.98 32.9987 L1537.63 32.9987 L1537.63 57.6282 Q1537.63 63.1779 1539.13 64.7578 Q1540.67 66.3376 1545.33 66.3376 L1552.98 66.3376 L1552.98 72.576 L1545.33 72.576 Q1536.7 72.576 1533.42 69.3758 Q1530.14 66.1351 1530.14 57.6282 L1530.14 32.9987 L1524.67 32.9987 L1524.67 27.2059 L1530.14 27.2059 L1530.14 14.324 L1537.63 14.324 Z\" fill=\"#000000\" fill-rule=\"evenodd\" fill-opacity=\"1\" /><path clip-path=\"url(#clip080)\" d=\"M1562.79 27.2059 L1570.24 27.2059 L1570.24 72.576 L1562.79 72.576 L1562.79 27.2059 M1562.79 9.54393 L1570.24 9.54393 L1570.24 18.9825 L1562.79 18.9825 L1562.79 9.54393 Z\" fill=\"#000000\" fill-rule=\"evenodd\" fill-opacity=\"1\" /><path clip-path=\"url(#clip080)\" d=\"M1593.05 65.7705 L1593.05 89.8329 L1585.55 89.8329 L1585.55 27.2059 L1593.05 27.2059 L1593.05 34.0924 Q1595.4 30.0415 1598.96 28.0971 Q1602.57 26.1121 1607.55 26.1121 Q1615.81 26.1121 1620.96 32.6746 Q1626.14 39.2371 1626.14 49.9314 Q1626.14 60.6258 1620.96 67.1883 Q1615.81 73.7508 1607.55 73.7508 Q1602.57 73.7508 1598.96 71.8063 Q1595.4 69.8214 1593.05 65.7705 M1618.41 49.9314 Q1618.41 41.7081 1615 37.0496 Q1611.64 32.3505 1605.73 32.3505 Q1599.81 32.3505 1596.41 37.0496 Q1593.05 41.7081 1593.05 49.9314 Q1593.05 58.1548 1596.41 62.8538 Q1599.81 67.5124 1605.73 67.5124 Q1611.64 67.5124 1615 62.8538 Q1618.41 58.1548 1618.41 49.9314 Z\" fill=\"#000000\" fill-rule=\"evenodd\" fill-opacity=\"1\" /><path clip-path=\"url(#clip080)\" d=\"M1638.5 9.54393 L1645.95 9.54393 L1645.95 72.576 L1638.5 72.576 L1638.5 9.54393 Z\" fill=\"#000000\" fill-rule=\"evenodd\" fill-opacity=\"1\" /><path clip-path=\"url(#clip080)\" d=\"M1661.55 27.2059 L1669 27.2059 L1669 72.576 L1661.55 72.576 L1661.55 27.2059 M1661.55 9.54393 L1669 9.54393 L1669 18.9825 L1661.55 18.9825 L1661.55 9.54393 Z\" fill=\"#000000\" fill-rule=\"evenodd\" fill-opacity=\"1\" /><path clip-path=\"url(#clip080)\" d=\"M1717.25 28.9478 L1717.25 35.9153 Q1714.09 34.1734 1710.89 33.3227 Q1707.73 32.4315 1704.49 32.4315 Q1697.24 32.4315 1693.23 37.0496 Q1689.22 41.6271 1689.22 49.9314 Q1689.22 58.2358 1693.23 62.8538 Q1697.24 67.4314 1704.49 67.4314 Q1707.73 67.4314 1710.89 66.5807 Q1714.09 65.6895 1717.25 63.9476 L1717.25 70.8341 Q1714.13 72.2924 1710.77 73.0216 Q1707.45 73.7508 1703.68 73.7508 Q1693.43 73.7508 1687.39 67.3098 Q1681.36 60.8689 1681.36 49.9314 Q1681.36 38.832 1687.43 32.472 Q1693.55 26.1121 1704.16 26.1121 Q1707.61 26.1121 1710.89 26.8413 Q1714.17 27.5299 1717.25 28.9478 Z\" fill=\"#000000\" fill-rule=\"evenodd\" fill-opacity=\"1\" /><path clip-path=\"url(#clip080)\" d=\"M1750.83 49.7694 Q1741.8 49.7694 1738.31 51.8354 Q1734.83 53.9013 1734.83 58.8839 Q1734.83 62.8538 1737.42 65.2034 Q1740.06 67.5124 1744.55 67.5124 Q1750.75 67.5124 1754.48 63.1374 Q1758.24 58.7219 1758.24 51.4303 L1758.24 49.7694 L1750.83 49.7694 M1765.7 46.6907 L1765.7 72.576 L1758.24 72.576 L1758.24 65.6895 Q1755.69 69.8214 1751.88 71.8063 Q1748.08 73.7508 1742.57 73.7508 Q1735.6 73.7508 1731.47 69.8619 Q1727.38 65.9325 1727.38 59.3701 Q1727.38 51.7138 1732.48 47.825 Q1737.62 43.9361 1747.79 43.9361 L1758.24 43.9361 L1758.24 43.2069 Q1758.24 38.0623 1754.84 35.2672 Q1751.48 32.4315 1745.36 32.4315 Q1741.47 32.4315 1737.79 33.3632 Q1734.1 34.295 1730.7 36.1584 L1730.7 29.2718 Q1734.79 27.692 1738.64 26.9223 Q1742.49 26.1121 1746.13 26.1121 Q1755.98 26.1121 1760.84 31.2163 Q1765.7 36.3204 1765.7 46.6907 Z\" fill=\"#000000\" fill-rule=\"evenodd\" fill-opacity=\"1\" /><path clip-path=\"url(#clip080)\" d=\"M1788.42 14.324 L1788.42 27.2059 L1803.78 27.2059 L1803.78 32.9987 L1788.42 32.9987 L1788.42 57.6282 Q1788.42 63.1779 1789.92 64.7578 Q1791.46 66.3376 1796.12 66.3376 L1803.78 66.3376 L1803.78 72.576 L1796.12 72.576 Q1787.49 72.576 1784.21 69.3758 Q1780.93 66.1351 1780.93 57.6282 L1780.93 32.9987 L1775.46 32.9987 L1775.46 27.2059 L1780.93 27.2059 L1780.93 14.324 L1788.42 14.324 Z\" fill=\"#000000\" fill-rule=\"evenodd\" fill-opacity=\"1\" /><path clip-path=\"url(#clip080)\" d=\"M1813.58 27.2059 L1821.03 27.2059 L1821.03 72.576 L1813.58 72.576 L1813.58 27.2059 M1813.58 9.54393 L1821.03 9.54393 L1821.03 18.9825 L1813.58 18.9825 L1813.58 9.54393 Z\" fill=\"#000000\" fill-rule=\"evenodd\" fill-opacity=\"1\" /><path clip-path=\"url(#clip080)\" d=\"M1854.21 32.4315 Q1848.21 32.4315 1844.73 37.1306 Q1841.25 41.7891 1841.25 49.9314 Q1841.25 58.0738 1844.69 62.7728 Q1848.17 67.4314 1854.21 67.4314 Q1860.16 67.4314 1863.65 62.7323 Q1867.13 58.0333 1867.13 49.9314 Q1867.13 41.8701 1863.65 37.1711 Q1860.16 32.4315 1854.21 32.4315 M1854.21 26.1121 Q1863.93 26.1121 1869.48 32.4315 Q1875.03 38.7509 1875.03 49.9314 Q1875.03 61.0714 1869.48 67.4314 Q1863.93 73.7508 1854.21 73.7508 Q1844.45 73.7508 1838.9 67.4314 Q1833.39 61.0714 1833.39 49.9314 Q1833.39 38.7509 1838.9 32.4315 Q1844.45 26.1121 1854.21 26.1121 Z\" fill=\"#000000\" fill-rule=\"evenodd\" fill-opacity=\"1\" /><path clip-path=\"url(#clip080)\" d=\"M1925.1 45.1919 L1925.1 72.576 L1917.65 72.576 L1917.65 45.4349 Q1917.65 38.994 1915.14 35.7938 Q1912.62 32.5936 1907.6 32.5936 Q1901.56 32.5936 1898.08 36.4419 Q1894.6 40.2903 1894.6 46.9338 L1894.6 72.576 L1887.1 72.576 L1887.1 27.2059 L1894.6 27.2059 L1894.6 34.2544 Q1897.27 30.163 1900.88 28.1376 Q1904.52 26.1121 1909.26 26.1121 Q1917.08 26.1121 1921.09 30.9732 Q1925.1 35.7938 1925.1 45.1919 Z\" fill=\"#000000\" fill-rule=\"evenodd\" fill-opacity=\"1\" /><path clip-path=\"url(#clip080)\" d=\"M1941.02 62.2867 L1949.57 62.2867 L1949.57 72.576 L1941.02 72.576 L1941.02 62.2867 Z\" fill=\"#000000\" fill-rule=\"evenodd\" fill-opacity=\"1\" /><polyline clip-path=\"url(#clip082)\" style=\"stroke:#009af9; stroke-linecap:butt; stroke-linejoin:round; stroke-width:4; stroke-opacity:1; fill:none\" points=\"\n",
       "  312.198,1160.59 715.941,832.808 952.116,945.45 1119.68,851.019 1249.66,787.002 1355.86,714.793 1445.65,675.792 1523.43,641.816 1592.03,606.626 1653.4,564.865 \n",
       "  1708.92,539.555 1759.6,511.783 1806.23,484.375 1849.39,410.556 1889.58,435.076 1927.17,372.161 1962.48,393.465 1995.78,375.446 2027.27,319.678 2057.15,340.414 \n",
       "  2085.57,325.021 2112.66,300.694 2138.56,284.435 2163.35,263.448 2187.12,250.909 2209.97,246.071 2231.95,228.284 2253.14,215.37 2273.58,180.999 2293.32,160.695 \n",
       "  \n",
       "  \"/>\n",
       "<path clip-path=\"url(#clip082)\" d=\"M312.198 1176.59 L300.886 1171.9 L296.198 1160.59 L300.886 1149.28 L312.198 1144.59 L323.51 1149.28 L328.198 1160.59 L323.51 1171.9 Z\" fill=\"#009af9\" fill-rule=\"evenodd\" fill-opacity=\"1\" stroke=\"#000000\" stroke-opacity=\"1\" stroke-width=\"3.2\"/>\n",
       "<path clip-path=\"url(#clip082)\" d=\"M715.941 848.808 L704.629 844.12 L699.941 832.808 L704.629 821.496 L715.941 816.808 L727.253 821.496 L731.941 832.808 L727.253 844.12 Z\" fill=\"#009af9\" fill-rule=\"evenodd\" fill-opacity=\"1\" stroke=\"#000000\" stroke-opacity=\"1\" stroke-width=\"3.2\"/>\n",
       "<path clip-path=\"url(#clip082)\" d=\"M952.116 961.45 L940.804 956.762 L936.116 945.45 L940.804 934.138 L952.116 929.45 L963.428 934.138 L968.116 945.45 L963.428 956.762 Z\" fill=\"#009af9\" fill-rule=\"evenodd\" fill-opacity=\"1\" stroke=\"#000000\" stroke-opacity=\"1\" stroke-width=\"3.2\"/>\n",
       "<path clip-path=\"url(#clip082)\" d=\"M1119.68 867.019 L1108.37 862.331 L1103.68 851.019 L1108.37 839.707 L1119.68 835.019 L1131 839.707 L1135.68 851.019 L1131 862.331 Z\" fill=\"#009af9\" fill-rule=\"evenodd\" fill-opacity=\"1\" stroke=\"#000000\" stroke-opacity=\"1\" stroke-width=\"3.2\"/>\n",
       "<path clip-path=\"url(#clip082)\" d=\"M1249.66 803.002 L1238.35 798.314 L1233.66 787.002 L1238.35 775.69 L1249.66 771.002 L1260.97 775.69 L1265.66 787.002 L1260.97 798.314 Z\" fill=\"#009af9\" fill-rule=\"evenodd\" fill-opacity=\"1\" stroke=\"#000000\" stroke-opacity=\"1\" stroke-width=\"3.2\"/>\n",
       "<path clip-path=\"url(#clip082)\" d=\"M1355.86 730.793 L1344.55 726.105 L1339.86 714.793 L1344.55 703.481 L1355.86 698.793 L1367.17 703.481 L1371.86 714.793 L1367.17 726.105 Z\" fill=\"#009af9\" fill-rule=\"evenodd\" fill-opacity=\"1\" stroke=\"#000000\" stroke-opacity=\"1\" stroke-width=\"3.2\"/>\n",
       "<path clip-path=\"url(#clip082)\" d=\"M1445.65 691.792 L1434.34 687.104 L1429.65 675.792 L1434.34 664.48 L1445.65 659.792 L1456.96 664.48 L1461.65 675.792 L1456.96 687.104 Z\" fill=\"#009af9\" fill-rule=\"evenodd\" fill-opacity=\"1\" stroke=\"#000000\" stroke-opacity=\"1\" stroke-width=\"3.2\"/>\n",
       "<path clip-path=\"url(#clip082)\" d=\"M1523.43 657.816 L1512.12 653.128 L1507.43 641.816 L1512.12 630.504 L1523.43 625.816 L1534.74 630.504 L1539.43 641.816 L1534.74 653.128 Z\" fill=\"#009af9\" fill-rule=\"evenodd\" fill-opacity=\"1\" stroke=\"#000000\" stroke-opacity=\"1\" stroke-width=\"3.2\"/>\n",
       "<path clip-path=\"url(#clip082)\" d=\"M1592.03 622.626 L1580.72 617.938 L1576.03 606.626 L1580.72 595.314 L1592.03 590.626 L1603.35 595.314 L1608.03 606.626 L1603.35 617.938 Z\" fill=\"#009af9\" fill-rule=\"evenodd\" fill-opacity=\"1\" stroke=\"#000000\" stroke-opacity=\"1\" stroke-width=\"3.2\"/>\n",
       "<path clip-path=\"url(#clip082)\" d=\"M1653.4 580.865 L1642.09 576.177 L1637.4 564.865 L1642.09 553.553 L1653.4 548.865 L1664.72 553.553 L1669.4 564.865 L1664.72 576.177 Z\" fill=\"#009af9\" fill-rule=\"evenodd\" fill-opacity=\"1\" stroke=\"#000000\" stroke-opacity=\"1\" stroke-width=\"3.2\"/>\n",
       "<path clip-path=\"url(#clip082)\" d=\"M1708.92 555.555 L1697.61 550.867 L1692.92 539.555 L1697.61 528.243 L1708.92 523.555 L1720.23 528.243 L1724.92 539.555 L1720.23 550.867 Z\" fill=\"#009af9\" fill-rule=\"evenodd\" fill-opacity=\"1\" stroke=\"#000000\" stroke-opacity=\"1\" stroke-width=\"3.2\"/>\n",
       "<path clip-path=\"url(#clip082)\" d=\"M1759.6 527.783 L1748.29 523.095 L1743.6 511.783 L1748.29 500.471 L1759.6 495.783 L1770.91 500.471 L1775.6 511.783 L1770.91 523.095 Z\" fill=\"#009af9\" fill-rule=\"evenodd\" fill-opacity=\"1\" stroke=\"#000000\" stroke-opacity=\"1\" stroke-width=\"3.2\"/>\n",
       "<path clip-path=\"url(#clip082)\" d=\"M1806.23 500.375 L1794.91 495.687 L1790.23 484.375 L1794.91 473.063 L1806.23 468.375 L1817.54 473.063 L1822.23 484.375 L1817.54 495.687 Z\" fill=\"#009af9\" fill-rule=\"evenodd\" fill-opacity=\"1\" stroke=\"#000000\" stroke-opacity=\"1\" stroke-width=\"3.2\"/>\n",
       "<path clip-path=\"url(#clip082)\" d=\"M1849.39 426.556 L1838.08 421.868 L1833.39 410.556 L1838.08 399.244 L1849.39 394.556 L1860.7 399.244 L1865.39 410.556 L1860.7 421.868 Z\" fill=\"#009af9\" fill-rule=\"evenodd\" fill-opacity=\"1\" stroke=\"#000000\" stroke-opacity=\"1\" stroke-width=\"3.2\"/>\n",
       "<path clip-path=\"url(#clip082)\" d=\"M1889.58 451.076 L1878.27 446.388 L1873.58 435.076 L1878.27 423.764 L1889.58 419.076 L1900.89 423.764 L1905.58 435.076 L1900.89 446.388 Z\" fill=\"#009af9\" fill-rule=\"evenodd\" fill-opacity=\"1\" stroke=\"#000000\" stroke-opacity=\"1\" stroke-width=\"3.2\"/>\n",
       "<path clip-path=\"url(#clip082)\" d=\"M1927.17 388.161 L1915.86 383.473 L1911.17 372.161 L1915.86 360.849 L1927.17 356.161 L1938.48 360.849 L1943.17 372.161 L1938.48 383.473 Z\" fill=\"#009af9\" fill-rule=\"evenodd\" fill-opacity=\"1\" stroke=\"#000000\" stroke-opacity=\"1\" stroke-width=\"3.2\"/>\n",
       "<path clip-path=\"url(#clip082)\" d=\"M1962.48 409.465 L1951.17 404.777 L1946.48 393.465 L1951.17 382.153 L1962.48 377.465 L1973.8 382.153 L1978.48 393.465 L1973.8 404.777 Z\" fill=\"#009af9\" fill-rule=\"evenodd\" fill-opacity=\"1\" stroke=\"#000000\" stroke-opacity=\"1\" stroke-width=\"3.2\"/>\n",
       "<path clip-path=\"url(#clip082)\" d=\"M1995.78 391.446 L1984.47 386.758 L1979.78 375.446 L1984.47 364.134 L1995.78 359.446 L2007.09 364.134 L2011.78 375.446 L2007.09 386.758 Z\" fill=\"#009af9\" fill-rule=\"evenodd\" fill-opacity=\"1\" stroke=\"#000000\" stroke-opacity=\"1\" stroke-width=\"3.2\"/>\n",
       "<path clip-path=\"url(#clip082)\" d=\"M2027.27 335.678 L2015.96 330.99 L2011.27 319.678 L2015.96 308.366 L2027.27 303.678 L2038.58 308.366 L2043.27 319.678 L2038.58 330.99 Z\" fill=\"#009af9\" fill-rule=\"evenodd\" fill-opacity=\"1\" stroke=\"#000000\" stroke-opacity=\"1\" stroke-width=\"3.2\"/>\n",
       "<path clip-path=\"url(#clip082)\" d=\"M2057.15 356.414 L2045.84 351.726 L2041.15 340.414 L2045.84 329.102 L2057.15 324.414 L2068.46 329.102 L2073.15 340.414 L2068.46 351.726 Z\" fill=\"#009af9\" fill-rule=\"evenodd\" fill-opacity=\"1\" stroke=\"#000000\" stroke-opacity=\"1\" stroke-width=\"3.2\"/>\n",
       "<path clip-path=\"url(#clip082)\" d=\"M2085.57 341.021 L2074.25 336.333 L2069.57 325.021 L2074.25 313.709 L2085.57 309.021 L2096.88 313.709 L2101.57 325.021 L2096.88 336.333 Z\" fill=\"#009af9\" fill-rule=\"evenodd\" fill-opacity=\"1\" stroke=\"#000000\" stroke-opacity=\"1\" stroke-width=\"3.2\"/>\n",
       "<path clip-path=\"url(#clip082)\" d=\"M2112.66 316.694 L2101.35 312.006 L2096.66 300.694 L2101.35 289.382 L2112.66 284.694 L2123.98 289.382 L2128.66 300.694 L2123.98 312.006 Z\" fill=\"#009af9\" fill-rule=\"evenodd\" fill-opacity=\"1\" stroke=\"#000000\" stroke-opacity=\"1\" stroke-width=\"3.2\"/>\n",
       "<path clip-path=\"url(#clip082)\" d=\"M2138.56 300.435 L2127.24 295.747 L2122.56 284.435 L2127.24 273.123 L2138.56 268.435 L2149.87 273.123 L2154.56 284.435 L2149.87 295.747 Z\" fill=\"#009af9\" fill-rule=\"evenodd\" fill-opacity=\"1\" stroke=\"#000000\" stroke-opacity=\"1\" stroke-width=\"3.2\"/>\n",
       "<path clip-path=\"url(#clip082)\" d=\"M2163.35 279.448 L2152.03 274.76 L2147.35 263.448 L2152.03 252.136 L2163.35 247.448 L2174.66 252.136 L2179.35 263.448 L2174.66 274.76 Z\" fill=\"#009af9\" fill-rule=\"evenodd\" fill-opacity=\"1\" stroke=\"#000000\" stroke-opacity=\"1\" stroke-width=\"3.2\"/>\n",
       "<path clip-path=\"url(#clip082)\" d=\"M2187.12 266.909 L2175.81 262.221 L2171.12 250.909 L2175.81 239.597 L2187.12 234.909 L2198.44 239.597 L2203.12 250.909 L2198.44 262.221 Z\" fill=\"#009af9\" fill-rule=\"evenodd\" fill-opacity=\"1\" stroke=\"#000000\" stroke-opacity=\"1\" stroke-width=\"3.2\"/>\n",
       "<path clip-path=\"url(#clip082)\" d=\"M2209.97 262.071 L2198.66 257.383 L2193.97 246.071 L2198.66 234.759 L2209.97 230.071 L2221.28 234.759 L2225.97 246.071 L2221.28 257.383 Z\" fill=\"#009af9\" fill-rule=\"evenodd\" fill-opacity=\"1\" stroke=\"#000000\" stroke-opacity=\"1\" stroke-width=\"3.2\"/>\n",
       "<path clip-path=\"url(#clip082)\" d=\"M2231.95 244.284 L2220.64 239.596 L2215.95 228.284 L2220.64 216.972 L2231.95 212.284 L2243.26 216.972 L2247.95 228.284 L2243.26 239.596 Z\" fill=\"#009af9\" fill-rule=\"evenodd\" fill-opacity=\"1\" stroke=\"#000000\" stroke-opacity=\"1\" stroke-width=\"3.2\"/>\n",
       "<path clip-path=\"url(#clip082)\" d=\"M2253.14 231.37 L2241.82 226.682 L2237.14 215.37 L2241.82 204.058 L2253.14 199.37 L2264.45 204.058 L2269.14 215.37 L2264.45 226.682 Z\" fill=\"#009af9\" fill-rule=\"evenodd\" fill-opacity=\"1\" stroke=\"#000000\" stroke-opacity=\"1\" stroke-width=\"3.2\"/>\n",
       "<path clip-path=\"url(#clip082)\" d=\"M2273.58 196.999 L2262.26 192.311 L2257.58 180.999 L2262.26 169.687 L2273.58 164.999 L2284.89 169.687 L2289.58 180.999 L2284.89 192.311 Z\" fill=\"#009af9\" fill-rule=\"evenodd\" fill-opacity=\"1\" stroke=\"#000000\" stroke-opacity=\"1\" stroke-width=\"3.2\"/>\n",
       "<path clip-path=\"url(#clip082)\" d=\"M2293.32 176.695 L2282.01 172.007 L2277.32 160.695 L2282.01 149.383 L2293.32 144.695 L2304.63 149.383 L2309.32 160.695 L2304.63 172.007 Z\" fill=\"#009af9\" fill-rule=\"evenodd\" fill-opacity=\"1\" stroke=\"#000000\" stroke-opacity=\"1\" stroke-width=\"3.2\"/>\n",
       "<polyline clip-path=\"url(#clip082)\" style=\"stroke:#e26f46; stroke-linecap:butt; stroke-linejoin:round; stroke-width:4; stroke-opacity:1; fill:none\" stroke-dasharray=\"16, 10\" points=\"\n",
       "  312.198,1401.45 715.941,1148.59 952.116,1000.68 1119.68,895.733 1249.66,814.33 1355.86,747.819 1445.65,691.585 1523.43,642.872 1592.03,599.905 1653.4,561.469 \n",
       "  1708.92,526.7 1759.6,494.958 1806.23,465.759 1849.39,438.724 1889.58,413.556 1927.17,390.012 1962.48,367.896 1995.78,347.044 2027.27,327.321 2057.15,308.609 \n",
       "  2085.57,290.81 2112.66,273.84 2138.56,257.624 2163.35,242.098 2187.12,227.206 2209.97,212.898 2231.95,199.131 2253.14,185.864 2273.58,173.062 2293.32,160.695 \n",
       "  \n",
       "  \"/>\n",
       "<path clip-path=\"url(#clip080)\" d=\"\n",
       "M322.764 322.832 L678.922 322.832 L678.922 167.312 L322.764 167.312  Z\n",
       "  \" fill=\"#ffffff\" fill-rule=\"evenodd\" fill-opacity=\"1\"/>\n",
       "<polyline clip-path=\"url(#clip080)\" style=\"stroke:#000000; stroke-linecap:butt; stroke-linejoin:round; stroke-width:4; stroke-opacity:1; fill:none\" points=\"\n",
       "  322.764,322.832 678.922,322.832 678.922,167.312 322.764,167.312 322.764,322.832 \n",
       "  \"/>\n",
       "<polyline clip-path=\"url(#clip080)\" style=\"stroke:#009af9; stroke-linecap:butt; stroke-linejoin:round; stroke-width:4; stroke-opacity:1; fill:none\" points=\"\n",
       "  346.097,219.152 486.096,219.152 \n",
       "  \"/>\n",
       "<path clip-path=\"url(#clip080)\" d=\"M416.097 244.752 L397.997 237.251 L390.497 219.152 L397.997 201.053 L416.097 193.552 L434.196 201.053 L441.697 219.152 L434.196 237.251 Z\" fill=\"#009af9\" fill-rule=\"evenodd\" fill-opacity=\"1\" stroke=\"#000000\" stroke-opacity=\"1\" stroke-width=\"5.12\"/>\n",
       "<path clip-path=\"url(#clip080)\" d=\"M528.342 214.442 L528.342 200.414 L532.601 200.414 L532.601 236.432 L528.342 236.432 L528.342 232.543 Q526.999 234.858 524.939 235.992 Q522.902 237.104 520.031 237.104 Q515.332 237.104 512.369 233.354 Q509.43 229.604 509.43 223.493 Q509.43 217.381 512.369 213.631 Q515.332 209.882 520.031 209.882 Q522.902 209.882 524.939 211.016 Q526.999 212.127 528.342 214.442 M513.828 223.493 Q513.828 228.192 515.749 230.877 Q517.693 233.539 521.073 233.539 Q524.453 233.539 526.397 230.877 Q528.342 228.192 528.342 223.493 Q528.342 218.793 526.397 216.131 Q524.453 213.446 521.073 213.446 Q517.693 213.446 515.749 216.131 Q513.828 218.793 513.828 223.493 Z\" fill=\"#000000\" fill-rule=\"evenodd\" fill-opacity=\"1\" /><path clip-path=\"url(#clip080)\" d=\"M553.156 223.4 Q547.994 223.4 546.004 224.581 Q544.013 225.761 544.013 228.608 Q544.013 230.877 545.494 232.219 Q546.999 233.539 549.568 233.539 Q553.11 233.539 555.24 231.039 Q557.392 228.516 557.392 224.349 L557.392 223.4 L553.156 223.4 M561.652 221.641 L561.652 236.432 L557.392 236.432 L557.392 232.497 Q555.934 234.858 553.758 235.992 Q551.582 237.104 548.434 237.104 Q544.453 237.104 542.091 234.881 Q539.754 232.636 539.754 228.886 Q539.754 224.511 542.67 222.289 Q545.61 220.067 551.42 220.067 L557.392 220.067 L557.392 219.65 Q557.392 216.71 555.448 215.113 Q553.527 213.493 550.031 213.493 Q547.809 213.493 545.703 214.025 Q543.596 214.557 541.652 215.622 L541.652 211.687 Q543.99 210.784 546.189 210.344 Q548.388 209.882 550.471 209.882 Q556.096 209.882 558.874 212.798 Q561.652 215.715 561.652 221.641 Z\" fill=\"#000000\" fill-rule=\"evenodd\" fill-opacity=\"1\" /><path clip-path=\"url(#clip080)\" d=\"M574.638 203.145 L574.638 210.507 L583.411 210.507 L583.411 213.817 L574.638 213.817 L574.638 227.891 Q574.638 231.062 575.494 231.965 Q576.374 232.867 579.036 232.867 L583.411 232.867 L583.411 236.432 L579.036 236.432 Q574.105 236.432 572.23 234.604 Q570.355 232.752 570.355 227.891 L570.355 213.817 L567.23 213.817 L567.23 210.507 L570.355 210.507 L570.355 203.145 L574.638 203.145 Z\" fill=\"#000000\" fill-rule=\"evenodd\" fill-opacity=\"1\" /><path clip-path=\"url(#clip080)\" d=\"M600.795 223.4 Q595.633 223.4 593.642 224.581 Q591.651 225.761 591.651 228.608 Q591.651 230.877 593.133 232.219 Q594.638 233.539 597.207 233.539 Q600.749 233.539 602.878 231.039 Q605.031 228.516 605.031 224.349 L605.031 223.4 L600.795 223.4 M609.29 221.641 L609.29 236.432 L605.031 236.432 L605.031 232.497 Q603.573 234.858 601.397 235.992 Q599.221 237.104 596.073 237.104 Q592.091 237.104 589.73 234.881 Q587.392 232.636 587.392 228.886 Q587.392 224.511 590.309 222.289 Q593.249 220.067 599.059 220.067 L605.031 220.067 L605.031 219.65 Q605.031 216.71 603.087 215.113 Q601.165 213.493 597.67 213.493 Q595.448 213.493 593.341 214.025 Q591.235 214.557 589.29 215.622 L589.29 211.687 Q591.628 210.784 593.827 210.344 Q596.026 209.882 598.11 209.882 Q603.735 209.882 606.512 212.798 Q609.29 215.715 609.29 221.641 Z\" fill=\"#000000\" fill-rule=\"evenodd\" fill-opacity=\"1\" /><polyline clip-path=\"url(#clip080)\" style=\"stroke:#e26f46; stroke-linecap:butt; stroke-linejoin:round; stroke-width:4; stroke-opacity:1; fill:none\" stroke-dasharray=\"16, 10\" points=\"\n",
       "  346.097,270.992 486.096,270.992 \n",
       "  \"/>\n",
       "<path clip-path=\"url(#clip080)\" d=\"M542.596 262.749 Q542.596 266.099 541.401 269.424 Q540.23 272.727 538.169 275.444 Q536.108 278.161 533.484 280.269 Q530.861 282.377 527.793 283.548 Q524.724 284.719 521.726 284.719 Q516.41 284.719 512.92 281.229 Q509.43 277.739 509.43 271.907 Q509.43 267.832 511.257 263.78 Q513.084 259.704 515.988 256.683 Q518.892 253.638 522.71 251.741 Q526.551 249.843 530.346 249.843 Q535.733 249.843 539.153 253.427 Q542.596 256.987 542.596 262.749 M538.31 260.875 Q538.31 258.299 537.583 256.355 Q536.857 254.387 535.639 253.263 Q534.445 252.139 533.016 251.6 Q531.611 251.038 530.065 251.038 Q527.067 251.038 523.858 252.982 Q520.649 254.926 518.26 258.533 Q516.972 260.501 516.035 262.866 Q515.098 265.208 514.676 267.293 Q514.255 269.354 514.067 270.806 Q513.903 272.259 513.903 273.266 Q513.903 277.95 516.152 280.714 Q518.4 283.478 522.007 283.478 Q524.842 283.478 527.605 281.815 Q530.369 280.129 532.267 277.716 Q533.953 275.631 535.194 273.125 Q536.459 270.619 537.092 268.324 Q537.724 266.028 538.005 264.178 Q538.31 262.327 538.31 260.875 Z\" fill=\"#000000\" fill-rule=\"evenodd\" fill-opacity=\"1\" /><path clip-path=\"url(#clip080)\" d=\"M545.658 271.673 Q545.658 263.569 548.679 257.034 Q549.967 254.294 551.771 251.998 Q553.574 249.703 554.769 248.696 Q555.964 247.688 556.291 247.688 Q556.76 247.688 556.783 248.157 Q556.783 248.391 556.151 248.977 Q548.422 256.847 548.445 271.673 Q548.445 286.546 555.964 294.112 Q556.783 294.932 556.783 295.189 Q556.783 295.658 556.291 295.658 Q555.964 295.658 554.816 294.697 Q553.668 293.737 551.888 291.535 Q550.108 289.334 548.82 286.64 Q545.658 280.105 545.658 271.673 Z\" fill=\"#000000\" fill-rule=\"evenodd\" fill-opacity=\"1\" /><path clip-path=\"url(#clip080)\" d=\"M590.072 276.803 Q590.072 276.99 589.861 277.716 Q589.65 278.442 589.135 279.566 Q588.643 280.691 587.964 281.721 Q587.285 282.728 586.161 283.478 Q585.06 284.204 583.795 284.204 Q582.108 284.204 580.984 283.08 Q579.86 281.955 579.86 280.269 Q579.86 279.332 580.352 278.044 Q583.467 269.729 583.467 266.871 Q583.467 263.522 580.867 263.522 Q579.579 263.522 578.361 264.014 Q577.166 264.482 576.347 265.138 Q575.527 265.794 574.777 266.707 Q574.051 267.598 573.676 268.207 Q573.325 268.792 573.044 269.378 L572.435 271.767 Q572.294 272.423 571.615 274.976 L570.561 279.309 Q569.812 282.541 569.648 282.846 Q569.414 283.501 568.898 283.853 Q568.383 284.204 567.868 284.204 Q567.282 284.204 566.884 283.853 Q566.486 283.501 566.486 282.892 Q566.486 282.799 566.556 282.447 Q566.626 282.096 566.743 281.604 Q566.86 281.112 566.907 280.831 L569.695 269.752 Q570.21 267.738 570.327 267.106 Q570.468 266.45 570.468 265.724 Q570.468 263.522 568.968 263.522 Q567.751 263.522 566.954 264.974 Q566.158 266.426 565.479 269.237 Q565.268 270.01 565.127 270.174 Q565.01 270.338 564.659 270.338 Q564.073 270.315 564.073 269.846 Q564.073 269.729 564.261 268.956 Q564.448 268.183 564.799 267.082 Q565.174 265.958 565.525 265.208 Q565.83 264.646 565.994 264.389 Q566.181 264.108 566.626 263.569 Q567.095 263.007 567.704 262.749 Q568.336 262.468 569.109 262.468 Q570.842 262.468 572.107 263.592 Q573.372 264.693 573.536 266.637 Q576.651 262.468 581.008 262.468 Q583.584 262.468 585.06 263.827 Q586.535 265.185 586.535 267.598 Q586.535 268.16 586.418 268.886 Q586.325 269.588 586.09 270.479 Q585.879 271.369 585.692 272.048 Q585.505 272.727 585.13 273.828 Q584.755 274.905 584.591 275.374 Q584.427 275.842 584.029 276.943 Q583.654 278.021 583.608 278.138 Q582.741 280.316 582.741 281.557 Q582.741 282.377 582.999 282.752 Q583.28 283.127 583.889 283.127 Q585.528 283.127 586.746 281.51 Q587.988 279.871 588.784 277.201 Q588.971 276.615 589.065 276.475 Q589.182 276.334 589.51 276.334 Q590.072 276.334 590.072 276.803 Z\" fill=\"#000000\" fill-rule=\"evenodd\" fill-opacity=\"1\" /><path clip-path=\"url(#clip080)\" d=\"M594.928 264.067 Q594.928 263.067 595.501 262.592 Q596.075 262.116 596.813 262.116 Q597.584 262.116 598.125 262.625 Q598.682 263.117 598.682 263.985 Q598.682 264.92 598.026 265.445 Q597.387 265.969 596.469 265.838 Q597.272 267.183 598.748 267.789 Q600.24 268.396 601.617 268.396 Q603.06 268.396 604.224 267.15 Q605.404 265.904 605.404 262.854 Q605.404 260.264 604.388 258.772 Q603.388 257.28 601.404 257.28 L599.928 257.28 Q599.42 257.28 599.272 257.23 Q599.125 257.181 599.125 256.903 Q599.125 256.575 599.633 256.509 Q600.141 256.509 600.945 256.411 Q602.896 256.345 603.929 254.656 Q604.863 253.082 604.863 250.836 Q604.863 248.787 603.88 247.934 Q602.912 247.065 601.65 247.065 Q600.469 247.065 599.174 247.557 Q597.879 248.049 597.174 249.147 Q599.256 249.147 599.256 250.836 Q599.256 251.574 598.781 252.066 Q598.321 252.541 597.551 252.541 Q596.813 252.541 596.321 252.082 Q595.829 251.607 595.829 250.803 Q595.829 248.885 597.534 247.557 Q599.256 246.229 601.781 246.229 Q604.273 246.229 606.109 247.541 Q607.962 248.852 607.962 250.869 Q607.962 252.853 606.65 254.476 Q605.339 256.099 603.257 256.771 Q605.814 257.28 607.339 259.018 Q608.864 260.739 608.864 262.854 Q608.864 265.477 606.798 267.412 Q604.732 269.33 601.715 269.33 Q598.928 269.33 596.928 267.822 Q594.928 266.314 594.928 264.067 Z\" fill=\"#000000\" fill-rule=\"evenodd\" fill-opacity=\"1\" /><path clip-path=\"url(#clip080)\" d=\"M613.84 295.189 Q613.84 294.955 614.449 294.369 Q622.178 286.499 622.178 271.673 Q622.178 256.8 614.753 249.281 Q613.84 248.415 613.84 248.157 Q613.84 247.688 614.308 247.688 Q614.636 247.688 615.784 248.649 Q616.955 249.609 618.712 251.811 Q620.492 254.013 621.803 256.706 Q624.965 263.241 624.965 271.673 Q624.965 279.777 621.944 286.312 Q620.656 289.052 618.852 291.348 Q617.049 293.643 615.854 294.65 Q614.66 295.658 614.308 295.658 Q613.84 295.658 613.84 295.189 Z\" fill=\"#000000\" fill-rule=\"evenodd\" fill-opacity=\"1\" /></svg>\n"
      ]
     },
     "execution_count": 9,
     "metadata": {},
     "output_type": "execute_result"
    },
    {
     "name": "stderr",
     "output_type": "stream",
     "text": [
      "┌ Warning: No strict ticks found\n",
      "└ @ PlotUtils C:\\Users\\R01235571\\.julia\\packages\\PlotUtils\\n4I4Q\\src\\ticks.jl:295\n",
      "┌ Warning: No strict ticks found\n",
      "└ @ PlotUtils C:\\Users\\R01235571\\.julia\\packages\\PlotUtils\\n4I4Q\\src\\ticks.jl:295\n"
     ]
    }
   ],
   "source": [
    "mat_sizes = 200:200:6000;\n",
    "mps = [@elapsed randn(n,n)*randn(n,n) for n in mat_sizes];\n",
    "plot(mat_sizes,mps,m=:o,\n",
    "    xaxis=(:log10,\"\\$n\\$\"),yaxis=(:log10,\"elapsed time (sec)\"),\n",
    "    title=\"Timing of matrix multiplication.\",label=\"data\",leg=false)\n",
    "plot!(mat_sizes,mps[end].*(mat_sizes/mat_sizes[end]).^3,l=:dash,\n",
    "    label=\"\\$O(n^3)\\$\",legend=:topleft)"
   ]
  },
  {
   "cell_type": "markdown",
   "metadata": {
    "slideshow": {
     "slide_type": "slide"
    }
   },
   "source": [
    "The previous plot provides experimental evidence that matrix multiplication is $\\mathcal{O}(n^3)$."
   ]
  },
  {
   "cell_type": "markdown",
   "metadata": {
    "slideshow": {
     "slide_type": "slide"
    }
   },
   "source": [
    "## FLOP Counts for Solving Linear Systems"
   ]
  },
  {
   "cell_type": "markdown",
   "metadata": {
    "slideshow": {
     "slide_type": "slide"
    }
   },
   "source": [
    "We will now examine the FLOP counts for back and forward substitution and LU factorization. We state the results in this notebook and derive them on the board. A very helpful fact that is worth remebering is that\n",
    "\n",
    "$\\sum_{k=1}^{n}k^p \\sim \\frac{n^{p+1}}{p+1} = \\mathcal{O}(n^{p+1}),\\ \\text{as}\\  n\\rightarrow \\infty$.\n",
    "\n",
    "This says that when you add up consecutively the $p$-th powers of the first $n$ positive integers, the result is $\\mathcal{O}(n^{p+1})$. (This formula should remind you of the antiderivative for power functions.)"
   ]
  },
  {
   "cell_type": "markdown",
   "metadata": {
    "slideshow": {
     "slide_type": "slide"
    }
   },
   "source": [
    "**Result:**\n",
    "\n",
    "1) Back and forward substitution are each $\\sim n^2$ FLOPs.\n",
    "\n",
    "2) LU factorization is asymptotic with $\\frac{2}{3}n^3$.\n",
    "\n",
    "3) The cost of solving a system of linear equations using LU factorization together with back and forward substitution is $\\mathcal{O}(n^3)$. (This follows from points 1 and 2.)\n",
    "\n",
    "4) The cost to invert a square matrix is asymptotic with $\\frac{8}{3}n^3$. (This is a homework problem.)"
   ]
  },
  {
   "cell_type": "markdown",
   "metadata": {
    "slideshow": {
     "slide_type": "slide"
    }
   },
   "source": [
    "## Pivoting"
   ]
  },
  {
   "cell_type": "markdown",
   "metadata": {
    "slideshow": {
     "slide_type": "slide"
    }
   },
   "source": [
    "As we have presented LU factorization, there is a stability issue. We will demonstrate this by way of an example. "
   ]
  },
  {
   "cell_type": "code",
   "execution_count": 10,
   "metadata": {
    "slideshow": {
     "slide_type": "slide"
    }
   },
   "outputs": [
    {
     "data": {
      "text/plain": [
       "4×4 Matrix{Float64}:\n",
       "  2.0   0.0   4.0    3.0\n",
       " -2.0   0.0   2.0  -13.0\n",
       "  1.0  15.0   2.0   -4.5\n",
       " -4.0   5.0  -7.0  -10.0"
      ]
     },
     "execution_count": 10,
     "metadata": {},
     "output_type": "execute_result"
    }
   ],
   "source": [
    "A = [2 0 4 3; -2 0 2 -13; 1 15 2 -4.5;-4 5 -7 -10];\n",
    "b = [4,40.0,29,9];\n",
    "A"
   ]
  },
  {
   "cell_type": "code",
   "execution_count": 11,
   "metadata": {
    "slideshow": {
     "slide_type": "slide"
    }
   },
   "outputs": [],
   "source": [
    "L,U = MATH361Lectures.lufact(A);"
   ]
  },
  {
   "cell_type": "code",
   "execution_count": 12,
   "metadata": {
    "slideshow": {
     "slide_type": "slide"
    }
   },
   "outputs": [
    {
     "data": {
      "text/plain": [
       "4×4 Matrix{Float64}:\n",
       "  1.0   0.0    0.0  0.0\n",
       " -1.0   1.0    0.0  0.0\n",
       "  0.5  Inf     1.0  0.0\n",
       " -2.0  Inf   NaN    1.0"
      ]
     },
     "execution_count": 12,
     "metadata": {},
     "output_type": "execute_result"
    }
   ],
   "source": [
    "L"
   ]
  },
  {
   "cell_type": "code",
   "execution_count": 13,
   "metadata": {
    "slideshow": {
     "slide_type": "slide"
    }
   },
   "outputs": [
    {
     "data": {
      "text/plain": [
       "4×4 Matrix{Float64}:\n",
       " 2.0  0.0    4.0    3.0\n",
       " 0.0  0.0    6.0  -10.0\n",
       " 0.0  0.0  -Inf    Inf\n",
       " 0.0  0.0    0.0  NaN"
      ]
     },
     "execution_count": 13,
     "metadata": {},
     "output_type": "execute_result"
    }
   ],
   "source": [
    "U"
   ]
  },
  {
   "cell_type": "code",
   "execution_count": 14,
   "metadata": {
    "slideshow": {
     "slide_type": "slide"
    }
   },
   "outputs": [
    {
     "data": {
      "text/plain": [
       "4×4 Matrix{Float64}:\n",
       "   0.0    0.0  NaN  NaN\n",
       "   0.0    0.0  NaN  NaN\n",
       " NaN    NaN    NaN  NaN\n",
       " NaN    NaN    NaN  NaN"
      ]
     },
     "execution_count": 14,
     "metadata": {},
     "output_type": "execute_result"
    }
   ],
   "source": [
    "L*U - A"
   ]
  },
  {
   "cell_type": "code",
   "execution_count": 15,
   "metadata": {},
   "outputs": [
    {
     "data": {
      "text/plain": [
       "59.99999999999994"
      ]
     },
     "execution_count": 15,
     "metadata": {},
     "output_type": "execute_result"
    }
   ],
   "source": [
    "det(A)"
   ]
  },
  {
   "cell_type": "markdown",
   "metadata": {
    "slideshow": {
     "slide_type": "slide"
    }
   },
   "source": [
    "**Question:** What has happened here? \n",
    "\n",
    "Notice what happens if we use the Julia backslash operator to try to solve the system $Ax=b$."
   ]
  },
  {
   "cell_type": "code",
   "execution_count": 16,
   "metadata": {
    "slideshow": {
     "slide_type": "slide"
    }
   },
   "outputs": [
    {
     "data": {
      "text/plain": [
       "4-element Vector{Float64}:\n",
       " -3.0000000000000235\n",
       "  1.0000000000000018\n",
       "  4.000000000000008\n",
       " -1.9999999999999953"
      ]
     },
     "execution_count": 16,
     "metadata": {},
     "output_type": "execute_result"
    }
   ],
   "source": [
    "x = A\\b"
   ]
  },
  {
   "cell_type": "code",
   "execution_count": 17,
   "metadata": {
    "slideshow": {
     "slide_type": "slide"
    }
   },
   "outputs": [
    {
     "data": {
      "text/plain": [
       "4-element Vector{Float64}:\n",
       " 0.0\n",
       " 0.0\n",
       " 0.0\n",
       " 0.0"
      ]
     },
     "execution_count": 17,
     "metadata": {},
     "output_type": "execute_result"
    }
   ],
   "source": [
    "b - A*x"
   ]
  },
  {
   "cell_type": "markdown",
   "metadata": {
    "slideshow": {
     "slide_type": "slide"
    }
   },
   "source": [
    "The backslash operator solve the system with no problems even though LU facorization fails. Furthermore, look at what happens when we use the `lu` function in the `LinearAlgebra.jl` package: "
   ]
  },
  {
   "cell_type": "code",
   "execution_count": 18,
   "metadata": {
    "slideshow": {
     "slide_type": "slide"
    }
   },
   "outputs": [],
   "source": [
    "L,U = lu(A);"
   ]
  },
  {
   "cell_type": "code",
   "execution_count": 19,
   "metadata": {
    "slideshow": {
     "slide_type": "slide"
    }
   },
   "outputs": [
    {
     "data": {
      "text/plain": [
       "4×4 Matrix{Float64}:\n",
       "  1.0    0.0       0.0        0.0\n",
       " -0.25   1.0       0.0        0.0\n",
       "  0.5   -0.153846  1.0        0.0\n",
       " -0.5    0.153846  0.0833333  1.0"
      ]
     },
     "execution_count": 19,
     "metadata": {},
     "output_type": "execute_result"
    }
   ],
   "source": [
    "L"
   ]
  },
  {
   "cell_type": "code",
   "execution_count": 20,
   "metadata": {
    "slideshow": {
     "slide_type": "slide"
    }
   },
   "outputs": [
    {
     "data": {
      "text/plain": [
       "4×4 Matrix{Float64}:\n",
       " -4.0   5.0   -7.0      -10.0\n",
       "  0.0  16.25   0.25      -7.0\n",
       "  0.0   0.0    5.53846   -9.07692\n",
       "  0.0   0.0    0.0       -0.166667"
      ]
     },
     "execution_count": 20,
     "metadata": {},
     "output_type": "execute_result"
    }
   ],
   "source": [
    "U"
   ]
  },
  {
   "cell_type": "markdown",
   "metadata": {
    "slideshow": {
     "slide_type": "slide"
    }
   },
   "source": [
    "This seems to work but $LU$ does not give back $A$:"
   ]
  },
  {
   "cell_type": "code",
   "execution_count": 21,
   "metadata": {
    "slideshow": {
     "slide_type": "slide"
    }
   },
   "outputs": [
    {
     "data": {
      "text/plain": [
       "4×4 Matrix{Float64}:\n",
       " -4.0   5.0          -7.0  -10.0\n",
       "  1.0  15.0           2.0   -4.5\n",
       " -2.0  -1.38778e-16   2.0  -13.0\n",
       "  2.0   1.38778e-16   4.0    3.0"
      ]
     },
     "execution_count": 21,
     "metadata": {},
     "output_type": "execute_result"
    }
   ],
   "source": [
    "L*U"
   ]
  },
  {
   "cell_type": "code",
   "execution_count": 22,
   "metadata": {
    "slideshow": {
     "slide_type": "slide"
    }
   },
   "outputs": [
    {
     "data": {
      "text/plain": [
       "4×4 Matrix{Float64}:\n",
       "  2.0   0.0   4.0    3.0\n",
       " -2.0   0.0   2.0  -13.0\n",
       "  1.0  15.0   2.0   -4.5\n",
       " -4.0   5.0  -7.0  -10.0"
      ]
     },
     "execution_count": 22,
     "metadata": {},
     "output_type": "execute_result"
    }
   ],
   "source": [
    "A"
   ]
  },
  {
   "cell_type": "markdown",
   "metadata": {
    "slideshow": {
     "slide_type": "slide"
    }
   },
   "source": [
    "$LU$ returns a permuted version of $A$. This is because the `lu` function implements pivoting in order to stabilize the LU factorization. We can see this further as follows:"
   ]
  },
  {
   "cell_type": "code",
   "execution_count": 23,
   "metadata": {
    "slideshow": {
     "slide_type": "slide"
    }
   },
   "outputs": [],
   "source": [
    "L,U,P = lu(A);"
   ]
  },
  {
   "cell_type": "code",
   "execution_count": 23,
   "metadata": {
    "slideshow": {
     "slide_type": "slide"
    }
   },
   "outputs": [
    {
     "data": {
      "text/plain": [
       "4×4 Matrix{Float64}:\n",
       "  1.0    0.0       0.0        0.0\n",
       " -0.25   1.0       0.0        0.0\n",
       "  0.5   -0.153846  1.0        0.0\n",
       " -0.5    0.153846  0.0833333  1.0"
      ]
     },
     "execution_count": 23,
     "metadata": {},
     "output_type": "execute_result"
    }
   ],
   "source": [
    "L"
   ]
  },
  {
   "cell_type": "code",
   "execution_count": 24,
   "metadata": {
    "slideshow": {
     "slide_type": "slide"
    }
   },
   "outputs": [
    {
     "data": {
      "text/plain": [
       "4×4 Matrix{Float64}:\n",
       " -4.0   5.0   -7.0      -10.0\n",
       "  0.0  16.25   0.25      -7.0\n",
       "  0.0   0.0    5.53846   -9.07692\n",
       "  0.0   0.0    0.0       -0.166667"
      ]
     },
     "execution_count": 24,
     "metadata": {},
     "output_type": "execute_result"
    }
   ],
   "source": [
    "U"
   ]
  },
  {
   "cell_type": "code",
   "execution_count": 25,
   "metadata": {
    "slideshow": {
     "slide_type": "slide"
    }
   },
   "outputs": [
    {
     "data": {
      "text/plain": [
       "4-element Vector{Int64}:\n",
       " 4\n",
       " 3\n",
       " 2\n",
       " 1"
      ]
     },
     "execution_count": 25,
     "metadata": {},
     "output_type": "execute_result"
    }
   ],
   "source": [
    "P"
   ]
  },
  {
   "cell_type": "markdown",
   "metadata": {
    "slideshow": {
     "slide_type": "slide"
    }
   },
   "source": [
    "Now observe:"
   ]
  },
  {
   "cell_type": "code",
   "execution_count": 26,
   "metadata": {
    "slideshow": {
     "slide_type": "slide"
    }
   },
   "outputs": [
    {
     "data": {
      "text/plain": [
       "4×4 Matrix{Float64}:\n",
       " -4.0   5.0  -7.0  -10.0\n",
       "  1.0  15.0   2.0   -4.5\n",
       " -2.0   0.0   2.0  -13.0\n",
       "  2.0   0.0   4.0    3.0"
      ]
     },
     "execution_count": 26,
     "metadata": {},
     "output_type": "execute_result"
    }
   ],
   "source": [
    "A[P,:]"
   ]
  },
  {
   "cell_type": "code",
   "execution_count": 27,
   "metadata": {
    "slideshow": {
     "slide_type": "slide"
    }
   },
   "outputs": [
    {
     "data": {
      "text/plain": [
       "4×4 Matrix{Float64}:\n",
       " -4.0   5.0          -7.0  -10.0\n",
       "  1.0  15.0           2.0   -4.5\n",
       " -2.0  -1.38778e-16   2.0  -13.0\n",
       "  2.0   1.38778e-16   4.0    3.0"
      ]
     },
     "execution_count": 27,
     "metadata": {},
     "output_type": "execute_result"
    }
   ],
   "source": [
    "L*U"
   ]
  },
  {
   "cell_type": "markdown",
   "metadata": {
    "slideshow": {
     "slide_type": "slide"
    }
   },
   "source": [
    "In the next lecture we will explain pivoting in more detail. You might want to watch the video lecture on [pivoting](https://www.youtube.com/watch?v=mmoliBMaaQs&list=PLvUvOH0OYx3BcZivtXMIwP6hKoYv0YvGn&index=10&t=3s) before the next lecture. Let's end by seeing how we can use the permuted version of LU factorization to solve a linear system. "
   ]
  },
  {
   "cell_type": "markdown",
   "metadata": {
    "slideshow": {
     "slide_type": "slide"
    }
   },
   "source": [
    "Suppose we want to solve $Ax=b$. LU with pivoting returns a factorization such that $LU=PA$, where $P$ is the appropriate permutation matrix. From this, we can see that $Ax=b \\Rightarrow LU=PAx=Pb$, so we can still apply our forward and back substitution algorithms to permutated LU, we just need to also permute the right hand side vector $b$. Let's see an example. "
   ]
  },
  {
   "cell_type": "code",
   "execution_count": 24,
   "metadata": {
    "slideshow": {
     "slide_type": "slide"
    }
   },
   "outputs": [],
   "source": [
    "A = [2 0 4 3; -2 0 2 -13; 1 15 2 -4.5;-4 5 -7 -10];\n",
    "b = [4,40.0,29,9];"
   ]
  },
  {
   "cell_type": "code",
   "execution_count": 25,
   "metadata": {
    "slideshow": {
     "slide_type": "slide"
    }
   },
   "outputs": [
    {
     "data": {
      "text/plain": [
       "4-element Vector{Float64}:\n",
       " -3.0000000000000258\n",
       "  1.0000000000000022\n",
       "  4.000000000000009\n",
       " -1.9999999999999947"
      ]
     },
     "execution_count": 25,
     "metadata": {},
     "output_type": "execute_result"
    }
   ],
   "source": [
    "L,U,P = lu(A);\n",
    "Pb = b[P];\n",
    "y = MATH361Lectures.forwardsub(L,Pb);\n",
    "x = MATH361Lectures.backsub(U,y)"
   ]
  },
  {
   "cell_type": "markdown",
   "metadata": {
    "slideshow": {
     "slide_type": "slide"
    }
   },
   "source": [
    "This should give (approximately) the same result as the backslash operator:"
   ]
  },
  {
   "cell_type": "code",
   "execution_count": 30,
   "metadata": {
    "slideshow": {
     "slide_type": "slide"
    }
   },
   "outputs": [
    {
     "data": {
      "text/plain": [
       "4-element Vector{Float64}:\n",
       " -3.0000000000000138\n",
       "  1.000000000000001\n",
       "  4.000000000000004\n",
       " -1.9999999999999973"
      ]
     },
     "execution_count": 30,
     "metadata": {},
     "output_type": "execute_result"
    }
   ],
   "source": [
    "A\\b"
   ]
  }
 ],
 "metadata": {
  "celltoolbar": "Slideshow",
  "kernelspec": {
   "display_name": "Julia 1.6.2",
   "language": "julia",
   "name": "julia-1.6"
  },
  "language_info": {
   "file_extension": ".jl",
   "mimetype": "application/julia",
   "name": "julia",
   "version": "1.6.2"
  }
 },
 "nbformat": 4,
 "nbformat_minor": 4
}
