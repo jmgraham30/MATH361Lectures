{
 "cells": [
  {
   "cell_type": "code",
   "execution_count": 1,
   "metadata": {
    "slideshow": {
     "slide_type": "slide"
    }
   },
   "outputs": [],
   "source": [
    "using DrWatson;\n",
    "@quickactivate \"MATH361Lectures\"\n",
    "using LinearAlgebra, DataFrames, Plots;\n",
    "import MATH361Lectures;"
   ]
  },
  {
   "cell_type": "markdown",
   "metadata": {
    "slideshow": {
     "slide_type": "slide"
    }
   },
   "source": [
    "# Efficieny of Matrix Computations"
   ]
  },
  {
   "cell_type": "markdown",
   "metadata": {
    "slideshow": {
     "slide_type": "slide"
    }
   },
   "source": [
    "In this lecture, we will consider the efficiency of matrix computations such as forward and back substitution, and LU factorization. The lecture video on [operation counts](https://www.youtube.com/watch?v=FGfDHLpfkZo&list=PLvUvOH0OYx3BcZivtXMIwP6hKoYv0YvGn&index=9) compliments these notes. "
   ]
  },
  {
   "cell_type": "markdown",
   "metadata": {
    "slideshow": {
     "slide_type": "slide"
    }
   },
   "source": [
    "It is not really practical to try to predict exactly how long it will take a particular algorithm to solve a given problem even though this would be nice to know. On the other hand, it is fairly straightforward to obtain a good estimate of how the work required by an algorithm scales with the size of the problem. It should seem intuitively obvious that a larger linear system will require more work to solve than a smaller one will. Furthermore, you would probably guess that the amount of work will increase in a systematic way as the size of the problem increases.  "
   ]
  },
  {
   "cell_type": "markdown",
   "metadata": {
    "slideshow": {
     "slide_type": "slide"
    }
   },
   "source": [
    "The way that numerical analysts and computer scientists typically measure the work required to run a numerical algorithm is by counting the number of floating point operations ([FLOP](https://en.wikipedia.org/wiki/FLOPS)) required to compute with the algorithm. If you know about how long it takes to perform a floating point operation, then you can also compute the number of floating point operations per second (FLOPS).   "
   ]
  },
  {
   "cell_type": "markdown",
   "metadata": {
    "slideshow": {
     "slide_type": "slide"
    }
   },
   "source": [
    "## Asymptotic Estimation"
   ]
  },
  {
   "cell_type": "markdown",
   "metadata": {
    "slideshow": {
     "slide_type": "slide"
    }
   },
   "source": [
    "For two functions $f$ and $g$, we say that $f$ is \"[big-O](https://en.wikipedia.org/wiki/Big_O_notation)\" of $g$, and write $f = \\mathcal{O}(g)$,  if there exists a constant $C$ and an input value $x_{0}$ such $|f(x)| \\leq C|g(x)|$ for all $x\\geq x_{0}$. Notice that if $f = \\mathcal{O}(g)$, then \n",
    "\n",
    "$\\lim_{x\\rightarrow \\infty}\\frac{|f(x)|}{|g(x)|} \\leq C$. \n",
    "\n",
    "Likewise, if there is a positive constant $C$ such that \n",
    "\n",
    "$\\lim_{x\\rightarrow \\infty}\\frac{|f(x)|}{|g(x)|} = C$,\n",
    "\n",
    "then we must have that $f = \\mathcal{O}(g)$."
   ]
  },
  {
   "cell_type": "markdown",
   "metadata": {
    "slideshow": {
     "slide_type": "slide"
    }
   },
   "source": [
    "Furthermore, we say that a function $f$ is **asymptotic** to a function $g$, and write $f \\sim g$, if \n",
    "\n",
    "$\\lim_{x\\rightarrow \\infty}\\frac{|f(x)|}{|g(x)|} = 1$.\n",
    "\n",
    "Obviously $f \\sim g$ imples $f = \\mathcal{O}(g)$ but not necessarily the other way around.  "
   ]
  },
  {
   "cell_type": "markdown",
   "metadata": {
    "slideshow": {
     "slide_type": "slide"
    }
   },
   "source": [
    "**Example:**\n",
    "\n",
    "Let $f(x) = 3x^2 + 2x + 8$, and let $g(x) = 6x^2$. We have that \n",
    "\n",
    "$\\lim_{x \\rightarrow \\infty}\\frac{f(x)}{g(x)} = \\lim_{x \\rightarrow \\infty}\\frac{3x^2 + 2x + 8}{6x^2} = \\lim_{x \\rightarrow \\infty}\\frac{1 + \\frac{2}{3x} + \\frac{8}{3x^2}}{2} = \\frac{1}{2}$,\n",
    "\n",
    "so $f=\\mathcal{O}(g)$. "
   ]
  },
  {
   "cell_type": "markdown",
   "metadata": {
    "slideshow": {
     "slide_type": "slide"
    }
   },
   "source": [
    "More generally, if $f(x) = a_{n}x^{n}+a_{n-1}x^{n-1}+\\cdots +a_{1}x+a_{0}$ and $g=b_{n}x^{n}$ where both $a_{n}$ and $b_{n}$ are positive then $f=\\mathcal{O}(g)$ and $f\\sim g$ if and only if $\\frac{a_{n}}{b_{n}}=1$. "
   ]
  },
  {
   "cell_type": "markdown",
   "metadata": {
    "slideshow": {
     "slide_type": "slide"
    }
   },
   "source": [
    "One can also derive that if $f(x) = \\sin\\left(\\frac{1}{x}\\right)$, $g(x) = \\frac{1}{x}$, and $h(x) = \\frac{1}{x^2}$, then $f\\sim g$ but $f \\neq \\mathcal{O}(h)$."
   ]
  },
  {
   "cell_type": "markdown",
   "metadata": {
    "slideshow": {
     "slide_type": "slide"
    }
   },
   "source": [
    "## FLOP Counts"
   ]
  },
  {
   "cell_type": "markdown",
   "metadata": {
    "slideshow": {
     "slide_type": "slide"
    }
   },
   "source": [
    "When we compute, a single instance of any of the addition, subtraction, multiplication, or division of two numbers is considered one floating point operation (FLOP). In numerical linear algebra, one uses FLOP counts to assess the \"cost\" of the algorithm. Let's look at a very simple example.  "
   ]
  },
  {
   "cell_type": "markdown",
   "metadata": {
    "slideshow": {
     "slide_type": "slide"
    }
   },
   "source": [
    "Suppose that we want to compute the dot product of two vectors $x = \\left[\\begin{array}{cccc} x_{1} & x_{2} & \\cdots & x_{n}  \\end{array}\\right]^T$ and $y = \\left[\\begin{array}{cccc} y_{1} & y_{2} & \\cdots & y_{n}  \\end{array}\\right]^T$, recall this is defined to be\n",
    "\n",
    "$x\\cdot y = x_{1}y_{1} + x_{2}y_{2} + \\cdots + x_{n}y_{n} = \\sum_{i=1}^{n}x_{i}y_{i}$."
   ]
  },
  {
   "cell_type": "markdown",
   "metadata": {
    "slideshow": {
     "slide_type": "slide"
    }
   },
   "source": [
    "In terms of the  of **mathematical** operations in the definition of the dot product, there are $n$ multiplications and $n-1$ additions for a total of $n + (n-1) = 2n-1$ operations. It is important to realize however that a numerical algorithm might perform a different number of floating point operations than appear in an abstract mathematical definition. For example, the next function named `mydotproduct` implements a computer algorithm for computing the dot product. "
   ]
  },
  {
   "cell_type": "code",
   "execution_count": 2,
   "metadata": {
    "slideshow": {
     "slide_type": "slide"
    }
   },
   "outputs": [
    {
     "data": {
      "text/plain": [
       "mydotproduct (generic function with 1 method)"
      ]
     },
     "execution_count": 2,
     "metadata": {},
     "output_type": "execute_result"
    }
   ],
   "source": [
    "function mydotproduct(x,y)\n",
    "    n = length(x);\n",
    "    z = 0.0;\n",
    "    for i=1:n # loop n times\n",
    "        z = z + x[i]*y[i]; # 1 addition + 1 multiplication = 2 operations\n",
    "    end \n",
    "    return z\n",
    "end"
   ]
  },
  {
   "cell_type": "code",
   "execution_count": 3,
   "metadata": {
    "slideshow": {
     "slide_type": "slide"
    }
   },
   "outputs": [
    {
     "data": {
      "text/plain": [
       "7.0"
      ]
     },
     "execution_count": 3,
     "metadata": {},
     "output_type": "execute_result"
    }
   ],
   "source": [
    "# An example use of mydotproduct\n",
    "x = [1.0,1.0,2.0];\n",
    "y = [-1.0,2.0,3.0];\n",
    "z = mydotproduct(x,y)"
   ]
  },
  {
   "cell_type": "markdown",
   "metadata": {
    "slideshow": {
     "slide_type": "slide"
    }
   },
   "source": [
    "Compare this last result with what we get when we use the `dot` function in Julia."
   ]
  },
  {
   "cell_type": "code",
   "execution_count": 4,
   "metadata": {
    "slideshow": {
     "slide_type": "slide"
    }
   },
   "outputs": [
    {
     "data": {
      "text/plain": [
       "7.0"
      ]
     },
     "execution_count": 4,
     "metadata": {},
     "output_type": "execute_result"
    }
   ],
   "source": [
    "dot(x,y)"
   ]
  },
  {
   "cell_type": "markdown",
   "metadata": {
    "slideshow": {
     "slide_type": "slide"
    }
   },
   "source": [
    "Each time through the loop we carry out two floating point operations and we go through the loop $n$ times for a total of $2n$ FLOPs. **Note:** the extra operation really comes from the need to store the result. Furthermore, since the first time through the loop we are really adding zero we could ignore the initial addition. However, the result produces the same asymptotic estimate since both $2n$ and $2n-1$ are $\\mathcal{O}(n)$.  "
   ]
  },
  {
   "cell_type": "markdown",
   "metadata": {
    "slideshow": {
     "slide_type": "slide"
    }
   },
   "source": [
    "In Julia, we can use the `@elapsed` macro to see how long it takes for a program to run. Let's compute this time for the dot product algorithm for several different sizes of vectors. "
   ]
  },
  {
   "cell_type": "code",
   "execution_count": 5,
   "metadata": {
    "slideshow": {
     "slide_type": "slide"
    }
   },
   "outputs": [
    {
     "data": {
      "text/html": [
       "<div class=\"data-frame\"><p>10 rows × 2 columns</p><table class=\"data-frame\"><thead><tr><th></th><th>size</th><th>time</th></tr><tr><th></th><th title=\"Int64\">Int64</th><th title=\"Float64\">Float64</th></tr></thead><tbody><tr><th>1</th><td>400</td><td>2.11e-5</td></tr><tr><th>2</th><td>800</td><td>5.9e-6</td></tr><tr><th>3</th><td>1200</td><td>4.37e-5</td></tr><tr><th>4</th><td>1600</td><td>9.5e-6</td></tr><tr><th>5</th><td>2000</td><td>1.07e-5</td></tr><tr><th>6</th><td>2400</td><td>1.46e-5</td></tr><tr><th>7</th><td>2800</td><td>1.61e-5</td></tr><tr><th>8</th><td>3200</td><td>1.74e-5</td></tr><tr><th>9</th><td>3600</td><td>2.21e-5</td></tr><tr><th>10</th><td>4000</td><td>2.11e-5</td></tr></tbody></table></div>"
      ],
      "text/latex": [
       "\\begin{tabular}{r|cc}\n",
       "\t& size & time\\\\\n",
       "\t\\hline\n",
       "\t& Int64 & Float64\\\\\n",
       "\t\\hline\n",
       "\t1 & 400 & 2.11e-5 \\\\\n",
       "\t2 & 800 & 5.9e-6 \\\\\n",
       "\t3 & 1200 & 4.37e-5 \\\\\n",
       "\t4 & 1600 & 9.5e-6 \\\\\n",
       "\t5 & 2000 & 1.07e-5 \\\\\n",
       "\t6 & 2400 & 1.46e-5 \\\\\n",
       "\t7 & 2800 & 1.61e-5 \\\\\n",
       "\t8 & 3200 & 1.74e-5 \\\\\n",
       "\t9 & 3600 & 2.21e-5 \\\\\n",
       "\t10 & 4000 & 2.11e-5 \\\\\n",
       "\\end{tabular}\n"
      ],
      "text/plain": [
       "\u001b[1m10×2 DataFrame\u001b[0m\n",
       "\u001b[1m Row \u001b[0m│\u001b[1m size  \u001b[0m\u001b[1m time    \u001b[0m\n",
       "\u001b[1m     \u001b[0m│\u001b[90m Int64 \u001b[0m\u001b[90m Float64 \u001b[0m\n",
       "─────┼────────────────\n",
       "   1 │   400  2.11e-5\n",
       "   2 │   800  5.9e-6\n",
       "   3 │  1200  4.37e-5\n",
       "   4 │  1600  9.5e-6\n",
       "   5 │  2000  1.07e-5\n",
       "   6 │  2400  1.46e-5\n",
       "   7 │  2800  1.61e-5\n",
       "   8 │  3200  1.74e-5\n",
       "   9 │  3600  2.21e-5\n",
       "  10 │  4000  2.11e-5"
      ]
     },
     "execution_count": 5,
     "metadata": {},
     "output_type": "execute_result"
    }
   ],
   "source": [
    "vect_sizes = 400:400:16000;\n",
    "dps = [@elapsed mydotproduct(randn(n),randn(n)) for n in vect_sizes];\n",
    "results = DataFrame(size=vect_sizes,time=dps);\n",
    "first(results,10)"
   ]
  },
  {
   "cell_type": "code",
   "execution_count": 6,
   "metadata": {
    "slideshow": {
     "slide_type": "slide"
    }
   },
   "outputs": [
    {
     "data": {
      "text/html": [
       "<div class=\"data-frame\"><p>10 rows × 2 columns</p><table class=\"data-frame\"><thead><tr><th></th><th>size</th><th>time</th></tr><tr><th></th><th title=\"Int64\">Int64</th><th title=\"Float64\">Float64</th></tr></thead><tbody><tr><th>1</th><td>12400</td><td>0.0002349</td></tr><tr><th>2</th><td>12800</td><td>0.0001669</td></tr><tr><th>3</th><td>13200</td><td>0.0001424</td></tr><tr><th>4</th><td>13600</td><td>0.0001634</td></tr><tr><th>5</th><td>14000</td><td>0.000105</td></tr><tr><th>6</th><td>14400</td><td>0.0002267</td></tr><tr><th>7</th><td>14800</td><td>0.0001123</td></tr><tr><th>8</th><td>15200</td><td>8.27e-5</td></tr><tr><th>9</th><td>15600</td><td>9.65e-5</td></tr><tr><th>10</th><td>16000</td><td>0.000118</td></tr></tbody></table></div>"
      ],
      "text/latex": [
       "\\begin{tabular}{r|cc}\n",
       "\t& size & time\\\\\n",
       "\t\\hline\n",
       "\t& Int64 & Float64\\\\\n",
       "\t\\hline\n",
       "\t1 & 12400 & 0.0002349 \\\\\n",
       "\t2 & 12800 & 0.0001669 \\\\\n",
       "\t3 & 13200 & 0.0001424 \\\\\n",
       "\t4 & 13600 & 0.0001634 \\\\\n",
       "\t5 & 14000 & 0.000105 \\\\\n",
       "\t6 & 14400 & 0.0002267 \\\\\n",
       "\t7 & 14800 & 0.0001123 \\\\\n",
       "\t8 & 15200 & 8.27e-5 \\\\\n",
       "\t9 & 15600 & 9.65e-5 \\\\\n",
       "\t10 & 16000 & 0.000118 \\\\\n",
       "\\end{tabular}\n"
      ],
      "text/plain": [
       "\u001b[1m10×2 DataFrame\u001b[0m\n",
       "\u001b[1m Row \u001b[0m│\u001b[1m size  \u001b[0m\u001b[1m time      \u001b[0m\n",
       "\u001b[1m     \u001b[0m│\u001b[90m Int64 \u001b[0m\u001b[90m Float64   \u001b[0m\n",
       "─────┼──────────────────\n",
       "   1 │ 12400  0.0002349\n",
       "   2 │ 12800  0.0001669\n",
       "   3 │ 13200  0.0001424\n",
       "   4 │ 13600  0.0001634\n",
       "   5 │ 14000  0.000105\n",
       "   6 │ 14400  0.0002267\n",
       "   7 │ 14800  0.0001123\n",
       "   8 │ 15200  8.27e-5\n",
       "   9 │ 15600  9.65e-5\n",
       "  10 │ 16000  0.000118"
      ]
     },
     "execution_count": 6,
     "metadata": {},
     "output_type": "execute_result"
    }
   ],
   "source": [
    "last(results,10)"
   ]
  },
  {
   "cell_type": "code",
   "execution_count": 7,
   "metadata": {
    "slideshow": {
     "slide_type": "slide"
    }
   },
   "outputs": [
    {
     "data": {
      "image/svg+xml": [
       "<?xml version=\"1.0\" encoding=\"utf-8\"?>\n",
       "<svg xmlns=\"http://www.w3.org/2000/svg\" xmlns:xlink=\"http://www.w3.org/1999/xlink\" width=\"600\" height=\"400\" viewBox=\"0 0 2400 1600\">\n",
       "<defs>\n",
       "  <clipPath id=\"clip120\">\n",
       "    <rect x=\"0\" y=\"0\" width=\"2400\" height=\"1600\"/>\n",
       "  </clipPath>\n",
       "</defs>\n",
       "<path clip-path=\"url(#clip120)\" d=\"\n",
       "M0 1600 L2400 1600 L2400 0 L0 0  Z\n",
       "  \" fill=\"#ffffff\" fill-rule=\"evenodd\" fill-opacity=\"1\"/>\n",
       "<defs>\n",
       "  <clipPath id=\"clip121\">\n",
       "    <rect x=\"480\" y=\"0\" width=\"1681\" height=\"1600\"/>\n",
       "  </clipPath>\n",
       "</defs>\n",
       "<path clip-path=\"url(#clip120)\" d=\"\n",
       "M252.764 1438.68 L2352.76 1438.68 L2352.76 123.472 L252.764 123.472  Z\n",
       "  \" fill=\"#ffffff\" fill-rule=\"evenodd\" fill-opacity=\"1\"/>\n",
       "<defs>\n",
       "  <clipPath id=\"clip122\">\n",
       "    <rect x=\"252\" y=\"123\" width=\"2101\" height=\"1316\"/>\n",
       "  </clipPath>\n",
       "</defs>\n",
       "<polyline clip-path=\"url(#clip122)\" style=\"stroke:#000000; stroke-linecap:butt; stroke-linejoin:round; stroke-width:2; stroke-opacity:0.1; fill:none\" points=\"\n",
       "  804.295,1438.68 804.295,123.472 \n",
       "  \"/>\n",
       "<polyline clip-path=\"url(#clip122)\" style=\"stroke:#000000; stroke-linecap:butt; stroke-linejoin:round; stroke-width:2; stroke-opacity:0.1; fill:none\" points=\"\n",
       "  2040.91,1438.68 2040.91,123.472 \n",
       "  \"/>\n",
       "<polyline clip-path=\"url(#clip120)\" style=\"stroke:#000000; stroke-linecap:butt; stroke-linejoin:round; stroke-width:4; stroke-opacity:1; fill:none\" points=\"\n",
       "  252.764,1438.68 2352.76,1438.68 \n",
       "  \"/>\n",
       "<polyline clip-path=\"url(#clip120)\" style=\"stroke:#000000; stroke-linecap:butt; stroke-linejoin:round; stroke-width:4; stroke-opacity:1; fill:none\" points=\"\n",
       "  804.295,1438.68 804.295,1422.89 \n",
       "  \"/>\n",
       "<polyline clip-path=\"url(#clip120)\" style=\"stroke:#000000; stroke-linecap:butt; stroke-linejoin:round; stroke-width:4; stroke-opacity:1; fill:none\" points=\"\n",
       "  2040.91,1438.68 2040.91,1422.89 \n",
       "  \"/>\n",
       "<path clip-path=\"url(#clip120)\" d=\"M769.738 1516.95 L777.377 1516.95 L777.377 1490.58 L769.067 1492.25 L769.067 1487.99 L777.331 1486.32 L782.007 1486.32 L782.007 1516.95 L789.645 1516.95 L789.645 1520.88 L769.738 1520.88 L769.738 1516.95 Z\" fill=\"#000000\" fill-rule=\"evenodd\" fill-opacity=\"1\" /><path clip-path=\"url(#clip120)\" d=\"M809.09 1489.4 Q805.479 1489.4 803.65 1492.97 Q801.844 1496.51 801.844 1503.64 Q801.844 1510.75 803.65 1514.31 Q805.479 1517.85 809.09 1517.85 Q812.724 1517.85 814.53 1514.31 Q816.358 1510.75 816.358 1503.64 Q816.358 1496.51 814.53 1492.97 Q812.724 1489.4 809.09 1489.4 M809.09 1485.7 Q814.9 1485.7 817.955 1490.31 Q821.034 1494.89 821.034 1503.64 Q821.034 1512.37 817.955 1516.97 Q814.9 1521.56 809.09 1521.56 Q803.28 1521.56 800.201 1516.97 Q797.145 1512.37 797.145 1503.64 Q797.145 1494.89 800.201 1490.31 Q803.28 1485.7 809.09 1485.7 Z\" fill=\"#000000\" fill-rule=\"evenodd\" fill-opacity=\"1\" /><path clip-path=\"url(#clip120)\" d=\"M833.729 1478.33 Q836.457 1478.92 837.98 1480.76 Q839.522 1482.6 839.522 1485.31 Q839.522 1489.47 836.663 1491.74 Q833.805 1494.02 828.538 1494.02 Q826.771 1494.02 824.89 1493.66 Q823.028 1493.32 821.034 1492.63 L821.034 1488.96 Q822.614 1489.88 824.495 1490.35 Q826.376 1490.82 828.426 1490.82 Q831.999 1490.82 833.861 1489.41 Q835.742 1488 835.742 1485.31 Q835.742 1482.83 833.993 1481.44 Q832.262 1480.03 829.159 1480.03 L825.887 1480.03 L825.887 1476.9 L829.31 1476.9 Q832.112 1476.9 833.598 1475.79 Q835.084 1474.67 835.084 1472.56 Q835.084 1470.4 833.541 1469.25 Q832.018 1468.08 829.159 1468.08 Q827.598 1468.08 825.811 1468.42 Q824.025 1468.76 821.881 1469.48 L821.881 1466.09 Q824.043 1465.49 825.924 1465.19 Q827.824 1464.89 829.498 1464.89 Q833.823 1464.89 836.344 1466.86 Q838.864 1468.82 838.864 1472.16 Q838.864 1474.5 837.529 1476.11 Q836.193 1477.71 833.729 1478.33 Z\" fill=\"#000000\" fill-rule=\"evenodd\" fill-opacity=\"1\" /><path clip-path=\"url(#clip120)\" d=\"M2005.36 1516.95 L2013 1516.95 L2013 1490.58 L2004.69 1492.25 L2004.69 1487.99 L2012.95 1486.32 L2017.63 1486.32 L2017.63 1516.95 L2025.27 1516.95 L2025.27 1520.88 L2005.36 1520.88 L2005.36 1516.95 Z\" fill=\"#000000\" fill-rule=\"evenodd\" fill-opacity=\"1\" /><path clip-path=\"url(#clip120)\" d=\"M2044.71 1489.4 Q2041.1 1489.4 2039.27 1492.97 Q2037.47 1496.51 2037.47 1503.64 Q2037.47 1510.75 2039.27 1514.31 Q2041.1 1517.85 2044.71 1517.85 Q2048.35 1517.85 2050.15 1514.31 Q2051.98 1510.75 2051.98 1503.64 Q2051.98 1496.51 2050.15 1492.97 Q2048.35 1489.4 2044.71 1489.4 M2044.71 1485.7 Q2050.52 1485.7 2053.58 1490.31 Q2056.66 1494.89 2056.66 1503.64 Q2056.66 1512.37 2053.58 1516.97 Q2050.52 1521.56 2044.71 1521.56 Q2038.9 1521.56 2035.82 1516.97 Q2032.77 1512.37 2032.77 1503.64 Q2032.77 1494.89 2035.82 1490.31 Q2038.9 1485.7 2044.71 1485.7 Z\" fill=\"#000000\" fill-rule=\"evenodd\" fill-opacity=\"1\" /><path clip-path=\"url(#clip120)\" d=\"M2069.33 1468.7 L2059.74 1483.69 L2069.33 1483.69 L2069.33 1468.7 M2068.34 1465.39 L2073.11 1465.39 L2073.11 1483.69 L2077.12 1483.69 L2077.12 1486.85 L2073.11 1486.85 L2073.11 1493.47 L2069.33 1493.47 L2069.33 1486.85 L2056.66 1486.85 L2056.66 1483.19 L2068.34 1465.39 Z\" fill=\"#000000\" fill-rule=\"evenodd\" fill-opacity=\"1\" /><path clip-path=\"url(#clip120)\" d=\"M1318.92 1561.42 Q1318.92 1561.68 1318.63 1562.68 Q1318.34 1563.67 1317.63 1565.22 Q1316.96 1566.77 1316.02 1568.18 Q1315.09 1569.57 1313.54 1570.6 Q1312.03 1571.6 1310.29 1571.6 Q1307.97 1571.6 1306.43 1570.05 Q1304.88 1568.5 1304.88 1566.19 Q1304.88 1564.9 1305.56 1563.13 Q1309.84 1551.69 1309.84 1547.76 Q1309.84 1543.16 1306.27 1543.16 Q1304.49 1543.16 1302.82 1543.84 Q1301.18 1544.48 1300.05 1545.38 Q1298.92 1546.28 1297.89 1547.54 Q1296.89 1548.76 1296.38 1549.6 Q1295.9 1550.41 1295.51 1551.21 L1294.67 1554.5 Q1294.48 1555.4 1293.54 1558.91 L1292.1 1564.87 Q1291.06 1569.31 1290.84 1569.73 Q1290.52 1570.63 1289.81 1571.11 Q1289.1 1571.6 1288.39 1571.6 Q1287.59 1571.6 1287.04 1571.11 Q1286.49 1570.63 1286.49 1569.79 Q1286.49 1569.66 1286.59 1569.18 Q1286.68 1568.7 1286.85 1568.02 Q1287.01 1567.35 1287.07 1566.96 L1290.9 1551.73 Q1291.61 1548.96 1291.77 1548.09 Q1291.97 1547.18 1291.97 1546.19 Q1291.97 1543.16 1289.91 1543.16 Q1288.23 1543.16 1287.14 1545.16 Q1286.04 1547.15 1285.11 1551.02 Q1284.82 1552.08 1284.62 1552.31 Q1284.46 1552.53 1283.98 1552.53 Q1283.17 1552.5 1283.17 1551.85 Q1283.17 1551.69 1283.43 1550.63 Q1283.69 1549.57 1284.17 1548.05 Q1284.69 1546.51 1285.17 1545.48 Q1285.59 1544.7 1285.82 1544.35 Q1286.07 1543.96 1286.68 1543.22 Q1287.33 1542.45 1288.17 1542.1 Q1289.04 1541.71 1290.1 1541.71 Q1292.48 1541.71 1294.22 1543.26 Q1295.96 1544.77 1296.19 1547.44 Q1300.47 1541.71 1306.46 1541.71 Q1310 1541.71 1312.03 1543.58 Q1314.06 1545.45 1314.06 1548.76 Q1314.06 1549.54 1313.9 1550.53 Q1313.77 1551.5 1313.45 1552.72 Q1313.16 1553.95 1312.9 1554.88 Q1312.64 1555.82 1312.13 1557.33 Q1311.61 1558.81 1311.39 1559.46 Q1311.16 1560.1 1310.61 1561.61 Q1310.1 1563.09 1310.03 1563.26 Q1308.84 1566.25 1308.84 1567.96 Q1308.84 1569.08 1309.2 1569.6 Q1309.58 1570.12 1310.42 1570.12 Q1312.67 1570.12 1314.35 1567.89 Q1316.06 1565.64 1317.15 1561.97 Q1317.41 1561.16 1317.54 1560.97 Q1317.7 1560.78 1318.15 1560.78 Q1318.92 1560.78 1318.92 1561.42 Z\" fill=\"#000000\" fill-rule=\"evenodd\" fill-opacity=\"1\" /><polyline clip-path=\"url(#clip122)\" style=\"stroke:#000000; stroke-linecap:butt; stroke-linejoin:round; stroke-width:2; stroke-opacity:0.1; fill:none\" points=\"\n",
       "  252.764,1223.76 2352.76,1223.76 \n",
       "  \"/>\n",
       "<polyline clip-path=\"url(#clip122)\" style=\"stroke:#000000; stroke-linecap:butt; stroke-linejoin:round; stroke-width:2; stroke-opacity:0.1; fill:none\" points=\"\n",
       "  252.764,448.3 2352.76,448.3 \n",
       "  \"/>\n",
       "<polyline clip-path=\"url(#clip120)\" style=\"stroke:#000000; stroke-linecap:butt; stroke-linejoin:round; stroke-width:4; stroke-opacity:1; fill:none\" points=\"\n",
       "  252.764,1438.68 252.764,123.472 \n",
       "  \"/>\n",
       "<polyline clip-path=\"url(#clip120)\" style=\"stroke:#000000; stroke-linecap:butt; stroke-linejoin:round; stroke-width:4; stroke-opacity:1; fill:none\" points=\"\n",
       "  252.764,1223.76 277.964,1223.76 \n",
       "  \"/>\n",
       "<polyline clip-path=\"url(#clip120)\" style=\"stroke:#000000; stroke-linecap:butt; stroke-linejoin:round; stroke-width:4; stroke-opacity:1; fill:none\" points=\"\n",
       "  252.764,448.3 277.964,448.3 \n",
       "  \"/>\n",
       "<path clip-path=\"url(#clip120)\" d=\"M116.135 1243.55 L123.774 1243.55 L123.774 1217.19 L115.464 1218.85 L115.464 1214.59 L123.728 1212.93 L128.404 1212.93 L128.404 1243.55 L136.042 1243.55 L136.042 1247.49 L116.135 1247.49 L116.135 1243.55 Z\" fill=\"#000000\" fill-rule=\"evenodd\" fill-opacity=\"1\" /><path clip-path=\"url(#clip120)\" d=\"M155.487 1216.01 Q151.876 1216.01 150.047 1219.57 Q148.241 1223.11 148.241 1230.24 Q148.241 1237.35 150.047 1240.91 Q151.876 1244.45 155.487 1244.45 Q159.121 1244.45 160.927 1240.91 Q162.755 1237.35 162.755 1230.24 Q162.755 1223.11 160.927 1219.57 Q159.121 1216.01 155.487 1216.01 M155.487 1212.3 Q161.297 1212.3 164.352 1216.91 Q167.431 1221.49 167.431 1230.24 Q167.431 1238.97 164.352 1243.57 Q161.297 1248.16 155.487 1248.16 Q149.677 1248.16 146.598 1243.57 Q143.542 1238.97 143.542 1230.24 Q143.542 1221.49 146.598 1216.91 Q149.677 1212.3 155.487 1212.3 Z\" fill=\"#000000\" fill-rule=\"evenodd\" fill-opacity=\"1\" /><path clip-path=\"url(#clip120)\" d=\"M167.431 1206.4 L191.543 1206.4 L191.543 1209.6 L167.431 1209.6 L167.431 1206.4 Z\" fill=\"#000000\" fill-rule=\"evenodd\" fill-opacity=\"1\" /><path clip-path=\"url(#clip120)\" d=\"M199.781 1192 L214.695 1192 L214.695 1195.19 L203.26 1195.19 L203.26 1202.08 Q204.088 1201.8 204.915 1201.66 Q205.743 1201.51 206.57 1201.51 Q211.272 1201.51 214.018 1204.09 Q216.764 1206.67 216.764 1211.07 Q216.764 1215.6 213.943 1218.12 Q211.122 1220.62 205.987 1220.62 Q204.219 1220.62 202.376 1220.32 Q200.552 1220.02 198.596 1219.42 L198.596 1215.6 Q200.288 1216.52 202.094 1216.97 Q203.899 1217.42 205.912 1217.42 Q209.166 1217.42 211.065 1215.71 Q212.965 1214 212.965 1211.07 Q212.965 1208.13 211.065 1206.42 Q209.166 1204.71 205.912 1204.71 Q204.388 1204.71 202.865 1205.05 Q201.36 1205.39 199.781 1206.1 L199.781 1192 Z\" fill=\"#000000\" fill-rule=\"evenodd\" fill-opacity=\"1\" /><path clip-path=\"url(#clip120)\" d=\"M114.931 468.092 L122.57 468.092 L122.57 441.727 L114.26 443.393 L114.26 439.134 L122.524 437.467 L127.2 437.467 L127.2 468.092 L134.839 468.092 L134.839 472.027 L114.931 472.027 L114.931 468.092 Z\" fill=\"#000000\" fill-rule=\"evenodd\" fill-opacity=\"1\" /><path clip-path=\"url(#clip120)\" d=\"M154.283 440.546 Q150.672 440.546 148.843 444.111 Q147.038 447.652 147.038 454.782 Q147.038 461.888 148.843 465.453 Q150.672 468.995 154.283 468.995 Q157.917 468.995 159.723 465.453 Q161.552 461.888 161.552 454.782 Q161.552 447.652 159.723 444.111 Q157.917 440.546 154.283 440.546 M154.283 436.842 Q160.093 436.842 163.149 441.449 Q166.227 446.032 166.227 454.782 Q166.227 463.509 163.149 468.115 Q160.093 472.699 154.283 472.699 Q148.473 472.699 145.394 468.115 Q142.339 463.509 142.339 454.782 Q142.339 446.032 145.394 441.449 Q148.473 436.842 154.283 436.842 Z\" fill=\"#000000\" fill-rule=\"evenodd\" fill-opacity=\"1\" /><path clip-path=\"url(#clip120)\" d=\"M166.227 430.944 L190.339 430.944 L190.339 434.141 L166.227 434.141 L166.227 430.944 Z\" fill=\"#000000\" fill-rule=\"evenodd\" fill-opacity=\"1\" /><path clip-path=\"url(#clip120)\" d=\"M208.978 419.847 L199.386 434.837 L208.978 434.837 L208.978 419.847 M207.981 416.537 L212.758 416.537 L212.758 434.837 L216.764 434.837 L216.764 437.997 L212.758 437.997 L212.758 444.617 L208.978 444.617 L208.978 437.997 L196.301 437.997 L196.301 434.329 L207.981 416.537 Z\" fill=\"#000000\" fill-rule=\"evenodd\" fill-opacity=\"1\" /><path clip-path=\"url(#clip120)\" d=\"M44.7161 1045.67 L47.5806 1045.67 L47.5806 1072.59 Q53.6281 1072.21 56.8109 1068.96 Q59.9619 1065.69 59.9619 1059.86 Q59.9619 1056.49 59.1344 1053.34 Q58.3069 1050.15 56.6518 1047.03 L62.1899 1047.03 Q63.5267 1050.18 64.227 1053.5 Q64.9272 1056.81 64.9272 1060.21 Q64.9272 1068.74 59.9619 1073.74 Q54.9967 1078.7 46.5303 1078.7 Q37.7774 1078.7 32.6531 1073.99 Q27.4968 1069.25 27.4968 1061.23 Q27.4968 1054.04 32.1438 1049.87 Q36.7589 1045.67 44.7161 1045.67 M42.9973 1051.52 Q38.1912 1051.59 35.3266 1054.23 Q32.4621 1056.84 32.4621 1061.17 Q32.4621 1066.07 35.2312 1069.03 Q38.0002 1071.96 43.0292 1072.4 L42.9973 1051.52 Z\" fill=\"#000000\" fill-rule=\"evenodd\" fill-opacity=\"1\" /><path clip-path=\"url(#clip120)\" d=\"M14.479 1036.05 L14.479 1030.2 L64.0042 1030.2 L64.0042 1036.05 L14.479 1036.05 Z\" fill=\"#000000\" fill-rule=\"evenodd\" fill-opacity=\"1\" /><path clip-path=\"url(#clip120)\" d=\"M46.0847 1001.74 Q46.0847 1008.84 47.7079 1011.58 Q49.3312 1014.31 53.2461 1014.31 Q56.3653 1014.31 58.2114 1012.28 Q60.0256 1010.21 60.0256 1006.68 Q60.0256 1001.81 56.5881 998.877 Q53.1188 995.917 47.3897 995.917 L46.0847 995.917 L46.0847 1001.74 M43.6657 990.061 L64.0042 990.061 L64.0042 995.917 L58.5933 995.917 Q61.8398 997.922 63.3994 1000.91 Q64.9272 1003.91 64.9272 1008.23 Q64.9272 1013.71 61.8716 1016.96 Q58.7843 1020.17 53.6281 1020.17 Q47.6125 1020.17 44.5569 1016.16 Q41.5014 1012.12 41.5014 1004.13 L41.5014 995.917 L40.9285 995.917 Q36.8862 995.917 34.6901 998.591 Q32.4621 1001.23 32.4621 1006.04 Q32.4621 1009.09 33.1941 1011.99 Q33.9262 1014.89 35.3903 1017.56 L29.9795 1017.56 Q28.7381 1014.35 28.1334 1011.32 Q27.4968 1008.3 27.4968 1005.43 Q27.4968 997.7 31.5072 993.88 Q35.5176 990.061 43.6657 990.061 Z\" fill=\"#000000\" fill-rule=\"evenodd\" fill-opacity=\"1\" /><path clip-path=\"url(#clip120)\" d=\"M58.657 972.332 L77.5631 972.332 L77.5631 978.221 L28.3562 978.221 L28.3562 972.332 L33.7671 972.332 Q30.5842 970.486 29.0564 967.685 Q27.4968 964.853 27.4968 960.938 Q27.4968 954.445 32.6531 950.402 Q37.8093 946.328 46.212 946.328 Q54.6147 946.328 59.771 950.402 Q64.9272 954.445 64.9272 960.938 Q64.9272 964.853 63.3994 967.685 Q61.8398 970.486 58.657 972.332 M46.212 952.408 Q39.7508 952.408 36.0905 955.081 Q32.3984 957.723 32.3984 962.37 Q32.3984 967.017 36.0905 969.69 Q39.7508 972.332 46.212 972.332 Q52.6732 972.332 56.3653 969.69 Q60.0256 967.017 60.0256 962.37 Q60.0256 957.723 56.3653 955.081 Q52.6732 952.408 46.212 952.408 Z\" fill=\"#000000\" fill-rule=\"evenodd\" fill-opacity=\"1\" /><path clip-path=\"url(#clip120)\" d=\"M29.4065 913.895 L34.9447 913.895 Q33.6716 916.378 33.035 919.051 Q32.3984 921.725 32.3984 924.589 Q32.3984 928.95 33.7352 931.146 Q35.072 933.31 37.7456 933.31 Q39.7826 933.31 40.9603 931.751 Q42.1061 930.191 43.1565 925.481 L43.6021 923.475 Q44.9389 917.237 47.3897 914.627 Q49.8086 911.985 54.1691 911.985 Q59.1344 911.985 62.0308 915.932 Q64.9272 919.847 64.9272 926.722 Q64.9272 929.587 64.3543 932.706 Q63.8132 935.793 62.6992 939.231 L56.6518 939.231 Q58.3387 935.984 59.198 932.833 Q60.0256 929.682 60.0256 926.595 Q60.0256 922.457 58.6251 920.229 Q57.1929 918.001 54.6147 918.001 Q52.2276 918.001 50.9545 919.624 Q49.6813 921.216 48.5037 926.658 L48.0262 928.695 Q46.8804 934.138 44.5251 936.557 Q42.138 938.976 38.0002 938.976 Q32.9713 938.976 30.2341 935.411 Q27.4968 931.846 27.4968 925.29 Q27.4968 922.043 27.9743 919.179 Q28.4517 916.314 29.4065 913.895 Z\" fill=\"#000000\" fill-rule=\"evenodd\" fill-opacity=\"1\" /><path clip-path=\"url(#clip120)\" d=\"M44.7161 872.168 L47.5806 872.168 L47.5806 899.095 Q53.6281 898.713 56.8109 895.466 Q59.9619 892.188 59.9619 886.363 Q59.9619 882.99 59.1344 879.839 Q58.3069 876.656 56.6518 873.536 L62.1899 873.536 Q63.5267 876.688 64.227 879.998 Q64.9272 883.308 64.9272 886.713 Q64.9272 895.244 59.9619 900.241 Q54.9967 905.206 46.5303 905.206 Q37.7774 905.206 32.6531 900.495 Q27.4968 895.753 27.4968 887.732 Q27.4968 880.539 32.1438 876.369 Q36.7589 872.168 44.7161 872.168 M42.9973 878.024 Q38.1912 878.088 35.3266 880.73 Q32.4621 883.34 32.4621 887.668 Q32.4621 892.57 35.2312 895.53 Q38.0002 898.458 43.0292 898.904 L42.9973 878.024 Z\" fill=\"#000000\" fill-rule=\"evenodd\" fill-opacity=\"1\" /><path clip-path=\"url(#clip120)\" d=\"M33.7671 839.098 L14.479 839.098 L14.479 833.242 L64.0042 833.242 L64.0042 839.098 L58.657 839.098 Q61.8398 840.944 63.3994 843.777 Q64.9272 846.578 64.9272 850.524 Q64.9272 856.986 59.771 861.06 Q54.6147 865.102 46.212 865.102 Q37.8093 865.102 32.6531 861.06 Q27.4968 856.986 27.4968 850.524 Q27.4968 846.578 29.0564 843.777 Q30.5842 840.944 33.7671 839.098 M46.212 859.054 Q52.6732 859.054 56.3653 856.413 Q60.0256 853.739 60.0256 849.092 Q60.0256 844.445 56.3653 841.772 Q52.6732 839.098 46.212 839.098 Q39.7508 839.098 36.0905 841.772 Q32.3984 844.445 32.3984 849.092 Q32.3984 853.739 36.0905 856.413 Q39.7508 859.054 46.212 859.054 Z\" fill=\"#000000\" fill-rule=\"evenodd\" fill-opacity=\"1\" /><path clip-path=\"url(#clip120)\" d=\"M18.2347 794.665 L28.3562 794.665 L28.3562 782.602 L32.9077 782.602 L32.9077 794.665 L52.2594 794.665 Q56.6199 794.665 57.8613 793.488 Q59.1026 792.278 59.1026 788.618 L59.1026 782.602 L64.0042 782.602 L64.0042 788.618 Q64.0042 795.397 61.4897 797.976 Q58.9434 800.554 52.2594 800.554 L32.9077 800.554 L32.9077 804.851 L28.3562 804.851 L28.3562 800.554 L18.2347 800.554 L18.2347 794.665 Z\" fill=\"#000000\" fill-rule=\"evenodd\" fill-opacity=\"1\" /><path clip-path=\"url(#clip120)\" d=\"M28.3562 774.9 L28.3562 769.043 L64.0042 769.043 L64.0042 774.9 L28.3562 774.9 M14.479 774.9 L14.479 769.043 L21.895 769.043 L21.895 774.9 L14.479 774.9 Z\" fill=\"#000000\" fill-rule=\"evenodd\" fill-opacity=\"1\" /><path clip-path=\"url(#clip120)\" d=\"M35.1993 729.035 Q31.2526 726.839 29.3747 723.783 Q27.4968 720.728 27.4968 716.59 Q27.4968 711.02 31.4117 707.996 Q35.2948 704.973 42.4881 704.973 L64.0042 704.973 L64.0042 710.861 L42.679 710.861 Q37.5546 710.861 35.072 712.675 Q32.5894 714.489 32.5894 718.213 Q32.5894 722.765 35.6131 725.406 Q38.6368 728.048 43.8567 728.048 L64.0042 728.048 L64.0042 733.937 L42.679 733.937 Q37.5228 733.937 35.072 735.751 Q32.5894 737.565 32.5894 741.353 Q32.5894 745.84 35.6449 748.482 Q38.6686 751.124 43.8567 751.124 L64.0042 751.124 L64.0042 757.012 L28.3562 757.012 L28.3562 751.124 L33.8944 751.124 Q30.616 749.119 29.0564 746.318 Q27.4968 743.517 27.4968 739.666 Q27.4968 735.783 29.4702 733.077 Q31.4436 730.34 35.1993 729.035 Z\" fill=\"#000000\" fill-rule=\"evenodd\" fill-opacity=\"1\" /><path clip-path=\"url(#clip120)\" d=\"M44.7161 662.8 L47.5806 662.8 L47.5806 689.727 Q53.6281 689.345 56.8109 686.098 Q59.9619 682.82 59.9619 676.995 Q59.9619 673.621 59.1344 670.47 Q58.3069 667.288 56.6518 664.168 L62.1899 664.168 Q63.5267 667.319 64.227 670.63 Q64.9272 673.94 64.9272 677.345 Q64.9272 685.875 59.9619 690.873 Q54.9967 695.838 46.5303 695.838 Q37.7774 695.838 32.6531 691.127 Q27.4968 686.385 27.4968 678.364 Q27.4968 671.171 32.1438 667.001 Q36.7589 662.8 44.7161 662.8 M42.9973 668.656 Q38.1912 668.72 35.3266 671.362 Q32.4621 673.972 32.4621 678.3 Q32.4621 683.202 35.2312 686.162 Q38.0002 689.09 43.0292 689.536 L42.9973 668.656 Z\" fill=\"#000000\" fill-rule=\"evenodd\" fill-opacity=\"1\" /><path clip-path=\"url(#clip120)\" d=\"M14.5426 618.399 Q21.8632 622.664 29.0246 624.733 Q36.186 626.802 43.5384 626.802 Q50.8908 626.802 58.1159 624.733 Q65.3091 622.632 72.5979 618.399 L72.5979 623.492 Q65.1182 628.266 57.8931 630.653 Q50.668 633.008 43.5384 633.008 Q36.4406 633.008 29.2474 630.653 Q22.0542 628.298 14.5426 623.492 L14.5426 618.399 Z\" fill=\"#000000\" fill-rule=\"evenodd\" fill-opacity=\"1\" /><path clip-path=\"url(#clip120)\" d=\"M29.4065 584.311 L34.9447 584.311 Q33.6716 586.793 33.035 589.467 Q32.3984 592.14 32.3984 595.005 Q32.3984 599.365 33.7352 601.562 Q35.072 603.726 37.7456 603.726 Q39.7826 603.726 40.9603 602.166 Q42.1061 600.607 43.1565 595.896 L43.6021 593.891 Q44.9389 587.653 47.3897 585.043 Q49.8086 582.401 54.1691 582.401 Q59.1344 582.401 62.0308 586.348 Q64.9272 590.263 64.9272 597.137 Q64.9272 600.002 64.3543 603.121 Q63.8132 606.209 62.6992 609.646 L56.6518 609.646 Q58.3387 606.4 59.198 603.249 Q60.0256 600.098 60.0256 597.01 Q60.0256 592.872 58.6251 590.644 Q57.1929 588.416 54.6147 588.416 Q52.2276 588.416 50.9545 590.04 Q49.6813 591.631 48.5037 597.074 L48.0262 599.111 Q46.8804 604.554 44.5251 606.973 Q42.138 609.391 38.0002 609.391 Q32.9713 609.391 30.2341 605.827 Q27.4968 602.262 27.4968 595.705 Q27.4968 592.459 27.9743 589.594 Q28.4517 586.73 29.4065 584.311 Z\" fill=\"#000000\" fill-rule=\"evenodd\" fill-opacity=\"1\" /><path clip-path=\"url(#clip120)\" d=\"M44.7161 542.583 L47.5806 542.583 L47.5806 569.51 Q53.6281 569.128 56.8109 565.882 Q59.9619 562.604 59.9619 556.779 Q59.9619 553.405 59.1344 550.254 Q58.3069 547.071 56.6518 543.952 L62.1899 543.952 Q63.5267 547.103 64.227 550.413 Q64.9272 553.723 64.9272 557.129 Q64.9272 565.659 59.9619 570.656 Q54.9967 575.621 46.5303 575.621 Q37.7774 575.621 32.6531 570.911 Q27.4968 566.168 27.4968 558.148 Q27.4968 550.954 32.1438 546.785 Q36.7589 542.583 44.7161 542.583 M42.9973 548.44 Q38.1912 548.504 35.3266 551.145 Q32.4621 553.755 32.4621 558.084 Q32.4621 562.985 35.2312 565.946 Q38.0002 568.874 43.0292 569.319 L42.9973 548.44 Z\" fill=\"#000000\" fill-rule=\"evenodd\" fill-opacity=\"1\" /><path clip-path=\"url(#clip120)\" d=\"M29.7248 507.317 L35.1993 507.317 Q33.8307 509.8 33.1623 512.314 Q32.4621 514.797 32.4621 517.343 Q32.4621 523.041 36.0905 526.192 Q39.6872 529.343 46.212 529.343 Q52.7369 529.343 56.3653 526.192 Q59.9619 523.041 59.9619 517.343 Q59.9619 514.797 59.2935 512.314 Q58.5933 509.8 57.2247 507.317 L62.6355 507.317 Q63.7814 509.768 64.3543 512.41 Q64.9272 515.02 64.9272 517.98 Q64.9272 526.033 59.8664 530.775 Q54.8057 535.517 46.212 535.517 Q37.491 535.517 32.4939 530.743 Q27.4968 525.937 27.4968 517.598 Q27.4968 514.893 28.0697 512.314 Q28.6108 509.736 29.7248 507.317 Z\" fill=\"#000000\" fill-rule=\"evenodd\" fill-opacity=\"1\" /><path clip-path=\"url(#clip120)\" d=\"M14.5426 498.055 L14.5426 492.963 Q22.0542 488.188 29.2474 485.833 Q36.4406 483.446 43.5384 483.446 Q50.668 483.446 57.8931 485.833 Q65.1182 488.188 72.5979 492.963 L72.5979 498.055 Q65.3091 493.822 58.1159 491.753 Q50.8908 489.653 43.5384 489.653 Q36.186 489.653 29.0246 491.753 Q21.8632 493.822 14.5426 498.055 Z\" fill=\"#000000\" fill-rule=\"evenodd\" fill-opacity=\"1\" /><path clip-path=\"url(#clip120)\" d=\"M633.348 12.096 L684.511 12.096 L684.511 18.9825 L663.041 18.9825 L663.041 72.576 L654.818 72.576 L654.818 18.9825 L633.348 18.9825 L633.348 12.096 Z\" fill=\"#000000\" fill-rule=\"evenodd\" fill-opacity=\"1\" /><path clip-path=\"url(#clip120)\" d=\"M689.534 27.2059 L696.988 27.2059 L696.988 72.576 L689.534 72.576 L689.534 27.2059 M689.534 9.54393 L696.988 9.54393 L696.988 18.9825 L689.534 18.9825 L689.534 9.54393 Z\" fill=\"#000000\" fill-rule=\"evenodd\" fill-opacity=\"1\" /><path clip-path=\"url(#clip120)\" d=\"M747.908 35.9153 Q750.703 30.8922 754.592 28.5022 Q758.48 26.1121 763.747 26.1121 Q770.836 26.1121 774.684 31.0947 Q778.532 36.0368 778.532 45.1919 L778.532 72.576 L771.038 72.576 L771.038 45.4349 Q771.038 38.913 768.729 35.7533 Q766.42 32.5936 761.681 32.5936 Q755.888 32.5936 752.526 36.4419 Q749.163 40.2903 749.163 46.9338 L749.163 72.576 L741.669 72.576 L741.669 45.4349 Q741.669 38.8725 739.36 35.7533 Q737.051 32.5936 732.231 32.5936 Q726.519 32.5936 723.157 36.4824 Q719.794 40.3308 719.794 46.9338 L719.794 72.576 L712.3 72.576 L712.3 27.2059 L719.794 27.2059 L719.794 34.2544 Q722.346 30.082 725.911 28.0971 Q729.476 26.1121 734.378 26.1121 Q739.32 26.1121 742.763 28.6237 Q746.247 31.1352 747.908 35.9153 Z\" fill=\"#000000\" fill-rule=\"evenodd\" fill-opacity=\"1\" /><path clip-path=\"url(#clip120)\" d=\"M793.399 27.2059 L800.853 27.2059 L800.853 72.576 L793.399 72.576 L793.399 27.2059 M793.399 9.54393 L800.853 9.54393 L800.853 18.9825 L793.399 18.9825 L793.399 9.54393 Z\" fill=\"#000000\" fill-rule=\"evenodd\" fill-opacity=\"1\" /><path clip-path=\"url(#clip120)\" d=\"M854.163 45.1919 L854.163 72.576 L846.709 72.576 L846.709 45.4349 Q846.709 38.994 844.198 35.7938 Q841.686 32.5936 836.663 32.5936 Q830.627 32.5936 827.143 36.4419 Q823.659 40.2903 823.659 46.9338 L823.659 72.576 L816.165 72.576 L816.165 27.2059 L823.659 27.2059 L823.659 34.2544 Q826.333 30.163 829.938 28.1376 Q833.584 26.1121 838.324 26.1121 Q846.142 26.1121 850.152 30.9732 Q854.163 35.7938 854.163 45.1919 Z\" fill=\"#000000\" fill-rule=\"evenodd\" fill-opacity=\"1\" /><path clip-path=\"url(#clip120)\" d=\"M898.885 49.3643 Q898.885 41.2625 895.523 36.8065 Q892.201 32.3505 886.165 32.3505 Q880.17 32.3505 876.807 36.8065 Q873.486 41.2625 873.486 49.3643 Q873.486 57.4256 876.807 61.8816 Q880.17 66.3376 886.165 66.3376 Q892.201 66.3376 895.523 61.8816 Q898.885 57.4256 898.885 49.3643 M906.338 66.9452 Q906.338 78.5308 901.194 84.1616 Q896.049 89.8329 885.436 89.8329 Q881.506 89.8329 878.023 89.2252 Q874.539 88.6581 871.258 87.4428 L871.258 80.1917 Q874.539 81.9741 877.739 82.8248 Q880.939 83.6755 884.261 83.6755 Q891.593 83.6755 895.239 79.8271 Q898.885 76.0193 898.885 68.282 L898.885 64.5957 Q896.576 68.6061 892.97 70.5911 Q889.365 72.576 884.342 72.576 Q875.997 72.576 870.893 66.2161 Q865.789 59.8562 865.789 49.3643 Q865.789 38.832 870.893 32.472 Q875.997 26.1121 884.342 26.1121 Q889.365 26.1121 892.97 28.0971 Q896.576 30.082 898.885 34.0924 L898.885 27.2059 L906.338 27.2059 L906.338 66.9452 Z\" fill=\"#000000\" fill-rule=\"evenodd\" fill-opacity=\"1\" /><path clip-path=\"url(#clip120)\" d=\"M965.644 32.4315 Q959.648 32.4315 956.165 37.1306 Q952.681 41.7891 952.681 49.9314 Q952.681 58.0738 956.124 62.7728 Q959.608 67.4314 965.644 67.4314 Q971.599 67.4314 975.082 62.7323 Q978.566 58.0333 978.566 49.9314 Q978.566 41.8701 975.082 37.1711 Q971.599 32.4315 965.644 32.4315 M965.644 26.1121 Q975.366 26.1121 980.916 32.4315 Q986.465 38.7509 986.465 49.9314 Q986.465 61.0714 980.916 67.4314 Q975.366 73.7508 965.644 73.7508 Q955.881 73.7508 950.331 67.4314 Q944.822 61.0714 944.822 49.9314 Q944.822 38.7509 950.331 32.4315 Q955.881 26.1121 965.644 26.1121 Z\" fill=\"#000000\" fill-rule=\"evenodd\" fill-opacity=\"1\" /><path clip-path=\"url(#clip120)\" d=\"M1021.79 9.54393 L1021.79 15.7418 L1014.66 15.7418 Q1010.65 15.7418 1009.07 17.3622 Q1007.53 18.9825 1007.53 23.1955 L1007.53 27.2059 L1019.8 27.2059 L1019.8 32.9987 L1007.53 32.9987 L1007.53 72.576 L1000.04 72.576 L1000.04 32.9987 L992.906 32.9987 L992.906 27.2059 L1000.04 27.2059 L1000.04 24.0462 Q1000.04 16.471 1003.56 13.0277 Q1007.08 9.54393 1014.74 9.54393 L1021.79 9.54393 Z\" fill=\"#000000\" fill-rule=\"evenodd\" fill-opacity=\"1\" /><path clip-path=\"url(#clip120)\" d=\"M1084.25 34.0924 L1084.25 9.54393 L1091.71 9.54393 L1091.71 72.576 L1084.25 72.576 L1084.25 65.7705 Q1081.9 69.8214 1078.3 71.8063 Q1074.73 73.7508 1069.71 73.7508 Q1061.49 73.7508 1056.3 67.1883 Q1051.16 60.6258 1051.16 49.9314 Q1051.16 39.2371 1056.3 32.6746 Q1061.49 26.1121 1069.71 26.1121 Q1074.73 26.1121 1078.3 28.0971 Q1081.9 30.0415 1084.25 34.0924 M1058.85 49.9314 Q1058.85 58.1548 1062.22 62.8538 Q1065.62 67.5124 1071.53 67.5124 Q1077.45 67.5124 1080.85 62.8538 Q1084.25 58.1548 1084.25 49.9314 Q1084.25 41.7081 1080.85 37.0496 Q1077.45 32.3505 1071.53 32.3505 Q1065.62 32.3505 1062.22 37.0496 Q1058.85 41.7081 1058.85 49.9314 Z\" fill=\"#000000\" fill-rule=\"evenodd\" fill-opacity=\"1\" /><path clip-path=\"url(#clip120)\" d=\"M1124.64 32.4315 Q1118.65 32.4315 1115.16 37.1306 Q1111.68 41.7891 1111.68 49.9314 Q1111.68 58.0738 1115.12 62.7728 Q1118.61 67.4314 1124.64 67.4314 Q1130.6 67.4314 1134.08 62.7323 Q1137.56 58.0333 1137.56 49.9314 Q1137.56 41.8701 1134.08 37.1711 Q1130.6 32.4315 1124.64 32.4315 M1124.64 26.1121 Q1134.36 26.1121 1139.91 32.4315 Q1145.46 38.7509 1145.46 49.9314 Q1145.46 61.0714 1139.91 67.4314 Q1134.36 73.7508 1124.64 73.7508 Q1114.88 73.7508 1109.33 67.4314 Q1103.82 61.0714 1103.82 49.9314 Q1103.82 38.7509 1109.33 32.4315 Q1114.88 26.1121 1124.64 26.1121 Z\" fill=\"#000000\" fill-rule=\"evenodd\" fill-opacity=\"1\" /><path clip-path=\"url(#clip120)\" d=\"M1165.19 14.324 L1165.19 27.2059 L1180.54 27.2059 L1180.54 32.9987 L1165.19 32.9987 L1165.19 57.6282 Q1165.19 63.1779 1166.69 64.7578 Q1168.23 66.3376 1172.89 66.3376 L1180.54 66.3376 L1180.54 72.576 L1172.89 72.576 Q1164.26 72.576 1160.98 69.3758 Q1157.7 66.1351 1157.7 57.6282 L1157.7 32.9987 L1152.23 32.9987 L1152.23 27.2059 L1157.7 27.2059 L1157.7 14.324 L1165.19 14.324 Z\" fill=\"#000000\" fill-rule=\"evenodd\" fill-opacity=\"1\" /><path clip-path=\"url(#clip120)\" d=\"M1223.93 65.7705 L1223.93 89.8329 L1216.44 89.8329 L1216.44 27.2059 L1223.93 27.2059 L1223.93 34.0924 Q1226.28 30.0415 1229.84 28.0971 Q1233.45 26.1121 1238.43 26.1121 Q1246.7 26.1121 1251.84 32.6746 Q1257.03 39.2371 1257.03 49.9314 Q1257.03 60.6258 1251.84 67.1883 Q1246.7 73.7508 1238.43 73.7508 Q1233.45 73.7508 1229.84 71.8063 Q1226.28 69.8214 1223.93 65.7705 M1249.29 49.9314 Q1249.29 41.7081 1245.89 37.0496 Q1242.52 32.3505 1236.61 32.3505 Q1230.69 32.3505 1227.29 37.0496 Q1223.93 41.7081 1223.93 49.9314 Q1223.93 58.1548 1227.29 62.8538 Q1230.69 67.5124 1236.61 67.5124 Q1242.52 67.5124 1245.89 62.8538 Q1249.29 58.1548 1249.29 49.9314 Z\" fill=\"#000000\" fill-rule=\"evenodd\" fill-opacity=\"1\" /><path clip-path=\"url(#clip120)\" d=\"M1295.67 34.1734 Q1294.42 33.4443 1292.92 33.1202 Q1291.46 32.7556 1289.68 32.7556 Q1283.36 32.7556 1279.95 36.8875 Q1276.59 40.9789 1276.59 48.6757 L1276.59 72.576 L1269.1 72.576 L1269.1 27.2059 L1276.59 27.2059 L1276.59 34.2544 Q1278.94 30.1225 1282.71 28.1376 Q1286.48 26.1121 1291.86 26.1121 Q1292.63 26.1121 1293.56 26.2337 Q1294.5 26.3147 1295.63 26.5172 L1295.67 34.1734 Z\" fill=\"#000000\" fill-rule=\"evenodd\" fill-opacity=\"1\" /><path clip-path=\"url(#clip120)\" d=\"M1319.25 32.4315 Q1313.25 32.4315 1309.77 37.1306 Q1306.28 41.7891 1306.28 49.9314 Q1306.28 58.0738 1309.73 62.7728 Q1313.21 67.4314 1319.25 67.4314 Q1325.2 67.4314 1328.69 62.7323 Q1332.17 58.0333 1332.17 49.9314 Q1332.17 41.8701 1328.69 37.1711 Q1325.2 32.4315 1319.25 32.4315 M1319.25 26.1121 Q1328.97 26.1121 1334.52 32.4315 Q1340.07 38.7509 1340.07 49.9314 Q1340.07 61.0714 1334.52 67.4314 Q1328.97 73.7508 1319.25 73.7508 Q1309.48 73.7508 1303.93 67.4314 Q1298.43 61.0714 1298.43 49.9314 Q1298.43 38.7509 1303.93 32.4315 Q1309.48 26.1121 1319.25 26.1121 Z\" fill=\"#000000\" fill-rule=\"evenodd\" fill-opacity=\"1\" /><path clip-path=\"url(#clip120)\" d=\"M1382.28 34.0924 L1382.28 9.54393 L1389.73 9.54393 L1389.73 72.576 L1382.28 72.576 L1382.28 65.7705 Q1379.93 69.8214 1376.32 71.8063 Q1372.76 73.7508 1367.74 73.7508 Q1359.51 73.7508 1354.33 67.1883 Q1349.18 60.6258 1349.18 49.9314 Q1349.18 39.2371 1354.33 32.6746 Q1359.51 26.1121 1367.74 26.1121 Q1372.76 26.1121 1376.32 28.0971 Q1379.93 30.0415 1382.28 34.0924 M1356.88 49.9314 Q1356.88 58.1548 1360.24 62.8538 Q1363.65 67.5124 1369.56 67.5124 Q1375.47 67.5124 1378.88 62.8538 Q1382.28 58.1548 1382.28 49.9314 Q1382.28 41.7081 1378.88 37.0496 Q1375.47 32.3505 1369.56 32.3505 Q1363.65 32.3505 1360.24 37.0496 Q1356.88 41.7081 1356.88 49.9314 Z\" fill=\"#000000\" fill-rule=\"evenodd\" fill-opacity=\"1\" /><path clip-path=\"url(#clip120)\" d=\"M1404.32 54.671 L1404.32 27.2059 L1411.77 27.2059 L1411.77 54.3874 Q1411.77 60.8284 1414.28 64.0691 Q1416.79 67.2693 1421.82 67.2693 Q1427.85 67.2693 1431.34 63.421 Q1434.86 59.5726 1434.86 52.9291 L1434.86 27.2059 L1442.31 27.2059 L1442.31 72.576 L1434.86 72.576 L1434.86 65.6084 Q1432.15 69.7404 1428.54 71.7658 Q1424.98 73.7508 1420.24 73.7508 Q1412.42 73.7508 1408.37 68.8897 Q1404.32 64.0286 1404.32 54.671 M1423.07 26.1121 L1423.07 26.1121 Z\" fill=\"#000000\" fill-rule=\"evenodd\" fill-opacity=\"1\" /><path clip-path=\"url(#clip120)\" d=\"M1490.32 28.9478 L1490.32 35.9153 Q1487.16 34.1734 1483.96 33.3227 Q1480.8 32.4315 1477.56 32.4315 Q1470.31 32.4315 1466.29 37.0496 Q1462.28 41.6271 1462.28 49.9314 Q1462.28 58.2358 1466.29 62.8538 Q1470.31 67.4314 1477.56 67.4314 Q1480.8 67.4314 1483.96 66.5807 Q1487.16 65.6895 1490.32 63.9476 L1490.32 70.8341 Q1487.2 72.2924 1483.84 73.0216 Q1480.51 73.7508 1476.75 73.7508 Q1466.5 73.7508 1460.46 67.3098 Q1454.43 60.8689 1454.43 49.9314 Q1454.43 38.832 1460.5 32.472 Q1466.62 26.1121 1477.23 26.1121 Q1480.68 26.1121 1483.96 26.8413 Q1487.24 27.5299 1490.32 28.9478 Z\" fill=\"#000000\" fill-rule=\"evenodd\" fill-opacity=\"1\" /><path clip-path=\"url(#clip120)\" d=\"M1510.65 14.324 L1510.65 27.2059 L1526.01 27.2059 L1526.01 32.9987 L1510.65 32.9987 L1510.65 57.6282 Q1510.65 63.1779 1512.15 64.7578 Q1513.69 66.3376 1518.35 66.3376 L1526.01 66.3376 L1526.01 72.576 L1518.35 72.576 Q1509.72 72.576 1506.44 69.3758 Q1503.16 66.1351 1503.16 57.6282 L1503.16 32.9987 L1497.69 32.9987 L1497.69 27.2059 L1503.16 27.2059 L1503.16 14.324 L1510.65 14.324 Z\" fill=\"#000000\" fill-rule=\"evenodd\" fill-opacity=\"1\" /><path clip-path=\"url(#clip120)\" d=\"M1582.8 49.7694 Q1573.77 49.7694 1570.28 51.8354 Q1566.8 53.9013 1566.8 58.8839 Q1566.8 62.8538 1569.39 65.2034 Q1572.02 67.5124 1576.52 67.5124 Q1582.72 67.5124 1586.44 63.1374 Q1590.21 58.7219 1590.21 51.4303 L1590.21 49.7694 L1582.8 49.7694 M1597.67 46.6907 L1597.67 72.576 L1590.21 72.576 L1590.21 65.6895 Q1587.66 69.8214 1583.85 71.8063 Q1580.04 73.7508 1574.54 73.7508 Q1567.57 73.7508 1563.44 69.8619 Q1559.34 65.9325 1559.34 59.3701 Q1559.34 51.7138 1564.45 47.825 Q1569.59 43.9361 1579.76 43.9361 L1590.21 43.9361 L1590.21 43.2069 Q1590.21 38.0623 1586.81 35.2672 Q1583.45 32.4315 1577.33 32.4315 Q1573.44 32.4315 1569.76 33.3632 Q1566.07 34.295 1562.67 36.1584 L1562.67 29.2718 Q1566.76 27.692 1570.61 26.9223 Q1574.45 26.1121 1578.1 26.1121 Q1587.94 26.1121 1592.8 31.2163 Q1597.67 36.3204 1597.67 46.6907 Z\" fill=\"#000000\" fill-rule=\"evenodd\" fill-opacity=\"1\" /><path clip-path=\"url(#clip120)\" d=\"M1613.02 9.54393 L1620.47 9.54393 L1620.47 72.576 L1613.02 72.576 L1613.02 9.54393 Z\" fill=\"#000000\" fill-rule=\"evenodd\" fill-opacity=\"1\" /><path clip-path=\"url(#clip120)\" d=\"M1665.92 49.3643 Q1665.92 41.2625 1662.56 36.8065 Q1659.24 32.3505 1653.2 32.3505 Q1647.21 32.3505 1643.85 36.8065 Q1640.52 41.2625 1640.52 49.3643 Q1640.52 57.4256 1643.85 61.8816 Q1647.21 66.3376 1653.2 66.3376 Q1659.24 66.3376 1662.56 61.8816 Q1665.92 57.4256 1665.92 49.3643 M1673.38 66.9452 Q1673.38 78.5308 1668.23 84.1616 Q1663.09 89.8329 1652.47 89.8329 Q1648.55 89.8329 1645.06 89.2252 Q1641.58 88.6581 1638.3 87.4428 L1638.3 80.1917 Q1641.58 81.9741 1644.78 82.8248 Q1647.98 83.6755 1651.3 83.6755 Q1658.63 83.6755 1662.28 79.8271 Q1665.92 76.0193 1665.92 68.282 L1665.92 64.5957 Q1663.61 68.6061 1660.01 70.5911 Q1656.4 72.576 1651.38 72.576 Q1643.04 72.576 1637.93 66.2161 Q1632.83 59.8562 1632.83 49.3643 Q1632.83 38.832 1637.93 32.472 Q1643.04 26.1121 1651.38 26.1121 Q1656.4 26.1121 1660.01 28.0971 Q1663.61 30.082 1665.92 34.0924 L1665.92 27.2059 L1673.38 27.2059 L1673.38 66.9452 Z\" fill=\"#000000\" fill-rule=\"evenodd\" fill-opacity=\"1\" /><path clip-path=\"url(#clip120)\" d=\"M1706.31 32.4315 Q1700.32 32.4315 1696.83 37.1306 Q1693.35 41.7891 1693.35 49.9314 Q1693.35 58.0738 1696.79 62.7728 Q1700.28 67.4314 1706.31 67.4314 Q1712.27 67.4314 1715.75 62.7323 Q1719.23 58.0333 1719.23 49.9314 Q1719.23 41.8701 1715.75 37.1711 Q1712.27 32.4315 1706.31 32.4315 M1706.31 26.1121 Q1716.03 26.1121 1721.58 32.4315 Q1727.13 38.7509 1727.13 49.9314 Q1727.13 61.0714 1721.58 67.4314 Q1716.03 73.7508 1706.31 73.7508 Q1696.55 73.7508 1691 67.4314 Q1685.49 61.0714 1685.49 49.9314 Q1685.49 38.7509 1691 32.4315 Q1696.55 26.1121 1706.31 26.1121 Z\" fill=\"#000000\" fill-rule=\"evenodd\" fill-opacity=\"1\" /><path clip-path=\"url(#clip120)\" d=\"M1765.78 34.1734 Q1764.52 33.4443 1763.02 33.1202 Q1761.57 32.7556 1759.78 32.7556 Q1753.46 32.7556 1750.06 36.8875 Q1746.7 40.9789 1746.7 48.6757 L1746.7 72.576 L1739.2 72.576 L1739.2 27.2059 L1746.7 27.2059 L1746.7 34.2544 Q1749.05 30.1225 1752.82 28.1376 Q1756.58 26.1121 1761.97 26.1121 Q1762.74 26.1121 1763.67 26.2337 Q1764.6 26.3147 1765.74 26.5172 L1765.78 34.1734 Z\" fill=\"#000000\" fill-rule=\"evenodd\" fill-opacity=\"1\" /><path clip-path=\"url(#clip120)\" d=\"M1773.6 27.2059 L1781.05 27.2059 L1781.05 72.576 L1773.6 72.576 L1773.6 27.2059 M1773.6 9.54393 L1781.05 9.54393 L1781.05 18.9825 L1773.6 18.9825 L1773.6 9.54393 Z\" fill=\"#000000\" fill-rule=\"evenodd\" fill-opacity=\"1\" /><path clip-path=\"url(#clip120)\" d=\"M1804.02 14.324 L1804.02 27.2059 L1819.37 27.2059 L1819.37 32.9987 L1804.02 32.9987 L1804.02 57.6282 Q1804.02 63.1779 1805.52 64.7578 Q1807.06 66.3376 1811.72 66.3376 L1819.37 66.3376 L1819.37 72.576 L1811.72 72.576 Q1803.09 72.576 1799.81 69.3758 Q1796.52 66.1351 1796.52 57.6282 L1796.52 32.9987 L1791.06 32.9987 L1791.06 27.2059 L1796.52 27.2059 L1796.52 14.324 L1804.02 14.324 Z\" fill=\"#000000\" fill-rule=\"evenodd\" fill-opacity=\"1\" /><path clip-path=\"url(#clip120)\" d=\"M1866.89 45.1919 L1866.89 72.576 L1859.44 72.576 L1859.44 45.4349 Q1859.44 38.994 1856.92 35.7938 Q1854.41 32.5936 1849.39 32.5936 Q1843.35 32.5936 1839.87 36.4419 Q1836.39 40.2903 1836.39 46.9338 L1836.39 72.576 L1828.89 72.576 L1828.89 9.54393 L1836.39 9.54393 L1836.39 34.2544 Q1839.06 30.163 1842.66 28.1376 Q1846.31 26.1121 1851.05 26.1121 Q1858.87 26.1121 1862.88 30.9732 Q1866.89 35.7938 1866.89 45.1919 Z\" fill=\"#000000\" fill-rule=\"evenodd\" fill-opacity=\"1\" /><path clip-path=\"url(#clip120)\" d=\"M1917.08 35.9153 Q1919.87 30.8922 1923.76 28.5022 Q1927.65 26.1121 1932.92 26.1121 Q1940.01 26.1121 1943.86 31.0947 Q1947.7 36.0368 1947.7 45.1919 L1947.7 72.576 L1940.21 72.576 L1940.21 45.4349 Q1940.21 38.913 1937.9 35.7533 Q1935.59 32.5936 1930.85 32.5936 Q1925.06 32.5936 1921.7 36.4419 Q1918.34 40.2903 1918.34 46.9338 L1918.34 72.576 L1910.84 72.576 L1910.84 45.4349 Q1910.84 38.8725 1908.53 35.7533 Q1906.22 32.5936 1901.4 32.5936 Q1895.69 32.5936 1892.33 36.4824 Q1888.97 40.3308 1888.97 46.9338 L1888.97 72.576 L1881.47 72.576 L1881.47 27.2059 L1888.97 27.2059 L1888.97 34.2544 Q1891.52 30.082 1895.08 28.0971 Q1898.65 26.1121 1903.55 26.1121 Q1908.49 26.1121 1911.93 28.6237 Q1915.42 31.1352 1917.08 35.9153 Z\" fill=\"#000000\" fill-rule=\"evenodd\" fill-opacity=\"1\" /><path clip-path=\"url(#clip120)\" d=\"M1963.62 62.2867 L1972.17 62.2867 L1972.17 72.576 L1963.62 72.576 L1963.62 62.2867 Z\" fill=\"#000000\" fill-rule=\"evenodd\" fill-opacity=\"1\" /><polyline clip-path=\"url(#clip122)\" style=\"stroke:#009af9; stroke-linecap:butt; stroke-linejoin:round; stroke-width:4; stroke-opacity:1; fill:none\" points=\"\n",
       "  312.198,972.291 684.455,1401.45 902.211,727.092 1056.71,1241.03 1176.55,1200.97 1274.47,1096.31 1357.25,1063.37 1428.97,1037.22 1492.22,956.697 1548.81,972.291 \n",
       "  1599.99,867.519 1646.72,628.286 1689.71,828.893 1729.51,826.814 1766.56,847.102 1801.23,696.89 1833.78,405.356 1864.48,518.021 1893.52,500.664 1921.07,460.647 \n",
       "  1947.27,426.459 1972.25,320.39 1996.12,346.733 2018.98,374.229 2040.91,245.516 2061.97,330.681 2082.24,592.343 2101.77,326.198 2120.61,421.758 2138.82,359.165 \n",
       "  2156.43,160.695 2173.48,275.794 2190.01,329.259 2206.04,282.931 2221.61,431.868 2236.74,172.661 2251.45,409.232 2265.77,512.271 2279.73,460.298 2293.32,392.558 \n",
       "  \n",
       "  \"/>\n",
       "<path clip-path=\"url(#clip122)\" d=\"M312.198 988.291 L300.886 983.603 L296.198 972.291 L300.886 960.979 L312.198 956.291 L323.51 960.979 L328.198 972.291 L323.51 983.603 Z\" fill=\"#009af9\" fill-rule=\"evenodd\" fill-opacity=\"1\" stroke=\"#000000\" stroke-opacity=\"1\" stroke-width=\"3.2\"/>\n",
       "<path clip-path=\"url(#clip122)\" d=\"M684.455 1417.45 L673.143 1412.77 L668.455 1401.45 L673.143 1390.14 L684.455 1385.45 L695.767 1390.14 L700.455 1401.45 L695.767 1412.77 Z\" fill=\"#009af9\" fill-rule=\"evenodd\" fill-opacity=\"1\" stroke=\"#000000\" stroke-opacity=\"1\" stroke-width=\"3.2\"/>\n",
       "<path clip-path=\"url(#clip122)\" d=\"M902.211 743.092 L890.899 738.404 L886.211 727.092 L890.899 715.78 L902.211 711.092 L913.523 715.78 L918.211 727.092 L913.523 738.404 Z\" fill=\"#009af9\" fill-rule=\"evenodd\" fill-opacity=\"1\" stroke=\"#000000\" stroke-opacity=\"1\" stroke-width=\"3.2\"/>\n",
       "<path clip-path=\"url(#clip122)\" d=\"M1056.71 1257.03 L1045.4 1252.35 L1040.71 1241.03 L1045.4 1229.72 L1056.71 1225.03 L1068.02 1229.72 L1072.71 1241.03 L1068.02 1252.35 Z\" fill=\"#009af9\" fill-rule=\"evenodd\" fill-opacity=\"1\" stroke=\"#000000\" stroke-opacity=\"1\" stroke-width=\"3.2\"/>\n",
       "<path clip-path=\"url(#clip122)\" d=\"M1176.55 1216.97 L1165.24 1212.29 L1160.55 1200.97 L1165.24 1189.66 L1176.55 1184.97 L1187.86 1189.66 L1192.55 1200.97 L1187.86 1212.29 Z\" fill=\"#009af9\" fill-rule=\"evenodd\" fill-opacity=\"1\" stroke=\"#000000\" stroke-opacity=\"1\" stroke-width=\"3.2\"/>\n",
       "<path clip-path=\"url(#clip122)\" d=\"M1274.47 1112.31 L1263.16 1107.62 L1258.47 1096.31 L1263.16 1085 L1274.47 1080.31 L1285.78 1085 L1290.47 1096.31 L1285.78 1107.62 Z\" fill=\"#009af9\" fill-rule=\"evenodd\" fill-opacity=\"1\" stroke=\"#000000\" stroke-opacity=\"1\" stroke-width=\"3.2\"/>\n",
       "<path clip-path=\"url(#clip122)\" d=\"M1357.25 1079.37 L1345.94 1074.69 L1341.25 1063.37 L1345.94 1052.06 L1357.25 1047.37 L1368.57 1052.06 L1373.25 1063.37 L1368.57 1074.69 Z\" fill=\"#009af9\" fill-rule=\"evenodd\" fill-opacity=\"1\" stroke=\"#000000\" stroke-opacity=\"1\" stroke-width=\"3.2\"/>\n",
       "<path clip-path=\"url(#clip122)\" d=\"M1428.97 1053.22 L1417.66 1048.54 L1412.97 1037.22 L1417.66 1025.91 L1428.97 1021.22 L1440.28 1025.91 L1444.97 1037.22 L1440.28 1048.54 Z\" fill=\"#009af9\" fill-rule=\"evenodd\" fill-opacity=\"1\" stroke=\"#000000\" stroke-opacity=\"1\" stroke-width=\"3.2\"/>\n",
       "<path clip-path=\"url(#clip122)\" d=\"M1492.22 972.697 L1480.91 968.009 L1476.22 956.697 L1480.91 945.385 L1492.22 940.697 L1503.54 945.385 L1508.22 956.697 L1503.54 968.009 Z\" fill=\"#009af9\" fill-rule=\"evenodd\" fill-opacity=\"1\" stroke=\"#000000\" stroke-opacity=\"1\" stroke-width=\"3.2\"/>\n",
       "<path clip-path=\"url(#clip122)\" d=\"M1548.81 988.291 L1537.5 983.603 L1532.81 972.291 L1537.5 960.979 L1548.81 956.291 L1560.12 960.979 L1564.81 972.291 L1560.12 983.603 Z\" fill=\"#009af9\" fill-rule=\"evenodd\" fill-opacity=\"1\" stroke=\"#000000\" stroke-opacity=\"1\" stroke-width=\"3.2\"/>\n",
       "<path clip-path=\"url(#clip122)\" d=\"M1599.99 883.519 L1588.68 878.831 L1583.99 867.519 L1588.68 856.207 L1599.99 851.519 L1611.31 856.207 L1615.99 867.519 L1611.31 878.831 Z\" fill=\"#009af9\" fill-rule=\"evenodd\" fill-opacity=\"1\" stroke=\"#000000\" stroke-opacity=\"1\" stroke-width=\"3.2\"/>\n",
       "<path clip-path=\"url(#clip122)\" d=\"M1646.72 644.286 L1635.41 639.598 L1630.72 628.286 L1635.41 616.974 L1646.72 612.286 L1658.04 616.974 L1662.72 628.286 L1658.04 639.598 Z\" fill=\"#009af9\" fill-rule=\"evenodd\" fill-opacity=\"1\" stroke=\"#000000\" stroke-opacity=\"1\" stroke-width=\"3.2\"/>\n",
       "<path clip-path=\"url(#clip122)\" d=\"M1689.71 844.893 L1678.4 840.205 L1673.71 828.893 L1678.4 817.581 L1689.71 812.893 L1701.02 817.581 L1705.71 828.893 L1701.02 840.205 Z\" fill=\"#009af9\" fill-rule=\"evenodd\" fill-opacity=\"1\" stroke=\"#000000\" stroke-opacity=\"1\" stroke-width=\"3.2\"/>\n",
       "<path clip-path=\"url(#clip122)\" d=\"M1729.51 842.814 L1718.2 838.126 L1713.51 826.814 L1718.2 815.502 L1729.51 810.814 L1740.82 815.502 L1745.51 826.814 L1740.82 838.126 Z\" fill=\"#009af9\" fill-rule=\"evenodd\" fill-opacity=\"1\" stroke=\"#000000\" stroke-opacity=\"1\" stroke-width=\"3.2\"/>\n",
       "<path clip-path=\"url(#clip122)\" d=\"M1766.56 863.102 L1755.25 858.414 L1750.56 847.102 L1755.25 835.79 L1766.56 831.102 L1777.88 835.79 L1782.56 847.102 L1777.88 858.414 Z\" fill=\"#009af9\" fill-rule=\"evenodd\" fill-opacity=\"1\" stroke=\"#000000\" stroke-opacity=\"1\" stroke-width=\"3.2\"/>\n",
       "<path clip-path=\"url(#clip122)\" d=\"M1801.23 712.89 L1789.91 708.202 L1785.23 696.89 L1789.91 685.578 L1801.23 680.89 L1812.54 685.578 L1817.23 696.89 L1812.54 708.202 Z\" fill=\"#009af9\" fill-rule=\"evenodd\" fill-opacity=\"1\" stroke=\"#000000\" stroke-opacity=\"1\" stroke-width=\"3.2\"/>\n",
       "<path clip-path=\"url(#clip122)\" d=\"M1833.78 421.356 L1822.47 416.668 L1817.78 405.356 L1822.47 394.044 L1833.78 389.356 L1845.1 394.044 L1849.78 405.356 L1845.1 416.668 Z\" fill=\"#009af9\" fill-rule=\"evenodd\" fill-opacity=\"1\" stroke=\"#000000\" stroke-opacity=\"1\" stroke-width=\"3.2\"/>\n",
       "<path clip-path=\"url(#clip122)\" d=\"M1864.48 534.021 L1853.17 529.333 L1848.48 518.021 L1853.17 506.709 L1864.48 502.021 L1875.79 506.709 L1880.48 518.021 L1875.79 529.333 Z\" fill=\"#009af9\" fill-rule=\"evenodd\" fill-opacity=\"1\" stroke=\"#000000\" stroke-opacity=\"1\" stroke-width=\"3.2\"/>\n",
       "<path clip-path=\"url(#clip122)\" d=\"M1893.52 516.664 L1882.21 511.976 L1877.52 500.664 L1882.21 489.352 L1893.52 484.664 L1904.83 489.352 L1909.52 500.664 L1904.83 511.976 Z\" fill=\"#009af9\" fill-rule=\"evenodd\" fill-opacity=\"1\" stroke=\"#000000\" stroke-opacity=\"1\" stroke-width=\"3.2\"/>\n",
       "<path clip-path=\"url(#clip122)\" d=\"M1921.07 476.647 L1909.75 471.959 L1905.07 460.647 L1909.75 449.335 L1921.07 444.647 L1932.38 449.335 L1937.07 460.647 L1932.38 471.959 Z\" fill=\"#009af9\" fill-rule=\"evenodd\" fill-opacity=\"1\" stroke=\"#000000\" stroke-opacity=\"1\" stroke-width=\"3.2\"/>\n",
       "<path clip-path=\"url(#clip122)\" d=\"M1947.27 442.459 L1935.96 437.771 L1931.27 426.459 L1935.96 415.147 L1947.27 410.459 L1958.58 415.147 L1963.27 426.459 L1958.58 437.771 Z\" fill=\"#009af9\" fill-rule=\"evenodd\" fill-opacity=\"1\" stroke=\"#000000\" stroke-opacity=\"1\" stroke-width=\"3.2\"/>\n",
       "<path clip-path=\"url(#clip122)\" d=\"M1972.25 336.39 L1960.94 331.702 L1956.25 320.39 L1960.94 309.078 L1972.25 304.39 L1983.56 309.078 L1988.25 320.39 L1983.56 331.702 Z\" fill=\"#009af9\" fill-rule=\"evenodd\" fill-opacity=\"1\" stroke=\"#000000\" stroke-opacity=\"1\" stroke-width=\"3.2\"/>\n",
       "<path clip-path=\"url(#clip122)\" d=\"M1996.12 362.733 L1984.81 358.045 L1980.12 346.733 L1984.81 335.421 L1996.12 330.733 L2007.44 335.421 L2012.12 346.733 L2007.44 358.045 Z\" fill=\"#009af9\" fill-rule=\"evenodd\" fill-opacity=\"1\" stroke=\"#000000\" stroke-opacity=\"1\" stroke-width=\"3.2\"/>\n",
       "<path clip-path=\"url(#clip122)\" d=\"M2018.98 390.229 L2007.67 385.541 L2002.98 374.229 L2007.67 362.917 L2018.98 358.229 L2030.29 362.917 L2034.98 374.229 L2030.29 385.541 Z\" fill=\"#009af9\" fill-rule=\"evenodd\" fill-opacity=\"1\" stroke=\"#000000\" stroke-opacity=\"1\" stroke-width=\"3.2\"/>\n",
       "<path clip-path=\"url(#clip122)\" d=\"M2040.91 261.516 L2029.59 256.828 L2024.91 245.516 L2029.59 234.204 L2040.91 229.516 L2052.22 234.204 L2056.91 245.516 L2052.22 256.828 Z\" fill=\"#009af9\" fill-rule=\"evenodd\" fill-opacity=\"1\" stroke=\"#000000\" stroke-opacity=\"1\" stroke-width=\"3.2\"/>\n",
       "<path clip-path=\"url(#clip122)\" d=\"M2061.97 346.681 L2050.66 341.993 L2045.97 330.681 L2050.66 319.369 L2061.97 314.681 L2073.28 319.369 L2077.97 330.681 L2073.28 341.993 Z\" fill=\"#009af9\" fill-rule=\"evenodd\" fill-opacity=\"1\" stroke=\"#000000\" stroke-opacity=\"1\" stroke-width=\"3.2\"/>\n",
       "<path clip-path=\"url(#clip122)\" d=\"M2082.24 608.343 L2070.93 603.655 L2066.24 592.343 L2070.93 581.031 L2082.24 576.343 L2093.55 581.031 L2098.24 592.343 L2093.55 603.655 Z\" fill=\"#009af9\" fill-rule=\"evenodd\" fill-opacity=\"1\" stroke=\"#000000\" stroke-opacity=\"1\" stroke-width=\"3.2\"/>\n",
       "<path clip-path=\"url(#clip122)\" d=\"M2101.77 342.198 L2090.46 337.51 L2085.77 326.198 L2090.46 314.886 L2101.77 310.198 L2113.08 314.886 L2117.77 326.198 L2113.08 337.51 Z\" fill=\"#009af9\" fill-rule=\"evenodd\" fill-opacity=\"1\" stroke=\"#000000\" stroke-opacity=\"1\" stroke-width=\"3.2\"/>\n",
       "<path clip-path=\"url(#clip122)\" d=\"M2120.61 437.758 L2109.3 433.07 L2104.61 421.758 L2109.3 410.446 L2120.61 405.758 L2131.93 410.446 L2136.61 421.758 L2131.93 433.07 Z\" fill=\"#009af9\" fill-rule=\"evenodd\" fill-opacity=\"1\" stroke=\"#000000\" stroke-opacity=\"1\" stroke-width=\"3.2\"/>\n",
       "<path clip-path=\"url(#clip122)\" d=\"M2138.82 375.165 L2127.51 370.477 L2122.82 359.165 L2127.51 347.853 L2138.82 343.165 L2150.13 347.853 L2154.82 359.165 L2150.13 370.477 Z\" fill=\"#009af9\" fill-rule=\"evenodd\" fill-opacity=\"1\" stroke=\"#000000\" stroke-opacity=\"1\" stroke-width=\"3.2\"/>\n",
       "<path clip-path=\"url(#clip122)\" d=\"M2156.43 176.695 L2145.12 172.007 L2140.43 160.695 L2145.12 149.383 L2156.43 144.695 L2167.74 149.383 L2172.43 160.695 L2167.74 172.007 Z\" fill=\"#009af9\" fill-rule=\"evenodd\" fill-opacity=\"1\" stroke=\"#000000\" stroke-opacity=\"1\" stroke-width=\"3.2\"/>\n",
       "<path clip-path=\"url(#clip122)\" d=\"M2173.48 291.794 L2162.17 287.106 L2157.48 275.794 L2162.17 264.482 L2173.48 259.794 L2184.79 264.482 L2189.48 275.794 L2184.79 287.106 Z\" fill=\"#009af9\" fill-rule=\"evenodd\" fill-opacity=\"1\" stroke=\"#000000\" stroke-opacity=\"1\" stroke-width=\"3.2\"/>\n",
       "<path clip-path=\"url(#clip122)\" d=\"M2190.01 345.259 L2178.7 340.571 L2174.01 329.259 L2178.7 317.947 L2190.01 313.259 L2201.32 317.947 L2206.01 329.259 L2201.32 340.571 Z\" fill=\"#009af9\" fill-rule=\"evenodd\" fill-opacity=\"1\" stroke=\"#000000\" stroke-opacity=\"1\" stroke-width=\"3.2\"/>\n",
       "<path clip-path=\"url(#clip122)\" d=\"M2206.04 298.931 L2194.73 294.243 L2190.04 282.931 L2194.73 271.619 L2206.04 266.931 L2217.35 271.619 L2222.04 282.931 L2217.35 294.243 Z\" fill=\"#009af9\" fill-rule=\"evenodd\" fill-opacity=\"1\" stroke=\"#000000\" stroke-opacity=\"1\" stroke-width=\"3.2\"/>\n",
       "<path clip-path=\"url(#clip122)\" d=\"M2221.61 447.868 L2210.3 443.18 L2205.61 431.868 L2210.3 420.556 L2221.61 415.868 L2232.92 420.556 L2237.61 431.868 L2232.92 443.18 Z\" fill=\"#009af9\" fill-rule=\"evenodd\" fill-opacity=\"1\" stroke=\"#000000\" stroke-opacity=\"1\" stroke-width=\"3.2\"/>\n",
       "<path clip-path=\"url(#clip122)\" d=\"M2236.74 188.661 L2225.43 183.973 L2220.74 172.661 L2225.43 161.349 L2236.74 156.661 L2248.05 161.349 L2252.74 172.661 L2248.05 183.973 Z\" fill=\"#009af9\" fill-rule=\"evenodd\" fill-opacity=\"1\" stroke=\"#000000\" stroke-opacity=\"1\" stroke-width=\"3.2\"/>\n",
       "<path clip-path=\"url(#clip122)\" d=\"M2251.45 425.232 L2240.14 420.544 L2235.45 409.232 L2240.14 397.92 L2251.45 393.232 L2262.76 397.92 L2267.45 409.232 L2262.76 420.544 Z\" fill=\"#009af9\" fill-rule=\"evenodd\" fill-opacity=\"1\" stroke=\"#000000\" stroke-opacity=\"1\" stroke-width=\"3.2\"/>\n",
       "<path clip-path=\"url(#clip122)\" d=\"M2265.77 528.271 L2254.46 523.583 L2249.77 512.271 L2254.46 500.959 L2265.77 496.271 L2277.09 500.959 L2281.77 512.271 L2277.09 523.583 Z\" fill=\"#009af9\" fill-rule=\"evenodd\" fill-opacity=\"1\" stroke=\"#000000\" stroke-opacity=\"1\" stroke-width=\"3.2\"/>\n",
       "<path clip-path=\"url(#clip122)\" d=\"M2279.73 476.298 L2268.41 471.61 L2263.73 460.298 L2268.41 448.986 L2279.73 444.298 L2291.04 448.986 L2295.73 460.298 L2291.04 471.61 Z\" fill=\"#009af9\" fill-rule=\"evenodd\" fill-opacity=\"1\" stroke=\"#000000\" stroke-opacity=\"1\" stroke-width=\"3.2\"/>\n",
       "<path clip-path=\"url(#clip122)\" d=\"M2293.32 408.558 L2282.01 403.87 L2277.32 392.558 L2282.01 381.246 L2293.32 376.558 L2304.63 381.246 L2309.32 392.558 L2304.63 403.87 Z\" fill=\"#009af9\" fill-rule=\"evenodd\" fill-opacity=\"1\" stroke=\"#000000\" stroke-opacity=\"1\" stroke-width=\"3.2\"/>\n",
       "</svg>\n"
      ]
     },
     "execution_count": 7,
     "metadata": {},
     "output_type": "execute_result"
    }
   ],
   "source": [
    "plot(vect_sizes,dps,m=:o,\n",
    "    xaxis=(:log10,\"\\$n\\$\"),yaxis=(:log10,\"elapsed time (sec)\"),\n",
    "    title=\"Timing of dot product algorithm.\",label=\"data\",leg=false)"
   ]
  },
  {
   "cell_type": "markdown",
   "metadata": {
    "slideshow": {
     "slide_type": "slide"
    }
   },
   "source": [
    "Note that this is a log-log plot! Why do we use a log-log plot? Let's think about this for a moment. Suppose that the scaling is given by a **power law**, that is, suppose that $f(n) = Cn^p$ tells us how the amount of work required scales with the size of the problem. Then if we take the $\\log$ of both sides we have that \n",
    "\n",
    "$\\log(f(n)) = \\log(Cn^p) = \\log(C) + p\\log(n)$. \n",
    "\n",
    "In this last equation, we see that $\\log(f(n))$ is a linear function of $\\log(n)$ and the slope of the linear equation is the exponent $p$. "
   ]
  },
  {
   "cell_type": "markdown",
   "metadata": {
    "slideshow": {
     "slide_type": "slide"
    }
   },
   "source": [
    "Furthermore, choose any fixed value $n_{0}$, then we have that \n",
    "\n",
    "$\\frac{f(n)}{f(n_{0})} = \\frac{Cn^p}{Cn_{0}^{p}} = \\left(\\frac{n}{n_0}\\right)^p$\n",
    "\n",
    "and thus, $f(n) = f(n_{0})\\left(\\frac{n}{n_0}\\right)^p$. "
   ]
  },
  {
   "cell_type": "markdown",
   "metadata": {
    "slideshow": {
     "slide_type": "slide"
    }
   },
   "source": [
    "Let's add the line that corresponds to the $\\log$ of both sides of the last equation to our previous plot."
   ]
  },
  {
   "cell_type": "code",
   "execution_count": 8,
   "metadata": {
    "slideshow": {
     "slide_type": "slide"
    }
   },
   "outputs": [
    {
     "data": {
      "image/svg+xml": [
       "<?xml version=\"1.0\" encoding=\"utf-8\"?>\n",
       "<svg xmlns=\"http://www.w3.org/2000/svg\" xmlns:xlink=\"http://www.w3.org/1999/xlink\" width=\"600\" height=\"400\" viewBox=\"0 0 2400 1600\">\n",
       "<defs>\n",
       "  <clipPath id=\"clip980\">\n",
       "    <rect x=\"0\" y=\"0\" width=\"2400\" height=\"1600\"/>\n",
       "  </clipPath>\n",
       "</defs>\n",
       "<path clip-path=\"url(#clip980)\" d=\"\n",
       "M0 1600 L2400 1600 L2400 0 L0 0  Z\n",
       "  \" fill=\"#ffffff\" fill-rule=\"evenodd\" fill-opacity=\"1\"/>\n",
       "<defs>\n",
       "  <clipPath id=\"clip981\">\n",
       "    <rect x=\"480\" y=\"0\" width=\"1681\" height=\"1600\"/>\n",
       "  </clipPath>\n",
       "</defs>\n",
       "<defs>\n",
       "  <clipPath id=\"clip982\">\n",
       "    <rect x=\"252\" y=\"123\" width=\"2101\" height=\"1316\"/>\n",
       "  </clipPath>\n",
       "</defs>\n",
       "<path clip-path=\"url(#clip980)\" d=\"\n",
       "M252.764 1438.68 L2352.76 1438.68 L2352.76 123.472 L252.764 123.472  Z\n",
       "  \" fill=\"#ffffff\" fill-rule=\"evenodd\" fill-opacity=\"1\"/>\n",
       "<polyline clip-path=\"url(#clip982)\" style=\"stroke:#000000; stroke-linecap:butt; stroke-linejoin:round; stroke-width:2; stroke-opacity:0.1; fill:none\" points=\"\n",
       "  804.295,1438.68 804.295,123.472 \n",
       "  \"/>\n",
       "<polyline clip-path=\"url(#clip982)\" style=\"stroke:#000000; stroke-linecap:butt; stroke-linejoin:round; stroke-width:2; stroke-opacity:0.1; fill:none\" points=\"\n",
       "  2040.91,1438.68 2040.91,123.472 \n",
       "  \"/>\n",
       "<polyline clip-path=\"url(#clip980)\" style=\"stroke:#000000; stroke-linecap:butt; stroke-linejoin:round; stroke-width:4; stroke-opacity:1; fill:none\" points=\"\n",
       "  252.764,1438.68 2352.76,1438.68 \n",
       "  \"/>\n",
       "<polyline clip-path=\"url(#clip980)\" style=\"stroke:#000000; stroke-linecap:butt; stroke-linejoin:round; stroke-width:4; stroke-opacity:1; fill:none\" points=\"\n",
       "  804.295,1438.68 804.295,1422.89 \n",
       "  \"/>\n",
       "<polyline clip-path=\"url(#clip980)\" style=\"stroke:#000000; stroke-linecap:butt; stroke-linejoin:round; stroke-width:4; stroke-opacity:1; fill:none\" points=\"\n",
       "  2040.91,1438.68 2040.91,1422.89 \n",
       "  \"/>\n",
       "<path clip-path=\"url(#clip980)\" d=\"M769.738 1516.95 L777.377 1516.95 L777.377 1490.58 L769.067 1492.25 L769.067 1487.99 L777.331 1486.32 L782.007 1486.32 L782.007 1516.95 L789.645 1516.95 L789.645 1520.88 L769.738 1520.88 L769.738 1516.95 Z\" fill=\"#000000\" fill-rule=\"evenodd\" fill-opacity=\"1\" /><path clip-path=\"url(#clip980)\" d=\"M809.09 1489.4 Q805.479 1489.4 803.65 1492.97 Q801.844 1496.51 801.844 1503.64 Q801.844 1510.75 803.65 1514.31 Q805.479 1517.85 809.09 1517.85 Q812.724 1517.85 814.53 1514.31 Q816.358 1510.75 816.358 1503.64 Q816.358 1496.51 814.53 1492.97 Q812.724 1489.4 809.09 1489.4 M809.09 1485.7 Q814.9 1485.7 817.955 1490.31 Q821.034 1494.89 821.034 1503.64 Q821.034 1512.37 817.955 1516.97 Q814.9 1521.56 809.09 1521.56 Q803.28 1521.56 800.201 1516.97 Q797.145 1512.37 797.145 1503.64 Q797.145 1494.89 800.201 1490.31 Q803.28 1485.7 809.09 1485.7 Z\" fill=\"#000000\" fill-rule=\"evenodd\" fill-opacity=\"1\" /><path clip-path=\"url(#clip980)\" d=\"M833.729 1478.33 Q836.457 1478.92 837.98 1480.76 Q839.522 1482.6 839.522 1485.31 Q839.522 1489.47 836.663 1491.74 Q833.805 1494.02 828.538 1494.02 Q826.771 1494.02 824.89 1493.66 Q823.028 1493.32 821.034 1492.63 L821.034 1488.96 Q822.614 1489.88 824.495 1490.35 Q826.376 1490.82 828.426 1490.82 Q831.999 1490.82 833.861 1489.41 Q835.742 1488 835.742 1485.31 Q835.742 1482.83 833.993 1481.44 Q832.262 1480.03 829.159 1480.03 L825.887 1480.03 L825.887 1476.9 L829.31 1476.9 Q832.112 1476.9 833.598 1475.79 Q835.084 1474.67 835.084 1472.56 Q835.084 1470.4 833.541 1469.25 Q832.018 1468.08 829.159 1468.08 Q827.598 1468.08 825.811 1468.42 Q824.025 1468.76 821.881 1469.48 L821.881 1466.09 Q824.043 1465.49 825.924 1465.19 Q827.824 1464.89 829.498 1464.89 Q833.823 1464.89 836.344 1466.86 Q838.864 1468.82 838.864 1472.16 Q838.864 1474.5 837.529 1476.11 Q836.193 1477.71 833.729 1478.33 Z\" fill=\"#000000\" fill-rule=\"evenodd\" fill-opacity=\"1\" /><path clip-path=\"url(#clip980)\" d=\"M2005.36 1516.95 L2013 1516.95 L2013 1490.58 L2004.69 1492.25 L2004.69 1487.99 L2012.95 1486.32 L2017.63 1486.32 L2017.63 1516.95 L2025.27 1516.95 L2025.27 1520.88 L2005.36 1520.88 L2005.36 1516.95 Z\" fill=\"#000000\" fill-rule=\"evenodd\" fill-opacity=\"1\" /><path clip-path=\"url(#clip980)\" d=\"M2044.71 1489.4 Q2041.1 1489.4 2039.27 1492.97 Q2037.47 1496.51 2037.47 1503.64 Q2037.47 1510.75 2039.27 1514.31 Q2041.1 1517.85 2044.71 1517.85 Q2048.35 1517.85 2050.15 1514.31 Q2051.98 1510.75 2051.98 1503.64 Q2051.98 1496.51 2050.15 1492.97 Q2048.35 1489.4 2044.71 1489.4 M2044.71 1485.7 Q2050.52 1485.7 2053.58 1490.31 Q2056.66 1494.89 2056.66 1503.64 Q2056.66 1512.37 2053.58 1516.97 Q2050.52 1521.56 2044.71 1521.56 Q2038.9 1521.56 2035.82 1516.97 Q2032.77 1512.37 2032.77 1503.64 Q2032.77 1494.89 2035.82 1490.31 Q2038.9 1485.7 2044.71 1485.7 Z\" fill=\"#000000\" fill-rule=\"evenodd\" fill-opacity=\"1\" /><path clip-path=\"url(#clip980)\" d=\"M2069.33 1468.7 L2059.74 1483.69 L2069.33 1483.69 L2069.33 1468.7 M2068.34 1465.39 L2073.11 1465.39 L2073.11 1483.69 L2077.12 1483.69 L2077.12 1486.85 L2073.11 1486.85 L2073.11 1493.47 L2069.33 1493.47 L2069.33 1486.85 L2056.66 1486.85 L2056.66 1483.19 L2068.34 1465.39 Z\" fill=\"#000000\" fill-rule=\"evenodd\" fill-opacity=\"1\" /><path clip-path=\"url(#clip980)\" d=\"M1318.92 1561.42 Q1318.92 1561.68 1318.63 1562.68 Q1318.34 1563.67 1317.63 1565.22 Q1316.96 1566.77 1316.02 1568.18 Q1315.09 1569.57 1313.54 1570.6 Q1312.03 1571.6 1310.29 1571.6 Q1307.97 1571.6 1306.43 1570.05 Q1304.88 1568.5 1304.88 1566.19 Q1304.88 1564.9 1305.56 1563.13 Q1309.84 1551.69 1309.84 1547.76 Q1309.84 1543.16 1306.27 1543.16 Q1304.49 1543.16 1302.82 1543.84 Q1301.18 1544.48 1300.05 1545.38 Q1298.92 1546.28 1297.89 1547.54 Q1296.89 1548.76 1296.38 1549.6 Q1295.9 1550.41 1295.51 1551.21 L1294.67 1554.5 Q1294.48 1555.4 1293.54 1558.91 L1292.1 1564.87 Q1291.06 1569.31 1290.84 1569.73 Q1290.52 1570.63 1289.81 1571.11 Q1289.1 1571.6 1288.39 1571.6 Q1287.59 1571.6 1287.04 1571.11 Q1286.49 1570.63 1286.49 1569.79 Q1286.49 1569.66 1286.59 1569.18 Q1286.68 1568.7 1286.85 1568.02 Q1287.01 1567.35 1287.07 1566.96 L1290.9 1551.73 Q1291.61 1548.96 1291.77 1548.09 Q1291.97 1547.18 1291.97 1546.19 Q1291.97 1543.16 1289.91 1543.16 Q1288.23 1543.16 1287.14 1545.16 Q1286.04 1547.15 1285.11 1551.02 Q1284.82 1552.08 1284.62 1552.31 Q1284.46 1552.53 1283.98 1552.53 Q1283.17 1552.5 1283.17 1551.85 Q1283.17 1551.69 1283.43 1550.63 Q1283.69 1549.57 1284.17 1548.05 Q1284.69 1546.51 1285.17 1545.48 Q1285.59 1544.7 1285.82 1544.35 Q1286.07 1543.96 1286.68 1543.22 Q1287.33 1542.45 1288.17 1542.1 Q1289.04 1541.71 1290.1 1541.71 Q1292.48 1541.71 1294.22 1543.26 Q1295.96 1544.77 1296.19 1547.44 Q1300.47 1541.71 1306.46 1541.71 Q1310 1541.71 1312.03 1543.58 Q1314.06 1545.45 1314.06 1548.76 Q1314.06 1549.54 1313.9 1550.53 Q1313.77 1551.5 1313.45 1552.72 Q1313.16 1553.95 1312.9 1554.88 Q1312.64 1555.82 1312.13 1557.33 Q1311.61 1558.81 1311.39 1559.46 Q1311.16 1560.1 1310.61 1561.61 Q1310.1 1563.09 1310.03 1563.26 Q1308.84 1566.25 1308.84 1567.96 Q1308.84 1569.08 1309.2 1569.6 Q1309.58 1570.12 1310.42 1570.12 Q1312.67 1570.12 1314.35 1567.89 Q1316.06 1565.64 1317.15 1561.97 Q1317.41 1561.16 1317.54 1560.97 Q1317.7 1560.78 1318.15 1560.78 Q1318.92 1560.78 1318.92 1561.42 Z\" fill=\"#000000\" fill-rule=\"evenodd\" fill-opacity=\"1\" /><polyline clip-path=\"url(#clip982)\" style=\"stroke:#000000; stroke-linecap:butt; stroke-linejoin:round; stroke-width:2; stroke-opacity:0.1; fill:none\" points=\"\n",
       "  252.764,1104.68 2352.76,1104.68 \n",
       "  \"/>\n",
       "<polyline clip-path=\"url(#clip982)\" style=\"stroke:#000000; stroke-linecap:butt; stroke-linejoin:round; stroke-width:2; stroke-opacity:0.1; fill:none\" points=\"\n",
       "  252.764,330.198 2352.76,330.198 \n",
       "  \"/>\n",
       "<polyline clip-path=\"url(#clip980)\" style=\"stroke:#000000; stroke-linecap:butt; stroke-linejoin:round; stroke-width:4; stroke-opacity:1; fill:none\" points=\"\n",
       "  252.764,1438.68 252.764,123.472 \n",
       "  \"/>\n",
       "<polyline clip-path=\"url(#clip980)\" style=\"stroke:#000000; stroke-linecap:butt; stroke-linejoin:round; stroke-width:4; stroke-opacity:1; fill:none\" points=\"\n",
       "  252.764,1104.68 277.964,1104.68 \n",
       "  \"/>\n",
       "<polyline clip-path=\"url(#clip980)\" style=\"stroke:#000000; stroke-linecap:butt; stroke-linejoin:round; stroke-width:4; stroke-opacity:1; fill:none\" points=\"\n",
       "  252.764,330.198 277.964,330.198 \n",
       "  \"/>\n",
       "<path clip-path=\"url(#clip980)\" d=\"M116.135 1124.47 L123.774 1124.47 L123.774 1098.1 L115.464 1099.77 L115.464 1095.51 L123.728 1093.84 L128.404 1093.84 L128.404 1124.47 L136.042 1124.47 L136.042 1128.4 L116.135 1128.4 L116.135 1124.47 Z\" fill=\"#000000\" fill-rule=\"evenodd\" fill-opacity=\"1\" /><path clip-path=\"url(#clip980)\" d=\"M155.487 1096.92 Q151.876 1096.92 150.047 1100.49 Q148.241 1104.03 148.241 1111.16 Q148.241 1118.26 150.047 1121.83 Q151.876 1125.37 155.487 1125.37 Q159.121 1125.37 160.927 1121.83 Q162.755 1118.26 162.755 1111.16 Q162.755 1104.03 160.927 1100.49 Q159.121 1096.92 155.487 1096.92 M155.487 1093.22 Q161.297 1093.22 164.352 1097.82 Q167.431 1102.41 167.431 1111.16 Q167.431 1119.88 164.352 1124.49 Q161.297 1129.07 155.487 1129.07 Q149.677 1129.07 146.598 1124.49 Q143.542 1119.88 143.542 1111.16 Q143.542 1102.41 146.598 1097.82 Q149.677 1093.22 155.487 1093.22 Z\" fill=\"#000000\" fill-rule=\"evenodd\" fill-opacity=\"1\" /><path clip-path=\"url(#clip980)\" d=\"M167.431 1087.32 L191.543 1087.32 L191.543 1090.52 L167.431 1090.52 L167.431 1087.32 Z\" fill=\"#000000\" fill-rule=\"evenodd\" fill-opacity=\"1\" /><path clip-path=\"url(#clip980)\" d=\"M199.781 1072.91 L214.695 1072.91 L214.695 1076.11 L203.26 1076.11 L203.26 1082.99 Q204.088 1082.71 204.915 1082.58 Q205.743 1082.43 206.57 1082.43 Q211.272 1082.43 214.018 1085.01 Q216.764 1087.58 216.764 1091.98 Q216.764 1096.52 213.943 1099.04 Q211.122 1101.54 205.987 1101.54 Q204.219 1101.54 202.376 1101.24 Q200.552 1100.94 198.596 1100.33 L198.596 1096.52 Q200.288 1097.44 202.094 1097.89 Q203.899 1098.34 205.912 1098.34 Q209.166 1098.34 211.065 1096.63 Q212.965 1094.92 212.965 1091.98 Q212.965 1089.05 211.065 1087.34 Q209.166 1085.63 205.912 1085.63 Q204.388 1085.63 202.865 1085.97 Q201.36 1086.3 199.781 1087.02 L199.781 1072.91 Z\" fill=\"#000000\" fill-rule=\"evenodd\" fill-opacity=\"1\" /><path clip-path=\"url(#clip980)\" d=\"M114.931 349.99 L122.57 349.99 L122.57 323.625 L114.26 325.291 L114.26 321.032 L122.524 319.365 L127.2 319.365 L127.2 349.99 L134.839 349.99 L134.839 353.925 L114.931 353.925 L114.931 349.99 Z\" fill=\"#000000\" fill-rule=\"evenodd\" fill-opacity=\"1\" /><path clip-path=\"url(#clip980)\" d=\"M154.283 322.444 Q150.672 322.444 148.843 326.009 Q147.038 329.551 147.038 336.68 Q147.038 343.787 148.843 347.351 Q150.672 350.893 154.283 350.893 Q157.917 350.893 159.723 347.351 Q161.552 343.787 161.552 336.68 Q161.552 329.551 159.723 326.009 Q157.917 322.444 154.283 322.444 M154.283 318.74 Q160.093 318.74 163.149 323.347 Q166.227 327.93 166.227 336.68 Q166.227 345.407 163.149 350.013 Q160.093 354.597 154.283 354.597 Q148.473 354.597 145.394 350.013 Q142.339 345.407 142.339 336.68 Q142.339 327.93 145.394 323.347 Q148.473 318.74 154.283 318.74 Z\" fill=\"#000000\" fill-rule=\"evenodd\" fill-opacity=\"1\" /><path clip-path=\"url(#clip980)\" d=\"M166.227 312.842 L190.339 312.842 L190.339 316.039 L166.227 316.039 L166.227 312.842 Z\" fill=\"#000000\" fill-rule=\"evenodd\" fill-opacity=\"1\" /><path clip-path=\"url(#clip980)\" d=\"M208.978 301.745 L199.386 316.735 L208.978 316.735 L208.978 301.745 M207.981 298.435 L212.758 298.435 L212.758 316.735 L216.764 316.735 L216.764 319.895 L212.758 319.895 L212.758 326.515 L208.978 326.515 L208.978 319.895 L196.301 319.895 L196.301 316.227 L207.981 298.435 Z\" fill=\"#000000\" fill-rule=\"evenodd\" fill-opacity=\"1\" /><path clip-path=\"url(#clip980)\" d=\"M44.7161 1045.67 L47.5806 1045.67 L47.5806 1072.59 Q53.6281 1072.21 56.8109 1068.96 Q59.9619 1065.69 59.9619 1059.86 Q59.9619 1056.49 59.1344 1053.34 Q58.3069 1050.15 56.6518 1047.03 L62.1899 1047.03 Q63.5267 1050.18 64.227 1053.5 Q64.9272 1056.81 64.9272 1060.21 Q64.9272 1068.74 59.9619 1073.74 Q54.9967 1078.7 46.5303 1078.7 Q37.7774 1078.7 32.6531 1073.99 Q27.4968 1069.25 27.4968 1061.23 Q27.4968 1054.04 32.1438 1049.87 Q36.7589 1045.67 44.7161 1045.67 M42.9973 1051.52 Q38.1912 1051.59 35.3266 1054.23 Q32.4621 1056.84 32.4621 1061.17 Q32.4621 1066.07 35.2312 1069.03 Q38.0002 1071.96 43.0292 1072.4 L42.9973 1051.52 Z\" fill=\"#000000\" fill-rule=\"evenodd\" fill-opacity=\"1\" /><path clip-path=\"url(#clip980)\" d=\"M14.479 1036.05 L14.479 1030.2 L64.0042 1030.2 L64.0042 1036.05 L14.479 1036.05 Z\" fill=\"#000000\" fill-rule=\"evenodd\" fill-opacity=\"1\" /><path clip-path=\"url(#clip980)\" d=\"M46.0847 1001.74 Q46.0847 1008.84 47.7079 1011.58 Q49.3312 1014.31 53.2461 1014.31 Q56.3653 1014.31 58.2114 1012.28 Q60.0256 1010.21 60.0256 1006.68 Q60.0256 1001.81 56.5881 998.877 Q53.1188 995.917 47.3897 995.917 L46.0847 995.917 L46.0847 1001.74 M43.6657 990.061 L64.0042 990.061 L64.0042 995.917 L58.5933 995.917 Q61.8398 997.922 63.3994 1000.91 Q64.9272 1003.91 64.9272 1008.23 Q64.9272 1013.71 61.8716 1016.96 Q58.7843 1020.17 53.6281 1020.17 Q47.6125 1020.17 44.5569 1016.16 Q41.5014 1012.12 41.5014 1004.13 L41.5014 995.917 L40.9285 995.917 Q36.8862 995.917 34.6901 998.591 Q32.4621 1001.23 32.4621 1006.04 Q32.4621 1009.09 33.1941 1011.99 Q33.9262 1014.89 35.3903 1017.56 L29.9795 1017.56 Q28.7381 1014.35 28.1334 1011.32 Q27.4968 1008.3 27.4968 1005.43 Q27.4968 997.7 31.5072 993.88 Q35.5176 990.061 43.6657 990.061 Z\" fill=\"#000000\" fill-rule=\"evenodd\" fill-opacity=\"1\" /><path clip-path=\"url(#clip980)\" d=\"M58.657 972.332 L77.5631 972.332 L77.5631 978.221 L28.3562 978.221 L28.3562 972.332 L33.7671 972.332 Q30.5842 970.486 29.0564 967.685 Q27.4968 964.853 27.4968 960.938 Q27.4968 954.445 32.6531 950.402 Q37.8093 946.328 46.212 946.328 Q54.6147 946.328 59.771 950.402 Q64.9272 954.445 64.9272 960.938 Q64.9272 964.853 63.3994 967.685 Q61.8398 970.486 58.657 972.332 M46.212 952.408 Q39.7508 952.408 36.0905 955.081 Q32.3984 957.723 32.3984 962.37 Q32.3984 967.017 36.0905 969.69 Q39.7508 972.332 46.212 972.332 Q52.6732 972.332 56.3653 969.69 Q60.0256 967.017 60.0256 962.37 Q60.0256 957.723 56.3653 955.081 Q52.6732 952.408 46.212 952.408 Z\" fill=\"#000000\" fill-rule=\"evenodd\" fill-opacity=\"1\" /><path clip-path=\"url(#clip980)\" d=\"M29.4065 913.895 L34.9447 913.895 Q33.6716 916.378 33.035 919.051 Q32.3984 921.725 32.3984 924.589 Q32.3984 928.95 33.7352 931.146 Q35.072 933.31 37.7456 933.31 Q39.7826 933.31 40.9603 931.751 Q42.1061 930.191 43.1565 925.481 L43.6021 923.475 Q44.9389 917.237 47.3897 914.627 Q49.8086 911.985 54.1691 911.985 Q59.1344 911.985 62.0308 915.932 Q64.9272 919.847 64.9272 926.722 Q64.9272 929.587 64.3543 932.706 Q63.8132 935.793 62.6992 939.231 L56.6518 939.231 Q58.3387 935.984 59.198 932.833 Q60.0256 929.682 60.0256 926.595 Q60.0256 922.457 58.6251 920.229 Q57.1929 918.001 54.6147 918.001 Q52.2276 918.001 50.9545 919.624 Q49.6813 921.216 48.5037 926.658 L48.0262 928.695 Q46.8804 934.138 44.5251 936.557 Q42.138 938.976 38.0002 938.976 Q32.9713 938.976 30.2341 935.411 Q27.4968 931.846 27.4968 925.29 Q27.4968 922.043 27.9743 919.179 Q28.4517 916.314 29.4065 913.895 Z\" fill=\"#000000\" fill-rule=\"evenodd\" fill-opacity=\"1\" /><path clip-path=\"url(#clip980)\" d=\"M44.7161 872.168 L47.5806 872.168 L47.5806 899.095 Q53.6281 898.713 56.8109 895.466 Q59.9619 892.188 59.9619 886.363 Q59.9619 882.99 59.1344 879.839 Q58.3069 876.656 56.6518 873.536 L62.1899 873.536 Q63.5267 876.688 64.227 879.998 Q64.9272 883.308 64.9272 886.713 Q64.9272 895.244 59.9619 900.241 Q54.9967 905.206 46.5303 905.206 Q37.7774 905.206 32.6531 900.495 Q27.4968 895.753 27.4968 887.732 Q27.4968 880.539 32.1438 876.369 Q36.7589 872.168 44.7161 872.168 M42.9973 878.024 Q38.1912 878.088 35.3266 880.73 Q32.4621 883.34 32.4621 887.668 Q32.4621 892.57 35.2312 895.53 Q38.0002 898.458 43.0292 898.904 L42.9973 878.024 Z\" fill=\"#000000\" fill-rule=\"evenodd\" fill-opacity=\"1\" /><path clip-path=\"url(#clip980)\" d=\"M33.7671 839.098 L14.479 839.098 L14.479 833.242 L64.0042 833.242 L64.0042 839.098 L58.657 839.098 Q61.8398 840.944 63.3994 843.777 Q64.9272 846.578 64.9272 850.524 Q64.9272 856.986 59.771 861.06 Q54.6147 865.102 46.212 865.102 Q37.8093 865.102 32.6531 861.06 Q27.4968 856.986 27.4968 850.524 Q27.4968 846.578 29.0564 843.777 Q30.5842 840.944 33.7671 839.098 M46.212 859.054 Q52.6732 859.054 56.3653 856.413 Q60.0256 853.739 60.0256 849.092 Q60.0256 844.445 56.3653 841.772 Q52.6732 839.098 46.212 839.098 Q39.7508 839.098 36.0905 841.772 Q32.3984 844.445 32.3984 849.092 Q32.3984 853.739 36.0905 856.413 Q39.7508 859.054 46.212 859.054 Z\" fill=\"#000000\" fill-rule=\"evenodd\" fill-opacity=\"1\" /><path clip-path=\"url(#clip980)\" d=\"M18.2347 794.665 L28.3562 794.665 L28.3562 782.602 L32.9077 782.602 L32.9077 794.665 L52.2594 794.665 Q56.6199 794.665 57.8613 793.488 Q59.1026 792.278 59.1026 788.618 L59.1026 782.602 L64.0042 782.602 L64.0042 788.618 Q64.0042 795.397 61.4897 797.976 Q58.9434 800.554 52.2594 800.554 L32.9077 800.554 L32.9077 804.851 L28.3562 804.851 L28.3562 800.554 L18.2347 800.554 L18.2347 794.665 Z\" fill=\"#000000\" fill-rule=\"evenodd\" fill-opacity=\"1\" /><path clip-path=\"url(#clip980)\" d=\"M28.3562 774.9 L28.3562 769.043 L64.0042 769.043 L64.0042 774.9 L28.3562 774.9 M14.479 774.9 L14.479 769.043 L21.895 769.043 L21.895 774.9 L14.479 774.9 Z\" fill=\"#000000\" fill-rule=\"evenodd\" fill-opacity=\"1\" /><path clip-path=\"url(#clip980)\" d=\"M35.1993 729.035 Q31.2526 726.839 29.3747 723.783 Q27.4968 720.728 27.4968 716.59 Q27.4968 711.02 31.4117 707.996 Q35.2948 704.973 42.4881 704.973 L64.0042 704.973 L64.0042 710.861 L42.679 710.861 Q37.5546 710.861 35.072 712.675 Q32.5894 714.489 32.5894 718.213 Q32.5894 722.765 35.6131 725.406 Q38.6368 728.048 43.8567 728.048 L64.0042 728.048 L64.0042 733.937 L42.679 733.937 Q37.5228 733.937 35.072 735.751 Q32.5894 737.565 32.5894 741.353 Q32.5894 745.84 35.6449 748.482 Q38.6686 751.124 43.8567 751.124 L64.0042 751.124 L64.0042 757.012 L28.3562 757.012 L28.3562 751.124 L33.8944 751.124 Q30.616 749.119 29.0564 746.318 Q27.4968 743.517 27.4968 739.666 Q27.4968 735.783 29.4702 733.077 Q31.4436 730.34 35.1993 729.035 Z\" fill=\"#000000\" fill-rule=\"evenodd\" fill-opacity=\"1\" /><path clip-path=\"url(#clip980)\" d=\"M44.7161 662.8 L47.5806 662.8 L47.5806 689.727 Q53.6281 689.345 56.8109 686.098 Q59.9619 682.82 59.9619 676.995 Q59.9619 673.621 59.1344 670.47 Q58.3069 667.288 56.6518 664.168 L62.1899 664.168 Q63.5267 667.319 64.227 670.63 Q64.9272 673.94 64.9272 677.345 Q64.9272 685.875 59.9619 690.873 Q54.9967 695.838 46.5303 695.838 Q37.7774 695.838 32.6531 691.127 Q27.4968 686.385 27.4968 678.364 Q27.4968 671.171 32.1438 667.001 Q36.7589 662.8 44.7161 662.8 M42.9973 668.656 Q38.1912 668.72 35.3266 671.362 Q32.4621 673.972 32.4621 678.3 Q32.4621 683.202 35.2312 686.162 Q38.0002 689.09 43.0292 689.536 L42.9973 668.656 Z\" fill=\"#000000\" fill-rule=\"evenodd\" fill-opacity=\"1\" /><path clip-path=\"url(#clip980)\" d=\"M14.5426 618.399 Q21.8632 622.664 29.0246 624.733 Q36.186 626.802 43.5384 626.802 Q50.8908 626.802 58.1159 624.733 Q65.3091 622.632 72.5979 618.399 L72.5979 623.492 Q65.1182 628.266 57.8931 630.653 Q50.668 633.008 43.5384 633.008 Q36.4406 633.008 29.2474 630.653 Q22.0542 628.298 14.5426 623.492 L14.5426 618.399 Z\" fill=\"#000000\" fill-rule=\"evenodd\" fill-opacity=\"1\" /><path clip-path=\"url(#clip980)\" d=\"M29.4065 584.311 L34.9447 584.311 Q33.6716 586.793 33.035 589.467 Q32.3984 592.14 32.3984 595.005 Q32.3984 599.365 33.7352 601.562 Q35.072 603.726 37.7456 603.726 Q39.7826 603.726 40.9603 602.166 Q42.1061 600.607 43.1565 595.896 L43.6021 593.891 Q44.9389 587.653 47.3897 585.043 Q49.8086 582.401 54.1691 582.401 Q59.1344 582.401 62.0308 586.348 Q64.9272 590.263 64.9272 597.137 Q64.9272 600.002 64.3543 603.121 Q63.8132 606.209 62.6992 609.646 L56.6518 609.646 Q58.3387 606.4 59.198 603.249 Q60.0256 600.098 60.0256 597.01 Q60.0256 592.872 58.6251 590.644 Q57.1929 588.416 54.6147 588.416 Q52.2276 588.416 50.9545 590.04 Q49.6813 591.631 48.5037 597.074 L48.0262 599.111 Q46.8804 604.554 44.5251 606.973 Q42.138 609.391 38.0002 609.391 Q32.9713 609.391 30.2341 605.827 Q27.4968 602.262 27.4968 595.705 Q27.4968 592.459 27.9743 589.594 Q28.4517 586.73 29.4065 584.311 Z\" fill=\"#000000\" fill-rule=\"evenodd\" fill-opacity=\"1\" /><path clip-path=\"url(#clip980)\" d=\"M44.7161 542.583 L47.5806 542.583 L47.5806 569.51 Q53.6281 569.128 56.8109 565.882 Q59.9619 562.604 59.9619 556.779 Q59.9619 553.405 59.1344 550.254 Q58.3069 547.071 56.6518 543.952 L62.1899 543.952 Q63.5267 547.103 64.227 550.413 Q64.9272 553.723 64.9272 557.129 Q64.9272 565.659 59.9619 570.656 Q54.9967 575.621 46.5303 575.621 Q37.7774 575.621 32.6531 570.911 Q27.4968 566.168 27.4968 558.148 Q27.4968 550.954 32.1438 546.785 Q36.7589 542.583 44.7161 542.583 M42.9973 548.44 Q38.1912 548.504 35.3266 551.145 Q32.4621 553.755 32.4621 558.084 Q32.4621 562.985 35.2312 565.946 Q38.0002 568.874 43.0292 569.319 L42.9973 548.44 Z\" fill=\"#000000\" fill-rule=\"evenodd\" fill-opacity=\"1\" /><path clip-path=\"url(#clip980)\" d=\"M29.7248 507.317 L35.1993 507.317 Q33.8307 509.8 33.1623 512.314 Q32.4621 514.797 32.4621 517.343 Q32.4621 523.041 36.0905 526.192 Q39.6872 529.343 46.212 529.343 Q52.7369 529.343 56.3653 526.192 Q59.9619 523.041 59.9619 517.343 Q59.9619 514.797 59.2935 512.314 Q58.5933 509.8 57.2247 507.317 L62.6355 507.317 Q63.7814 509.768 64.3543 512.41 Q64.9272 515.02 64.9272 517.98 Q64.9272 526.033 59.8664 530.775 Q54.8057 535.517 46.212 535.517 Q37.491 535.517 32.4939 530.743 Q27.4968 525.937 27.4968 517.598 Q27.4968 514.893 28.0697 512.314 Q28.6108 509.736 29.7248 507.317 Z\" fill=\"#000000\" fill-rule=\"evenodd\" fill-opacity=\"1\" /><path clip-path=\"url(#clip980)\" d=\"M14.5426 498.055 L14.5426 492.963 Q22.0542 488.188 29.2474 485.833 Q36.4406 483.446 43.5384 483.446 Q50.668 483.446 57.8931 485.833 Q65.1182 488.188 72.5979 492.963 L72.5979 498.055 Q65.3091 493.822 58.1159 491.753 Q50.8908 489.653 43.5384 489.653 Q36.186 489.653 29.0246 491.753 Q21.8632 493.822 14.5426 498.055 Z\" fill=\"#000000\" fill-rule=\"evenodd\" fill-opacity=\"1\" /><path clip-path=\"url(#clip980)\" d=\"M633.348 12.096 L684.511 12.096 L684.511 18.9825 L663.041 18.9825 L663.041 72.576 L654.818 72.576 L654.818 18.9825 L633.348 18.9825 L633.348 12.096 Z\" fill=\"#000000\" fill-rule=\"evenodd\" fill-opacity=\"1\" /><path clip-path=\"url(#clip980)\" d=\"M689.534 27.2059 L696.988 27.2059 L696.988 72.576 L689.534 72.576 L689.534 27.2059 M689.534 9.54393 L696.988 9.54393 L696.988 18.9825 L689.534 18.9825 L689.534 9.54393 Z\" fill=\"#000000\" fill-rule=\"evenodd\" fill-opacity=\"1\" /><path clip-path=\"url(#clip980)\" d=\"M747.908 35.9153 Q750.703 30.8922 754.592 28.5022 Q758.48 26.1121 763.747 26.1121 Q770.836 26.1121 774.684 31.0947 Q778.532 36.0368 778.532 45.1919 L778.532 72.576 L771.038 72.576 L771.038 45.4349 Q771.038 38.913 768.729 35.7533 Q766.42 32.5936 761.681 32.5936 Q755.888 32.5936 752.526 36.4419 Q749.163 40.2903 749.163 46.9338 L749.163 72.576 L741.669 72.576 L741.669 45.4349 Q741.669 38.8725 739.36 35.7533 Q737.051 32.5936 732.231 32.5936 Q726.519 32.5936 723.157 36.4824 Q719.794 40.3308 719.794 46.9338 L719.794 72.576 L712.3 72.576 L712.3 27.2059 L719.794 27.2059 L719.794 34.2544 Q722.346 30.082 725.911 28.0971 Q729.476 26.1121 734.378 26.1121 Q739.32 26.1121 742.763 28.6237 Q746.247 31.1352 747.908 35.9153 Z\" fill=\"#000000\" fill-rule=\"evenodd\" fill-opacity=\"1\" /><path clip-path=\"url(#clip980)\" d=\"M793.399 27.2059 L800.853 27.2059 L800.853 72.576 L793.399 72.576 L793.399 27.2059 M793.399 9.54393 L800.853 9.54393 L800.853 18.9825 L793.399 18.9825 L793.399 9.54393 Z\" fill=\"#000000\" fill-rule=\"evenodd\" fill-opacity=\"1\" /><path clip-path=\"url(#clip980)\" d=\"M854.163 45.1919 L854.163 72.576 L846.709 72.576 L846.709 45.4349 Q846.709 38.994 844.198 35.7938 Q841.686 32.5936 836.663 32.5936 Q830.627 32.5936 827.143 36.4419 Q823.659 40.2903 823.659 46.9338 L823.659 72.576 L816.165 72.576 L816.165 27.2059 L823.659 27.2059 L823.659 34.2544 Q826.333 30.163 829.938 28.1376 Q833.584 26.1121 838.324 26.1121 Q846.142 26.1121 850.152 30.9732 Q854.163 35.7938 854.163 45.1919 Z\" fill=\"#000000\" fill-rule=\"evenodd\" fill-opacity=\"1\" /><path clip-path=\"url(#clip980)\" d=\"M898.885 49.3643 Q898.885 41.2625 895.523 36.8065 Q892.201 32.3505 886.165 32.3505 Q880.17 32.3505 876.807 36.8065 Q873.486 41.2625 873.486 49.3643 Q873.486 57.4256 876.807 61.8816 Q880.17 66.3376 886.165 66.3376 Q892.201 66.3376 895.523 61.8816 Q898.885 57.4256 898.885 49.3643 M906.338 66.9452 Q906.338 78.5308 901.194 84.1616 Q896.049 89.8329 885.436 89.8329 Q881.506 89.8329 878.023 89.2252 Q874.539 88.6581 871.258 87.4428 L871.258 80.1917 Q874.539 81.9741 877.739 82.8248 Q880.939 83.6755 884.261 83.6755 Q891.593 83.6755 895.239 79.8271 Q898.885 76.0193 898.885 68.282 L898.885 64.5957 Q896.576 68.6061 892.97 70.5911 Q889.365 72.576 884.342 72.576 Q875.997 72.576 870.893 66.2161 Q865.789 59.8562 865.789 49.3643 Q865.789 38.832 870.893 32.472 Q875.997 26.1121 884.342 26.1121 Q889.365 26.1121 892.97 28.0971 Q896.576 30.082 898.885 34.0924 L898.885 27.2059 L906.338 27.2059 L906.338 66.9452 Z\" fill=\"#000000\" fill-rule=\"evenodd\" fill-opacity=\"1\" /><path clip-path=\"url(#clip980)\" d=\"M965.644 32.4315 Q959.648 32.4315 956.165 37.1306 Q952.681 41.7891 952.681 49.9314 Q952.681 58.0738 956.124 62.7728 Q959.608 67.4314 965.644 67.4314 Q971.599 67.4314 975.082 62.7323 Q978.566 58.0333 978.566 49.9314 Q978.566 41.8701 975.082 37.1711 Q971.599 32.4315 965.644 32.4315 M965.644 26.1121 Q975.366 26.1121 980.916 32.4315 Q986.465 38.7509 986.465 49.9314 Q986.465 61.0714 980.916 67.4314 Q975.366 73.7508 965.644 73.7508 Q955.881 73.7508 950.331 67.4314 Q944.822 61.0714 944.822 49.9314 Q944.822 38.7509 950.331 32.4315 Q955.881 26.1121 965.644 26.1121 Z\" fill=\"#000000\" fill-rule=\"evenodd\" fill-opacity=\"1\" /><path clip-path=\"url(#clip980)\" d=\"M1021.79 9.54393 L1021.79 15.7418 L1014.66 15.7418 Q1010.65 15.7418 1009.07 17.3622 Q1007.53 18.9825 1007.53 23.1955 L1007.53 27.2059 L1019.8 27.2059 L1019.8 32.9987 L1007.53 32.9987 L1007.53 72.576 L1000.04 72.576 L1000.04 32.9987 L992.906 32.9987 L992.906 27.2059 L1000.04 27.2059 L1000.04 24.0462 Q1000.04 16.471 1003.56 13.0277 Q1007.08 9.54393 1014.74 9.54393 L1021.79 9.54393 Z\" fill=\"#000000\" fill-rule=\"evenodd\" fill-opacity=\"1\" /><path clip-path=\"url(#clip980)\" d=\"M1084.25 34.0924 L1084.25 9.54393 L1091.71 9.54393 L1091.71 72.576 L1084.25 72.576 L1084.25 65.7705 Q1081.9 69.8214 1078.3 71.8063 Q1074.73 73.7508 1069.71 73.7508 Q1061.49 73.7508 1056.3 67.1883 Q1051.16 60.6258 1051.16 49.9314 Q1051.16 39.2371 1056.3 32.6746 Q1061.49 26.1121 1069.71 26.1121 Q1074.73 26.1121 1078.3 28.0971 Q1081.9 30.0415 1084.25 34.0924 M1058.85 49.9314 Q1058.85 58.1548 1062.22 62.8538 Q1065.62 67.5124 1071.53 67.5124 Q1077.45 67.5124 1080.85 62.8538 Q1084.25 58.1548 1084.25 49.9314 Q1084.25 41.7081 1080.85 37.0496 Q1077.45 32.3505 1071.53 32.3505 Q1065.62 32.3505 1062.22 37.0496 Q1058.85 41.7081 1058.85 49.9314 Z\" fill=\"#000000\" fill-rule=\"evenodd\" fill-opacity=\"1\" /><path clip-path=\"url(#clip980)\" d=\"M1124.64 32.4315 Q1118.65 32.4315 1115.16 37.1306 Q1111.68 41.7891 1111.68 49.9314 Q1111.68 58.0738 1115.12 62.7728 Q1118.61 67.4314 1124.64 67.4314 Q1130.6 67.4314 1134.08 62.7323 Q1137.56 58.0333 1137.56 49.9314 Q1137.56 41.8701 1134.08 37.1711 Q1130.6 32.4315 1124.64 32.4315 M1124.64 26.1121 Q1134.36 26.1121 1139.91 32.4315 Q1145.46 38.7509 1145.46 49.9314 Q1145.46 61.0714 1139.91 67.4314 Q1134.36 73.7508 1124.64 73.7508 Q1114.88 73.7508 1109.33 67.4314 Q1103.82 61.0714 1103.82 49.9314 Q1103.82 38.7509 1109.33 32.4315 Q1114.88 26.1121 1124.64 26.1121 Z\" fill=\"#000000\" fill-rule=\"evenodd\" fill-opacity=\"1\" /><path clip-path=\"url(#clip980)\" d=\"M1165.19 14.324 L1165.19 27.2059 L1180.54 27.2059 L1180.54 32.9987 L1165.19 32.9987 L1165.19 57.6282 Q1165.19 63.1779 1166.69 64.7578 Q1168.23 66.3376 1172.89 66.3376 L1180.54 66.3376 L1180.54 72.576 L1172.89 72.576 Q1164.26 72.576 1160.98 69.3758 Q1157.7 66.1351 1157.7 57.6282 L1157.7 32.9987 L1152.23 32.9987 L1152.23 27.2059 L1157.7 27.2059 L1157.7 14.324 L1165.19 14.324 Z\" fill=\"#000000\" fill-rule=\"evenodd\" fill-opacity=\"1\" /><path clip-path=\"url(#clip980)\" d=\"M1223.93 65.7705 L1223.93 89.8329 L1216.44 89.8329 L1216.44 27.2059 L1223.93 27.2059 L1223.93 34.0924 Q1226.28 30.0415 1229.84 28.0971 Q1233.45 26.1121 1238.43 26.1121 Q1246.7 26.1121 1251.84 32.6746 Q1257.03 39.2371 1257.03 49.9314 Q1257.03 60.6258 1251.84 67.1883 Q1246.7 73.7508 1238.43 73.7508 Q1233.45 73.7508 1229.84 71.8063 Q1226.28 69.8214 1223.93 65.7705 M1249.29 49.9314 Q1249.29 41.7081 1245.89 37.0496 Q1242.52 32.3505 1236.61 32.3505 Q1230.69 32.3505 1227.29 37.0496 Q1223.93 41.7081 1223.93 49.9314 Q1223.93 58.1548 1227.29 62.8538 Q1230.69 67.5124 1236.61 67.5124 Q1242.52 67.5124 1245.89 62.8538 Q1249.29 58.1548 1249.29 49.9314 Z\" fill=\"#000000\" fill-rule=\"evenodd\" fill-opacity=\"1\" /><path clip-path=\"url(#clip980)\" d=\"M1295.67 34.1734 Q1294.42 33.4443 1292.92 33.1202 Q1291.46 32.7556 1289.68 32.7556 Q1283.36 32.7556 1279.95 36.8875 Q1276.59 40.9789 1276.59 48.6757 L1276.59 72.576 L1269.1 72.576 L1269.1 27.2059 L1276.59 27.2059 L1276.59 34.2544 Q1278.94 30.1225 1282.71 28.1376 Q1286.48 26.1121 1291.86 26.1121 Q1292.63 26.1121 1293.56 26.2337 Q1294.5 26.3147 1295.63 26.5172 L1295.67 34.1734 Z\" fill=\"#000000\" fill-rule=\"evenodd\" fill-opacity=\"1\" /><path clip-path=\"url(#clip980)\" d=\"M1319.25 32.4315 Q1313.25 32.4315 1309.77 37.1306 Q1306.28 41.7891 1306.28 49.9314 Q1306.28 58.0738 1309.73 62.7728 Q1313.21 67.4314 1319.25 67.4314 Q1325.2 67.4314 1328.69 62.7323 Q1332.17 58.0333 1332.17 49.9314 Q1332.17 41.8701 1328.69 37.1711 Q1325.2 32.4315 1319.25 32.4315 M1319.25 26.1121 Q1328.97 26.1121 1334.52 32.4315 Q1340.07 38.7509 1340.07 49.9314 Q1340.07 61.0714 1334.52 67.4314 Q1328.97 73.7508 1319.25 73.7508 Q1309.48 73.7508 1303.93 67.4314 Q1298.43 61.0714 1298.43 49.9314 Q1298.43 38.7509 1303.93 32.4315 Q1309.48 26.1121 1319.25 26.1121 Z\" fill=\"#000000\" fill-rule=\"evenodd\" fill-opacity=\"1\" /><path clip-path=\"url(#clip980)\" d=\"M1382.28 34.0924 L1382.28 9.54393 L1389.73 9.54393 L1389.73 72.576 L1382.28 72.576 L1382.28 65.7705 Q1379.93 69.8214 1376.32 71.8063 Q1372.76 73.7508 1367.74 73.7508 Q1359.51 73.7508 1354.33 67.1883 Q1349.18 60.6258 1349.18 49.9314 Q1349.18 39.2371 1354.33 32.6746 Q1359.51 26.1121 1367.74 26.1121 Q1372.76 26.1121 1376.32 28.0971 Q1379.93 30.0415 1382.28 34.0924 M1356.88 49.9314 Q1356.88 58.1548 1360.24 62.8538 Q1363.65 67.5124 1369.56 67.5124 Q1375.47 67.5124 1378.88 62.8538 Q1382.28 58.1548 1382.28 49.9314 Q1382.28 41.7081 1378.88 37.0496 Q1375.47 32.3505 1369.56 32.3505 Q1363.65 32.3505 1360.24 37.0496 Q1356.88 41.7081 1356.88 49.9314 Z\" fill=\"#000000\" fill-rule=\"evenodd\" fill-opacity=\"1\" /><path clip-path=\"url(#clip980)\" d=\"M1404.32 54.671 L1404.32 27.2059 L1411.77 27.2059 L1411.77 54.3874 Q1411.77 60.8284 1414.28 64.0691 Q1416.79 67.2693 1421.82 67.2693 Q1427.85 67.2693 1431.34 63.421 Q1434.86 59.5726 1434.86 52.9291 L1434.86 27.2059 L1442.31 27.2059 L1442.31 72.576 L1434.86 72.576 L1434.86 65.6084 Q1432.15 69.7404 1428.54 71.7658 Q1424.98 73.7508 1420.24 73.7508 Q1412.42 73.7508 1408.37 68.8897 Q1404.32 64.0286 1404.32 54.671 M1423.07 26.1121 L1423.07 26.1121 Z\" fill=\"#000000\" fill-rule=\"evenodd\" fill-opacity=\"1\" /><path clip-path=\"url(#clip980)\" d=\"M1490.32 28.9478 L1490.32 35.9153 Q1487.16 34.1734 1483.96 33.3227 Q1480.8 32.4315 1477.56 32.4315 Q1470.31 32.4315 1466.29 37.0496 Q1462.28 41.6271 1462.28 49.9314 Q1462.28 58.2358 1466.29 62.8538 Q1470.31 67.4314 1477.56 67.4314 Q1480.8 67.4314 1483.96 66.5807 Q1487.16 65.6895 1490.32 63.9476 L1490.32 70.8341 Q1487.2 72.2924 1483.84 73.0216 Q1480.51 73.7508 1476.75 73.7508 Q1466.5 73.7508 1460.46 67.3098 Q1454.43 60.8689 1454.43 49.9314 Q1454.43 38.832 1460.5 32.472 Q1466.62 26.1121 1477.23 26.1121 Q1480.68 26.1121 1483.96 26.8413 Q1487.24 27.5299 1490.32 28.9478 Z\" fill=\"#000000\" fill-rule=\"evenodd\" fill-opacity=\"1\" /><path clip-path=\"url(#clip980)\" d=\"M1510.65 14.324 L1510.65 27.2059 L1526.01 27.2059 L1526.01 32.9987 L1510.65 32.9987 L1510.65 57.6282 Q1510.65 63.1779 1512.15 64.7578 Q1513.69 66.3376 1518.35 66.3376 L1526.01 66.3376 L1526.01 72.576 L1518.35 72.576 Q1509.72 72.576 1506.44 69.3758 Q1503.16 66.1351 1503.16 57.6282 L1503.16 32.9987 L1497.69 32.9987 L1497.69 27.2059 L1503.16 27.2059 L1503.16 14.324 L1510.65 14.324 Z\" fill=\"#000000\" fill-rule=\"evenodd\" fill-opacity=\"1\" /><path clip-path=\"url(#clip980)\" d=\"M1582.8 49.7694 Q1573.77 49.7694 1570.28 51.8354 Q1566.8 53.9013 1566.8 58.8839 Q1566.8 62.8538 1569.39 65.2034 Q1572.02 67.5124 1576.52 67.5124 Q1582.72 67.5124 1586.44 63.1374 Q1590.21 58.7219 1590.21 51.4303 L1590.21 49.7694 L1582.8 49.7694 M1597.67 46.6907 L1597.67 72.576 L1590.21 72.576 L1590.21 65.6895 Q1587.66 69.8214 1583.85 71.8063 Q1580.04 73.7508 1574.54 73.7508 Q1567.57 73.7508 1563.44 69.8619 Q1559.34 65.9325 1559.34 59.3701 Q1559.34 51.7138 1564.45 47.825 Q1569.59 43.9361 1579.76 43.9361 L1590.21 43.9361 L1590.21 43.2069 Q1590.21 38.0623 1586.81 35.2672 Q1583.45 32.4315 1577.33 32.4315 Q1573.44 32.4315 1569.76 33.3632 Q1566.07 34.295 1562.67 36.1584 L1562.67 29.2718 Q1566.76 27.692 1570.61 26.9223 Q1574.45 26.1121 1578.1 26.1121 Q1587.94 26.1121 1592.8 31.2163 Q1597.67 36.3204 1597.67 46.6907 Z\" fill=\"#000000\" fill-rule=\"evenodd\" fill-opacity=\"1\" /><path clip-path=\"url(#clip980)\" d=\"M1613.02 9.54393 L1620.47 9.54393 L1620.47 72.576 L1613.02 72.576 L1613.02 9.54393 Z\" fill=\"#000000\" fill-rule=\"evenodd\" fill-opacity=\"1\" /><path clip-path=\"url(#clip980)\" d=\"M1665.92 49.3643 Q1665.92 41.2625 1662.56 36.8065 Q1659.24 32.3505 1653.2 32.3505 Q1647.21 32.3505 1643.85 36.8065 Q1640.52 41.2625 1640.52 49.3643 Q1640.52 57.4256 1643.85 61.8816 Q1647.21 66.3376 1653.2 66.3376 Q1659.24 66.3376 1662.56 61.8816 Q1665.92 57.4256 1665.92 49.3643 M1673.38 66.9452 Q1673.38 78.5308 1668.23 84.1616 Q1663.09 89.8329 1652.47 89.8329 Q1648.55 89.8329 1645.06 89.2252 Q1641.58 88.6581 1638.3 87.4428 L1638.3 80.1917 Q1641.58 81.9741 1644.78 82.8248 Q1647.98 83.6755 1651.3 83.6755 Q1658.63 83.6755 1662.28 79.8271 Q1665.92 76.0193 1665.92 68.282 L1665.92 64.5957 Q1663.61 68.6061 1660.01 70.5911 Q1656.4 72.576 1651.38 72.576 Q1643.04 72.576 1637.93 66.2161 Q1632.83 59.8562 1632.83 49.3643 Q1632.83 38.832 1637.93 32.472 Q1643.04 26.1121 1651.38 26.1121 Q1656.4 26.1121 1660.01 28.0971 Q1663.61 30.082 1665.92 34.0924 L1665.92 27.2059 L1673.38 27.2059 L1673.38 66.9452 Z\" fill=\"#000000\" fill-rule=\"evenodd\" fill-opacity=\"1\" /><path clip-path=\"url(#clip980)\" d=\"M1706.31 32.4315 Q1700.32 32.4315 1696.83 37.1306 Q1693.35 41.7891 1693.35 49.9314 Q1693.35 58.0738 1696.79 62.7728 Q1700.28 67.4314 1706.31 67.4314 Q1712.27 67.4314 1715.75 62.7323 Q1719.23 58.0333 1719.23 49.9314 Q1719.23 41.8701 1715.75 37.1711 Q1712.27 32.4315 1706.31 32.4315 M1706.31 26.1121 Q1716.03 26.1121 1721.58 32.4315 Q1727.13 38.7509 1727.13 49.9314 Q1727.13 61.0714 1721.58 67.4314 Q1716.03 73.7508 1706.31 73.7508 Q1696.55 73.7508 1691 67.4314 Q1685.49 61.0714 1685.49 49.9314 Q1685.49 38.7509 1691 32.4315 Q1696.55 26.1121 1706.31 26.1121 Z\" fill=\"#000000\" fill-rule=\"evenodd\" fill-opacity=\"1\" /><path clip-path=\"url(#clip980)\" d=\"M1765.78 34.1734 Q1764.52 33.4443 1763.02 33.1202 Q1761.57 32.7556 1759.78 32.7556 Q1753.46 32.7556 1750.06 36.8875 Q1746.7 40.9789 1746.7 48.6757 L1746.7 72.576 L1739.2 72.576 L1739.2 27.2059 L1746.7 27.2059 L1746.7 34.2544 Q1749.05 30.1225 1752.82 28.1376 Q1756.58 26.1121 1761.97 26.1121 Q1762.74 26.1121 1763.67 26.2337 Q1764.6 26.3147 1765.74 26.5172 L1765.78 34.1734 Z\" fill=\"#000000\" fill-rule=\"evenodd\" fill-opacity=\"1\" /><path clip-path=\"url(#clip980)\" d=\"M1773.6 27.2059 L1781.05 27.2059 L1781.05 72.576 L1773.6 72.576 L1773.6 27.2059 M1773.6 9.54393 L1781.05 9.54393 L1781.05 18.9825 L1773.6 18.9825 L1773.6 9.54393 Z\" fill=\"#000000\" fill-rule=\"evenodd\" fill-opacity=\"1\" /><path clip-path=\"url(#clip980)\" d=\"M1804.02 14.324 L1804.02 27.2059 L1819.37 27.2059 L1819.37 32.9987 L1804.02 32.9987 L1804.02 57.6282 Q1804.02 63.1779 1805.52 64.7578 Q1807.06 66.3376 1811.72 66.3376 L1819.37 66.3376 L1819.37 72.576 L1811.72 72.576 Q1803.09 72.576 1799.81 69.3758 Q1796.52 66.1351 1796.52 57.6282 L1796.52 32.9987 L1791.06 32.9987 L1791.06 27.2059 L1796.52 27.2059 L1796.52 14.324 L1804.02 14.324 Z\" fill=\"#000000\" fill-rule=\"evenodd\" fill-opacity=\"1\" /><path clip-path=\"url(#clip980)\" d=\"M1866.89 45.1919 L1866.89 72.576 L1859.44 72.576 L1859.44 45.4349 Q1859.44 38.994 1856.92 35.7938 Q1854.41 32.5936 1849.39 32.5936 Q1843.35 32.5936 1839.87 36.4419 Q1836.39 40.2903 1836.39 46.9338 L1836.39 72.576 L1828.89 72.576 L1828.89 9.54393 L1836.39 9.54393 L1836.39 34.2544 Q1839.06 30.163 1842.66 28.1376 Q1846.31 26.1121 1851.05 26.1121 Q1858.87 26.1121 1862.88 30.9732 Q1866.89 35.7938 1866.89 45.1919 Z\" fill=\"#000000\" fill-rule=\"evenodd\" fill-opacity=\"1\" /><path clip-path=\"url(#clip980)\" d=\"M1917.08 35.9153 Q1919.87 30.8922 1923.76 28.5022 Q1927.65 26.1121 1932.92 26.1121 Q1940.01 26.1121 1943.86 31.0947 Q1947.7 36.0368 1947.7 45.1919 L1947.7 72.576 L1940.21 72.576 L1940.21 45.4349 Q1940.21 38.913 1937.9 35.7533 Q1935.59 32.5936 1930.85 32.5936 Q1925.06 32.5936 1921.7 36.4419 Q1918.34 40.2903 1918.34 46.9338 L1918.34 72.576 L1910.84 72.576 L1910.84 45.4349 Q1910.84 38.8725 1908.53 35.7533 Q1906.22 32.5936 1901.4 32.5936 Q1895.69 32.5936 1892.33 36.4824 Q1888.97 40.3308 1888.97 46.9338 L1888.97 72.576 L1881.47 72.576 L1881.47 27.2059 L1888.97 27.2059 L1888.97 34.2544 Q1891.52 30.082 1895.08 28.0971 Q1898.65 26.1121 1903.55 26.1121 Q1908.49 26.1121 1911.93 28.6237 Q1915.42 31.1352 1917.08 35.9153 Z\" fill=\"#000000\" fill-rule=\"evenodd\" fill-opacity=\"1\" /><path clip-path=\"url(#clip980)\" d=\"M1963.62 62.2867 L1972.17 62.2867 L1972.17 72.576 L1963.62 72.576 L1963.62 62.2867 Z\" fill=\"#000000\" fill-rule=\"evenodd\" fill-opacity=\"1\" /><polyline clip-path=\"url(#clip982)\" style=\"stroke:#009af9; stroke-linecap:butt; stroke-linejoin:round; stroke-width:4; stroke-opacity:1; fill:none\" points=\"\n",
       "  312.198,1173.11 684.455,1341.67 902.211,1248.33 1056.71,1147.83 1176.55,1072.01 1274.47,993.914 1357.25,960.867 1428.97,910.598 1492.22,884.775 1548.81,859.411 \n",
       "  1599.99,731.909 1646.72,798.693 1689.71,616.21 1729.51,743.407 1766.56,563.534 1801.23,697.96 1833.78,540.544 1864.48,423.045 1893.52,422.315 1921.07,405.294 \n",
       "  1947.27,370.155 1972.25,357.524 1996.12,355.679 2018.98,347.631 2040.91,306.69 2061.97,315.322 2082.24,306.12 2101.77,276.07 2120.61,278.7 2138.82,265.588 \n",
       "  2156.43,241.062 2173.48,239.913 2190.01,206.64 2206.04,228.812 2221.61,209.821 2236.74,191.529 2251.45,193.12 2265.77,183.211 2279.73,173.595 2293.32,160.695 \n",
       "  \n",
       "  \"/>\n",
       "<path clip-path=\"url(#clip982)\" d=\"M312.198 1189.11 L300.886 1184.42 L296.198 1173.11 L300.886 1161.8 L312.198 1157.11 L323.51 1161.8 L328.198 1173.11 L323.51 1184.42 Z\" fill=\"#009af9\" fill-rule=\"evenodd\" fill-opacity=\"1\" stroke=\"#000000\" stroke-opacity=\"1\" stroke-width=\"3.2\"/>\n",
       "<path clip-path=\"url(#clip982)\" d=\"M684.455 1357.67 L673.143 1352.98 L668.455 1341.67 L673.143 1330.36 L684.455 1325.67 L695.767 1330.36 L700.455 1341.67 L695.767 1352.98 Z\" fill=\"#009af9\" fill-rule=\"evenodd\" fill-opacity=\"1\" stroke=\"#000000\" stroke-opacity=\"1\" stroke-width=\"3.2\"/>\n",
       "<path clip-path=\"url(#clip982)\" d=\"M902.211 1264.33 L890.899 1259.64 L886.211 1248.33 L890.899 1237.02 L902.211 1232.33 L913.523 1237.02 L918.211 1248.33 L913.523 1259.64 Z\" fill=\"#009af9\" fill-rule=\"evenodd\" fill-opacity=\"1\" stroke=\"#000000\" stroke-opacity=\"1\" stroke-width=\"3.2\"/>\n",
       "<path clip-path=\"url(#clip982)\" d=\"M1056.71 1163.83 L1045.4 1159.14 L1040.71 1147.83 L1045.4 1136.51 L1056.71 1131.83 L1068.02 1136.51 L1072.71 1147.83 L1068.02 1159.14 Z\" fill=\"#009af9\" fill-rule=\"evenodd\" fill-opacity=\"1\" stroke=\"#000000\" stroke-opacity=\"1\" stroke-width=\"3.2\"/>\n",
       "<path clip-path=\"url(#clip982)\" d=\"M1176.55 1088.01 L1165.24 1083.32 L1160.55 1072.01 L1165.24 1060.69 L1176.55 1056.01 L1187.86 1060.69 L1192.55 1072.01 L1187.86 1083.32 Z\" fill=\"#009af9\" fill-rule=\"evenodd\" fill-opacity=\"1\" stroke=\"#000000\" stroke-opacity=\"1\" stroke-width=\"3.2\"/>\n",
       "<path clip-path=\"url(#clip982)\" d=\"M1274.47 1009.91 L1263.16 1005.23 L1258.47 993.914 L1263.16 982.602 L1274.47 977.914 L1285.78 982.602 L1290.47 993.914 L1285.78 1005.23 Z\" fill=\"#009af9\" fill-rule=\"evenodd\" fill-opacity=\"1\" stroke=\"#000000\" stroke-opacity=\"1\" stroke-width=\"3.2\"/>\n",
       "<path clip-path=\"url(#clip982)\" d=\"M1357.25 976.867 L1345.94 972.179 L1341.25 960.867 L1345.94 949.555 L1357.25 944.867 L1368.57 949.555 L1373.25 960.867 L1368.57 972.179 Z\" fill=\"#009af9\" fill-rule=\"evenodd\" fill-opacity=\"1\" stroke=\"#000000\" stroke-opacity=\"1\" stroke-width=\"3.2\"/>\n",
       "<path clip-path=\"url(#clip982)\" d=\"M1428.97 926.598 L1417.66 921.91 L1412.97 910.598 L1417.66 899.286 L1428.97 894.598 L1440.28 899.286 L1444.97 910.598 L1440.28 921.91 Z\" fill=\"#009af9\" fill-rule=\"evenodd\" fill-opacity=\"1\" stroke=\"#000000\" stroke-opacity=\"1\" stroke-width=\"3.2\"/>\n",
       "<path clip-path=\"url(#clip982)\" d=\"M1492.22 900.775 L1480.91 896.087 L1476.22 884.775 L1480.91 873.463 L1492.22 868.775 L1503.54 873.463 L1508.22 884.775 L1503.54 896.087 Z\" fill=\"#009af9\" fill-rule=\"evenodd\" fill-opacity=\"1\" stroke=\"#000000\" stroke-opacity=\"1\" stroke-width=\"3.2\"/>\n",
       "<path clip-path=\"url(#clip982)\" d=\"M1548.81 875.411 L1537.5 870.723 L1532.81 859.411 L1537.5 848.099 L1548.81 843.411 L1560.12 848.099 L1564.81 859.411 L1560.12 870.723 Z\" fill=\"#009af9\" fill-rule=\"evenodd\" fill-opacity=\"1\" stroke=\"#000000\" stroke-opacity=\"1\" stroke-width=\"3.2\"/>\n",
       "<path clip-path=\"url(#clip982)\" d=\"M1599.99 747.909 L1588.68 743.221 L1583.99 731.909 L1588.68 720.597 L1599.99 715.909 L1611.31 720.597 L1615.99 731.909 L1611.31 743.221 Z\" fill=\"#009af9\" fill-rule=\"evenodd\" fill-opacity=\"1\" stroke=\"#000000\" stroke-opacity=\"1\" stroke-width=\"3.2\"/>\n",
       "<path clip-path=\"url(#clip982)\" d=\"M1646.72 814.693 L1635.41 810.005 L1630.72 798.693 L1635.41 787.381 L1646.72 782.693 L1658.04 787.381 L1662.72 798.693 L1658.04 810.005 Z\" fill=\"#009af9\" fill-rule=\"evenodd\" fill-opacity=\"1\" stroke=\"#000000\" stroke-opacity=\"1\" stroke-width=\"3.2\"/>\n",
       "<path clip-path=\"url(#clip982)\" d=\"M1689.71 632.21 L1678.4 627.522 L1673.71 616.21 L1678.4 604.898 L1689.71 600.21 L1701.02 604.898 L1705.71 616.21 L1701.02 627.522 Z\" fill=\"#009af9\" fill-rule=\"evenodd\" fill-opacity=\"1\" stroke=\"#000000\" stroke-opacity=\"1\" stroke-width=\"3.2\"/>\n",
       "<path clip-path=\"url(#clip982)\" d=\"M1729.51 759.407 L1718.2 754.719 L1713.51 743.407 L1718.2 732.095 L1729.51 727.407 L1740.82 732.095 L1745.51 743.407 L1740.82 754.719 Z\" fill=\"#009af9\" fill-rule=\"evenodd\" fill-opacity=\"1\" stroke=\"#000000\" stroke-opacity=\"1\" stroke-width=\"3.2\"/>\n",
       "<path clip-path=\"url(#clip982)\" d=\"M1766.56 579.534 L1755.25 574.846 L1750.56 563.534 L1755.25 552.222 L1766.56 547.534 L1777.88 552.222 L1782.56 563.534 L1777.88 574.846 Z\" fill=\"#009af9\" fill-rule=\"evenodd\" fill-opacity=\"1\" stroke=\"#000000\" stroke-opacity=\"1\" stroke-width=\"3.2\"/>\n",
       "<path clip-path=\"url(#clip982)\" d=\"M1801.23 713.96 L1789.91 709.272 L1785.23 697.96 L1789.91 686.648 L1801.23 681.96 L1812.54 686.648 L1817.23 697.96 L1812.54 709.272 Z\" fill=\"#009af9\" fill-rule=\"evenodd\" fill-opacity=\"1\" stroke=\"#000000\" stroke-opacity=\"1\" stroke-width=\"3.2\"/>\n",
       "<path clip-path=\"url(#clip982)\" d=\"M1833.78 556.544 L1822.47 551.856 L1817.78 540.544 L1822.47 529.232 L1833.78 524.544 L1845.1 529.232 L1849.78 540.544 L1845.1 551.856 Z\" fill=\"#009af9\" fill-rule=\"evenodd\" fill-opacity=\"1\" stroke=\"#000000\" stroke-opacity=\"1\" stroke-width=\"3.2\"/>\n",
       "<path clip-path=\"url(#clip982)\" d=\"M1864.48 439.045 L1853.17 434.357 L1848.48 423.045 L1853.17 411.733 L1864.48 407.045 L1875.79 411.733 L1880.48 423.045 L1875.79 434.357 Z\" fill=\"#009af9\" fill-rule=\"evenodd\" fill-opacity=\"1\" stroke=\"#000000\" stroke-opacity=\"1\" stroke-width=\"3.2\"/>\n",
       "<path clip-path=\"url(#clip982)\" d=\"M1893.52 438.315 L1882.21 433.627 L1877.52 422.315 L1882.21 411.003 L1893.52 406.315 L1904.83 411.003 L1909.52 422.315 L1904.83 433.627 Z\" fill=\"#009af9\" fill-rule=\"evenodd\" fill-opacity=\"1\" stroke=\"#000000\" stroke-opacity=\"1\" stroke-width=\"3.2\"/>\n",
       "<path clip-path=\"url(#clip982)\" d=\"M1921.07 421.294 L1909.75 416.606 L1905.07 405.294 L1909.75 393.982 L1921.07 389.294 L1932.38 393.982 L1937.07 405.294 L1932.38 416.606 Z\" fill=\"#009af9\" fill-rule=\"evenodd\" fill-opacity=\"1\" stroke=\"#000000\" stroke-opacity=\"1\" stroke-width=\"3.2\"/>\n",
       "<path clip-path=\"url(#clip982)\" d=\"M1947.27 386.155 L1935.96 381.467 L1931.27 370.155 L1935.96 358.843 L1947.27 354.155 L1958.58 358.843 L1963.27 370.155 L1958.58 381.467 Z\" fill=\"#009af9\" fill-rule=\"evenodd\" fill-opacity=\"1\" stroke=\"#000000\" stroke-opacity=\"1\" stroke-width=\"3.2\"/>\n",
       "<path clip-path=\"url(#clip982)\" d=\"M1972.25 373.524 L1960.94 368.836 L1956.25 357.524 L1960.94 346.212 L1972.25 341.524 L1983.56 346.212 L1988.25 357.524 L1983.56 368.836 Z\" fill=\"#009af9\" fill-rule=\"evenodd\" fill-opacity=\"1\" stroke=\"#000000\" stroke-opacity=\"1\" stroke-width=\"3.2\"/>\n",
       "<path clip-path=\"url(#clip982)\" d=\"M1996.12 371.679 L1984.81 366.991 L1980.12 355.679 L1984.81 344.367 L1996.12 339.679 L2007.44 344.367 L2012.12 355.679 L2007.44 366.991 Z\" fill=\"#009af9\" fill-rule=\"evenodd\" fill-opacity=\"1\" stroke=\"#000000\" stroke-opacity=\"1\" stroke-width=\"3.2\"/>\n",
       "<path clip-path=\"url(#clip982)\" d=\"M2018.98 363.631 L2007.67 358.943 L2002.98 347.631 L2007.67 336.319 L2018.98 331.631 L2030.29 336.319 L2034.98 347.631 L2030.29 358.943 Z\" fill=\"#009af9\" fill-rule=\"evenodd\" fill-opacity=\"1\" stroke=\"#000000\" stroke-opacity=\"1\" stroke-width=\"3.2\"/>\n",
       "<path clip-path=\"url(#clip982)\" d=\"M2040.91 322.69 L2029.59 318.002 L2024.91 306.69 L2029.59 295.378 L2040.91 290.69 L2052.22 295.378 L2056.91 306.69 L2052.22 318.002 Z\" fill=\"#009af9\" fill-rule=\"evenodd\" fill-opacity=\"1\" stroke=\"#000000\" stroke-opacity=\"1\" stroke-width=\"3.2\"/>\n",
       "<path clip-path=\"url(#clip982)\" d=\"M2061.97 331.322 L2050.66 326.634 L2045.97 315.322 L2050.66 304.01 L2061.97 299.322 L2073.28 304.01 L2077.97 315.322 L2073.28 326.634 Z\" fill=\"#009af9\" fill-rule=\"evenodd\" fill-opacity=\"1\" stroke=\"#000000\" stroke-opacity=\"1\" stroke-width=\"3.2\"/>\n",
       "<path clip-path=\"url(#clip982)\" d=\"M2082.24 322.12 L2070.93 317.432 L2066.24 306.12 L2070.93 294.808 L2082.24 290.12 L2093.55 294.808 L2098.24 306.12 L2093.55 317.432 Z\" fill=\"#009af9\" fill-rule=\"evenodd\" fill-opacity=\"1\" stroke=\"#000000\" stroke-opacity=\"1\" stroke-width=\"3.2\"/>\n",
       "<path clip-path=\"url(#clip982)\" d=\"M2101.77 292.07 L2090.46 287.382 L2085.77 276.07 L2090.46 264.758 L2101.77 260.07 L2113.08 264.758 L2117.77 276.07 L2113.08 287.382 Z\" fill=\"#009af9\" fill-rule=\"evenodd\" fill-opacity=\"1\" stroke=\"#000000\" stroke-opacity=\"1\" stroke-width=\"3.2\"/>\n",
       "<path clip-path=\"url(#clip982)\" d=\"M2120.61 294.7 L2109.3 290.012 L2104.61 278.7 L2109.3 267.388 L2120.61 262.7 L2131.93 267.388 L2136.61 278.7 L2131.93 290.012 Z\" fill=\"#009af9\" fill-rule=\"evenodd\" fill-opacity=\"1\" stroke=\"#000000\" stroke-opacity=\"1\" stroke-width=\"3.2\"/>\n",
       "<path clip-path=\"url(#clip982)\" d=\"M2138.82 281.588 L2127.51 276.9 L2122.82 265.588 L2127.51 254.276 L2138.82 249.588 L2150.13 254.276 L2154.82 265.588 L2150.13 276.9 Z\" fill=\"#009af9\" fill-rule=\"evenodd\" fill-opacity=\"1\" stroke=\"#000000\" stroke-opacity=\"1\" stroke-width=\"3.2\"/>\n",
       "<path clip-path=\"url(#clip982)\" d=\"M2156.43 257.062 L2145.12 252.374 L2140.43 241.062 L2145.12 229.75 L2156.43 225.062 L2167.74 229.75 L2172.43 241.062 L2167.74 252.374 Z\" fill=\"#009af9\" fill-rule=\"evenodd\" fill-opacity=\"1\" stroke=\"#000000\" stroke-opacity=\"1\" stroke-width=\"3.2\"/>\n",
       "<path clip-path=\"url(#clip982)\" d=\"M2173.48 255.913 L2162.17 251.225 L2157.48 239.913 L2162.17 228.601 L2173.48 223.913 L2184.79 228.601 L2189.48 239.913 L2184.79 251.225 Z\" fill=\"#009af9\" fill-rule=\"evenodd\" fill-opacity=\"1\" stroke=\"#000000\" stroke-opacity=\"1\" stroke-width=\"3.2\"/>\n",
       "<path clip-path=\"url(#clip982)\" d=\"M2190.01 222.64 L2178.7 217.952 L2174.01 206.64 L2178.7 195.328 L2190.01 190.64 L2201.32 195.328 L2206.01 206.64 L2201.32 217.952 Z\" fill=\"#009af9\" fill-rule=\"evenodd\" fill-opacity=\"1\" stroke=\"#000000\" stroke-opacity=\"1\" stroke-width=\"3.2\"/>\n",
       "<path clip-path=\"url(#clip982)\" d=\"M2206.04 244.812 L2194.73 240.124 L2190.04 228.812 L2194.73 217.5 L2206.04 212.812 L2217.35 217.5 L2222.04 228.812 L2217.35 240.124 Z\" fill=\"#009af9\" fill-rule=\"evenodd\" fill-opacity=\"1\" stroke=\"#000000\" stroke-opacity=\"1\" stroke-width=\"3.2\"/>\n",
       "<path clip-path=\"url(#clip982)\" d=\"M2221.61 225.821 L2210.3 221.133 L2205.61 209.821 L2210.3 198.509 L2221.61 193.821 L2232.92 198.509 L2237.61 209.821 L2232.92 221.133 Z\" fill=\"#009af9\" fill-rule=\"evenodd\" fill-opacity=\"1\" stroke=\"#000000\" stroke-opacity=\"1\" stroke-width=\"3.2\"/>\n",
       "<path clip-path=\"url(#clip982)\" d=\"M2236.74 207.529 L2225.43 202.841 L2220.74 191.529 L2225.43 180.217 L2236.74 175.529 L2248.05 180.217 L2252.74 191.529 L2248.05 202.841 Z\" fill=\"#009af9\" fill-rule=\"evenodd\" fill-opacity=\"1\" stroke=\"#000000\" stroke-opacity=\"1\" stroke-width=\"3.2\"/>\n",
       "<path clip-path=\"url(#clip982)\" d=\"M2251.45 209.12 L2240.14 204.432 L2235.45 193.12 L2240.14 181.808 L2251.45 177.12 L2262.76 181.808 L2267.45 193.12 L2262.76 204.432 Z\" fill=\"#009af9\" fill-rule=\"evenodd\" fill-opacity=\"1\" stroke=\"#000000\" stroke-opacity=\"1\" stroke-width=\"3.2\"/>\n",
       "<path clip-path=\"url(#clip982)\" d=\"M2265.77 199.211 L2254.46 194.523 L2249.77 183.211 L2254.46 171.899 L2265.77 167.211 L2277.09 171.899 L2281.77 183.211 L2277.09 194.523 Z\" fill=\"#009af9\" fill-rule=\"evenodd\" fill-opacity=\"1\" stroke=\"#000000\" stroke-opacity=\"1\" stroke-width=\"3.2\"/>\n",
       "<path clip-path=\"url(#clip982)\" d=\"M2279.73 189.595 L2268.41 184.907 L2263.73 173.595 L2268.41 162.283 L2279.73 157.595 L2291.04 162.283 L2295.73 173.595 L2291.04 184.907 Z\" fill=\"#009af9\" fill-rule=\"evenodd\" fill-opacity=\"1\" stroke=\"#000000\" stroke-opacity=\"1\" stroke-width=\"3.2\"/>\n",
       "<path clip-path=\"url(#clip982)\" d=\"M2293.32 176.695 L2282.01 172.007 L2277.32 160.695 L2282.01 149.383 L2293.32 144.695 L2304.63 149.383 L2309.32 160.695 L2304.63 172.007 Z\" fill=\"#009af9\" fill-rule=\"evenodd\" fill-opacity=\"1\" stroke=\"#000000\" stroke-opacity=\"1\" stroke-width=\"3.2\"/>\n",
       "<polyline clip-path=\"url(#clip982)\" style=\"stroke:#e26f46; stroke-linecap:butt; stroke-linejoin:round; stroke-width:4; stroke-opacity:1; fill:none\" stroke-dasharray=\"16, 10\" points=\"\n",
       "  312.198,1401.45 684.455,1168.31 902.211,1031.93 1056.71,935.172 1176.55,860.118 1274.47,798.794 1357.25,746.945 1428.97,702.031 1492.22,662.415 1548.81,626.977 \n",
       "  1599.99,594.919 1646.72,565.653 1689.71,538.73 1729.51,513.804 1766.56,490.598 1801.23,468.89 1833.78,448.499 1864.48,429.274 1893.52,411.088 1921.07,393.836 \n",
       "  1947.27,377.425 1972.25,361.778 1996.12,346.827 2018.98,332.512 2040.91,318.781 2061.97,305.589 2082.24,292.895 2101.77,280.663 2120.61,268.86 2138.82,257.457 \n",
       "  2156.43,246.428 2173.48,235.75 2190.01,225.399 2206.04,215.358 2221.61,205.608 2236.74,196.133 2251.45,186.917 2265.77,177.947 2279.73,169.211 2293.32,160.695 \n",
       "  \n",
       "  \"/>\n",
       "<path clip-path=\"url(#clip980)\" d=\"\n",
       "M322.764 322.832 L657.637 322.832 L657.637 167.312 L322.764 167.312  Z\n",
       "  \" fill=\"#ffffff\" fill-rule=\"evenodd\" fill-opacity=\"1\"/>\n",
       "<polyline clip-path=\"url(#clip980)\" style=\"stroke:#000000; stroke-linecap:butt; stroke-linejoin:round; stroke-width:4; stroke-opacity:1; fill:none\" points=\"\n",
       "  322.764,322.832 657.637,322.832 657.637,167.312 322.764,167.312 322.764,322.832 \n",
       "  \"/>\n",
       "<polyline clip-path=\"url(#clip980)\" style=\"stroke:#009af9; stroke-linecap:butt; stroke-linejoin:round; stroke-width:4; stroke-opacity:1; fill:none\" points=\"\n",
       "  346.097,219.152 486.096,219.152 \n",
       "  \"/>\n",
       "<path clip-path=\"url(#clip980)\" d=\"M416.097 244.752 L397.997 237.251 L390.497 219.152 L397.997 201.053 L416.097 193.552 L434.196 201.053 L441.697 219.152 L434.196 237.251 Z\" fill=\"#009af9\" fill-rule=\"evenodd\" fill-opacity=\"1\" stroke=\"#000000\" stroke-opacity=\"1\" stroke-width=\"5.12\"/>\n",
       "<path clip-path=\"url(#clip980)\" d=\"M528.342 214.442 L528.342 200.414 L532.601 200.414 L532.601 236.432 L528.342 236.432 L528.342 232.543 Q526.999 234.858 524.939 235.992 Q522.902 237.104 520.031 237.104 Q515.332 237.104 512.369 233.354 Q509.43 229.604 509.43 223.493 Q509.43 217.381 512.369 213.631 Q515.332 209.882 520.031 209.882 Q522.902 209.882 524.939 211.016 Q526.999 212.127 528.342 214.442 M513.828 223.493 Q513.828 228.192 515.749 230.877 Q517.693 233.539 521.073 233.539 Q524.453 233.539 526.397 230.877 Q528.342 228.192 528.342 223.493 Q528.342 218.793 526.397 216.131 Q524.453 213.446 521.073 213.446 Q517.693 213.446 515.749 216.131 Q513.828 218.793 513.828 223.493 Z\" fill=\"#000000\" fill-rule=\"evenodd\" fill-opacity=\"1\" /><path clip-path=\"url(#clip980)\" d=\"M553.156 223.4 Q547.994 223.4 546.004 224.581 Q544.013 225.761 544.013 228.608 Q544.013 230.877 545.494 232.219 Q546.999 233.539 549.568 233.539 Q553.11 233.539 555.24 231.039 Q557.392 228.516 557.392 224.349 L557.392 223.4 L553.156 223.4 M561.652 221.641 L561.652 236.432 L557.392 236.432 L557.392 232.497 Q555.934 234.858 553.758 235.992 Q551.582 237.104 548.434 237.104 Q544.453 237.104 542.091 234.881 Q539.754 232.636 539.754 228.886 Q539.754 224.511 542.67 222.289 Q545.61 220.067 551.42 220.067 L557.392 220.067 L557.392 219.65 Q557.392 216.71 555.448 215.113 Q553.527 213.493 550.031 213.493 Q547.809 213.493 545.703 214.025 Q543.596 214.557 541.652 215.622 L541.652 211.687 Q543.99 210.784 546.189 210.344 Q548.388 209.882 550.471 209.882 Q556.096 209.882 558.874 212.798 Q561.652 215.715 561.652 221.641 Z\" fill=\"#000000\" fill-rule=\"evenodd\" fill-opacity=\"1\" /><path clip-path=\"url(#clip980)\" d=\"M574.638 203.145 L574.638 210.507 L583.411 210.507 L583.411 213.817 L574.638 213.817 L574.638 227.891 Q574.638 231.062 575.494 231.965 Q576.374 232.867 579.036 232.867 L583.411 232.867 L583.411 236.432 L579.036 236.432 Q574.105 236.432 572.23 234.604 Q570.355 232.752 570.355 227.891 L570.355 213.817 L567.23 213.817 L567.23 210.507 L570.355 210.507 L570.355 203.145 L574.638 203.145 Z\" fill=\"#000000\" fill-rule=\"evenodd\" fill-opacity=\"1\" /><path clip-path=\"url(#clip980)\" d=\"M600.795 223.4 Q595.633 223.4 593.642 224.581 Q591.651 225.761 591.651 228.608 Q591.651 230.877 593.133 232.219 Q594.638 233.539 597.207 233.539 Q600.749 233.539 602.878 231.039 Q605.031 228.516 605.031 224.349 L605.031 223.4 L600.795 223.4 M609.29 221.641 L609.29 236.432 L605.031 236.432 L605.031 232.497 Q603.573 234.858 601.397 235.992 Q599.221 237.104 596.073 237.104 Q592.091 237.104 589.73 234.881 Q587.392 232.636 587.392 228.886 Q587.392 224.511 590.309 222.289 Q593.249 220.067 599.059 220.067 L605.031 220.067 L605.031 219.65 Q605.031 216.71 603.087 215.113 Q601.165 213.493 597.67 213.493 Q595.448 213.493 593.341 214.025 Q591.235 214.557 589.29 215.622 L589.29 211.687 Q591.628 210.784 593.827 210.344 Q596.026 209.882 598.11 209.882 Q603.735 209.882 606.512 212.798 Q609.29 215.715 609.29 221.641 Z\" fill=\"#000000\" fill-rule=\"evenodd\" fill-opacity=\"1\" /><polyline clip-path=\"url(#clip980)\" style=\"stroke:#e26f46; stroke-linecap:butt; stroke-linejoin:round; stroke-width:4; stroke-opacity:1; fill:none\" stroke-dasharray=\"16, 10\" points=\"\n",
       "  346.097,270.992 486.096,270.992 \n",
       "  \"/>\n",
       "<path clip-path=\"url(#clip980)\" d=\"M542.596 261.951 Q542.596 265.3 541.401 268.626 Q540.23 271.929 538.169 274.646 Q536.108 277.363 533.484 279.471 Q530.861 281.579 527.793 282.75 Q524.724 283.921 521.726 283.921 Q516.41 283.921 512.92 280.431 Q509.43 276.941 509.43 271.109 Q509.43 267.034 511.257 262.982 Q513.084 258.906 515.988 255.885 Q518.892 252.84 522.71 250.942 Q526.551 249.045 530.346 249.045 Q535.733 249.045 539.153 252.629 Q542.596 256.189 542.596 261.951 M538.31 260.077 Q538.31 257.501 537.583 255.557 Q536.857 253.589 535.639 252.465 Q534.445 251.341 533.016 250.802 Q531.611 250.24 530.065 250.24 Q527.067 250.24 523.858 252.184 Q520.649 254.128 518.26 257.735 Q516.972 259.702 516.035 262.068 Q515.098 264.41 514.676 266.495 Q514.255 268.556 514.067 270.008 Q513.903 271.461 513.903 272.468 Q513.903 277.152 516.152 279.916 Q518.4 282.68 522.007 282.68 Q524.842 282.68 527.605 281.017 Q530.369 279.331 532.267 276.918 Q533.953 274.833 535.194 272.327 Q536.459 269.821 537.092 267.526 Q537.724 265.23 538.005 263.38 Q538.31 261.529 538.31 260.077 Z\" fill=\"#000000\" fill-rule=\"evenodd\" fill-opacity=\"1\" /><path clip-path=\"url(#clip980)\" d=\"M545.658 270.875 Q545.658 262.771 548.679 256.236 Q549.967 253.496 551.771 251.2 Q553.574 248.905 554.769 247.898 Q555.964 246.89 556.291 246.89 Q556.76 246.89 556.783 247.359 Q556.783 247.593 556.151 248.179 Q548.422 256.049 548.445 270.875 Q548.445 285.748 555.964 293.314 Q556.783 294.133 556.783 294.391 Q556.783 294.86 556.291 294.86 Q555.964 294.86 554.816 293.899 Q553.668 292.939 551.888 290.737 Q550.108 288.536 548.82 285.842 Q545.658 279.307 545.658 270.875 Z\" fill=\"#000000\" fill-rule=\"evenodd\" fill-opacity=\"1\" /><path clip-path=\"url(#clip980)\" d=\"M590.072 276.005 Q590.072 276.192 589.861 276.918 Q589.65 277.644 589.135 278.768 Q588.643 279.893 587.964 280.923 Q587.285 281.93 586.161 282.68 Q585.06 283.406 583.795 283.406 Q582.108 283.406 580.984 282.282 Q579.86 281.157 579.86 279.471 Q579.86 278.534 580.352 277.246 Q583.467 268.931 583.467 266.073 Q583.467 262.724 580.867 262.724 Q579.579 262.724 578.361 263.216 Q577.166 263.684 576.347 264.34 Q575.527 264.996 574.777 265.909 Q574.051 266.799 573.676 267.408 Q573.325 267.994 573.044 268.58 L572.435 270.969 Q572.294 271.625 571.615 274.178 L570.561 278.511 Q569.812 281.743 569.648 282.048 Q569.414 282.703 568.898 283.055 Q568.383 283.406 567.868 283.406 Q567.282 283.406 566.884 283.055 Q566.486 282.703 566.486 282.094 Q566.486 282.001 566.556 281.649 Q566.626 281.298 566.743 280.806 Q566.86 280.314 566.907 280.033 L569.695 268.954 Q570.21 266.94 570.327 266.308 Q570.468 265.652 570.468 264.926 Q570.468 262.724 568.968 262.724 Q567.751 262.724 566.954 264.176 Q566.158 265.628 565.479 268.439 Q565.268 269.212 565.127 269.376 Q565.01 269.54 564.659 269.54 Q564.073 269.516 564.073 269.048 Q564.073 268.931 564.261 268.158 Q564.448 267.385 564.799 266.284 Q565.174 265.16 565.525 264.41 Q565.83 263.848 565.994 263.591 Q566.181 263.31 566.626 262.771 Q567.095 262.209 567.704 261.951 Q568.336 261.67 569.109 261.67 Q570.842 261.67 572.107 262.794 Q573.372 263.895 573.536 265.839 Q576.651 261.67 581.008 261.67 Q583.584 261.67 585.06 263.028 Q586.535 264.387 586.535 266.799 Q586.535 267.362 586.418 268.088 Q586.325 268.79 586.09 269.68 Q585.879 270.571 585.692 271.25 Q585.505 271.929 585.13 273.03 Q584.755 274.107 584.591 274.576 Q584.427 275.044 584.029 276.145 Q583.654 277.222 583.608 277.34 Q582.741 279.518 582.741 280.759 Q582.741 281.579 582.999 281.954 Q583.28 282.329 583.889 282.329 Q585.528 282.329 586.746 280.712 Q587.988 279.073 588.784 276.403 Q588.971 275.817 589.065 275.677 Q589.182 275.536 589.51 275.536 Q590.072 275.536 590.072 276.005 Z\" fill=\"#000000\" fill-rule=\"evenodd\" fill-opacity=\"1\" /><path clip-path=\"url(#clip980)\" d=\"M592.555 294.391 Q592.555 294.157 593.164 293.571 Q600.893 285.701 600.893 270.875 Q600.893 256.002 593.468 248.483 Q592.555 247.617 592.555 247.359 Q592.555 246.89 593.023 246.89 Q593.351 246.89 594.499 247.851 Q595.67 248.811 597.427 251.013 Q599.207 253.214 600.518 255.908 Q603.68 262.443 603.68 270.875 Q603.68 278.979 600.659 285.514 Q599.371 288.254 597.567 290.55 Q595.764 292.845 594.569 293.852 Q593.374 294.86 593.023 294.86 Q592.555 294.86 592.555 294.391 Z\" fill=\"#000000\" fill-rule=\"evenodd\" fill-opacity=\"1\" /></svg>\n"
      ]
     },
     "execution_count": 8,
     "metadata": {},
     "output_type": "execute_result"
    }
   ],
   "source": [
    "plot!(vect_sizes,(vect_sizes/vect_sizes[end])*dps[end],l=:dash,\n",
    "    label=\"\\$O(n)\\$\",legend=:topleft)"
   ]
  },
  {
   "cell_type": "markdown",
   "metadata": {
    "slideshow": {
     "slide_type": "slide"
    }
   },
   "source": [
    "This provides an experimental confirmation that the dot product algorithm scales as $\\mathcal{O}(n)$.  "
   ]
  },
  {
   "cell_type": "markdown",
   "metadata": {
    "slideshow": {
     "slide_type": "slide"
    }
   },
   "source": [
    "### An Extension\n",
    "\n",
    "There are two common ways to view matrix multiplication:\n",
    "\n",
    "1) As a series of dot products.\n",
    "\n",
    "2) As linear combinations of vectors. \n",
    "\n",
    "Both points of view have their usefulness. For now, let's make use of the first perspective.  "
   ]
  },
  {
   "cell_type": "markdown",
   "metadata": {
    "slideshow": {
     "slide_type": "slide"
    }
   },
   "source": [
    "Recall that if $A$ is an $m\\times n$ matrix and $x$ is an $n \\times 1$ column vector then the product $Ax$ is an $m \\times 1$ column vector $y$, where $y_{i} = \\text{dot product of row $i$ of $A$ with $x$}$. This implies that we can build an algorithm for matrix vector multiplication out of our algorithm for the dot product. (You will be asked to implement such an algorithm for homework.) All we have to do is to apply our dot product algorithm for each row of the matrix, Then the number of FLOPs will be  $m(2n)=2mn$. "
   ]
  },
  {
   "cell_type": "markdown",
   "metadata": {
    "slideshow": {
     "slide_type": "slide"
    }
   },
   "source": [
    "Pushing this further, it is the case that matrix-matrix multiplication is a series of dot products in that if $A$ is $m\\times n$ and $B$ is $n\\times p$, then $AB$ is $m \\times p$ and the $ij$ entry of $AB$ is the dot product between row $i$ of $A$ and column $j$ of $B$. So essentially, we are performing $n$ matrix vector multiplications or equivalently $mn$ dot products, either way we have a total of $2mn^2$ FLOPs. If we are working with only square matrices, then we see that there will be $2n^3$ FLOPs so we expect that multiplication of square matrices will scale as $\\mathcal{O}(n^3)$. We can confirm this experimentally similarly to the way we did with the dot product. "
   ]
  },
  {
   "cell_type": "code",
   "execution_count": 9,
   "metadata": {
    "slideshow": {
     "slide_type": "slide"
    }
   },
   "outputs": [
    {
     "data": {
      "image/svg+xml": [
       "<?xml version=\"1.0\" encoding=\"utf-8\"?>\n",
       "<svg xmlns=\"http://www.w3.org/2000/svg\" xmlns:xlink=\"http://www.w3.org/1999/xlink\" width=\"600\" height=\"400\" viewBox=\"0 0 2400 1600\">\n",
       "<defs>\n",
       "  <clipPath id=\"clip020\">\n",
       "    <rect x=\"0\" y=\"0\" width=\"2400\" height=\"1600\"/>\n",
       "  </clipPath>\n",
       "</defs>\n",
       "<path clip-path=\"url(#clip020)\" d=\"\n",
       "M0 1600 L2400 1600 L2400 0 L0 0  Z\n",
       "  \" fill=\"#ffffff\" fill-rule=\"evenodd\" fill-opacity=\"1\"/>\n",
       "<defs>\n",
       "  <clipPath id=\"clip021\">\n",
       "    <rect x=\"480\" y=\"0\" width=\"1681\" height=\"1600\"/>\n",
       "  </clipPath>\n",
       "</defs>\n",
       "<defs>\n",
       "  <clipPath id=\"clip022\">\n",
       "    <rect x=\"252\" y=\"123\" width=\"2101\" height=\"1316\"/>\n",
       "  </clipPath>\n",
       "</defs>\n",
       "<path clip-path=\"url(#clip020)\" d=\"\n",
       "M251.071 1438.68 L2352.76 1438.68 L2352.76 123.472 L251.071 123.472  Z\n",
       "  \" fill=\"#ffffff\" fill-rule=\"evenodd\" fill-opacity=\"1\"/>\n",
       "<defs>\n",
       "  <clipPath id=\"clip023\">\n",
       "    <rect x=\"251\" y=\"123\" width=\"2103\" height=\"1316\"/>\n",
       "  </clipPath>\n",
       "</defs>\n",
       "<polyline clip-path=\"url(#clip023)\" style=\"stroke:#000000; stroke-linecap:butt; stroke-linejoin:round; stroke-width:2; stroke-opacity:0.1; fill:none\" points=\"\n",
       "  -2778.09,1438.68 -2778.09,123.472 \n",
       "  \"/>\n",
       "<polyline clip-path=\"url(#clip023)\" style=\"stroke:#000000; stroke-linecap:butt; stroke-linejoin:round; stroke-width:2; stroke-opacity:0.1; fill:none\" points=\"\n",
       "  1248.77,1438.68 1248.77,123.472 \n",
       "  \"/>\n",
       "<polyline clip-path=\"url(#clip023)\" style=\"stroke:#000000; stroke-linecap:butt; stroke-linejoin:round; stroke-width:2; stroke-opacity:0.1; fill:none\" points=\"\n",
       "  5275.63,1438.68 5275.63,123.472 \n",
       "  \"/>\n",
       "<polyline clip-path=\"url(#clip020)\" style=\"stroke:#000000; stroke-linecap:butt; stroke-linejoin:round; stroke-width:4; stroke-opacity:1; fill:none\" points=\"\n",
       "  251.071,1438.68 2352.76,1438.68 \n",
       "  \"/>\n",
       "<polyline clip-path=\"url(#clip020)\" style=\"stroke:#000000; stroke-linecap:butt; stroke-linejoin:round; stroke-width:4; stroke-opacity:1; fill:none\" points=\"\n",
       "  -2778.09,1438.68 -2778.09,1422.89 \n",
       "  \"/>\n",
       "<polyline clip-path=\"url(#clip020)\" style=\"stroke:#000000; stroke-linecap:butt; stroke-linejoin:round; stroke-width:4; stroke-opacity:1; fill:none\" points=\"\n",
       "  1248.77,1438.68 1248.77,1422.89 \n",
       "  \"/>\n",
       "<polyline clip-path=\"url(#clip020)\" style=\"stroke:#000000; stroke-linecap:butt; stroke-linejoin:round; stroke-width:4; stroke-opacity:1; fill:none\" points=\"\n",
       "  5275.63,1438.68 5275.63,1422.89 \n",
       "  \"/>\n",
       "<path clip-path=\"url(#clip020)\" d=\"M-2813.11 1516.95 L-2805.47 1516.95 L-2805.47 1490.58 L-2813.78 1492.25 L-2813.78 1487.99 L-2805.52 1486.32 L-2800.84 1486.32 L-2800.84 1516.95 L-2793.2 1516.95 L-2793.2 1520.88 L-2813.11 1520.88 L-2813.11 1516.95 Z\" fill=\"#000000\" fill-rule=\"evenodd\" fill-opacity=\"1\" /><path clip-path=\"url(#clip020)\" d=\"M-2773.76 1489.4 Q-2777.37 1489.4 -2779.2 1492.97 Q-2781 1496.51 -2781 1503.64 Q-2781 1510.75 -2779.2 1514.31 Q-2777.37 1517.85 -2773.76 1517.85 Q-2770.12 1517.85 -2768.32 1514.31 Q-2766.49 1510.75 -2766.49 1503.64 Q-2766.49 1496.51 -2768.32 1492.97 Q-2770.12 1489.4 -2773.76 1489.4 M-2773.76 1485.7 Q-2767.95 1485.7 -2764.89 1490.31 Q-2761.81 1494.89 -2761.81 1503.64 Q-2761.81 1512.37 -2764.89 1516.97 Q-2767.95 1521.56 -2773.76 1521.56 Q-2779.57 1521.56 -2782.65 1516.97 Q-2785.7 1512.37 -2785.7 1503.64 Q-2785.7 1494.89 -2782.65 1490.31 Q-2779.57 1485.7 -2773.76 1485.7 Z\" fill=\"#000000\" fill-rule=\"evenodd\" fill-opacity=\"1\" /><path clip-path=\"url(#clip020)\" d=\"M-2752.11 1467.9 Q-2755.04 1467.9 -2756.53 1470.79 Q-2757.99 1473.67 -2757.99 1479.46 Q-2757.99 1485.24 -2756.53 1488.13 Q-2755.04 1491.01 -2752.11 1491.01 Q-2749.15 1491.01 -2747.69 1488.13 Q-2746.2 1485.24 -2746.2 1479.46 Q-2746.2 1473.67 -2747.69 1470.79 Q-2749.15 1467.9 -2752.11 1467.9 M-2752.11 1464.89 Q-2747.39 1464.89 -2744.9 1468.63 Q-2742.4 1472.35 -2742.4 1479.46 Q-2742.4 1486.55 -2744.9 1490.3 Q-2747.39 1494.02 -2752.11 1494.02 Q-2756.83 1494.02 -2759.33 1490.3 Q-2761.81 1486.55 -2761.81 1479.46 Q-2761.81 1472.35 -2759.33 1468.63 Q-2756.83 1464.89 -2752.11 1464.89 Z\" fill=\"#000000\" fill-rule=\"evenodd\" fill-opacity=\"1\" /><path clip-path=\"url(#clip020)\" d=\"M1214.22 1516.95 L1221.85 1516.95 L1221.85 1490.58 L1213.54 1492.25 L1213.54 1487.99 L1221.81 1486.32 L1226.48 1486.32 L1226.48 1516.95 L1234.12 1516.95 L1234.12 1520.88 L1214.22 1520.88 L1214.22 1516.95 Z\" fill=\"#000000\" fill-rule=\"evenodd\" fill-opacity=\"1\" /><path clip-path=\"url(#clip020)\" d=\"M1253.57 1489.4 Q1249.96 1489.4 1248.13 1492.97 Q1246.32 1496.51 1246.32 1503.64 Q1246.32 1510.75 1248.13 1514.31 Q1249.96 1517.85 1253.57 1517.85 Q1257.2 1517.85 1259.01 1514.31 Q1260.84 1510.75 1260.84 1503.64 Q1260.84 1496.51 1259.01 1492.97 Q1257.2 1489.4 1253.57 1489.4 M1253.57 1485.7 Q1259.38 1485.7 1262.43 1490.31 Q1265.51 1494.89 1265.51 1503.64 Q1265.51 1512.37 1262.43 1516.97 Q1259.38 1521.56 1253.57 1521.56 Q1247.76 1521.56 1244.68 1516.97 Q1241.62 1512.37 1241.62 1503.64 Q1241.62 1494.89 1244.68 1490.31 Q1247.76 1485.7 1253.57 1485.7 Z\" fill=\"#000000\" fill-rule=\"evenodd\" fill-opacity=\"1\" /><path clip-path=\"url(#clip020)\" d=\"M1278.21 1478.33 Q1280.93 1478.92 1282.46 1480.76 Q1284 1482.6 1284 1485.31 Q1284 1489.47 1281.14 1491.74 Q1278.28 1494.02 1273.02 1494.02 Q1271.25 1494.02 1269.37 1493.66 Q1267.5 1493.32 1265.51 1492.63 L1265.51 1488.96 Q1267.09 1489.88 1268.97 1490.35 Q1270.85 1490.82 1272.9 1490.82 Q1276.48 1490.82 1278.34 1489.41 Q1280.22 1488 1280.22 1485.31 Q1280.22 1482.83 1278.47 1481.44 Q1276.74 1480.03 1273.64 1480.03 L1270.36 1480.03 L1270.36 1476.9 L1273.79 1476.9 Q1276.59 1476.9 1278.07 1475.79 Q1279.56 1474.67 1279.56 1472.56 Q1279.56 1470.4 1278.02 1469.25 Q1276.49 1468.08 1273.64 1468.08 Q1272.08 1468.08 1270.29 1468.42 Q1268.5 1468.76 1266.36 1469.48 L1266.36 1466.09 Q1268.52 1465.49 1270.4 1465.19 Q1272.3 1464.89 1273.97 1464.89 Q1278.3 1464.89 1280.82 1466.86 Q1283.34 1468.82 1283.34 1472.16 Q1283.34 1474.5 1282.01 1476.11 Q1280.67 1477.71 1278.21 1478.33 Z\" fill=\"#000000\" fill-rule=\"evenodd\" fill-opacity=\"1\" /><path clip-path=\"url(#clip020)\" d=\"M5240.63 1516.95 L5248.27 1516.95 L5248.27 1490.58 L5239.95 1492.25 L5239.95 1487.99 L5248.22 1486.32 L5252.89 1486.32 L5252.89 1516.95 L5260.53 1516.95 L5260.53 1520.88 L5240.63 1520.88 L5240.63 1516.95 Z\" fill=\"#000000\" fill-rule=\"evenodd\" fill-opacity=\"1\" /><path clip-path=\"url(#clip020)\" d=\"M5279.98 1489.4 Q5276.37 1489.4 5274.54 1492.97 Q5272.73 1496.51 5272.73 1503.64 Q5272.73 1510.75 5274.54 1514.31 Q5276.37 1517.85 5279.98 1517.85 Q5283.61 1517.85 5285.42 1514.31 Q5287.25 1510.75 5287.25 1503.64 Q5287.25 1496.51 5285.42 1492.97 Q5283.61 1489.4 5279.98 1489.4 M5279.98 1485.7 Q5285.79 1485.7 5288.84 1490.31 Q5291.92 1494.89 5291.92 1503.64 Q5291.92 1512.37 5288.84 1516.97 Q5285.79 1521.56 5279.98 1521.56 Q5274.17 1521.56 5271.09 1516.97 Q5268.03 1512.37 5268.03 1503.64 Q5268.03 1494.89 5271.09 1490.31 Q5274.17 1485.7 5279.98 1485.7 Z\" fill=\"#000000\" fill-rule=\"evenodd\" fill-opacity=\"1\" /><path clip-path=\"url(#clip020)\" d=\"M5301.95 1477.92 Q5299.39 1477.92 5297.88 1479.67 Q5296.4 1481.42 5296.4 1484.46 Q5296.4 1487.49 5297.88 1489.26 Q5299.39 1491.01 5301.95 1491.01 Q5304.5 1491.01 5305.99 1489.26 Q5307.5 1487.49 5307.5 1484.46 Q5307.5 1481.42 5305.99 1479.67 Q5304.5 1477.92 5301.95 1477.92 M5309.49 1466.01 L5309.49 1469.48 Q5308.06 1468.8 5306.59 1468.44 Q5305.14 1468.08 5303.71 1468.08 Q5299.95 1468.08 5297.96 1470.62 Q5295.98 1473.16 5295.7 1478.3 Q5296.81 1476.66 5298.49 1475.79 Q5300.16 1474.91 5302.17 1474.91 Q5306.4 1474.91 5308.85 1477.49 Q5311.31 1480.05 5311.31 1484.46 Q5311.31 1488.79 5308.76 1491.41 Q5306.2 1494.02 5301.95 1494.02 Q5297.08 1494.02 5294.5 1490.3 Q5291.92 1486.55 5291.92 1479.46 Q5291.92 1472.8 5295.08 1468.85 Q5298.24 1464.89 5303.56 1464.89 Q5304.99 1464.89 5306.44 1465.17 Q5307.91 1465.45 5309.49 1466.01 Z\" fill=\"#000000\" fill-rule=\"evenodd\" fill-opacity=\"1\" /><path clip-path=\"url(#clip020)\" d=\"M1318.08 1561.42 Q1318.08 1561.68 1317.79 1562.68 Q1317.5 1563.67 1316.79 1565.22 Q1316.11 1566.77 1315.18 1568.18 Q1314.24 1569.57 1312.7 1570.6 Q1311.18 1571.6 1309.45 1571.6 Q1307.13 1571.6 1305.58 1570.05 Q1304.03 1568.5 1304.03 1566.19 Q1304.03 1564.9 1304.71 1563.13 Q1308.99 1551.69 1308.99 1547.76 Q1308.99 1543.16 1305.42 1543.16 Q1303.65 1543.16 1301.97 1543.84 Q1300.33 1544.48 1299.2 1545.38 Q1298.08 1546.28 1297.05 1547.54 Q1296.05 1548.76 1295.53 1549.6 Q1295.05 1550.41 1294.66 1551.21 L1293.83 1554.5 Q1293.63 1555.4 1292.7 1558.91 L1291.25 1564.87 Q1290.22 1569.31 1289.99 1569.73 Q1289.67 1570.63 1288.96 1571.11 Q1288.25 1571.6 1287.55 1571.6 Q1286.74 1571.6 1286.19 1571.11 Q1285.65 1570.63 1285.65 1569.79 Q1285.65 1569.66 1285.74 1569.18 Q1285.84 1568.7 1286 1568.02 Q1286.16 1567.35 1286.22 1566.96 L1290.06 1551.73 Q1290.77 1548.96 1290.93 1548.09 Q1291.12 1547.18 1291.12 1546.19 Q1291.12 1543.16 1289.06 1543.16 Q1287.38 1543.16 1286.29 1545.16 Q1285.19 1547.15 1284.26 1551.02 Q1283.97 1552.08 1283.78 1552.31 Q1283.62 1552.53 1283.13 1552.53 Q1282.33 1552.5 1282.33 1551.85 Q1282.33 1551.69 1282.59 1550.63 Q1282.84 1549.57 1283.33 1548.05 Q1283.84 1546.51 1284.32 1545.48 Q1284.74 1544.7 1284.97 1544.35 Q1285.23 1543.96 1285.84 1543.22 Q1286.48 1542.45 1287.32 1542.1 Q1288.19 1541.71 1289.25 1541.71 Q1291.64 1541.71 1293.37 1543.26 Q1295.11 1544.77 1295.34 1547.44 Q1299.62 1541.71 1305.61 1541.71 Q1309.16 1541.71 1311.18 1543.58 Q1313.21 1545.45 1313.21 1548.76 Q1313.21 1549.54 1313.05 1550.53 Q1312.92 1551.5 1312.6 1552.72 Q1312.31 1553.95 1312.05 1554.88 Q1311.8 1555.82 1311.28 1557.33 Q1310.77 1558.81 1310.54 1559.46 Q1310.31 1560.1 1309.77 1561.61 Q1309.25 1563.09 1309.19 1563.26 Q1308 1566.25 1308 1567.96 Q1308 1569.08 1308.35 1569.6 Q1308.74 1570.12 1309.57 1570.12 Q1311.83 1570.12 1313.5 1567.89 Q1315.21 1565.64 1316.31 1561.97 Q1316.56 1561.16 1316.69 1560.97 Q1316.85 1560.78 1317.3 1560.78 Q1318.08 1560.78 1318.08 1561.42 Z\" fill=\"#000000\" fill-rule=\"evenodd\" fill-opacity=\"1\" /><polyline clip-path=\"url(#clip023)\" style=\"stroke:#000000; stroke-linecap:butt; stroke-linejoin:round; stroke-width:2; stroke-opacity:0.1; fill:none\" points=\"\n",
       "  251.071,885.467 2352.76,885.467 \n",
       "  \"/>\n",
       "<polyline clip-path=\"url(#clip023)\" style=\"stroke:#000000; stroke-linecap:butt; stroke-linejoin:round; stroke-width:2; stroke-opacity:0.1; fill:none\" points=\"\n",
       "  251.071,325.477 2352.76,325.477 \n",
       "  \"/>\n",
       "<polyline clip-path=\"url(#clip020)\" style=\"stroke:#000000; stroke-linecap:butt; stroke-linejoin:round; stroke-width:4; stroke-opacity:1; fill:none\" points=\"\n",
       "  251.071,1438.68 251.071,123.472 \n",
       "  \"/>\n",
       "<polyline clip-path=\"url(#clip020)\" style=\"stroke:#000000; stroke-linecap:butt; stroke-linejoin:round; stroke-width:4; stroke-opacity:1; fill:none\" points=\"\n",
       "  251.071,885.467 276.291,885.467 \n",
       "  \"/>\n",
       "<polyline clip-path=\"url(#clip020)\" style=\"stroke:#000000; stroke-linecap:butt; stroke-linejoin:round; stroke-width:4; stroke-opacity:1; fill:none\" points=\"\n",
       "  251.071,325.477 276.291,325.477 \n",
       "  \"/>\n",
       "<path clip-path=\"url(#clip020)\" d=\"M114.931 905.259 L122.57 905.259 L122.57 878.894 L114.26 880.561 L114.26 876.301 L122.524 874.635 L127.2 874.635 L127.2 905.259 L134.839 905.259 L134.839 909.195 L114.931 909.195 L114.931 905.259 Z\" fill=\"#000000\" fill-rule=\"evenodd\" fill-opacity=\"1\" /><path clip-path=\"url(#clip020)\" d=\"M154.283 877.713 Q150.672 877.713 148.843 881.278 Q147.038 884.82 147.038 891.949 Q147.038 899.056 148.843 902.621 Q150.672 906.162 154.283 906.162 Q157.917 906.162 159.723 902.621 Q161.552 899.056 161.552 891.949 Q161.552 884.82 159.723 881.278 Q157.917 877.713 154.283 877.713 M154.283 874.01 Q160.093 874.01 163.149 878.616 Q166.227 883.199 166.227 891.949 Q166.227 900.676 163.149 905.283 Q160.093 909.866 154.283 909.866 Q148.473 909.866 145.394 905.283 Q142.339 900.676 142.339 891.949 Q142.339 883.199 145.394 878.616 Q148.473 874.01 154.283 874.01 Z\" fill=\"#000000\" fill-rule=\"evenodd\" fill-opacity=\"1\" /><path clip-path=\"url(#clip020)\" d=\"M166.227 868.111 L190.339 868.111 L190.339 871.308 L166.227 871.308 L166.227 868.111 Z\" fill=\"#000000\" fill-rule=\"evenodd\" fill-opacity=\"1\" /><path clip-path=\"url(#clip020)\" d=\"M201.812 878.587 L215.071 878.587 L215.071 881.784 L197.241 881.784 L197.241 878.587 Q199.404 876.349 203.128 872.587 Q206.871 868.807 207.83 867.716 Q209.655 865.666 210.369 864.255 Q211.103 862.826 211.103 861.453 Q211.103 859.215 209.523 857.804 Q207.962 856.394 205.442 856.394 Q203.655 856.394 201.661 857.014 Q199.686 857.635 197.43 858.895 L197.43 855.058 Q199.724 854.137 201.718 853.667 Q203.711 853.196 205.366 853.196 Q209.73 853.196 212.325 855.378 Q214.921 857.56 214.921 861.209 Q214.921 862.939 214.263 864.5 Q213.623 866.042 211.912 868.149 Q211.441 868.694 208.921 871.308 Q206.401 873.904 201.812 878.587 Z\" fill=\"#000000\" fill-rule=\"evenodd\" fill-opacity=\"1\" /><path clip-path=\"url(#clip020)\" d=\"M144.366 345.27 L152.004 345.27 L152.004 318.904 L143.694 320.571 L143.694 316.311 L151.958 314.645 L156.634 314.645 L156.634 345.27 L164.273 345.27 L164.273 349.205 L144.366 349.205 L144.366 345.27 Z\" fill=\"#000000\" fill-rule=\"evenodd\" fill-opacity=\"1\" /><path clip-path=\"url(#clip020)\" d=\"M183.717 317.723 Q180.106 317.723 178.277 321.288 Q176.472 324.83 176.472 331.96 Q176.472 339.066 178.277 342.631 Q180.106 346.172 183.717 346.172 Q187.351 346.172 189.157 342.631 Q190.986 339.066 190.986 331.96 Q190.986 324.83 189.157 321.288 Q187.351 317.723 183.717 317.723 M183.717 314.02 Q189.527 314.02 192.583 318.626 Q195.662 323.21 195.662 331.96 Q195.662 340.686 192.583 345.293 Q189.527 349.876 183.717 349.876 Q177.907 349.876 174.828 345.293 Q171.773 340.686 171.773 331.96 Q171.773 323.21 174.828 318.626 Q177.907 314.02 183.717 314.02 Z\" fill=\"#000000\" fill-rule=\"evenodd\" fill-opacity=\"1\" /><path clip-path=\"url(#clip020)\" d=\"M205.366 296.216 Q202.432 296.216 200.947 299.112 Q199.48 301.99 199.48 307.783 Q199.48 313.557 200.947 316.453 Q202.432 319.331 205.366 319.331 Q208.319 319.331 209.786 316.453 Q211.272 313.557 211.272 307.783 Q211.272 301.99 209.786 299.112 Q208.319 296.216 205.366 296.216 M205.366 293.207 Q210.087 293.207 212.57 296.949 Q215.071 300.673 215.071 307.783 Q215.071 314.873 212.57 318.616 Q210.087 322.34 205.366 322.34 Q200.646 322.34 198.144 318.616 Q195.662 314.873 195.662 307.783 Q195.662 300.673 198.144 296.949 Q200.646 293.207 205.366 293.207 Z\" fill=\"#000000\" fill-rule=\"evenodd\" fill-opacity=\"1\" /><path clip-path=\"url(#clip020)\" d=\"M44.7161 1045.67 L47.5806 1045.67 L47.5806 1072.59 Q53.6281 1072.21 56.8109 1068.96 Q59.9619 1065.69 59.9619 1059.86 Q59.9619 1056.49 59.1344 1053.34 Q58.3069 1050.15 56.6518 1047.03 L62.1899 1047.03 Q63.5267 1050.18 64.227 1053.5 Q64.9272 1056.81 64.9272 1060.21 Q64.9272 1068.74 59.9619 1073.74 Q54.9967 1078.7 46.5303 1078.7 Q37.7774 1078.7 32.6531 1073.99 Q27.4968 1069.25 27.4968 1061.23 Q27.4968 1054.04 32.1438 1049.87 Q36.7589 1045.67 44.7161 1045.67 M42.9973 1051.52 Q38.1912 1051.59 35.3266 1054.23 Q32.4621 1056.84 32.4621 1061.17 Q32.4621 1066.07 35.2312 1069.03 Q38.0002 1071.96 43.0292 1072.4 L42.9973 1051.52 Z\" fill=\"#000000\" fill-rule=\"evenodd\" fill-opacity=\"1\" /><path clip-path=\"url(#clip020)\" d=\"M14.479 1036.05 L14.479 1030.2 L64.0042 1030.2 L64.0042 1036.05 L14.479 1036.05 Z\" fill=\"#000000\" fill-rule=\"evenodd\" fill-opacity=\"1\" /><path clip-path=\"url(#clip020)\" d=\"M46.0847 1001.74 Q46.0847 1008.84 47.7079 1011.58 Q49.3312 1014.31 53.2461 1014.31 Q56.3653 1014.31 58.2114 1012.28 Q60.0256 1010.21 60.0256 1006.68 Q60.0256 1001.81 56.5881 998.877 Q53.1188 995.917 47.3897 995.917 L46.0847 995.917 L46.0847 1001.74 M43.6657 990.061 L64.0042 990.061 L64.0042 995.917 L58.5933 995.917 Q61.8398 997.922 63.3994 1000.91 Q64.9272 1003.91 64.9272 1008.23 Q64.9272 1013.71 61.8716 1016.96 Q58.7843 1020.17 53.6281 1020.17 Q47.6125 1020.17 44.5569 1016.16 Q41.5014 1012.12 41.5014 1004.13 L41.5014 995.917 L40.9285 995.917 Q36.8862 995.917 34.6901 998.591 Q32.4621 1001.23 32.4621 1006.04 Q32.4621 1009.09 33.1941 1011.99 Q33.9262 1014.89 35.3903 1017.56 L29.9795 1017.56 Q28.7381 1014.35 28.1334 1011.32 Q27.4968 1008.3 27.4968 1005.43 Q27.4968 997.7 31.5072 993.88 Q35.5176 990.061 43.6657 990.061 Z\" fill=\"#000000\" fill-rule=\"evenodd\" fill-opacity=\"1\" /><path clip-path=\"url(#clip020)\" d=\"M58.657 972.332 L77.5631 972.332 L77.5631 978.221 L28.3562 978.221 L28.3562 972.332 L33.7671 972.332 Q30.5842 970.486 29.0564 967.685 Q27.4968 964.853 27.4968 960.938 Q27.4968 954.445 32.6531 950.402 Q37.8093 946.328 46.212 946.328 Q54.6147 946.328 59.771 950.402 Q64.9272 954.445 64.9272 960.938 Q64.9272 964.853 63.3994 967.685 Q61.8398 970.486 58.657 972.332 M46.212 952.408 Q39.7508 952.408 36.0905 955.081 Q32.3984 957.723 32.3984 962.37 Q32.3984 967.017 36.0905 969.69 Q39.7508 972.332 46.212 972.332 Q52.6732 972.332 56.3653 969.69 Q60.0256 967.017 60.0256 962.37 Q60.0256 957.723 56.3653 955.081 Q52.6732 952.408 46.212 952.408 Z\" fill=\"#000000\" fill-rule=\"evenodd\" fill-opacity=\"1\" /><path clip-path=\"url(#clip020)\" d=\"M29.4065 913.895 L34.9447 913.895 Q33.6716 916.378 33.035 919.051 Q32.3984 921.725 32.3984 924.589 Q32.3984 928.95 33.7352 931.146 Q35.072 933.31 37.7456 933.31 Q39.7826 933.31 40.9603 931.751 Q42.1061 930.191 43.1565 925.481 L43.6021 923.475 Q44.9389 917.237 47.3897 914.627 Q49.8086 911.985 54.1691 911.985 Q59.1344 911.985 62.0308 915.932 Q64.9272 919.847 64.9272 926.722 Q64.9272 929.587 64.3543 932.706 Q63.8132 935.793 62.6992 939.231 L56.6518 939.231 Q58.3387 935.984 59.198 932.833 Q60.0256 929.682 60.0256 926.595 Q60.0256 922.457 58.6251 920.229 Q57.1929 918.001 54.6147 918.001 Q52.2276 918.001 50.9545 919.624 Q49.6813 921.216 48.5037 926.658 L48.0262 928.695 Q46.8804 934.138 44.5251 936.557 Q42.138 938.976 38.0002 938.976 Q32.9713 938.976 30.2341 935.411 Q27.4968 931.846 27.4968 925.29 Q27.4968 922.043 27.9743 919.179 Q28.4517 916.314 29.4065 913.895 Z\" fill=\"#000000\" fill-rule=\"evenodd\" fill-opacity=\"1\" /><path clip-path=\"url(#clip020)\" d=\"M44.7161 872.168 L47.5806 872.168 L47.5806 899.095 Q53.6281 898.713 56.8109 895.466 Q59.9619 892.188 59.9619 886.363 Q59.9619 882.99 59.1344 879.839 Q58.3069 876.656 56.6518 873.536 L62.1899 873.536 Q63.5267 876.688 64.227 879.998 Q64.9272 883.308 64.9272 886.713 Q64.9272 895.244 59.9619 900.241 Q54.9967 905.206 46.5303 905.206 Q37.7774 905.206 32.6531 900.495 Q27.4968 895.753 27.4968 887.732 Q27.4968 880.539 32.1438 876.369 Q36.7589 872.168 44.7161 872.168 M42.9973 878.024 Q38.1912 878.088 35.3266 880.73 Q32.4621 883.34 32.4621 887.668 Q32.4621 892.57 35.2312 895.53 Q38.0002 898.458 43.0292 898.904 L42.9973 878.024 Z\" fill=\"#000000\" fill-rule=\"evenodd\" fill-opacity=\"1\" /><path clip-path=\"url(#clip020)\" d=\"M33.7671 839.098 L14.479 839.098 L14.479 833.242 L64.0042 833.242 L64.0042 839.098 L58.657 839.098 Q61.8398 840.944 63.3994 843.777 Q64.9272 846.578 64.9272 850.524 Q64.9272 856.986 59.771 861.06 Q54.6147 865.102 46.212 865.102 Q37.8093 865.102 32.6531 861.06 Q27.4968 856.986 27.4968 850.524 Q27.4968 846.578 29.0564 843.777 Q30.5842 840.944 33.7671 839.098 M46.212 859.054 Q52.6732 859.054 56.3653 856.413 Q60.0256 853.739 60.0256 849.092 Q60.0256 844.445 56.3653 841.772 Q52.6732 839.098 46.212 839.098 Q39.7508 839.098 36.0905 841.772 Q32.3984 844.445 32.3984 849.092 Q32.3984 853.739 36.0905 856.413 Q39.7508 859.054 46.212 859.054 Z\" fill=\"#000000\" fill-rule=\"evenodd\" fill-opacity=\"1\" /><path clip-path=\"url(#clip020)\" d=\"M18.2347 794.665 L28.3562 794.665 L28.3562 782.602 L32.9077 782.602 L32.9077 794.665 L52.2594 794.665 Q56.6199 794.665 57.8613 793.488 Q59.1026 792.278 59.1026 788.618 L59.1026 782.602 L64.0042 782.602 L64.0042 788.618 Q64.0042 795.397 61.4897 797.976 Q58.9434 800.554 52.2594 800.554 L32.9077 800.554 L32.9077 804.851 L28.3562 804.851 L28.3562 800.554 L18.2347 800.554 L18.2347 794.665 Z\" fill=\"#000000\" fill-rule=\"evenodd\" fill-opacity=\"1\" /><path clip-path=\"url(#clip020)\" d=\"M28.3562 774.9 L28.3562 769.043 L64.0042 769.043 L64.0042 774.9 L28.3562 774.9 M14.479 774.9 L14.479 769.043 L21.895 769.043 L21.895 774.9 L14.479 774.9 Z\" fill=\"#000000\" fill-rule=\"evenodd\" fill-opacity=\"1\" /><path clip-path=\"url(#clip020)\" d=\"M35.1993 729.035 Q31.2526 726.839 29.3747 723.783 Q27.4968 720.728 27.4968 716.59 Q27.4968 711.02 31.4117 707.996 Q35.2948 704.973 42.4881 704.973 L64.0042 704.973 L64.0042 710.861 L42.679 710.861 Q37.5546 710.861 35.072 712.675 Q32.5894 714.489 32.5894 718.213 Q32.5894 722.765 35.6131 725.406 Q38.6368 728.048 43.8567 728.048 L64.0042 728.048 L64.0042 733.937 L42.679 733.937 Q37.5228 733.937 35.072 735.751 Q32.5894 737.565 32.5894 741.353 Q32.5894 745.84 35.6449 748.482 Q38.6686 751.124 43.8567 751.124 L64.0042 751.124 L64.0042 757.012 L28.3562 757.012 L28.3562 751.124 L33.8944 751.124 Q30.616 749.119 29.0564 746.318 Q27.4968 743.517 27.4968 739.666 Q27.4968 735.783 29.4702 733.077 Q31.4436 730.34 35.1993 729.035 Z\" fill=\"#000000\" fill-rule=\"evenodd\" fill-opacity=\"1\" /><path clip-path=\"url(#clip020)\" d=\"M44.7161 662.8 L47.5806 662.8 L47.5806 689.727 Q53.6281 689.345 56.8109 686.098 Q59.9619 682.82 59.9619 676.995 Q59.9619 673.621 59.1344 670.47 Q58.3069 667.288 56.6518 664.168 L62.1899 664.168 Q63.5267 667.319 64.227 670.63 Q64.9272 673.94 64.9272 677.345 Q64.9272 685.875 59.9619 690.873 Q54.9967 695.838 46.5303 695.838 Q37.7774 695.838 32.6531 691.127 Q27.4968 686.385 27.4968 678.364 Q27.4968 671.171 32.1438 667.001 Q36.7589 662.8 44.7161 662.8 M42.9973 668.656 Q38.1912 668.72 35.3266 671.362 Q32.4621 673.972 32.4621 678.3 Q32.4621 683.202 35.2312 686.162 Q38.0002 689.09 43.0292 689.536 L42.9973 668.656 Z\" fill=\"#000000\" fill-rule=\"evenodd\" fill-opacity=\"1\" /><path clip-path=\"url(#clip020)\" d=\"M14.5426 618.399 Q21.8632 622.664 29.0246 624.733 Q36.186 626.802 43.5384 626.802 Q50.8908 626.802 58.1159 624.733 Q65.3091 622.632 72.5979 618.399 L72.5979 623.492 Q65.1182 628.266 57.8931 630.653 Q50.668 633.008 43.5384 633.008 Q36.4406 633.008 29.2474 630.653 Q22.0542 628.298 14.5426 623.492 L14.5426 618.399 Z\" fill=\"#000000\" fill-rule=\"evenodd\" fill-opacity=\"1\" /><path clip-path=\"url(#clip020)\" d=\"M29.4065 584.311 L34.9447 584.311 Q33.6716 586.793 33.035 589.467 Q32.3984 592.14 32.3984 595.005 Q32.3984 599.365 33.7352 601.562 Q35.072 603.726 37.7456 603.726 Q39.7826 603.726 40.9603 602.166 Q42.1061 600.607 43.1565 595.896 L43.6021 593.891 Q44.9389 587.653 47.3897 585.043 Q49.8086 582.401 54.1691 582.401 Q59.1344 582.401 62.0308 586.348 Q64.9272 590.263 64.9272 597.137 Q64.9272 600.002 64.3543 603.121 Q63.8132 606.209 62.6992 609.646 L56.6518 609.646 Q58.3387 606.4 59.198 603.249 Q60.0256 600.098 60.0256 597.01 Q60.0256 592.872 58.6251 590.644 Q57.1929 588.416 54.6147 588.416 Q52.2276 588.416 50.9545 590.04 Q49.6813 591.631 48.5037 597.074 L48.0262 599.111 Q46.8804 604.554 44.5251 606.973 Q42.138 609.391 38.0002 609.391 Q32.9713 609.391 30.2341 605.827 Q27.4968 602.262 27.4968 595.705 Q27.4968 592.459 27.9743 589.594 Q28.4517 586.73 29.4065 584.311 Z\" fill=\"#000000\" fill-rule=\"evenodd\" fill-opacity=\"1\" /><path clip-path=\"url(#clip020)\" d=\"M44.7161 542.583 L47.5806 542.583 L47.5806 569.51 Q53.6281 569.128 56.8109 565.882 Q59.9619 562.604 59.9619 556.779 Q59.9619 553.405 59.1344 550.254 Q58.3069 547.071 56.6518 543.952 L62.1899 543.952 Q63.5267 547.103 64.227 550.413 Q64.9272 553.723 64.9272 557.129 Q64.9272 565.659 59.9619 570.656 Q54.9967 575.621 46.5303 575.621 Q37.7774 575.621 32.6531 570.911 Q27.4968 566.168 27.4968 558.148 Q27.4968 550.954 32.1438 546.785 Q36.7589 542.583 44.7161 542.583 M42.9973 548.44 Q38.1912 548.504 35.3266 551.145 Q32.4621 553.755 32.4621 558.084 Q32.4621 562.985 35.2312 565.946 Q38.0002 568.874 43.0292 569.319 L42.9973 548.44 Z\" fill=\"#000000\" fill-rule=\"evenodd\" fill-opacity=\"1\" /><path clip-path=\"url(#clip020)\" d=\"M29.7248 507.317 L35.1993 507.317 Q33.8307 509.8 33.1623 512.314 Q32.4621 514.797 32.4621 517.343 Q32.4621 523.041 36.0905 526.192 Q39.6872 529.343 46.212 529.343 Q52.7369 529.343 56.3653 526.192 Q59.9619 523.041 59.9619 517.343 Q59.9619 514.797 59.2935 512.314 Q58.5933 509.8 57.2247 507.317 L62.6355 507.317 Q63.7814 509.768 64.3543 512.41 Q64.9272 515.02 64.9272 517.98 Q64.9272 526.033 59.8664 530.775 Q54.8057 535.517 46.212 535.517 Q37.491 535.517 32.4939 530.743 Q27.4968 525.937 27.4968 517.598 Q27.4968 514.893 28.0697 512.314 Q28.6108 509.736 29.7248 507.317 Z\" fill=\"#000000\" fill-rule=\"evenodd\" fill-opacity=\"1\" /><path clip-path=\"url(#clip020)\" d=\"M14.5426 498.055 L14.5426 492.963 Q22.0542 488.188 29.2474 485.833 Q36.4406 483.446 43.5384 483.446 Q50.668 483.446 57.8931 485.833 Q65.1182 488.188 72.5979 492.963 L72.5979 498.055 Q65.3091 493.822 58.1159 491.753 Q50.8908 489.653 43.5384 489.653 Q36.186 489.653 29.0246 491.753 Q21.8632 493.822 14.5426 498.055 Z\" fill=\"#000000\" fill-rule=\"evenodd\" fill-opacity=\"1\" /><path clip-path=\"url(#clip020)\" d=\"M655.106 12.096 L706.269 12.096 L706.269 18.9825 L684.799 18.9825 L684.799 72.576 L676.575 72.576 L676.575 18.9825 L655.106 18.9825 L655.106 12.096 Z\" fill=\"#000000\" fill-rule=\"evenodd\" fill-opacity=\"1\" /><path clip-path=\"url(#clip020)\" d=\"M711.292 27.2059 L718.745 27.2059 L718.745 72.576 L711.292 72.576 L711.292 27.2059 M711.292 9.54393 L718.745 9.54393 L718.745 18.9825 L711.292 18.9825 L711.292 9.54393 Z\" fill=\"#000000\" fill-rule=\"evenodd\" fill-opacity=\"1\" /><path clip-path=\"url(#clip020)\" d=\"M769.665 35.9153 Q772.46 30.8922 776.349 28.5022 Q780.238 26.1121 785.504 26.1121 Q792.593 26.1121 796.442 31.0947 Q800.29 36.0368 800.29 45.1919 L800.29 72.576 L792.796 72.576 L792.796 45.4349 Q792.796 38.913 790.487 35.7533 Q788.178 32.5936 783.438 32.5936 Q777.646 32.5936 774.283 36.4419 Q770.921 40.2903 770.921 46.9338 L770.921 72.576 L763.427 72.576 L763.427 45.4349 Q763.427 38.8725 761.118 35.7533 Q758.809 32.5936 753.988 32.5936 Q748.276 32.5936 744.914 36.4824 Q741.552 40.3308 741.552 46.9338 L741.552 72.576 L734.058 72.576 L734.058 27.2059 L741.552 27.2059 L741.552 34.2544 Q744.104 30.082 747.669 28.0971 Q751.234 26.1121 756.135 26.1121 Q761.077 26.1121 764.521 28.6237 Q768.004 31.1352 769.665 35.9153 Z\" fill=\"#000000\" fill-rule=\"evenodd\" fill-opacity=\"1\" /><path clip-path=\"url(#clip020)\" d=\"M815.157 27.2059 L822.611 27.2059 L822.611 72.576 L815.157 72.576 L815.157 27.2059 M815.157 9.54393 L822.611 9.54393 L822.611 18.9825 L815.157 18.9825 L815.157 9.54393 Z\" fill=\"#000000\" fill-rule=\"evenodd\" fill-opacity=\"1\" /><path clip-path=\"url(#clip020)\" d=\"M875.92 45.1919 L875.92 72.576 L868.467 72.576 L868.467 45.4349 Q868.467 38.994 865.955 35.7938 Q863.444 32.5936 858.421 32.5936 Q852.385 32.5936 848.901 36.4419 Q845.417 40.2903 845.417 46.9338 L845.417 72.576 L837.923 72.576 L837.923 27.2059 L845.417 27.2059 L845.417 34.2544 Q848.091 30.163 851.696 28.1376 Q855.342 26.1121 860.081 26.1121 Q867.9 26.1121 871.91 30.9732 Q875.92 35.7938 875.92 45.1919 Z\" fill=\"#000000\" fill-rule=\"evenodd\" fill-opacity=\"1\" /><path clip-path=\"url(#clip020)\" d=\"M920.642 49.3643 Q920.642 41.2625 917.28 36.8065 Q913.958 32.3505 907.923 32.3505 Q901.927 32.3505 898.565 36.8065 Q895.243 41.2625 895.243 49.3643 Q895.243 57.4256 898.565 61.8816 Q901.927 66.3376 907.923 66.3376 Q913.958 66.3376 917.28 61.8816 Q920.642 57.4256 920.642 49.3643 M928.096 66.9452 Q928.096 78.5308 922.951 84.1616 Q917.807 89.8329 907.193 89.8329 Q903.264 89.8329 899.78 89.2252 Q896.297 88.6581 893.015 87.4428 L893.015 80.1917 Q896.297 81.9741 899.497 82.8248 Q902.697 83.6755 906.019 83.6755 Q913.351 83.6755 916.997 79.8271 Q920.642 76.0193 920.642 68.282 L920.642 64.5957 Q918.333 68.6061 914.728 70.5911 Q911.123 72.576 906.1 72.576 Q897.755 72.576 892.651 66.2161 Q887.547 59.8562 887.547 49.3643 Q887.547 38.832 892.651 32.472 Q897.755 26.1121 906.1 26.1121 Q911.123 26.1121 914.728 28.0971 Q918.333 30.082 920.642 34.0924 L920.642 27.2059 L928.096 27.2059 L928.096 66.9452 Z\" fill=\"#000000\" fill-rule=\"evenodd\" fill-opacity=\"1\" /><path clip-path=\"url(#clip020)\" d=\"M987.401 32.4315 Q981.406 32.4315 977.922 37.1306 Q974.438 41.7891 974.438 49.9314 Q974.438 58.0738 977.882 62.7728 Q981.366 67.4314 987.401 67.4314 Q993.356 67.4314 996.84 62.7323 Q1000.32 58.0333 1000.32 49.9314 Q1000.32 41.8701 996.84 37.1711 Q993.356 32.4315 987.401 32.4315 M987.401 26.1121 Q997.124 26.1121 1002.67 32.4315 Q1008.22 38.7509 1008.22 49.9314 Q1008.22 61.0714 1002.67 67.4314 Q997.124 73.7508 987.401 73.7508 Q977.639 73.7508 972.089 67.4314 Q966.58 61.0714 966.58 49.9314 Q966.58 38.7509 972.089 32.4315 Q977.639 26.1121 987.401 26.1121 Z\" fill=\"#000000\" fill-rule=\"evenodd\" fill-opacity=\"1\" /><path clip-path=\"url(#clip020)\" d=\"M1043.55 9.54393 L1043.55 15.7418 L1036.42 15.7418 Q1032.41 15.7418 1030.83 17.3622 Q1029.29 18.9825 1029.29 23.1955 L1029.29 27.2059 L1041.56 27.2059 L1041.56 32.9987 L1029.29 32.9987 L1029.29 72.576 L1021.79 72.576 L1021.79 32.9987 L1014.66 32.9987 L1014.66 27.2059 L1021.79 27.2059 L1021.79 24.0462 Q1021.79 16.471 1025.32 13.0277 Q1028.84 9.54393 1036.5 9.54393 L1043.55 9.54393 Z\" fill=\"#000000\" fill-rule=\"evenodd\" fill-opacity=\"1\" /><path clip-path=\"url(#clip020)\" d=\"M1111.48 35.9153 Q1114.28 30.8922 1118.16 28.5022 Q1122.05 26.1121 1127.32 26.1121 Q1134.41 26.1121 1138.26 31.0947 Q1142.11 36.0368 1142.11 45.1919 L1142.11 72.576 L1134.61 72.576 L1134.61 45.4349 Q1134.61 38.913 1132.3 35.7533 Q1129.99 32.5936 1125.25 32.5936 Q1119.46 32.5936 1116.1 36.4419 Q1112.74 40.2903 1112.74 46.9338 L1112.74 72.576 L1105.24 72.576 L1105.24 45.4349 Q1105.24 38.8725 1102.93 35.7533 Q1100.62 32.5936 1095.8 32.5936 Q1090.09 32.5936 1086.73 36.4824 Q1083.37 40.3308 1083.37 46.9338 L1083.37 72.576 L1075.87 72.576 L1075.87 27.2059 L1083.37 27.2059 L1083.37 34.2544 Q1085.92 30.082 1089.48 28.0971 Q1093.05 26.1121 1097.95 26.1121 Q1102.89 26.1121 1106.34 28.6237 Q1109.82 31.1352 1111.48 35.9153 Z\" fill=\"#000000\" fill-rule=\"evenodd\" fill-opacity=\"1\" /><path clip-path=\"url(#clip020)\" d=\"M1177.59 49.7694 Q1168.56 49.7694 1165.07 51.8354 Q1161.59 53.9013 1161.59 58.8839 Q1161.59 62.8538 1164.18 65.2034 Q1166.82 67.5124 1171.31 67.5124 Q1177.51 67.5124 1181.24 63.1374 Q1185 58.7219 1185 51.4303 L1185 49.7694 L1177.59 49.7694 M1192.46 46.6907 L1192.46 72.576 L1185 72.576 L1185 65.6895 Q1182.45 69.8214 1178.64 71.8063 Q1174.84 73.7508 1169.33 73.7508 Q1162.36 73.7508 1158.23 69.8619 Q1154.14 65.9325 1154.14 59.3701 Q1154.14 51.7138 1159.24 47.825 Q1164.39 43.9361 1174.55 43.9361 L1185 43.9361 L1185 43.2069 Q1185 38.0623 1181.6 35.2672 Q1178.24 32.4315 1172.12 32.4315 Q1168.23 32.4315 1164.55 33.3632 Q1160.86 34.295 1157.46 36.1584 L1157.46 29.2718 Q1161.55 27.692 1165.4 26.9223 Q1169.25 26.1121 1172.89 26.1121 Q1182.74 26.1121 1187.6 31.2163 Q1192.46 36.3204 1192.46 46.6907 Z\" fill=\"#000000\" fill-rule=\"evenodd\" fill-opacity=\"1\" /><path clip-path=\"url(#clip020)\" d=\"M1215.18 14.324 L1215.18 27.2059 L1230.54 27.2059 L1230.54 32.9987 L1215.18 32.9987 L1215.18 57.6282 Q1215.18 63.1779 1216.68 64.7578 Q1218.22 66.3376 1222.88 66.3376 L1230.54 66.3376 L1230.54 72.576 L1222.88 72.576 Q1214.25 72.576 1210.97 69.3758 Q1207.69 66.1351 1207.69 57.6282 L1207.69 32.9987 L1202.22 32.9987 L1202.22 27.2059 L1207.69 27.2059 L1207.69 14.324 L1215.18 14.324 Z\" fill=\"#000000\" fill-rule=\"evenodd\" fill-opacity=\"1\" /><path clip-path=\"url(#clip020)\" d=\"M1266.63 34.1734 Q1265.37 33.4443 1263.88 33.1202 Q1262.42 32.7556 1260.63 32.7556 Q1254.32 32.7556 1250.91 36.8875 Q1247.55 40.9789 1247.55 48.6757 L1247.55 72.576 L1240.06 72.576 L1240.06 27.2059 L1247.55 27.2059 L1247.55 34.2544 Q1249.9 30.1225 1253.67 28.1376 Q1257.43 26.1121 1262.82 26.1121 Q1263.59 26.1121 1264.52 26.2337 Q1265.46 26.3147 1266.59 26.5172 L1266.63 34.1734 Z\" fill=\"#000000\" fill-rule=\"evenodd\" fill-opacity=\"1\" /><path clip-path=\"url(#clip020)\" d=\"M1274.45 27.2059 L1281.9 27.2059 L1281.9 72.576 L1274.45 72.576 L1274.45 27.2059 M1274.45 9.54393 L1281.9 9.54393 L1281.9 18.9825 L1274.45 18.9825 L1274.45 9.54393 Z\" fill=\"#000000\" fill-rule=\"evenodd\" fill-opacity=\"1\" /><path clip-path=\"url(#clip020)\" d=\"M1335.21 27.2059 L1318.81 49.2833 L1336.06 72.576 L1327.27 72.576 L1314.07 54.752 L1300.86 72.576 L1292.07 72.576 L1309.69 48.8377 L1293.57 27.2059 L1302.36 27.2059 L1314.39 43.369 L1326.42 27.2059 L1335.21 27.2059 Z\" fill=\"#000000\" fill-rule=\"evenodd\" fill-opacity=\"1\" /><path clip-path=\"url(#clip020)\" d=\"M1408.29 35.9153 Q1411.09 30.8922 1414.97 28.5022 Q1418.86 26.1121 1424.13 26.1121 Q1431.22 26.1121 1435.07 31.0947 Q1438.92 36.0368 1438.92 45.1919 L1438.92 72.576 L1431.42 72.576 L1431.42 45.4349 Q1431.42 38.913 1429.11 35.7533 Q1426.8 32.5936 1422.06 32.5936 Q1416.27 32.5936 1412.91 36.4419 Q1409.55 40.2903 1409.55 46.9338 L1409.55 72.576 L1402.05 72.576 L1402.05 45.4349 Q1402.05 38.8725 1399.74 35.7533 Q1397.43 32.5936 1392.61 32.5936 Q1386.9 32.5936 1383.54 36.4824 Q1380.18 40.3308 1380.18 46.9338 L1380.18 72.576 L1372.68 72.576 L1372.68 27.2059 L1380.18 27.2059 L1380.18 34.2544 Q1382.73 30.082 1386.29 28.0971 Q1389.86 26.1121 1394.76 26.1121 Q1399.7 26.1121 1403.15 28.6237 Q1406.63 31.1352 1408.29 35.9153 Z\" fill=\"#000000\" fill-rule=\"evenodd\" fill-opacity=\"1\" /><path clip-path=\"url(#clip020)\" d=\"M1453.01 54.671 L1453.01 27.2059 L1460.47 27.2059 L1460.47 54.3874 Q1460.47 60.8284 1462.98 64.0691 Q1465.49 67.2693 1470.51 67.2693 Q1476.55 67.2693 1480.03 63.421 Q1483.56 59.5726 1483.56 52.9291 L1483.56 27.2059 L1491.01 27.2059 L1491.01 72.576 L1483.56 72.576 L1483.56 65.6084 Q1480.84 69.7404 1477.24 71.7658 Q1473.67 73.7508 1468.93 73.7508 Q1461.11 73.7508 1457.06 68.8897 Q1453.01 64.0286 1453.01 54.671 M1471.77 26.1121 L1471.77 26.1121 Z\" fill=\"#000000\" fill-rule=\"evenodd\" fill-opacity=\"1\" /><path clip-path=\"url(#clip020)\" d=\"M1506.36 9.54393 L1513.82 9.54393 L1513.82 72.576 L1506.36 72.576 L1506.36 9.54393 Z\" fill=\"#000000\" fill-rule=\"evenodd\" fill-opacity=\"1\" /><path clip-path=\"url(#clip020)\" d=\"M1536.79 14.324 L1536.79 27.2059 L1552.14 27.2059 L1552.14 32.9987 L1536.79 32.9987 L1536.79 57.6282 Q1536.79 63.1779 1538.28 64.7578 Q1539.82 66.3376 1544.48 66.3376 L1552.14 66.3376 L1552.14 72.576 L1544.48 72.576 Q1535.85 72.576 1532.57 69.3758 Q1529.29 66.1351 1529.29 57.6282 L1529.29 32.9987 L1523.82 32.9987 L1523.82 27.2059 L1529.29 27.2059 L1529.29 14.324 L1536.79 14.324 Z\" fill=\"#000000\" fill-rule=\"evenodd\" fill-opacity=\"1\" /><path clip-path=\"url(#clip020)\" d=\"M1561.94 27.2059 L1569.39 27.2059 L1569.39 72.576 L1561.94 72.576 L1561.94 27.2059 M1561.94 9.54393 L1569.39 9.54393 L1569.39 18.9825 L1561.94 18.9825 L1561.94 9.54393 Z\" fill=\"#000000\" fill-rule=\"evenodd\" fill-opacity=\"1\" /><path clip-path=\"url(#clip020)\" d=\"M1592.2 65.7705 L1592.2 89.8329 L1584.71 89.8329 L1584.71 27.2059 L1592.2 27.2059 L1592.2 34.0924 Q1594.55 30.0415 1598.12 28.0971 Q1601.72 26.1121 1606.7 26.1121 Q1614.97 26.1121 1620.11 32.6746 Q1625.3 39.2371 1625.3 49.9314 Q1625.3 60.6258 1620.11 67.1883 Q1614.97 73.7508 1606.7 73.7508 Q1601.72 73.7508 1598.12 71.8063 Q1594.55 69.8214 1592.2 65.7705 M1617.56 49.9314 Q1617.56 41.7081 1614.16 37.0496 Q1610.8 32.3505 1604.88 32.3505 Q1598.97 32.3505 1595.56 37.0496 Q1592.2 41.7081 1592.2 49.9314 Q1592.2 58.1548 1595.56 62.8538 Q1598.97 67.5124 1604.88 67.5124 Q1610.8 67.5124 1614.16 62.8538 Q1617.56 58.1548 1617.56 49.9314 Z\" fill=\"#000000\" fill-rule=\"evenodd\" fill-opacity=\"1\" /><path clip-path=\"url(#clip020)\" d=\"M1637.65 9.54393 L1645.11 9.54393 L1645.11 72.576 L1637.65 72.576 L1637.65 9.54393 Z\" fill=\"#000000\" fill-rule=\"evenodd\" fill-opacity=\"1\" /><path clip-path=\"url(#clip020)\" d=\"M1660.7 27.2059 L1668.16 27.2059 L1668.16 72.576 L1660.7 72.576 L1660.7 27.2059 M1660.7 9.54393 L1668.16 9.54393 L1668.16 18.9825 L1660.7 18.9825 L1660.7 9.54393 Z\" fill=\"#000000\" fill-rule=\"evenodd\" fill-opacity=\"1\" /><path clip-path=\"url(#clip020)\" d=\"M1716.4 28.9478 L1716.4 35.9153 Q1713.24 34.1734 1710.04 33.3227 Q1706.88 32.4315 1703.64 32.4315 Q1696.39 32.4315 1692.38 37.0496 Q1688.37 41.6271 1688.37 49.9314 Q1688.37 58.2358 1692.38 62.8538 Q1696.39 67.4314 1703.64 67.4314 Q1706.88 67.4314 1710.04 66.5807 Q1713.24 65.6895 1716.4 63.9476 L1716.4 70.8341 Q1713.28 72.2924 1709.92 73.0216 Q1706.6 73.7508 1702.83 73.7508 Q1692.58 73.7508 1686.55 67.3098 Q1680.51 60.8689 1680.51 49.9314 Q1680.51 38.832 1686.59 32.472 Q1692.7 26.1121 1703.32 26.1121 Q1706.76 26.1121 1710.04 26.8413 Q1713.32 27.5299 1716.4 28.9478 Z\" fill=\"#000000\" fill-rule=\"evenodd\" fill-opacity=\"1\" /><path clip-path=\"url(#clip020)\" d=\"M1749.98 49.7694 Q1740.95 49.7694 1737.47 51.8354 Q1733.98 53.9013 1733.98 58.8839 Q1733.98 62.8538 1736.58 65.2034 Q1739.21 67.5124 1743.71 67.5124 Q1749.9 67.5124 1753.63 63.1374 Q1757.4 58.7219 1757.4 51.4303 L1757.4 49.7694 L1749.98 49.7694 M1764.85 46.6907 L1764.85 72.576 L1757.4 72.576 L1757.4 65.6895 Q1754.85 69.8214 1751.04 71.8063 Q1747.23 73.7508 1741.72 73.7508 Q1734.75 73.7508 1730.62 69.8619 Q1726.53 65.9325 1726.53 59.3701 Q1726.53 51.7138 1731.63 47.825 Q1736.78 43.9361 1746.95 43.9361 L1757.4 43.9361 L1757.4 43.2069 Q1757.4 38.0623 1753.99 35.2672 Q1750.63 32.4315 1744.52 32.4315 Q1740.63 32.4315 1736.94 33.3632 Q1733.25 34.295 1729.85 36.1584 L1729.85 29.2718 Q1733.94 27.692 1737.79 26.9223 Q1741.64 26.1121 1745.29 26.1121 Q1755.13 26.1121 1759.99 31.2163 Q1764.85 36.3204 1764.85 46.6907 Z\" fill=\"#000000\" fill-rule=\"evenodd\" fill-opacity=\"1\" /><path clip-path=\"url(#clip020)\" d=\"M1787.58 14.324 L1787.58 27.2059 L1802.93 27.2059 L1802.93 32.9987 L1787.58 32.9987 L1787.58 57.6282 Q1787.58 63.1779 1789.08 64.7578 Q1790.61 66.3376 1795.27 66.3376 L1802.93 66.3376 L1802.93 72.576 L1795.27 72.576 Q1786.64 72.576 1783.36 69.3758 Q1780.08 66.1351 1780.08 57.6282 L1780.08 32.9987 L1774.61 32.9987 L1774.61 27.2059 L1780.08 27.2059 L1780.08 14.324 L1787.58 14.324 Z\" fill=\"#000000\" fill-rule=\"evenodd\" fill-opacity=\"1\" /><path clip-path=\"url(#clip020)\" d=\"M1812.73 27.2059 L1820.19 27.2059 L1820.19 72.576 L1812.73 72.576 L1812.73 27.2059 M1812.73 9.54393 L1820.19 9.54393 L1820.19 18.9825 L1812.73 18.9825 L1812.73 9.54393 Z\" fill=\"#000000\" fill-rule=\"evenodd\" fill-opacity=\"1\" /><path clip-path=\"url(#clip020)\" d=\"M1853.36 32.4315 Q1847.37 32.4315 1843.88 37.1306 Q1840.4 41.7891 1840.4 49.9314 Q1840.4 58.0738 1843.84 62.7728 Q1847.33 67.4314 1853.36 67.4314 Q1859.32 67.4314 1862.8 62.7323 Q1866.29 58.0333 1866.29 49.9314 Q1866.29 41.8701 1862.8 37.1711 Q1859.32 32.4315 1853.36 32.4315 M1853.36 26.1121 Q1863.09 26.1121 1868.64 32.4315 Q1874.18 38.7509 1874.18 49.9314 Q1874.18 61.0714 1868.64 67.4314 Q1863.09 73.7508 1853.36 73.7508 Q1843.6 73.7508 1838.05 67.4314 Q1832.54 61.0714 1832.54 49.9314 Q1832.54 38.7509 1838.05 32.4315 Q1843.6 26.1121 1853.36 26.1121 Z\" fill=\"#000000\" fill-rule=\"evenodd\" fill-opacity=\"1\" /><path clip-path=\"url(#clip020)\" d=\"M1924.25 45.1919 L1924.25 72.576 L1916.8 72.576 L1916.8 45.4349 Q1916.8 38.994 1914.29 35.7938 Q1911.78 32.5936 1906.75 32.5936 Q1900.72 32.5936 1897.23 36.4419 Q1893.75 40.2903 1893.75 46.9338 L1893.75 72.576 L1886.26 72.576 L1886.26 27.2059 L1893.75 27.2059 L1893.75 34.2544 Q1896.42 30.163 1900.03 28.1376 Q1903.68 26.1121 1908.41 26.1121 Q1916.23 26.1121 1920.24 30.9732 Q1924.25 35.7938 1924.25 45.1919 Z\" fill=\"#000000\" fill-rule=\"evenodd\" fill-opacity=\"1\" /><path clip-path=\"url(#clip020)\" d=\"M1940.17 62.2867 L1948.72 62.2867 L1948.72 72.576 L1940.17 72.576 L1940.17 62.2867 Z\" fill=\"#000000\" fill-rule=\"evenodd\" fill-opacity=\"1\" /><polyline clip-path=\"url(#clip023)\" style=\"stroke:#009af9; stroke-linecap:butt; stroke-linejoin:round; stroke-width:4; stroke-opacity:1; fill:none\" points=\"\n",
       "  310.553,1153.92 714.622,1019.73 950.987,911.782 1118.69,837.349 1248.77,712.671 1355.06,717.141 1444.92,650.309 1522.76,623.226 1591.42,586.077 1652.84,538.14 \n",
       "  1708.4,503.392 1759.12,469.994 1805.79,396.015 1848.99,452.058 1889.21,395.286 1926.83,402.879 1962.17,371.59 1995.49,320.248 2027.01,336.791 2056.91,324.275 \n",
       "  2085.35,294.734 2112.47,279.263 2138.38,267.443 2163.19,256.773 2186.99,243.047 2209.85,229.087 2231.85,191.022 2253.06,177.543 2273.51,170.601 2293.27,160.695 \n",
       "  \n",
       "  \"/>\n",
       "<path clip-path=\"url(#clip023)\" d=\"M310.553 1169.92 L299.241 1165.23 L294.553 1153.92 L299.241 1142.6 L310.553 1137.92 L321.865 1142.6 L326.553 1153.92 L321.865 1165.23 Z\" fill=\"#009af9\" fill-rule=\"evenodd\" fill-opacity=\"1\" stroke=\"#000000\" stroke-opacity=\"1\" stroke-width=\"3.2\"/>\n",
       "<path clip-path=\"url(#clip023)\" d=\"M714.622 1035.73 L703.31 1031.04 L698.622 1019.73 L703.31 1008.42 L714.622 1003.73 L725.934 1008.42 L730.622 1019.73 L725.934 1031.04 Z\" fill=\"#009af9\" fill-rule=\"evenodd\" fill-opacity=\"1\" stroke=\"#000000\" stroke-opacity=\"1\" stroke-width=\"3.2\"/>\n",
       "<path clip-path=\"url(#clip023)\" d=\"M950.987 927.782 L939.675 923.094 L934.987 911.782 L939.675 900.47 L950.987 895.782 L962.299 900.47 L966.987 911.782 L962.299 923.094 Z\" fill=\"#009af9\" fill-rule=\"evenodd\" fill-opacity=\"1\" stroke=\"#000000\" stroke-opacity=\"1\" stroke-width=\"3.2\"/>\n",
       "<path clip-path=\"url(#clip023)\" d=\"M1118.69 853.349 L1107.38 848.661 L1102.69 837.349 L1107.38 826.037 L1118.69 821.349 L1130 826.037 L1134.69 837.349 L1130 848.661 Z\" fill=\"#009af9\" fill-rule=\"evenodd\" fill-opacity=\"1\" stroke=\"#000000\" stroke-opacity=\"1\" stroke-width=\"3.2\"/>\n",
       "<path clip-path=\"url(#clip023)\" d=\"M1248.77 728.671 L1237.46 723.983 L1232.77 712.671 L1237.46 701.359 L1248.77 696.671 L1260.08 701.359 L1264.77 712.671 L1260.08 723.983 Z\" fill=\"#009af9\" fill-rule=\"evenodd\" fill-opacity=\"1\" stroke=\"#000000\" stroke-opacity=\"1\" stroke-width=\"3.2\"/>\n",
       "<path clip-path=\"url(#clip023)\" d=\"M1355.06 733.141 L1343.74 728.453 L1339.06 717.141 L1343.74 705.829 L1355.06 701.141 L1366.37 705.829 L1371.06 717.141 L1366.37 728.453 Z\" fill=\"#009af9\" fill-rule=\"evenodd\" fill-opacity=\"1\" stroke=\"#000000\" stroke-opacity=\"1\" stroke-width=\"3.2\"/>\n",
       "<path clip-path=\"url(#clip023)\" d=\"M1444.92 666.309 L1433.61 661.621 L1428.92 650.309 L1433.61 638.997 L1444.92 634.309 L1456.23 638.997 L1460.92 650.309 L1456.23 661.621 Z\" fill=\"#009af9\" fill-rule=\"evenodd\" fill-opacity=\"1\" stroke=\"#000000\" stroke-opacity=\"1\" stroke-width=\"3.2\"/>\n",
       "<path clip-path=\"url(#clip023)\" d=\"M1522.76 639.226 L1511.45 634.538 L1506.76 623.226 L1511.45 611.914 L1522.76 607.226 L1534.07 611.914 L1538.76 623.226 L1534.07 634.538 Z\" fill=\"#009af9\" fill-rule=\"evenodd\" fill-opacity=\"1\" stroke=\"#000000\" stroke-opacity=\"1\" stroke-width=\"3.2\"/>\n",
       "<path clip-path=\"url(#clip023)\" d=\"M1591.42 602.077 L1580.11 597.389 L1575.42 586.077 L1580.11 574.765 L1591.42 570.077 L1602.73 574.765 L1607.42 586.077 L1602.73 597.389 Z\" fill=\"#009af9\" fill-rule=\"evenodd\" fill-opacity=\"1\" stroke=\"#000000\" stroke-opacity=\"1\" stroke-width=\"3.2\"/>\n",
       "<path clip-path=\"url(#clip023)\" d=\"M1652.84 554.14 L1641.53 549.452 L1636.84 538.14 L1641.53 526.828 L1652.84 522.14 L1664.15 526.828 L1668.84 538.14 L1664.15 549.452 Z\" fill=\"#009af9\" fill-rule=\"evenodd\" fill-opacity=\"1\" stroke=\"#000000\" stroke-opacity=\"1\" stroke-width=\"3.2\"/>\n",
       "<path clip-path=\"url(#clip023)\" d=\"M1708.4 519.392 L1697.09 514.704 L1692.4 503.392 L1697.09 492.08 L1708.4 487.392 L1719.71 492.08 L1724.4 503.392 L1719.71 514.704 Z\" fill=\"#009af9\" fill-rule=\"evenodd\" fill-opacity=\"1\" stroke=\"#000000\" stroke-opacity=\"1\" stroke-width=\"3.2\"/>\n",
       "<path clip-path=\"url(#clip023)\" d=\"M1759.12 485.994 L1747.81 481.306 L1743.12 469.994 L1747.81 458.682 L1759.12 453.994 L1770.44 458.682 L1775.12 469.994 L1770.44 481.306 Z\" fill=\"#009af9\" fill-rule=\"evenodd\" fill-opacity=\"1\" stroke=\"#000000\" stroke-opacity=\"1\" stroke-width=\"3.2\"/>\n",
       "<path clip-path=\"url(#clip023)\" d=\"M1805.79 412.015 L1794.47 407.327 L1789.79 396.015 L1794.47 384.703 L1805.79 380.015 L1817.1 384.703 L1821.79 396.015 L1817.1 407.327 Z\" fill=\"#009af9\" fill-rule=\"evenodd\" fill-opacity=\"1\" stroke=\"#000000\" stroke-opacity=\"1\" stroke-width=\"3.2\"/>\n",
       "<path clip-path=\"url(#clip023)\" d=\"M1848.99 468.058 L1837.67 463.37 L1832.99 452.058 L1837.67 440.746 L1848.99 436.058 L1860.3 440.746 L1864.99 452.058 L1860.3 463.37 Z\" fill=\"#009af9\" fill-rule=\"evenodd\" fill-opacity=\"1\" stroke=\"#000000\" stroke-opacity=\"1\" stroke-width=\"3.2\"/>\n",
       "<path clip-path=\"url(#clip023)\" d=\"M1889.21 411.286 L1877.89 406.598 L1873.21 395.286 L1877.89 383.974 L1889.21 379.286 L1900.52 383.974 L1905.21 395.286 L1900.52 406.598 Z\" fill=\"#009af9\" fill-rule=\"evenodd\" fill-opacity=\"1\" stroke=\"#000000\" stroke-opacity=\"1\" stroke-width=\"3.2\"/>\n",
       "<path clip-path=\"url(#clip023)\" d=\"M1926.83 418.879 L1915.52 414.191 L1910.83 402.879 L1915.52 391.567 L1926.83 386.879 L1938.14 391.567 L1942.83 402.879 L1938.14 414.191 Z\" fill=\"#009af9\" fill-rule=\"evenodd\" fill-opacity=\"1\" stroke=\"#000000\" stroke-opacity=\"1\" stroke-width=\"3.2\"/>\n",
       "<path clip-path=\"url(#clip023)\" d=\"M1962.17 387.59 L1950.86 382.902 L1946.17 371.59 L1950.86 360.278 L1962.17 355.59 L1973.48 360.278 L1978.17 371.59 L1973.48 382.902 Z\" fill=\"#009af9\" fill-rule=\"evenodd\" fill-opacity=\"1\" stroke=\"#000000\" stroke-opacity=\"1\" stroke-width=\"3.2\"/>\n",
       "<path clip-path=\"url(#clip023)\" d=\"M1995.49 336.248 L1984.18 331.56 L1979.49 320.248 L1984.18 308.936 L1995.49 304.248 L2006.8 308.936 L2011.49 320.248 L2006.8 331.56 Z\" fill=\"#009af9\" fill-rule=\"evenodd\" fill-opacity=\"1\" stroke=\"#000000\" stroke-opacity=\"1\" stroke-width=\"3.2\"/>\n",
       "<path clip-path=\"url(#clip023)\" d=\"M2027.01 352.791 L2015.7 348.103 L2011.01 336.791 L2015.7 325.479 L2027.01 320.791 L2038.32 325.479 L2043.01 336.791 L2038.32 348.103 Z\" fill=\"#009af9\" fill-rule=\"evenodd\" fill-opacity=\"1\" stroke=\"#000000\" stroke-opacity=\"1\" stroke-width=\"3.2\"/>\n",
       "<path clip-path=\"url(#clip023)\" d=\"M2056.91 340.275 L2045.6 335.587 L2040.91 324.275 L2045.6 312.963 L2056.91 308.275 L2068.22 312.963 L2072.91 324.275 L2068.22 335.587 Z\" fill=\"#009af9\" fill-rule=\"evenodd\" fill-opacity=\"1\" stroke=\"#000000\" stroke-opacity=\"1\" stroke-width=\"3.2\"/>\n",
       "<path clip-path=\"url(#clip023)\" d=\"M2085.35 310.734 L2074.04 306.046 L2069.35 294.734 L2074.04 283.422 L2085.35 278.734 L2096.66 283.422 L2101.35 294.734 L2096.66 306.046 Z\" fill=\"#009af9\" fill-rule=\"evenodd\" fill-opacity=\"1\" stroke=\"#000000\" stroke-opacity=\"1\" stroke-width=\"3.2\"/>\n",
       "<path clip-path=\"url(#clip023)\" d=\"M2112.47 295.263 L2101.16 290.575 L2096.47 279.263 L2101.16 267.951 L2112.47 263.263 L2123.78 267.951 L2128.47 279.263 L2123.78 290.575 Z\" fill=\"#009af9\" fill-rule=\"evenodd\" fill-opacity=\"1\" stroke=\"#000000\" stroke-opacity=\"1\" stroke-width=\"3.2\"/>\n",
       "<path clip-path=\"url(#clip023)\" d=\"M2138.38 283.443 L2127.07 278.755 L2122.38 267.443 L2127.07 256.131 L2138.38 251.443 L2149.7 256.131 L2154.38 267.443 L2149.7 278.755 Z\" fill=\"#009af9\" fill-rule=\"evenodd\" fill-opacity=\"1\" stroke=\"#000000\" stroke-opacity=\"1\" stroke-width=\"3.2\"/>\n",
       "<path clip-path=\"url(#clip023)\" d=\"M2163.19 272.773 L2151.88 268.085 L2147.19 256.773 L2151.88 245.461 L2163.19 240.773 L2174.51 245.461 L2179.19 256.773 L2174.51 268.085 Z\" fill=\"#009af9\" fill-rule=\"evenodd\" fill-opacity=\"1\" stroke=\"#000000\" stroke-opacity=\"1\" stroke-width=\"3.2\"/>\n",
       "<path clip-path=\"url(#clip023)\" d=\"M2186.99 259.047 L2175.68 254.359 L2170.99 243.047 L2175.68 231.735 L2186.99 227.047 L2198.3 231.735 L2202.99 243.047 L2198.3 254.359 Z\" fill=\"#009af9\" fill-rule=\"evenodd\" fill-opacity=\"1\" stroke=\"#000000\" stroke-opacity=\"1\" stroke-width=\"3.2\"/>\n",
       "<path clip-path=\"url(#clip023)\" d=\"M2209.85 245.087 L2198.54 240.399 L2193.85 229.087 L2198.54 217.775 L2209.85 213.087 L2221.17 217.775 L2225.85 229.087 L2221.17 240.399 Z\" fill=\"#009af9\" fill-rule=\"evenodd\" fill-opacity=\"1\" stroke=\"#000000\" stroke-opacity=\"1\" stroke-width=\"3.2\"/>\n",
       "<path clip-path=\"url(#clip023)\" d=\"M2231.85 207.022 L2220.54 202.334 L2215.85 191.022 L2220.54 179.71 L2231.85 175.022 L2243.17 179.71 L2247.85 191.022 L2243.17 202.334 Z\" fill=\"#009af9\" fill-rule=\"evenodd\" fill-opacity=\"1\" stroke=\"#000000\" stroke-opacity=\"1\" stroke-width=\"3.2\"/>\n",
       "<path clip-path=\"url(#clip023)\" d=\"M2253.06 193.543 L2241.74 188.855 L2237.06 177.543 L2241.74 166.231 L2253.06 161.543 L2264.37 166.231 L2269.06 177.543 L2264.37 188.855 Z\" fill=\"#009af9\" fill-rule=\"evenodd\" fill-opacity=\"1\" stroke=\"#000000\" stroke-opacity=\"1\" stroke-width=\"3.2\"/>\n",
       "<path clip-path=\"url(#clip023)\" d=\"M2273.51 186.601 L2262.2 181.913 L2257.51 170.601 L2262.2 159.289 L2273.51 154.601 L2284.82 159.289 L2289.51 170.601 L2284.82 181.913 Z\" fill=\"#009af9\" fill-rule=\"evenodd\" fill-opacity=\"1\" stroke=\"#000000\" stroke-opacity=\"1\" stroke-width=\"3.2\"/>\n",
       "<path clip-path=\"url(#clip023)\" d=\"M2293.27 176.695 L2281.96 172.007 L2277.27 160.695 L2281.96 149.383 L2293.27 144.695 L2304.59 149.383 L2309.27 160.695 L2304.59 172.007 Z\" fill=\"#009af9\" fill-rule=\"evenodd\" fill-opacity=\"1\" stroke=\"#000000\" stroke-opacity=\"1\" stroke-width=\"3.2\"/>\n",
       "<polyline clip-path=\"url(#clip023)\" style=\"stroke:#e26f46; stroke-linecap:butt; stroke-linejoin:round; stroke-width:4; stroke-opacity:1; fill:none\" stroke-dasharray=\"16, 10\" points=\"\n",
       "  310.553,1401.45 714.622,1148.59 950.987,1000.68 1118.69,895.733 1248.77,814.33 1355.06,747.819 1444.92,691.585 1522.76,642.872 1591.42,599.905 1652.84,561.469 \n",
       "  1708.4,526.7 1759.12,494.958 1805.79,465.759 1848.99,438.724 1889.21,413.556 1926.83,390.012 1962.17,367.896 1995.49,347.044 2027.01,327.321 2056.91,308.609 \n",
       "  2085.35,290.81 2112.47,273.84 2138.38,257.624 2163.19,242.098 2186.99,227.206 2209.85,212.898 2231.85,199.131 2253.06,185.864 2273.51,173.062 2293.27,160.695 \n",
       "  \n",
       "  \"/>\n",
       "<path clip-path=\"url(#clip020)\" d=\"\n",
       "M321.127 322.832 L677.474 322.832 L677.474 167.312 L321.127 167.312  Z\n",
       "  \" fill=\"#ffffff\" fill-rule=\"evenodd\" fill-opacity=\"1\"/>\n",
       "<polyline clip-path=\"url(#clip020)\" style=\"stroke:#000000; stroke-linecap:butt; stroke-linejoin:round; stroke-width:4; stroke-opacity:1; fill:none\" points=\"\n",
       "  321.127,322.832 677.474,322.832 677.474,167.312 321.127,167.312 321.127,322.832 \n",
       "  \"/>\n",
       "<polyline clip-path=\"url(#clip020)\" style=\"stroke:#009af9; stroke-linecap:butt; stroke-linejoin:round; stroke-width:4; stroke-opacity:1; fill:none\" points=\"\n",
       "  344.479,219.152 484.592,219.152 \n",
       "  \"/>\n",
       "<path clip-path=\"url(#clip020)\" d=\"M414.536 244.752 L396.436 237.251 L388.936 219.152 L396.436 201.053 L414.536 193.552 L432.635 201.053 L440.136 219.152 L432.635 237.251 Z\" fill=\"#009af9\" fill-rule=\"evenodd\" fill-opacity=\"1\" stroke=\"#000000\" stroke-opacity=\"1\" stroke-width=\"5.12\"/>\n",
       "<path clip-path=\"url(#clip020)\" d=\"M526.856 214.442 L526.856 200.414 L531.115 200.414 L531.115 236.432 L526.856 236.432 L526.856 232.543 Q525.513 234.858 523.453 235.992 Q521.416 237.104 518.546 237.104 Q513.847 237.104 510.884 233.354 Q507.944 229.604 507.944 223.493 Q507.944 217.381 510.884 213.631 Q513.847 209.882 518.546 209.882 Q521.416 209.882 523.453 211.016 Q525.513 212.127 526.856 214.442 M512.342 223.493 Q512.342 228.192 514.263 230.877 Q516.208 233.539 519.587 233.539 Q522.967 233.539 524.911 230.877 Q526.856 228.192 526.856 223.493 Q526.856 218.793 524.911 216.131 Q522.967 213.446 519.587 213.446 Q516.208 213.446 514.263 216.131 Q512.342 218.793 512.342 223.493 Z\" fill=\"#000000\" fill-rule=\"evenodd\" fill-opacity=\"1\" /><path clip-path=\"url(#clip020)\" d=\"M551.67 223.4 Q546.508 223.4 544.518 224.581 Q542.527 225.761 542.527 228.608 Q542.527 230.877 544.008 232.219 Q545.513 233.539 548.082 233.539 Q551.624 233.539 553.754 231.039 Q555.907 228.516 555.907 224.349 L555.907 223.4 L551.67 223.4 M560.166 221.641 L560.166 236.432 L555.907 236.432 L555.907 232.497 Q554.448 234.858 552.272 235.992 Q550.096 237.104 546.948 237.104 Q542.967 237.104 540.606 234.881 Q538.268 232.636 538.268 228.886 Q538.268 224.511 541.184 222.289 Q544.124 220.067 549.934 220.067 L555.907 220.067 L555.907 219.65 Q555.907 216.71 553.962 215.113 Q552.041 213.493 548.545 213.493 Q546.323 213.493 544.217 214.025 Q542.11 214.557 540.166 215.622 L540.166 211.687 Q542.504 210.784 544.703 210.344 Q546.902 209.882 548.985 209.882 Q554.61 209.882 557.388 212.798 Q560.166 215.715 560.166 221.641 Z\" fill=\"#000000\" fill-rule=\"evenodd\" fill-opacity=\"1\" /><path clip-path=\"url(#clip020)\" d=\"M573.152 203.145 L573.152 210.507 L581.925 210.507 L581.925 213.817 L573.152 213.817 L573.152 227.891 Q573.152 231.062 574.008 231.965 Q574.888 232.867 577.55 232.867 L581.925 232.867 L581.925 236.432 L577.55 236.432 Q572.619 236.432 570.744 234.604 Q568.869 232.752 568.869 227.891 L568.869 213.817 L565.744 213.817 L565.744 210.507 L568.869 210.507 L568.869 203.145 L573.152 203.145 Z\" fill=\"#000000\" fill-rule=\"evenodd\" fill-opacity=\"1\" /><path clip-path=\"url(#clip020)\" d=\"M599.309 223.4 Q594.147 223.4 592.156 224.581 Q590.166 225.761 590.166 228.608 Q590.166 230.877 591.647 232.219 Q593.152 233.539 595.721 233.539 Q599.263 233.539 601.392 231.039 Q603.545 228.516 603.545 224.349 L603.545 223.4 L599.309 223.4 M607.804 221.641 L607.804 236.432 L603.545 236.432 L603.545 232.497 Q602.087 234.858 599.911 235.992 Q597.735 237.104 594.587 237.104 Q590.605 237.104 588.244 234.881 Q585.906 232.636 585.906 228.886 Q585.906 224.511 588.823 222.289 Q591.763 220.067 597.573 220.067 L603.545 220.067 L603.545 219.65 Q603.545 216.71 601.601 215.113 Q599.679 213.493 596.184 213.493 Q593.962 213.493 591.855 214.025 Q589.749 214.557 587.805 215.622 L587.805 211.687 Q590.142 210.784 592.342 210.344 Q594.541 209.882 596.624 209.882 Q602.249 209.882 605.027 212.798 Q607.804 215.715 607.804 221.641 Z\" fill=\"#000000\" fill-rule=\"evenodd\" fill-opacity=\"1\" /><polyline clip-path=\"url(#clip020)\" style=\"stroke:#e26f46; stroke-linecap:butt; stroke-linejoin:round; stroke-width:4; stroke-opacity:1; fill:none\" stroke-dasharray=\"16, 10\" points=\"\n",
       "  344.479,270.992 484.592,270.992 \n",
       "  \"/>\n",
       "<path clip-path=\"url(#clip020)\" d=\"M541.11 262.749 Q541.11 266.099 539.915 269.424 Q538.744 272.727 536.683 275.444 Q534.622 278.161 531.999 280.269 Q529.375 282.377 526.307 283.548 Q523.239 284.719 520.241 284.719 Q514.924 284.719 511.434 281.229 Q507.944 277.739 507.944 271.907 Q507.944 267.832 509.771 263.78 Q511.598 259.704 514.502 256.683 Q517.406 253.638 521.224 251.741 Q525.066 249.843 528.86 249.843 Q534.247 249.843 537.667 253.427 Q541.11 256.987 541.11 262.749 M536.824 260.875 Q536.824 258.299 536.098 256.355 Q535.372 254.387 534.154 253.263 Q532.959 252.139 531.53 251.6 Q530.125 251.038 528.579 251.038 Q525.581 251.038 522.372 252.982 Q519.163 254.926 516.774 258.533 Q515.486 260.501 514.549 262.866 Q513.612 265.208 513.19 267.293 Q512.769 269.354 512.581 270.806 Q512.418 272.259 512.418 273.266 Q512.418 277.95 514.666 280.714 Q516.915 283.478 520.522 283.478 Q523.356 283.478 526.12 281.815 Q528.883 280.129 530.781 277.716 Q532.467 275.631 533.709 273.125 Q534.973 270.619 535.606 268.324 Q536.238 266.028 536.519 264.178 Q536.824 262.327 536.824 260.875 Z\" fill=\"#000000\" fill-rule=\"evenodd\" fill-opacity=\"1\" /><path clip-path=\"url(#clip020)\" d=\"M544.172 271.673 Q544.172 263.569 547.193 257.034 Q548.482 254.294 550.285 251.998 Q552.089 249.703 553.283 248.696 Q554.478 247.688 554.806 247.688 Q555.274 247.688 555.298 248.157 Q555.298 248.391 554.665 248.977 Q546.936 256.847 546.959 271.673 Q546.959 286.546 554.478 294.112 Q555.298 294.932 555.298 295.189 Q555.298 295.658 554.806 295.658 Q554.478 295.658 553.33 294.697 Q552.182 293.737 550.402 291.535 Q548.622 289.334 547.334 286.64 Q544.172 280.105 544.172 271.673 Z\" fill=\"#000000\" fill-rule=\"evenodd\" fill-opacity=\"1\" /><path clip-path=\"url(#clip020)\" d=\"M588.586 276.803 Q588.586 276.99 588.375 277.716 Q588.165 278.442 587.649 279.566 Q587.158 280.691 586.478 281.721 Q585.799 282.728 584.675 283.478 Q583.574 284.204 582.309 284.204 Q580.623 284.204 579.498 283.08 Q578.374 281.955 578.374 280.269 Q578.374 279.332 578.866 278.044 Q581.981 269.729 581.981 266.871 Q581.981 263.522 579.381 263.522 Q578.093 263.522 576.875 264.014 Q575.681 264.482 574.861 265.138 Q574.041 265.794 573.291 266.707 Q572.565 267.598 572.191 268.207 Q571.839 268.792 571.558 269.378 L570.949 271.767 Q570.809 272.423 570.129 274.976 L569.075 279.309 Q568.326 282.541 568.162 282.846 Q567.928 283.501 567.412 283.853 Q566.897 284.204 566.382 284.204 Q565.796 284.204 565.398 283.853 Q565 283.501 565 282.892 Q565 282.799 565.07 282.447 Q565.14 282.096 565.258 281.604 Q565.375 281.112 565.421 280.831 L568.209 269.752 Q568.724 267.738 568.841 267.106 Q568.982 266.45 568.982 265.724 Q568.982 263.522 567.483 263.522 Q566.265 263.522 565.468 264.974 Q564.672 266.426 563.993 269.237 Q563.782 270.01 563.641 270.174 Q563.524 270.338 563.173 270.338 Q562.587 270.315 562.587 269.846 Q562.587 269.729 562.775 268.956 Q562.962 268.183 563.313 267.082 Q563.688 265.958 564.04 265.208 Q564.344 264.646 564.508 264.389 Q564.695 264.108 565.14 263.569 Q565.609 263.007 566.218 262.749 Q566.85 262.468 567.623 262.468 Q569.356 262.468 570.621 263.592 Q571.886 264.693 572.05 266.637 Q575.165 262.468 579.522 262.468 Q582.098 262.468 583.574 263.827 Q585.049 265.185 585.049 267.598 Q585.049 268.16 584.932 268.886 Q584.839 269.588 584.604 270.479 Q584.394 271.369 584.206 272.048 Q584.019 272.727 583.644 273.828 Q583.269 274.905 583.105 275.374 Q582.941 275.842 582.543 276.943 Q582.169 278.021 582.122 278.138 Q581.255 280.316 581.255 281.557 Q581.255 282.377 581.513 282.752 Q581.794 283.127 582.403 283.127 Q584.042 283.127 585.26 281.51 Q586.502 279.871 587.298 277.201 Q587.485 276.615 587.579 276.475 Q587.696 276.334 588.024 276.334 Q588.586 276.334 588.586 276.803 Z\" fill=\"#000000\" fill-rule=\"evenodd\" fill-opacity=\"1\" /><path clip-path=\"url(#clip020)\" d=\"M593.442 264.067 Q593.442 263.067 594.016 262.592 Q594.589 262.116 595.327 262.116 Q596.098 262.116 596.639 262.625 Q597.196 263.117 597.196 263.985 Q597.196 264.92 596.541 265.445 Q595.901 265.969 594.983 265.838 Q595.786 267.183 597.262 267.789 Q598.754 268.396 600.131 268.396 Q601.574 268.396 602.738 267.15 Q603.919 265.904 603.919 262.854 Q603.919 260.264 602.902 258.772 Q601.902 257.28 599.918 257.28 L598.442 257.28 Q597.934 257.28 597.787 257.23 Q597.639 257.181 597.639 256.903 Q597.639 256.575 598.147 256.509 Q598.656 256.509 599.459 256.411 Q601.41 256.345 602.443 254.656 Q603.378 253.082 603.378 250.836 Q603.378 248.787 602.394 247.934 Q601.426 247.065 600.164 247.065 Q598.983 247.065 597.688 247.557 Q596.393 248.049 595.688 249.147 Q597.77 249.147 597.77 250.836 Q597.77 251.574 597.295 252.066 Q596.836 252.541 596.065 252.541 Q595.327 252.541 594.835 252.082 Q594.344 251.607 594.344 250.803 Q594.344 248.885 596.049 247.557 Q597.77 246.229 600.295 246.229 Q602.787 246.229 604.624 247.541 Q606.476 248.852 606.476 250.869 Q606.476 252.853 605.165 254.476 Q603.853 256.099 601.771 256.771 Q604.329 257.28 605.853 259.018 Q607.378 260.739 607.378 262.854 Q607.378 265.477 605.312 267.412 Q603.246 269.33 600.23 269.33 Q597.442 269.33 595.442 267.822 Q593.442 266.314 593.442 264.067 Z\" fill=\"#000000\" fill-rule=\"evenodd\" fill-opacity=\"1\" /><path clip-path=\"url(#clip020)\" d=\"M612.354 295.189 Q612.354 294.955 612.963 294.369 Q620.692 286.499 620.692 271.673 Q620.692 256.8 613.267 249.281 Q612.354 248.415 612.354 248.157 Q612.354 247.688 612.822 247.688 Q613.15 247.688 614.298 248.649 Q615.469 249.609 617.226 251.811 Q619.006 254.013 620.318 256.706 Q623.48 263.241 623.48 271.673 Q623.48 279.777 620.458 286.312 Q619.17 289.052 617.366 291.348 Q615.563 293.643 614.368 294.65 Q613.174 295.658 612.822 295.658 Q612.354 295.658 612.354 295.189 Z\" fill=\"#000000\" fill-rule=\"evenodd\" fill-opacity=\"1\" /></svg>\n"
      ]
     },
     "execution_count": 9,
     "metadata": {},
     "output_type": "execute_result"
    },
    {
     "name": "stderr",
     "output_type": "stream",
     "text": [
      "┌ Warning: No strict ticks found\n",
      "└ @ PlotUtils /Users/r01235571/.julia/packages/PlotUtils/n4I4Q/src/ticks.jl:295\n",
      "┌ Warning: No strict ticks found\n",
      "└ @ PlotUtils /Users/r01235571/.julia/packages/PlotUtils/n4I4Q/src/ticks.jl:295\n"
     ]
    }
   ],
   "source": [
    "mat_sizes = 200:200:6000;\n",
    "mps = [@elapsed randn(n,n)*randn(n,n) for n in mat_sizes];\n",
    "plot(mat_sizes,mps,m=:o,\n",
    "    xaxis=(:log10,\"\\$n\\$\"),yaxis=(:log10,\"elapsed time (sec)\"),\n",
    "    title=\"Timing of matrix multiplication.\",label=\"data\",leg=false)\n",
    "plot!(mat_sizes,mps[end].*(mat_sizes/mat_sizes[end]).^3,l=:dash,\n",
    "    label=\"\\$O(n^3)\\$\",legend=:topleft)"
   ]
  },
  {
   "cell_type": "markdown",
   "metadata": {
    "slideshow": {
     "slide_type": "slide"
    }
   },
   "source": [
    "The previous plot provides experimental evidence that matrix multiplication is $\\mathcal{O}(n^3)$."
   ]
  },
  {
   "cell_type": "markdown",
   "metadata": {
    "slideshow": {
     "slide_type": "slide"
    }
   },
   "source": [
    "## FLOP Counts for Solving Linear Systems"
   ]
  },
  {
   "cell_type": "markdown",
   "metadata": {
    "slideshow": {
     "slide_type": "slide"
    }
   },
   "source": [
    "We will now examine the FLOP counts for back and forward substitution and LU factorization. We state the results in this notebook and derive them on the board. A very helpful fact that is worth remebering is that\n",
    "\n",
    "$\\sum_{k=1}^{n}k^p \\sim \\frac{n^{p+1}}{p+1} = \\mathcal{O}(n^{p+1}),\\ \\text{as}\\  n\\rightarrow \\infty$.\n",
    "\n",
    "This says that when you add up consecutively the $p$-th powers of the first $n$ positive integers, the result is $\\mathcal{O}(n^{p+1})$. (This formula should remind you of the antiderivative for power functions.)"
   ]
  },
  {
   "cell_type": "markdown",
   "metadata": {
    "slideshow": {
     "slide_type": "slide"
    }
   },
   "source": [
    "**Result:**\n",
    "\n",
    "1) Back and forward substitution are each $\\sim n^2$ FLOPs.\n",
    "\n",
    "2) LU factorization is asymptotic with $\\frac{2}{3}n^3$.\n",
    "\n",
    "3) The cost of solving a system of linear equations using LU factorization together with back and forward substitution is $\\mathcal{O}(n^3)$. (This follows from points 1 and 2.)\n",
    "\n",
    "4) The cost to invert a square matrix is asymptotic with $\\frac{8}{3}n^3$. (This is a homework problem.)"
   ]
  },
  {
   "cell_type": "markdown",
   "metadata": {
    "slideshow": {
     "slide_type": "slide"
    }
   },
   "source": [
    "## Pivoting"
   ]
  },
  {
   "cell_type": "markdown",
   "metadata": {
    "slideshow": {
     "slide_type": "slide"
    }
   },
   "source": [
    "As we have presented LU factorization, there is a stability issue. We will demonstrate this by way of an example. "
   ]
  },
  {
   "cell_type": "code",
   "execution_count": 10,
   "metadata": {
    "slideshow": {
     "slide_type": "slide"
    }
   },
   "outputs": [],
   "source": [
    "A = [2 0 4 3; -2 0 2 -13; 1 15 2 -4.5;-4 5 -7 -10];\n",
    "b = [4,40.0,29,9];"
   ]
  },
  {
   "cell_type": "code",
   "execution_count": 11,
   "metadata": {
    "slideshow": {
     "slide_type": "slide"
    }
   },
   "outputs": [],
   "source": [
    "L,U = MATH361Lectures.lufact(A);"
   ]
  },
  {
   "cell_type": "code",
   "execution_count": 12,
   "metadata": {
    "slideshow": {
     "slide_type": "slide"
    }
   },
   "outputs": [
    {
     "data": {
      "text/plain": [
       "4×4 Matrix{Float64}:\n",
       "  1.0   0.0    0.0  0.0\n",
       " -1.0   1.0    0.0  0.0\n",
       "  0.5  Inf     1.0  0.0\n",
       " -2.0  Inf   NaN    1.0"
      ]
     },
     "execution_count": 12,
     "metadata": {},
     "output_type": "execute_result"
    }
   ],
   "source": [
    "L"
   ]
  },
  {
   "cell_type": "code",
   "execution_count": 13,
   "metadata": {
    "slideshow": {
     "slide_type": "slide"
    }
   },
   "outputs": [
    {
     "data": {
      "text/plain": [
       "4×4 Matrix{Float64}:\n",
       " 2.0  0.0    4.0    3.0\n",
       " 0.0  0.0    6.0  -10.0\n",
       " 0.0  0.0  -Inf    Inf\n",
       " 0.0  0.0    0.0  NaN"
      ]
     },
     "execution_count": 13,
     "metadata": {},
     "output_type": "execute_result"
    }
   ],
   "source": [
    "U"
   ]
  },
  {
   "cell_type": "code",
   "execution_count": 14,
   "metadata": {
    "slideshow": {
     "slide_type": "slide"
    }
   },
   "outputs": [
    {
     "data": {
      "text/plain": [
       "4×4 Matrix{Float64}:\n",
       "   0.0    0.0  NaN  NaN\n",
       "   0.0    0.0  NaN  NaN\n",
       " NaN    NaN    NaN  NaN\n",
       " NaN    NaN    NaN  NaN"
      ]
     },
     "execution_count": 14,
     "metadata": {},
     "output_type": "execute_result"
    }
   ],
   "source": [
    "L*U - A"
   ]
  },
  {
   "cell_type": "markdown",
   "metadata": {
    "slideshow": {
     "slide_type": "slide"
    }
   },
   "source": [
    "**Question:** What has happened here? \n",
    "\n",
    "Notice what happens if we use the Julia backslash operator to try to solve the system $Ax=b$."
   ]
  },
  {
   "cell_type": "code",
   "execution_count": 15,
   "metadata": {
    "slideshow": {
     "slide_type": "slide"
    }
   },
   "outputs": [
    {
     "data": {
      "text/plain": [
       "4-element Vector{Float64}:\n",
       " -3.0000000000000138\n",
       "  1.000000000000001\n",
       "  4.000000000000004\n",
       " -1.9999999999999973"
      ]
     },
     "execution_count": 15,
     "metadata": {},
     "output_type": "execute_result"
    }
   ],
   "source": [
    "x = A\\b"
   ]
  },
  {
   "cell_type": "code",
   "execution_count": 16,
   "metadata": {
    "slideshow": {
     "slide_type": "slide"
    }
   },
   "outputs": [
    {
     "data": {
      "text/plain": [
       "4-element Vector{Float64}:\n",
       "  2.6645352591003757e-15\n",
       "  0.0\n",
       "  0.0\n",
       " -3.552713678800501e-15"
      ]
     },
     "execution_count": 16,
     "metadata": {},
     "output_type": "execute_result"
    }
   ],
   "source": [
    "b - A*x"
   ]
  },
  {
   "cell_type": "markdown",
   "metadata": {
    "slideshow": {
     "slide_type": "slide"
    }
   },
   "source": [
    "The backslash operator solve the system with no problems even though LU facorization fails. Furthermore, look at what happens when we use the `lu` function in the `LinearAlgebra.jl` package: "
   ]
  },
  {
   "cell_type": "code",
   "execution_count": 17,
   "metadata": {
    "slideshow": {
     "slide_type": "slide"
    }
   },
   "outputs": [],
   "source": [
    "L,U = lu(A);"
   ]
  },
  {
   "cell_type": "code",
   "execution_count": 18,
   "metadata": {
    "slideshow": {
     "slide_type": "slide"
    }
   },
   "outputs": [
    {
     "data": {
      "text/plain": [
       "4×4 Matrix{Float64}:\n",
       "  1.0    0.0       0.0        0.0\n",
       " -0.25   1.0       0.0        0.0\n",
       "  0.5   -0.153846  1.0        0.0\n",
       " -0.5    0.153846  0.0833333  1.0"
      ]
     },
     "execution_count": 18,
     "metadata": {},
     "output_type": "execute_result"
    }
   ],
   "source": [
    "L"
   ]
  },
  {
   "cell_type": "code",
   "execution_count": 19,
   "metadata": {
    "slideshow": {
     "slide_type": "slide"
    }
   },
   "outputs": [
    {
     "data": {
      "text/plain": [
       "4×4 Matrix{Float64}:\n",
       " -4.0   5.0   -7.0      -10.0\n",
       "  0.0  16.25   0.25      -7.0\n",
       "  0.0   0.0    5.53846   -9.07692\n",
       "  0.0   0.0    0.0       -0.166667"
      ]
     },
     "execution_count": 19,
     "metadata": {},
     "output_type": "execute_result"
    }
   ],
   "source": [
    "U"
   ]
  },
  {
   "cell_type": "markdown",
   "metadata": {
    "slideshow": {
     "slide_type": "slide"
    }
   },
   "source": [
    "This seems to work but $LU$ does not give back $A$:"
   ]
  },
  {
   "cell_type": "code",
   "execution_count": 20,
   "metadata": {
    "slideshow": {
     "slide_type": "slide"
    }
   },
   "outputs": [
    {
     "data": {
      "text/plain": [
       "4×4 Matrix{Float64}:\n",
       " -4.0   5.0          -7.0  -10.0\n",
       "  1.0  15.0           2.0   -4.5\n",
       " -2.0  -1.38778e-16   2.0  -13.0\n",
       "  2.0   1.38778e-16   4.0    3.0"
      ]
     },
     "execution_count": 20,
     "metadata": {},
     "output_type": "execute_result"
    }
   ],
   "source": [
    "L*U"
   ]
  },
  {
   "cell_type": "code",
   "execution_count": 21,
   "metadata": {
    "slideshow": {
     "slide_type": "slide"
    }
   },
   "outputs": [
    {
     "data": {
      "text/plain": [
       "4×4 Matrix{Float64}:\n",
       "  2.0   0.0   4.0    3.0\n",
       " -2.0   0.0   2.0  -13.0\n",
       "  1.0  15.0   2.0   -4.5\n",
       " -4.0   5.0  -7.0  -10.0"
      ]
     },
     "execution_count": 21,
     "metadata": {},
     "output_type": "execute_result"
    }
   ],
   "source": [
    "A"
   ]
  },
  {
   "cell_type": "markdown",
   "metadata": {
    "slideshow": {
     "slide_type": "slide"
    }
   },
   "source": [
    "$LU$ returns a permuted version of $A$. This is because the `lu` function implements pivoting in order to stabilize the LU factorization. We can see this further as follows:"
   ]
  },
  {
   "cell_type": "code",
   "execution_count": 22,
   "metadata": {
    "slideshow": {
     "slide_type": "slide"
    }
   },
   "outputs": [],
   "source": [
    "L,U,P = lu(A);"
   ]
  },
  {
   "cell_type": "code",
   "execution_count": 23,
   "metadata": {
    "slideshow": {
     "slide_type": "slide"
    }
   },
   "outputs": [
    {
     "data": {
      "text/plain": [
       "4×4 Matrix{Float64}:\n",
       "  1.0    0.0       0.0        0.0\n",
       " -0.25   1.0       0.0        0.0\n",
       "  0.5   -0.153846  1.0        0.0\n",
       " -0.5    0.153846  0.0833333  1.0"
      ]
     },
     "execution_count": 23,
     "metadata": {},
     "output_type": "execute_result"
    }
   ],
   "source": [
    "L"
   ]
  },
  {
   "cell_type": "code",
   "execution_count": 24,
   "metadata": {
    "slideshow": {
     "slide_type": "slide"
    }
   },
   "outputs": [
    {
     "data": {
      "text/plain": [
       "4×4 Matrix{Float64}:\n",
       " -4.0   5.0   -7.0      -10.0\n",
       "  0.0  16.25   0.25      -7.0\n",
       "  0.0   0.0    5.53846   -9.07692\n",
       "  0.0   0.0    0.0       -0.166667"
      ]
     },
     "execution_count": 24,
     "metadata": {},
     "output_type": "execute_result"
    }
   ],
   "source": [
    "U"
   ]
  },
  {
   "cell_type": "code",
   "execution_count": 25,
   "metadata": {
    "slideshow": {
     "slide_type": "slide"
    }
   },
   "outputs": [
    {
     "data": {
      "text/plain": [
       "4-element Vector{Int64}:\n",
       " 4\n",
       " 3\n",
       " 2\n",
       " 1"
      ]
     },
     "execution_count": 25,
     "metadata": {},
     "output_type": "execute_result"
    }
   ],
   "source": [
    "P"
   ]
  },
  {
   "cell_type": "markdown",
   "metadata": {
    "slideshow": {
     "slide_type": "slide"
    }
   },
   "source": [
    "Now observe:"
   ]
  },
  {
   "cell_type": "code",
   "execution_count": 26,
   "metadata": {
    "slideshow": {
     "slide_type": "slide"
    }
   },
   "outputs": [
    {
     "data": {
      "text/plain": [
       "4×4 Matrix{Float64}:\n",
       " -4.0   5.0  -7.0  -10.0\n",
       "  1.0  15.0   2.0   -4.5\n",
       " -2.0   0.0   2.0  -13.0\n",
       "  2.0   0.0   4.0    3.0"
      ]
     },
     "execution_count": 26,
     "metadata": {},
     "output_type": "execute_result"
    }
   ],
   "source": [
    "A[P,:]"
   ]
  },
  {
   "cell_type": "code",
   "execution_count": 27,
   "metadata": {
    "slideshow": {
     "slide_type": "slide"
    }
   },
   "outputs": [
    {
     "data": {
      "text/plain": [
       "4×4 Matrix{Float64}:\n",
       " -4.0   5.0          -7.0  -10.0\n",
       "  1.0  15.0           2.0   -4.5\n",
       " -2.0  -1.38778e-16   2.0  -13.0\n",
       "  2.0   1.38778e-16   4.0    3.0"
      ]
     },
     "execution_count": 27,
     "metadata": {},
     "output_type": "execute_result"
    }
   ],
   "source": [
    "L*U"
   ]
  },
  {
   "cell_type": "markdown",
   "metadata": {
    "slideshow": {
     "slide_type": "slide"
    }
   },
   "source": [
    "In the next lecture we will explain pivoting in more detail. You might want to watch the video lecture on [pivoting](https://www.youtube.com/watch?v=mmoliBMaaQs&list=PLvUvOH0OYx3BcZivtXMIwP6hKoYv0YvGn&index=10&t=3s) before the next lecture. Let's end by seeing how we can use the permuted version of LU factorization to solve a linear system. "
   ]
  },
  {
   "cell_type": "markdown",
   "metadata": {
    "slideshow": {
     "slide_type": "slide"
    }
   },
   "source": [
    "Suppose we want to solve $Ax=b$. LU with pivoting returns a factorization such that $LU=PA$, where $P$ is the appropriate permutation matrix. From this, we can see that $Ax=b \\Rightarrow LU=PAx=Pb$, so we can still apply our forward and back substitution algorithms to permutated LU, we just need to also permute the right hand side vector $b$. Let's see an example. "
   ]
  },
  {
   "cell_type": "code",
   "execution_count": 28,
   "metadata": {
    "slideshow": {
     "slide_type": "slide"
    }
   },
   "outputs": [],
   "source": [
    "A = [2 0 4 3; -2 0 2 -13; 1 15 2 -4.5;-4 5 -7 -10];\n",
    "b = [4,40.0,29,9];"
   ]
  },
  {
   "cell_type": "code",
   "execution_count": 29,
   "metadata": {
    "slideshow": {
     "slide_type": "slide"
    }
   },
   "outputs": [
    {
     "data": {
      "text/plain": [
       "4-element Vector{Float64}:\n",
       " -3.000000000000014\n",
       "  1.0000000000000009\n",
       "  4.000000000000004\n",
       " -1.9999999999999973"
      ]
     },
     "execution_count": 29,
     "metadata": {},
     "output_type": "execute_result"
    }
   ],
   "source": [
    "L,U,P = lu(A);\n",
    "Pb = b[P];\n",
    "y = MATH361Lectures.forwardsub(L,Pb);\n",
    "x = MATH361Lectures.backsub(U,y)"
   ]
  },
  {
   "cell_type": "markdown",
   "metadata": {
    "slideshow": {
     "slide_type": "slide"
    }
   },
   "source": [
    "This should give (approximately) the same result as the backslash operator:"
   ]
  },
  {
   "cell_type": "code",
   "execution_count": 30,
   "metadata": {
    "slideshow": {
     "slide_type": "slide"
    }
   },
   "outputs": [
    {
     "data": {
      "text/plain": [
       "4-element Vector{Float64}:\n",
       " -3.0000000000000138\n",
       "  1.000000000000001\n",
       "  4.000000000000004\n",
       " -1.9999999999999973"
      ]
     },
     "execution_count": 30,
     "metadata": {},
     "output_type": "execute_result"
    }
   ],
   "source": [
    "A\\b"
   ]
  }
 ],
 "metadata": {
  "celltoolbar": "Slideshow",
  "kernelspec": {
   "display_name": "Julia 1.6.2",
   "language": "julia",
   "name": "julia-1.6"
  },
  "language_info": {
   "file_extension": ".jl",
   "mimetype": "application/julia",
   "name": "julia",
   "version": "1.6.2"
  }
 },
 "nbformat": 4,
 "nbformat_minor": 4
}
